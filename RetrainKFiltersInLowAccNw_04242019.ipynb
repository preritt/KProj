{
  "nbformat": 4,
  "nbformat_minor": 0,
  "metadata": {
    "colab": {
      "name": "RetrainKFiltersInLowAccNw_04242019-.ipynb",
      "version": "0.3.2",
      "provenance": [],
      "collapsed_sections": [
        "kdTAcjYec3s7",
        "8rDrYIgZc20A",
        "dQQPlF6RdS2m",
        "Ssi32yj-d1iX",
        "U_0LHS-Xf7aN",
        "MQ5H0p_KjVCw",
        "TEkg52f_HxEg"
      ],
      "toc_visible": true,
      "include_colab_link": true
    },
    "kernelspec": {
      "name": "python3",
      "display_name": "Python 3"
    },
    "accelerator": "GPU"
  },
  "cells": [
    {
      "cell_type": "markdown",
      "metadata": {
        "id": "view-in-github",
        "colab_type": "text"
      },
      "source": [
        "<a href=\"https://colab.research.google.com/github/preritt/KProj/blob/master/RetrainKFiltersInLowAccNw_04242019.ipynb\" target=\"_parent\"><img src=\"https://colab.research.google.com/assets/colab-badge.svg\" alt=\"Open In Colab\"/></a>"
      ]
    },
    {
      "metadata": {
        "id": "kdTAcjYec3s7",
        "colab_type": "text"
      },
      "cell_type": "markdown",
      "source": [
        "## Load standard libraries"
      ]
    },
    {
      "metadata": {
        "id": "oCo6LRTTcxmC",
        "colab_type": "code",
        "colab": {
          "base_uri": "https://localhost:8080/",
          "height": 34
        },
        "outputId": "cf696c45-0e82-40ca-cf41-148e1deb4d75"
      },
      "cell_type": "code",
      "source": [
        "import keras\n",
        "from matplotlib import pyplot as plt\n",
        "import numpy as np\n",
        "import gzip\n",
        "%matplotlib inline\n",
        "from keras.models import Model\n",
        "from keras.optimizers import RMSprop\n",
        "from keras.layers import Input,Dense,Flatten,Dropout,merge,Reshape,Conv2D,MaxPooling2D,UpSampling2D,Conv2DTranspose\n",
        "from keras.layers.normalization import BatchNormalization\n",
        "from keras.models import Model,Sequential\n",
        "from keras.callbacks import ModelCheckpoint\n",
        "from keras.optimizers import Adadelta, RMSprop,SGD,Adam\n",
        "from keras import regularizers\n",
        "from keras import backend as K\n",
        "from keras.utils import to_categorical\n",
        "from keras.datasets import cifar10\n",
        "from sklearn import preprocessing\n",
        "from keras import losses\n",
        "from keras.models import model_from_json\n",
        "import keras\n",
        "from keras.models import Sequential\n",
        "from keras.utils import np_utils\n",
        "from keras.preprocessing.image import ImageDataGenerator\n",
        "from keras.layers import Dense, Activation, Flatten, Dropout, BatchNormalization\n",
        "from keras.layers import Conv2D, MaxPooling2D\n",
        "from keras.datasets import cifar10\n",
        "from keras import regularizers\n",
        "from keras.callbacks import LearningRateScheduler\n",
        "import numpy as np\n",
        "from sklearn.metrics import confusion_matrix\n",
        "from sklearn.model_selection import train_test_split\n",
        "from sklearn.utils import shuffle"
      ],
      "execution_count": 1,
      "outputs": [
        {
          "output_type": "stream",
          "text": [
            "Using TensorFlow backend.\n"
          ],
          "name": "stderr"
        }
      ]
    },
    {
      "metadata": {
        "id": "Sg_ZApCOPN9u",
        "colab_type": "code",
        "colab": {}
      },
      "cell_type": "code",
      "source": [
        "from keras.utils.vis_utils import plot_model\n"
      ],
      "execution_count": 0,
      "outputs": []
    },
    {
      "metadata": {
        "id": "oG3txkjndHWQ",
        "colab_type": "code",
        "colab": {}
      },
      "cell_type": "code",
      "source": [
        "keras.backend.clear_session()"
      ],
      "execution_count": 0,
      "outputs": []
    },
    {
      "metadata": {
        "id": "8rDrYIgZc20A",
        "colab_type": "text"
      },
      "cell_type": "markdown",
      "source": [
        "## Load image data"
      ]
    },
    {
      "metadata": {
        "id": "85Dlxs7adKVS",
        "colab_type": "code",
        "outputId": "02f80abd-382b-4e3e-8618-417e92b5d4a5",
        "colab": {
          "base_uri": "https://localhost:8080/",
          "height": 371
        }
      },
      "cell_type": "code",
      "source": [
        "from matplotlib import pyplot\n",
        "from scipy.misc import toimage\n",
        "from keras.datasets import cifar10\n",
        "def show_imgs(X):\n",
        "    pyplot.figure(1)\n",
        "    k = 0\n",
        "    for i in range(0,4):\n",
        "        for j in range(0,4):\n",
        "            pyplot.subplot2grid((4,4),(i,j))\n",
        "            pyplot.imshow(toimage(X[k]))\n",
        "            k = k+1\n",
        "    # show the plot\n",
        "    pyplot.show()\n",
        " \n",
        "(x_train, y_train), (x_test, y_test) = cifar10.load_data()\n",
        "show_imgs(x_test[:16])\n"
      ],
      "execution_count": 4,
      "outputs": [
        {
          "output_type": "stream",
          "text": [
            "Downloading data from https://www.cs.toronto.edu/~kriz/cifar-10-python.tar.gz\n",
            "170500096/170498071 [==============================] - 4s 0us/step\n"
          ],
          "name": "stdout"
        },
        {
          "output_type": "stream",
          "text": [
            "/usr/local/lib/python3.6/dist-packages/ipykernel_launcher.py:10: DeprecationWarning: `toimage` is deprecated!\n",
            "`toimage` is deprecated in SciPy 1.0.0, and will be removed in 1.2.0.\n",
            "Use Pillow's ``Image.fromarray`` directly instead.\n",
            "  # Remove the CWD from sys.path while we load stuff.\n"
          ],
          "name": "stderr"
        },
        {
          "output_type": "display_data",
          "data": {
            "image/png": "[encoded data removed]",
            "text/plain": [
              "<Figure size 432x288 with 16 Axes>"
            ]
          },
          "metadata": {
            "tags": []
          }
        }
      ]
    },
    {
      "metadata": {
        "id": "dQQPlF6RdS2m",
        "colab_type": "text"
      },
      "cell_type": "markdown",
      "source": [
        "## Create Function to get data corresponding to three labels"
      ]
    },
    {
      "metadata": {
        "id": "GFyk3xzNdYNW",
        "colab_type": "code",
        "colab": {}
      },
      "cell_type": "code",
      "source": [
        "# This function takes the entire traaining data and test data and corresponding categorical label and returns the corresponding data in class indices\n",
        "def getThreeClassesTrainTest(class_indices,train_data,train_labels,test_data,test_labels):\n",
        "  all_train_data = []\n",
        "  all_train_data_label = []\n",
        "  all_test_data = []\n",
        "  all_test_data_label = []\n",
        "  for ind in class_indices:\n",
        "    this_class_location_train =  np.where(train_labels==ind)[0] # train_labels[train_labels == ind]\n",
        "    this_class_data_train = train_data[this_class_location_train,:]\n",
        "    this_class_data_train_label = train_labels[this_class_location_train]\n",
        "#     print(this_class_location_train)\n",
        "    \n",
        "    this_class_location_test = np.where(test_labels==ind)[0] #test_labels[test_labels == ind]\n",
        "    this_class_data_test = test_data[this_class_location_test,:]\n",
        "    this_class_data_test_label = test_labels[this_class_location_test]\n",
        "    \n",
        "    all_train_data.append(this_class_data_train)\n",
        "    all_test_data.append(this_class_data_test)\n",
        "    all_train_data_label.append(this_class_data_train_label)\n",
        "    all_test_data_label.append(this_class_data_test_label)\n",
        "    \n",
        "  train_data_three = all_train_data[0]\n",
        "  train_label_three = all_train_data_label[0]\n",
        "  test_data_three = all_test_data[0]\n",
        "  test_label_three = all_test_data_label[0]\n",
        "  \n",
        "  for j in range(1,len(class_indices)):\n",
        "    train_data_three = np.concatenate((train_data_three,all_train_data[j]))\n",
        "    train_label_three = np.concatenate((train_label_three,all_train_data_label[j]))\n",
        "\n",
        "    test_data_three = np.concatenate((test_data_three,all_test_data[j]))\n",
        "    test_label_three = np.concatenate((test_label_three,all_test_data_label[j]))\n",
        "#   print(train_label_three.shape)\n",
        "  train_label_three = np.reshape(train_label_three,newshape=(-1,))\n",
        "  test_label_three = np.reshape(test_label_three,newshape=(-1,))\n",
        "  return train_data_three, train_label_three, test_data_three,test_label_three"
      ],
      "execution_count": 0,
      "outputs": []
    },
    {
      "metadata": {
        "id": "ex0j41PLde2x",
        "colab_type": "text"
      },
      "cell_type": "markdown",
      "source": [
        "## Get data for three classes using getThreeClassesTrainTest function"
      ]
    },
    {
      "metadata": {
        "id": "IpqbOTfBdhHk",
        "colab_type": "code",
        "colab": {}
      },
      "cell_type": "code",
      "source": [
        "train_three_data,train_three_label,test_three_data,test_three_label = getThreeClassesTrainTest([ 0,3,5 ],x_train,y_train,x_test,y_test)"
      ],
      "execution_count": 0,
      "outputs": []
    },
    {
      "metadata": {
        "id": "9gK_tiIWd2Nf",
        "colab_type": "code",
        "outputId": "a886a48e-88a1-4e86-a7b0-878304fea1d9",
        "colab": {
          "base_uri": "https://localhost:8080/",
          "height": 337
        }
      },
      "cell_type": "code",
      "source": [
        "plt.hist(train_three_label)"
      ],
      "execution_count": 7,
      "outputs": [
        {
          "output_type": "execute_result",
          "data": {
            "text/plain": [
              "(array([5000.,    0.,    0.,    0.,    0.,    0., 5000.,    0.,    0.,\n",
              "        5000.]),\n",
              " array([0. , 0.5, 1. , 1.5, 2. , 2.5, 3. , 3.5, 4. , 4.5, 5. ]),\n",
              " <a list of 10 Patch objects>)"
            ]
          },
          "metadata": {
            "tags": []
          },
          "execution_count": 7
        },
        {
          "output_type": "display_data",
          "data": {
            "image/png": "[encoded data removed]",
            "text/plain": [
              "<Figure size 432x288 with 1 Axes>"
            ]
          },
          "metadata": {
            "tags": []
          }
        }
      ]
    },
    {
      "metadata": {
        "id": "AEYcIMeqd4i1",
        "colab_type": "code",
        "outputId": "15376734-36d9-41cd-9d10-031af5ec747b",
        "colab": {
          "base_uri": "https://localhost:8080/",
          "height": 337
        }
      },
      "cell_type": "code",
      "source": [
        "plt.hist(test_three_label)"
      ],
      "execution_count": 8,
      "outputs": [
        {
          "output_type": "execute_result",
          "data": {
            "text/plain": [
              "(array([1000.,    0.,    0.,    0.,    0.,    0., 1000.,    0.,    0.,\n",
              "        1000.]),\n",
              " array([0. , 0.5, 1. , 1.5, 2. , 2.5, 3. , 3.5, 4. , 4.5, 5. ]),\n",
              " <a list of 10 Patch objects>)"
            ]
          },
          "metadata": {
            "tags": []
          },
          "execution_count": 8
        },
        {
          "output_type": "display_data",
          "data": {
            "image/png": "[encoded data removed]",
            "text/plain": [
              "<Figure size 432x288 with 1 Axes>"
            ]
          },
          "metadata": {
            "tags": []
          }
        }
      ]
    },
    {
      "metadata": {
        "id": "z4n_WiMNd_Hf",
        "colab_type": "code",
        "colab": {}
      },
      "cell_type": "code",
      "source": [
        "train_three_data, train_three_label = shuffle(train_three_data, train_three_label )\n",
        "test_three_data,test_three_label = shuffle(test_three_data,test_three_label )"
      ],
      "execution_count": 0,
      "outputs": []
    },
    {
      "metadata": {
        "id": "VT_AKqQmeBk_",
        "colab_type": "code",
        "colab": {}
      },
      "cell_type": "code",
      "source": [
        "le = preprocessing.LabelEncoder()\n",
        "le.fit_transform(train_three_label)\n",
        "train_three_label_cat = le.transform(train_three_label)\n",
        "test_three_label_cat = le.transform(test_three_label)\n",
        "train_three_label_one_hot = to_categorical(train_three_label_cat)\n",
        "test_three_label_one_hot = to_categorical(test_three_label_cat)"
      ],
      "execution_count": 0,
      "outputs": []
    },
    {
      "metadata": {
        "id": "rWEjK_exeEaJ",
        "colab_type": "code",
        "colab": {}
      },
      "cell_type": "code",
      "source": [
        "# split train data and to create validation data\n",
        "train_X,valid_X,train_ground,valid_ground = train_test_split(train_three_data,\n",
        "                                                             train_three_label_one_hot,\n",
        "                                                             test_size=0.2,\n",
        "                                                             random_state=13)"
      ],
      "execution_count": 0,
      "outputs": []
    },
    {
      "metadata": {
        "id": "mOFKlZWKeH25",
        "colab_type": "code",
        "colab": {}
      },
      "cell_type": "code",
      "source": [
        "num_classes = test_three_label_one_hot.shape[1]"
      ],
      "execution_count": 0,
      "outputs": []
    },
    {
      "metadata": {
        "id": "Ssi32yj-d1iX",
        "colab_type": "text"
      },
      "cell_type": "markdown",
      "source": [
        "## Define the model"
      ]
    },
    {
      "metadata": {
        "id": "uUISHV2weN0t",
        "colab_type": "code",
        "colab": {}
      },
      "cell_type": "code",
      "source": [
        "x, y = 32, 32\n",
        "inChannel = 3\n",
        "input_img = Input(shape = (x, y, inChannel))\n",
        "ep = 10 \n",
        "weight_decay = 1e-4"
      ],
      "execution_count": 0,
      "outputs": []
    },
    {
      "metadata": {
        "id": "Ich0RbYnebwW",
        "colab_type": "code",
        "colab": {}
      },
      "cell_type": "code",
      "source": [
        "def cifar10Classifier(input_img):\n",
        "  \n",
        "  conv1 = (Conv2D(32, (3,3), padding='same', kernel_regularizer=regularizers.l2(weight_decay), input_shape=x_train.shape[1:], activation='elu'))(input_img)\n",
        "  conv1 = BatchNormalization()(conv1)\n",
        "  conv1 = (Conv2D(32, (3,3), padding='same', activation= 'elu',kernel_regularizer=regularizers.l2(weight_decay)))(conv1)\n",
        "  conv1 = BatchNormalization()(conv1)\n",
        "  pool1 = MaxPooling2D(pool_size=(2, 2))(conv1) #14 x 14 x 32\n",
        "  drop1= Dropout(.2)(pool1)\n",
        "\n",
        "  conv2 = (Conv2D(64, (3,3), padding='same', kernel_regularizer=regularizers.l2(weight_decay), activation='elu'))(drop1)\n",
        "  conv2 = BatchNormalization()(conv2)\n",
        "  conv2 = (Conv2D(64, (3,3), padding='same', activation= 'elu',kernel_regularizer=regularizers.l2(weight_decay)))(conv2)\n",
        "  conv2 = BatchNormalization()(conv2)\n",
        "  pool2 = MaxPooling2D(pool_size=(2, 2))(conv2) #14 x 14 x 32\n",
        "  drop2= Dropout(.3)(pool2)\n",
        "\n",
        "  conv3 = (Conv2D(128, (3,3), padding='same', kernel_regularizer=regularizers.l2(weight_decay), activation='elu'))(drop2)\n",
        "  conv3 = BatchNormalization()(conv3)\n",
        "  conv3 = (Conv2D(128, (3,3), padding='same', activation= 'elu',kernel_regularizer=regularizers.l2(weight_decay)))(conv3)\n",
        "  conv3 = BatchNormalization()(conv3)\n",
        "  pool3 = MaxPooling2D(pool_size=(2, 2))(conv3) #14 x 14 x 32\n",
        "  drop3= Dropout(.4)(pool3)\n",
        "\n",
        "  flat = Flatten()(drop3)\n",
        "  out = Dense(num_classes, activation='softmax')(flat)\n",
        "  \n",
        "  return out"
      ],
      "execution_count": 0,
      "outputs": []
    },
    {
      "metadata": {
        "id": "U_0LHS-Xf7aN",
        "colab_type": "text"
      },
      "cell_type": "markdown",
      "source": [
        "## Define functions for calculation of DI score\n",
        "getDIScoreOfLayer(layer_output, true_labels), \n",
        "getDIScoreOfLayerCNNLayer(cnn_outputs, true_labels)\n"
      ]
    },
    {
      "metadata": {
        "id": "xsLk-f7sf6zd",
        "colab_type": "code",
        "colab": {}
      },
      "cell_type": "code",
      "source": [
        "def getDIScoreOfLayer(layer_output, true_labels):\n",
        "  # computeScatterMatrix\n",
        "  rho = 1e-6\n",
        "  mu = layer_output.mean(axis=0)\n",
        "#   print(mu.shape)\n",
        "  mu = mu.reshape((1,-1))\n",
        "  centered_data = layer_output - mu\n",
        "  S_bar = np.matmul(centered_data.T,centered_data)\n",
        "  # compute between class matrix\n",
        "  total_classes = true_labels.max()\n",
        "  S_B = np.zeros(shape = (mu.shape[1],mu.shape[1]))\n",
        "  S_W = np.zeros(shape = (mu.shape[1],mu.shape[1]))\n",
        "  unique_classes = np.unique(true_labels)\n",
        "  unique_classes_list = np.ndarray.tolist(unique_classes)\n",
        "  for l in unique_classes_list:\n",
        "    class_l_index = np.where(true_labels == l)\n",
        "    class_l_output = layer_output[class_l_index[0],:]\n",
        "    mu_l = class_l_output.mean(axis=0)\n",
        "    mu_l = mu_l.reshape((1,-1))\n",
        "    total_examples_this_class = class_l_index[0].shape   \n",
        "    ss = mu_l - mu\n",
        "    S_B = S_B + total_examples_this_class*np.matmul((mu_l - mu).T,(mu_l - mu))\n",
        "\n",
        "  DI_Score = np.trace(np.matmul(np.linalg.inv(S_bar + rho*np.eye(S_bar.shape[0])),S_B))\n",
        "  return DI_Score"
      ],
      "execution_count": 0,
      "outputs": []
    },
    {
      "metadata": {
        "id": "ubrpaIpFgBzn",
        "colab_type": "code",
        "colab": {}
      },
      "cell_type": "code",
      "source": [
        "def getDIScoreOfLayerCNNLayer(cnn_outputs, true_labels):\n",
        "  # computeScatterMatrix\n",
        "  number_of_filters = cnn_outputs.shape[3]\n",
        "  cnn_di_scores = []\n",
        "  for filt in range(0,number_of_filters):\n",
        "    outputs_filter = cnn_outputs[:,:,:,filt]\n",
        "    outputs_filter_reshaped = np.reshape(outputs_filter, newshape=(cnn_outputs.shape[0],-1))\n",
        "    this_filter_score = getDIScoreOfLayer(outputs_filter_reshaped, true_labels)\n",
        "    cnn_di_scores.append(this_filter_score)\n",
        "  return cnn_di_scores"
      ],
      "execution_count": 0,
      "outputs": []
    },
    {
      "metadata": {
        "id": "MQ5H0p_KjVCw",
        "colab_type": "text"
      },
      "cell_type": "markdown",
      "source": [
        "## define a function to get and plot di score of a layer. It takes inputs - trained model, layer name to get DI scores and returns a plot with some statistics"
      ]
    },
    {
      "metadata": {
        "id": "o9MHI1LFjUZs",
        "colab_type": "code",
        "colab": {}
      },
      "cell_type": "code",
      "source": [
        "def createCNNLayerDIScorePlot(trained_model, layer_name, data_to_use = train_three_data , data_label =train_three_label ):\n",
        "  get_cnn1_output_function = K.function([trained_model.layers[0].input],\n",
        "                                  [trained_model.get_layer(layer_name).output])   #get_layer test_three_label\n",
        "  cnn1_output = get_cnn1_output_function([data_to_use])[0]\n",
        "  di_scores = getDIScoreOfLayerCNNLayer(cnn1_output, data_label)\n",
        "  # plot DI score\n",
        "  y_pos  = np.arange(len(di_scores))\n",
        "  plt.bar(y_pos, di_scores, align='center', alpha=0.5)\n",
        "  plt.xlabel('FilterNumber')\n",
        "  plt.ylabel('DI Score')\n",
        "\n",
        "  print('Mean of DI SCore: ',np.mean(di_scores))\n",
        "  print('STD of DI Score: ', np.std(di_scores))\n",
        "  print('MAX of DI Score: ', np.max(di_scores))\n",
        "  plt.title('DI score - Data - D_L, Network -N_L, Conv_6')\n",
        "#   plt.ylim([0,1])\n",
        "  return di_scores"
      ],
      "execution_count": 0,
      "outputs": []
    },
    {
      "metadata": {
        "id": "DCCl7-vOfSZ9",
        "colab_type": "text"
      },
      "cell_type": "markdown",
      "source": [
        "## load pretrained model"
      ]
    },
    {
      "metadata": {
        "id": "jqIkmDGkfRtD",
        "colab_type": "code",
        "outputId": "681581b6-86fe-44a4-c281-7931de64ab82",
        "colab": {
          "base_uri": "https://localhost:8080/",
          "height": 190
        }
      },
      "cell_type": "code",
      "source": [
        "loaded_model_low_accuracy = keras.models.load_model('lowAccuracyModelData.h5')\n",
        "loaded_model_high_accuracy = keras.models.load_model('highAccuracyModelData.h5')\n"
      ],
      "execution_count": 18,
      "outputs": [
        {
          "output_type": "stream",
          "text": [
            "WARNING:tensorflow:From /usr/local/lib/python3.6/dist-packages/tensorflow/python/framework/op_def_library.py:263: colocate_with (from tensorflow.python.framework.ops) is deprecated and will be removed in a future version.\n",
            "Instructions for updating:\n",
            "Colocations handled automatically by placer.\n",
            "WARNING:tensorflow:From /usr/local/lib/python3.6/dist-packages/keras/backend/tensorflow_backend.py:3445: calling dropout (from tensorflow.python.ops.nn_ops) with keep_prob is deprecated and will be removed in a future version.\n",
            "Instructions for updating:\n",
            "Please use `rate` instead of `keep_prob`. Rate should be set to `rate = 1 - keep_prob`.\n",
            "WARNING:tensorflow:From /usr/local/lib/python3.6/dist-packages/tensorflow/python/ops/math_ops.py:3066: to_int32 (from tensorflow.python.ops.math_ops) is deprecated and will be removed in a future version.\n",
            "Instructions for updating:\n",
            "Use tf.cast instead.\n"
          ],
          "name": "stdout"
        }
      ]
    },
    {
      "metadata": {
        "id": "z7J98O5qfi8Z",
        "colab_type": "code",
        "outputId": "0259540a-a43c-4097-9e4b-75018c34a64d",
        "colab": {
          "base_uri": "https://localhost:8080/",
          "height": 34
        }
      },
      "cell_type": "code",
      "source": [
        "loaded_model_low_accuracy.evaluate(valid_X, valid_ground, verbose=0)"
      ],
      "execution_count": 19,
      "outputs": [
        {
          "output_type": "execute_result",
          "data": {
            "text/plain": [
              "[0.3148249708811442, 0.9013333333333333]"
            ]
          },
          "metadata": {
            "tags": []
          },
          "execution_count": 19
        }
      ]
    },
    {
      "metadata": {
        "id": "tzbIXvcEoNMj",
        "colab_type": "code",
        "outputId": "46850c70-439a-4fb7-9256-5db2e06648a8",
        "colab": {
          "base_uri": "https://localhost:8080/",
          "height": 850
        }
      },
      "cell_type": "code",
      "source": [
        "loaded_model_low_accuracy.summary()"
      ],
      "execution_count": 20,
      "outputs": [
        {
          "output_type": "stream",
          "text": [
            "_________________________________________________________________\n",
            "Layer (type)                 Output Shape              Param #   \n",
            "=================================================================\n",
            "input_1 (InputLayer)         (None, 32, 32, 3)         0         \n",
            "_________________________________________________________________\n",
            "conv2d_1 (Conv2D)            (None, 32, 32, 32)        896       \n",
            "_________________________________________________________________\n",
            "batch_normalization_1 (Batch (None, 32, 32, 32)        128       \n",
            "_________________________________________________________________\n",
            "conv2d_2 (Conv2D)            (None, 32, 32, 32)        9248      \n",
            "_________________________________________________________________\n",
            "batch_normalization_2 (Batch (None, 32, 32, 32)        128       \n",
            "_________________________________________________________________\n",
            "max_pooling2d_1 (MaxPooling2 (None, 16, 16, 32)        0         \n",
            "_________________________________________________________________\n",
            "dropout_1 (Dropout)          (None, 16, 16, 32)        0         \n",
            "_________________________________________________________________\n",
            "conv2d_3 (Conv2D)            (None, 16, 16, 64)        18496     \n",
            "_________________________________________________________________\n",
            "batch_normalization_3 (Batch (None, 16, 16, 64)        256       \n",
            "_________________________________________________________________\n",
            "conv2d_4 (Conv2D)            (None, 16, 16, 64)        36928     \n",
            "_________________________________________________________________\n",
            "batch_normalization_4 (Batch (None, 16, 16, 64)        256       \n",
            "_________________________________________________________________\n",
            "max_pooling2d_2 (MaxPooling2 (None, 8, 8, 64)          0         \n",
            "_________________________________________________________________\n",
            "dropout_2 (Dropout)          (None, 8, 8, 64)          0         \n",
            "_________________________________________________________________\n",
            "conv2d_5 (Conv2D)            (None, 8, 8, 128)         73856     \n",
            "_________________________________________________________________\n",
            "batch_normalization_5 (Batch (None, 8, 8, 128)         512       \n",
            "_________________________________________________________________\n",
            "conv2d_6 (Conv2D)            (None, 8, 8, 128)         147584    \n",
            "_________________________________________________________________\n",
            "batch_normalization_6 (Batch (None, 8, 8, 128)         512       \n",
            "_________________________________________________________________\n",
            "max_pooling2d_3 (MaxPooling2 (None, 4, 4, 128)         0         \n",
            "_________________________________________________________________\n",
            "dropout_3 (Dropout)          (None, 4, 4, 128)         0         \n",
            "_________________________________________________________________\n",
            "flatten_1 (Flatten)          (None, 2048)              0         \n",
            "_________________________________________________________________\n",
            "dense_1 (Dense)              (None, 3)                 6147      \n",
            "=================================================================\n",
            "Total params: 294,947\n",
            "Trainable params: 294,051\n",
            "Non-trainable params: 896\n",
            "_________________________________________________________________\n"
          ],
          "name": "stdout"
        }
      ]
    },
    {
      "metadata": {
        "id": "UijDrRL2khSY",
        "colab_type": "text"
      },
      "cell_type": "markdown",
      "source": [
        "## Create a plot for DI score using function createCNNLayerDIScorePlot()"
      ]
    },
    {
      "metadata": {
        "id": "Lyk2-GAGaPnV",
        "colab_type": "text"
      },
      "cell_type": "markdown",
      "source": [
        "#### On train data"
      ]
    },
    {
      "metadata": {
        "id": "zQYh3TElhl5R",
        "colab_type": "code",
        "outputId": "85d64d27-309b-45f8-e479-f13709567af7",
        "colab": {
          "base_uri": "https://localhost:8080/",
          "height": 346
        }
      },
      "cell_type": "code",
      "source": [
        "# now get DI score of a layer from high accuracy and low accuracy model\n",
        "layer_name = 'conv2d_2'\n",
        "discores_low_acc_model = createCNNLayerDIScorePlot(loaded_model_low_accuracy, layer_name)"
      ],
      "execution_count": 24,
      "outputs": [
        {
          "output_type": "stream",
          "text": [
            "Mean of DI SCore:  0.592538716439654\n",
            "STD of DI Score:  0.05669800709739056\n",
            "MAX of DI Score:  0.6699794903938037\n"
          ],
          "name": "stdout"
        },
        {
          "output_type": "display_data",
          "data": {
            "image/png": "[encoded data removed]",
            "text/plain": [
              "<Figure size 432x288 with 1 Axes>"
            ]
          },
          "metadata": {
            "tags": []
          }
        }
      ]
    },
    {
      "metadata": {
        "id": "7B0fFH7NiOh_",
        "colab_type": "code",
        "outputId": "edf6f4e4-53ad-4956-881b-a9eeac564899",
        "colab": {
          "base_uri": "https://localhost:8080/",
          "height": 346
        }
      },
      "cell_type": "code",
      "source": [
        "# now get DI score of a layer from high accuracy and low accuracy model\n",
        "layer_name = 'conv2d_2'\n",
        "\n",
        "discores_high_acc_model = createCNNLayerDIScorePlot(loaded_model_high_accuracy, layer_name)"
      ],
      "execution_count": 25,
      "outputs": [
        {
          "output_type": "stream",
          "text": [
            "Mean of DI SCore:  0.6055425330907889\n",
            "STD of DI Score:  0.04535039121223661\n",
            "MAX of DI Score:  0.7097914021199776\n"
          ],
          "name": "stdout"
        },
        {
          "output_type": "display_data",
          "data": {
            "image/png": "[encoded data removed]",
            "text/plain": [
              "<Figure size 432x288 with 1 Axes>"
            ]
          },
          "metadata": {
            "tags": []
          }
        }
      ]
    },
    {
      "metadata": {
        "id": "EHVud4ykeRn8",
        "colab_type": "text"
      },
      "cell_type": "markdown",
      "source": [
        "## Pick top 10 DI scores"
      ]
    },
    {
      "metadata": {
        "id": "8k5Ob6gWeQ94",
        "colab_type": "code",
        "colab": {}
      },
      "cell_type": "code",
      "source": [
        ""
      ],
      "execution_count": 0,
      "outputs": []
    },
    {
      "metadata": {
        "id": "TyI8gOZuftmZ",
        "colab_type": "code",
        "colab": {}
      },
      "cell_type": "code",
      "source": [
        ""
      ],
      "execution_count": 0,
      "outputs": []
    },
    {
      "metadata": {
        "id": "TjMoET8nasck",
        "colab_type": "text"
      },
      "cell_type": "markdown",
      "source": [
        "#### On validation data"
      ]
    },
    {
      "metadata": {
        "id": "cPKQgmyXbACY",
        "colab_type": "code",
        "colab": {}
      },
      "cell_type": "code",
      "source": [
        "valid_ground_actual = np.argmax(valid_ground, axis=1)\n",
        "# valid_ground_actual.shape\n",
        "# data_to_use = train_three_data , data_label =train_three_label"
      ],
      "execution_count": 0,
      "outputs": []
    },
    {
      "metadata": {
        "id": "nbg5-HKhaxxj",
        "colab_type": "code",
        "outputId": "2c4dc0c4-b55e-45d2-9a9a-2d1329ae7037",
        "colab": {
          "base_uri": "https://localhost:8080/",
          "height": 346
        }
      },
      "cell_type": "code",
      "source": [
        "# now get DI score of a layer from high accuracy and low accuracy model\n",
        "layer_name = 'conv2d_2'\n",
        "discores_low_acc_model_valid = createCNNLayerDIScorePlot(loaded_model_low_accuracy,\n",
        "                                                   layer_name, data_to_use=valid_X, data_label=valid_ground_actual)"
      ],
      "execution_count": 22,
      "outputs": [
        {
          "output_type": "stream",
          "text": [
            "Mean of DI SCore:  1.0296859951832134\n",
            "STD of DI Score:  0.04847415184249125\n",
            "MAX of DI Score:  1.0993894945402056\n"
          ],
          "name": "stdout"
        },
        {
          "output_type": "display_data",
          "data": {
            "image/png": "[encoded data removed]",
            "text/plain": [
              "<Figure size 432x288 with 1 Axes>"
            ]
          },
          "metadata": {
            "tags": []
          }
        }
      ]
    },
    {
      "metadata": {
        "id": "zaH4FbSFaxuc",
        "colab_type": "code",
        "outputId": "2f78cda9-b2ad-437f-9a3d-598b43bfcfa6",
        "colab": {
          "base_uri": "https://localhost:8080/",
          "height": 346
        }
      },
      "cell_type": "code",
      "source": [
        "# now get DI score of a layer from high accuracy and low accuracy model\n",
        "layer_name = 'conv2d_2'\n",
        "\n",
        "discores_high_acc_model_valid = createCNNLayerDIScorePlot(loaded_model_high_accuracy,\n",
        "                                                   layer_name, data_to_use=valid_X, data_label=valid_ground_actual)"
      ],
      "execution_count": 23,
      "outputs": [
        {
          "output_type": "stream",
          "text": [
            "Mean of DI SCore:  1.03532974191529\n",
            "STD of DI Score:  0.034428708141667\n",
            "MAX of DI Score:  1.1047465981900584\n"
          ],
          "name": "stdout"
        },
        {
          "output_type": "display_data",
          "data": {
            "image/png": "[encoded data removed]",
            "text/plain": [
              "<Figure size 432x288 with 1 Axes>"
            ]
          },
          "metadata": {
            "tags": []
          }
        }
      ]
    },
    {
      "metadata": {
        "id": "vMpuiVdSf60g",
        "colab_type": "code",
        "outputId": "a69ba77b-f97e-46a9-b87b-bd3e0cf2c7e1",
        "colab": {
          "base_uri": "https://localhost:8080/",
          "height": 136
        }
      },
      "cell_type": "code",
      "source": [
        "np.sort(discores_high_acc_model)"
      ],
      "execution_count": 26,
      "outputs": [
        {
          "output_type": "execute_result",
          "data": {
            "text/plain": [
              "array([0.50778641, 0.511479  , 0.5316613 , 0.55037117, 0.55231157,\n",
              "       0.55682855, 0.57549005, 0.57892265, 0.58449253, 0.58936282,\n",
              "       0.58980645, 0.5909601 , 0.59923058, 0.60396774, 0.60672543,\n",
              "       0.60815255, 0.60818208, 0.60875922, 0.61246543, 0.61911598,\n",
              "       0.62163509, 0.624852  , 0.62771156, 0.63252857, 0.63514297,\n",
              "       0.63616677, 0.64203043, 0.65381045, 0.65792023, 0.66860569,\n",
              "       0.68109429, 0.7097914 ])"
            ]
          },
          "metadata": {
            "tags": []
          },
          "execution_count": 26
        }
      ]
    },
    {
      "metadata": {
        "id": "UzN_W73aldFU",
        "colab_type": "code",
        "outputId": "e7c1f3e5-c999-4e70-90f7-7b33a339a575",
        "colab": {
          "base_uri": "https://localhost:8080/",
          "height": 34
        }
      },
      "cell_type": "code",
      "source": [
        "\n",
        "# (discores_high_acc_model)\n",
        "K = 10 # how many channels to pick\n",
        "high_acc_di_sorted = np.argsort(discores_high_acc_model)\n",
        "high_acc_di_sorted_list = np.ndarray.tolist(high_acc_di_sorted)\n",
        "top_channels = high_acc_di_sorted_list[-K:]\n",
        "top_channels"
      ],
      "execution_count": 27,
      "outputs": [
        {
          "output_type": "execute_result",
          "data": {
            "text/plain": [
              "[9, 25, 19, 29, 5, 7, 26, 28, 17, 23]"
            ]
          },
          "metadata": {
            "tags": []
          },
          "execution_count": 27
        }
      ]
    },
    {
      "metadata": {
        "id": "-_BDN-T-BaGz",
        "colab_type": "text"
      },
      "cell_type": "markdown",
      "source": [
        "#####  get low accuracy DI channels"
      ]
    },
    {
      "metadata": {
        "id": "Z5DgBrzXCGB8",
        "colab_type": "code",
        "colab": {
          "base_uri": "https://localhost:8080/",
          "height": 561
        },
        "outputId": "1ed2c60b-4fc3-49f6-e737-fe26c981a362"
      },
      "cell_type": "code",
      "source": [
        "discores_low_acc_model"
      ],
      "execution_count": 47,
      "outputs": [
        {
          "output_type": "execute_result",
          "data": {
            "text/plain": [
              "[0.5858273573478441,\n",
              " 0.5874478079750792,\n",
              " 0.6452778486109014,\n",
              " 0.6580204323054684,\n",
              " 0.5473779855318659,\n",
              " 0.615552061783651,\n",
              " 0.6532560852177197,\n",
              " 0.5630026806153653,\n",
              " 0.5694513592373555,\n",
              " 0.5236780403086234,\n",
              " 0.5501723319940057,\n",
              " 0.6262335151846536,\n",
              " 0.5906287558805043,\n",
              " 0.6043973999017265,\n",
              " 0.5702039416945369,\n",
              " 0.6395603265978458,\n",
              " 0.46455118164890347,\n",
              " 0.6699794903938037,\n",
              " 0.6559359987400623,\n",
              " 0.6099729720500606,\n",
              " 0.6443687357840412,\n",
              " 0.5125654868866607,\n",
              " 0.6278858604577928,\n",
              " 0.5211892410967067,\n",
              " 0.6398371297853165,\n",
              " 0.6455057346935362,\n",
              " 0.5846063481651977,\n",
              " 0.4499732662530844,\n",
              " 0.6070254272584635,\n",
              " 0.6422601876301002,\n",
              " 0.6363484711488786,\n",
              " 0.5191454638891722]"
            ]
          },
          "metadata": {
            "tags": []
          },
          "execution_count": 47
        }
      ]
    },
    {
      "metadata": {
        "id": "J5B34pIwCbXN",
        "colab_type": "code",
        "colab": {
          "base_uri": "https://localhost:8080/",
          "height": 286
        },
        "outputId": "688a9a2d-4795-405b-8daf-bf2a17013254"
      },
      "cell_type": "code",
      "source": [
        "plt.plot(discores_low_acc_model,'-*')"
      ],
      "execution_count": 50,
      "outputs": [
        {
          "output_type": "execute_result",
          "data": {
            "text/plain": [
              "[<matplotlib.lines.Line2D at 0x7f01c6e5df60>]"
            ]
          },
          "metadata": {
            "tags": []
          },
          "execution_count": 50
        },
        {
          "output_type": "display_data",
          "data": {
            "image/png": "[encoded data removed]",
            "text/plain": [
              "<Figure size 432x288 with 1 Axes>"
            ]
          },
          "metadata": {
            "tags": []
          }
        }
      ]
    },
    {
      "metadata": {
        "id": "tRrtIpLVBdK4",
        "colab_type": "code",
        "colab": {
          "base_uri": "https://localhost:8080/",
          "height": 34
        },
        "outputId": "e810e5ab-73e1-485a-9a35-350e64113a7a"
      },
      "cell_type": "code",
      "source": [
        "low_acc_di_sorted = np.argsort(discores_low_acc_model)\n",
        "low_acc_di_sorted_list = np.ndarray.tolist(low_acc_di_sorted)\n",
        "low_channels = low_acc_di_sorted_list[0:K]\n",
        "low_channels"
      ],
      "execution_count": 43,
      "outputs": [
        {
          "output_type": "execute_result",
          "data": {
            "text/plain": [
              "[27, 16, 21, 31, 23, 9, 4, 10, 7, 8]"
            ]
          },
          "metadata": {
            "tags": []
          },
          "execution_count": 43
        }
      ]
    },
    {
      "metadata": {
        "id": "SD8nswMnxWVC",
        "colab_type": "code",
        "colab": {}
      },
      "cell_type": "code",
      "source": [
        "total_channels = len(discores_high_acc_model)\n",
        "# total_channels"
      ],
      "execution_count": 0,
      "outputs": []
    },
    {
      "metadata": {
        "id": "MsCtxzRVokuR",
        "colab_type": "code",
        "colab": {}
      },
      "cell_type": "code",
      "source": [
        "disable_training = True"
      ],
      "execution_count": 0,
      "outputs": []
    },
    {
      "metadata": {
        "id": "Sk_0a6JlFux5",
        "colab_type": "code",
        "colab": {}
      },
      "cell_type": "code",
      "source": [
        "# returns \n",
        "def highAccuracyModelTillConv2(input_img): \n",
        "  conv1_1 = (Conv2D(32, (3,3), padding='same',\n",
        "                    kernel_regularizer=regularizers.l2(weight_decay), \n",
        "                    input_shape=x_train.shape[1:], activation='elu', trainable = disable_training,\n",
        "                    name = 'HighAccuracyConv1'))(input_img)\n",
        "  conv1_2 = BatchNormalization(name = 'HighAccuracyBN1',\n",
        "                              trainable = disable_training)(conv1_1)\n",
        "  conv2_1 = (Conv2D(32, (3,3), padding='same', activation= 'elu',trainable = disable_training,\n",
        "                    name = 'HighAccuracyConv2',kernel_regularizer=regularizers.l2(weight_decay)))(conv1_2)\n",
        "#   conv2_2 = BatchNormalization(name = 'HighAccuracyBN2',\n",
        "#                               trainable = disable_training)(conv2_1)  \n",
        "  \n",
        "  return conv2_1"
      ],
      "execution_count": 0,
      "outputs": []
    },
    {
      "metadata": {
        "id": "OA-0pVGXvMeE",
        "colab_type": "code",
        "colab": {}
      },
      "cell_type": "code",
      "source": [
        "from keras.layers import Dense, Concatenate, Input, Lambda\n"
      ],
      "execution_count": 0,
      "outputs": []
    },
    {
      "metadata": {
        "id": "41smOd7GTX5c",
        "colab_type": "code",
        "colab": {}
      },
      "cell_type": "code",
      "source": [
        "import tensorflow as tf\n",
        "def cifar10ClassifierTransfer(input_img, conv2_high):\n",
        "  \n",
        "  # Add additional inputs to \n",
        "  \n",
        "  conv1_1 = (Conv2D(32, (3,3), padding='same',name = 'lowAccuracyModelConv1_1',\n",
        "                    trainable = disable_training, kernel_regularizer=regularizers.l2(weight_decay), input_shape=x_train.shape[1:], activation='elu'))(input_img)\n",
        "  conv1_2 = BatchNormalization(name = 'lowAccuracyModelBN1',\n",
        "                              trainable = disable_training)(conv1_1)\n",
        "  conv2_1 = (Conv2D(32, (3,3), padding='same',name = 'lowAccuracyModelConv2_1',\n",
        "                    trainable = disable_training, activation= 'elu',kernel_regularizer=regularizers.l2(weight_decay)))(conv1_2)\n",
        "#   channels = top_channels\n",
        "#   branch_outputs = []\n",
        "# #   orig_channel = conv2_1\n",
        "#   # create a mask here\n",
        "#   branch_outputs.append(conv2_1)\n",
        "#   for i in channels:\n",
        "#       # Slicing the ith channel:\n",
        "#       out = Lambda(lambda x: x[:,:,:, i])(conv2_high)      \n",
        "#       # Setting up your per-channel layers (replace with actual sub-models):\n",
        "#       layer_out = Lambda(lambda x: keras.backend.expand_dims(x, axis = 3))(out)\n",
        "#       branch_outputs.append(layer_out)\n",
        "#   merged = Concatenate()(branch_outputs)\n",
        "\n",
        "\n",
        "  conv2_2 = BatchNormalization()(conv2_1)\n",
        "  pool2_3 = MaxPooling2D(pool_size=(2, 2))(conv2_2) #14 x 14 x 32\n",
        "  drop2_4= Dropout(.2)(pool2_3)\n",
        "\n",
        "  conv3_1 = (Conv2D(64, (3,3), padding='same', kernel_regularizer=regularizers.l2(weight_decay), activation='elu'))(drop2_4)\n",
        "  conv3_2 = BatchNormalization()(conv3_1)\n",
        "  conv4_1 = (Conv2D(64, (3,3), padding='same', activation= 'elu',kernel_regularizer=regularizers.l2(weight_decay)))(conv3_2)\n",
        "  conv4_2 = BatchNormalization()(conv4_1)\n",
        "  pool4_3 = MaxPooling2D(pool_size=(2, 2))(conv4_2) #14 x 14 x 32\n",
        "  drop4_4= Dropout(.3)(pool4_3)\n",
        "\n",
        "  conv5_1 = (Conv2D(128, (3,3), padding='same', kernel_regularizer=regularizers.l2(weight_decay), activation='elu'))(drop4_4)\n",
        "  conv5_2 = BatchNormalization()(conv5_1)\n",
        "  conv6_1 = (Conv2D(128, (3,3), padding='same', activation= 'elu',kernel_regularizer=regularizers.l2(weight_decay)))(conv5_2)\n",
        "  conv6_2 = BatchNormalization()(conv6_1)\n",
        "  pool6_3 = MaxPooling2D(pool_size=(2, 2))(conv6_2) #14 x 14 x 32\n",
        "  drop6_4= Dropout(.4)(pool6_3)\n",
        "\n",
        "  flat = Flatten()(drop6_4)\n",
        "  out = Dense(num_classes, activation='softmax')(flat)\n",
        "  \n",
        "  return out"
      ],
      "execution_count": 0,
      "outputs": []
    },
    {
      "metadata": {
        "id": "sf3PN5YIyba2",
        "colab_type": "code",
        "outputId": "1b42657e-33a5-409c-cd7b-d8eea677aaf4",
        "colab": {
          "base_uri": "https://localhost:8080/",
          "height": 34
        }
      },
      "cell_type": "code",
      "source": [
        "top_channels"
      ],
      "execution_count": 36,
      "outputs": [
        {
          "output_type": "execute_result",
          "data": {
            "text/plain": [
              "[9, 25, 19, 29, 5, 7, 26, 28, 17, 23]"
            ]
          },
          "metadata": {
            "tags": []
          },
          "execution_count": 36
        }
      ]
    },
    {
      "metadata": {
        "id": "fzUmKtVGFusU",
        "colab_type": "code",
        "outputId": "c1fe9536-d90c-4bde-9dd6-b11f7ae757aa",
        "colab": {
          "base_uri": "https://localhost:8080/",
          "height": 850
        }
      },
      "cell_type": "code",
      "source": [
        "high_acc_output = highAccuracyModelTillConv2(input_img)\n",
        "modelFilt = Model(input_img, \n",
        "              cifar10ClassifierTransfer(input_img,\n",
        "              high_acc_output))\n",
        "#data augmentation\n",
        "datagen = ImageDataGenerator(\n",
        "    rotation_range=15,\n",
        "    width_shift_range=0.1,\n",
        "    height_shift_range=0.1,\n",
        "    horizontal_flip=True,\n",
        "    )\n",
        "datagen.fit(train_three_data)\n",
        " \n",
        "#training\n",
        "batch_size = 64\n",
        " \n",
        "opt_rms = keras.optimizers.rmsprop(lr=0.001,decay=1e-6)\n",
        "# model.compile(loss='categorical_crossentropy', optimizer=opt_rms, metrics=['accuracy'])\n",
        "\n",
        "modelFilt.compile(loss=losses.categorical_crossentropy, optimizer=opt_rms, metrics=['accuracy'])\n",
        "\n",
        "modelFilt.summary()\n",
        " "
      ],
      "execution_count": 37,
      "outputs": [
        {
          "output_type": "stream",
          "text": [
            "_________________________________________________________________\n",
            "Layer (type)                 Output Shape              Param #   \n",
            "=================================================================\n",
            "input_1 (InputLayer)         (None, 32, 32, 3)         0         \n",
            "_________________________________________________________________\n",
            "lowAccuracyModelConv1_1 (Con (None, 32, 32, 32)        896       \n",
            "_________________________________________________________________\n",
            "lowAccuracyModelBN1 (BatchNo (None, 32, 32, 32)        128       \n",
            "_________________________________________________________________\n",
            "lowAccuracyModelConv2_1 (Con (None, 32, 32, 32)        9248      \n",
            "_________________________________________________________________\n",
            "batch_normalization_2 (Batch (None, 32, 32, 32)        128       \n",
            "_________________________________________________________________\n",
            "max_pooling2d_1 (MaxPooling2 (None, 16, 16, 32)        0         \n",
            "_________________________________________________________________\n",
            "dropout_1 (Dropout)          (None, 16, 16, 32)        0         \n",
            "_________________________________________________________________\n",
            "conv2d_1 (Conv2D)            (None, 16, 16, 64)        18496     \n",
            "_________________________________________________________________\n",
            "batch_normalization_3 (Batch (None, 16, 16, 64)        256       \n",
            "_________________________________________________________________\n",
            "conv2d_2 (Conv2D)            (None, 16, 16, 64)        36928     \n",
            "_________________________________________________________________\n",
            "batch_normalization_4 (Batch (None, 16, 16, 64)        256       \n",
            "_________________________________________________________________\n",
            "max_pooling2d_2 (MaxPooling2 (None, 8, 8, 64)          0         \n",
            "_________________________________________________________________\n",
            "dropout_2 (Dropout)          (None, 8, 8, 64)          0         \n",
            "_________________________________________________________________\n",
            "conv2d_3 (Conv2D)            (None, 8, 8, 128)         73856     \n",
            "_________________________________________________________________\n",
            "batch_normalization_5 (Batch (None, 8, 8, 128)         512       \n",
            "_________________________________________________________________\n",
            "conv2d_4 (Conv2D)            (None, 8, 8, 128)         147584    \n",
            "_________________________________________________________________\n",
            "batch_normalization_6 (Batch (None, 8, 8, 128)         512       \n",
            "_________________________________________________________________\n",
            "max_pooling2d_3 (MaxPooling2 (None, 4, 4, 128)         0         \n",
            "_________________________________________________________________\n",
            "dropout_3 (Dropout)          (None, 4, 4, 128)         0         \n",
            "_________________________________________________________________\n",
            "flatten_1 (Flatten)          (None, 2048)              0         \n",
            "_________________________________________________________________\n",
            "dense_1 (Dense)              (None, 3)                 6147      \n",
            "=================================================================\n",
            "Total params: 294,947\n",
            "Trainable params: 294,051\n",
            "Non-trainable params: 896\n",
            "_________________________________________________________________\n"
          ],
          "name": "stdout"
        }
      ]
    },
    {
      "metadata": {
        "id": "WE7b72OOFups",
        "colab_type": "code",
        "colab": {}
      },
      "cell_type": "code",
      "source": [
        "plot_model(modelFilt, to_file=\"FiltModel.png\", show_shapes=True, show_layer_names=True)"
      ],
      "execution_count": 0,
      "outputs": []
    },
    {
      "metadata": {
        "id": "_lY9fuSspeIA",
        "colab_type": "code",
        "outputId": "690ac1ea-163a-4d74-c49e-64a88cfa0ff0",
        "colab": {
          "base_uri": "https://localhost:8080/",
          "height": 850
        }
      },
      "cell_type": "code",
      "source": [
        "# set weights again\n",
        "loaded_model_low_accuracy.summary()"
      ],
      "execution_count": 39,
      "outputs": [
        {
          "output_type": "stream",
          "text": [
            "_________________________________________________________________\n",
            "Layer (type)                 Output Shape              Param #   \n",
            "=================================================================\n",
            "input_1 (InputLayer)         (None, 32, 32, 3)         0         \n",
            "_________________________________________________________________\n",
            "conv2d_1 (Conv2D)            (None, 32, 32, 32)        896       \n",
            "_________________________________________________________________\n",
            "batch_normalization_1 (Batch (None, 32, 32, 32)        128       \n",
            "_________________________________________________________________\n",
            "conv2d_2 (Conv2D)            (None, 32, 32, 32)        9248      \n",
            "_________________________________________________________________\n",
            "batch_normalization_2 (Batch (None, 32, 32, 32)        128       \n",
            "_________________________________________________________________\n",
            "max_pooling2d_1 (MaxPooling2 (None, 16, 16, 32)        0         \n",
            "_________________________________________________________________\n",
            "dropout_1 (Dropout)          (None, 16, 16, 32)        0         \n",
            "_________________________________________________________________\n",
            "conv2d_3 (Conv2D)            (None, 16, 16, 64)        18496     \n",
            "_________________________________________________________________\n",
            "batch_normalization_3 (Batch (None, 16, 16, 64)        256       \n",
            "_________________________________________________________________\n",
            "conv2d_4 (Conv2D)            (None, 16, 16, 64)        36928     \n",
            "_________________________________________________________________\n",
            "batch_normalization_4 (Batch (None, 16, 16, 64)        256       \n",
            "_________________________________________________________________\n",
            "max_pooling2d_2 (MaxPooling2 (None, 8, 8, 64)          0         \n",
            "_________________________________________________________________\n",
            "dropout_2 (Dropout)          (None, 8, 8, 64)          0         \n",
            "_________________________________________________________________\n",
            "conv2d_5 (Conv2D)            (None, 8, 8, 128)         73856     \n",
            "_________________________________________________________________\n",
            "batch_normalization_5 (Batch (None, 8, 8, 128)         512       \n",
            "_________________________________________________________________\n",
            "conv2d_6 (Conv2D)            (None, 8, 8, 128)         147584    \n",
            "_________________________________________________________________\n",
            "batch_normalization_6 (Batch (None, 8, 8, 128)         512       \n",
            "_________________________________________________________________\n",
            "max_pooling2d_3 (MaxPooling2 (None, 4, 4, 128)         0         \n",
            "_________________________________________________________________\n",
            "dropout_3 (Dropout)          (None, 4, 4, 128)         0         \n",
            "_________________________________________________________________\n",
            "flatten_1 (Flatten)          (None, 2048)              0         \n",
            "_________________________________________________________________\n",
            "dense_1 (Dense)              (None, 3)                 6147      \n",
            "=================================================================\n",
            "Total params: 294,947\n",
            "Trainable params: 294,051\n",
            "Non-trainable params: 896\n",
            "_________________________________________________________________\n"
          ],
          "name": "stdout"
        }
      ]
    },
    {
      "metadata": {
        "id": "5-yqdp6_rQkI",
        "colab_type": "code",
        "outputId": "b72f23cf-eab4-440b-ca68-fc6771cf681c",
        "colab": {
          "base_uri": "https://localhost:8080/",
          "height": 850
        }
      },
      "cell_type": "code",
      "source": [
        "loaded_model_high_accuracy.summary()"
      ],
      "execution_count": 40,
      "outputs": [
        {
          "output_type": "stream",
          "text": [
            "_________________________________________________________________\n",
            "Layer (type)                 Output Shape              Param #   \n",
            "=================================================================\n",
            "input_1 (InputLayer)         (None, 32, 32, 3)         0         \n",
            "_________________________________________________________________\n",
            "conv2d_1 (Conv2D)            (None, 32, 32, 32)        896       \n",
            "_________________________________________________________________\n",
            "batch_normalization_1 (Batch (None, 32, 32, 32)        128       \n",
            "_________________________________________________________________\n",
            "conv2d_2 (Conv2D)            (None, 32, 32, 32)        9248      \n",
            "_________________________________________________________________\n",
            "batch_normalization_2 (Batch (None, 32, 32, 32)        128       \n",
            "_________________________________________________________________\n",
            "max_pooling2d_1 (MaxPooling2 (None, 16, 16, 32)        0         \n",
            "_________________________________________________________________\n",
            "dropout_1 (Dropout)          (None, 16, 16, 32)        0         \n",
            "_________________________________________________________________\n",
            "conv2d_3 (Conv2D)            (None, 16, 16, 64)        18496     \n",
            "_________________________________________________________________\n",
            "batch_normalization_3 (Batch (None, 16, 16, 64)        256       \n",
            "_________________________________________________________________\n",
            "conv2d_4 (Conv2D)            (None, 16, 16, 64)        36928     \n",
            "_________________________________________________________________\n",
            "batch_normalization_4 (Batch (None, 16, 16, 64)        256       \n",
            "_________________________________________________________________\n",
            "max_pooling2d_2 (MaxPooling2 (None, 8, 8, 64)          0         \n",
            "_________________________________________________________________\n",
            "dropout_2 (Dropout)          (None, 8, 8, 64)          0         \n",
            "_________________________________________________________________\n",
            "conv2d_5 (Conv2D)            (None, 8, 8, 128)         73856     \n",
            "_________________________________________________________________\n",
            "batch_normalization_5 (Batch (None, 8, 8, 128)         512       \n",
            "_________________________________________________________________\n",
            "conv2d_6 (Conv2D)            (None, 8, 8, 128)         147584    \n",
            "_________________________________________________________________\n",
            "batch_normalization_6 (Batch (None, 8, 8, 128)         512       \n",
            "_________________________________________________________________\n",
            "max_pooling2d_3 (MaxPooling2 (None, 4, 4, 128)         0         \n",
            "_________________________________________________________________\n",
            "dropout_3 (Dropout)          (None, 4, 4, 128)         0         \n",
            "_________________________________________________________________\n",
            "flatten_1 (Flatten)          (None, 2048)              0         \n",
            "_________________________________________________________________\n",
            "dense_1 (Dense)              (None, 3)                 6147      \n",
            "=================================================================\n",
            "Total params: 294,947\n",
            "Trainable params: 294,051\n",
            "Non-trainable params: 896\n",
            "_________________________________________________________________\n"
          ],
          "name": "stdout"
        }
      ]
    },
    {
      "metadata": {
        "id": "8GkUnIIAqH0k",
        "colab_type": "text"
      },
      "cell_type": "markdown",
      "source": [
        "## set predetermined weights"
      ]
    },
    {
      "metadata": {
        "id": "nKVw7k8QLwoQ",
        "colab_type": "code",
        "outputId": "eba582e6-4706-4f17-9bd2-5e98b46e2c23",
        "colab": {
          "base_uri": "https://localhost:8080/",
          "height": 34
        }
      },
      "cell_type": "code",
      "source": [
        "top_channels"
      ],
      "execution_count": 41,
      "outputs": [
        {
          "output_type": "execute_result",
          "data": {
            "text/plain": [
              "[9, 25, 19, 29, 5, 7, 26, 28, 17, 23]"
            ]
          },
          "metadata": {
            "tags": []
          },
          "execution_count": 41
        }
      ]
    },
    {
      "metadata": {
        "id": "5hWcRyTNtaXW",
        "colab_type": "code",
        "outputId": "5ef66612-c3a5-4a04-83a9-175763db9f2c",
        "colab": {
          "base_uri": "https://localhost:8080/",
          "height": 34
        }
      },
      "cell_type": "code",
      "source": [
        "top_channels"
      ],
      "execution_count": 42,
      "outputs": [
        {
          "output_type": "execute_result",
          "data": {
            "text/plain": [
              "[9, 25, 19, 29, 5, 7, 26, 28, 17, 23]"
            ]
          },
          "metadata": {
            "tags": []
          },
          "execution_count": 42
        }
      ]
    },
    {
      "metadata": {
        "id": "JhmWPU7RA9N3",
        "colab_type": "text"
      },
      "cell_type": "markdown",
      "source": [
        "#### # get low accuracy DI channel - stored in low_channels\n",
        "\n",
        "```\n",
        "# This is formatted as code\n",
        "```\n",
        "\n",
        "s"
      ]
    },
    {
      "metadata": {
        "id": "mL5R24pGA9KP",
        "colab_type": "text"
      },
      "cell_type": "markdown",
      "source": [
        ""
      ]
    },
    {
      "metadata": {
        "id": "H0JBUK8KA26B",
        "colab_type": "code",
        "colab": {
          "base_uri": "https://localhost:8080/",
          "height": 34
        },
        "outputId": "e45993e4-b0b9-42a5-b340-25403c9e7ffe"
      },
      "cell_type": "code",
      "source": [
        "\n",
        "loaded_model_high_accuracy.get_layer('conv2d_2').get_weights()[0].shape"
      ],
      "execution_count": 52,
      "outputs": [
        {
          "output_type": "execute_result",
          "data": {
            "text/plain": [
              "(3, 3, 32, 32)"
            ]
          },
          "metadata": {
            "tags": []
          },
          "execution_count": 52
        }
      ]
    },
    {
      "metadata": {
        "id": "PmS9J6gmDFIL",
        "colab_type": "text"
      },
      "cell_type": "markdown",
      "source": [
        "## Get filter weights for top 10 DI scores"
      ]
    },
    {
      "metadata": {
        "id": "t0FN66utr5VE",
        "colab_type": "code",
        "colab": {}
      },
      "cell_type": "code",
      "source": [
        "# set weights of high accuracy model for channels not used to 0 [9, 25, 19, 29, 5, 7, 26, 28, 17, 23]\n",
        "high_acc_conv2_weights = loaded_model_high_accuracy.get_layer('conv2d_2').get_weights()\n",
        "# temp_weights = np.zeros_like(high_acc_conv2_weights[0].shape[0])\n",
        "temp_weights_top_10_DI = np.zeros(shape = (high_acc_conv2_weights[0].shape[0],high_acc_conv2_weights[0].shape[1],high_acc_conv2_weights[0].shape[2],K))\n",
        "h,w,d,n = high_acc_conv2_weights[0].shape\n",
        "j = 0\n",
        "for ch in range(0,n):\n",
        "  if ch in top_channels:\n",
        "    temp_weights_top_10_DI[:,:,:,j] = high_acc_conv2_weights[0][:,:,:,ch]\n",
        "    j = j+1\n",
        "    \n",
        "  \n",
        "# (high_acc_conv2_weights[0].shape)"
      ],
      "execution_count": 0,
      "outputs": []
    },
    {
      "metadata": {
        "id": "bF9DJY3BD6Wf",
        "colab_type": "code",
        "colab": {
          "base_uri": "https://localhost:8080/",
          "height": 34
        },
        "outputId": "90768155-8f60-42d2-8a3c-ec2c1039d6f3"
      },
      "cell_type": "code",
      "source": [
        "temp_weights_top_10_DI.shape"
      ],
      "execution_count": 54,
      "outputs": [
        {
          "output_type": "execute_result",
          "data": {
            "text/plain": [
              "(3, 3, 32, 10)"
            ]
          },
          "metadata": {
            "tags": []
          },
          "execution_count": 54
        }
      ]
    },
    {
      "metadata": {
        "id": "8lR-sOsQD6UV",
        "colab_type": "code",
        "colab": {
          "base_uri": "https://localhost:8080/",
          "height": 34
        },
        "outputId": "3696c4cc-7961-4d4a-fc83-edc1ffc8db92"
      },
      "cell_type": "code",
      "source": [
        "top_channels"
      ],
      "execution_count": 60,
      "outputs": [
        {
          "output_type": "execute_result",
          "data": {
            "text/plain": [
              "[9, 25, 19, 29, 5, 7, 26, 28, 17, 23]"
            ]
          },
          "metadata": {
            "tags": []
          },
          "execution_count": 60
        }
      ]
    },
    {
      "metadata": {
        "id": "Esv5wQmYFby6",
        "colab_type": "code",
        "colab": {}
      },
      "cell_type": "code",
      "source": [
        "temp_bias_top_10_DI = np.zeros(shape = (10,))\n",
        "# temp_bias = high_acc_conv2_weights[1]\n",
        "\n",
        "# bias_shape = high_acc_conv2_weights[1].shape\n",
        "j = 0\n",
        "for ch in range(0,high_acc_conv2_weights[1].shape[0]):\n",
        "#   print (ch)\n",
        "  if ch in top_channels:\n",
        "    temp_bias_top_10_DI[j] = high_acc_conv2_weights[1][ch]\n",
        "    j = j+1"
      ],
      "execution_count": 0,
      "outputs": []
    },
    {
      "metadata": {
        "id": "HPV28w1jFulD",
        "colab_type": "code",
        "colab": {}
      },
      "cell_type": "code",
      "source": [
        "# temp_bias\n",
        "weights_to_assign_fromHighAcc = [temp_weights_top_10_DI,temp_bias_top_10_DI]"
      ],
      "execution_count": 0,
      "outputs": []
    },
    {
      "metadata": {
        "id": "2pYigm1qFJmK",
        "colab_type": "code",
        "outputId": "81ddbb03-cd6d-41d5-abb7-7b84f76ae808",
        "colab": {
          "base_uri": "https://localhost:8080/",
          "height": 34
        }
      },
      "cell_type": "code",
      "source": [
        "temp_weights_top_10_DI.shape"
      ],
      "execution_count": 67,
      "outputs": [
        {
          "output_type": "execute_result",
          "data": {
            "text/plain": [
              "(3, 3, 32, 10)"
            ]
          },
          "metadata": {
            "tags": []
          },
          "execution_count": 67
        }
      ]
    },
    {
      "metadata": {
        "id": "f1t2Yj3-E01G",
        "colab_type": "code",
        "outputId": "2166842f-9799-4bb0-b326-9ae186c566fd",
        "colab": {
          "base_uri": "https://localhost:8080/",
          "height": 34
        }
      },
      "cell_type": "code",
      "source": [
        "high_acc_conv2_weights[1].shape"
      ],
      "execution_count": 68,
      "outputs": [
        {
          "output_type": "execute_result",
          "data": {
            "text/plain": [
              "(32,)"
            ]
          },
          "metadata": {
            "tags": []
          },
          "execution_count": 68
        }
      ]
    },
    {
      "metadata": {
        "id": "Q1qLv08GEv5Q",
        "colab_type": "code",
        "colab": {}
      },
      "cell_type": "code",
      "source": [
        "# temp_weights[:,:,:,11]\n",
        "# modelFilt.get_layer('lowAccuracyModelConv1_1')"
      ],
      "execution_count": 0,
      "outputs": []
    },
    {
      "metadata": {
        "id": "5AS3DZGUqNw1",
        "colab_type": "code",
        "colab": {}
      },
      "cell_type": "code",
      "source": [
        "# modelFilt.get_layer('HighAccuracyConv1').set_weights(loaded_model_high_accuracy.get_layer('conv2d_1').get_weights())\n",
        "# modelFilt.get_layer('HighAccuracyBN1').set_weights(loaded_model_high_accuracy.get_layer('batch_normalization_1').get_weights())\n",
        "# # modelFilt.get_layer('HighAccuracyConv2').set_weights(loaded_model_high_accuracy.get_layer('conv2d_2').get_weights())\n",
        "# modelFilt.get_layer('HighAccuracyConv2').set_weights(weights_to_assign)\n"
      ],
      "execution_count": 0,
      "outputs": []
    },
    {
      "metadata": {
        "id": "hQKKEkR2F-tx",
        "colab_type": "code",
        "colab": {}
      },
      "cell_type": "code",
      "source": [
        "modelFilt.get_layer('lowAccuracyModelConv1_1').set_weights(loaded_model_low_accuracy.get_layer('conv2d_1').get_weights())\n",
        "modelFilt.get_layer('lowAccuracyModelBN1').set_weights(loaded_model_low_accuracy.get_layer('batch_normalization_1').get_weights())\n",
        "# modelFilt.get_layer('HighAccuracyConv2').set_weights(loaded_model_high_accuracy.get_layer('conv2d_2').get_weights())\n",
        "modelFilt.get_layer('lowAccuracyModelConv2_1').set_weights(loaded_model_low_accuracy.get_layer('conv2d_2').get_weights())"
      ],
      "execution_count": 0,
      "outputs": []
    },
    {
      "metadata": {
        "id": "knA2xBI4jrZF",
        "colab_type": "code",
        "outputId": "2f9a6a66-f5fd-4b93-c6fa-27d843f2fcad",
        "colab": {
          "base_uri": "https://localhost:8080/",
          "height": 850
        }
      },
      "cell_type": "code",
      "source": [
        "loaded_model_low_accuracy.summary()"
      ],
      "execution_count": 0,
      "outputs": [
        {
          "output_type": "stream",
          "text": [
            "_________________________________________________________________\n",
            "Layer (type)                 Output Shape              Param #   \n",
            "=================================================================\n",
            "input_1 (InputLayer)         (None, 32, 32, 3)         0         \n",
            "_________________________________________________________________\n",
            "conv2d_1 (Conv2D)            (None, 32, 32, 32)        896       \n",
            "_________________________________________________________________\n",
            "batch_normalization_1 (Batch (None, 32, 32, 32)        128       \n",
            "_________________________________________________________________\n",
            "conv2d_2 (Conv2D)            (None, 32, 32, 32)        9248      \n",
            "_________________________________________________________________\n",
            "batch_normalization_2 (Batch (None, 32, 32, 32)        128       \n",
            "_________________________________________________________________\n",
            "max_pooling2d_1 (MaxPooling2 (None, 16, 16, 32)        0         \n",
            "_________________________________________________________________\n",
            "dropout_1 (Dropout)          (None, 16, 16, 32)        0         \n",
            "_________________________________________________________________\n",
            "conv2d_3 (Conv2D)            (None, 16, 16, 64)        18496     \n",
            "_________________________________________________________________\n",
            "batch_normalization_3 (Batch (None, 16, 16, 64)        256       \n",
            "_________________________________________________________________\n",
            "conv2d_4 (Conv2D)            (None, 16, 16, 64)        36928     \n",
            "_________________________________________________________________\n",
            "batch_normalization_4 (Batch (None, 16, 16, 64)        256       \n",
            "_________________________________________________________________\n",
            "max_pooling2d_2 (MaxPooling2 (None, 8, 8, 64)          0         \n",
            "_________________________________________________________________\n",
            "dropout_2 (Dropout)          (None, 8, 8, 64)          0         \n",
            "_________________________________________________________________\n",
            "conv2d_5 (Conv2D)            (None, 8, 8, 128)         73856     \n",
            "_________________________________________________________________\n",
            "batch_normalization_5 (Batch (None, 8, 8, 128)         512       \n",
            "_________________________________________________________________\n",
            "conv2d_6 (Conv2D)            (None, 8, 8, 128)         147584    \n",
            "_________________________________________________________________\n",
            "batch_normalization_6 (Batch (None, 8, 8, 128)         512       \n",
            "_________________________________________________________________\n",
            "max_pooling2d_3 (MaxPooling2 (None, 4, 4, 128)         0         \n",
            "_________________________________________________________________\n",
            "dropout_3 (Dropout)          (None, 4, 4, 128)         0         \n",
            "_________________________________________________________________\n",
            "flatten_1 (Flatten)          (None, 2048)              0         \n",
            "_________________________________________________________________\n",
            "dense_1 (Dense)              (None, 3)                 6147      \n",
            "=================================================================\n",
            "Total params: 294,947\n",
            "Trainable params: 294,051\n",
            "Non-trainable params: 896\n",
            "_________________________________________________________________\n"
          ],
          "name": "stdout"
        }
      ]
    },
    {
      "metadata": {
        "id": "fGIUVWh3G4x4",
        "colab_type": "code",
        "colab": {}
      },
      "cell_type": "code",
      "source": [
        "low_acc_conv2d_weights_bias = modelFilt.get_layer('lowAccuracyModelConv2_1').get_weights()\n",
        "low_acc_conv2d_weights = low_acc_conv2d_weights_bias[0]\n",
        "low_acc_conv2d_wbias= low_acc_conv2d_weights_bias[1]\n"
      ],
      "execution_count": 0,
      "outputs": []
    },
    {
      "metadata": {
        "id": "cVFju9iFKJID",
        "colab_type": "code",
        "colab": {
          "base_uri": "https://localhost:8080/",
          "height": 34
        },
        "outputId": "b783af70-8da7-4b72-de09-174830427227"
      },
      "cell_type": "code",
      "source": [
        "temp_bias_top_10_DI.shape"
      ],
      "execution_count": 88,
      "outputs": [
        {
          "output_type": "execute_result",
          "data": {
            "text/plain": [
              "(10,)"
            ]
          },
          "metadata": {
            "tags": []
          },
          "execution_count": 88
        }
      ]
    },
    {
      "metadata": {
        "id": "MlkRaotsHceY",
        "colab_type": "code",
        "colab": {}
      },
      "cell_type": "code",
      "source": [
        "# now change weights for layers corresponding to lowest DI scores\n",
        "orig_weights = np.copy(low_acc_conv2d_weights)\n",
        "j = 0\n",
        "for ch in range(0,orig_weights.shape[3]):\n",
        "  if ch in low_channels:\n",
        "#     print(ch)\n",
        "    orig_weights[:,:,:,ch] = temp_weights_top_10_DI[:,:,:,j]\n",
        "    j = j+1\n",
        "# orig_weights.shape"
      ],
      "execution_count": 0,
      "outputs": []
    },
    {
      "metadata": {
        "id": "f0RcIFAiLASP",
        "colab_type": "code",
        "colab": {
          "base_uri": "https://localhost:8080/",
          "height": 34
        },
        "outputId": "65e8a406-0ab5-46f7-eae2-35244fe44577"
      },
      "cell_type": "code",
      "source": [
        "# orig_bias.shape"
      ],
      "execution_count": 95,
      "outputs": [
        {
          "output_type": "execute_result",
          "data": {
            "text/plain": [
              "(32,)"
            ]
          },
          "metadata": {
            "tags": []
          },
          "execution_count": 95
        }
      ]
    },
    {
      "metadata": {
        "id": "ye2_DU60K0nL",
        "colab_type": "code",
        "colab": {}
      },
      "cell_type": "code",
      "source": [
        "orig_bias = np.copy(low_acc_conv2d_wbias)\n",
        "j = 0\n",
        "for ch in range(0,orig_bias.shape[0]):\n",
        "  if ch in low_channels:\n",
        "#     print(ch)\n",
        "    orig_bias[ch] = temp_bias_top_10_DI[j]\n",
        "    j = j+1"
      ],
      "execution_count": 0,
      "outputs": []
    },
    {
      "metadata": {
        "id": "RERDrTNALkUA",
        "colab_type": "code",
        "colab": {}
      },
      "cell_type": "code",
      "source": [
        "new_wt_bias_conv2d1 = [orig_weights,orig_bias]"
      ],
      "execution_count": 0,
      "outputs": []
    },
    {
      "metadata": {
        "id": "OTUKj97VLfIu",
        "colab_type": "code",
        "colab": {}
      },
      "cell_type": "code",
      "source": [
        "modelFilt.get_layer('lowAccuracyModelConv2_1').set_weights(new_wt_bias_conv2d1)"
      ],
      "execution_count": 0,
      "outputs": []
    },
    {
      "metadata": {
        "id": "Ji5jVmbej-LM",
        "colab_type": "code",
        "outputId": "398b4f7e-5e8e-428b-f4a2-a7e523bf15b6",
        "colab": {
          "base_uri": "https://localhost:8080/",
          "height": 34
        }
      },
      "cell_type": "code",
      "source": [
        "loaded_model_low_accuracy.layers[5]"
      ],
      "execution_count": 0,
      "outputs": [
        {
          "output_type": "execute_result",
          "data": {
            "text/plain": [
              "<keras.layers.pooling.MaxPooling2D at 0x7fe00e1dd3c8>"
            ]
          },
          "metadata": {
            "tags": []
          },
          "execution_count": 66
        }
      ]
    },
    {
      "metadata": {
        "id": "0w2grlRlKQhJ",
        "colab_type": "code",
        "colab": {}
      },
      "cell_type": "code",
      "source": [
        "for l1,l2 in zip(modelFilt.layers,loaded_model_low_accuracy.layers):\n",
        "#     print (l1)\n",
        "    l1.set_weights(l2.get_weights())"
      ],
      "execution_count": 0,
      "outputs": []
    },
    {
      "metadata": {
        "id": "7EozUm-dSIx2",
        "colab_type": "code",
        "outputId": "2ae33c02-6652-4d13-e447-11bdcb6088cd",
        "colab": {
          "base_uri": "https://localhost:8080/",
          "height": 850
        }
      },
      "cell_type": "code",
      "source": [
        "modelFilt.summary()"
      ],
      "execution_count": 99,
      "outputs": [
        {
          "output_type": "stream",
          "text": [
            "_________________________________________________________________\n",
            "Layer (type)                 Output Shape              Param #   \n",
            "=================================================================\n",
            "input_1 (InputLayer)         (None, 32, 32, 3)         0         \n",
            "_________________________________________________________________\n",
            "lowAccuracyModelConv1_1 (Con (None, 32, 32, 32)        896       \n",
            "_________________________________________________________________\n",
            "lowAccuracyModelBN1 (BatchNo (None, 32, 32, 32)        128       \n",
            "_________________________________________________________________\n",
            "lowAccuracyModelConv2_1 (Con (None, 32, 32, 32)        9248      \n",
            "_________________________________________________________________\n",
            "batch_normalization_2 (Batch (None, 32, 32, 32)        128       \n",
            "_________________________________________________________________\n",
            "max_pooling2d_1 (MaxPooling2 (None, 16, 16, 32)        0         \n",
            "_________________________________________________________________\n",
            "dropout_1 (Dropout)          (None, 16, 16, 32)        0         \n",
            "_________________________________________________________________\n",
            "conv2d_1 (Conv2D)            (None, 16, 16, 64)        18496     \n",
            "_________________________________________________________________\n",
            "batch_normalization_3 (Batch (None, 16, 16, 64)        256       \n",
            "_________________________________________________________________\n",
            "conv2d_2 (Conv2D)            (None, 16, 16, 64)        36928     \n",
            "_________________________________________________________________\n",
            "batch_normalization_4 (Batch (None, 16, 16, 64)        256       \n",
            "_________________________________________________________________\n",
            "max_pooling2d_2 (MaxPooling2 (None, 8, 8, 64)          0         \n",
            "_________________________________________________________________\n",
            "dropout_2 (Dropout)          (None, 8, 8, 64)          0         \n",
            "_________________________________________________________________\n",
            "conv2d_3 (Conv2D)            (None, 8, 8, 128)         73856     \n",
            "_________________________________________________________________\n",
            "batch_normalization_5 (Batch (None, 8, 8, 128)         512       \n",
            "_________________________________________________________________\n",
            "conv2d_4 (Conv2D)            (None, 8, 8, 128)         147584    \n",
            "_________________________________________________________________\n",
            "batch_normalization_6 (Batch (None, 8, 8, 128)         512       \n",
            "_________________________________________________________________\n",
            "max_pooling2d_3 (MaxPooling2 (None, 4, 4, 128)         0         \n",
            "_________________________________________________________________\n",
            "dropout_3 (Dropout)          (None, 4, 4, 128)         0         \n",
            "_________________________________________________________________\n",
            "flatten_1 (Flatten)          (None, 2048)              0         \n",
            "_________________________________________________________________\n",
            "dense_1 (Dense)              (None, 3)                 6147      \n",
            "=================================================================\n",
            "Total params: 294,947\n",
            "Trainable params: 294,051\n",
            "Non-trainable params: 896\n",
            "_________________________________________________________________\n"
          ],
          "name": "stdout"
        }
      ]
    },
    {
      "metadata": {
        "id": "wRWAVstvGhht",
        "colab_type": "text"
      },
      "cell_type": "markdown",
      "source": [
        "#### # now replace weights in conv2d layer for filters correspondng to lowest 10 DI scores"
      ]
    },
    {
      "metadata": {
        "id": "jcnUQrPtGay_",
        "colab_type": "code",
        "colab": {}
      },
      "cell_type": "code",
      "source": [
        ""
      ],
      "execution_count": 0,
      "outputs": []
    },
    {
      "metadata": {
        "id": "fev8cENxbr-P",
        "colab_type": "code",
        "colab": {}
      },
      "cell_type": "code",
      "source": [
        "mcp_save = ModelCheckpoint('weights.hdf5', save_best_only=True, monitor='val_acc', mode='auto')"
      ],
      "execution_count": 0,
      "outputs": []
    },
    {
      "metadata": {
        "id": "0BTKJa7Zbwtc",
        "colab_type": "code",
        "colab": {}
      },
      "cell_type": "code",
      "source": [
        "def lr_schedule(epoch):\n",
        "    lrate = 0.0001\n",
        "    if epoch > 75:\n",
        "        lrate = 0.0005\n",
        "    if epoch > 100:\n",
        "        lrate = 0.0003\n",
        "    return lrate"
      ],
      "execution_count": 0,
      "outputs": []
    },
    {
      "metadata": {
        "id": "sIOMXQsjdSNX",
        "colab_type": "code",
        "outputId": "670a8283-e30a-426c-9b22-410e5a728817",
        "colab": {
          "base_uri": "https://localhost:8080/",
          "height": 2074
        }
      },
      "cell_type": "code",
      "source": [
        "modelFilt.fit_generator(datagen.flow(train_X, train_ground, batch_size=batch_size),\\\n",
        "                    steps_per_epoch=train_X.shape[0] // batch_size,epochs=60,\\\n",
        "                    verbose=1,validation_data=(valid_X,valid_ground),\n",
        "                    shuffle = True,callbacks=[mcp_save,LearningRateScheduler(lr_schedule)])"
      ],
      "execution_count": 102,
      "outputs": [
        {
          "output_type": "stream",
          "text": [
            "Epoch 1/60\n",
            "187/187 [==============================] - 8s 42ms/step - loss: 0.4282 - acc: 0.8528 - val_loss: 0.3209 - val_acc: 0.9013\n",
            "Epoch 2/60\n",
            "187/187 [==============================] - 6s 31ms/step - loss: 0.3977 - acc: 0.8653 - val_loss: 0.3086 - val_acc: 0.9050\n",
            "Epoch 3/60\n",
            "187/187 [==============================] - 6s 31ms/step - loss: 0.3786 - acc: 0.8737 - val_loss: 0.3038 - val_acc: 0.9103\n",
            "Epoch 4/60\n",
            "187/187 [==============================] - 6s 32ms/step - loss: 0.3620 - acc: 0.8803 - val_loss: 0.3101 - val_acc: 0.9067\n",
            "Epoch 5/60\n",
            "187/187 [==============================] - 7s 37ms/step - loss: 0.3576 - acc: 0.8833 - val_loss: 0.3002 - val_acc: 0.9093\n",
            "Epoch 6/60\n",
            "187/187 [==============================] - 7s 38ms/step - loss: 0.3529 - acc: 0.8831 - val_loss: 0.2859 - val_acc: 0.9197\n",
            "Epoch 7/60\n",
            "187/187 [==============================] - 7s 36ms/step - loss: 0.3475 - acc: 0.8859 - val_loss: 0.2834 - val_acc: 0.9193\n",
            "Epoch 8/60\n",
            "187/187 [==============================] - 6s 31ms/step - loss: 0.3407 - acc: 0.8860 - val_loss: 0.2845 - val_acc: 0.9183\n",
            "Epoch 9/60\n",
            "187/187 [==============================] - 6s 32ms/step - loss: 0.3372 - acc: 0.8919 - val_loss: 0.2885 - val_acc: 0.9170\n",
            "Epoch 10/60\n",
            "187/187 [==============================] - 6s 31ms/step - loss: 0.3414 - acc: 0.8910 - val_loss: 0.3038 - val_acc: 0.9060\n",
            "Epoch 11/60\n",
            "187/187 [==============================] - 6s 32ms/step - loss: 0.3322 - acc: 0.8921 - val_loss: 0.2924 - val_acc: 0.9127\n",
            "Epoch 12/60\n",
            "187/187 [==============================] - 6s 31ms/step - loss: 0.3328 - acc: 0.8937 - val_loss: 0.2910 - val_acc: 0.9130\n",
            "Epoch 13/60\n",
            "187/187 [==============================] - 6s 31ms/step - loss: 0.3239 - acc: 0.8986 - val_loss: 0.2826 - val_acc: 0.9163\n",
            "Epoch 14/60\n",
            "187/187 [==============================] - 6s 31ms/step - loss: 0.3243 - acc: 0.8975 - val_loss: 0.2781 - val_acc: 0.9173\n",
            "Epoch 15/60\n",
            "187/187 [==============================] - 6s 32ms/step - loss: 0.3201 - acc: 0.8946 - val_loss: 0.2762 - val_acc: 0.9167\n",
            "Epoch 16/60\n",
            "187/187 [==============================] - 6s 32ms/step - loss: 0.3171 - acc: 0.8986 - val_loss: 0.2833 - val_acc: 0.9163\n",
            "Epoch 17/60\n",
            "187/187 [==============================] - 6s 32ms/step - loss: 0.3137 - acc: 0.8990 - val_loss: 0.2835 - val_acc: 0.9120\n",
            "Epoch 18/60\n",
            "187/187 [==============================] - 6s 32ms/step - loss: 0.3114 - acc: 0.8992 - val_loss: 0.2771 - val_acc: 0.9190\n",
            "Epoch 19/60\n",
            "187/187 [==============================] - 6s 33ms/step - loss: 0.3145 - acc: 0.8994 - val_loss: 0.2777 - val_acc: 0.9180\n",
            "Epoch 20/60\n",
            "187/187 [==============================] - 7s 38ms/step - loss: 0.3097 - acc: 0.8998 - val_loss: 0.2902 - val_acc: 0.9120\n",
            "Epoch 21/60\n",
            "187/187 [==============================] - 6s 33ms/step - loss: 0.3076 - acc: 0.9008 - val_loss: 0.2741 - val_acc: 0.9177\n",
            "Epoch 22/60\n",
            "187/187 [==============================] - 6s 32ms/step - loss: 0.3046 - acc: 0.9051 - val_loss: 0.2729 - val_acc: 0.9183\n",
            "Epoch 23/60\n",
            "187/187 [==============================] - 6s 32ms/step - loss: 0.2984 - acc: 0.9083 - val_loss: 0.2802 - val_acc: 0.9163\n",
            "Epoch 24/60\n",
            "187/187 [==============================] - 6s 32ms/step - loss: 0.3076 - acc: 0.9027 - val_loss: 0.2876 - val_acc: 0.9133\n",
            "Epoch 25/60\n",
            "187/187 [==============================] - 6s 31ms/step - loss: 0.3014 - acc: 0.9059 - val_loss: 0.2699 - val_acc: 0.9190\n",
            "Epoch 26/60\n",
            "187/187 [==============================] - 6s 32ms/step - loss: 0.2970 - acc: 0.9074 - val_loss: 0.2687 - val_acc: 0.9187\n",
            "Epoch 27/60\n",
            "187/187 [==============================] - 6s 31ms/step - loss: 0.2866 - acc: 0.9129 - val_loss: 0.2709 - val_acc: 0.9213\n",
            "Epoch 28/60\n",
            "187/187 [==============================] - 6s 32ms/step - loss: 0.2947 - acc: 0.9065 - val_loss: 0.2720 - val_acc: 0.9193\n",
            "Epoch 29/60\n",
            "187/187 [==============================] - 6s 32ms/step - loss: 0.2862 - acc: 0.9081 - val_loss: 0.2836 - val_acc: 0.9157\n",
            "Epoch 30/60\n",
            "187/187 [==============================] - 6s 32ms/step - loss: 0.2950 - acc: 0.9067 - val_loss: 0.2718 - val_acc: 0.9190\n",
            "Epoch 31/60\n",
            "187/187 [==============================] - 6s 32ms/step - loss: 0.2932 - acc: 0.9066 - val_loss: 0.2682 - val_acc: 0.9170\n",
            "Epoch 32/60\n",
            "187/187 [==============================] - 6s 32ms/step - loss: 0.2898 - acc: 0.9102 - val_loss: 0.2674 - val_acc: 0.9257\n",
            "Epoch 33/60\n",
            "187/187 [==============================] - 7s 37ms/step - loss: 0.2866 - acc: 0.9104 - val_loss: 0.2689 - val_acc: 0.9223\n",
            "Epoch 34/60\n",
            "187/187 [==============================] - 6s 34ms/step - loss: 0.2933 - acc: 0.9099 - val_loss: 0.2742 - val_acc: 0.9160\n",
            "Epoch 35/60\n",
            "187/187 [==============================] - 6s 32ms/step - loss: 0.2920 - acc: 0.9083 - val_loss: 0.2769 - val_acc: 0.9210\n",
            "Epoch 36/60\n",
            "187/187 [==============================] - 6s 32ms/step - loss: 0.2840 - acc: 0.9119 - val_loss: 0.2927 - val_acc: 0.9110\n",
            "Epoch 37/60\n",
            "187/187 [==============================] - 6s 31ms/step - loss: 0.2850 - acc: 0.9113 - val_loss: 0.2695 - val_acc: 0.9193\n",
            "Epoch 38/60\n",
            "187/187 [==============================] - 6s 31ms/step - loss: 0.2831 - acc: 0.9103 - val_loss: 0.2680 - val_acc: 0.9203\n",
            "Epoch 39/60\n",
            "187/187 [==============================] - 6s 31ms/step - loss: 0.2810 - acc: 0.9106 - val_loss: 0.2776 - val_acc: 0.9173\n",
            "Epoch 40/60\n",
            "187/187 [==============================] - 6s 31ms/step - loss: 0.2812 - acc: 0.9149 - val_loss: 0.2622 - val_acc: 0.9217\n",
            "Epoch 41/60\n",
            "187/187 [==============================] - 6s 32ms/step - loss: 0.2843 - acc: 0.9103 - val_loss: 0.2614 - val_acc: 0.9237\n",
            "Epoch 42/60\n",
            "187/187 [==============================] - 6s 31ms/step - loss: 0.2806 - acc: 0.9129 - val_loss: 0.2672 - val_acc: 0.9190\n",
            "Epoch 43/60\n",
            "187/187 [==============================] - 6s 32ms/step - loss: 0.2806 - acc: 0.9126 - val_loss: 0.2744 - val_acc: 0.9177\n",
            "Epoch 44/60\n",
            "187/187 [==============================] - 6s 32ms/step - loss: 0.2774 - acc: 0.9129 - val_loss: 0.2675 - val_acc: 0.9197\n",
            "Epoch 45/60\n",
            "187/187 [==============================] - 6s 31ms/step - loss: 0.2737 - acc: 0.9154 - val_loss: 0.2713 - val_acc: 0.9167\n",
            "Epoch 46/60\n",
            "187/187 [==============================] - 6s 35ms/step - loss: 0.2698 - acc: 0.9197 - val_loss: 0.2706 - val_acc: 0.9197\n",
            "Epoch 47/60\n",
            "187/187 [==============================] - 7s 36ms/step - loss: 0.2703 - acc: 0.9180 - val_loss: 0.2783 - val_acc: 0.9150\n",
            "Epoch 48/60\n",
            "187/187 [==============================] - 6s 32ms/step - loss: 0.2708 - acc: 0.9154 - val_loss: 0.2714 - val_acc: 0.9170\n",
            "Epoch 49/60\n",
            "187/187 [==============================] - 6s 31ms/step - loss: 0.2773 - acc: 0.9143 - val_loss: 0.2689 - val_acc: 0.9147\n",
            "Epoch 50/60\n",
            "187/187 [==============================] - 6s 32ms/step - loss: 0.2726 - acc: 0.9174 - val_loss: 0.2749 - val_acc: 0.9163\n",
            "Epoch 51/60\n",
            "187/187 [==============================] - 6s 31ms/step - loss: 0.2691 - acc: 0.9187 - val_loss: 0.2715 - val_acc: 0.9187\n",
            "Epoch 52/60\n",
            "187/187 [==============================] - 6s 31ms/step - loss: 0.2622 - acc: 0.9184 - val_loss: 0.2724 - val_acc: 0.9167\n",
            "Epoch 53/60\n",
            "187/187 [==============================] - 6s 32ms/step - loss: 0.2700 - acc: 0.9164 - val_loss: 0.2794 - val_acc: 0.9177\n",
            "Epoch 54/60\n",
            "187/187 [==============================] - 6s 31ms/step - loss: 0.2733 - acc: 0.9132 - val_loss: 0.2810 - val_acc: 0.9150\n",
            "Epoch 55/60\n",
            "187/187 [==============================] - 6s 32ms/step - loss: 0.2685 - acc: 0.9165 - val_loss: 0.2694 - val_acc: 0.9187\n",
            "Epoch 56/60\n",
            "187/187 [==============================] - 7s 36ms/step - loss: 0.2583 - acc: 0.9239 - val_loss: 0.2699 - val_acc: 0.9200\n",
            "Epoch 57/60\n",
            "187/187 [==============================] - 7s 37ms/step - loss: 0.2661 - acc: 0.9192 - val_loss: 0.2679 - val_acc: 0.9213\n",
            "Epoch 58/60\n",
            "187/187 [==============================] - 6s 32ms/step - loss: 0.2624 - acc: 0.9167 - val_loss: 0.2704 - val_acc: 0.9243\n",
            "Epoch 59/60\n",
            "187/187 [==============================] - 6s 34ms/step - loss: 0.2622 - acc: 0.9187 - val_loss: 0.2809 - val_acc: 0.9177\n",
            "Epoch 60/60\n",
            "187/187 [==============================] - 7s 37ms/step - loss: 0.2565 - acc: 0.9207 - val_loss: 0.2734 - val_acc: 0.9150\n"
          ],
          "name": "stdout"
        },
        {
          "output_type": "execute_result",
          "data": {
            "text/plain": [
              "<keras.callbacks.History at 0x7f0196203320>"
            ]
          },
          "metadata": {
            "tags": []
          },
          "execution_count": 102
        }
      ]
    },
    {
      "metadata": {
        "id": "MAnK7D_Mm_dz",
        "colab_type": "code",
        "colab": {}
      },
      "cell_type": "code",
      "source": [
        "modelFilt.load_weights('weights.hdf5')"
      ],
      "execution_count": 0,
      "outputs": []
    },
    {
      "metadata": {
        "id": "-8ZXIw1Um_ao",
        "colab_type": "code",
        "colab": {}
      },
      "cell_type": "code",
      "source": [
        "modelFilt.save('TransferredHiDINoParameterInc.h5')\n"
      ],
      "execution_count": 0,
      "outputs": []
    },
    {
      "metadata": {
        "id": "bZsEELS6m_WM",
        "colab_type": "code",
        "outputId": "15f2ab95-b949-41b4-8b76-886ad702326f",
        "colab": {
          "base_uri": "https://localhost:8080/",
          "height": 545
        }
      },
      "cell_type": "code",
      "source": [
        "accuracy = modelFilt.history.history['acc']\n",
        "val_accuracy = modelFilt.history.history['val_acc']\n",
        "loss = modelFilt.history.history['loss']\n",
        "val_loss = modelFilt.history.history['val_loss']\n",
        "epochs = range(len(accuracy))\n",
        "plt.plot(epochs, accuracy, 'b', label='Training accuracy')\n",
        "plt.plot(epochs, val_accuracy, 'r', label='Validation accuracy')\n",
        "plt.title('Training and validation accuracy')\n",
        "plt.legend()\n",
        "plt.figure()\n",
        "plt.plot(epochs, loss, 'b', label='Training loss')\n",
        "plt.plot(epochs, val_loss, 'r', label='Validation loss')\n",
        "plt.title('Training and validation loss')\n",
        "plt.legend()\n",
        "plt.show()"
      ],
      "execution_count": 105,
      "outputs": [
        {
          "output_type": "display_data",
          "data": {
            "image/png": "[encoded data removed]",
            "text/plain": [
              "<Figure size 432x288 with 1 Axes>"
            ]
          },
          "metadata": {
            "tags": []
          }
        },
        {
          "output_type": "display_data",
          "data": {
            "image/png": "[encoded data removed]",
            "text/plain": [
              "<Figure size 432x288 with 1 Axes>"
            ]
          },
          "metadata": {
            "tags": []
          }
        }
      ]
    },
    {
      "metadata": {
        "id": "5S9iJ-HGnRFW",
        "colab_type": "code",
        "outputId": "6362e6fd-43dc-4ab0-a4be-12b0dfeb4123",
        "colab": {
          "base_uri": "https://localhost:8080/",
          "height": 34
        }
      },
      "cell_type": "code",
      "source": [
        "modelFilt.evaluate(valid_X, valid_ground, verbose=0)"
      ],
      "execution_count": 106,
      "outputs": [
        {
          "output_type": "execute_result",
          "data": {
            "text/plain": [
              "[0.2673578414916992, 0.9256666668256124]"
            ]
          },
          "metadata": {
            "tags": []
          },
          "execution_count": 106
        }
      ]
    },
    {
      "metadata": {
        "id": "gRuSLttWnRCR",
        "colab_type": "code",
        "outputId": "8e406c77-fd74-4c47-b37c-8eeceb757fd7",
        "colab": {
          "base_uri": "https://localhost:8080/",
          "height": 51
        }
      },
      "cell_type": "code",
      "source": [
        "#testing\n",
        "test_eval = modelFilt.evaluate(test_three_data, test_three_label_one_hot, verbose=0)\n",
        "print('Test loss:', test_eval[0])\n",
        "print('Test accuracy:', test_eval[1])"
      ],
      "execution_count": 107,
      "outputs": [
        {
          "output_type": "stream",
          "text": [
            "Test loss: 0.32682617354393007\n",
            "Test accuracy: 0.9009999998410543\n"
          ],
          "name": "stdout"
        }
      ]
    },
    {
      "metadata": {
        "id": "MI4AzYZDnQ_X",
        "colab_type": "code",
        "colab": {}
      },
      "cell_type": "code",
      "source": [
        ""
      ],
      "execution_count": 0,
      "outputs": []
    },
    {
      "metadata": {
        "id": "GCHKtUi6nQ8I",
        "colab_type": "code",
        "colab": {}
      },
      "cell_type": "code",
      "source": [
        ""
      ],
      "execution_count": 0,
      "outputs": []
    },
    {
      "metadata": {
        "id": "ie8_KBL8TIl6",
        "colab_type": "code",
        "outputId": "e9dadd09-2000-4f72-d9e7-1974347cf229",
        "colab": {
          "base_uri": "https://localhost:8080/",
          "height": 346
        }
      },
      "cell_type": "code",
      "source": [
        "# now get DI score of a layer from high accuracy and low accuracy model\n",
        "layer_name = 'HighAccuracyConv2'\n",
        "discores_low_acc_model = createCNNLayerDIScorePlot(modelFilt, layer_name)"
      ],
      "execution_count": 0,
      "outputs": [
        {
          "output_type": "stream",
          "text": [
            "Mean of DI SCore:  0.47800322599191625\n",
            "STD of DI Score:  0.07607869969361732\n",
            "MAX of DI Score:  0.6407786286668374\n"
          ],
          "name": "stdout"
        },
        {
          "output_type": "display_data",
          "data": {
            "image/png": "[encoded data removed]",
            "text/plain": [
              "<Figure size 432x288 with 1 Axes>"
            ]
          },
          "metadata": {
            "tags": []
          }
        }
      ]
    },
    {
      "metadata": {
        "id": "r2XDOWtOP2p7",
        "colab_type": "code",
        "colab": {}
      },
      "cell_type": "code",
      "source": [
        "modelFilt.summary()"
      ],
      "execution_count": 0,
      "outputs": []
    },
    {
      "metadata": {
        "id": "CXVt9e15sCf8",
        "colab_type": "code",
        "outputId": "7e737ef7-5020-46e4-e233-d1caa2e064b1",
        "colab": {
          "base_uri": "https://localhost:8080/",
          "height": 346
        }
      },
      "cell_type": "code",
      "source": [
        "layer_name = 'conv2d_8'\n",
        "discores_low_acc_model = createCNNLayerDIScorePlot(modelFilt, layer_name)"
      ],
      "execution_count": 0,
      "outputs": [
        {
          "output_type": "stream",
          "text": [
            "Mean of DI SCore:  0.5925375772649611\n",
            "STD of DI Score:  0.056699249107349546\n",
            "MAX of DI Score:  0.6699787896299502\n"
          ],
          "name": "stdout"
        },
        {
          "output_type": "display_data",
          "data": {
            "image/png": "[encoded data removed]",
            "text/plain": [
              "<Figure size 432x288 with 1 Axes>"
            ]
          },
          "metadata": {
            "tags": []
          }
        }
      ]
    },
    {
      "metadata": {
        "id": "dxnMxP6cTGLO",
        "colab_type": "text"
      },
      "cell_type": "markdown",
      "source": [
        " "
      ]
    },
    {
      "metadata": {
        "id": "_w7HlgF3XA9E",
        "colab_type": "code",
        "colab": {}
      },
      "cell_type": "code",
      "source": [
        ""
      ],
      "execution_count": 0,
      "outputs": []
    },
    {
      "metadata": {
        "id": "RX5m4EEvXA5g",
        "colab_type": "code",
        "colab": {}
      },
      "cell_type": "code",
      "source": [
        ""
      ],
      "execution_count": 0,
      "outputs": []
    },
    {
      "metadata": {
        "id": "72XqLffkXA20",
        "colab_type": "code",
        "colab": {}
      },
      "cell_type": "code",
      "source": [
        ""
      ],
      "execution_count": 0,
      "outputs": []
    },
    {
      "metadata": {
        "id": "EF-E1FlfXAgF",
        "colab_type": "text"
      },
      "cell_type": "markdown",
      "source": [
        ""
      ]
    },
    {
      "metadata": {
        "id": "qyH9eKlYbXNn",
        "colab_type": "code",
        "outputId": "9629cc52-ce19-4bfb-ab0c-5d1c85e43c4a",
        "colab": {
          "base_uri": "https://localhost:8080/",
          "height": 2026
        }
      },
      "cell_type": "code",
      "source": [
        "modelFilt.fit_generator(datagen.flow(train_X, train_ground, batch_size=batch_size),\\\n",
        "                    steps_per_epoch=train_X.shape[0] // batch_size,epochs=60,\\\n",
        "                    verbose=1,validation_data=(valid_X,valid_ground),\n",
        "                    shuffle = True,callbacks=[mcp_save,LearningRateScheduler(lr_schedule)])\n",
        "#save to disk\n",
        "# model_json = model.to_json()\n",
        "# with open('modelHighAcc.json', 'w') as json_file:\n",
        "#     json_file.write(model_json)\n",
        "# model.save_weights('modelHighAcc.h5') \n",
        "# model.save('high_acc_complete_modelConv2d_2.h5')\n"
      ],
      "execution_count": 0,
      "outputs": [
        {
          "output_type": "stream",
          "text": [
            "Epoch 1/60\n",
            "187/187 [==============================] - 10s 55ms/step - loss: 1.0914 - acc: 0.6170 - val_loss: 1.0533 - val_acc: 0.6503\n",
            "Epoch 2/60\n",
            "187/187 [==============================] - 6s 33ms/step - loss: 0.7965 - acc: 0.6631 - val_loss: 0.6973 - val_acc: 0.7247\n",
            "Epoch 3/60\n",
            "187/187 [==============================] - 6s 33ms/step - loss: 0.6907 - acc: 0.7025 - val_loss: 0.6277 - val_acc: 0.7327\n",
            "Epoch 4/60\n",
            "187/187 [==============================] - 6s 33ms/step - loss: 0.6372 - acc: 0.7331 - val_loss: 0.5845 - val_acc: 0.7633\n",
            "Epoch 5/60\n",
            "187/187 [==============================] - 6s 33ms/step - loss: 0.5893 - acc: 0.7575 - val_loss: 0.5723 - val_acc: 0.7650\n",
            "Epoch 6/60\n",
            "187/187 [==============================] - 6s 33ms/step - loss: 0.5638 - acc: 0.7772 - val_loss: 0.5688 - val_acc: 0.7923\n",
            "Epoch 7/60\n",
            "187/187 [==============================] - 7s 38ms/step - loss: 0.5404 - acc: 0.7868 - val_loss: 0.5032 - val_acc: 0.8123\n",
            "Epoch 8/60\n",
            "187/187 [==============================] - 7s 37ms/step - loss: 0.5651 - acc: 0.7914 - val_loss: 0.4749 - val_acc: 0.8183\n",
            "Epoch 9/60\n",
            "187/187 [==============================] - 6s 33ms/step - loss: 0.5130 - acc: 0.8015 - val_loss: 0.8505 - val_acc: 0.6970\n",
            "Epoch 10/60\n",
            "187/187 [==============================] - 7s 37ms/step - loss: 0.4912 - acc: 0.8123 - val_loss: 0.4684 - val_acc: 0.8337\n",
            "Epoch 11/60\n",
            "187/187 [==============================] - 7s 36ms/step - loss: 0.4880 - acc: 0.8147 - val_loss: 0.4659 - val_acc: 0.8307\n",
            "Epoch 12/60\n",
            "187/187 [==============================] - 6s 33ms/step - loss: 0.4772 - acc: 0.8246 - val_loss: 0.4656 - val_acc: 0.8333\n",
            "Epoch 13/60\n",
            "187/187 [==============================] - 6s 33ms/step - loss: 0.4620 - acc: 0.8308 - val_loss: 0.4341 - val_acc: 0.8480\n",
            "Epoch 14/60\n",
            "187/187 [==============================] - 6s 33ms/step - loss: 0.4480 - acc: 0.8366 - val_loss: 0.5995 - val_acc: 0.8087\n",
            "Epoch 15/60\n",
            "187/187 [==============================] - 6s 33ms/step - loss: 0.4506 - acc: 0.8375 - val_loss: 0.4449 - val_acc: 0.8377\n",
            "Epoch 16/60\n",
            "187/187 [==============================] - 6s 33ms/step - loss: 0.4393 - acc: 0.8422 - val_loss: 0.5139 - val_acc: 0.8280\n",
            "Epoch 17/60\n",
            "187/187 [==============================] - 6s 33ms/step - loss: 0.4462 - acc: 0.8391 - val_loss: 0.4592 - val_acc: 0.8350\n",
            "Epoch 18/60\n",
            "187/187 [==============================] - 6s 33ms/step - loss: 0.4315 - acc: 0.8464 - val_loss: 0.5755 - val_acc: 0.8043\n",
            "Epoch 19/60\n",
            "187/187 [==============================] - 6s 33ms/step - loss: 0.4305 - acc: 0.8475 - val_loss: 0.4241 - val_acc: 0.8500\n",
            "Epoch 20/60\n",
            "187/187 [==============================] - 6s 33ms/step - loss: 0.4261 - acc: 0.8501 - val_loss: 0.4542 - val_acc: 0.8373\n",
            "Epoch 21/60\n",
            "187/187 [==============================] - 6s 33ms/step - loss: 0.4137 - acc: 0.8554 - val_loss: 0.4838 - val_acc: 0.8317\n",
            "Epoch 22/60\n",
            "187/187 [==============================] - 6s 33ms/step - loss: 0.4216 - acc: 0.8521 - val_loss: 0.5241 - val_acc: 0.8177\n",
            "Epoch 23/60\n",
            "187/187 [==============================] - 7s 38ms/step - loss: 0.4239 - acc: 0.8544 - val_loss: 0.4090 - val_acc: 0.8617\n",
            "Epoch 24/60\n",
            "187/187 [==============================] - 7s 35ms/step - loss: 0.4111 - acc: 0.8630 - val_loss: 0.4724 - val_acc: 0.8287\n",
            "Epoch 25/60\n",
            "187/187 [==============================] - 6s 33ms/step - loss: 0.3932 - acc: 0.8648 - val_loss: 0.4638 - val_acc: 0.8450\n",
            "Epoch 26/60\n",
            "187/187 [==============================] - 6s 33ms/step - loss: 0.3906 - acc: 0.8677 - val_loss: 0.6440 - val_acc: 0.8327\n",
            "Epoch 27/60\n",
            "187/187 [==============================] - 6s 33ms/step - loss: 0.3948 - acc: 0.8681 - val_loss: 0.4341 - val_acc: 0.8533\n",
            "Epoch 28/60\n",
            "187/187 [==============================] - 6s 33ms/step - loss: 0.3927 - acc: 0.8655 - val_loss: 0.4833 - val_acc: 0.8410\n",
            "Epoch 29/60\n",
            "187/187 [==============================] - 6s 33ms/step - loss: 0.3919 - acc: 0.8715 - val_loss: 0.4792 - val_acc: 0.8440\n",
            "Epoch 30/60\n",
            "187/187 [==============================] - 6s 33ms/step - loss: 0.3878 - acc: 0.8689 - val_loss: 0.4615 - val_acc: 0.8557\n",
            "Epoch 31/60\n",
            "187/187 [==============================] - 6s 33ms/step - loss: 0.3759 - acc: 0.8753 - val_loss: 0.4198 - val_acc: 0.8637\n",
            "Epoch 32/60\n",
            "187/187 [==============================] - 7s 37ms/step - loss: 0.3850 - acc: 0.8729 - val_loss: 0.5197 - val_acc: 0.8247\n",
            "Epoch 33/60\n",
            "187/187 [==============================] - 6s 33ms/step - loss: 0.3701 - acc: 0.8810 - val_loss: 0.4236 - val_acc: 0.8650\n",
            "Epoch 34/60\n",
            "187/187 [==============================] - 6s 33ms/step - loss: 0.3829 - acc: 0.8744 - val_loss: 0.4045 - val_acc: 0.8663\n",
            "Epoch 35/60\n",
            "187/187 [==============================] - 7s 36ms/step - loss: 0.3761 - acc: 0.8809 - val_loss: 0.4072 - val_acc: 0.8637\n",
            "Epoch 36/60\n",
            "187/187 [==============================] - 7s 38ms/step - loss: 0.3773 - acc: 0.8762 - val_loss: 0.3791 - val_acc: 0.8743\n",
            "Epoch 37/60\n",
            "187/187 [==============================] - 6s 33ms/step - loss: 0.3643 - acc: 0.8834 - val_loss: 0.4467 - val_acc: 0.8547\n",
            "Epoch 38/60\n",
            "187/187 [==============================] - 6s 33ms/step - loss: 0.3615 - acc: 0.8849 - val_loss: 0.4095 - val_acc: 0.8637\n",
            "Epoch 39/60\n",
            "187/187 [==============================] - 6s 33ms/step - loss: 0.3662 - acc: 0.8799 - val_loss: 0.4111 - val_acc: 0.8677\n",
            "Epoch 40/60\n",
            "187/187 [==============================] - 6s 33ms/step - loss: 0.3657 - acc: 0.8847 - val_loss: 0.5137 - val_acc: 0.8497\n",
            "Epoch 41/60\n",
            "187/187 [==============================] - 6s 33ms/step - loss: 0.3730 - acc: 0.8814 - val_loss: 0.4308 - val_acc: 0.8660\n",
            "Epoch 42/60\n",
            "187/187 [==============================] - 6s 33ms/step - loss: 0.3685 - acc: 0.8839 - val_loss: 0.3999 - val_acc: 0.8767\n",
            "Epoch 43/60\n",
            "187/187 [==============================] - 6s 33ms/step - loss: 0.3533 - acc: 0.8926 - val_loss: 0.4592 - val_acc: 0.8573\n",
            "Epoch 44/60\n",
            "187/187 [==============================] - 6s 33ms/step - loss: 0.3510 - acc: 0.8917 - val_loss: 0.4648 - val_acc: 0.8547\n",
            "Epoch 45/60\n",
            "187/187 [==============================] - 6s 33ms/step - loss: 0.3586 - acc: 0.8880 - val_loss: 0.4407 - val_acc: 0.8600\n",
            "Epoch 46/60\n",
            "187/187 [==============================] - 6s 33ms/step - loss: 0.3548 - acc: 0.8914 - val_loss: 0.8102 - val_acc: 0.8277\n",
            "Epoch 47/60\n",
            "187/187 [==============================] - 6s 33ms/step - loss: 0.3541 - acc: 0.8898 - val_loss: 0.5405 - val_acc: 0.8200\n",
            "Epoch 48/60\n",
            " 98/187 [==============>...............] - ETA: 2s - loss: 0.3465 - acc: 0.8892"
          ],
          "name": "stdout"
        },
        {
          "output_type": "error",
          "ename": "KeyboardInterrupt",
          "evalue": "ignored",
          "traceback": [
            "\u001b[0;31m---------------------------------------------------------------------------\u001b[0m",
            "\u001b[0;31mKeyboardInterrupt\u001b[0m                         Traceback (most recent call last)",
            "\u001b[0;32m<ipython-input-146-ec12c04c528b>\u001b[0m in \u001b[0;36m<module>\u001b[0;34m()\u001b[0m\n\u001b[1;32m      1\u001b[0m modelFilt.fit_generator(datagen.flow(train_X, train_ground, batch_size=batch_size),                    steps_per_epoch=train_X.shape[0] // batch_size,epochs=60,                    verbose=1,validation_data=(valid_X,valid_ground),\n\u001b[0;32m----> 2\u001b[0;31m                     shuffle = True,callbacks=[mcp_save,LearningRateScheduler(lr_schedule)])\n\u001b[0m\u001b[1;32m      3\u001b[0m \u001b[0;31m#save to disk\u001b[0m\u001b[0;34m\u001b[0m\u001b[0;34m\u001b[0m\u001b[0;34m\u001b[0m\u001b[0m\n\u001b[1;32m      4\u001b[0m \u001b[0;31m# model_json = model.to_json()\u001b[0m\u001b[0;34m\u001b[0m\u001b[0;34m\u001b[0m\u001b[0;34m\u001b[0m\u001b[0m\n\u001b[1;32m      5\u001b[0m \u001b[0;31m# with open('modelHighAcc.json', 'w') as json_file:\u001b[0m\u001b[0;34m\u001b[0m\u001b[0;34m\u001b[0m\u001b[0;34m\u001b[0m\u001b[0m\n",
            "\u001b[0;32m/usr/local/lib/python3.6/dist-packages/keras/legacy/interfaces.py\u001b[0m in \u001b[0;36mwrapper\u001b[0;34m(*args, **kwargs)\u001b[0m\n\u001b[1;32m     89\u001b[0m                 warnings.warn('Update your `' + object_name + '` call to the ' +\n\u001b[1;32m     90\u001b[0m                               'Keras 2 API: ' + signature, stacklevel=2)\n\u001b[0;32m---> 91\u001b[0;31m             \u001b[0;32mreturn\u001b[0m \u001b[0mfunc\u001b[0m\u001b[0;34m(\u001b[0m\u001b[0;34m*\u001b[0m\u001b[0margs\u001b[0m\u001b[0;34m,\u001b[0m \u001b[0;34m**\u001b[0m\u001b[0mkwargs\u001b[0m\u001b[0;34m)\u001b[0m\u001b[0;34m\u001b[0m\u001b[0;34m\u001b[0m\u001b[0m\n\u001b[0m\u001b[1;32m     92\u001b[0m         \u001b[0mwrapper\u001b[0m\u001b[0;34m.\u001b[0m\u001b[0m_original_function\u001b[0m \u001b[0;34m=\u001b[0m \u001b[0mfunc\u001b[0m\u001b[0;34m\u001b[0m\u001b[0;34m\u001b[0m\u001b[0m\n\u001b[1;32m     93\u001b[0m         \u001b[0;32mreturn\u001b[0m \u001b[0mwrapper\u001b[0m\u001b[0;34m\u001b[0m\u001b[0;34m\u001b[0m\u001b[0m\n",
            "\u001b[0;32m/usr/local/lib/python3.6/dist-packages/keras/engine/training.py\u001b[0m in \u001b[0;36mfit_generator\u001b[0;34m(self, generator, steps_per_epoch, epochs, verbose, callbacks, validation_data, validation_steps, class_weight, max_queue_size, workers, use_multiprocessing, shuffle, initial_epoch)\u001b[0m\n\u001b[1;32m   1416\u001b[0m             \u001b[0muse_multiprocessing\u001b[0m\u001b[0;34m=\u001b[0m\u001b[0muse_multiprocessing\u001b[0m\u001b[0;34m,\u001b[0m\u001b[0;34m\u001b[0m\u001b[0;34m\u001b[0m\u001b[0m\n\u001b[1;32m   1417\u001b[0m             \u001b[0mshuffle\u001b[0m\u001b[0;34m=\u001b[0m\u001b[0mshuffle\u001b[0m\u001b[0;34m,\u001b[0m\u001b[0;34m\u001b[0m\u001b[0;34m\u001b[0m\u001b[0m\n\u001b[0;32m-> 1418\u001b[0;31m             initial_epoch=initial_epoch)\n\u001b[0m\u001b[1;32m   1419\u001b[0m \u001b[0;34m\u001b[0m\u001b[0m\n\u001b[1;32m   1420\u001b[0m     \u001b[0;34m@\u001b[0m\u001b[0minterfaces\u001b[0m\u001b[0;34m.\u001b[0m\u001b[0mlegacy_generator_methods_support\u001b[0m\u001b[0;34m\u001b[0m\u001b[0;34m\u001b[0m\u001b[0m\n",
            "\u001b[0;32m/usr/local/lib/python3.6/dist-packages/keras/engine/training_generator.py\u001b[0m in \u001b[0;36mfit_generator\u001b[0;34m(model, generator, steps_per_epoch, epochs, verbose, callbacks, validation_data, validation_steps, class_weight, max_queue_size, workers, use_multiprocessing, shuffle, initial_epoch)\u001b[0m\n\u001b[1;32m    179\u001b[0m             \u001b[0mbatch_index\u001b[0m \u001b[0;34m=\u001b[0m \u001b[0;36m0\u001b[0m\u001b[0;34m\u001b[0m\u001b[0;34m\u001b[0m\u001b[0m\n\u001b[1;32m    180\u001b[0m             \u001b[0;32mwhile\u001b[0m \u001b[0msteps_done\u001b[0m \u001b[0;34m<\u001b[0m \u001b[0msteps_per_epoch\u001b[0m\u001b[0;34m:\u001b[0m\u001b[0;34m\u001b[0m\u001b[0;34m\u001b[0m\u001b[0m\n\u001b[0;32m--> 181\u001b[0;31m                 \u001b[0mgenerator_output\u001b[0m \u001b[0;34m=\u001b[0m \u001b[0mnext\u001b[0m\u001b[0;34m(\u001b[0m\u001b[0moutput_generator\u001b[0m\u001b[0;34m)\u001b[0m\u001b[0;34m\u001b[0m\u001b[0;34m\u001b[0m\u001b[0m\n\u001b[0m\u001b[1;32m    182\u001b[0m \u001b[0;34m\u001b[0m\u001b[0m\n\u001b[1;32m    183\u001b[0m                 \u001b[0;32mif\u001b[0m \u001b[0;32mnot\u001b[0m \u001b[0mhasattr\u001b[0m\u001b[0;34m(\u001b[0m\u001b[0mgenerator_output\u001b[0m\u001b[0;34m,\u001b[0m \u001b[0;34m'__len__'\u001b[0m\u001b[0;34m)\u001b[0m\u001b[0;34m:\u001b[0m\u001b[0;34m\u001b[0m\u001b[0;34m\u001b[0m\u001b[0m\n",
            "\u001b[0;32m/usr/local/lib/python3.6/dist-packages/keras/utils/data_utils.py\u001b[0m in \u001b[0;36mget\u001b[0;34m(self)\u001b[0m\n\u001b[1;32m    683\u001b[0m         \u001b[0;32mtry\u001b[0m\u001b[0;34m:\u001b[0m\u001b[0;34m\u001b[0m\u001b[0;34m\u001b[0m\u001b[0m\n\u001b[1;32m    684\u001b[0m             \u001b[0;32mwhile\u001b[0m \u001b[0mself\u001b[0m\u001b[0;34m.\u001b[0m\u001b[0mis_running\u001b[0m\u001b[0;34m(\u001b[0m\u001b[0;34m)\u001b[0m\u001b[0;34m:\u001b[0m\u001b[0;34m\u001b[0m\u001b[0;34m\u001b[0m\u001b[0m\n\u001b[0;32m--> 685\u001b[0;31m                 \u001b[0minputs\u001b[0m \u001b[0;34m=\u001b[0m \u001b[0mself\u001b[0m\u001b[0;34m.\u001b[0m\u001b[0mqueue\u001b[0m\u001b[0;34m.\u001b[0m\u001b[0mget\u001b[0m\u001b[0;34m(\u001b[0m\u001b[0mblock\u001b[0m\u001b[0;34m=\u001b[0m\u001b[0;32mTrue\u001b[0m\u001b[0;34m)\u001b[0m\u001b[0;34m.\u001b[0m\u001b[0mget\u001b[0m\u001b[0;34m(\u001b[0m\u001b[0;34m)\u001b[0m\u001b[0;34m\u001b[0m\u001b[0;34m\u001b[0m\u001b[0m\n\u001b[0m\u001b[1;32m    686\u001b[0m                 \u001b[0mself\u001b[0m\u001b[0;34m.\u001b[0m\u001b[0mqueue\u001b[0m\u001b[0;34m.\u001b[0m\u001b[0mtask_done\u001b[0m\u001b[0;34m(\u001b[0m\u001b[0;34m)\u001b[0m\u001b[0;34m\u001b[0m\u001b[0;34m\u001b[0m\u001b[0m\n\u001b[1;32m    687\u001b[0m                 \u001b[0;32mif\u001b[0m \u001b[0minputs\u001b[0m \u001b[0;32mis\u001b[0m \u001b[0;32mnot\u001b[0m \u001b[0;32mNone\u001b[0m\u001b[0;34m:\u001b[0m\u001b[0;34m\u001b[0m\u001b[0;34m\u001b[0m\u001b[0m\n",
            "\u001b[0;32m/usr/lib/python3.6/multiprocessing/pool.py\u001b[0m in \u001b[0;36mget\u001b[0;34m(self, timeout)\u001b[0m\n\u001b[1;32m    662\u001b[0m \u001b[0;34m\u001b[0m\u001b[0m\n\u001b[1;32m    663\u001b[0m     \u001b[0;32mdef\u001b[0m \u001b[0mget\u001b[0m\u001b[0;34m(\u001b[0m\u001b[0mself\u001b[0m\u001b[0;34m,\u001b[0m \u001b[0mtimeout\u001b[0m\u001b[0;34m=\u001b[0m\u001b[0;32mNone\u001b[0m\u001b[0;34m)\u001b[0m\u001b[0;34m:\u001b[0m\u001b[0;34m\u001b[0m\u001b[0;34m\u001b[0m\u001b[0m\n\u001b[0;32m--> 664\u001b[0;31m         \u001b[0mself\u001b[0m\u001b[0;34m.\u001b[0m\u001b[0mwait\u001b[0m\u001b[0;34m(\u001b[0m\u001b[0mtimeout\u001b[0m\u001b[0;34m)\u001b[0m\u001b[0;34m\u001b[0m\u001b[0;34m\u001b[0m\u001b[0m\n\u001b[0m\u001b[1;32m    665\u001b[0m         \u001b[0;32mif\u001b[0m \u001b[0;32mnot\u001b[0m \u001b[0mself\u001b[0m\u001b[0;34m.\u001b[0m\u001b[0mready\u001b[0m\u001b[0;34m(\u001b[0m\u001b[0;34m)\u001b[0m\u001b[0;34m:\u001b[0m\u001b[0;34m\u001b[0m\u001b[0;34m\u001b[0m\u001b[0m\n\u001b[1;32m    666\u001b[0m             \u001b[0;32mraise\u001b[0m \u001b[0mTimeoutError\u001b[0m\u001b[0;34m\u001b[0m\u001b[0;34m\u001b[0m\u001b[0m\n",
            "\u001b[0;32m/usr/lib/python3.6/multiprocessing/pool.py\u001b[0m in \u001b[0;36mwait\u001b[0;34m(self, timeout)\u001b[0m\n\u001b[1;32m    659\u001b[0m \u001b[0;34m\u001b[0m\u001b[0m\n\u001b[1;32m    660\u001b[0m     \u001b[0;32mdef\u001b[0m \u001b[0mwait\u001b[0m\u001b[0;34m(\u001b[0m\u001b[0mself\u001b[0m\u001b[0;34m,\u001b[0m \u001b[0mtimeout\u001b[0m\u001b[0;34m=\u001b[0m\u001b[0;32mNone\u001b[0m\u001b[0;34m)\u001b[0m\u001b[0;34m:\u001b[0m\u001b[0;34m\u001b[0m\u001b[0;34m\u001b[0m\u001b[0m\n\u001b[0;32m--> 661\u001b[0;31m         \u001b[0mself\u001b[0m\u001b[0;34m.\u001b[0m\u001b[0m_event\u001b[0m\u001b[0;34m.\u001b[0m\u001b[0mwait\u001b[0m\u001b[0;34m(\u001b[0m\u001b[0mtimeout\u001b[0m\u001b[0;34m)\u001b[0m\u001b[0;34m\u001b[0m\u001b[0;34m\u001b[0m\u001b[0m\n\u001b[0m\u001b[1;32m    662\u001b[0m \u001b[0;34m\u001b[0m\u001b[0m\n\u001b[1;32m    663\u001b[0m     \u001b[0;32mdef\u001b[0m \u001b[0mget\u001b[0m\u001b[0;34m(\u001b[0m\u001b[0mself\u001b[0m\u001b[0;34m,\u001b[0m \u001b[0mtimeout\u001b[0m\u001b[0;34m=\u001b[0m\u001b[0;32mNone\u001b[0m\u001b[0;34m)\u001b[0m\u001b[0;34m:\u001b[0m\u001b[0;34m\u001b[0m\u001b[0;34m\u001b[0m\u001b[0m\n",
            "\u001b[0;32m/usr/lib/python3.6/threading.py\u001b[0m in \u001b[0;36mwait\u001b[0;34m(self, timeout)\u001b[0m\n\u001b[1;32m    549\u001b[0m             \u001b[0msignaled\u001b[0m \u001b[0;34m=\u001b[0m \u001b[0mself\u001b[0m\u001b[0;34m.\u001b[0m\u001b[0m_flag\u001b[0m\u001b[0;34m\u001b[0m\u001b[0;34m\u001b[0m\u001b[0m\n\u001b[1;32m    550\u001b[0m             \u001b[0;32mif\u001b[0m \u001b[0;32mnot\u001b[0m \u001b[0msignaled\u001b[0m\u001b[0;34m:\u001b[0m\u001b[0;34m\u001b[0m\u001b[0;34m\u001b[0m\u001b[0m\n\u001b[0;32m--> 551\u001b[0;31m                 \u001b[0msignaled\u001b[0m \u001b[0;34m=\u001b[0m \u001b[0mself\u001b[0m\u001b[0;34m.\u001b[0m\u001b[0m_cond\u001b[0m\u001b[0;34m.\u001b[0m\u001b[0mwait\u001b[0m\u001b[0;34m(\u001b[0m\u001b[0mtimeout\u001b[0m\u001b[0;34m)\u001b[0m\u001b[0;34m\u001b[0m\u001b[0;34m\u001b[0m\u001b[0m\n\u001b[0m\u001b[1;32m    552\u001b[0m             \u001b[0;32mreturn\u001b[0m \u001b[0msignaled\u001b[0m\u001b[0;34m\u001b[0m\u001b[0;34m\u001b[0m\u001b[0m\n\u001b[1;32m    553\u001b[0m \u001b[0;34m\u001b[0m\u001b[0m\n",
            "\u001b[0;32m/usr/lib/python3.6/threading.py\u001b[0m in \u001b[0;36mwait\u001b[0;34m(self, timeout)\u001b[0m\n\u001b[1;32m    293\u001b[0m         \u001b[0;32mtry\u001b[0m\u001b[0;34m:\u001b[0m    \u001b[0;31m# restore state no matter what (e.g., KeyboardInterrupt)\u001b[0m\u001b[0;34m\u001b[0m\u001b[0;34m\u001b[0m\u001b[0m\n\u001b[1;32m    294\u001b[0m             \u001b[0;32mif\u001b[0m \u001b[0mtimeout\u001b[0m \u001b[0;32mis\u001b[0m \u001b[0;32mNone\u001b[0m\u001b[0;34m:\u001b[0m\u001b[0;34m\u001b[0m\u001b[0;34m\u001b[0m\u001b[0m\n\u001b[0;32m--> 295\u001b[0;31m                 \u001b[0mwaiter\u001b[0m\u001b[0;34m.\u001b[0m\u001b[0macquire\u001b[0m\u001b[0;34m(\u001b[0m\u001b[0;34m)\u001b[0m\u001b[0;34m\u001b[0m\u001b[0;34m\u001b[0m\u001b[0m\n\u001b[0m\u001b[1;32m    296\u001b[0m                 \u001b[0mgotit\u001b[0m \u001b[0;34m=\u001b[0m \u001b[0;32mTrue\u001b[0m\u001b[0;34m\u001b[0m\u001b[0;34m\u001b[0m\u001b[0m\n\u001b[1;32m    297\u001b[0m             \u001b[0;32melse\u001b[0m\u001b[0;34m:\u001b[0m\u001b[0;34m\u001b[0m\u001b[0;34m\u001b[0m\u001b[0m\n",
            "\u001b[0;31mKeyboardInterrupt\u001b[0m: "
          ]
        }
      ]
    },
    {
      "metadata": {
        "id": "h7OTTp-uYZih",
        "colab_type": "code",
        "colab": {}
      },
      "cell_type": "code",
      "source": [
        "# loaded_model_low_accuracy.layers[1].get_weights()"
      ],
      "execution_count": 0,
      "outputs": []
    },
    {
      "metadata": {
        "id": "yDoD-D2pYLEd",
        "colab_type": "code",
        "colab": {}
      },
      "cell_type": "code",
      "source": [
        "# modelFilt.layers[1].get_weights()"
      ],
      "execution_count": 0,
      "outputs": []
    },
    {
      "metadata": {
        "id": "y-ssOHjPXTzE",
        "colab_type": "code",
        "colab": {}
      },
      "cell_type": "code",
      "source": [
        "# weights_low_conv2d1 = layer_dict_high['conv2d_1'].get_weights()"
      ],
      "execution_count": 0,
      "outputs": []
    },
    {
      "metadata": {
        "id": "KD0MAAeLFuhX",
        "colab_type": "code",
        "colab": {}
      },
      "cell_type": "code",
      "source": [
        "# loaded_model_low_accuracy.layers('conv2d_1').get_weights()"
      ],
      "execution_count": 0,
      "outputs": []
    },
    {
      "metadata": {
        "id": "A0ulN6H5FueV",
        "colab_type": "code",
        "outputId": "a289fa36-bbe6-4c59-e642-1c8d2d4b4a5a",
        "colab": {
          "base_uri": "https://localhost:8080/",
          "height": 374
        }
      },
      "cell_type": "code",
      "source": [
        "# weights_low_bn1 = layer_dict_high['batch_normalization_1'].get_weights()\n",
        "# modelFilt.layers[3].set_weights(weights_low_conv2d1)"
      ],
      "execution_count": 0,
      "outputs": [
        {
          "output_type": "execute_result",
          "data": {
            "text/plain": [
              "{'batch_normalization_1': <keras.layers.normalization.BatchNormalization at 0x7f1533511438>,\n",
              " 'batch_normalization_2': <keras.layers.normalization.BatchNormalization at 0x7f15335117f0>,\n",
              " 'batch_normalization_3': <keras.layers.normalization.BatchNormalization at 0x7f1533511ba8>,\n",
              " 'batch_normalization_4': <keras.layers.normalization.BatchNormalization at 0x7f1533511e80>,\n",
              " 'batch_normalization_5': <keras.layers.normalization.BatchNormalization at 0x7f153352d278>,\n",
              " 'batch_normalization_6': <keras.layers.normalization.BatchNormalization at 0x7f153352d550>,\n",
              " 'conv2d_1': <keras.layers.convolutional.Conv2D at 0x7f153350c0f0>,\n",
              " 'conv2d_2': <keras.layers.convolutional.Conv2D at 0x7f1533511668>,\n",
              " 'conv2d_3': <keras.layers.convolutional.Conv2D at 0x7f15335119e8>,\n",
              " 'conv2d_4': <keras.layers.convolutional.Conv2D at 0x7f1533511cc0>,\n",
              " 'conv2d_5': <keras.layers.convolutional.Conv2D at 0x7f153352d0b8>,\n",
              " 'conv2d_6': <keras.layers.convolutional.Conv2D at 0x7f153352d390>,\n",
              " 'dense_1': <keras.layers.core.Dense at 0x7f153352d7b8>,\n",
              " 'dropout_1': <keras.layers.core.Dropout at 0x7f15335119b0>,\n",
              " 'dropout_2': <keras.layers.core.Dropout at 0x7f153352d080>,\n",
              " 'dropout_3': <keras.layers.core.Dropout at 0x7f153352d710>,\n",
              " 'flatten_1': <keras.layers.core.Flatten at 0x7f153352d748>,\n",
              " 'input_1': <keras.engine.input_layer.InputLayer at 0x7f153350c438>,\n",
              " 'max_pooling2d_1': <keras.layers.pooling.MaxPooling2D at 0x7f1533511908>,\n",
              " 'max_pooling2d_2': <keras.layers.pooling.MaxPooling2D at 0x7f1533511f98>,\n",
              " 'max_pooling2d_3': <keras.layers.pooling.MaxPooling2D at 0x7f153352d668>}"
            ]
          },
          "metadata": {
            "tags": []
          },
          "execution_count": 111
        }
      ]
    },
    {
      "metadata": {
        "id": "TEkg52f_HxEg",
        "colab_type": "text"
      },
      "cell_type": "markdown",
      "source": [
        "## Ignore below"
      ]
    },
    {
      "metadata": {
        "id": "_iOvwS5SJVT8",
        "colab_type": "code",
        "colab": {}
      },
      "cell_type": "code",
      "source": [
        "def cifar10ClassifierTransfer(input_img, highAccInput):\n",
        "  \n",
        "  # Add additional inputs to \n",
        "  \n",
        "  conv1_1 = (Conv2D(32, (3,3), padding='same', kernel_regularizer=regularizers.l2(weight_decay), input_shape=x_train.shape[1:], activation='elu'))(input_img)\n",
        "  conv1_2 = BatchNormalization()(conv1_1)\n",
        "  conv2_1 = (Conv2D(32, (3,3), padding='same', activation= 'elu',kernel_regularizer=regularizers.l2(weight_decay)))(conv1_2)\n",
        "  # now concat secondary input that corresponds to high accuracy n/w to this\n",
        "    \n",
        "  concated_layer = keras.layers.merge.Concatenate()([conv2_1, highAccInput])\n",
        "  conv2_2 = BatchNormalization()(concated_layer)\n",
        "  pool2_3 = MaxPooling2D(pool_size=(2, 2))(conv2_2) #14 x 14 x 32\n",
        "  drop2_4= Dropout(.2)(pool2_3)\n",
        "\n",
        "  conv3_1 = (Conv2D(64, (3,3), padding='same', kernel_regularizer=regularizers.l2(weight_decay), activation='elu'))(drop2_4)\n",
        "  conv3_2 = BatchNormalization()(conv3_1)\n",
        "  conv4_1 = (Conv2D(64, (3,3), padding='same', activation= 'elu',kernel_regularizer=regularizers.l2(weight_decay)))(conv3_2)\n",
        "  conv4_2 = BatchNormalization()(conv4_1)\n",
        "  pool4_3 = MaxPooling2D(pool_size=(2, 2))(conv4_2) #14 x 14 x 32\n",
        "  drop4_4= Dropout(.3)(pool4_3)\n",
        "\n",
        "  conv5_1 = (Conv2D(128, (3,3), padding='same', kernel_regularizer=regularizers.l2(weight_decay), activation='elu'))(drop4_4)\n",
        "  conv5_2 = BatchNormalization()(conv5_1)\n",
        "  conv6_1 = (Conv2D(128, (3,3), padding='same', activation= 'elu',kernel_regularizer=regularizers.l2(weight_decay)))(conv5_2)\n",
        "  conv6_2 = BatchNormalization()(conv6_1)\n",
        "  pool6_3 = MaxPooling2D(pool_size=(2, 2))(conv6_2) #14 x 14 x 32\n",
        "  drop6_4= Dropout(.4)(pool6_3)\n",
        "\n",
        "  flat = Flatten()(drop6_4)\n",
        "  out = Dense(num_classes, activation='softmax')(flat)\n",
        "  \n",
        "  return out"
      ],
      "execution_count": 0,
      "outputs": []
    },
    {
      "metadata": {
        "id": "PyCdAWfOBhSi",
        "colab_type": "code",
        "colab": {}
      },
      "cell_type": "code",
      "source": [
        "def featureExtractor(input_img, layer_name):\n",
        "  get_cnn1_output_function = K.function([trained_model.layers[0].input],\n",
        "                                  [trained_model.get_layer(layer_name).output])   #get_layer test_three_label\n",
        "  cnn1_output = get_cnn1_output_function([train_three_data])[0]\n",
        "  return cnn1_output"
      ],
      "execution_count": 0,
      "outputs": []
    },
    {
      "metadata": {
        "id": "lYM0VB8wBhP8",
        "colab_type": "code",
        "colab": {}
      },
      "cell_type": "code",
      "source": [
        "def cifar10ClassifierTransfer(input_img, conv2_outputs):\n",
        "  \n",
        "  # Add additional inputs to \n",
        "  \n",
        "  conv1_1 = (Conv2D(32, (3,3), padding='same', kernel_regularizer=regularizers.l2(weight_decay), input_shape=x_train.shape[1:], activation='elu'))(input_img)\n",
        "  conv1_2 = BatchNormalization()(conv1_1)\n",
        "  conv2_1 = (Conv2D(32, (3,3), padding='same', activation= 'elu',kernel_regularizer=regularizers.l2(weight_decay)))(conv1_2)\n",
        "  conv2_2 = BatchNormalization()(conv2_1)\n",
        "  pool2_3 = MaxPooling2D(pool_size=(2, 2))(conv2_2) #14 x 14 x 32\n",
        "  drop2_4= Dropout(.2)(pool2_3)\n",
        "\n",
        "  conv3_1 = (Conv2D(64, (3,3), padding='same', kernel_regularizer=regularizers.l2(weight_decay), activation='elu'))(drop2_4)\n",
        "  conv3_2 = BatchNormalization()(conv3_1)\n",
        "  conv4_1 = (Conv2D(64, (3,3), padding='same', activation= 'elu',kernel_regularizer=regularizers.l2(weight_decay)))(conv3_2)\n",
        "  conv4_2 = BatchNormalization()(conv4_1)\n",
        "  pool4_3 = MaxPooling2D(pool_size=(2, 2))(conv4_2) #14 x 14 x 32\n",
        "  drop4_4= Dropout(.3)(pool4_3)\n",
        "\n",
        "  conv5_1 = (Conv2D(128, (3,3), padding='same', kernel_regularizer=regularizers.l2(weight_decay), activation='elu'))(drop4_4)\n",
        "  conv5_2 = BatchNormalization()(conv5_1)\n",
        "  conv6_1 = (Conv2D(128, (3,3), padding='same', activation= 'elu',kernel_regularizer=regularizers.l2(weight_decay)))(conv5_2)\n",
        "  conv6_2 = BatchNormalization()(conv6_1)\n",
        "  pool6_3 = MaxPooling2D(pool_size=(2, 2))(conv6_2) #14 x 14 x 32\n",
        "  drop6_4= Dropout(.4)(pool6_3)\n",
        "\n",
        "  flat = Flatten()(drop6_4)\n",
        "  out = Dense(num_classes, activation='softmax')(flat)\n",
        "  \n",
        "  return out"
      ],
      "execution_count": 0,
      "outputs": []
    },
    {
      "metadata": {
        "id": "sXXygEe9BhNK",
        "colab_type": "code",
        "colab": {}
      },
      "cell_type": "code",
      "source": [
        ""
      ],
      "execution_count": 0,
      "outputs": []
    },
    {
      "metadata": {
        "id": "LDTPGc0ABhKO",
        "colab_type": "code",
        "colab": {}
      },
      "cell_type": "code",
      "source": [
        ""
      ],
      "execution_count": 0,
      "outputs": []
    },
    {
      "metadata": {
        "id": "gsrj25pSoRh_",
        "colab_type": "code",
        "colab": {}
      },
      "cell_type": "code",
      "source": [
        "def highAccuracyModelTillConv2(input_img, channel_indices_first_layer, channel_indices_second_layer): \n",
        "  conv1_1 = (Conv2D(32, (3,3), padding='same', kernel_regularizer=regularizers.l2(weight_decay), input_shape=x_train.shape[1:], activation='elu', name = 'HighAccuracyConv1'))(input_img)\n",
        "  conv1_2 = BatchNormalization()(conv1_1)\n",
        "  conv2_1 = (Conv2D(32, (3,3), padding='same', activation= 'elu', name = 'HighAccuracyConv2',kernel_regularizer=regularizers.l2(weight_decay)))(conv1_2)\n",
        "  conv2_2 = BatchNormalization()(conv2_1)\n",
        "#   pool1 = MaxPooling2D(pool_size=(2, 2))(conv1) #14 x 14 x 32\n",
        "#   drop1= Dropout(.2)(pool1)\n",
        "\n",
        "#   conv2 = (Conv2D(64, (3,3), padding='same', kernel_regularizer=regularizers.l2(weight_decay), activation='elu'))(drop1)\n",
        "#   conv2 = BatchNormalization()(conv2)\n",
        "#   conv2 = (Conv2D(64, (3,3), padding='same', activation= 'elu',kernel_regularizer=regularizers.l2(weight_decay)))(conv2)\n",
        "#   conv2 = BatchNormalization()(conv2)\n",
        "#   pool2 = MaxPooling2D(pool_size=(2, 2))(conv2) #14 x 14 x 32\n",
        "#   drop2= Dropout(.3)(pool2)\n",
        "\n",
        "#   conv3 = (Conv2D(128, (3,3), padding='same', kernel_regularizer=regularizers.l2(weight_decay), activation='elu'))(drop2)\n",
        "#   conv3 = BatchNormalization()(conv3)\n",
        "#   conv3 = (Conv2D(128, (3,3), padding='same', activation= 'elu',kernel_regularizer=regularizers.l2(weight_decay)))(conv3)\n",
        "#   conv3 = BatchNormalization()(conv3)\n",
        "#   pool3 = MaxPooling2D(pool_size=(2, 2))(conv3) #14 x 14 x 32\n",
        "#   drop3= Dropout(.4)(pool3)\n",
        "\n",
        "#   flat = Flatten()(drop3)\n",
        "#   out = Dense(num_classes, activation='softmax')(flat)\n",
        "  \n",
        "  return conv1_1[:,:,:,channel_indices_first_layer], conv2_1[:,:,:,channel_indices_second_layer]"
      ],
      "execution_count": 0,
      "outputs": []
    },
    {
      "metadata": {
        "id": "RsXlJYX62MB-",
        "colab_type": "code",
        "colab": {}
      },
      "cell_type": "code",
      "source": [
        ""
      ],
      "execution_count": 0,
      "outputs": []
    }
  ]
}