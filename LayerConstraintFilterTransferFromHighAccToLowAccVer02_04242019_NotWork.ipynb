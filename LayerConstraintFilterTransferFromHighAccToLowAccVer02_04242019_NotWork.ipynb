{
  "nbformat": 4,
  "nbformat_minor": 0,
  "metadata": {
    "colab": {
      "name": "LayerConstraintFilterTransferFromHighAccToLowAccVer02_04242019-NotWork.ipynb",
      "version": "0.3.2",
      "provenance": [],
      "collapsed_sections": [
        "8rDrYIgZc20A",
        "dQQPlF6RdS2m",
        "ex0j41PLde2x",
        "Ssi32yj-d1iX",
        "U_0LHS-Xf7aN",
        "MQ5H0p_KjVCw",
        "DCCl7-vOfSZ9",
        "TEkg52f_HxEg"
      ],
      "toc_visible": true,
      "include_colab_link": true
    },
    "kernelspec": {
      "name": "python3",
      "display_name": "Python 3"
    },
    "accelerator": "GPU"
  },
  "cells": [
    {
      "cell_type": "markdown",
      "metadata": {
        "id": "view-in-github",
        "colab_type": "text"
      },
      "source": [
        "<a href=\"https://colab.research.google.com/github/preritt/KProj/blob/master/LayerConstraintFilterTransferFromHighAccToLowAccVer02_04242019_NotWork.ipynb\" target=\"_parent\"><img src=\"https://colab.research.google.com/assets/colab-badge.svg\" alt=\"Open In Colab\"/></a>"
      ]
    },
    {
      "metadata": {
        "id": "kdTAcjYec3s7",
        "colab_type": "text"
      },
      "cell_type": "markdown",
      "source": [
        "## Load standard libraries"
      ]
    },
    {
      "metadata": {
        "id": "oCo6LRTTcxmC",
        "colab_type": "code",
        "colab": {
          "base_uri": "https://localhost:8080/",
          "height": 34
        },
        "outputId": "65f62c7a-535d-4485-af78-ea863ff2fb99"
      },
      "cell_type": "code",
      "source": [
        "import keras\n",
        "from matplotlib import pyplot as plt\n",
        "import numpy as np\n",
        "import gzip\n",
        "%matplotlib inline\n",
        "from keras.models import Model\n",
        "from keras.optimizers import RMSprop\n",
        "from keras.layers import Input,Dense,Flatten,Dropout,merge,Reshape,Conv2D,MaxPooling2D,UpSampling2D,Conv2DTranspose\n",
        "from keras.layers.normalization import BatchNormalization\n",
        "from keras.models import Model,Sequential\n",
        "from keras.callbacks import ModelCheckpoint\n",
        "from keras.optimizers import Adadelta, RMSprop,SGD,Adam\n",
        "from keras import regularizers\n",
        "from keras import backend as K\n",
        "from keras.utils import to_categorical\n",
        "from keras.datasets import cifar10\n",
        "from sklearn import preprocessing\n",
        "from keras import losses\n",
        "from keras.models import model_from_json\n",
        "import keras\n",
        "from keras.models import Sequential\n",
        "from keras.utils import np_utils\n",
        "from keras.preprocessing.image import ImageDataGenerator\n",
        "from keras.layers import Dense, Activation, Flatten, Dropout, BatchNormalization\n",
        "from keras.layers import Conv2D, MaxPooling2D\n",
        "from keras.datasets import cifar10\n",
        "from keras import regularizers\n",
        "from keras.callbacks import LearningRateScheduler\n",
        "import numpy as np\n",
        "from sklearn.metrics import confusion_matrix\n",
        "from sklearn.model_selection import train_test_split\n",
        "from sklearn.utils import shuffle"
      ],
      "execution_count": 1,
      "outputs": [
        {
          "output_type": "stream",
          "text": [
            "Using TensorFlow backend.\n"
          ],
          "name": "stderr"
        }
      ]
    },
    {
      "metadata": {
        "id": "Sg_ZApCOPN9u",
        "colab_type": "code",
        "colab": {}
      },
      "cell_type": "code",
      "source": [
        "from keras.utils.vis_utils import plot_model\n"
      ],
      "execution_count": 0,
      "outputs": []
    },
    {
      "metadata": {
        "id": "oG3txkjndHWQ",
        "colab_type": "code",
        "colab": {}
      },
      "cell_type": "code",
      "source": [
        "keras.backend.clear_session()"
      ],
      "execution_count": 0,
      "outputs": []
    },
    {
      "metadata": {
        "id": "8rDrYIgZc20A",
        "colab_type": "text"
      },
      "cell_type": "markdown",
      "source": [
        "## Load image data"
      ]
    },
    {
      "metadata": {
        "id": "85Dlxs7adKVS",
        "colab_type": "code",
        "outputId": "9d397f0d-2a4b-4a78-c99e-9536122116db",
        "colab": {
          "base_uri": "https://localhost:8080/",
          "height": 337
        }
      },
      "cell_type": "code",
      "source": [
        "from matplotlib import pyplot\n",
        "from scipy.misc import toimage\n",
        "from keras.datasets import cifar10\n",
        "def show_imgs(X):\n",
        "    pyplot.figure(1)\n",
        "    k = 0\n",
        "    for i in range(0,4):\n",
        "        for j in range(0,4):\n",
        "            pyplot.subplot2grid((4,4),(i,j))\n",
        "            pyplot.imshow(toimage(X[k]))\n",
        "            k = k+1\n",
        "    # show the plot\n",
        "    pyplot.show()\n",
        " \n",
        "(x_train, y_train), (x_test, y_test) = cifar10.load_data()\n",
        "show_imgs(x_test[:16])\n"
      ],
      "execution_count": 4,
      "outputs": [
        {
          "output_type": "stream",
          "text": [
            "/usr/local/lib/python3.6/dist-packages/ipykernel_launcher.py:10: DeprecationWarning: `toimage` is deprecated!\n",
            "`toimage` is deprecated in SciPy 1.0.0, and will be removed in 1.2.0.\n",
            "Use Pillow's ``Image.fromarray`` directly instead.\n",
            "  # Remove the CWD from sys.path while we load stuff.\n"
          ],
          "name": "stderr"
        },
        {
          "output_type": "display_data",
          "data": {
            "image/png": "[encoded data removed]",
            "text/plain": [
              "<Figure size 432x288 with 16 Axes>"
            ]
          },
          "metadata": {
            "tags": []
          }
        }
      ]
    },
    {
      "metadata": {
        "id": "dQQPlF6RdS2m",
        "colab_type": "text"
      },
      "cell_type": "markdown",
      "source": [
        "## Create Function to get data corresponding to three labels"
      ]
    },
    {
      "metadata": {
        "id": "GFyk3xzNdYNW",
        "colab_type": "code",
        "colab": {}
      },
      "cell_type": "code",
      "source": [
        "# This function takes the entire traaining data and test data and corresponding categorical label and returns the corresponding data in class indices\n",
        "def getThreeClassesTrainTest(class_indices,train_data,train_labels,test_data,test_labels):\n",
        "  all_train_data = []\n",
        "  all_train_data_label = []\n",
        "  all_test_data = []\n",
        "  all_test_data_label = []\n",
        "  for ind in class_indices:\n",
        "    this_class_location_train =  np.where(train_labels==ind)[0] # train_labels[train_labels == ind]\n",
        "    this_class_data_train = train_data[this_class_location_train,:]\n",
        "    this_class_data_train_label = train_labels[this_class_location_train]\n",
        "#     print(this_class_location_train)\n",
        "    \n",
        "    this_class_location_test = np.where(test_labels==ind)[0] #test_labels[test_labels == ind]\n",
        "    this_class_data_test = test_data[this_class_location_test,:]\n",
        "    this_class_data_test_label = test_labels[this_class_location_test]\n",
        "    \n",
        "    all_train_data.append(this_class_data_train)\n",
        "    all_test_data.append(this_class_data_test)\n",
        "    all_train_data_label.append(this_class_data_train_label)\n",
        "    all_test_data_label.append(this_class_data_test_label)\n",
        "    \n",
        "  train_data_three = all_train_data[0]\n",
        "  train_label_three = all_train_data_label[0]\n",
        "  test_data_three = all_test_data[0]\n",
        "  test_label_three = all_test_data_label[0]\n",
        "  \n",
        "  for j in range(1,len(class_indices)):\n",
        "    train_data_three = np.concatenate((train_data_three,all_train_data[j]))\n",
        "    train_label_three = np.concatenate((train_label_three,all_train_data_label[j]))\n",
        "\n",
        "    test_data_three = np.concatenate((test_data_three,all_test_data[j]))\n",
        "    test_label_three = np.concatenate((test_label_three,all_test_data_label[j]))\n",
        "#   print(train_label_three.shape)\n",
        "  train_label_three = np.reshape(train_label_three,newshape=(-1,))\n",
        "  test_label_three = np.reshape(test_label_three,newshape=(-1,))\n",
        "  return train_data_three, train_label_three, test_data_three,test_label_three"
      ],
      "execution_count": 0,
      "outputs": []
    },
    {
      "metadata": {
        "id": "ex0j41PLde2x",
        "colab_type": "text"
      },
      "cell_type": "markdown",
      "source": [
        "## Get data for three classes using getThreeClassesTrainTest function"
      ]
    },
    {
      "metadata": {
        "id": "IpqbOTfBdhHk",
        "colab_type": "code",
        "colab": {}
      },
      "cell_type": "code",
      "source": [
        "train_three_data,train_three_label,test_three_data,test_three_label = getThreeClassesTrainTest([ 0,3,5 ],x_train,y_train,x_test,y_test)"
      ],
      "execution_count": 0,
      "outputs": []
    },
    {
      "metadata": {
        "id": "9gK_tiIWd2Nf",
        "colab_type": "code",
        "outputId": "9c2c10ef-f59f-4e3d-ffff-2bc61a3d7af5",
        "colab": {
          "base_uri": "https://localhost:8080/",
          "height": 337
        }
      },
      "cell_type": "code",
      "source": [
        "plt.hist(train_three_label)"
      ],
      "execution_count": 7,
      "outputs": [
        {
          "output_type": "execute_result",
          "data": {
            "text/plain": [
              "(array([5000.,    0.,    0.,    0.,    0.,    0., 5000.,    0.,    0.,\n",
              "        5000.]),\n",
              " array([0. , 0.5, 1. , 1.5, 2. , 2.5, 3. , 3.5, 4. , 4.5, 5. ]),\n",
              " <a list of 10 Patch objects>)"
            ]
          },
          "metadata": {
            "tags": []
          },
          "execution_count": 7
        },
        {
          "output_type": "display_data",
          "data": {
            "image/png": "[encoded data removed]",
            "text/plain": [
              "<Figure size 432x288 with 1 Axes>"
            ]
          },
          "metadata": {
            "tags": []
          }
        }
      ]
    },
    {
      "metadata": {
        "id": "AEYcIMeqd4i1",
        "colab_type": "code",
        "outputId": "9ede5c26-2f34-4ae9-f630-04bc6e39ecd9",
        "colab": {
          "base_uri": "https://localhost:8080/",
          "height": 337
        }
      },
      "cell_type": "code",
      "source": [
        "plt.hist(test_three_label)"
      ],
      "execution_count": 8,
      "outputs": [
        {
          "output_type": "execute_result",
          "data": {
            "text/plain": [
              "(array([1000.,    0.,    0.,    0.,    0.,    0., 1000.,    0.,    0.,\n",
              "        1000.]),\n",
              " array([0. , 0.5, 1. , 1.5, 2. , 2.5, 3. , 3.5, 4. , 4.5, 5. ]),\n",
              " <a list of 10 Patch objects>)"
            ]
          },
          "metadata": {
            "tags": []
          },
          "execution_count": 8
        },
        {
          "output_type": "display_data",
          "data": {
            "image/png": "[encoded data removed]",
            "text/plain": [
              "<Figure size 432x288 with 1 Axes>"
            ]
          },
          "metadata": {
            "tags": []
          }
        }
      ]
    },
    {
      "metadata": {
        "id": "z4n_WiMNd_Hf",
        "colab_type": "code",
        "colab": {}
      },
      "cell_type": "code",
      "source": [
        "train_three_data, train_three_label = shuffle(train_three_data, train_three_label )\n",
        "test_three_data,test_three_label = shuffle(test_three_data,test_three_label )"
      ],
      "execution_count": 0,
      "outputs": []
    },
    {
      "metadata": {
        "id": "VT_AKqQmeBk_",
        "colab_type": "code",
        "colab": {}
      },
      "cell_type": "code",
      "source": [
        "le = preprocessing.LabelEncoder()\n",
        "le.fit_transform(train_three_label)\n",
        "train_three_label_cat = le.transform(train_three_label)\n",
        "test_three_label_cat = le.transform(test_three_label)\n",
        "train_three_label_one_hot = to_categorical(train_three_label_cat)\n",
        "test_three_label_one_hot = to_categorical(test_three_label_cat)"
      ],
      "execution_count": 0,
      "outputs": []
    },
    {
      "metadata": {
        "id": "rWEjK_exeEaJ",
        "colab_type": "code",
        "colab": {}
      },
      "cell_type": "code",
      "source": [
        "# split train data and to create validation data\n",
        "train_X,valid_X,train_ground,valid_ground = train_test_split(train_three_data,\n",
        "                                                             train_three_label_one_hot,\n",
        "                                                             test_size=0.2,\n",
        "                                                             random_state=13)"
      ],
      "execution_count": 0,
      "outputs": []
    },
    {
      "metadata": {
        "id": "mOFKlZWKeH25",
        "colab_type": "code",
        "colab": {}
      },
      "cell_type": "code",
      "source": [
        "num_classes = test_three_label_one_hot.shape[1]"
      ],
      "execution_count": 0,
      "outputs": []
    },
    {
      "metadata": {
        "id": "Ssi32yj-d1iX",
        "colab_type": "text"
      },
      "cell_type": "markdown",
      "source": [
        "## Define the model"
      ]
    },
    {
      "metadata": {
        "id": "uUISHV2weN0t",
        "colab_type": "code",
        "colab": {}
      },
      "cell_type": "code",
      "source": [
        "x, y = 32, 32\n",
        "inChannel = 3\n",
        "input_img = Input(shape = (x, y, inChannel))\n",
        "ep = 10 \n",
        "weight_decay = 1e-4"
      ],
      "execution_count": 0,
      "outputs": []
    },
    {
      "metadata": {
        "id": "Ich0RbYnebwW",
        "colab_type": "code",
        "colab": {}
      },
      "cell_type": "code",
      "source": [
        "def cifar10Classifier(input_img):\n",
        "  \n",
        "  conv1 = (Conv2D(32, (3,3), padding='same', kernel_regularizer=regularizers.l2(weight_decay), input_shape=x_train.shape[1:], activation='elu'))(input_img)\n",
        "  conv1 = BatchNormalization()(conv1)\n",
        "  conv1 = (Conv2D(32, (3,3), padding='same', activation= 'elu',kernel_regularizer=regularizers.l2(weight_decay)))(conv1)\n",
        "  conv1 = BatchNormalization()(conv1)\n",
        "  pool1 = MaxPooling2D(pool_size=(2, 2))(conv1) #14 x 14 x 32\n",
        "  drop1= Dropout(.2)(pool1)\n",
        "\n",
        "  conv2 = (Conv2D(64, (3,3), padding='same', kernel_regularizer=regularizers.l2(weight_decay), activation='elu'))(drop1)\n",
        "  conv2 = BatchNormalization()(conv2)\n",
        "  conv2 = (Conv2D(64, (3,3), padding='same', activation= 'elu',kernel_regularizer=regularizers.l2(weight_decay)))(conv2)\n",
        "  conv2 = BatchNormalization()(conv2)\n",
        "  pool2 = MaxPooling2D(pool_size=(2, 2))(conv2) #14 x 14 x 32\n",
        "  drop2= Dropout(.3)(pool2)\n",
        "\n",
        "  conv3 = (Conv2D(128, (3,3), padding='same', kernel_regularizer=regularizers.l2(weight_decay), activation='elu'))(drop2)\n",
        "  conv3 = BatchNormalization()(conv3)\n",
        "  conv3 = (Conv2D(128, (3,3), padding='same', activation= 'elu',kernel_regularizer=regularizers.l2(weight_decay)))(conv3)\n",
        "  conv3 = BatchNormalization()(conv3)\n",
        "  pool3 = MaxPooling2D(pool_size=(2, 2))(conv3) #14 x 14 x 32\n",
        "  drop3= Dropout(.4)(pool3)\n",
        "\n",
        "  flat = Flatten()(drop3)\n",
        "  out = Dense(num_classes, activation='softmax')(flat)\n",
        "  \n",
        "  return out"
      ],
      "execution_count": 0,
      "outputs": []
    },
    {
      "metadata": {
        "id": "U_0LHS-Xf7aN",
        "colab_type": "text"
      },
      "cell_type": "markdown",
      "source": [
        "## Define functions for calculation of DI score\n",
        "getDIScoreOfLayer(layer_output, true_labels), \n",
        "getDIScoreOfLayerCNNLayer(cnn_outputs, true_labels)\n"
      ]
    },
    {
      "metadata": {
        "id": "xsLk-f7sf6zd",
        "colab_type": "code",
        "colab": {}
      },
      "cell_type": "code",
      "source": [
        "def getDIScoreOfLayer(layer_output, true_labels):\n",
        "  # computeScatterMatrix\n",
        "  rho = 1e-6\n",
        "  mu = layer_output.mean(axis=0)\n",
        "#   print(mu.shape)\n",
        "  mu = mu.reshape((1,-1))\n",
        "  centered_data = layer_output - mu\n",
        "  S_bar = np.matmul(centered_data.T,centered_data)\n",
        "  # compute between class matrix\n",
        "  total_classes = true_labels.max()\n",
        "  S_B = np.zeros(shape = (mu.shape[1],mu.shape[1]))\n",
        "  S_W = np.zeros(shape = (mu.shape[1],mu.shape[1]))\n",
        "  unique_classes = np.unique(true_labels)\n",
        "  unique_classes_list = np.ndarray.tolist(unique_classes)\n",
        "  for l in unique_classes_list:\n",
        "    class_l_index = np.where(true_labels == l)\n",
        "    class_l_output = layer_output[class_l_index[0],:]\n",
        "    mu_l = class_l_output.mean(axis=0)\n",
        "    mu_l = mu_l.reshape((1,-1))\n",
        "    total_examples_this_class = class_l_index[0].shape   \n",
        "    ss = mu_l - mu\n",
        "    S_B = S_B + total_examples_this_class*np.matmul((mu_l - mu).T,(mu_l - mu))\n",
        "\n",
        "  DI_Score = np.trace(np.matmul(np.linalg.inv(S_bar + rho*np.eye(S_bar.shape[0])),S_B))\n",
        "  return DI_Score"
      ],
      "execution_count": 0,
      "outputs": []
    },
    {
      "metadata": {
        "id": "ubrpaIpFgBzn",
        "colab_type": "code",
        "colab": {}
      },
      "cell_type": "code",
      "source": [
        "def getDIScoreOfLayerCNNLayer(cnn_outputs, true_labels):\n",
        "  # computeScatterMatrix\n",
        "  number_of_filters = cnn_outputs.shape[3]\n",
        "  cnn_di_scores = []\n",
        "  for filt in range(0,number_of_filters):\n",
        "    outputs_filter = cnn_outputs[:,:,:,filt]\n",
        "    outputs_filter_reshaped = np.reshape(outputs_filter, newshape=(cnn_outputs.shape[0],-1))\n",
        "    this_filter_score = getDIScoreOfLayer(outputs_filter_reshaped, true_labels)\n",
        "    cnn_di_scores.append(this_filter_score)\n",
        "  return cnn_di_scores"
      ],
      "execution_count": 0,
      "outputs": []
    },
    {
      "metadata": {
        "id": "MQ5H0p_KjVCw",
        "colab_type": "text"
      },
      "cell_type": "markdown",
      "source": [
        "## define a function to get and plot di score of a layer. It takes inputs - trained model, layer name to get DI scores and returns a plot with some statistics"
      ]
    },
    {
      "metadata": {
        "id": "o9MHI1LFjUZs",
        "colab_type": "code",
        "colab": {}
      },
      "cell_type": "code",
      "source": [
        "def createCNNLayerDIScorePlot(trained_model, layer_name, data_to_use = train_three_data , data_label =train_three_label ):\n",
        "  get_cnn1_output_function = K.function([trained_model.layers[0].input],\n",
        "                                  [trained_model.get_layer(layer_name).output])   #get_layer test_three_label\n",
        "  cnn1_output = get_cnn1_output_function([data_to_use])[0]\n",
        "  di_scores = getDIScoreOfLayerCNNLayer(cnn1_output, data_label)\n",
        "  # plot DI score\n",
        "  y_pos  = np.arange(len(di_scores))\n",
        "  plt.bar(y_pos, di_scores, align='center', alpha=0.5)\n",
        "  plt.xlabel('FilterNumber')\n",
        "  plt.ylabel('DI Score')\n",
        "\n",
        "  print('Mean of DI SCore: ',np.mean(di_scores))\n",
        "  print('STD of DI Score: ', np.std(di_scores))\n",
        "  print('MAX of DI Score: ', np.max(di_scores))\n",
        "  plt.title('DI score - Data - D_L, Network -N_L, Conv_6')\n",
        "#   plt.ylim([0,1])\n",
        "  return di_scores"
      ],
      "execution_count": 0,
      "outputs": []
    },
    {
      "metadata": {
        "id": "DCCl7-vOfSZ9",
        "colab_type": "text"
      },
      "cell_type": "markdown",
      "source": [
        "## load pretrained model"
      ]
    },
    {
      "metadata": {
        "id": "jqIkmDGkfRtD",
        "colab_type": "code",
        "outputId": "40bf4258-29bf-4cc9-e67e-a03e5a080683",
        "colab": {
          "base_uri": "https://localhost:8080/",
          "height": 190
        }
      },
      "cell_type": "code",
      "source": [
        "loaded_model_low_accuracy = keras.models.load_model('lowAccuracyModelData.h5')\n",
        "loaded_model_high_accuracy = keras.models.load_model('highAccuracyModelData.h5')\n"
      ],
      "execution_count": 18,
      "outputs": [
        {
          "output_type": "stream",
          "text": [
            "WARNING:tensorflow:From /usr/local/lib/python3.6/dist-packages/tensorflow/python/framework/op_def_library.py:263: colocate_with (from tensorflow.python.framework.ops) is deprecated and will be removed in a future version.\n",
            "Instructions for updating:\n",
            "Colocations handled automatically by placer.\n",
            "WARNING:tensorflow:From /usr/local/lib/python3.6/dist-packages/keras/backend/tensorflow_backend.py:3445: calling dropout (from tensorflow.python.ops.nn_ops) with keep_prob is deprecated and will be removed in a future version.\n",
            "Instructions for updating:\n",
            "Please use `rate` instead of `keep_prob`. Rate should be set to `rate = 1 - keep_prob`.\n",
            "WARNING:tensorflow:From /usr/local/lib/python3.6/dist-packages/tensorflow/python/ops/math_ops.py:3066: to_int32 (from tensorflow.python.ops.math_ops) is deprecated and will be removed in a future version.\n",
            "Instructions for updating:\n",
            "Use tf.cast instead.\n"
          ],
          "name": "stdout"
        }
      ]
    },
    {
      "metadata": {
        "id": "z7J98O5qfi8Z",
        "colab_type": "code",
        "outputId": "7a58e276-0408-447d-9ec8-c36960d7296d",
        "colab": {
          "base_uri": "https://localhost:8080/",
          "height": 54
        }
      },
      "cell_type": "code",
      "source": [
        "loaded_model_low_accuracy.evaluate(valid_X, valid_ground, verbose=0)"
      ],
      "execution_count": 0,
      "outputs": [
        {
          "output_type": "execute_result",
          "data": {
            "text/plain": [
              "[0.30999894126256305, 0.8993333333333333]"
            ]
          },
          "metadata": {
            "tags": []
          },
          "execution_count": 22
        }
      ]
    },
    {
      "metadata": {
        "id": "tzbIXvcEoNMj",
        "colab_type": "code",
        "outputId": "51518cf3-96e8-4646-ae3b-0f2c524dc4a2",
        "colab": {
          "base_uri": "https://localhost:8080/",
          "height": 870
        }
      },
      "cell_type": "code",
      "source": [
        "loaded_model_low_accuracy.summary()"
      ],
      "execution_count": 0,
      "outputs": [
        {
          "output_type": "stream",
          "text": [
            "_________________________________________________________________\n",
            "Layer (type)                 Output Shape              Param #   \n",
            "=================================================================\n",
            "input_1 (InputLayer)         (None, 32, 32, 3)         0         \n",
            "_________________________________________________________________\n",
            "conv2d_1 (Conv2D)            (None, 32, 32, 32)        896       \n",
            "_________________________________________________________________\n",
            "batch_normalization_1 (Batch (None, 32, 32, 32)        128       \n",
            "_________________________________________________________________\n",
            "conv2d_2 (Conv2D)            (None, 32, 32, 32)        9248      \n",
            "_________________________________________________________________\n",
            "batch_normalization_2 (Batch (None, 32, 32, 32)        128       \n",
            "_________________________________________________________________\n",
            "max_pooling2d_1 (MaxPooling2 (None, 16, 16, 32)        0         \n",
            "_________________________________________________________________\n",
            "dropout_1 (Dropout)          (None, 16, 16, 32)        0         \n",
            "_________________________________________________________________\n",
            "conv2d_3 (Conv2D)            (None, 16, 16, 64)        18496     \n",
            "_________________________________________________________________\n",
            "batch_normalization_3 (Batch (None, 16, 16, 64)        256       \n",
            "_________________________________________________________________\n",
            "conv2d_4 (Conv2D)            (None, 16, 16, 64)        36928     \n",
            "_________________________________________________________________\n",
            "batch_normalization_4 (Batch (None, 16, 16, 64)        256       \n",
            "_________________________________________________________________\n",
            "max_pooling2d_2 (MaxPooling2 (None, 8, 8, 64)          0         \n",
            "_________________________________________________________________\n",
            "dropout_2 (Dropout)          (None, 8, 8, 64)          0         \n",
            "_________________________________________________________________\n",
            "conv2d_5 (Conv2D)            (None, 8, 8, 128)         73856     \n",
            "_________________________________________________________________\n",
            "batch_normalization_5 (Batch (None, 8, 8, 128)         512       \n",
            "_________________________________________________________________\n",
            "conv2d_6 (Conv2D)            (None, 8, 8, 128)         147584    \n",
            "_________________________________________________________________\n",
            "batch_normalization_6 (Batch (None, 8, 8, 128)         512       \n",
            "_________________________________________________________________\n",
            "max_pooling2d_3 (MaxPooling2 (None, 4, 4, 128)         0         \n",
            "_________________________________________________________________\n",
            "dropout_3 (Dropout)          (None, 4, 4, 128)         0         \n",
            "_________________________________________________________________\n",
            "flatten_1 (Flatten)          (None, 2048)              0         \n",
            "_________________________________________________________________\n",
            "dense_1 (Dense)              (None, 3)                 6147      \n",
            "=================================================================\n",
            "Total params: 294,947\n",
            "Trainable params: 294,051\n",
            "Non-trainable params: 896\n",
            "_________________________________________________________________\n"
          ],
          "name": "stdout"
        }
      ]
    },
    {
      "metadata": {
        "id": "UijDrRL2khSY",
        "colab_type": "text"
      },
      "cell_type": "markdown",
      "source": [
        "## Create a plot for DI score using function createCNNLayerDIScorePlot()"
      ]
    },
    {
      "metadata": {
        "id": "Lyk2-GAGaPnV",
        "colab_type": "text"
      },
      "cell_type": "markdown",
      "source": [
        "#### On train data"
      ]
    },
    {
      "metadata": {
        "id": "zQYh3TElhl5R",
        "colab_type": "code",
        "outputId": "717606b4-fb5e-4e9e-c14b-d60ba2ced418",
        "colab": {
          "base_uri": "https://localhost:8080/",
          "height": 346
        }
      },
      "cell_type": "code",
      "source": [
        "# now get DI score of a layer from high accuracy and low accuracy model\n",
        "layer_name = 'conv2d_2'\n",
        "discores_low_acc_model = createCNNLayerDIScorePlot(loaded_model_low_accuracy, layer_name)"
      ],
      "execution_count": 19,
      "outputs": [
        {
          "output_type": "stream",
          "text": [
            "Mean of DI SCore:  0.5925380322408673\n",
            "STD of DI Score:  0.0566985180820409\n",
            "MAX of DI Score:  0.6699786074331303\n"
          ],
          "name": "stdout"
        },
        {
          "output_type": "display_data",
          "data": {
            "image/png": "[encoded data removed]",
            "text/plain": [
              "<Figure size 432x288 with 1 Axes>"
            ]
          },
          "metadata": {
            "tags": []
          }
        }
      ]
    },
    {
      "metadata": {
        "id": "7B0fFH7NiOh_",
        "colab_type": "code",
        "outputId": "c5e8454c-9d4e-4466-b1a3-672a19967d15",
        "colab": {
          "base_uri": "https://localhost:8080/",
          "height": 346
        }
      },
      "cell_type": "code",
      "source": [
        "# now get DI score of a layer from high accuracy and low accuracy model\n",
        "layer_name = 'conv2d_2'\n",
        "\n",
        "discores_high_acc_model = createCNNLayerDIScorePlot(loaded_model_high_accuracy, layer_name)"
      ],
      "execution_count": 20,
      "outputs": [
        {
          "output_type": "stream",
          "text": [
            "Mean of DI SCore:  0.6055422249716604\n",
            "STD of DI Score:  0.04535031975359067\n",
            "MAX of DI Score:  0.7097916491587761\n"
          ],
          "name": "stdout"
        },
        {
          "output_type": "display_data",
          "data": {
            "image/png": "[encoded data removed]",
            "text/plain": [
              "<Figure size 432x288 with 1 Axes>"
            ]
          },
          "metadata": {
            "tags": []
          }
        }
      ]
    },
    {
      "metadata": {
        "id": "EHVud4ykeRn8",
        "colab_type": "text"
      },
      "cell_type": "markdown",
      "source": [
        "## Pick top 10 DI scores"
      ]
    },
    {
      "metadata": {
        "id": "8k5Ob6gWeQ94",
        "colab_type": "code",
        "colab": {}
      },
      "cell_type": "code",
      "source": [
        ""
      ],
      "execution_count": 0,
      "outputs": []
    },
    {
      "metadata": {
        "id": "TyI8gOZuftmZ",
        "colab_type": "code",
        "colab": {}
      },
      "cell_type": "code",
      "source": [
        ""
      ],
      "execution_count": 0,
      "outputs": []
    },
    {
      "metadata": {
        "id": "TjMoET8nasck",
        "colab_type": "text"
      },
      "cell_type": "markdown",
      "source": [
        "#### On validation data"
      ]
    },
    {
      "metadata": {
        "id": "cPKQgmyXbACY",
        "colab_type": "code",
        "colab": {}
      },
      "cell_type": "code",
      "source": [
        "valid_ground_actual = np.argmax(valid_ground, axis=1)\n",
        "# valid_ground_actual.shape\n",
        "# data_to_use = train_three_data , data_label =train_three_label"
      ],
      "execution_count": 0,
      "outputs": []
    },
    {
      "metadata": {
        "id": "nbg5-HKhaxxj",
        "colab_type": "code",
        "outputId": "0cefd3b7-fd95-40a5-8ca7-3ab339c9a769",
        "colab": {
          "base_uri": "https://localhost:8080/",
          "height": 346
        }
      },
      "cell_type": "code",
      "source": [
        "# now get DI score of a layer from high accuracy and low accuracy model\n",
        "layer_name = 'conv2d_2'\n",
        "discores_low_acc_model_valid = createCNNLayerDIScorePlot(loaded_model_low_accuracy,\n",
        "                                                   layer_name, data_to_use=valid_X, data_label=valid_ground_actual)"
      ],
      "execution_count": 0,
      "outputs": [
        {
          "output_type": "stream",
          "text": [
            "Mean of DI SCore:  1.0283991648798934\n",
            "STD of DI Score:  0.04766352471097197\n",
            "MAX of DI Score:  1.102371604561001\n"
          ],
          "name": "stdout"
        },
        {
          "output_type": "display_data",
          "data": {
            "image/png": "[encoded data removed]",
            "text/plain": [
              "<Figure size 432x288 with 1 Axes>"
            ]
          },
          "metadata": {
            "tags": []
          }
        }
      ]
    },
    {
      "metadata": {
        "id": "zaH4FbSFaxuc",
        "colab_type": "code",
        "outputId": "920ee807-4e04-4697-c9e4-18f57a228a60",
        "colab": {
          "base_uri": "https://localhost:8080/",
          "height": 346
        }
      },
      "cell_type": "code",
      "source": [
        "# now get DI score of a layer from high accuracy and low accuracy model\n",
        "layer_name = 'conv2d_2'\n",
        "\n",
        "discores_high_acc_model_valid = createCNNLayerDIScorePlot(loaded_model_high_accuracy,\n",
        "                                                   layer_name, data_to_use=valid_X, data_label=valid_ground_actual)"
      ],
      "execution_count": 0,
      "outputs": [
        {
          "output_type": "stream",
          "text": [
            "Mean of DI SCore:  1.0489336398135918\n",
            "STD of DI Score:  0.03772804064192905\n",
            "MAX of DI Score:  1.1368837585485827\n"
          ],
          "name": "stdout"
        },
        {
          "output_type": "display_data",
          "data": {
            "image/png": "[encoded data removed]",
            "text/plain": [
              "<Figure size 432x288 with 1 Axes>"
            ]
          },
          "metadata": {
            "tags": []
          }
        }
      ]
    },
    {
      "metadata": {
        "id": "vMpuiVdSf60g",
        "colab_type": "code",
        "outputId": "bc786a18-9a97-4dee-b40a-8ab13619d495",
        "colab": {
          "base_uri": "https://localhost:8080/",
          "height": 136
        }
      },
      "cell_type": "code",
      "source": [
        "np.sort(discores_high_acc_model)"
      ],
      "execution_count": 0,
      "outputs": [
        {
          "output_type": "execute_result",
          "data": {
            "text/plain": [
              "array([0.50778735, 0.51148141, 0.5316608 , 0.5503721 , 0.55231392,\n",
              "       0.55683133, 0.5754899 , 0.57891548, 0.58448689, 0.58936178,\n",
              "       0.58980302, 0.59096041, 0.59923165, 0.60396759, 0.6067217 ,\n",
              "       0.60815117, 0.60818232, 0.60875793, 0.61246232, 0.61911506,\n",
              "       0.62163669, 0.62485589, 0.62771089, 0.63252923, 0.63514822,\n",
              "       0.63617041, 0.64203204, 0.65381118, 0.65792124, 0.66861217,\n",
              "       0.68109371, 0.70979014])"
            ]
          },
          "metadata": {
            "tags": []
          },
          "execution_count": 26
        }
      ]
    },
    {
      "metadata": {
        "id": "UzN_W73aldFU",
        "colab_type": "code",
        "outputId": "9fd8629c-e026-4579-9740-f2b062ff6c1e",
        "colab": {
          "base_uri": "https://localhost:8080/",
          "height": 34
        }
      },
      "cell_type": "code",
      "source": [
        "\n",
        "# (discores_high_acc_model)\n",
        "K = 10 # how many channels to pick\n",
        "high_acc_di_sorted = np.argsort(discores_high_acc_model)\n",
        "high_acc_di_sorted_list = np.ndarray.tolist(high_acc_di_sorted)\n",
        "top_channels = high_acc_di_sorted_list[-K:]\n",
        "top_channels"
      ],
      "execution_count": 0,
      "outputs": [
        {
          "output_type": "execute_result",
          "data": {
            "text/plain": [
              "[9, 25, 19, 29, 5, 7, 26, 28, 17, 23]"
            ]
          },
          "metadata": {
            "tags": []
          },
          "execution_count": 27
        }
      ]
    },
    {
      "metadata": {
        "id": "SD8nswMnxWVC",
        "colab_type": "code",
        "colab": {}
      },
      "cell_type": "code",
      "source": [
        "total_channels = len(discores_high_acc_model)\n",
        "# total_channels"
      ],
      "execution_count": 0,
      "outputs": []
    },
    {
      "metadata": {
        "id": "MsCtxzRVokuR",
        "colab_type": "code",
        "colab": {}
      },
      "cell_type": "code",
      "source": [
        "disable_training = True"
      ],
      "execution_count": 0,
      "outputs": []
    },
    {
      "metadata": {
        "id": "fJn40KQs_BnW",
        "colab_type": "code",
        "colab": {}
      },
      "cell_type": "code",
      "source": [
        "# # returns \n",
        "# def highAccuracyModelTillConv2(input_img): \n",
        "#   conv1_1 = (Conv2D(32, (3,3), padding='same',\n",
        "#                     kernel_regularizer=regularizers.l2(weight_decay), \n",
        "#                     input_shape=x_train.shape[1:], activation='elu', trainable = disable_training,\n",
        "#                     name = 'HighAccuracyConv1'))(input_img)\n",
        "#   conv1_2 = BatchNormalization(name = 'HighAccuracyBN1',\n",
        "#                               trainable = disable_training)(conv1_1)\n",
        "#   conv2_1 = (Conv2D(32, (3,3), padding='same', activation= 'elu',trainable = disable_training,\n",
        "#                     name = 'HighAccuracyConv2',kernel_regularizer=regularizers.l2(weight_decay)))(conv1_2)\n",
        "# #   conv2_2 = BatchNormalization(name = 'HighAccuracyBN2',\n",
        "# #                               trainable = disable_training)(conv2_1)  \n",
        "# #   create a mask\n",
        "#   # first swap axis and make channels the 0th dimension\n",
        "# #   swapped_conv2 = keras.backend.permute_dimensions(conv2_1, (3,1,2,0))\n",
        "#   masked = []\n",
        "#   for ch in range(0,total_channels):\n",
        "#     if ch in top_channels:\n",
        "#       m = False\n",
        "#     else:\n",
        "#       m = True \n",
        "#     masked.append(m)\n",
        "#   corrected_conv2 = tf.boolean_mask(conv2_1,mask = masked, axis=3)\n",
        "#   print(corrected_conv2.shape)\n",
        "# #   input_shape = swapped_conv2.get_shape().as_list()\n",
        "# #   print(swapped_conv2.shape)\n",
        "# #   masked_swapped_conv2 = tf.boolean_mask(swapped_conv2,mask = masked)\n",
        "# #   print(masked_swapped_conv2.shape)\n",
        "# #   corrected_conv2 = keras.backend.permute_dimensions(masked_swapped_conv2, (3,1,2,0))\n",
        "# #   print(masked) Masking(mask_value=0., input_shape=(5, 100))\n",
        "# #   swapped_conv2_masked = Lambda(lambda x: keras.backend.boolean_mask(swapped_conv2, mask = 3))(out)\n",
        "# #   masked_swapped_conv2 = keras.backend.manual_variable_initiali\n",
        "#   return corrected_conv2"
      ],
      "execution_count": 0,
      "outputs": []
    },
    {
      "metadata": {
        "id": "Sk_0a6JlFux5",
        "colab_type": "code",
        "colab": {}
      },
      "cell_type": "code",
      "source": [
        "# returns \n",
        "def highAccuracyModelTillConv2(input_img): \n",
        "  conv1_1 = (Conv2D(32, (3,3), padding='same',\n",
        "                    kernel_regularizer=regularizers.l2(weight_decay), \n",
        "                    input_shape=x_train.shape[1:], activation='elu', trainable = disable_training,\n",
        "                    name = 'HighAccuracyConv1'))(input_img)\n",
        "  conv1_2 = BatchNormalization(name = 'HighAccuracyBN1',\n",
        "                              trainable = disable_training)(conv1_1)\n",
        "  conv2_1 = (Conv2D(32, (3,3), padding='same', activation= 'elu',trainable = disable_training,\n",
        "                    name = 'HighAccuracyConv2',kernel_regularizer=regularizers.l2(weight_decay)))(conv1_2)\n",
        "#   conv2_2 = BatchNormalization(name = 'HighAccuracyBN2',\n",
        "#                               trainable = disable_training)(conv2_1)  \n",
        "  \n",
        "  return conv2_1"
      ],
      "execution_count": 0,
      "outputs": []
    },
    {
      "metadata": {
        "id": "OA-0pVGXvMeE",
        "colab_type": "code",
        "colab": {}
      },
      "cell_type": "code",
      "source": [
        "from keras.layers import Dense, Concatenate, Input, Lambda\n"
      ],
      "execution_count": 0,
      "outputs": []
    },
    {
      "metadata": {
        "id": "41smOd7GTX5c",
        "colab_type": "code",
        "colab": {}
      },
      "cell_type": "code",
      "source": [
        "import tensorflow as tf\n",
        "def cifar10ClassifierTransfer(input_img, conv2_high):\n",
        "  \n",
        "  # Add additional inputs to \n",
        "  \n",
        "  conv1_1 = (Conv2D(32, (3,3), padding='same',name = 'lowAccuracyModelConv1_1',\n",
        "                    trainable = disable_training, kernel_regularizer=regularizers.l2(weight_decay), input_shape=x_train.shape[1:], activation='elu'))(input_img)\n",
        "  conv1_2 = BatchNormalization(name = 'lowAccuracyModelBN1',\n",
        "                              trainable = disable_training)(conv1_1)\n",
        "  conv2_1 = (Conv2D(22, (3,3), padding='same',name = 'lowAccuracyModelConv2_1',\n",
        "                    trainable = disable_training, activation= 'elu',kernel_regularizer=regularizers.l2(weight_decay)))(conv1_2)\n",
        "  channels = top_channels\n",
        "  branch_outputs = []\n",
        "#   orig_channel = conv2_1\n",
        "  # create a mask here\n",
        "  branch_outputs.append(conv2_1)\n",
        "  for i in channels:\n",
        "      # Slicing the ith channel:\n",
        "      out = Lambda(lambda x: x[:,:,:, i])(conv2_high)      \n",
        "      # Setting up your per-channel layers (replace with actual sub-models):\n",
        "      layer_out = Lambda(lambda x: keras.backend.expand_dims(x, axis = 3))(out)\n",
        "      branch_outputs.append(layer_out)\n",
        "  merged = Concatenate()(branch_outputs)\n",
        "\n",
        "\n",
        "  conv2_2 = BatchNormalization()(merged)\n",
        "  pool2_3 = MaxPooling2D(pool_size=(2, 2))(conv2_2) #14 x 14 x 32\n",
        "  drop2_4= Dropout(.2)(pool2_3)\n",
        "\n",
        "  conv3_1 = (Conv2D(64, (3,3), padding='same', kernel_regularizer=regularizers.l2(weight_decay), activation='elu'))(drop2_4)\n",
        "  conv3_2 = BatchNormalization()(conv3_1)\n",
        "  conv4_1 = (Conv2D(64, (3,3), padding='same', activation= 'elu',kernel_regularizer=regularizers.l2(weight_decay)))(conv3_2)\n",
        "  conv4_2 = BatchNormalization()(conv4_1)\n",
        "  pool4_3 = MaxPooling2D(pool_size=(2, 2))(conv4_2) #14 x 14 x 32\n",
        "  drop4_4= Dropout(.3)(pool4_3)\n",
        "\n",
        "  conv5_1 = (Conv2D(128, (3,3), padding='same', kernel_regularizer=regularizers.l2(weight_decay), activation='elu'))(drop4_4)\n",
        "  conv5_2 = BatchNormalization()(conv5_1)\n",
        "  conv6_1 = (Conv2D(128, (3,3), padding='same', activation= 'elu',kernel_regularizer=regularizers.l2(weight_decay)))(conv5_2)\n",
        "  conv6_2 = BatchNormalization()(conv6_1)\n",
        "  pool6_3 = MaxPooling2D(pool_size=(2, 2))(conv6_2) #14 x 14 x 32\n",
        "  drop6_4= Dropout(.4)(pool6_3)\n",
        "\n",
        "  flat = Flatten()(drop6_4)\n",
        "  out = Dense(num_classes, activation='softmax')(flat)\n",
        "  \n",
        "  return out"
      ],
      "execution_count": 0,
      "outputs": []
    },
    {
      "metadata": {
        "id": "sf3PN5YIyba2",
        "colab_type": "code",
        "outputId": "bf3c3332-f6e5-479c-ca46-6161ad55ea62",
        "colab": {
          "base_uri": "https://localhost:8080/",
          "height": 34
        }
      },
      "cell_type": "code",
      "source": [
        "top_channels"
      ],
      "execution_count": 29,
      "outputs": [
        {
          "output_type": "execute_result",
          "data": {
            "text/plain": [
              "[9, 25, 19, 29, 5, 7, 26, 28, 17, 23]"
            ]
          },
          "metadata": {
            "tags": []
          },
          "execution_count": 29
        }
      ]
    },
    {
      "metadata": {
        "id": "fzUmKtVGFusU",
        "colab_type": "code",
        "outputId": "7d31d4b2-f80f-4f0a-8ca1-c89220c5bbf3",
        "colab": {
          "base_uri": "https://localhost:8080/",
          "height": 1836
        }
      },
      "cell_type": "code",
      "source": [
        "high_acc_output = highAccuracyModelTillConv2(input_img)\n",
        "modelFilt = Model(input_img, \n",
        "              cifar10ClassifierTransfer(input_img,\n",
        "              high_acc_output))\n",
        "#data augmentation\n",
        "datagen = ImageDataGenerator(\n",
        "    rotation_range=15,\n",
        "    width_shift_range=0.1,\n",
        "    height_shift_range=0.1,\n",
        "    horizontal_flip=True,\n",
        "    )\n",
        "datagen.fit(train_three_data)\n",
        " \n",
        "#training\n",
        "batch_size = 64\n",
        " \n",
        "opt_rms = keras.optimizers.rmsprop(lr=0.001,decay=1e-6)\n",
        "# model.compile(loss='categorical_crossentropy', optimizer=opt_rms, metrics=['accuracy'])\n",
        "\n",
        "modelFilt.compile(loss=losses.categorical_crossentropy, optimizer=opt_rms, metrics=['accuracy'])\n",
        "\n",
        "modelFilt.summary()\n",
        " "
      ],
      "execution_count": 30,
      "outputs": [
        {
          "output_type": "stream",
          "text": [
            "__________________________________________________________________________________________________\n",
            "Layer (type)                    Output Shape         Param #     Connected to                     \n",
            "==================================================================================================\n",
            "input_1 (InputLayer)            (None, 32, 32, 3)    0                                            \n",
            "__________________________________________________________________________________________________\n",
            "HighAccuracyConv1 (Conv2D)      (None, 32, 32, 32)   896         input_1[0][0]                    \n",
            "__________________________________________________________________________________________________\n",
            "HighAccuracyBN1 (BatchNormaliza (None, 32, 32, 32)   128         HighAccuracyConv1[0][0]          \n",
            "__________________________________________________________________________________________________\n",
            "lowAccuracyModelConv1_1 (Conv2D (None, 32, 32, 32)   896         input_1[0][0]                    \n",
            "__________________________________________________________________________________________________\n",
            "HighAccuracyConv2 (Conv2D)      (None, 32, 32, 32)   9248        HighAccuracyBN1[0][0]            \n",
            "__________________________________________________________________________________________________\n",
            "lowAccuracyModelBN1 (BatchNorma (None, 32, 32, 32)   128         lowAccuracyModelConv1_1[0][0]    \n",
            "__________________________________________________________________________________________________\n",
            "lambda_1 (Lambda)               (None, 32, 32)       0           HighAccuracyConv2[0][0]          \n",
            "__________________________________________________________________________________________________\n",
            "lambda_3 (Lambda)               (None, 32, 32)       0           HighAccuracyConv2[0][0]          \n",
            "__________________________________________________________________________________________________\n",
            "lambda_5 (Lambda)               (None, 32, 32)       0           HighAccuracyConv2[0][0]          \n",
            "__________________________________________________________________________________________________\n",
            "lambda_7 (Lambda)               (None, 32, 32)       0           HighAccuracyConv2[0][0]          \n",
            "__________________________________________________________________________________________________\n",
            "lambda_9 (Lambda)               (None, 32, 32)       0           HighAccuracyConv2[0][0]          \n",
            "__________________________________________________________________________________________________\n",
            "lambda_11 (Lambda)              (None, 32, 32)       0           HighAccuracyConv2[0][0]          \n",
            "__________________________________________________________________________________________________\n",
            "lambda_13 (Lambda)              (None, 32, 32)       0           HighAccuracyConv2[0][0]          \n",
            "__________________________________________________________________________________________________\n",
            "lambda_15 (Lambda)              (None, 32, 32)       0           HighAccuracyConv2[0][0]          \n",
            "__________________________________________________________________________________________________\n",
            "lambda_17 (Lambda)              (None, 32, 32)       0           HighAccuracyConv2[0][0]          \n",
            "__________________________________________________________________________________________________\n",
            "lambda_19 (Lambda)              (None, 32, 32)       0           HighAccuracyConv2[0][0]          \n",
            "__________________________________________________________________________________________________\n",
            "lowAccuracyModelConv2_1 (Conv2D (None, 32, 32, 22)   6358        lowAccuracyModelBN1[0][0]        \n",
            "__________________________________________________________________________________________________\n",
            "lambda_2 (Lambda)               (None, 32, 32, 1)    0           lambda_1[0][0]                   \n",
            "__________________________________________________________________________________________________\n",
            "lambda_4 (Lambda)               (None, 32, 32, 1)    0           lambda_3[0][0]                   \n",
            "__________________________________________________________________________________________________\n",
            "lambda_6 (Lambda)               (None, 32, 32, 1)    0           lambda_5[0][0]                   \n",
            "__________________________________________________________________________________________________\n",
            "lambda_8 (Lambda)               (None, 32, 32, 1)    0           lambda_7[0][0]                   \n",
            "__________________________________________________________________________________________________\n",
            "lambda_10 (Lambda)              (None, 32, 32, 1)    0           lambda_9[0][0]                   \n",
            "__________________________________________________________________________________________________\n",
            "lambda_12 (Lambda)              (None, 32, 32, 1)    0           lambda_11[0][0]                  \n",
            "__________________________________________________________________________________________________\n",
            "lambda_14 (Lambda)              (None, 32, 32, 1)    0           lambda_13[0][0]                  \n",
            "__________________________________________________________________________________________________\n",
            "lambda_16 (Lambda)              (None, 32, 32, 1)    0           lambda_15[0][0]                  \n",
            "__________________________________________________________________________________________________\n",
            "lambda_18 (Lambda)              (None, 32, 32, 1)    0           lambda_17[0][0]                  \n",
            "__________________________________________________________________________________________________\n",
            "lambda_20 (Lambda)              (None, 32, 32, 1)    0           lambda_19[0][0]                  \n",
            "__________________________________________________________________________________________________\n",
            "concatenate_1 (Concatenate)     (None, 32, 32, 32)   0           lowAccuracyModelConv2_1[0][0]    \n",
            "                                                                 lambda_2[0][0]                   \n",
            "                                                                 lambda_4[0][0]                   \n",
            "                                                                 lambda_6[0][0]                   \n",
            "                                                                 lambda_8[0][0]                   \n",
            "                                                                 lambda_10[0][0]                  \n",
            "                                                                 lambda_12[0][0]                  \n",
            "                                                                 lambda_14[0][0]                  \n",
            "                                                                 lambda_16[0][0]                  \n",
            "                                                                 lambda_18[0][0]                  \n",
            "                                                                 lambda_20[0][0]                  \n",
            "__________________________________________________________________________________________________\n",
            "batch_normalization_1 (BatchNor (None, 32, 32, 32)   128         concatenate_1[0][0]              \n",
            "__________________________________________________________________________________________________\n",
            "max_pooling2d_1 (MaxPooling2D)  (None, 16, 16, 32)   0           batch_normalization_1[0][0]      \n",
            "__________________________________________________________________________________________________\n",
            "dropout_1 (Dropout)             (None, 16, 16, 32)   0           max_pooling2d_1[0][0]            \n",
            "__________________________________________________________________________________________________\n",
            "conv2d_1 (Conv2D)               (None, 16, 16, 64)   18496       dropout_1[0][0]                  \n",
            "__________________________________________________________________________________________________\n",
            "batch_normalization_2 (BatchNor (None, 16, 16, 64)   256         conv2d_1[0][0]                   \n",
            "__________________________________________________________________________________________________\n",
            "conv2d_2 (Conv2D)               (None, 16, 16, 64)   36928       batch_normalization_2[0][0]      \n",
            "__________________________________________________________________________________________________\n",
            "batch_normalization_3 (BatchNor (None, 16, 16, 64)   256         conv2d_2[0][0]                   \n",
            "__________________________________________________________________________________________________\n",
            "max_pooling2d_2 (MaxPooling2D)  (None, 8, 8, 64)     0           batch_normalization_3[0][0]      \n",
            "__________________________________________________________________________________________________\n",
            "dropout_2 (Dropout)             (None, 8, 8, 64)     0           max_pooling2d_2[0][0]            \n",
            "__________________________________________________________________________________________________\n",
            "conv2d_3 (Conv2D)               (None, 8, 8, 128)    73856       dropout_2[0][0]                  \n",
            "__________________________________________________________________________________________________\n",
            "batch_normalization_4 (BatchNor (None, 8, 8, 128)    512         conv2d_3[0][0]                   \n",
            "__________________________________________________________________________________________________\n",
            "conv2d_4 (Conv2D)               (None, 8, 8, 128)    147584      batch_normalization_4[0][0]      \n",
            "__________________________________________________________________________________________________\n",
            "batch_normalization_5 (BatchNor (None, 8, 8, 128)    512         conv2d_4[0][0]                   \n",
            "__________________________________________________________________________________________________\n",
            "max_pooling2d_3 (MaxPooling2D)  (None, 4, 4, 128)    0           batch_normalization_5[0][0]      \n",
            "__________________________________________________________________________________________________\n",
            "dropout_3 (Dropout)             (None, 4, 4, 128)    0           max_pooling2d_3[0][0]            \n",
            "__________________________________________________________________________________________________\n",
            "flatten_1 (Flatten)             (None, 2048)         0           dropout_3[0][0]                  \n",
            "__________________________________________________________________________________________________\n",
            "dense_1 (Dense)                 (None, 3)            6147        flatten_1[0][0]                  \n",
            "==================================================================================================\n",
            "Total params: 302,329\n",
            "Trainable params: 301,369\n",
            "Non-trainable params: 960\n",
            "__________________________________________________________________________________________________\n"
          ],
          "name": "stdout"
        }
      ]
    },
    {
      "metadata": {
        "id": "WE7b72OOFups",
        "colab_type": "code",
        "colab": {}
      },
      "cell_type": "code",
      "source": [
        "plot_model(modelFilt, to_file=\"FiltModel.png\", show_shapes=True, show_layer_names=True)"
      ],
      "execution_count": 0,
      "outputs": []
    },
    {
      "metadata": {
        "id": "_lY9fuSspeIA",
        "colab_type": "code",
        "outputId": "de711899-b253-4c43-ab73-945461ff05c7",
        "colab": {
          "base_uri": "https://localhost:8080/",
          "height": 850
        }
      },
      "cell_type": "code",
      "source": [
        "# set weights again\n",
        "loaded_model_low_accuracy.summary()"
      ],
      "execution_count": 32,
      "outputs": [
        {
          "output_type": "stream",
          "text": [
            "_________________________________________________________________\n",
            "Layer (type)                 Output Shape              Param #   \n",
            "=================================================================\n",
            "input_1 (InputLayer)         (None, 32, 32, 3)         0         \n",
            "_________________________________________________________________\n",
            "conv2d_1 (Conv2D)            (None, 32, 32, 32)        896       \n",
            "_________________________________________________________________\n",
            "batch_normalization_1 (Batch (None, 32, 32, 32)        128       \n",
            "_________________________________________________________________\n",
            "conv2d_2 (Conv2D)            (None, 32, 32, 32)        9248      \n",
            "_________________________________________________________________\n",
            "batch_normalization_2 (Batch (None, 32, 32, 32)        128       \n",
            "_________________________________________________________________\n",
            "max_pooling2d_1 (MaxPooling2 (None, 16, 16, 32)        0         \n",
            "_________________________________________________________________\n",
            "dropout_1 (Dropout)          (None, 16, 16, 32)        0         \n",
            "_________________________________________________________________\n",
            "conv2d_3 (Conv2D)            (None, 16, 16, 64)        18496     \n",
            "_________________________________________________________________\n",
            "batch_normalization_3 (Batch (None, 16, 16, 64)        256       \n",
            "_________________________________________________________________\n",
            "conv2d_4 (Conv2D)            (None, 16, 16, 64)        36928     \n",
            "_________________________________________________________________\n",
            "batch_normalization_4 (Batch (None, 16, 16, 64)        256       \n",
            "_________________________________________________________________\n",
            "max_pooling2d_2 (MaxPooling2 (None, 8, 8, 64)          0         \n",
            "_________________________________________________________________\n",
            "dropout_2 (Dropout)          (None, 8, 8, 64)          0         \n",
            "_________________________________________________________________\n",
            "conv2d_5 (Conv2D)            (None, 8, 8, 128)         73856     \n",
            "_________________________________________________________________\n",
            "batch_normalization_5 (Batch (None, 8, 8, 128)         512       \n",
            "_________________________________________________________________\n",
            "conv2d_6 (Conv2D)            (None, 8, 8, 128)         147584    \n",
            "_________________________________________________________________\n",
            "batch_normalization_6 (Batch (None, 8, 8, 128)         512       \n",
            "_________________________________________________________________\n",
            "max_pooling2d_3 (MaxPooling2 (None, 4, 4, 128)         0         \n",
            "_________________________________________________________________\n",
            "dropout_3 (Dropout)          (None, 4, 4, 128)         0         \n",
            "_________________________________________________________________\n",
            "flatten_1 (Flatten)          (None, 2048)              0         \n",
            "_________________________________________________________________\n",
            "dense_1 (Dense)              (None, 3)                 6147      \n",
            "=================================================================\n",
            "Total params: 294,947\n",
            "Trainable params: 294,051\n",
            "Non-trainable params: 896\n",
            "_________________________________________________________________\n"
          ],
          "name": "stdout"
        }
      ]
    },
    {
      "metadata": {
        "id": "5-yqdp6_rQkI",
        "colab_type": "code",
        "outputId": "d6692d9a-7f64-473c-f094-d1c776e87ecf",
        "colab": {
          "base_uri": "https://localhost:8080/",
          "height": 850
        }
      },
      "cell_type": "code",
      "source": [
        "loaded_model_high_accuracy.summary()"
      ],
      "execution_count": 33,
      "outputs": [
        {
          "output_type": "stream",
          "text": [
            "_________________________________________________________________\n",
            "Layer (type)                 Output Shape              Param #   \n",
            "=================================================================\n",
            "input_1 (InputLayer)         (None, 32, 32, 3)         0         \n",
            "_________________________________________________________________\n",
            "conv2d_1 (Conv2D)            (None, 32, 32, 32)        896       \n",
            "_________________________________________________________________\n",
            "batch_normalization_1 (Batch (None, 32, 32, 32)        128       \n",
            "_________________________________________________________________\n",
            "conv2d_2 (Conv2D)            (None, 32, 32, 32)        9248      \n",
            "_________________________________________________________________\n",
            "batch_normalization_2 (Batch (None, 32, 32, 32)        128       \n",
            "_________________________________________________________________\n",
            "max_pooling2d_1 (MaxPooling2 (None, 16, 16, 32)        0         \n",
            "_________________________________________________________________\n",
            "dropout_1 (Dropout)          (None, 16, 16, 32)        0         \n",
            "_________________________________________________________________\n",
            "conv2d_3 (Conv2D)            (None, 16, 16, 64)        18496     \n",
            "_________________________________________________________________\n",
            "batch_normalization_3 (Batch (None, 16, 16, 64)        256       \n",
            "_________________________________________________________________\n",
            "conv2d_4 (Conv2D)            (None, 16, 16, 64)        36928     \n",
            "_________________________________________________________________\n",
            "batch_normalization_4 (Batch (None, 16, 16, 64)        256       \n",
            "_________________________________________________________________\n",
            "max_pooling2d_2 (MaxPooling2 (None, 8, 8, 64)          0         \n",
            "_________________________________________________________________\n",
            "dropout_2 (Dropout)          (None, 8, 8, 64)          0         \n",
            "_________________________________________________________________\n",
            "conv2d_5 (Conv2D)            (None, 8, 8, 128)         73856     \n",
            "_________________________________________________________________\n",
            "batch_normalization_5 (Batch (None, 8, 8, 128)         512       \n",
            "_________________________________________________________________\n",
            "conv2d_6 (Conv2D)            (None, 8, 8, 128)         147584    \n",
            "_________________________________________________________________\n",
            "batch_normalization_6 (Batch (None, 8, 8, 128)         512       \n",
            "_________________________________________________________________\n",
            "max_pooling2d_3 (MaxPooling2 (None, 4, 4, 128)         0         \n",
            "_________________________________________________________________\n",
            "dropout_3 (Dropout)          (None, 4, 4, 128)         0         \n",
            "_________________________________________________________________\n",
            "flatten_1 (Flatten)          (None, 2048)              0         \n",
            "_________________________________________________________________\n",
            "dense_1 (Dense)              (None, 3)                 6147      \n",
            "=================================================================\n",
            "Total params: 294,947\n",
            "Trainable params: 294,051\n",
            "Non-trainable params: 896\n",
            "_________________________________________________________________\n"
          ],
          "name": "stdout"
        }
      ]
    },
    {
      "metadata": {
        "id": "8GkUnIIAqH0k",
        "colab_type": "text"
      },
      "cell_type": "markdown",
      "source": [
        "## set predetermined weights"
      ]
    },
    {
      "metadata": {
        "id": "nKVw7k8QLwoQ",
        "colab_type": "code",
        "outputId": "e123a966-8e7f-480a-e811-e012b431c103",
        "colab": {
          "base_uri": "https://localhost:8080/",
          "height": 34
        }
      },
      "cell_type": "code",
      "source": [
        "top_channels"
      ],
      "execution_count": 34,
      "outputs": [
        {
          "output_type": "execute_result",
          "data": {
            "text/plain": [
              "[9, 25, 19, 29, 5, 7, 26, 28, 17, 23]"
            ]
          },
          "metadata": {
            "tags": []
          },
          "execution_count": 34
        }
      ]
    },
    {
      "metadata": {
        "id": "5hWcRyTNtaXW",
        "colab_type": "code",
        "outputId": "92ff1c2b-8faf-41ad-be8e-b487a8ac64b5",
        "colab": {
          "base_uri": "https://localhost:8080/",
          "height": 34
        }
      },
      "cell_type": "code",
      "source": [
        "top_channels"
      ],
      "execution_count": 35,
      "outputs": [
        {
          "output_type": "execute_result",
          "data": {
            "text/plain": [
              "[9, 25, 19, 29, 5, 7, 26, 28, 17, 23]"
            ]
          },
          "metadata": {
            "tags": []
          },
          "execution_count": 35
        }
      ]
    },
    {
      "metadata": {
        "id": "t0FN66utr5VE",
        "colab_type": "code",
        "colab": {}
      },
      "cell_type": "code",
      "source": [
        "# set weights of high accuracy model for channels not used to 0 [9, 25, 19, 29, 5, 7, 26, 28, 17, 23]\n",
        "high_acc_conv2_weights = loaded_model_high_accuracy.get_layer('conv2d_2').get_weights()\n",
        "temp_weights = np.zeros_like(high_acc_conv2_weights[0])\n",
        "h,w,d,n = high_acc_conv2_weights[0].shape\n",
        "for ch in range(0,n):\n",
        "  if ch in top_channels:\n",
        "    temp_weights[:,:,:,ch] = high_acc_conv2_weights[0][:,:,:,ch]\n",
        "    \n",
        "    \n",
        "  \n",
        "# (high_acc_conv2_weights[0].shape)"
      ],
      "execution_count": 0,
      "outputs": []
    },
    {
      "metadata": {
        "id": "Esv5wQmYFby6",
        "colab_type": "code",
        "colab": {}
      },
      "cell_type": "code",
      "source": [
        "# temp_bias = np.zeros_like(high_acc_conv2_weights[1])\n",
        "temp_bias = high_acc_conv2_weights[1]\n",
        "\n",
        "bias_shape = high_acc_conv2_weights[1].shape\n",
        "for ch in range(0,n):\n",
        "  if ch in top_channels:\n",
        "    temp_bias[ch] = high_acc_conv2_weights[1][ch]"
      ],
      "execution_count": 0,
      "outputs": []
    },
    {
      "metadata": {
        "id": "HPV28w1jFulD",
        "colab_type": "code",
        "colab": {}
      },
      "cell_type": "code",
      "source": [
        "# temp_bias\n",
        "weights_to_assign = [temp_weights,temp_bias]"
      ],
      "execution_count": 0,
      "outputs": []
    },
    {
      "metadata": {
        "id": "2pYigm1qFJmK",
        "colab_type": "code",
        "outputId": "954a279a-6bb2-4584-dc4d-3e5695e3eba0",
        "colab": {
          "base_uri": "https://localhost:8080/",
          "height": 34
        }
      },
      "cell_type": "code",
      "source": [
        "temp_weights.shape"
      ],
      "execution_count": 40,
      "outputs": [
        {
          "output_type": "execute_result",
          "data": {
            "text/plain": [
              "(3, 3, 32, 32)"
            ]
          },
          "metadata": {
            "tags": []
          },
          "execution_count": 40
        }
      ]
    },
    {
      "metadata": {
        "id": "f1t2Yj3-E01G",
        "colab_type": "code",
        "outputId": "b47cb8e2-62e6-4b1b-9405-d87e8e510a80",
        "colab": {
          "base_uri": "https://localhost:8080/",
          "height": 34
        }
      },
      "cell_type": "code",
      "source": [
        "high_acc_conv2_weights[1].shape"
      ],
      "execution_count": 41,
      "outputs": [
        {
          "output_type": "execute_result",
          "data": {
            "text/plain": [
              "(32,)"
            ]
          },
          "metadata": {
            "tags": []
          },
          "execution_count": 41
        }
      ]
    },
    {
      "metadata": {
        "id": "Q1qLv08GEv5Q",
        "colab_type": "code",
        "colab": {}
      },
      "cell_type": "code",
      "source": [
        "# temp_weights[:,:,:,11]\n",
        "# modelFilt.get_layer('lowAccuracyModelConv1_1')"
      ],
      "execution_count": 0,
      "outputs": []
    },
    {
      "metadata": {
        "id": "5AS3DZGUqNw1",
        "colab_type": "code",
        "colab": {}
      },
      "cell_type": "code",
      "source": [
        "modelFilt.get_layer('HighAccuracyConv1').set_weights(loaded_model_high_accuracy.get_layer('conv2d_1').get_weights())\n",
        "modelFilt.get_layer('HighAccuracyBN1').set_weights(loaded_model_high_accuracy.get_layer('batch_normalization_1').get_weights())\n",
        "# modelFilt.get_layer('HighAccuracyConv2').set_weights(loaded_model_high_accuracy.get_layer('conv2d_2').get_weights())\n",
        "modelFilt.get_layer('HighAccuracyConv2').set_weights(weights_to_assign)\n"
      ],
      "execution_count": 0,
      "outputs": []
    },
    {
      "metadata": {
        "id": "hQKKEkR2F-tx",
        "colab_type": "code",
        "colab": {}
      },
      "cell_type": "code",
      "source": [
        "modelFilt.get_layer('lowAccuracyModelConv1_1').set_weights(loaded_model_low_accuracy.get_layer('conv2d_1').get_weights())\n",
        "modelFilt.get_layer('lowAccuracyModelBN1').set_weights(loaded_model_low_accuracy.get_layer('batch_normalization_1').get_weights())\n",
        "# modelFilt.get_layer('HighAccuracyConv2').set_weights(loaded_model_high_accuracy.get_layer('conv2d_2').get_weights())\n",
        "# modelFilt.get_layer('lowAccuracyModelConv2_1').set_weights(loaded_model_low_accuracy.get_layer('conv2d_2').get_weights())"
      ],
      "execution_count": 0,
      "outputs": []
    },
    {
      "metadata": {
        "id": "vwuN8V9wJy4_",
        "colab_type": "code",
        "outputId": "bc02bdee-dec1-42ff-aabb-a7f1fbd769f7",
        "colab": {
          "base_uri": "https://localhost:8080/",
          "height": 34
        }
      },
      "cell_type": "code",
      "source": [
        "modelFilt.layers[28]"
      ],
      "execution_count": 45,
      "outputs": [
        {
          "output_type": "execute_result",
          "data": {
            "text/plain": [
              "<keras.layers.normalization.BatchNormalization at 0x7fac95a67978>"
            ]
          },
          "metadata": {
            "tags": []
          },
          "execution_count": 45
        }
      ]
    },
    {
      "metadata": {
        "id": "24vLwQTJqHgc",
        "colab_type": "code",
        "colab": {}
      },
      "cell_type": "code",
      "source": [
        "# modelFilt.layers[1].set_weights(loaded_model_low_accuracy.layers[1].get_weights())"
      ],
      "execution_count": 0,
      "outputs": []
    },
    {
      "metadata": {
        "id": "Bn5PhIlAqd8k",
        "colab_type": "code",
        "colab": {}
      },
      "cell_type": "code",
      "source": [
        "# layer_output = model.get_layer('vgg16').get_layer('block3_conv1').output\n",
        "\n",
        "# 28\n",
        "# loaded_model_low_accuracy.layers[1].get_weights()\n",
        "# loaded_model_low_accuracy.layers[0].get_weights()"
      ],
      "execution_count": 0,
      "outputs": []
    },
    {
      "metadata": {
        "id": "ASwQ6dQskQlv",
        "colab_type": "code",
        "colab": {}
      },
      "cell_type": "code",
      "source": [
        "# layer_dict_model_filt = dict([(layer.name, layer) for layer in modelFilt.layers])\n",
        "# layer_dict_model_filt['lowAccuracyModelConv1_1'].set_weights(loaded_model_low_accuracy['conv2d_1'].get_weights())"
      ],
      "execution_count": 0,
      "outputs": []
    },
    {
      "metadata": {
        "id": "SPmn-PX7kYYa",
        "colab_type": "code",
        "colab": {}
      },
      "cell_type": "code",
      "source": [
        "# weights_model_filt[0].shape"
      ],
      "execution_count": 0,
      "outputs": []
    },
    {
      "metadata": {
        "id": "CxwLbMxCjrpy",
        "colab_type": "code",
        "colab": {}
      },
      "cell_type": "code",
      "source": [
        "# modelFilt.get_layer('HighAccuracyConv1').ge"
      ],
      "execution_count": 0,
      "outputs": []
    },
    {
      "metadata": {
        "id": "59a_w_uXjkOl",
        "colab_type": "code",
        "colab": {}
      },
      "cell_type": "code",
      "source": [
        "# get_cnn1_output_function = K.function([trained_model.layers[0].input],\n",
        "#                                 [trained_model.get_layer(layer_name).output])   #get_layer test_three_label\n",
        "# cnn1_output = get_cnn1_output_function([data_to_use])[0]"
      ],
      "execution_count": 0,
      "outputs": []
    },
    {
      "metadata": {
        "id": "M48EuB2YpeEq",
        "colab_type": "code",
        "colab": {}
      },
      "cell_type": "code",
      "source": [
        "# modelFilt.layers[1].set_weights(loaded_model_low_accuracy.layers[1].get_weights())\n",
        "# modelFilt.layers[3].set_weights(loaded_model_low_accuracy.layers[2].get_weights())\n",
        "# modelFilt.layers[5].set_weights(loaded_model_low_accuracy.layers[3].get_weights())\n",
        "\n",
        "\n",
        "# modelFilt.layers[2].set_weights(loaded_model_high_accuracy.layers[1].get_weights())\n",
        "# modelFilt.layers[4].set_weights(loaded_model_high_accuracy.layers[2].get_weights())\n",
        "# modelFilt.layers[6].set_weights(loaded_model_high_accuracy.layers[3].get_weights())"
      ],
      "execution_count": 0,
      "outputs": []
    },
    {
      "metadata": {
        "id": "-2wj7j0_v8uR",
        "colab_type": "code",
        "colab": {}
      },
      "cell_type": "code",
      "source": [
        "# modelFilt.layers[2].set_weights(loaded_model_low_accuracy.layers[1].get_weights())\n",
        "# modelFilt.layers[4].set_weights(loaded_model_low_accuracy.layers[2].get_weights())\n",
        "# modelFilt.layers[6].set_weights(loaded_model_low_accuracy.layers[3].get_weights())\n",
        "\n",
        "\n",
        "# modelFilt.layers[1].set_weights(loaded_model_low_accuracy.layers[1].get_weights())\n",
        "# modelFilt.layers[3].set_weights(loaded_model_low_accuracy.layers[2].get_weights())\n",
        "# modelFilt.layers[5].set_weights(loaded_model_low_accuracy.layers[3].get_weights())"
      ],
      "execution_count": 0,
      "outputs": []
    },
    {
      "metadata": {
        "id": "NrTPnsVBtX05",
        "colab_type": "code",
        "colab": {}
      },
      "cell_type": "code",
      "source": [
        "# layer_dict_modelFilt['conv2d_1'].set_weights(loaded_model_low_accuracy.layers[1].get_weights())\n",
        "# layer_dict_modelFilt['batch_normalization_5'].set_weights(loaded_model_low_accuracy.layers[2].get_weights())\n",
        "# layer_dict_modelFilt['conv2d_2'].set_weights(loaded_model_low_accuracy.layers[3].get_weights())\n",
        "\n",
        "\n",
        "# layer_dict_modelFilt['HighAccuracyConv1'].set_weights(loaded_model_low_accuracy.layers[1].get_weights())\n",
        "# layer_dict_modelFilt['batch_normalization_3'].set_weights(loaded_model_low_accuracy.layers[2].get_weights())\n",
        "# layer_dict_modelFilt['HighAccuracyConv2'].set_weights(loaded_model_low_accuracy.layers[3].get_weights())"
      ],
      "execution_count": 0,
      "outputs": []
    },
    {
      "metadata": {
        "id": "y3pdihEIpeB2",
        "colab_type": "code",
        "colab": {}
      },
      "cell_type": "code",
      "source": [
        ""
      ],
      "execution_count": 0,
      "outputs": []
    },
    {
      "metadata": {
        "id": "a0b4AZgQFum1",
        "colab_type": "code",
        "colab": {}
      },
      "cell_type": "code",
      "source": [
        "# # set weights of some of the layers and make it non trainable!\n",
        "# layer_dict_low = dict([(layer.name, layer) for layer in loaded_model_low_accuracy.layers])\n",
        "# layer_dict_modelFilt = dict([(layer.name, layer) for layer in modelFilt.layers])\n",
        "\n",
        "\n"
      ],
      "execution_count": 0,
      "outputs": []
    },
    {
      "metadata": {
        "id": "o-nabstBFukL",
        "colab_type": "code",
        "colab": {}
      },
      "cell_type": "code",
      "source": [
        "# weights_low_conv2d1 = layer_dict_low['conv2d_1'].get_weights()\n",
        "# layer_dict_modelFilt['conv2d_1'].set_weights(weights_low_conv2d1)\n",
        "\n",
        "# weights_low_bn1 = layer_dict_low['batch_normalization_1'].get_weights()\n",
        "# layer_dict_modelFilt['batch_normalization_5'].set_weights(weights_low_bn1)\n",
        "\n",
        "# weights_low_conv2d_2 = layer_dict_low['conv2d_2'].get_weights()\n",
        "# layer_dict_modelFilt['conv2d_2'].set_weights(weights_low_conv2d_2)\n",
        "\n",
        "# modelFilt.layers[1].set_weights(weights_low_conv2d1)"
      ],
      "execution_count": 0,
      "outputs": []
    },
    {
      "metadata": {
        "id": "7OoELuuikAn6",
        "colab_type": "code",
        "colab": {}
      },
      "cell_type": "code",
      "source": [
        "# modelFilt"
      ],
      "execution_count": 0,
      "outputs": []
    },
    {
      "metadata": {
        "id": "wTCdHBwFZ4at",
        "colab_type": "code",
        "colab": {}
      },
      "cell_type": "code",
      "source": [
        "# set weights of some of the layers and make it non trainable!\n",
        "# layer_dict_high= dict([(layer.name, layer) for layer in loaded_model_high_accuracy.layers])\n",
        "# layer_dict_modelFilt = dict([(layer.name, layer) for layer in modelFilt.layers])"
      ],
      "execution_count": 0,
      "outputs": []
    },
    {
      "metadata": {
        "id": "UXkQ68OyZnI1",
        "colab_type": "code",
        "colab": {}
      },
      "cell_type": "code",
      "source": [
        "# weights_highconv2d1 = layer_dict_high['conv2d_1'].get_weights()\n",
        "# layer_dict_modelFilt['HighAccuracyConv1'].set_weights(weights_highconv2d1)\n",
        "\n",
        "# weights_high_bn1 = layer_dict_high['batch_normalization_1'].get_weights()\n",
        "# layer_dict_modelFilt['batch_normalization_3'].set_weights(weights_high_bn1)\n",
        "\n",
        "# weights_high_conv2d_2 = layer_dict_high['conv2d_2'].get_weights()\n",
        "# layer_dict_modelFilt['HighAccuracyConv2'].set_weights(weights_low_conv2d_2)\n",
        "# ### need to modify and zero put non redundant weights"
      ],
      "execution_count": 0,
      "outputs": []
    },
    {
      "metadata": {
        "id": "Y781xnnuorld",
        "colab_type": "code",
        "colab": {}
      },
      "cell_type": "code",
      "source": [
        "# weights_highconv2d1"
      ],
      "execution_count": 0,
      "outputs": []
    },
    {
      "metadata": {
        "id": "at5JqaEWojaV",
        "colab_type": "code",
        "colab": {}
      },
      "cell_type": "code",
      "source": [
        "# layer_dict_modelFilt['HighAccuracyConv1'].get_weights()"
      ],
      "execution_count": 0,
      "outputs": []
    },
    {
      "metadata": {
        "id": "wm5P4A9EY0th",
        "colab_type": "code",
        "colab": {}
      },
      "cell_type": "code",
      "source": [
        "# loaded_model_low_accuracy.summary()"
      ],
      "execution_count": 0,
      "outputs": []
    },
    {
      "metadata": {
        "id": "Lm7AFEZibLP9",
        "colab_type": "code",
        "colab": {}
      },
      "cell_type": "code",
      "source": [
        "# modelFilt.layers"
      ],
      "execution_count": 0,
      "outputs": []
    },
    {
      "metadata": {
        "id": "jKdEeJCdzLNt",
        "colab_type": "code",
        "colab": {}
      },
      "cell_type": "code",
      "source": [
        "# s = -1\n",
        "# for layer in modelFilt.layers[0:7]:\n",
        "#     s = s+1\n",
        "#     if (s%2) !=0:\n",
        "#       print(s)\n",
        "#       print(layer)\n",
        "#     layer.trainable = False"
      ],
      "execution_count": 0,
      "outputs": []
    },
    {
      "metadata": {
        "id": "Uk2JwzAGbCj0",
        "colab_type": "code",
        "colab": {}
      },
      "cell_type": "code",
      "source": [
        "# s = -1\n",
        "# for layer in modelFilt.layers[0:7]:\n",
        "#     s = s+1\n",
        "#     if (s%2) !=0:\n",
        "#       print(s)\n",
        "#       print(layer)\n",
        "#       layer.trainable = False"
      ],
      "execution_count": 0,
      "outputs": []
    },
    {
      "metadata": {
        "id": "knA2xBI4jrZF",
        "colab_type": "code",
        "outputId": "2f9a6a66-f5fd-4b93-c6fa-27d843f2fcad",
        "colab": {
          "base_uri": "https://localhost:8080/",
          "height": 850
        }
      },
      "cell_type": "code",
      "source": [
        "loaded_model_low_accuracy.summary()"
      ],
      "execution_count": 0,
      "outputs": [
        {
          "output_type": "stream",
          "text": [
            "_________________________________________________________________\n",
            "Layer (type)                 Output Shape              Param #   \n",
            "=================================================================\n",
            "input_1 (InputLayer)         (None, 32, 32, 3)         0         \n",
            "_________________________________________________________________\n",
            "conv2d_1 (Conv2D)            (None, 32, 32, 32)        896       \n",
            "_________________________________________________________________\n",
            "batch_normalization_1 (Batch (None, 32, 32, 32)        128       \n",
            "_________________________________________________________________\n",
            "conv2d_2 (Conv2D)            (None, 32, 32, 32)        9248      \n",
            "_________________________________________________________________\n",
            "batch_normalization_2 (Batch (None, 32, 32, 32)        128       \n",
            "_________________________________________________________________\n",
            "max_pooling2d_1 (MaxPooling2 (None, 16, 16, 32)        0         \n",
            "_________________________________________________________________\n",
            "dropout_1 (Dropout)          (None, 16, 16, 32)        0         \n",
            "_________________________________________________________________\n",
            "conv2d_3 (Conv2D)            (None, 16, 16, 64)        18496     \n",
            "_________________________________________________________________\n",
            "batch_normalization_3 (Batch (None, 16, 16, 64)        256       \n",
            "_________________________________________________________________\n",
            "conv2d_4 (Conv2D)            (None, 16, 16, 64)        36928     \n",
            "_________________________________________________________________\n",
            "batch_normalization_4 (Batch (None, 16, 16, 64)        256       \n",
            "_________________________________________________________________\n",
            "max_pooling2d_2 (MaxPooling2 (None, 8, 8, 64)          0         \n",
            "_________________________________________________________________\n",
            "dropout_2 (Dropout)          (None, 8, 8, 64)          0         \n",
            "_________________________________________________________________\n",
            "conv2d_5 (Conv2D)            (None, 8, 8, 128)         73856     \n",
            "_________________________________________________________________\n",
            "batch_normalization_5 (Batch (None, 8, 8, 128)         512       \n",
            "_________________________________________________________________\n",
            "conv2d_6 (Conv2D)            (None, 8, 8, 128)         147584    \n",
            "_________________________________________________________________\n",
            "batch_normalization_6 (Batch (None, 8, 8, 128)         512       \n",
            "_________________________________________________________________\n",
            "max_pooling2d_3 (MaxPooling2 (None, 4, 4, 128)         0         \n",
            "_________________________________________________________________\n",
            "dropout_3 (Dropout)          (None, 4, 4, 128)         0         \n",
            "_________________________________________________________________\n",
            "flatten_1 (Flatten)          (None, 2048)              0         \n",
            "_________________________________________________________________\n",
            "dense_1 (Dense)              (None, 3)                 6147      \n",
            "=================================================================\n",
            "Total params: 294,947\n",
            "Trainable params: 294,051\n",
            "Non-trainable params: 896\n",
            "_________________________________________________________________\n"
          ],
          "name": "stdout"
        }
      ]
    },
    {
      "metadata": {
        "id": "Ji5jVmbej-LM",
        "colab_type": "code",
        "outputId": "398b4f7e-5e8e-428b-f4a2-a7e523bf15b6",
        "colab": {
          "base_uri": "https://localhost:8080/",
          "height": 34
        }
      },
      "cell_type": "code",
      "source": [
        "loaded_model_low_accuracy.layers[5]"
      ],
      "execution_count": 0,
      "outputs": [
        {
          "output_type": "execute_result",
          "data": {
            "text/plain": [
              "<keras.layers.pooling.MaxPooling2D at 0x7fe00e1dd3c8>"
            ]
          },
          "metadata": {
            "tags": []
          },
          "execution_count": 66
        }
      ]
    },
    {
      "metadata": {
        "id": "0w2grlRlKQhJ",
        "colab_type": "code",
        "colab": {}
      },
      "cell_type": "code",
      "source": [
        "for l1,l2 in zip(modelFilt.layers[32:],loaded_model_low_accuracy.layers[8:]):\n",
        "#     print (l1)\n",
        "    l1.set_weights(l2.get_weights())"
      ],
      "execution_count": 0,
      "outputs": []
    },
    {
      "metadata": {
        "id": "7EozUm-dSIx2",
        "colab_type": "code",
        "outputId": "7c57be59-98bd-41eb-a94f-f98ad2a00e0e",
        "colab": {
          "base_uri": "https://localhost:8080/",
          "height": 1836
        }
      },
      "cell_type": "code",
      "source": [
        "modelFilt.summary()"
      ],
      "execution_count": 0,
      "outputs": [
        {
          "output_type": "stream",
          "text": [
            "__________________________________________________________________________________________________\n",
            "Layer (type)                    Output Shape         Param #     Connected to                     \n",
            "==================================================================================================\n",
            "input_1 (InputLayer)            (None, 32, 32, 3)    0                                            \n",
            "__________________________________________________________________________________________________\n",
            "HighAccuracyConv1 (Conv2D)      (None, 32, 32, 32)   896         input_1[0][0]                    \n",
            "__________________________________________________________________________________________________\n",
            "HighAccuracyBN1 (BatchNormaliza (None, 32, 32, 32)   128         HighAccuracyConv1[0][0]          \n",
            "__________________________________________________________________________________________________\n",
            "lowAccuracyModelConv1_1 (Conv2D (None, 32, 32, 32)   896         input_1[0][0]                    \n",
            "__________________________________________________________________________________________________\n",
            "HighAccuracyConv2 (Conv2D)      (None, 32, 32, 32)   9248        HighAccuracyBN1[0][0]            \n",
            "__________________________________________________________________________________________________\n",
            "lowAccuracyModelBN1 (BatchNorma (None, 32, 32, 32)   128         lowAccuracyModelConv1_1[0][0]    \n",
            "__________________________________________________________________________________________________\n",
            "lambda_41 (Lambda)              (None, 32, 32)       0           HighAccuracyConv2[0][0]          \n",
            "__________________________________________________________________________________________________\n",
            "lambda_43 (Lambda)              (None, 32, 32)       0           HighAccuracyConv2[0][0]          \n",
            "__________________________________________________________________________________________________\n",
            "lambda_45 (Lambda)              (None, 32, 32)       0           HighAccuracyConv2[0][0]          \n",
            "__________________________________________________________________________________________________\n",
            "lambda_47 (Lambda)              (None, 32, 32)       0           HighAccuracyConv2[0][0]          \n",
            "__________________________________________________________________________________________________\n",
            "lambda_49 (Lambda)              (None, 32, 32)       0           HighAccuracyConv2[0][0]          \n",
            "__________________________________________________________________________________________________\n",
            "lambda_51 (Lambda)              (None, 32, 32)       0           HighAccuracyConv2[0][0]          \n",
            "__________________________________________________________________________________________________\n",
            "lambda_53 (Lambda)              (None, 32, 32)       0           HighAccuracyConv2[0][0]          \n",
            "__________________________________________________________________________________________________\n",
            "lambda_55 (Lambda)              (None, 32, 32)       0           HighAccuracyConv2[0][0]          \n",
            "__________________________________________________________________________________________________\n",
            "lambda_57 (Lambda)              (None, 32, 32)       0           HighAccuracyConv2[0][0]          \n",
            "__________________________________________________________________________________________________\n",
            "lambda_59 (Lambda)              (None, 32, 32)       0           HighAccuracyConv2[0][0]          \n",
            "__________________________________________________________________________________________________\n",
            "lowAccuracyModelConv2_1 (Conv2D (None, 32, 32, 32)   9248        lowAccuracyModelBN1[0][0]        \n",
            "__________________________________________________________________________________________________\n",
            "lambda_42 (Lambda)              (None, 32, 32, 1)    0           lambda_41[0][0]                  \n",
            "__________________________________________________________________________________________________\n",
            "lambda_44 (Lambda)              (None, 32, 32, 1)    0           lambda_43[0][0]                  \n",
            "__________________________________________________________________________________________________\n",
            "lambda_46 (Lambda)              (None, 32, 32, 1)    0           lambda_45[0][0]                  \n",
            "__________________________________________________________________________________________________\n",
            "lambda_48 (Lambda)              (None, 32, 32, 1)    0           lambda_47[0][0]                  \n",
            "__________________________________________________________________________________________________\n",
            "lambda_50 (Lambda)              (None, 32, 32, 1)    0           lambda_49[0][0]                  \n",
            "__________________________________________________________________________________________________\n",
            "lambda_52 (Lambda)              (None, 32, 32, 1)    0           lambda_51[0][0]                  \n",
            "__________________________________________________________________________________________________\n",
            "lambda_54 (Lambda)              (None, 32, 32, 1)    0           lambda_53[0][0]                  \n",
            "__________________________________________________________________________________________________\n",
            "lambda_56 (Lambda)              (None, 32, 32, 1)    0           lambda_55[0][0]                  \n",
            "__________________________________________________________________________________________________\n",
            "lambda_58 (Lambda)              (None, 32, 32, 1)    0           lambda_57[0][0]                  \n",
            "__________________________________________________________________________________________________\n",
            "lambda_60 (Lambda)              (None, 32, 32, 1)    0           lambda_59[0][0]                  \n",
            "__________________________________________________________________________________________________\n",
            "concatenate_9 (Concatenate)     (None, 32, 32, 42)   0           lowAccuracyModelConv2_1[0][0]    \n",
            "                                                                 lambda_42[0][0]                  \n",
            "                                                                 lambda_44[0][0]                  \n",
            "                                                                 lambda_46[0][0]                  \n",
            "                                                                 lambda_48[0][0]                  \n",
            "                                                                 lambda_50[0][0]                  \n",
            "                                                                 lambda_52[0][0]                  \n",
            "                                                                 lambda_54[0][0]                  \n",
            "                                                                 lambda_56[0][0]                  \n",
            "                                                                 lambda_58[0][0]                  \n",
            "                                                                 lambda_60[0][0]                  \n",
            "__________________________________________________________________________________________________\n",
            "batch_normalization_24 (BatchNo (None, 32, 32, 42)   168         concatenate_9[0][0]              \n",
            "__________________________________________________________________________________________________\n",
            "max_pooling2d_13 (MaxPooling2D) (None, 16, 16, 42)   0           batch_normalization_24[0][0]     \n",
            "__________________________________________________________________________________________________\n",
            "dropout_13 (Dropout)            (None, 16, 16, 42)   0           max_pooling2d_13[0][0]           \n",
            "__________________________________________________________________________________________________\n",
            "conv2d_17 (Conv2D)              (None, 16, 16, 64)   24256       dropout_13[0][0]                 \n",
            "__________________________________________________________________________________________________\n",
            "batch_normalization_25 (BatchNo (None, 16, 16, 64)   256         conv2d_17[0][0]                  \n",
            "__________________________________________________________________________________________________\n",
            "conv2d_18 (Conv2D)              (None, 16, 16, 64)   36928       batch_normalization_25[0][0]     \n",
            "__________________________________________________________________________________________________\n",
            "batch_normalization_26 (BatchNo (None, 16, 16, 64)   256         conv2d_18[0][0]                  \n",
            "__________________________________________________________________________________________________\n",
            "max_pooling2d_14 (MaxPooling2D) (None, 8, 8, 64)     0           batch_normalization_26[0][0]     \n",
            "__________________________________________________________________________________________________\n",
            "dropout_14 (Dropout)            (None, 8, 8, 64)     0           max_pooling2d_14[0][0]           \n",
            "__________________________________________________________________________________________________\n",
            "conv2d_19 (Conv2D)              (None, 8, 8, 128)    73856       dropout_14[0][0]                 \n",
            "__________________________________________________________________________________________________\n",
            "batch_normalization_27 (BatchNo (None, 8, 8, 128)    512         conv2d_19[0][0]                  \n",
            "__________________________________________________________________________________________________\n",
            "conv2d_20 (Conv2D)              (None, 8, 8, 128)    147584      batch_normalization_27[0][0]     \n",
            "__________________________________________________________________________________________________\n",
            "batch_normalization_28 (BatchNo (None, 8, 8, 128)    512         conv2d_20[0][0]                  \n",
            "__________________________________________________________________________________________________\n",
            "max_pooling2d_15 (MaxPooling2D) (None, 4, 4, 128)    0           batch_normalization_28[0][0]     \n",
            "__________________________________________________________________________________________________\n",
            "dropout_15 (Dropout)            (None, 4, 4, 128)    0           max_pooling2d_15[0][0]           \n",
            "__________________________________________________________________________________________________\n",
            "flatten_5 (Flatten)             (None, 2048)         0           dropout_15[0][0]                 \n",
            "__________________________________________________________________________________________________\n",
            "dense_5 (Dense)                 (None, 3)            6147        flatten_5[0][0]                  \n",
            "==================================================================================================\n",
            "Total params: 311,019\n",
            "Trainable params: 289,623\n",
            "Non-trainable params: 21,396\n",
            "__________________________________________________________________________________________________\n"
          ],
          "name": "stdout"
        }
      ]
    },
    {
      "metadata": {
        "id": "fev8cENxbr-P",
        "colab_type": "code",
        "colab": {}
      },
      "cell_type": "code",
      "source": [
        "mcp_save = ModelCheckpoint('weights.hdf5', save_best_only=True, monitor='val_loss', mode='auto')"
      ],
      "execution_count": 0,
      "outputs": []
    },
    {
      "metadata": {
        "id": "0BTKJa7Zbwtc",
        "colab_type": "code",
        "colab": {}
      },
      "cell_type": "code",
      "source": [
        "def lr_schedule(epoch):\n",
        "    lrate = 0.0001\n",
        "    if epoch > 75:\n",
        "        lrate = 0.0005\n",
        "    if epoch > 100:\n",
        "        lrate = 0.0003\n",
        "    return lrate"
      ],
      "execution_count": 0,
      "outputs": []
    },
    {
      "metadata": {
        "id": "sIOMXQsjdSNX",
        "colab_type": "code",
        "outputId": "c13a88a7-ecf1-4199-9e8b-2723374721b6",
        "colab": {
          "base_uri": "https://localhost:8080/",
          "height": 2074
        }
      },
      "cell_type": "code",
      "source": [
        "modelFilt.fit_generator(datagen.flow(train_X, train_ground, batch_size=batch_size),\\\n",
        "                    steps_per_epoch=train_X.shape[0] // batch_size,epochs=60,\\\n",
        "                    verbose=1,validation_data=(valid_X,valid_ground),\n",
        "                    shuffle = True,callbacks=[mcp_save,LearningRateScheduler(lr_schedule)])"
      ],
      "execution_count": 49,
      "outputs": [
        {
          "output_type": "stream",
          "text": [
            "Epoch 1/60\n",
            "187/187 [==============================] - 10s 56ms/step - loss: 1.0229 - acc: 0.6094 - val_loss: 0.7562 - val_acc: 0.7007\n",
            "Epoch 2/60\n",
            "187/187 [==============================] - 6s 35ms/step - loss: 0.6793 - acc: 0.7136 - val_loss: 0.6199 - val_acc: 0.7677\n",
            "Epoch 3/60\n",
            "187/187 [==============================] - 6s 34ms/step - loss: 0.5963 - acc: 0.7630 - val_loss: 0.5316 - val_acc: 0.7987\n",
            "Epoch 4/60\n",
            "187/187 [==============================] - 7s 35ms/step - loss: 0.5476 - acc: 0.7882 - val_loss: 0.4973 - val_acc: 0.8227\n",
            "Epoch 5/60\n",
            "187/187 [==============================] - 7s 35ms/step - loss: 0.5128 - acc: 0.8034 - val_loss: 0.5069 - val_acc: 0.8230\n",
            "Epoch 6/60\n",
            "187/187 [==============================] - 6s 35ms/step - loss: 0.4938 - acc: 0.8184 - val_loss: 0.4802 - val_acc: 0.8287\n",
            "Epoch 7/60\n",
            "187/187 [==============================] - 6s 34ms/step - loss: 0.4765 - acc: 0.8249 - val_loss: 0.4566 - val_acc: 0.8363\n",
            "Epoch 8/60\n",
            "187/187 [==============================] - 6s 35ms/step - loss: 0.4540 - acc: 0.8334 - val_loss: 0.4163 - val_acc: 0.8513\n",
            "Epoch 9/60\n",
            "187/187 [==============================] - 7s 35ms/step - loss: 0.4570 - acc: 0.8330 - val_loss: 0.4078 - val_acc: 0.8580\n",
            "Epoch 10/60\n",
            "187/187 [==============================] - 7s 38ms/step - loss: 0.4417 - acc: 0.8386 - val_loss: 0.4001 - val_acc: 0.8580\n",
            "Epoch 11/60\n",
            "187/187 [==============================] - 7s 37ms/step - loss: 0.4309 - acc: 0.8430 - val_loss: 0.4211 - val_acc: 0.8473\n",
            "Epoch 12/60\n",
            "187/187 [==============================] - 7s 36ms/step - loss: 0.4259 - acc: 0.8479 - val_loss: 0.3836 - val_acc: 0.8623\n",
            "Epoch 13/60\n",
            "187/187 [==============================] - 7s 36ms/step - loss: 0.4116 - acc: 0.8542 - val_loss: 0.4217 - val_acc: 0.8533\n",
            "Epoch 14/60\n",
            "187/187 [==============================] - 7s 36ms/step - loss: 0.4173 - acc: 0.8496 - val_loss: 0.3927 - val_acc: 0.8627\n",
            "Epoch 15/60\n",
            "187/187 [==============================] - 7s 39ms/step - loss: 0.3924 - acc: 0.8605 - val_loss: 0.3941 - val_acc: 0.8657\n",
            "Epoch 16/60\n",
            "187/187 [==============================] - 7s 37ms/step - loss: 0.3944 - acc: 0.8570 - val_loss: 0.3794 - val_acc: 0.8703\n",
            "Epoch 17/60\n",
            "187/187 [==============================] - 7s 36ms/step - loss: 0.3949 - acc: 0.8615 - val_loss: 0.3844 - val_acc: 0.8627\n",
            "Epoch 18/60\n",
            "187/187 [==============================] - 7s 37ms/step - loss: 0.3829 - acc: 0.8651 - val_loss: 0.3690 - val_acc: 0.8737\n",
            "Epoch 19/60\n",
            "187/187 [==============================] - 7s 37ms/step - loss: 0.3872 - acc: 0.8655 - val_loss: 0.4075 - val_acc: 0.8597\n",
            "Epoch 20/60\n",
            "187/187 [==============================] - 7s 36ms/step - loss: 0.3749 - acc: 0.8651 - val_loss: 0.3868 - val_acc: 0.8677\n",
            "Epoch 21/60\n",
            "187/187 [==============================] - 7s 37ms/step - loss: 0.3795 - acc: 0.8681 - val_loss: 0.3704 - val_acc: 0.8673\n",
            "Epoch 22/60\n",
            "187/187 [==============================] - 8s 40ms/step - loss: 0.3760 - acc: 0.8700 - val_loss: 0.3851 - val_acc: 0.8700\n",
            "Epoch 23/60\n",
            "187/187 [==============================] - 7s 36ms/step - loss: 0.3747 - acc: 0.8681 - val_loss: 0.3637 - val_acc: 0.8773\n",
            "Epoch 24/60\n",
            "187/187 [==============================] - 7s 36ms/step - loss: 0.3578 - acc: 0.8777 - val_loss: 0.3811 - val_acc: 0.8770\n",
            "Epoch 25/60\n",
            "187/187 [==============================] - 7s 36ms/step - loss: 0.3651 - acc: 0.8751 - val_loss: 0.3501 - val_acc: 0.8820\n",
            "Epoch 26/60\n",
            "187/187 [==============================] - 7s 36ms/step - loss: 0.3616 - acc: 0.8734 - val_loss: 0.3975 - val_acc: 0.8653\n",
            "Epoch 27/60\n",
            "187/187 [==============================] - 7s 36ms/step - loss: 0.3567 - acc: 0.8765 - val_loss: 0.3626 - val_acc: 0.8757\n",
            "Epoch 28/60\n",
            "187/187 [==============================] - 7s 36ms/step - loss: 0.3662 - acc: 0.8743 - val_loss: 0.3985 - val_acc: 0.8730\n",
            "Epoch 29/60\n",
            "187/187 [==============================] - 7s 36ms/step - loss: 0.3467 - acc: 0.8839 - val_loss: 0.3372 - val_acc: 0.8847\n",
            "Epoch 30/60\n",
            "187/187 [==============================] - 7s 36ms/step - loss: 0.3560 - acc: 0.8788 - val_loss: 0.3518 - val_acc: 0.8787\n",
            "Epoch 31/60\n",
            "187/187 [==============================] - 7s 36ms/step - loss: 0.3506 - acc: 0.8808 - val_loss: 0.3568 - val_acc: 0.8793\n",
            "Epoch 32/60\n",
            "187/187 [==============================] - 7s 36ms/step - loss: 0.3520 - acc: 0.8810 - val_loss: 0.3699 - val_acc: 0.8827\n",
            "Epoch 33/60\n",
            "187/187 [==============================] - 7s 38ms/step - loss: 0.3368 - acc: 0.8829 - val_loss: 0.3327 - val_acc: 0.8830\n",
            "Epoch 34/60\n",
            "187/187 [==============================] - 7s 40ms/step - loss: 0.3431 - acc: 0.8830 - val_loss: 0.3580 - val_acc: 0.8857\n",
            "Epoch 35/60\n",
            "187/187 [==============================] - 7s 37ms/step - loss: 0.3459 - acc: 0.8834 - val_loss: 0.3424 - val_acc: 0.8887\n",
            "Epoch 36/60\n",
            "187/187 [==============================] - 8s 41ms/step - loss: 0.3351 - acc: 0.8858 - val_loss: 0.3601 - val_acc: 0.8813\n",
            "Epoch 37/60\n",
            "187/187 [==============================] - 7s 36ms/step - loss: 0.3371 - acc: 0.8860 - val_loss: 0.3602 - val_acc: 0.8837\n",
            "Epoch 38/60\n",
            "187/187 [==============================] - 7s 36ms/step - loss: 0.3258 - acc: 0.8898 - val_loss: 0.3576 - val_acc: 0.8843\n",
            "Epoch 39/60\n",
            "187/187 [==============================] - 7s 36ms/step - loss: 0.3259 - acc: 0.8902 - val_loss: 0.3522 - val_acc: 0.8797\n",
            "Epoch 40/60\n",
            "187/187 [==============================] - 7s 36ms/step - loss: 0.3262 - acc: 0.8854 - val_loss: 0.3452 - val_acc: 0.8807\n",
            "Epoch 41/60\n",
            "187/187 [==============================] - 7s 36ms/step - loss: 0.3335 - acc: 0.8906 - val_loss: 0.3520 - val_acc: 0.8847\n",
            "Epoch 42/60\n",
            "187/187 [==============================] - 7s 35ms/step - loss: 0.3301 - acc: 0.8885 - val_loss: 0.3657 - val_acc: 0.8810\n",
            "Epoch 43/60\n",
            "187/187 [==============================] - 7s 36ms/step - loss: 0.3243 - acc: 0.8921 - val_loss: 0.3832 - val_acc: 0.8757\n",
            "Epoch 44/60\n",
            "187/187 [==============================] - 7s 36ms/step - loss: 0.3151 - acc: 0.8931 - val_loss: 0.3284 - val_acc: 0.8907\n",
            "Epoch 45/60\n",
            "187/187 [==============================] - 7s 40ms/step - loss: 0.3245 - acc: 0.8935 - val_loss: 0.3835 - val_acc: 0.8750\n",
            "Epoch 46/60\n",
            "187/187 [==============================] - 7s 38ms/step - loss: 0.3236 - acc: 0.8936 - val_loss: 0.3476 - val_acc: 0.8877\n",
            "Epoch 47/60\n",
            "187/187 [==============================] - 7s 36ms/step - loss: 0.3185 - acc: 0.8962 - val_loss: 0.3693 - val_acc: 0.8753\n",
            "Epoch 48/60\n",
            "187/187 [==============================] - 7s 36ms/step - loss: 0.3163 - acc: 0.8951 - val_loss: 0.3641 - val_acc: 0.8813\n",
            "Epoch 49/60\n",
            "187/187 [==============================] - 7s 36ms/step - loss: 0.3128 - acc: 0.8967 - val_loss: 0.3181 - val_acc: 0.8907\n",
            "Epoch 50/60\n",
            "187/187 [==============================] - 7s 36ms/step - loss: 0.3143 - acc: 0.8922 - val_loss: 0.3787 - val_acc: 0.8800\n",
            "Epoch 51/60\n",
            "187/187 [==============================] - 7s 36ms/step - loss: 0.3055 - acc: 0.8979 - val_loss: 0.3741 - val_acc: 0.8750\n",
            "Epoch 52/60\n",
            "187/187 [==============================] - 7s 37ms/step - loss: 0.3103 - acc: 0.8986 - val_loss: 0.3086 - val_acc: 0.8957\n",
            "Epoch 53/60\n",
            "187/187 [==============================] - 7s 36ms/step - loss: 0.3169 - acc: 0.8969 - val_loss: 0.3287 - val_acc: 0.8847\n",
            "Epoch 54/60\n",
            "187/187 [==============================] - 7s 36ms/step - loss: 0.3096 - acc: 0.8956 - val_loss: 0.3242 - val_acc: 0.8923\n",
            "Epoch 55/60\n",
            "187/187 [==============================] - 7s 36ms/step - loss: 0.3073 - acc: 0.8950 - val_loss: 0.3427 - val_acc: 0.8847\n",
            "Epoch 56/60\n",
            "187/187 [==============================] - 7s 36ms/step - loss: 0.2925 - acc: 0.9051 - val_loss: 0.3347 - val_acc: 0.8867\n",
            "Epoch 57/60\n",
            "187/187 [==============================] - 7s 40ms/step - loss: 0.3030 - acc: 0.8976 - val_loss: 0.4726 - val_acc: 0.8520\n",
            "Epoch 58/60\n",
            "187/187 [==============================] - 7s 37ms/step - loss: 0.3073 - acc: 0.8983 - val_loss: 0.3155 - val_acc: 0.8973\n",
            "Epoch 59/60\n",
            "187/187 [==============================] - 7s 36ms/step - loss: 0.3022 - acc: 0.8978 - val_loss: 0.3833 - val_acc: 0.8780\n",
            "Epoch 60/60\n",
            "187/187 [==============================] - 7s 39ms/step - loss: 0.3004 - acc: 0.8992 - val_loss: 0.3225 - val_acc: 0.8953\n"
          ],
          "name": "stdout"
        },
        {
          "output_type": "execute_result",
          "data": {
            "text/plain": [
              "<keras.callbacks.History at 0x7fac951b9dd8>"
            ]
          },
          "metadata": {
            "tags": []
          },
          "execution_count": 49
        }
      ]
    },
    {
      "metadata": {
        "id": "MAnK7D_Mm_dz",
        "colab_type": "code",
        "colab": {}
      },
      "cell_type": "code",
      "source": [
        "modelFilt.load_weights('weights.hdf5')"
      ],
      "execution_count": 0,
      "outputs": []
    },
    {
      "metadata": {
        "id": "-8ZXIw1Um_ao",
        "colab_type": "code",
        "colab": {}
      },
      "cell_type": "code",
      "source": [
        "modelFilt.save('ModifiedModelHybridConstantLayers.h5')\n"
      ],
      "execution_count": 0,
      "outputs": []
    },
    {
      "metadata": {
        "id": "bZsEELS6m_WM",
        "colab_type": "code",
        "outputId": "549b970f-9c27-49a1-a069-98649f1b3a56",
        "colab": {
          "base_uri": "https://localhost:8080/",
          "height": 545
        }
      },
      "cell_type": "code",
      "source": [
        "accuracy = modelFilt.history.history['acc']\n",
        "val_accuracy = modelFilt.history.history['val_acc']\n",
        "loss = modelFilt.history.history['loss']\n",
        "val_loss = modelFilt.history.history['val_loss']\n",
        "epochs = range(len(accuracy))\n",
        "plt.plot(epochs, accuracy, 'b', label='Training accuracy')\n",
        "plt.plot(epochs, val_accuracy, 'r', label='Validation accuracy')\n",
        "plt.title('Training and validation accuracy')\n",
        "plt.legend()\n",
        "plt.figure()\n",
        "plt.plot(epochs, loss, 'b', label='Training loss')\n",
        "plt.plot(epochs, val_loss, 'r', label='Validation loss')\n",
        "plt.title('Training and validation loss')\n",
        "plt.legend()\n",
        "plt.show()"
      ],
      "execution_count": 52,
      "outputs": [
        {
          "output_type": "display_data",
          "data": {
            "image/png": "[encoded data removed]",
            "text/plain": [
              "<Figure size 432x288 with 1 Axes>"
            ]
          },
          "metadata": {
            "tags": []
          }
        },
        {
          "output_type": "display_data",
          "data": {
            "image/png": "[encoded data removed]",
            "text/plain": [
              "<Figure size 432x288 with 1 Axes>"
            ]
          },
          "metadata": {
            "tags": []
          }
        }
      ]
    },
    {
      "metadata": {
        "id": "5S9iJ-HGnRFW",
        "colab_type": "code",
        "outputId": "34fdf2e3-6425-4bd5-b1cd-e7e25586c08c",
        "colab": {
          "base_uri": "https://localhost:8080/",
          "height": 34
        }
      },
      "cell_type": "code",
      "source": [
        "modelFilt.evaluate(valid_X, valid_ground, verbose=0)"
      ],
      "execution_count": 53,
      "outputs": [
        {
          "output_type": "execute_result",
          "data": {
            "text/plain": [
              "[0.3085639252265294, 0.895666666507721]"
            ]
          },
          "metadata": {
            "tags": []
          },
          "execution_count": 53
        }
      ]
    },
    {
      "metadata": {
        "id": "gRuSLttWnRCR",
        "colab_type": "code",
        "outputId": "3231ec8b-5f42-4c42-f2a2-74202d188a5e",
        "colab": {
          "base_uri": "https://localhost:8080/",
          "height": 51
        }
      },
      "cell_type": "code",
      "source": [
        "#testing\n",
        "test_eval = modelFilt.evaluate(test_three_data, test_three_label_one_hot, verbose=0)\n",
        "print('Test loss:', test_eval[0])\n",
        "print('Test accuracy:', test_eval[1])"
      ],
      "execution_count": 54,
      "outputs": [
        {
          "output_type": "stream",
          "text": [
            "Test loss: 0.33663072462876636\n",
            "Test accuracy: 0.886333333492279\n"
          ],
          "name": "stdout"
        }
      ]
    },
    {
      "metadata": {
        "id": "MI4AzYZDnQ_X",
        "colab_type": "code",
        "colab": {}
      },
      "cell_type": "code",
      "source": [
        ""
      ],
      "execution_count": 0,
      "outputs": []
    },
    {
      "metadata": {
        "id": "GCHKtUi6nQ8I",
        "colab_type": "code",
        "colab": {}
      },
      "cell_type": "code",
      "source": [
        ""
      ],
      "execution_count": 0,
      "outputs": []
    },
    {
      "metadata": {
        "id": "ie8_KBL8TIl6",
        "colab_type": "code",
        "outputId": "e9dadd09-2000-4f72-d9e7-1974347cf229",
        "colab": {
          "base_uri": "https://localhost:8080/",
          "height": 346
        }
      },
      "cell_type": "code",
      "source": [
        "# now get DI score of a layer from high accuracy and low accuracy model\n",
        "layer_name = 'HighAccuracyConv2'\n",
        "discores_low_acc_model = createCNNLayerDIScorePlot(modelFilt, layer_name)"
      ],
      "execution_count": 0,
      "outputs": [
        {
          "output_type": "stream",
          "text": [
            "Mean of DI SCore:  0.47800322599191625\n",
            "STD of DI Score:  0.07607869969361732\n",
            "MAX of DI Score:  0.6407786286668374\n"
          ],
          "name": "stdout"
        },
        {
          "output_type": "display_data",
          "data": {
            "image/png": "[encoded data removed]",
            "text/plain": [
              "<Figure size 432x288 with 1 Axes>"
            ]
          },
          "metadata": {
            "tags": []
          }
        }
      ]
    },
    {
      "metadata": {
        "id": "r2XDOWtOP2p7",
        "colab_type": "code",
        "colab": {}
      },
      "cell_type": "code",
      "source": [
        "modelFilt.summary()"
      ],
      "execution_count": 0,
      "outputs": []
    },
    {
      "metadata": {
        "id": "CXVt9e15sCf8",
        "colab_type": "code",
        "outputId": "7e737ef7-5020-46e4-e233-d1caa2e064b1",
        "colab": {
          "base_uri": "https://localhost:8080/",
          "height": 346
        }
      },
      "cell_type": "code",
      "source": [
        "layer_name = 'conv2d_8'\n",
        "discores_low_acc_model = createCNNLayerDIScorePlot(modelFilt, layer_name)"
      ],
      "execution_count": 0,
      "outputs": [
        {
          "output_type": "stream",
          "text": [
            "Mean of DI SCore:  0.5925375772649611\n",
            "STD of DI Score:  0.056699249107349546\n",
            "MAX of DI Score:  0.6699787896299502\n"
          ],
          "name": "stdout"
        },
        {
          "output_type": "display_data",
          "data": {
            "image/png": "[encoded data removed]",
            "text/plain": [
              "<Figure size 432x288 with 1 Axes>"
            ]
          },
          "metadata": {
            "tags": []
          }
        }
      ]
    },
    {
      "metadata": {
        "id": "dxnMxP6cTGLO",
        "colab_type": "text"
      },
      "cell_type": "markdown",
      "source": [
        " "
      ]
    },
    {
      "metadata": {
        "id": "_w7HlgF3XA9E",
        "colab_type": "code",
        "colab": {}
      },
      "cell_type": "code",
      "source": [
        ""
      ],
      "execution_count": 0,
      "outputs": []
    },
    {
      "metadata": {
        "id": "RX5m4EEvXA5g",
        "colab_type": "code",
        "colab": {}
      },
      "cell_type": "code",
      "source": [
        ""
      ],
      "execution_count": 0,
      "outputs": []
    },
    {
      "metadata": {
        "id": "72XqLffkXA20",
        "colab_type": "code",
        "colab": {}
      },
      "cell_type": "code",
      "source": [
        ""
      ],
      "execution_count": 0,
      "outputs": []
    },
    {
      "metadata": {
        "id": "EF-E1FlfXAgF",
        "colab_type": "text"
      },
      "cell_type": "markdown",
      "source": [
        ""
      ]
    },
    {
      "metadata": {
        "id": "qyH9eKlYbXNn",
        "colab_type": "code",
        "outputId": "9629cc52-ce19-4bfb-ab0c-5d1c85e43c4a",
        "colab": {
          "base_uri": "https://localhost:8080/",
          "height": 2026
        }
      },
      "cell_type": "code",
      "source": [
        "modelFilt.fit_generator(datagen.flow(train_X, train_ground, batch_size=batch_size),\\\n",
        "                    steps_per_epoch=train_X.shape[0] // batch_size,epochs=60,\\\n",
        "                    verbose=1,validation_data=(valid_X,valid_ground),\n",
        "                    shuffle = True,callbacks=[mcp_save,LearningRateScheduler(lr_schedule)])\n",
        "#save to disk\n",
        "# model_json = model.to_json()\n",
        "# with open('modelHighAcc.json', 'w') as json_file:\n",
        "#     json_file.write(model_json)\n",
        "# model.save_weights('modelHighAcc.h5') \n",
        "# model.save('high_acc_complete_modelConv2d_2.h5')\n"
      ],
      "execution_count": 0,
      "outputs": [
        {
          "output_type": "stream",
          "text": [
            "Epoch 1/60\n",
            "187/187 [==============================] - 10s 55ms/step - loss: 1.0914 - acc: 0.6170 - val_loss: 1.0533 - val_acc: 0.6503\n",
            "Epoch 2/60\n",
            "187/187 [==============================] - 6s 33ms/step - loss: 0.7965 - acc: 0.6631 - val_loss: 0.6973 - val_acc: 0.7247\n",
            "Epoch 3/60\n",
            "187/187 [==============================] - 6s 33ms/step - loss: 0.6907 - acc: 0.7025 - val_loss: 0.6277 - val_acc: 0.7327\n",
            "Epoch 4/60\n",
            "187/187 [==============================] - 6s 33ms/step - loss: 0.6372 - acc: 0.7331 - val_loss: 0.5845 - val_acc: 0.7633\n",
            "Epoch 5/60\n",
            "187/187 [==============================] - 6s 33ms/step - loss: 0.5893 - acc: 0.7575 - val_loss: 0.5723 - val_acc: 0.7650\n",
            "Epoch 6/60\n",
            "187/187 [==============================] - 6s 33ms/step - loss: 0.5638 - acc: 0.7772 - val_loss: 0.5688 - val_acc: 0.7923\n",
            "Epoch 7/60\n",
            "187/187 [==============================] - 7s 38ms/step - loss: 0.5404 - acc: 0.7868 - val_loss: 0.5032 - val_acc: 0.8123\n",
            "Epoch 8/60\n",
            "187/187 [==============================] - 7s 37ms/step - loss: 0.5651 - acc: 0.7914 - val_loss: 0.4749 - val_acc: 0.8183\n",
            "Epoch 9/60\n",
            "187/187 [==============================] - 6s 33ms/step - loss: 0.5130 - acc: 0.8015 - val_loss: 0.8505 - val_acc: 0.6970\n",
            "Epoch 10/60\n",
            "187/187 [==============================] - 7s 37ms/step - loss: 0.4912 - acc: 0.8123 - val_loss: 0.4684 - val_acc: 0.8337\n",
            "Epoch 11/60\n",
            "187/187 [==============================] - 7s 36ms/step - loss: 0.4880 - acc: 0.8147 - val_loss: 0.4659 - val_acc: 0.8307\n",
            "Epoch 12/60\n",
            "187/187 [==============================] - 6s 33ms/step - loss: 0.4772 - acc: 0.8246 - val_loss: 0.4656 - val_acc: 0.8333\n",
            "Epoch 13/60\n",
            "187/187 [==============================] - 6s 33ms/step - loss: 0.4620 - acc: 0.8308 - val_loss: 0.4341 - val_acc: 0.8480\n",
            "Epoch 14/60\n",
            "187/187 [==============================] - 6s 33ms/step - loss: 0.4480 - acc: 0.8366 - val_loss: 0.5995 - val_acc: 0.8087\n",
            "Epoch 15/60\n",
            "187/187 [==============================] - 6s 33ms/step - loss: 0.4506 - acc: 0.8375 - val_loss: 0.4449 - val_acc: 0.8377\n",
            "Epoch 16/60\n",
            "187/187 [==============================] - 6s 33ms/step - loss: 0.4393 - acc: 0.8422 - val_loss: 0.5139 - val_acc: 0.8280\n",
            "Epoch 17/60\n",
            "187/187 [==============================] - 6s 33ms/step - loss: 0.4462 - acc: 0.8391 - val_loss: 0.4592 - val_acc: 0.8350\n",
            "Epoch 18/60\n",
            "187/187 [==============================] - 6s 33ms/step - loss: 0.4315 - acc: 0.8464 - val_loss: 0.5755 - val_acc: 0.8043\n",
            "Epoch 19/60\n",
            "187/187 [==============================] - 6s 33ms/step - loss: 0.4305 - acc: 0.8475 - val_loss: 0.4241 - val_acc: 0.8500\n",
            "Epoch 20/60\n",
            "187/187 [==============================] - 6s 33ms/step - loss: 0.4261 - acc: 0.8501 - val_loss: 0.4542 - val_acc: 0.8373\n",
            "Epoch 21/60\n",
            "187/187 [==============================] - 6s 33ms/step - loss: 0.4137 - acc: 0.8554 - val_loss: 0.4838 - val_acc: 0.8317\n",
            "Epoch 22/60\n",
            "187/187 [==============================] - 6s 33ms/step - loss: 0.4216 - acc: 0.8521 - val_loss: 0.5241 - val_acc: 0.8177\n",
            "Epoch 23/60\n",
            "187/187 [==============================] - 7s 38ms/step - loss: 0.4239 - acc: 0.8544 - val_loss: 0.4090 - val_acc: 0.8617\n",
            "Epoch 24/60\n",
            "187/187 [==============================] - 7s 35ms/step - loss: 0.4111 - acc: 0.8630 - val_loss: 0.4724 - val_acc: 0.8287\n",
            "Epoch 25/60\n",
            "187/187 [==============================] - 6s 33ms/step - loss: 0.3932 - acc: 0.8648 - val_loss: 0.4638 - val_acc: 0.8450\n",
            "Epoch 26/60\n",
            "187/187 [==============================] - 6s 33ms/step - loss: 0.3906 - acc: 0.8677 - val_loss: 0.6440 - val_acc: 0.8327\n",
            "Epoch 27/60\n",
            "187/187 [==============================] - 6s 33ms/step - loss: 0.3948 - acc: 0.8681 - val_loss: 0.4341 - val_acc: 0.8533\n",
            "Epoch 28/60\n",
            "187/187 [==============================] - 6s 33ms/step - loss: 0.3927 - acc: 0.8655 - val_loss: 0.4833 - val_acc: 0.8410\n",
            "Epoch 29/60\n",
            "187/187 [==============================] - 6s 33ms/step - loss: 0.3919 - acc: 0.8715 - val_loss: 0.4792 - val_acc: 0.8440\n",
            "Epoch 30/60\n",
            "187/187 [==============================] - 6s 33ms/step - loss: 0.3878 - acc: 0.8689 - val_loss: 0.4615 - val_acc: 0.8557\n",
            "Epoch 31/60\n",
            "187/187 [==============================] - 6s 33ms/step - loss: 0.3759 - acc: 0.8753 - val_loss: 0.4198 - val_acc: 0.8637\n",
            "Epoch 32/60\n",
            "187/187 [==============================] - 7s 37ms/step - loss: 0.3850 - acc: 0.8729 - val_loss: 0.5197 - val_acc: 0.8247\n",
            "Epoch 33/60\n",
            "187/187 [==============================] - 6s 33ms/step - loss: 0.3701 - acc: 0.8810 - val_loss: 0.4236 - val_acc: 0.8650\n",
            "Epoch 34/60\n",
            "187/187 [==============================] - 6s 33ms/step - loss: 0.3829 - acc: 0.8744 - val_loss: 0.4045 - val_acc: 0.8663\n",
            "Epoch 35/60\n",
            "187/187 [==============================] - 7s 36ms/step - loss: 0.3761 - acc: 0.8809 - val_loss: 0.4072 - val_acc: 0.8637\n",
            "Epoch 36/60\n",
            "187/187 [==============================] - 7s 38ms/step - loss: 0.3773 - acc: 0.8762 - val_loss: 0.3791 - val_acc: 0.8743\n",
            "Epoch 37/60\n",
            "187/187 [==============================] - 6s 33ms/step - loss: 0.3643 - acc: 0.8834 - val_loss: 0.4467 - val_acc: 0.8547\n",
            "Epoch 38/60\n",
            "187/187 [==============================] - 6s 33ms/step - loss: 0.3615 - acc: 0.8849 - val_loss: 0.4095 - val_acc: 0.8637\n",
            "Epoch 39/60\n",
            "187/187 [==============================] - 6s 33ms/step - loss: 0.3662 - acc: 0.8799 - val_loss: 0.4111 - val_acc: 0.8677\n",
            "Epoch 40/60\n",
            "187/187 [==============================] - 6s 33ms/step - loss: 0.3657 - acc: 0.8847 - val_loss: 0.5137 - val_acc: 0.8497\n",
            "Epoch 41/60\n",
            "187/187 [==============================] - 6s 33ms/step - loss: 0.3730 - acc: 0.8814 - val_loss: 0.4308 - val_acc: 0.8660\n",
            "Epoch 42/60\n",
            "187/187 [==============================] - 6s 33ms/step - loss: 0.3685 - acc: 0.8839 - val_loss: 0.3999 - val_acc: 0.8767\n",
            "Epoch 43/60\n",
            "187/187 [==============================] - 6s 33ms/step - loss: 0.3533 - acc: 0.8926 - val_loss: 0.4592 - val_acc: 0.8573\n",
            "Epoch 44/60\n",
            "187/187 [==============================] - 6s 33ms/step - loss: 0.3510 - acc: 0.8917 - val_loss: 0.4648 - val_acc: 0.8547\n",
            "Epoch 45/60\n",
            "187/187 [==============================] - 6s 33ms/step - loss: 0.3586 - acc: 0.8880 - val_loss: 0.4407 - val_acc: 0.8600\n",
            "Epoch 46/60\n",
            "187/187 [==============================] - 6s 33ms/step - loss: 0.3548 - acc: 0.8914 - val_loss: 0.8102 - val_acc: 0.8277\n",
            "Epoch 47/60\n",
            "187/187 [==============================] - 6s 33ms/step - loss: 0.3541 - acc: 0.8898 - val_loss: 0.5405 - val_acc: 0.8200\n",
            "Epoch 48/60\n",
            " 98/187 [==============>...............] - ETA: 2s - loss: 0.3465 - acc: 0.8892"
          ],
          "name": "stdout"
        },
        {
          "output_type": "error",
          "ename": "KeyboardInterrupt",
          "evalue": "ignored",
          "traceback": [
            "\u001b[0;31m---------------------------------------------------------------------------\u001b[0m",
            "\u001b[0;31mKeyboardInterrupt\u001b[0m                         Traceback (most recent call last)",
            "\u001b[0;32m<ipython-input-146-ec12c04c528b>\u001b[0m in \u001b[0;36m<module>\u001b[0;34m()\u001b[0m\n\u001b[1;32m      1\u001b[0m modelFilt.fit_generator(datagen.flow(train_X, train_ground, batch_size=batch_size),                    steps_per_epoch=train_X.shape[0] // batch_size,epochs=60,                    verbose=1,validation_data=(valid_X,valid_ground),\n\u001b[0;32m----> 2\u001b[0;31m                     shuffle = True,callbacks=[mcp_save,LearningRateScheduler(lr_schedule)])\n\u001b[0m\u001b[1;32m      3\u001b[0m \u001b[0;31m#save to disk\u001b[0m\u001b[0;34m\u001b[0m\u001b[0;34m\u001b[0m\u001b[0;34m\u001b[0m\u001b[0m\n\u001b[1;32m      4\u001b[0m \u001b[0;31m# model_json = model.to_json()\u001b[0m\u001b[0;34m\u001b[0m\u001b[0;34m\u001b[0m\u001b[0;34m\u001b[0m\u001b[0m\n\u001b[1;32m      5\u001b[0m \u001b[0;31m# with open('modelHighAcc.json', 'w') as json_file:\u001b[0m\u001b[0;34m\u001b[0m\u001b[0;34m\u001b[0m\u001b[0;34m\u001b[0m\u001b[0m\n",
            "\u001b[0;32m/usr/local/lib/python3.6/dist-packages/keras/legacy/interfaces.py\u001b[0m in \u001b[0;36mwrapper\u001b[0;34m(*args, **kwargs)\u001b[0m\n\u001b[1;32m     89\u001b[0m                 warnings.warn('Update your `' + object_name + '` call to the ' +\n\u001b[1;32m     90\u001b[0m                               'Keras 2 API: ' + signature, stacklevel=2)\n\u001b[0;32m---> 91\u001b[0;31m             \u001b[0;32mreturn\u001b[0m \u001b[0mfunc\u001b[0m\u001b[0;34m(\u001b[0m\u001b[0;34m*\u001b[0m\u001b[0margs\u001b[0m\u001b[0;34m,\u001b[0m \u001b[0;34m**\u001b[0m\u001b[0mkwargs\u001b[0m\u001b[0;34m)\u001b[0m\u001b[0;34m\u001b[0m\u001b[0;34m\u001b[0m\u001b[0m\n\u001b[0m\u001b[1;32m     92\u001b[0m         \u001b[0mwrapper\u001b[0m\u001b[0;34m.\u001b[0m\u001b[0m_original_function\u001b[0m \u001b[0;34m=\u001b[0m \u001b[0mfunc\u001b[0m\u001b[0;34m\u001b[0m\u001b[0;34m\u001b[0m\u001b[0m\n\u001b[1;32m     93\u001b[0m         \u001b[0;32mreturn\u001b[0m \u001b[0mwrapper\u001b[0m\u001b[0;34m\u001b[0m\u001b[0;34m\u001b[0m\u001b[0m\n",
            "\u001b[0;32m/usr/local/lib/python3.6/dist-packages/keras/engine/training.py\u001b[0m in \u001b[0;36mfit_generator\u001b[0;34m(self, generator, steps_per_epoch, epochs, verbose, callbacks, validation_data, validation_steps, class_weight, max_queue_size, workers, use_multiprocessing, shuffle, initial_epoch)\u001b[0m\n\u001b[1;32m   1416\u001b[0m             \u001b[0muse_multiprocessing\u001b[0m\u001b[0;34m=\u001b[0m\u001b[0muse_multiprocessing\u001b[0m\u001b[0;34m,\u001b[0m\u001b[0;34m\u001b[0m\u001b[0;34m\u001b[0m\u001b[0m\n\u001b[1;32m   1417\u001b[0m             \u001b[0mshuffle\u001b[0m\u001b[0;34m=\u001b[0m\u001b[0mshuffle\u001b[0m\u001b[0;34m,\u001b[0m\u001b[0;34m\u001b[0m\u001b[0;34m\u001b[0m\u001b[0m\n\u001b[0;32m-> 1418\u001b[0;31m             initial_epoch=initial_epoch)\n\u001b[0m\u001b[1;32m   1419\u001b[0m \u001b[0;34m\u001b[0m\u001b[0m\n\u001b[1;32m   1420\u001b[0m     \u001b[0;34m@\u001b[0m\u001b[0minterfaces\u001b[0m\u001b[0;34m.\u001b[0m\u001b[0mlegacy_generator_methods_support\u001b[0m\u001b[0;34m\u001b[0m\u001b[0;34m\u001b[0m\u001b[0m\n",
            "\u001b[0;32m/usr/local/lib/python3.6/dist-packages/keras/engine/training_generator.py\u001b[0m in \u001b[0;36mfit_generator\u001b[0;34m(model, generator, steps_per_epoch, epochs, verbose, callbacks, validation_data, validation_steps, class_weight, max_queue_size, workers, use_multiprocessing, shuffle, initial_epoch)\u001b[0m\n\u001b[1;32m    179\u001b[0m             \u001b[0mbatch_index\u001b[0m \u001b[0;34m=\u001b[0m \u001b[0;36m0\u001b[0m\u001b[0;34m\u001b[0m\u001b[0;34m\u001b[0m\u001b[0m\n\u001b[1;32m    180\u001b[0m             \u001b[0;32mwhile\u001b[0m \u001b[0msteps_done\u001b[0m \u001b[0;34m<\u001b[0m \u001b[0msteps_per_epoch\u001b[0m\u001b[0;34m:\u001b[0m\u001b[0;34m\u001b[0m\u001b[0;34m\u001b[0m\u001b[0m\n\u001b[0;32m--> 181\u001b[0;31m                 \u001b[0mgenerator_output\u001b[0m \u001b[0;34m=\u001b[0m \u001b[0mnext\u001b[0m\u001b[0;34m(\u001b[0m\u001b[0moutput_generator\u001b[0m\u001b[0;34m)\u001b[0m\u001b[0;34m\u001b[0m\u001b[0;34m\u001b[0m\u001b[0m\n\u001b[0m\u001b[1;32m    182\u001b[0m \u001b[0;34m\u001b[0m\u001b[0m\n\u001b[1;32m    183\u001b[0m                 \u001b[0;32mif\u001b[0m \u001b[0;32mnot\u001b[0m \u001b[0mhasattr\u001b[0m\u001b[0;34m(\u001b[0m\u001b[0mgenerator_output\u001b[0m\u001b[0;34m,\u001b[0m \u001b[0;34m'__len__'\u001b[0m\u001b[0;34m)\u001b[0m\u001b[0;34m:\u001b[0m\u001b[0;34m\u001b[0m\u001b[0;34m\u001b[0m\u001b[0m\n",
            "\u001b[0;32m/usr/local/lib/python3.6/dist-packages/keras/utils/data_utils.py\u001b[0m in \u001b[0;36mget\u001b[0;34m(self)\u001b[0m\n\u001b[1;32m    683\u001b[0m         \u001b[0;32mtry\u001b[0m\u001b[0;34m:\u001b[0m\u001b[0;34m\u001b[0m\u001b[0;34m\u001b[0m\u001b[0m\n\u001b[1;32m    684\u001b[0m             \u001b[0;32mwhile\u001b[0m \u001b[0mself\u001b[0m\u001b[0;34m.\u001b[0m\u001b[0mis_running\u001b[0m\u001b[0;34m(\u001b[0m\u001b[0;34m)\u001b[0m\u001b[0;34m:\u001b[0m\u001b[0;34m\u001b[0m\u001b[0;34m\u001b[0m\u001b[0m\n\u001b[0;32m--> 685\u001b[0;31m                 \u001b[0minputs\u001b[0m \u001b[0;34m=\u001b[0m \u001b[0mself\u001b[0m\u001b[0;34m.\u001b[0m\u001b[0mqueue\u001b[0m\u001b[0;34m.\u001b[0m\u001b[0mget\u001b[0m\u001b[0;34m(\u001b[0m\u001b[0mblock\u001b[0m\u001b[0;34m=\u001b[0m\u001b[0;32mTrue\u001b[0m\u001b[0;34m)\u001b[0m\u001b[0;34m.\u001b[0m\u001b[0mget\u001b[0m\u001b[0;34m(\u001b[0m\u001b[0;34m)\u001b[0m\u001b[0;34m\u001b[0m\u001b[0;34m\u001b[0m\u001b[0m\n\u001b[0m\u001b[1;32m    686\u001b[0m                 \u001b[0mself\u001b[0m\u001b[0;34m.\u001b[0m\u001b[0mqueue\u001b[0m\u001b[0;34m.\u001b[0m\u001b[0mtask_done\u001b[0m\u001b[0;34m(\u001b[0m\u001b[0;34m)\u001b[0m\u001b[0;34m\u001b[0m\u001b[0;34m\u001b[0m\u001b[0m\n\u001b[1;32m    687\u001b[0m                 \u001b[0;32mif\u001b[0m \u001b[0minputs\u001b[0m \u001b[0;32mis\u001b[0m \u001b[0;32mnot\u001b[0m \u001b[0;32mNone\u001b[0m\u001b[0;34m:\u001b[0m\u001b[0;34m\u001b[0m\u001b[0;34m\u001b[0m\u001b[0m\n",
            "\u001b[0;32m/usr/lib/python3.6/multiprocessing/pool.py\u001b[0m in \u001b[0;36mget\u001b[0;34m(self, timeout)\u001b[0m\n\u001b[1;32m    662\u001b[0m \u001b[0;34m\u001b[0m\u001b[0m\n\u001b[1;32m    663\u001b[0m     \u001b[0;32mdef\u001b[0m \u001b[0mget\u001b[0m\u001b[0;34m(\u001b[0m\u001b[0mself\u001b[0m\u001b[0;34m,\u001b[0m \u001b[0mtimeout\u001b[0m\u001b[0;34m=\u001b[0m\u001b[0;32mNone\u001b[0m\u001b[0;34m)\u001b[0m\u001b[0;34m:\u001b[0m\u001b[0;34m\u001b[0m\u001b[0;34m\u001b[0m\u001b[0m\n\u001b[0;32m--> 664\u001b[0;31m         \u001b[0mself\u001b[0m\u001b[0;34m.\u001b[0m\u001b[0mwait\u001b[0m\u001b[0;34m(\u001b[0m\u001b[0mtimeout\u001b[0m\u001b[0;34m)\u001b[0m\u001b[0;34m\u001b[0m\u001b[0;34m\u001b[0m\u001b[0m\n\u001b[0m\u001b[1;32m    665\u001b[0m         \u001b[0;32mif\u001b[0m \u001b[0;32mnot\u001b[0m \u001b[0mself\u001b[0m\u001b[0;34m.\u001b[0m\u001b[0mready\u001b[0m\u001b[0;34m(\u001b[0m\u001b[0;34m)\u001b[0m\u001b[0;34m:\u001b[0m\u001b[0;34m\u001b[0m\u001b[0;34m\u001b[0m\u001b[0m\n\u001b[1;32m    666\u001b[0m             \u001b[0;32mraise\u001b[0m \u001b[0mTimeoutError\u001b[0m\u001b[0;34m\u001b[0m\u001b[0;34m\u001b[0m\u001b[0m\n",
            "\u001b[0;32m/usr/lib/python3.6/multiprocessing/pool.py\u001b[0m in \u001b[0;36mwait\u001b[0;34m(self, timeout)\u001b[0m\n\u001b[1;32m    659\u001b[0m \u001b[0;34m\u001b[0m\u001b[0m\n\u001b[1;32m    660\u001b[0m     \u001b[0;32mdef\u001b[0m \u001b[0mwait\u001b[0m\u001b[0;34m(\u001b[0m\u001b[0mself\u001b[0m\u001b[0;34m,\u001b[0m \u001b[0mtimeout\u001b[0m\u001b[0;34m=\u001b[0m\u001b[0;32mNone\u001b[0m\u001b[0;34m)\u001b[0m\u001b[0;34m:\u001b[0m\u001b[0;34m\u001b[0m\u001b[0;34m\u001b[0m\u001b[0m\n\u001b[0;32m--> 661\u001b[0;31m         \u001b[0mself\u001b[0m\u001b[0;34m.\u001b[0m\u001b[0m_event\u001b[0m\u001b[0;34m.\u001b[0m\u001b[0mwait\u001b[0m\u001b[0;34m(\u001b[0m\u001b[0mtimeout\u001b[0m\u001b[0;34m)\u001b[0m\u001b[0;34m\u001b[0m\u001b[0;34m\u001b[0m\u001b[0m\n\u001b[0m\u001b[1;32m    662\u001b[0m \u001b[0;34m\u001b[0m\u001b[0m\n\u001b[1;32m    663\u001b[0m     \u001b[0;32mdef\u001b[0m \u001b[0mget\u001b[0m\u001b[0;34m(\u001b[0m\u001b[0mself\u001b[0m\u001b[0;34m,\u001b[0m \u001b[0mtimeout\u001b[0m\u001b[0;34m=\u001b[0m\u001b[0;32mNone\u001b[0m\u001b[0;34m)\u001b[0m\u001b[0;34m:\u001b[0m\u001b[0;34m\u001b[0m\u001b[0;34m\u001b[0m\u001b[0m\n",
            "\u001b[0;32m/usr/lib/python3.6/threading.py\u001b[0m in \u001b[0;36mwait\u001b[0;34m(self, timeout)\u001b[0m\n\u001b[1;32m    549\u001b[0m             \u001b[0msignaled\u001b[0m \u001b[0;34m=\u001b[0m \u001b[0mself\u001b[0m\u001b[0;34m.\u001b[0m\u001b[0m_flag\u001b[0m\u001b[0;34m\u001b[0m\u001b[0;34m\u001b[0m\u001b[0m\n\u001b[1;32m    550\u001b[0m             \u001b[0;32mif\u001b[0m \u001b[0;32mnot\u001b[0m \u001b[0msignaled\u001b[0m\u001b[0;34m:\u001b[0m\u001b[0;34m\u001b[0m\u001b[0;34m\u001b[0m\u001b[0m\n\u001b[0;32m--> 551\u001b[0;31m                 \u001b[0msignaled\u001b[0m \u001b[0;34m=\u001b[0m \u001b[0mself\u001b[0m\u001b[0;34m.\u001b[0m\u001b[0m_cond\u001b[0m\u001b[0;34m.\u001b[0m\u001b[0mwait\u001b[0m\u001b[0;34m(\u001b[0m\u001b[0mtimeout\u001b[0m\u001b[0;34m)\u001b[0m\u001b[0;34m\u001b[0m\u001b[0;34m\u001b[0m\u001b[0m\n\u001b[0m\u001b[1;32m    552\u001b[0m             \u001b[0;32mreturn\u001b[0m \u001b[0msignaled\u001b[0m\u001b[0;34m\u001b[0m\u001b[0;34m\u001b[0m\u001b[0m\n\u001b[1;32m    553\u001b[0m \u001b[0;34m\u001b[0m\u001b[0m\n",
            "\u001b[0;32m/usr/lib/python3.6/threading.py\u001b[0m in \u001b[0;36mwait\u001b[0;34m(self, timeout)\u001b[0m\n\u001b[1;32m    293\u001b[0m         \u001b[0;32mtry\u001b[0m\u001b[0;34m:\u001b[0m    \u001b[0;31m# restore state no matter what (e.g., KeyboardInterrupt)\u001b[0m\u001b[0;34m\u001b[0m\u001b[0;34m\u001b[0m\u001b[0m\n\u001b[1;32m    294\u001b[0m             \u001b[0;32mif\u001b[0m \u001b[0mtimeout\u001b[0m \u001b[0;32mis\u001b[0m \u001b[0;32mNone\u001b[0m\u001b[0;34m:\u001b[0m\u001b[0;34m\u001b[0m\u001b[0;34m\u001b[0m\u001b[0m\n\u001b[0;32m--> 295\u001b[0;31m                 \u001b[0mwaiter\u001b[0m\u001b[0;34m.\u001b[0m\u001b[0macquire\u001b[0m\u001b[0;34m(\u001b[0m\u001b[0;34m)\u001b[0m\u001b[0;34m\u001b[0m\u001b[0;34m\u001b[0m\u001b[0m\n\u001b[0m\u001b[1;32m    296\u001b[0m                 \u001b[0mgotit\u001b[0m \u001b[0;34m=\u001b[0m \u001b[0;32mTrue\u001b[0m\u001b[0;34m\u001b[0m\u001b[0;34m\u001b[0m\u001b[0m\n\u001b[1;32m    297\u001b[0m             \u001b[0;32melse\u001b[0m\u001b[0;34m:\u001b[0m\u001b[0;34m\u001b[0m\u001b[0;34m\u001b[0m\u001b[0m\n",
            "\u001b[0;31mKeyboardInterrupt\u001b[0m: "
          ]
        }
      ]
    },
    {
      "metadata": {
        "id": "h7OTTp-uYZih",
        "colab_type": "code",
        "colab": {}
      },
      "cell_type": "code",
      "source": [
        "# loaded_model_low_accuracy.layers[1].get_weights()"
      ],
      "execution_count": 0,
      "outputs": []
    },
    {
      "metadata": {
        "id": "yDoD-D2pYLEd",
        "colab_type": "code",
        "colab": {}
      },
      "cell_type": "code",
      "source": [
        "# modelFilt.layers[1].get_weights()"
      ],
      "execution_count": 0,
      "outputs": []
    },
    {
      "metadata": {
        "id": "y-ssOHjPXTzE",
        "colab_type": "code",
        "colab": {}
      },
      "cell_type": "code",
      "source": [
        "# weights_low_conv2d1 = layer_dict_high['conv2d_1'].get_weights()"
      ],
      "execution_count": 0,
      "outputs": []
    },
    {
      "metadata": {
        "id": "KD0MAAeLFuhX",
        "colab_type": "code",
        "colab": {}
      },
      "cell_type": "code",
      "source": [
        "# loaded_model_low_accuracy.layers('conv2d_1').get_weights()"
      ],
      "execution_count": 0,
      "outputs": []
    },
    {
      "metadata": {
        "id": "A0ulN6H5FueV",
        "colab_type": "code",
        "outputId": "a289fa36-bbe6-4c59-e642-1c8d2d4b4a5a",
        "colab": {
          "base_uri": "https://localhost:8080/",
          "height": 374
        }
      },
      "cell_type": "code",
      "source": [
        "# weights_low_bn1 = layer_dict_high['batch_normalization_1'].get_weights()\n",
        "# modelFilt.layers[3].set_weights(weights_low_conv2d1)"
      ],
      "execution_count": 0,
      "outputs": [
        {
          "output_type": "execute_result",
          "data": {
            "text/plain": [
              "{'batch_normalization_1': <keras.layers.normalization.BatchNormalization at 0x7f1533511438>,\n",
              " 'batch_normalization_2': <keras.layers.normalization.BatchNormalization at 0x7f15335117f0>,\n",
              " 'batch_normalization_3': <keras.layers.normalization.BatchNormalization at 0x7f1533511ba8>,\n",
              " 'batch_normalization_4': <keras.layers.normalization.BatchNormalization at 0x7f1533511e80>,\n",
              " 'batch_normalization_5': <keras.layers.normalization.BatchNormalization at 0x7f153352d278>,\n",
              " 'batch_normalization_6': <keras.layers.normalization.BatchNormalization at 0x7f153352d550>,\n",
              " 'conv2d_1': <keras.layers.convolutional.Conv2D at 0x7f153350c0f0>,\n",
              " 'conv2d_2': <keras.layers.convolutional.Conv2D at 0x7f1533511668>,\n",
              " 'conv2d_3': <keras.layers.convolutional.Conv2D at 0x7f15335119e8>,\n",
              " 'conv2d_4': <keras.layers.convolutional.Conv2D at 0x7f1533511cc0>,\n",
              " 'conv2d_5': <keras.layers.convolutional.Conv2D at 0x7f153352d0b8>,\n",
              " 'conv2d_6': <keras.layers.convolutional.Conv2D at 0x7f153352d390>,\n",
              " 'dense_1': <keras.layers.core.Dense at 0x7f153352d7b8>,\n",
              " 'dropout_1': <keras.layers.core.Dropout at 0x7f15335119b0>,\n",
              " 'dropout_2': <keras.layers.core.Dropout at 0x7f153352d080>,\n",
              " 'dropout_3': <keras.layers.core.Dropout at 0x7f153352d710>,\n",
              " 'flatten_1': <keras.layers.core.Flatten at 0x7f153352d748>,\n",
              " 'input_1': <keras.engine.input_layer.InputLayer at 0x7f153350c438>,\n",
              " 'max_pooling2d_1': <keras.layers.pooling.MaxPooling2D at 0x7f1533511908>,\n",
              " 'max_pooling2d_2': <keras.layers.pooling.MaxPooling2D at 0x7f1533511f98>,\n",
              " 'max_pooling2d_3': <keras.layers.pooling.MaxPooling2D at 0x7f153352d668>}"
            ]
          },
          "metadata": {
            "tags": []
          },
          "execution_count": 111
        }
      ]
    },
    {
      "metadata": {
        "id": "TEkg52f_HxEg",
        "colab_type": "text"
      },
      "cell_type": "markdown",
      "source": [
        "## Ignore below"
      ]
    },
    {
      "metadata": {
        "id": "_iOvwS5SJVT8",
        "colab_type": "code",
        "colab": {}
      },
      "cell_type": "code",
      "source": [
        "def cifar10ClassifierTransfer(input_img, highAccInput):\n",
        "  \n",
        "  # Add additional inputs to \n",
        "  \n",
        "  conv1_1 = (Conv2D(32, (3,3), padding='same', kernel_regularizer=regularizers.l2(weight_decay), input_shape=x_train.shape[1:], activation='elu'))(input_img)\n",
        "  conv1_2 = BatchNormalization()(conv1_1)\n",
        "  conv2_1 = (Conv2D(32, (3,3), padding='same', activation= 'elu',kernel_regularizer=regularizers.l2(weight_decay)))(conv1_2)\n",
        "  # now concat secondary input that corresponds to high accuracy n/w to this\n",
        "    \n",
        "  concated_layer = keras.layers.merge.Concatenate()([conv2_1, highAccInput])\n",
        "  conv2_2 = BatchNormalization()(concated_layer)\n",
        "  pool2_3 = MaxPooling2D(pool_size=(2, 2))(conv2_2) #14 x 14 x 32\n",
        "  drop2_4= Dropout(.2)(pool2_3)\n",
        "\n",
        "  conv3_1 = (Conv2D(64, (3,3), padding='same', kernel_regularizer=regularizers.l2(weight_decay), activation='elu'))(drop2_4)\n",
        "  conv3_2 = BatchNormalization()(conv3_1)\n",
        "  conv4_1 = (Conv2D(64, (3,3), padding='same', activation= 'elu',kernel_regularizer=regularizers.l2(weight_decay)))(conv3_2)\n",
        "  conv4_2 = BatchNormalization()(conv4_1)\n",
        "  pool4_3 = MaxPooling2D(pool_size=(2, 2))(conv4_2) #14 x 14 x 32\n",
        "  drop4_4= Dropout(.3)(pool4_3)\n",
        "\n",
        "  conv5_1 = (Conv2D(128, (3,3), padding='same', kernel_regularizer=regularizers.l2(weight_decay), activation='elu'))(drop4_4)\n",
        "  conv5_2 = BatchNormalization()(conv5_1)\n",
        "  conv6_1 = (Conv2D(128, (3,3), padding='same', activation= 'elu',kernel_regularizer=regularizers.l2(weight_decay)))(conv5_2)\n",
        "  conv6_2 = BatchNormalization()(conv6_1)\n",
        "  pool6_3 = MaxPooling2D(pool_size=(2, 2))(conv6_2) #14 x 14 x 32\n",
        "  drop6_4= Dropout(.4)(pool6_3)\n",
        "\n",
        "  flat = Flatten()(drop6_4)\n",
        "  out = Dense(num_classes, activation='softmax')(flat)\n",
        "  \n",
        "  return out"
      ],
      "execution_count": 0,
      "outputs": []
    },
    {
      "metadata": {
        "id": "PyCdAWfOBhSi",
        "colab_type": "code",
        "colab": {}
      },
      "cell_type": "code",
      "source": [
        "def featureExtractor(input_img, layer_name):\n",
        "  get_cnn1_output_function = K.function([trained_model.layers[0].input],\n",
        "                                  [trained_model.get_layer(layer_name).output])   #get_layer test_three_label\n",
        "  cnn1_output = get_cnn1_output_function([train_three_data])[0]\n",
        "  return cnn1_output"
      ],
      "execution_count": 0,
      "outputs": []
    },
    {
      "metadata": {
        "id": "lYM0VB8wBhP8",
        "colab_type": "code",
        "colab": {}
      },
      "cell_type": "code",
      "source": [
        "def cifar10ClassifierTransfer(input_img, conv2_outputs):\n",
        "  \n",
        "  # Add additional inputs to \n",
        "  \n",
        "  conv1_1 = (Conv2D(32, (3,3), padding='same', kernel_regularizer=regularizers.l2(weight_decay), input_shape=x_train.shape[1:], activation='elu'))(input_img)\n",
        "  conv1_2 = BatchNormalization()(conv1_1)\n",
        "  conv2_1 = (Conv2D(32, (3,3), padding='same', activation= 'elu',kernel_regularizer=regularizers.l2(weight_decay)))(conv1_2)\n",
        "  conv2_2 = BatchNormalization()(conv2_1)\n",
        "  pool2_3 = MaxPooling2D(pool_size=(2, 2))(conv2_2) #14 x 14 x 32\n",
        "  drop2_4= Dropout(.2)(pool2_3)\n",
        "\n",
        "  conv3_1 = (Conv2D(64, (3,3), padding='same', kernel_regularizer=regularizers.l2(weight_decay), activation='elu'))(drop2_4)\n",
        "  conv3_2 = BatchNormalization()(conv3_1)\n",
        "  conv4_1 = (Conv2D(64, (3,3), padding='same', activation= 'elu',kernel_regularizer=regularizers.l2(weight_decay)))(conv3_2)\n",
        "  conv4_2 = BatchNormalization()(conv4_1)\n",
        "  pool4_3 = MaxPooling2D(pool_size=(2, 2))(conv4_2) #14 x 14 x 32\n",
        "  drop4_4= Dropout(.3)(pool4_3)\n",
        "\n",
        "  conv5_1 = (Conv2D(128, (3,3), padding='same', kernel_regularizer=regularizers.l2(weight_decay), activation='elu'))(drop4_4)\n",
        "  conv5_2 = BatchNormalization()(conv5_1)\n",
        "  conv6_1 = (Conv2D(128, (3,3), padding='same', activation= 'elu',kernel_regularizer=regularizers.l2(weight_decay)))(conv5_2)\n",
        "  conv6_2 = BatchNormalization()(conv6_1)\n",
        "  pool6_3 = MaxPooling2D(pool_size=(2, 2))(conv6_2) #14 x 14 x 32\n",
        "  drop6_4= Dropout(.4)(pool6_3)\n",
        "\n",
        "  flat = Flatten()(drop6_4)\n",
        "  out = Dense(num_classes, activation='softmax')(flat)\n",
        "  \n",
        "  return out"
      ],
      "execution_count": 0,
      "outputs": []
    },
    {
      "metadata": {
        "id": "sXXygEe9BhNK",
        "colab_type": "code",
        "colab": {}
      },
      "cell_type": "code",
      "source": [
        ""
      ],
      "execution_count": 0,
      "outputs": []
    },
    {
      "metadata": {
        "id": "LDTPGc0ABhKO",
        "colab_type": "code",
        "colab": {}
      },
      "cell_type": "code",
      "source": [
        ""
      ],
      "execution_count": 0,
      "outputs": []
    },
    {
      "metadata": {
        "id": "gsrj25pSoRh_",
        "colab_type": "code",
        "colab": {}
      },
      "cell_type": "code",
      "source": [
        "def highAccuracyModelTillConv2(input_img, channel_indices_first_layer, channel_indices_second_layer): \n",
        "  conv1_1 = (Conv2D(32, (3,3), padding='same', kernel_regularizer=regularizers.l2(weight_decay), input_shape=x_train.shape[1:], activation='elu', name = 'HighAccuracyConv1'))(input_img)\n",
        "  conv1_2 = BatchNormalization()(conv1_1)\n",
        "  conv2_1 = (Conv2D(32, (3,3), padding='same', activation= 'elu', name = 'HighAccuracyConv2',kernel_regularizer=regularizers.l2(weight_decay)))(conv1_2)\n",
        "  conv2_2 = BatchNormalization()(conv2_1)\n",
        "#   pool1 = MaxPooling2D(pool_size=(2, 2))(conv1) #14 x 14 x 32\n",
        "#   drop1= Dropout(.2)(pool1)\n",
        "\n",
        "#   conv2 = (Conv2D(64, (3,3), padding='same', kernel_regularizer=regularizers.l2(weight_decay), activation='elu'))(drop1)\n",
        "#   conv2 = BatchNormalization()(conv2)\n",
        "#   conv2 = (Conv2D(64, (3,3), padding='same', activation= 'elu',kernel_regularizer=regularizers.l2(weight_decay)))(conv2)\n",
        "#   conv2 = BatchNormalization()(conv2)\n",
        "#   pool2 = MaxPooling2D(pool_size=(2, 2))(conv2) #14 x 14 x 32\n",
        "#   drop2= Dropout(.3)(pool2)\n",
        "\n",
        "#   conv3 = (Conv2D(128, (3,3), padding='same', kernel_regularizer=regularizers.l2(weight_decay), activation='elu'))(drop2)\n",
        "#   conv3 = BatchNormalization()(conv3)\n",
        "#   conv3 = (Conv2D(128, (3,3), padding='same', activation= 'elu',kernel_regularizer=regularizers.l2(weight_decay)))(conv3)\n",
        "#   conv3 = BatchNormalization()(conv3)\n",
        "#   pool3 = MaxPooling2D(pool_size=(2, 2))(conv3) #14 x 14 x 32\n",
        "#   drop3= Dropout(.4)(pool3)\n",
        "\n",
        "#   flat = Flatten()(drop3)\n",
        "#   out = Dense(num_classes, activation='softmax')(flat)\n",
        "  \n",
        "  return conv1_1[:,:,:,channel_indices_first_layer], conv2_1[:,:,:,channel_indices_second_layer]"
      ],
      "execution_count": 0,
      "outputs": []
    },
    {
      "metadata": {
        "id": "RsXlJYX62MB-",
        "colab_type": "code",
        "colab": {}
      },
      "cell_type": "code",
      "source": [
        ""
      ],
      "execution_count": 0,
      "outputs": []
    }
  ]
}