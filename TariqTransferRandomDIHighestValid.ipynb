{
  "nbformat": 4,
  "nbformat_minor": 0,
  "metadata": {
    "colab": {
      "name": "TariqTransferRandomDIHighestValid.ipynb",
      "version": "0.3.2",
      "provenance": [],
      "collapsed_sections": [],
      "toc_visible": true,
      "include_colab_link": true
    },
    "kernelspec": {
      "name": "python3",
      "display_name": "Python 3"
    },
    "accelerator": "GPU"
  },
  "cells": [
    {
      "cell_type": "markdown",
      "metadata": {
        "id": "view-in-github",
        "colab_type": "text"
      },
      "source": [
        "<a href=\"https://colab.research.google.com/github/preritt/KProj/blob/master/TariqTransferRandomDIHighestValid.ipynb\" target=\"_parent\"><img src=\"https://colab.research.google.com/assets/colab-badge.svg\" alt=\"Open In Colab\"/></a>"
      ]
    },
    {
      "cell_type": "markdown",
      "metadata": {
        "id": "kdTAcjYec3s7",
        "colab_type": "text"
      },
      "source": [
        "## Load standard libraries"
      ]
    },
    {
      "cell_type": "code",
      "metadata": {
        "id": "oCo6LRTTcxmC",
        "colab_type": "code",
        "colab": {}
      },
      "source": [
        "import keras\n",
        "from matplotlib import pyplot as plt\n",
        "import numpy as np\n",
        "import gzip\n",
        "%matplotlib inline\n",
        "from keras.models import Model\n",
        "from keras.optimizers import RMSprop\n",
        "from keras.layers import Input,Dense,Flatten,Dropout,merge,Reshape,Conv2D,MaxPooling2D,UpSampling2D,Conv2DTranspose\n",
        "from keras.layers.normalization import BatchNormalization\n",
        "from keras.models import Model,Sequential\n",
        "from keras.callbacks import ModelCheckpoint\n",
        "from keras.optimizers import Adadelta, RMSprop,SGD,Adam\n",
        "from keras import regularizers\n",
        "from keras import backend as K\n",
        "from keras.utils import to_categorical\n",
        "from keras.datasets import cifar10\n",
        "from sklearn import preprocessing\n",
        "from keras import losses\n",
        "from keras.models import model_from_json\n",
        "import keras\n",
        "from keras.models import Sequential\n",
        "from keras.utils import np_utils\n",
        "from keras.preprocessing.image import ImageDataGenerator\n",
        "from keras.layers import Dense, Activation, Flatten, Dropout, BatchNormalization\n",
        "from keras.layers import Conv2D, MaxPooling2D\n",
        "from keras.datasets import cifar10\n",
        "from keras import regularizers\n",
        "from keras.callbacks import LearningRateScheduler\n",
        "import numpy as np\n",
        "from sklearn.metrics import confusion_matrix\n",
        "from sklearn.model_selection import train_test_split\n",
        "from sklearn.utils import shuffle"
      ],
      "execution_count": 0,
      "outputs": []
    },
    {
      "cell_type": "code",
      "metadata": {
        "id": "Sg_ZApCOPN9u",
        "colab_type": "code",
        "colab": {}
      },
      "source": [
        "from keras.utils.vis_utils import plot_model\n"
      ],
      "execution_count": 0,
      "outputs": []
    },
    {
      "cell_type": "code",
      "metadata": {
        "id": "oG3txkjndHWQ",
        "colab_type": "code",
        "colab": {}
      },
      "source": [
        "keras.backend.clear_session()"
      ],
      "execution_count": 0,
      "outputs": []
    },
    {
      "cell_type": "markdown",
      "metadata": {
        "id": "8rDrYIgZc20A",
        "colab_type": "text"
      },
      "source": [
        "## Load image data"
      ]
    },
    {
      "cell_type": "code",
      "metadata": {
        "id": "85Dlxs7adKVS",
        "colab_type": "code",
        "outputId": "e3cc0f88-ddb0-4f70-cc44-ef3fa1a6e048",
        "colab": {
          "base_uri": "https://localhost:8080/",
          "height": 338
        }
      },
      "source": [
        "from matplotlib import pyplot\n",
        "from scipy.misc import toimage\n",
        "from keras.datasets import cifar10\n",
        "def show_imgs(X):\n",
        "    pyplot.figure(1)\n",
        "    k = 0\n",
        "    for i in range(0,4):\n",
        "        for j in range(0,4):\n",
        "            pyplot.subplot2grid((4,4),(i,j))\n",
        "            pyplot.imshow(toimage(X[k]))\n",
        "            k = k+1\n",
        "    # show the plot\n",
        "    pyplot.show()\n",
        " \n",
        "(x_train, y_train), (x_test, y_test) = cifar10.load_data()\n",
        "show_imgs(x_test[:16])\n"
      ],
      "execution_count": 220,
      "outputs": [
        {
          "output_type": "stream",
          "text": [
            "/usr/local/lib/python3.6/dist-packages/ipykernel_launcher.py:10: DeprecationWarning: `toimage` is deprecated!\n",
            "`toimage` is deprecated in SciPy 1.0.0, and will be removed in 1.2.0.\n",
            "Use Pillow's ``Image.fromarray`` directly instead.\n",
            "  # Remove the CWD from sys.path while we load stuff.\n"
          ],
          "name": "stderr"
        },
        {
          "output_type": "display_data",
          "data": {
            "image/png": "[encoded data removed]",
            "text/plain": [
              "<Figure size 432x288 with 16 Axes>"
            ]
          },
          "metadata": {
            "tags": []
          }
        }
      ]
    },
    {
      "cell_type": "markdown",
      "metadata": {
        "id": "dQQPlF6RdS2m",
        "colab_type": "text"
      },
      "source": [
        "## Create Function to get data corresponding to three labels"
      ]
    },
    {
      "cell_type": "code",
      "metadata": {
        "id": "GFyk3xzNdYNW",
        "colab_type": "code",
        "colab": {}
      },
      "source": [
        "# This function takes the entire traaining data and test data and corresponding categorical label and returns the corresponding data in class indices\n",
        "def getThreeClassesTrainTest(class_indices,train_data,train_labels,test_data,test_labels):\n",
        "  all_train_data = []\n",
        "  all_train_data_label = []\n",
        "  all_test_data = []\n",
        "  all_test_data_label = []\n",
        "  for ind in class_indices:\n",
        "    this_class_location_train =  np.where(train_labels==ind)[0] # train_labels[train_labels == ind]\n",
        "    this_class_data_train = train_data[this_class_location_train,:]\n",
        "    this_class_data_train_label = train_labels[this_class_location_train]\n",
        "#     print(this_class_location_train)\n",
        "    \n",
        "    this_class_location_test = np.where(test_labels==ind)[0] #test_labels[test_labels == ind]\n",
        "    this_class_data_test = test_data[this_class_location_test,:]\n",
        "    this_class_data_test_label = test_labels[this_class_location_test]\n",
        "    \n",
        "    all_train_data.append(this_class_data_train)\n",
        "    all_test_data.append(this_class_data_test)\n",
        "    all_train_data_label.append(this_class_data_train_label)\n",
        "    all_test_data_label.append(this_class_data_test_label)\n",
        "    \n",
        "  train_data_three = all_train_data[0]\n",
        "  train_label_three = all_train_data_label[0]\n",
        "  test_data_three = all_test_data[0]\n",
        "  test_label_three = all_test_data_label[0]\n",
        "  \n",
        "  for j in range(1,len(class_indices)):\n",
        "    train_data_three = np.concatenate((train_data_three,all_train_data[j]))\n",
        "    train_label_three = np.concatenate((train_label_three,all_train_data_label[j]))\n",
        "\n",
        "    test_data_three = np.concatenate((test_data_three,all_test_data[j]))\n",
        "    test_label_three = np.concatenate((test_label_three,all_test_data_label[j]))\n",
        "#   print(train_label_three.shape)\n",
        "  train_label_three = np.reshape(train_label_three,newshape=(-1,))\n",
        "  test_label_three = np.reshape(test_label_three,newshape=(-1,))\n",
        "  return train_data_three, train_label_three, test_data_three,test_label_three"
      ],
      "execution_count": 0,
      "outputs": []
    },
    {
      "cell_type": "markdown",
      "metadata": {
        "id": "ex0j41PLde2x",
        "colab_type": "text"
      },
      "source": [
        "## Get data for three classes using getThreeClassesTrainTest function"
      ]
    },
    {
      "cell_type": "code",
      "metadata": {
        "id": "IpqbOTfBdhHk",
        "colab_type": "code",
        "colab": {}
      },
      "source": [
        "# train_three_data,train_three_label,test_three_data,test_three_label = getThreeClassesTrainTest([ 0,3,5 ],x_train,y_train,x_test,y_test)"
      ],
      "execution_count": 0,
      "outputs": []
    },
    {
      "cell_type": "code",
      "metadata": {
        "id": "ddFucSl_YW5B",
        "colab_type": "code",
        "colab": {}
      },
      "source": [
        "train_three_data,train_three_label,test_three_data,test_three_label = (np.load('train_three_data_saved.npy'),\n",
        "                                                                      np.load('train_three_label_saved.npy'),\n",
        "                                                                      np.load('test_three_data_saved.npy'),\n",
        "                                                                      np.load('test_three_label_saved.npy'))"
      ],
      "execution_count": 0,
      "outputs": []
    },
    {
      "cell_type": "code",
      "metadata": {
        "id": "VDQiwalsYIGo",
        "colab_type": "code",
        "outputId": "15880898-3c92-48c1-e1df-035463d7f444",
        "colab": {
          "base_uri": "https://localhost:8080/",
          "height": 34
        }
      },
      "source": [
        "train_three_label"
      ],
      "execution_count": 224,
      "outputs": [
        {
          "output_type": "execute_result",
          "data": {
            "text/plain": [
              "array([0, 3, 5, ..., 0, 5, 5], dtype=uint8)"
            ]
          },
          "metadata": {
            "tags": []
          },
          "execution_count": 224
        }
      ]
    },
    {
      "cell_type": "code",
      "metadata": {
        "id": "OCQfV4TvZh1r",
        "colab_type": "code",
        "outputId": "d5b57ed1-1c3c-48b0-8008-bb56b1db0263",
        "colab": {
          "base_uri": "https://localhost:8080/",
          "height": 34
        }
      },
      "source": [
        "test_three_label"
      ],
      "execution_count": 225,
      "outputs": [
        {
          "output_type": "execute_result",
          "data": {
            "text/plain": [
              "array([3, 5, 0, ..., 5, 0, 5])"
            ]
          },
          "metadata": {
            "tags": []
          },
          "execution_count": 225
        }
      ]
    },
    {
      "cell_type": "code",
      "metadata": {
        "id": "9gK_tiIWd2Nf",
        "colab_type": "code",
        "outputId": "2b5cd048-1830-4412-98e6-1e194be6c3d4",
        "colab": {
          "base_uri": "https://localhost:8080/",
          "height": 338
        }
      },
      "source": [
        "plt.hist(train_three_label)"
      ],
      "execution_count": 226,
      "outputs": [
        {
          "output_type": "execute_result",
          "data": {
            "text/plain": [
              "(array([5000.,    0.,    0.,    0.,    0.,    0., 5000.,    0.,    0.,\n",
              "        5000.]),\n",
              " array([0. , 0.5, 1. , 1.5, 2. , 2.5, 3. , 3.5, 4. , 4.5, 5. ]),\n",
              " <a list of 10 Patch objects>)"
            ]
          },
          "metadata": {
            "tags": []
          },
          "execution_count": 226
        },
        {
          "output_type": "display_data",
          "data": {
            "image/png": "[encoded data removed]",
            "text/plain": [
              "<Figure size 432x288 with 1 Axes>"
            ]
          },
          "metadata": {
            "tags": []
          }
        }
      ]
    },
    {
      "cell_type": "code",
      "metadata": {
        "id": "AEYcIMeqd4i1",
        "colab_type": "code",
        "outputId": "1b2a8aaa-9dfc-4dcb-e704-882a3d09bffb",
        "colab": {
          "base_uri": "https://localhost:8080/",
          "height": 338
        }
      },
      "source": [
        "plt.hist(test_three_label)"
      ],
      "execution_count": 227,
      "outputs": [
        {
          "output_type": "execute_result",
          "data": {
            "text/plain": [
              "(array([1000.,    0.,    0.,    0.,    0.,    0., 1000.,    0.,    0.,\n",
              "        1000.]),\n",
              " array([0. , 0.5, 1. , 1.5, 2. , 2.5, 3. , 3.5, 4. , 4.5, 5. ]),\n",
              " <a list of 10 Patch objects>)"
            ]
          },
          "metadata": {
            "tags": []
          },
          "execution_count": 227
        },
        {
          "output_type": "display_data",
          "data": {
            "image/png": "[encoded data removed]",
            "text/plain": [
              "<Figure size 432x288 with 1 Axes>"
            ]
          },
          "metadata": {
            "tags": []
          }
        }
      ]
    },
    {
      "cell_type": "code",
      "metadata": {
        "id": "z4n_WiMNd_Hf",
        "colab_type": "code",
        "colab": {}
      },
      "source": [
        "# train_three_data, train_three_label = shuffle(train_three_data, train_three_label )\n",
        "# test_three_data,test_three_label = shuffle(test_three_data,test_three_label )"
      ],
      "execution_count": 0,
      "outputs": []
    },
    {
      "cell_type": "code",
      "metadata": {
        "id": "VT_AKqQmeBk_",
        "colab_type": "code",
        "colab": {}
      },
      "source": [
        "le = preprocessing.LabelEncoder()\n",
        "le.fit_transform(train_three_label)\n",
        "train_three_label_cat = le.transform(train_three_label)\n",
        "test_three_label_cat = le.transform(test_three_label)\n",
        "train_three_label_one_hot = to_categorical(train_three_label_cat)\n",
        "test_three_label_one_hot = to_categorical(test_three_label_cat)"
      ],
      "execution_count": 0,
      "outputs": []
    },
    {
      "cell_type": "code",
      "metadata": {
        "id": "rWEjK_exeEaJ",
        "colab_type": "code",
        "colab": {}
      },
      "source": [
        "# split train data and to create validation data\n",
        "train_X,valid_X,train_ground,valid_ground = train_test_split(train_three_data,\n",
        "                                                             train_three_label_one_hot,\n",
        "                                                             test_size=0.2,\n",
        "                                                             random_state=13)"
      ],
      "execution_count": 0,
      "outputs": []
    },
    {
      "cell_type": "code",
      "metadata": {
        "id": "mOFKlZWKeH25",
        "colab_type": "code",
        "colab": {}
      },
      "source": [
        "num_classes = test_three_label_one_hot.shape[1]"
      ],
      "execution_count": 0,
      "outputs": []
    },
    {
      "cell_type": "code",
      "metadata": {
        "id": "lr931MtCYGoN",
        "colab_type": "code",
        "outputId": "2d4ad743-a4a2-4ad6-ee4b-dc09ddcb933a",
        "colab": {
          "base_uri": "https://localhost:8080/",
          "height": 138
        }
      },
      "source": [
        "train_ground"
      ],
      "execution_count": 232,
      "outputs": [
        {
          "output_type": "execute_result",
          "data": {
            "text/plain": [
              "array([[0., 0., 1.],\n",
              "       [0., 0., 1.],\n",
              "       [1., 0., 0.],\n",
              "       ...,\n",
              "       [0., 1., 0.],\n",
              "       [1., 0., 0.],\n",
              "       [0., 1., 0.]], dtype=float32)"
            ]
          },
          "metadata": {
            "tags": []
          },
          "execution_count": 232
        }
      ]
    },
    {
      "cell_type": "markdown",
      "metadata": {
        "id": "Ssi32yj-d1iX",
        "colab_type": "text"
      },
      "source": [
        "## Define the model"
      ]
    },
    {
      "cell_type": "code",
      "metadata": {
        "id": "uUISHV2weN0t",
        "colab_type": "code",
        "colab": {}
      },
      "source": [
        "x, y = 32, 32\n",
        "inChannel = 3\n",
        "input_img = Input(shape = (x, y, inChannel))\n",
        "ep = 10 \n",
        "weight_decay = 1e-4"
      ],
      "execution_count": 0,
      "outputs": []
    },
    {
      "cell_type": "code",
      "metadata": {
        "id": "MMuuJ3IcDxxN",
        "colab_type": "code",
        "colab": {}
      },
      "source": [
        "enable_training = True"
      ],
      "execution_count": 0,
      "outputs": []
    },
    {
      "cell_type": "code",
      "metadata": {
        "id": "Ich0RbYnebwW",
        "colab_type": "code",
        "colab": {}
      },
      "source": [
        "def cifar10ClassifierPruned(input_img):\n",
        "  \n",
        "  conv1_1 = (Conv2D(64, (3,3),name = 'conv1_1' ,padding='same', \n",
        "                    kernel_regularizer=regularizers.l2(weight_decay), input_shape=x_train.shape[1:],\n",
        "                    activation='relu',trainable = enable_training))(input_img)\n",
        "  conv1_2 = BatchNormalization(name = 'conv1_2',trainable = enable_training)(conv1_1)\n",
        "  pool1_3 = MaxPooling2D(pool_size=(2, 2), name = 'pool1_3',trainable = enable_training)(conv1_2) #14 x 14 x 32\n",
        "  conv2_1 = (Conv2D(128, (3,3),name = 'conv2_1' ,trainable = enable_training,padding='same',\n",
        "                    activation= 'relu',kernel_regularizer=regularizers.l2(weight_decay)))(pool1_3)\n",
        "  conv2_2 = BatchNormalization(name = 'conv2_2',trainable = enable_training)(conv2_1)\n",
        "  pool2_3 = MaxPooling2D(pool_size=(2, 2), name = 'pool2_3',trainable = enable_training)(conv2_2) #14 x 14 x 32\n",
        "  \n",
        "  conv3_1 = (Conv2D(256, (3,3),trainable = enable_training, padding='same',name = 'conv3_1',\n",
        "                    kernel_regularizer=regularizers.l2(weight_decay), activation='relu'))(pool2_3)\n",
        "  conv3_2 = BatchNormalization(name = 'conv3_2',trainable = enable_training)(conv3_1)\n",
        "  conv4_1 = (Conv2D(256, (3,3), trainable = enable_training,padding='same',name = 'conv4_1' ,activation= 'relu',\n",
        "                    kernel_regularizer=regularizers.l2(weight_decay)))(conv3_2)\n",
        "  conv4_2 = BatchNormalization(name = 'conv4_2',trainable = enable_training)(conv4_1)\n",
        "  pool4_2 = MaxPooling2D(pool_size=(2, 2), name = 'pool4_2',trainable = enable_training)(conv4_2) #14 x 14 x 32\n",
        "  \n",
        "  conv5_1 = (Conv2D(512, (3,3), padding='same',name = 'conv5_1',trainable = enable_training,\n",
        "                    kernel_regularizer=regularizers.l2(weight_decay), activation='relu'))(pool4_2)\n",
        "  conv5_2 = BatchNormalization(name = 'conv5_2',trainable = enable_training)(conv5_1)\n",
        "  conv6_1 = (Conv2D(512, (3,3), padding='same',trainable = enable_training,name = 'conv6_1' ,activation= 'relu',\n",
        "                    kernel_regularizer=regularizers.l2(weight_decay)))(conv5_2)\n",
        "  conv6_2 = BatchNormalization(name = 'conv6_2',trainable = enable_training)(conv6_1)\n",
        "  pool6_2 = MaxPooling2D(pool_size=(2, 2), name = 'pool6_2',trainable = enable_training)(conv6_2) #14 x 14 x 32\n",
        "  \n",
        "  conv7_1 = (Conv2D(512, (3,3), padding='same',name = 'conv7_1',trainable = enable_training,\n",
        "                    kernel_regularizer=regularizers.l2(weight_decay), activation='relu'))(pool6_2)\n",
        "  conv7_2 = BatchNormalization(name = 'conv7_2',trainable = enable_training)(conv7_1)\n",
        "  conv8_1 = (Conv2D(256, (3,3), padding='same',name = 'conv8_1' ,trainable = enable_training,activation= 'relu',\n",
        "                    kernel_regularizer=regularizers.l2(weight_decay)))(conv7_2)\n",
        "  conv8_2 = BatchNormalization(name = 'conv8_2')(conv8_1)\n",
        "  pool8_2 = MaxPooling2D(pool_size=(2, 2), name = 'pool8_2')(conv8_2) #14 x 14 x 32\n",
        "\n",
        "\n",
        "  flat = Flatten()(pool8_2)\n",
        "  fc1 = Dense(4096, activation='relu', name = 'fc1')(flat)\n",
        "  fc2 = Dense(4096, activation='relu', name = 'fc2')(fc1)\n",
        "  fc3 = Dense(1000, activation='relu', name = 'fc3')(fc2)\n",
        "\n",
        "\n",
        "  \n",
        "  out = Dense(num_classes, activation='softmax', name = 'out')(fc3)\n",
        "  \n",
        "  return out"
      ],
      "execution_count": 0,
      "outputs": []
    },
    {
      "cell_type": "markdown",
      "metadata": {
        "id": "U_0LHS-Xf7aN",
        "colab_type": "text"
      },
      "source": [
        "## Define functions for calculation of DI score\n",
        "getDIScoreOfLayer(layer_output, true_labels), \n",
        "getDIScoreOfLayerCNNLayer(cnn_outputs, true_labels)\n"
      ]
    },
    {
      "cell_type": "code",
      "metadata": {
        "id": "xsLk-f7sf6zd",
        "colab_type": "code",
        "colab": {}
      },
      "source": [
        "def getDIScoreOfLayer(layer_output, true_labels):\n",
        "  # computeScatterMatrix\n",
        "  rho = 1e-6\n",
        "  mu = layer_output.mean(axis=0)\n",
        "#   print(mu.shape)\n",
        "  mu = mu.reshape((1,-1))\n",
        "  centered_data = layer_output - mu\n",
        "  S_bar = np.matmul(centered_data.T,centered_data)\n",
        "  # compute between class matrix\n",
        "  total_classes = true_labels.max()\n",
        "  S_B = np.zeros(shape = (mu.shape[1],mu.shape[1]))\n",
        "  S_W = np.zeros(shape = (mu.shape[1],mu.shape[1]))\n",
        "  unique_classes = np.unique(true_labels)\n",
        "  unique_classes_list = np.ndarray.tolist(unique_classes)\n",
        "  for l in unique_classes_list:\n",
        "    class_l_index = np.where(true_labels == l)\n",
        "    class_l_output = layer_output[class_l_index[0],:]\n",
        "    mu_l = class_l_output.mean(axis=0)\n",
        "    mu_l = mu_l.reshape((1,-1))\n",
        "    total_examples_this_class = class_l_index[0].shape   \n",
        "    ss = mu_l - mu\n",
        "    S_B = S_B + total_examples_this_class*np.matmul((mu_l - mu).T,(mu_l - mu))\n",
        "\n",
        "  DI_Score = np.trace(np.matmul(np.linalg.inv(S_bar + rho*np.eye(S_bar.shape[0])),S_B))\n",
        "  return DI_Score"
      ],
      "execution_count": 0,
      "outputs": []
    },
    {
      "cell_type": "code",
      "metadata": {
        "id": "4KLI4xHpMlS9",
        "colab_type": "code",
        "colab": {}
      },
      "source": [
        "def compute_di_score(features,Y):\n",
        "    '''\n",
        "    Computes DI Score of a Neural Network Output\n",
        "    For convolution layer, the DI score of each channel is computed\n",
        "    For fully connected layer, the DI score of each node is computed\n",
        "    \n",
        "    Input:\n",
        "    features: shape: convolution: Ne,H,W,Nf\n",
        "                     fully connected: Ne,Nf\n",
        "                     Ne = number of example\n",
        "                     Nf = number of channels/filters\n",
        "    Y: shape: Ne,n_class\n",
        "                One hot encoded array. Each row contains one example.\n",
        "    \n",
        "    Output:\n",
        "    dis: shape: (Nf,), di sore of each of the filters.\n",
        "    '''\n",
        "    fshape = len(features.shape)\n",
        "    \n",
        "    #Taking the features to Appropriate Shape\n",
        "    if fshape==4:\n",
        "        Ne,H,W,Nf = features.shape\n",
        "        features = features.transpose(3,0,1,2) #Nf, Ne, H,W\n",
        "        features = features.reshape(Nf,Ne,-1) #Nf, Ne, HxW\n",
        "        features = features.transpose(0,2,1) # Nf, HxW, Ne\n",
        "        d = H*W\n",
        "    elif fshape==2:\n",
        "        Ne,Nf = features.shape\n",
        "        features = features.transpose(1,0) #Nf, Ne\n",
        "        features = np.expand_dims(features,axis=1)\n",
        "        d = 1\n",
        "    \n",
        "    #Normalizing the Y\n",
        "    Y = Y.T\n",
        "    N_number = np.sqrt(np.array([np.sum(Y,axis=1)]).T)\n",
        "    Y = Y/N_number\n",
        "    \n",
        "    dis = np.zeros(Nf)\n",
        "\n",
        "    rho = 10**-8\n",
        "    for i in range(Nf):\n",
        "        X = features[i,:,:]\n",
        "        \n",
        "        dis[i] = np.trace(np.linalg.inv(X.dot(X.T)+rho*np.eye(d)).dot(X).dot(Y.T).dot(Y).dot(X.T))\n",
        "        \n",
        "        \n",
        "    return dis"
      ],
      "execution_count": 0,
      "outputs": []
    },
    {
      "cell_type": "code",
      "metadata": {
        "id": "ubrpaIpFgBzn",
        "colab_type": "code",
        "colab": {}
      },
      "source": [
        "def getDIScoreOfLayerCNNLayer(cnn_outputs, true_labels):\n",
        "  # computeScatterMatrix\n",
        "  number_of_filters = cnn_outputs.shape[3]\n",
        "  cnn_di_scores = []\n",
        "  for filt in range(0,number_of_filters):\n",
        "    outputs_filter = cnn_outputs[:,:,:,filt]\n",
        "    outputs_filter_reshaped = np.reshape(outputs_filter, newshape=(cnn_outputs.shape[0],-1))\n",
        "    this_filter_score = compute_di_score(outputs_filter_reshaped, true_labels)\n",
        "    cnn_di_scores.append(this_filter_score)\n",
        "  return cnn_di_scores"
      ],
      "execution_count": 0,
      "outputs": []
    },
    {
      "cell_type": "code",
      "metadata": {
        "id": "f2w2HyV5MWn1",
        "colab_type": "code",
        "colab": {}
      },
      "source": [
        ""
      ],
      "execution_count": 0,
      "outputs": []
    },
    {
      "cell_type": "markdown",
      "metadata": {
        "id": "MQ5H0p_KjVCw",
        "colab_type": "text"
      },
      "source": [
        "## define a function to get and plot di score of a layer. It takes inputs - trained model, layer name to get DI scores and returns a plot with some statistics"
      ]
    },
    {
      "cell_type": "code",
      "metadata": {
        "id": "o9MHI1LFjUZs",
        "colab_type": "code",
        "colab": {}
      },
      "source": [
        "def createCNNLayerDIScorePlot(trained_model, layer_name, data_to_use = train_X , data_label =train_ground ):\n",
        "#   print(trained_model.layers)\n",
        "#   get_cnn1_output_function = K.function([trained_model.layers[0].input],\n",
        "#                                   [trained_model.get_layer(layer_name).output])   #get_layer test_three_label\n",
        "  \n",
        "  model = trained_model\n",
        "  intermediate_layer_model = Model(inputs=model.input,\n",
        "                                 outputs=model.get_layer(layer_name).output)\n",
        "  cnn1_output = intermediate_layer_model.predict(data_to_use)\n",
        "#   cnn1_output = get_cnn1_output_function([data_to_use])[0]\n",
        "  di_scores = compute_di_score(cnn1_output, data_label)\n",
        "  # plot DI score\n",
        "  y_pos  = np.arange(len(di_scores))\n",
        "  plt.bar(y_pos, di_scores, align='center', alpha=0.5)\n",
        "  plt.xlabel('FilterNumber')\n",
        "  plt.ylabel('DI Score')\n",
        "\n",
        "  print('Mean of DI SCore: ',np.mean(di_scores))\n",
        "  print('STD of DI Score: ', np.std(di_scores))\n",
        "  print('MAX of DI Score: ', np.max(di_scores))\n",
        "#   plt.title('DI score - Data - D_L, Network -N_L ' + layer_name)\n",
        "  plt.title('DI score ' + layer_name)\n",
        "\n",
        "#   plt.ylim([0,1])\n",
        "  return di_scores"
      ],
      "execution_count": 0,
      "outputs": []
    },
    {
      "cell_type": "markdown",
      "metadata": {
        "id": "DCCl7-vOfSZ9",
        "colab_type": "text"
      },
      "source": [
        "## load pretrained model"
      ]
    },
    {
      "cell_type": "code",
      "metadata": {
        "id": "jqIkmDGkfRtD",
        "colab_type": "code",
        "colab": {}
      },
      "source": [
        "loaded_model_low_accuracy = keras.models.load_model('vgg16lowAccuracyModelDataV3.h5')\n",
        "loaded_model_high_accuracy = keras.models.load_model('vgg16HighAccuracyModelData.h5')\n"
      ],
      "execution_count": 0,
      "outputs": []
    },
    {
      "cell_type": "code",
      "metadata": {
        "id": "z7J98O5qfi8Z",
        "colab_type": "code",
        "outputId": "b114fb14-a878-43b9-93ad-40e2819d0070",
        "colab": {
          "base_uri": "https://localhost:8080/",
          "height": 34
        }
      },
      "source": [
        "loaded_model_low_accuracy.evaluate(valid_X, valid_ground, verbose=0)\n",
        "\n",
        "#[0.3284807046254476, 0.923]"
      ],
      "execution_count": 241,
      "outputs": [
        {
          "output_type": "execute_result",
          "data": {
            "text/plain": [
              "[0.4554041434923808, 0.8660000001589457]"
            ]
          },
          "metadata": {
            "tags": []
          },
          "execution_count": 241
        }
      ]
    },
    {
      "cell_type": "code",
      "metadata": {
        "id": "rddbxdrtXcR7",
        "colab_type": "code",
        "outputId": "c7d7d832-28ac-4908-f0ae-392d2509a832",
        "colab": {
          "base_uri": "https://localhost:8080/",
          "height": 34
        }
      },
      "source": [
        "temp_model = keras.models.load_model('vgg16lowAccuracyModelDataV3.h5')\n",
        "temp_model.evaluate(valid_X, valid_ground, verbose=0)"
      ],
      "execution_count": 242,
      "outputs": [
        {
          "output_type": "execute_result",
          "data": {
            "text/plain": [
              "[0.45540414571762083, 0.8660000001589457]"
            ]
          },
          "metadata": {
            "tags": []
          },
          "execution_count": 242
        }
      ]
    },
    {
      "cell_type": "code",
      "metadata": {
        "id": "HsXuB6NbXmGB",
        "colab_type": "code",
        "outputId": "8c3ac5f4-09c8-492a-de3e-2cf859c9282c",
        "colab": {
          "base_uri": "https://localhost:8080/",
          "height": 138
        }
      },
      "source": [
        "valid_ground"
      ],
      "execution_count": 243,
      "outputs": [
        {
          "output_type": "execute_result",
          "data": {
            "text/plain": [
              "array([[0., 0., 1.],\n",
              "       [0., 1., 0.],\n",
              "       [0., 1., 0.],\n",
              "       ...,\n",
              "       [1., 0., 0.],\n",
              "       [1., 0., 0.],\n",
              "       [1., 0., 0.]], dtype=float32)"
            ]
          },
          "metadata": {
            "tags": []
          },
          "execution_count": 243
        }
      ]
    },
    {
      "cell_type": "code",
      "metadata": {
        "id": "KVSvyoZ8Uw_y",
        "colab_type": "code",
        "outputId": "89e246a8-dc39-4638-88f5-a8df19f9efef",
        "colab": {
          "base_uri": "https://localhost:8080/",
          "height": 34
        }
      },
      "source": [
        "loaded_model_low_accuracy.evaluate(test_three_data, test_three_label_one_hot, verbose=0)"
      ],
      "execution_count": 244,
      "outputs": [
        {
          "output_type": "execute_result",
          "data": {
            "text/plain": [
              "[0.45106769299507143, 0.8799999998410543]"
            ]
          },
          "metadata": {
            "tags": []
          },
          "execution_count": 244
        }
      ]
    },
    {
      "cell_type": "code",
      "metadata": {
        "id": "VAY0LGCNSMBc",
        "colab_type": "code",
        "outputId": "b77f68f8-d800-43c4-a103-b865c4c73dbc",
        "colab": {
          "base_uri": "https://localhost:8080/",
          "height": 34
        }
      },
      "source": [
        "# loaded_model_low_accuracy.load_weights('weights.hdf5')\n",
        "# loaded_model_low_accuracy.evaluate(valid_X, valid_ground, verbose=0)\n",
        "loaded_model_high_accuracy.evaluate(valid_X, valid_ground, verbose=0)\n"
      ],
      "execution_count": 245,
      "outputs": [
        {
          "output_type": "execute_result",
          "data": {
            "text/plain": [
              "[2.8258795127868654, 0.3953333332538605]"
            ]
          },
          "metadata": {
            "tags": []
          },
          "execution_count": 245
        }
      ]
    },
    {
      "cell_type": "code",
      "metadata": {
        "id": "Jsm88PV3TlmL",
        "colab_type": "code",
        "outputId": "9a0069be-3b26-4eae-97f1-cd5b4959599e",
        "colab": {
          "base_uri": "https://localhost:8080/",
          "height": 34
        }
      },
      "source": [
        "loaded_model_high_accuracy.evaluate(test_three_data, test_three_label_one_hot, verbose=0)"
      ],
      "execution_count": 246,
      "outputs": [
        {
          "output_type": "execute_result",
          "data": {
            "text/plain": [
              "[3.1267358474731446, 0.3673333334128062]"
            ]
          },
          "metadata": {
            "tags": []
          },
          "execution_count": 246
        }
      ]
    },
    {
      "cell_type": "code",
      "metadata": {
        "id": "o-dQDj8vPnXC",
        "colab_type": "code",
        "colab": {}
      },
      "source": [
        ""
      ],
      "execution_count": 0,
      "outputs": []
    },
    {
      "cell_type": "code",
      "metadata": {
        "id": "V7c-A-a4SS6S",
        "colab_type": "code",
        "outputId": "31f329de-2907-42a5-f5cd-de5ec672854a",
        "colab": {
          "base_uri": "https://localhost:8080/",
          "height": 34
        }
      },
      "source": [
        "loaded_model_low_accuracy.evaluate(test_three_data, test_three_label_one_hot, verbose=0)"
      ],
      "execution_count": 247,
      "outputs": [
        {
          "output_type": "execute_result",
          "data": {
            "text/plain": [
              "[0.45106769299507143, 0.8799999998410543]"
            ]
          },
          "metadata": {
            "tags": []
          },
          "execution_count": 247
        }
      ]
    },
    {
      "cell_type": "code",
      "metadata": {
        "id": "tzbIXvcEoNMj",
        "colab_type": "code",
        "outputId": "e037c4fb-8325-48e3-a854-a2ea86508bb6",
        "colab": {
          "base_uri": "https://localhost:8080/",
          "height": 1074
        }
      },
      "source": [
        "loaded_model_low_accuracy.summary()"
      ],
      "execution_count": 248,
      "outputs": [
        {
          "output_type": "stream",
          "text": [
            "_________________________________________________________________\n",
            "Layer (type)                 Output Shape              Param #   \n",
            "=================================================================\n",
            "input_1 (InputLayer)         (None, 32, 32, 3)         0         \n",
            "_________________________________________________________________\n",
            "conv1_1 (Conv2D)             (None, 32, 32, 64)        1792      \n",
            "_________________________________________________________________\n",
            "conv1_2 (BatchNormalization) (None, 32, 32, 64)        256       \n",
            "_________________________________________________________________\n",
            "pool1_3 (MaxPooling2D)       (None, 16, 16, 64)        0         \n",
            "_________________________________________________________________\n",
            "conv2_1 (Conv2D)             (None, 16, 16, 128)       73856     \n",
            "_________________________________________________________________\n",
            "conv2_2 (BatchNormalization) (None, 16, 16, 128)       512       \n",
            "_________________________________________________________________\n",
            "pool2_3 (MaxPooling2D)       (None, 8, 8, 128)         0         \n",
            "_________________________________________________________________\n",
            "conv3_1 (Conv2D)             (None, 8, 8, 256)         295168    \n",
            "_________________________________________________________________\n",
            "conv3_2 (BatchNormalization) (None, 8, 8, 256)         1024      \n",
            "_________________________________________________________________\n",
            "conv4_1 (Conv2D)             (None, 8, 8, 256)         590080    \n",
            "_________________________________________________________________\n",
            "conv4_2 (BatchNormalization) (None, 8, 8, 256)         1024      \n",
            "_________________________________________________________________\n",
            "pool4_2 (MaxPooling2D)       (None, 4, 4, 256)         0         \n",
            "_________________________________________________________________\n",
            "conv5_1 (Conv2D)             (None, 4, 4, 512)         1180160   \n",
            "_________________________________________________________________\n",
            "conv5_2 (BatchNormalization) (None, 4, 4, 512)         2048      \n",
            "_________________________________________________________________\n",
            "conv6_1 (Conv2D)             (None, 4, 4, 512)         2359808   \n",
            "_________________________________________________________________\n",
            "conv6_2 (BatchNormalization) (None, 4, 4, 512)         2048      \n",
            "_________________________________________________________________\n",
            "pool6_2 (MaxPooling2D)       (None, 2, 2, 512)         0         \n",
            "_________________________________________________________________\n",
            "conv7_1 (Conv2D)             (None, 2, 2, 512)         2359808   \n",
            "_________________________________________________________________\n",
            "conv7_2 (BatchNormalization) (None, 2, 2, 512)         2048      \n",
            "_________________________________________________________________\n",
            "conv8_1 (Conv2D)             (None, 2, 2, 512)         2359808   \n",
            "_________________________________________________________________\n",
            "conv8_2 (BatchNormalization) (None, 2, 2, 512)         2048      \n",
            "_________________________________________________________________\n",
            "pool8_2 (MaxPooling2D)       (None, 1, 1, 512)         0         \n",
            "_________________________________________________________________\n",
            "flatten_1 (Flatten)          (None, 512)               0         \n",
            "_________________________________________________________________\n",
            "fc1 (Dense)                  (None, 4096)              2101248   \n",
            "_________________________________________________________________\n",
            "fc2 (Dense)                  (None, 4096)              16781312  \n",
            "_________________________________________________________________\n",
            "fc3 (Dense)                  (None, 1000)              4097000   \n",
            "_________________________________________________________________\n",
            "out (Dense)                  (None, 3)                 3003      \n",
            "=================================================================\n",
            "Total params: 32,214,051\n",
            "Trainable params: 32,208,547\n",
            "Non-trainable params: 5,504\n",
            "_________________________________________________________________\n"
          ],
          "name": "stdout"
        }
      ]
    },
    {
      "cell_type": "markdown",
      "metadata": {
        "id": "UijDrRL2khSY",
        "colab_type": "text"
      },
      "source": [
        "## Create a plot for DI score using function createCNNLayerDIScorePlot()"
      ]
    },
    {
      "cell_type": "markdown",
      "metadata": {
        "id": "Lyk2-GAGaPnV",
        "colab_type": "text"
      },
      "source": [
        "#### On train data"
      ]
    },
    {
      "cell_type": "code",
      "metadata": {
        "id": "EN1yVJGzUzXX",
        "colab_type": "code",
        "colab": {}
      },
      "source": [
        "# layer_name = 'conv2d_2'\n",
        "# model = loaded_model_low_accuracy\n",
        "# intermediate_layer_model = Model(i4nputs=model.input,\n",
        "#                                  outputs=model.get_layer(layer_name).output)\n",
        "# intermediate_output = intermediate_layer_model.predict(train_three_data)"
      ],
      "execution_count": 0,
      "outputs": []
    },
    {
      "cell_type": "code",
      "metadata": {
        "id": "m_GyLE1oSbGn",
        "colab_type": "code",
        "outputId": "59fb4186-286d-4705-a6b5-663d0c96ae79",
        "colab": {
          "base_uri": "https://localhost:8080/",
          "height": 348
        }
      },
      "source": [
        "# now get DI score of a layer from high accuracy and low accuracy model\n",
        "# layer_names = ['conv2_1']\n",
        "layer_names = ['conv8_1']\n",
        "all_di_acores_low_accuracy = []\n",
        "for lay in layer_names:\n",
        "  this_di_score_low_accuracy_model = createCNNLayerDIScorePlot(loaded_model_low_accuracy, lay)\n",
        "  all_di_acores_low_accuracy.append(this_di_score_low_accuracy_model)\n",
        "# discores_low_acc_model = createCNNLayerDIScorePlot(loaded_model_low_accuracy, layer_name)"
      ],
      "execution_count": 250,
      "outputs": [
        {
          "output_type": "stream",
          "text": [
            "Mean of DI SCore:  1.331331297427941\n",
            "STD of DI Score:  0.9772967565250594\n",
            "MAX of DI Score:  2.616307017978204\n"
          ],
          "name": "stdout"
        },
        {
          "output_type": "display_data",
          "data": {
            "image/png": "[encoded data removed]",
            "text/plain": [
              "<Figure size 432x288 with 1 Axes>"
            ]
          },
          "metadata": {
            "tags": []
          }
        }
      ]
    },
    {
      "cell_type": "code",
      "metadata": {
        "id": "yBUWcfwaYwsx",
        "colab_type": "code",
        "colab": {}
      },
      "source": [
        "# discores_low_acc_model"
      ],
      "execution_count": 0,
      "outputs": []
    },
    {
      "cell_type": "code",
      "metadata": {
        "id": "siJntOdpYoNZ",
        "colab_type": "code",
        "colab": {}
      },
      "source": [
        "# np.sort(discores_low_acc_model)"
      ],
      "execution_count": 0,
      "outputs": []
    },
    {
      "cell_type": "code",
      "metadata": {
        "id": "QQC6i-0MVmWk",
        "colab_type": "code",
        "outputId": "fe617877-4da9-44f0-a0f2-a6875e37c757",
        "colab": {
          "base_uri": "https://localhost:8080/",
          "height": 348
        }
      },
      "source": [
        "# now get DI score of a layer from high accuracy and low accuracy model\n",
        "#layer_name = 'conv2d_2'\n",
        "\n",
        "# discores_high_acc_model = createCNNLayerDIScorePlot(loaded_model_high_accuracy, layer_name)\n",
        "all_di_acores_high_accuracy = []\n",
        "for lay in layer_names:\n",
        "  this_di_score_high_accuracy_model = createCNNLayerDIScorePlot(loaded_model_high_accuracy, lay)\n",
        "  all_di_acores_high_accuracy.append(this_di_score_high_accuracy_model)"
      ],
      "execution_count": 253,
      "outputs": [
        {
          "output_type": "stream",
          "text": [
            "Mean of DI SCore:  0.4508742286708036\n",
            "STD of DI Score:  0.40304218211343\n",
            "MAX of DI Score:  1.19291369866481\n"
          ],
          "name": "stdout"
        },
        {
          "output_type": "display_data",
          "data": {
            "image/png": "[encoded data removed]",
            "text/plain": [
              "<Figure size 432x288 with 1 Axes>"
            ]
          },
          "metadata": {
            "tags": []
          }
        }
      ]
    },
    {
      "cell_type": "code",
      "metadata": {
        "id": "cGjrlhMbVmUv",
        "colab_type": "code",
        "colab": {}
      },
      "source": [
        ""
      ],
      "execution_count": 0,
      "outputs": []
    },
    {
      "cell_type": "markdown",
      "metadata": {
        "id": "EHVud4ykeRn8",
        "colab_type": "text"
      },
      "source": [
        "## Pick top 10 DI scores"
      ]
    },
    {
      "cell_type": "code",
      "metadata": {
        "id": "8k5Ob6gWeQ94",
        "colab_type": "code",
        "colab": {}
      },
      "source": [
        ""
      ],
      "execution_count": 0,
      "outputs": []
    },
    {
      "cell_type": "code",
      "metadata": {
        "id": "TyI8gOZuftmZ",
        "colab_type": "code",
        "colab": {}
      },
      "source": [
        ""
      ],
      "execution_count": 0,
      "outputs": []
    },
    {
      "cell_type": "markdown",
      "metadata": {
        "id": "TjMoET8nasck",
        "colab_type": "text"
      },
      "source": [
        "#### On validation data"
      ]
    },
    {
      "cell_type": "code",
      "metadata": {
        "id": "cPKQgmyXbACY",
        "colab_type": "code",
        "colab": {}
      },
      "source": [
        "valid_ground_actual = np.argmax(valid_ground, axis=1)\n",
        "# valid_ground_actual.shape\n",
        "# data_to_use = train_three_data , data_label =train_three_label"
      ],
      "execution_count": 0,
      "outputs": []
    },
    {
      "cell_type": "code",
      "metadata": {
        "id": "nbg5-HKhaxxj",
        "colab_type": "code",
        "colab": {}
      },
      "source": [
        "# now get DI score of a layer from high accuracy and low accuracy model\n",
        "#layer_name = 'conv2d_2'\n",
        "# discores_low_acc_model_valid = createCNNLayerDIScorePlot(loaded_model_low_accuracy,\n",
        "#                                                    layer_name, data_to_use=valid_X, data_label=valid_ground_actual)"
      ],
      "execution_count": 0,
      "outputs": []
    },
    {
      "cell_type": "code",
      "metadata": {
        "id": "zaH4FbSFaxuc",
        "colab_type": "code",
        "colab": {}
      },
      "source": [
        "# now get DI score of a layer from high accuracy and low accuracy model\n",
        "#layer_name = 'conv2d_2'\n",
        "\n",
        "# discores_high_acc_model_valid = createCNNLayerDIScorePlot(loaded_model_high_accuracy,\n",
        "#                                                    layer_name, data_to_use=valid_X, data_label=valid_ground_actual)"
      ],
      "execution_count": 0,
      "outputs": []
    },
    {
      "cell_type": "code",
      "metadata": {
        "id": "vMpuiVdSf60g",
        "colab_type": "code",
        "colab": {}
      },
      "source": [
        "# np.sort(discores_high_acc_model)"
      ],
      "execution_count": 0,
      "outputs": []
    },
    {
      "cell_type": "markdown",
      "metadata": {
        "id": "ZueWb5hY7zZJ",
        "colab_type": "text"
      },
      "source": [
        "#### Pick top channels from the layers selected"
      ]
    },
    {
      "cell_type": "code",
      "metadata": {
        "id": "u9HwamF674hP",
        "colab_type": "code",
        "colab": {}
      },
      "source": [
        "topChoose = True\n"
      ],
      "execution_count": 0,
      "outputs": []
    },
    {
      "cell_type": "code",
      "metadata": {
        "id": "ZmggM8xc8c8G",
        "colab_type": "code",
        "outputId": "6e9b0326-aab8-452c-e37c-36f215475749",
        "colab": {
          "base_uri": "https://localhost:8080/",
          "height": 34
        }
      },
      "source": [
        "for i,d in enumerate(all_di_acores_high_accuracy):\n",
        "  print(len(d),i)"
      ],
      "execution_count": 259,
      "outputs": [
        {
          "output_type": "stream",
          "text": [
            "512 0\n"
          ],
          "name": "stdout"
        }
      ]
    },
    {
      "cell_type": "code",
      "metadata": {
        "id": "N1cAvZpx9G8_",
        "colab_type": "code",
        "colab": {}
      },
      "source": [
        "Ks = [128*2]"
      ],
      "execution_count": 0,
      "outputs": []
    },
    {
      "cell_type": "code",
      "metadata": {
        "id": "Y3zlCJ3R9jjk",
        "colab_type": "code",
        "colab": {}
      },
      "source": [
        "copied_low_accuracy_model = loaded_model_low_accuracy"
      ],
      "execution_count": 0,
      "outputs": []
    },
    {
      "cell_type": "code",
      "metadata": {
        "id": "ZY28-KyEAhdg",
        "colab_type": "code",
        "colab": {}
      },
      "source": [
        "copied_high_accuracy_model = loaded_model_high_accuracy"
      ],
      "execution_count": 0,
      "outputs": []
    },
    {
      "cell_type": "code",
      "metadata": {
        "id": "mCeCjHCzbJj0",
        "colab_type": "code",
        "colab": {}
      },
      "source": [
        "# low_accuracy_model_weight.shape"
      ],
      "execution_count": 0,
      "outputs": []
    },
    {
      "cell_type": "code",
      "metadata": {
        "id": "Va1DmrzzY1Z_",
        "colab_type": "code",
        "outputId": "25c58e4b-6b30-44c6-bbaf-9875f866da64",
        "colab": {
          "base_uri": "https://localhost:8080/",
          "height": 1074
        }
      },
      "source": [
        "prunedModel = Model(input_img, (cifar10ClassifierPruned(input_img)))\n",
        "#data augmentation\n",
        "datagen = ImageDataGenerator(\n",
        "    rotation_range=15,\n",
        "    width_shift_range=0.1,\n",
        "    height_shift_range=0.1,\n",
        "    horizontal_flip=True,\n",
        "    )\n",
        "datagen.fit(train_three_data)\n",
        " \n",
        "#training\n",
        "batch_size = 64\n",
        " \n",
        "opt_rms = keras.optimizers.rmsprop(lr=0.001,decay=1e-6)\n",
        "# opt_rms = keras.optimizers.Adam(lr=0.001,decay=1e-6,beta_1=0.5)\n",
        "# model.compile(loss='categorical_crossentropy', optimizer=opt_rms, metrics=['accuracy'])\n",
        "\n",
        "prunedModel.compile(loss=losses.categorical_crossentropy, optimizer=opt_rms, metrics=['accuracy'])\n",
        "\n",
        "prunedModel.summary()"
      ],
      "execution_count": 264,
      "outputs": [
        {
          "output_type": "stream",
          "text": [
            "_________________________________________________________________\n",
            "Layer (type)                 Output Shape              Param #   \n",
            "=================================================================\n",
            "input_1 (InputLayer)         (None, 32, 32, 3)         0         \n",
            "_________________________________________________________________\n",
            "conv1_1 (Conv2D)             (None, 32, 32, 64)        1792      \n",
            "_________________________________________________________________\n",
            "conv1_2 (BatchNormalization) (None, 32, 32, 64)        256       \n",
            "_________________________________________________________________\n",
            "pool1_3 (MaxPooling2D)       (None, 16, 16, 64)        0         \n",
            "_________________________________________________________________\n",
            "conv2_1 (Conv2D)             (None, 16, 16, 128)       73856     \n",
            "_________________________________________________________________\n",
            "conv2_2 (BatchNormalization) (None, 16, 16, 128)       512       \n",
            "_________________________________________________________________\n",
            "pool2_3 (MaxPooling2D)       (None, 8, 8, 128)         0         \n",
            "_________________________________________________________________\n",
            "conv3_1 (Conv2D)             (None, 8, 8, 256)         295168    \n",
            "_________________________________________________________________\n",
            "conv3_2 (BatchNormalization) (None, 8, 8, 256)         1024      \n",
            "_________________________________________________________________\n",
            "conv4_1 (Conv2D)             (None, 8, 8, 256)         590080    \n",
            "_________________________________________________________________\n",
            "conv4_2 (BatchNormalization) (None, 8, 8, 256)         1024      \n",
            "_________________________________________________________________\n",
            "pool4_2 (MaxPooling2D)       (None, 4, 4, 256)         0         \n",
            "_________________________________________________________________\n",
            "conv5_1 (Conv2D)             (None, 4, 4, 512)         1180160   \n",
            "_________________________________________________________________\n",
            "conv5_2 (BatchNormalization) (None, 4, 4, 512)         2048      \n",
            "_________________________________________________________________\n",
            "conv6_1 (Conv2D)             (None, 4, 4, 512)         2359808   \n",
            "_________________________________________________________________\n",
            "conv6_2 (BatchNormalization) (None, 4, 4, 512)         2048      \n",
            "_________________________________________________________________\n",
            "pool6_2 (MaxPooling2D)       (None, 2, 2, 512)         0         \n",
            "_________________________________________________________________\n",
            "conv7_1 (Conv2D)             (None, 2, 2, 512)         2359808   \n",
            "_________________________________________________________________\n",
            "conv7_2 (BatchNormalization) (None, 2, 2, 512)         2048      \n",
            "_________________________________________________________________\n",
            "conv8_1 (Conv2D)             (None, 2, 2, 256)         1179904   \n",
            "_________________________________________________________________\n",
            "conv8_2 (BatchNormalization) (None, 2, 2, 256)         1024      \n",
            "_________________________________________________________________\n",
            "pool8_2 (MaxPooling2D)       (None, 1, 1, 256)         0         \n",
            "_________________________________________________________________\n",
            "flatten_1 (Flatten)          (None, 256)               0         \n",
            "_________________________________________________________________\n",
            "fc1 (Dense)                  (None, 4096)              1052672   \n",
            "_________________________________________________________________\n",
            "fc2 (Dense)                  (None, 4096)              16781312  \n",
            "_________________________________________________________________\n",
            "fc3 (Dense)                  (None, 1000)              4097000   \n",
            "_________________________________________________________________\n",
            "out (Dense)                  (None, 3)                 3003      \n",
            "=================================================================\n",
            "Total params: 29,984,547\n",
            "Trainable params: 29,979,555\n",
            "Non-trainable params: 4,992\n",
            "_________________________________________________________________\n"
          ],
          "name": "stdout"
        }
      ]
    },
    {
      "cell_type": "code",
      "metadata": {
        "id": "koxUAwE_a0RE",
        "colab_type": "code",
        "outputId": "fc8b4e1f-f33d-49f8-d469-33d3351eae16",
        "colab": {
          "base_uri": "https://localhost:8080/",
          "height": 52
        }
      },
      "source": [
        "yy = prunedModel.get_layer('conv8_1').get_weights()\n",
        "len(yy)\n",
        "print(yy[0].shape)\n",
        "print(yy[1].shape)\n",
        "# print(yy[2].shape)\n",
        "# print(yy[3].shape)"
      ],
      "execution_count": 265,
      "outputs": [
        {
          "output_type": "stream",
          "text": [
            "(3, 3, 512, 256)\n",
            "(256,)\n"
          ],
          "name": "stdout"
        }
      ]
    },
    {
      "cell_type": "code",
      "metadata": {
        "id": "MPPUBw49dpTH",
        "colab_type": "code",
        "colab": {}
      },
      "source": [
        "# this_layer_name\n",
        "layer_names_to_transfer = [] \n",
        "for layer in prunedModel.layers:\n",
        "    layer_names_to_transfer.append(layer.name)\n",
        "    if (layer.name == 'conv7_2'):\n",
        "      break\n",
        "#     print(layer.name)"
      ],
      "execution_count": 0,
      "outputs": []
    },
    {
      "cell_type": "code",
      "metadata": {
        "id": "lDP4eyRPgxLH",
        "colab_type": "code",
        "outputId": "37eed011-ea50-40f2-cd3e-23a3cd802955",
        "colab": {
          "base_uri": "https://localhost:8080/",
          "height": 346
        }
      },
      "source": [
        "layer_names_to_transfer"
      ],
      "execution_count": 267,
      "outputs": [
        {
          "output_type": "execute_result",
          "data": {
            "text/plain": [
              "['input_1',\n",
              " 'conv1_1',\n",
              " 'conv1_2',\n",
              " 'pool1_3',\n",
              " 'conv2_1',\n",
              " 'conv2_2',\n",
              " 'pool2_3',\n",
              " 'conv3_1',\n",
              " 'conv3_2',\n",
              " 'conv4_1',\n",
              " 'conv4_2',\n",
              " 'pool4_2',\n",
              " 'conv5_1',\n",
              " 'conv5_2',\n",
              " 'conv6_1',\n",
              " 'conv6_2',\n",
              " 'pool6_2',\n",
              " 'conv7_1',\n",
              " 'conv7_2']"
            ]
          },
          "metadata": {
            "tags": []
          },
          "execution_count": 267
        }
      ]
    },
    {
      "cell_type": "code",
      "metadata": {
        "id": "2qMvf_sig69z",
        "colab_type": "code",
        "outputId": "ea59163b-6743-4951-8604-4a80872d7158",
        "colab": {
          "base_uri": "https://localhost:8080/",
          "height": 34
        }
      },
      "source": [
        "# temp_wt.shape\n",
        "Ks"
      ],
      "execution_count": 268,
      "outputs": [
        {
          "output_type": "execute_result",
          "data": {
            "text/plain": [
              "[256]"
            ]
          },
          "metadata": {
            "tags": []
          },
          "execution_count": 268
        }
      ]
    },
    {
      "cell_type": "code",
      "metadata": {
        "id": "vFmu48r41ch0",
        "colab_type": "code",
        "colab": {}
      },
      "source": [
        "# this_low_accuracy_di_scores_sorted_list_values"
      ],
      "execution_count": 0,
      "outputs": []
    },
    {
      "cell_type": "code",
      "metadata": {
        "id": "91d4crRj1BfO",
        "colab_type": "code",
        "colab": {
          "base_uri": "https://localhost:8080/",
          "height": 52
        },
        "outputId": "d5e2ab75-d5f2-4188-f7cb-eda81b739305"
      },
      "source": [
        "for l,DIs in enumerate(all_di_acores_high_accuracy):\n",
        "  this_layer_name = layer_names[l]\n",
        "  this_high_accuracy_di_scores = all_di_acores_high_accuracy[l]\n",
        "  this_high_accuracy_di_scores_sorted = np.flip(np.argsort(this_high_accuracy_di_scores))\n",
        "  this_high_accuracy_di_scores_sorted_values = np.flip(np.sort(this_high_accuracy_di_scores))\n",
        "\n",
        "  this_high_accuracy_di_scores_sorted_list = np.ndarray.tolist(this_high_accuracy_di_scores_sorted)\n",
        "#   top_channels = this_high_accuracy_di_scores_sorted_list[-Ks[l]:]\n",
        "  \n",
        "  # do same thing for lowest DIs\n",
        "  this_low_accuracy_di_scores = all_di_acores_low_accuracy[l]\n",
        "  this_low_accuracy_di_scores_sorted = np.argsort(this_low_accuracy_di_scores)\n",
        "  this_low_accuracy_di_scores_sorted_list = np.ndarray.tolist(this_low_accuracy_di_scores_sorted)\n",
        "  this_low_accuracy_di_scores_sorted_list_values = np.sort(this_low_accuracy_di_scores)\n",
        "  \n",
        "  N_j = len(this_high_accuracy_di_scores_sorted_values)\n",
        "  \n",
        "  for idx in range(N_j):\n",
        "    if this_high_accuracy_di_scores_sorted_values[idx] < this_low_accuracy_di_scores_sorted_list_values[idx]:\n",
        "      no_id = idx\n",
        "      break\n",
        "  top_channels = this_high_accuracy_di_scores_sorted_list[:no_id]\n",
        "  bottom_channels = this_low_accuracy_di_scores_sorted_list[-(256-no_id):]  \n",
        "  print(len(bottom_channels),len(top_channels))\n",
        "\n",
        "  top_channels = np.random.choice(this_high_accuracy_di_scores_sorted_list,len(top_channels))\n",
        "  bottom_channels = np.random.choice(this_low_accuracy_di_scores_sorted_list,len(bottom_channels))\n",
        "#   print(len(bottom_channels),len(top_channels))\n",
        "#   bottom_channels = this_low_accuracy_di_scores_sorted_list[-Ks[l]:] \n",
        "  \n",
        "  \n",
        "  \n",
        "  # now replace the weights\n",
        "  low_accuracy_model_weights_bias = copied_low_accuracy_model.get_layer(this_layer_name).get_weights()\n",
        "  high_accuracy_model_weights_bias = copied_high_accuracy_model.get_layer(this_layer_name).get_weights()\n",
        "\n",
        "  low_accuracy_model_weight,low_accuracy_model_bias = low_accuracy_model_weights_bias[0],low_accuracy_model_weights_bias[1]\n",
        "  high_accuracy_model_weight,high_accuracy_model_bias = high_accuracy_model_weights_bias[0],high_accuracy_model_weights_bias[1]\n",
        "  \n",
        "#   temp_wt =high_accuracy_model_weight[:,:,:,top_channels]# np.concatenate((low_accuracy_model_weight[:,:,:,bottom_channels],high_accuracy_model_weight[:,:,:,top_channels] ), axis = 3)\n",
        "#   temp_bias = high_accuracy_model_bias[top_channels] #np.concatenate((low_accuracy_model_bias[bottom_channels],high_accuracy_model_bias[top_channels] ))\n",
        "  \n",
        "#   temp_wt = np.concatenate((low_accuracy_model_weight[:,:,:,bottom_channels],high_accuracy_model_weight[:,:,:,top_channels] ), axis = 3)\n",
        "  temp_wt = np.concatenate((high_accuracy_model_weight[:,:,:,top_channels],low_accuracy_model_weight[:,:,:,bottom_channels] ), axis = 3)\n",
        "\n",
        "#   temp_bias =np.concatenate((low_accuracy_model_bias[bottom_channels],high_accuracy_model_bias[top_channels] ))\n",
        "  \n",
        "  temp_bias =np.concatenate((high_accuracy_model_bias[top_channels],low_accuracy_model_bias[bottom_channels] ))\n",
        "\n",
        "  pmod = prunedModel.get_layer(this_layer_name).get_weights()\n",
        "  \n",
        "  prunedModel.get_layer(this_layer_name).set_weights([temp_wt, temp_bias])"
      ],
      "execution_count": 277,
      "outputs": [
        {
          "output_type": "stream",
          "text": [
            "89 167\n",
            "89 167\n"
          ],
          "name": "stdout"
        }
      ]
    },
    {
      "cell_type": "code",
      "metadata": {
        "id": "vtQ_qDHE16LM",
        "colab_type": "code",
        "outputId": "2dd6e2ac-e770-4676-acb8-db4746c8783f",
        "colab": {
          "base_uri": "https://localhost:8080/",
          "height": 34
        }
      },
      "source": [
        "yy = np.where(np.array(this_high_accuracy_di_scores)<1e-3)\n",
        "yy[0].shape"
      ],
      "execution_count": 278,
      "outputs": [
        {
          "output_type": "execute_result",
          "data": {
            "text/plain": [
              "(184,)"
            ]
          },
          "metadata": {
            "tags": []
          },
          "execution_count": 278
        }
      ]
    },
    {
      "cell_type": "code",
      "metadata": {
        "id": "1q2Z39311u8C",
        "colab_type": "code",
        "outputId": "399f058c-64a6-49a2-8203-80000ef50df7",
        "colab": {
          "base_uri": "https://localhost:8080/",
          "height": 8892
        }
      },
      "source": [
        "this_high_accuracy_di_scores_sorted_list"
      ],
      "execution_count": 279,
      "outputs": [
        {
          "output_type": "execute_result",
          "data": {
            "text/plain": [
              "[418,\n",
              " 19,\n",
              " 303,\n",
              " 251,\n",
              " 18,\n",
              " 454,\n",
              " 223,\n",
              " 384,\n",
              " 37,\n",
              " 354,\n",
              " 228,\n",
              " 505,\n",
              " 440,\n",
              " 162,\n",
              " 93,\n",
              " 268,\n",
              " 216,\n",
              " 381,\n",
              " 477,\n",
              " 186,\n",
              " 422,\n",
              " 79,\n",
              " 235,\n",
              " 482,\n",
              " 274,\n",
              " 349,\n",
              " 405,\n",
              " 89,\n",
              " 351,\n",
              " 167,\n",
              " 168,\n",
              " 63,\n",
              " 65,\n",
              " 94,\n",
              " 195,\n",
              " 193,\n",
              " 45,\n",
              " 453,\n",
              " 141,\n",
              " 289,\n",
              " 77,\n",
              " 441,\n",
              " 17,\n",
              " 131,\n",
              " 24,\n",
              " 134,\n",
              " 350,\n",
              " 367,\n",
              " 413,\n",
              " 202,\n",
              " 194,\n",
              " 212,\n",
              " 324,\n",
              " 12,\n",
              " 487,\n",
              " 430,\n",
              " 151,\n",
              " 99,\n",
              " 173,\n",
              " 469,\n",
              " 427,\n",
              " 177,\n",
              " 322,\n",
              " 96,\n",
              " 511,\n",
              " 183,\n",
              " 47,\n",
              " 182,\n",
              " 298,\n",
              " 444,\n",
              " 343,\n",
              " 230,\n",
              " 164,\n",
              " 420,\n",
              " 392,\n",
              " 285,\n",
              " 20,\n",
              " 483,\n",
              " 107,\n",
              " 338,\n",
              " 451,\n",
              " 339,\n",
              " 465,\n",
              " 375,\n",
              " 300,\n",
              " 60,\n",
              " 417,\n",
              " 64,\n",
              " 491,\n",
              " 2,\n",
              " 473,\n",
              " 0,\n",
              " 369,\n",
              " 59,\n",
              " 150,\n",
              " 290,\n",
              " 271,\n",
              " 330,\n",
              " 265,\n",
              " 478,\n",
              " 226,\n",
              " 180,\n",
              " 509,\n",
              " 118,\n",
              " 214,\n",
              " 414,\n",
              " 493,\n",
              " 293,\n",
              " 205,\n",
              " 115,\n",
              " 102,\n",
              " 143,\n",
              " 321,\n",
              " 101,\n",
              " 459,\n",
              " 66,\n",
              " 244,\n",
              " 231,\n",
              " 314,\n",
              " 210,\n",
              " 370,\n",
              " 241,\n",
              " 179,\n",
              " 90,\n",
              " 207,\n",
              " 139,\n",
              " 229,\n",
              " 4,\n",
              " 128,\n",
              " 401,\n",
              " 446,\n",
              " 125,\n",
              " 316,\n",
              " 140,\n",
              " 30,\n",
              " 219,\n",
              " 153,\n",
              " 245,\n",
              " 325,\n",
              " 348,\n",
              " 301,\n",
              " 1,\n",
              " 347,\n",
              " 188,\n",
              " 260,\n",
              " 49,\n",
              " 362,\n",
              " 377,\n",
              " 138,\n",
              " 191,\n",
              " 122,\n",
              " 7,\n",
              " 120,\n",
              " 335,\n",
              " 383,\n",
              " 334,\n",
              " 294,\n",
              " 470,\n",
              " 9,\n",
              " 159,\n",
              " 395,\n",
              " 78,\n",
              " 36,\n",
              " 87,\n",
              " 363,\n",
              " 372,\n",
              " 272,\n",
              " 280,\n",
              " 25,\n",
              " 23,\n",
              " 82,\n",
              " 248,\n",
              " 296,\n",
              " 156,\n",
              " 227,\n",
              " 39,\n",
              " 232,\n",
              " 62,\n",
              " 201,\n",
              " 501,\n",
              " 261,\n",
              " 488,\n",
              " 104,\n",
              " 495,\n",
              " 246,\n",
              " 190,\n",
              " 11,\n",
              " 426,\n",
              " 497,\n",
              " 222,\n",
              " 328,\n",
              " 374,\n",
              " 218,\n",
              " 500,\n",
              " 106,\n",
              " 415,\n",
              " 423,\n",
              " 221,\n",
              " 463,\n",
              " 472,\n",
              " 73,\n",
              " 462,\n",
              " 358,\n",
              " 331,\n",
              " 492,\n",
              " 434,\n",
              " 5,\n",
              " 10,\n",
              " 206,\n",
              " 88,\n",
              " 15,\n",
              " 14,\n",
              " 85,\n",
              " 72,\n",
              " 44,\n",
              " 424,\n",
              " 275,\n",
              " 510,\n",
              " 185,\n",
              " 163,\n",
              " 165,\n",
              " 197,\n",
              " 105,\n",
              " 146,\n",
              " 448,\n",
              " 71,\n",
              " 302,\n",
              " 458,\n",
              " 61,\n",
              " 447,\n",
              " 307,\n",
              " 135,\n",
              " 403,\n",
              " 273,\n",
              " 56,\n",
              " 176,\n",
              " 46,\n",
              " 504,\n",
              " 204,\n",
              " 326,\n",
              " 411,\n",
              " 416,\n",
              " 297,\n",
              " 480,\n",
              " 211,\n",
              " 494,\n",
              " 355,\n",
              " 103,\n",
              " 476,\n",
              " 496,\n",
              " 336,\n",
              " 175,\n",
              " 503,\n",
              " 452,\n",
              " 318,\n",
              " 254,\n",
              " 86,\n",
              " 345,\n",
              " 409,\n",
              " 279,\n",
              " 21,\n",
              " 356,\n",
              " 337,\n",
              " 342,\n",
              " 281,\n",
              " 486,\n",
              " 474,\n",
              " 396,\n",
              " 323,\n",
              " 333,\n",
              " 55,\n",
              " 33,\n",
              " 129,\n",
              " 507,\n",
              " 53,\n",
              " 421,\n",
              " 132,\n",
              " 400,\n",
              " 234,\n",
              " 361,\n",
              " 149,\n",
              " 52,\n",
              " 92,\n",
              " 391,\n",
              " 366,\n",
              " 471,\n",
              " 386,\n",
              " 329,\n",
              " 379,\n",
              " 340,\n",
              " 158,\n",
              " 412,\n",
              " 145,\n",
              " 276,\n",
              " 225,\n",
              " 315,\n",
              " 169,\n",
              " 155,\n",
              " 376,\n",
              " 50,\n",
              " 437,\n",
              " 288,\n",
              " 284,\n",
              " 264,\n",
              " 398,\n",
              " 461,\n",
              " 466,\n",
              " 114,\n",
              " 236,\n",
              " 51,\n",
              " 38,\n",
              " 449,\n",
              " 29,\n",
              " 425,\n",
              " 199,\n",
              " 97,\n",
              " 54,\n",
              " 306,\n",
              " 450,\n",
              " 443,\n",
              " 170,\n",
              " 365,\n",
              " 127,\n",
              " 313,\n",
              " 136,\n",
              " 217,\n",
              " 287,\n",
              " 382,\n",
              " 98,\n",
              " 117,\n",
              " 28,\n",
              " 31,\n",
              " 32,\n",
              " 34,\n",
              " 27,\n",
              " 35,\n",
              " 116,\n",
              " 40,\n",
              " 41,\n",
              " 42,\n",
              " 119,\n",
              " 502,\n",
              " 26,\n",
              " 22,\n",
              " 506,\n",
              " 121,\n",
              " 16,\n",
              " 13,\n",
              " 123,\n",
              " 508,\n",
              " 124,\n",
              " 8,\n",
              " 6,\n",
              " 3,\n",
              " 43,\n",
              " 113,\n",
              " 100,\n",
              " 69,\n",
              " 95,\n",
              " 489,\n",
              " 490,\n",
              " 91,\n",
              " 84,\n",
              " 83,\n",
              " 81,\n",
              " 80,\n",
              " 76,\n",
              " 75,\n",
              " 74,\n",
              " 70,\n",
              " 485,\n",
              " 499,\n",
              " 108,\n",
              " 68,\n",
              " 67,\n",
              " 126,\n",
              " 109,\n",
              " 110,\n",
              " 498,\n",
              " 58,\n",
              " 57,\n",
              " 111,\n",
              " 112,\n",
              " 48,\n",
              " 419,\n",
              " 209,\n",
              " 130,\n",
              " 311,\n",
              " 436,\n",
              " 346,\n",
              " 344,\n",
              " 341,\n",
              " 438,\n",
              " 439,\n",
              " 332,\n",
              " 327,\n",
              " 442,\n",
              " 320,\n",
              " 319,\n",
              " 317,\n",
              " 312,\n",
              " 310,\n",
              " 352,\n",
              " 309,\n",
              " 308,\n",
              " 305,\n",
              " 304,\n",
              " 445,\n",
              " 299,\n",
              " 295,\n",
              " 292,\n",
              " 291,\n",
              " 286,\n",
              " 283,\n",
              " 282,\n",
              " 278,\n",
              " 435,\n",
              " 353,\n",
              " 484,\n",
              " 387,\n",
              " 410,\n",
              " 408,\n",
              " 407,\n",
              " 406,\n",
              " 404,\n",
              " 402,\n",
              " 399,\n",
              " 397,\n",
              " 394,\n",
              " 393,\n",
              " 390,\n",
              " 389,\n",
              " 388,\n",
              " 385,\n",
              " 433,\n",
              " 428,\n",
              " 429,\n",
              " 380,\n",
              " 378,\n",
              " 431,\n",
              " 373,\n",
              " 371,\n",
              " 368,\n",
              " 432,\n",
              " 364,\n",
              " 360,\n",
              " 359,\n",
              " 357,\n",
              " 277,\n",
              " 270,\n",
              " 269,\n",
              " 475,\n",
              " 196,\n",
              " 464,\n",
              " 192,\n",
              " 189,\n",
              " 187,\n",
              " 467,\n",
              " 184,\n",
              " 468,\n",
              " 181,\n",
              " 178,\n",
              " 174,\n",
              " 172,\n",
              " 171,\n",
              " 166,\n",
              " 267,\n",
              " 161,\n",
              " 160,\n",
              " 157,\n",
              " 154,\n",
              " 152,\n",
              " 479,\n",
              " 148,\n",
              " 147,\n",
              " 144,\n",
              " 142,\n",
              " 137,\n",
              " 481,\n",
              " 133,\n",
              " 198,\n",
              " 200,\n",
              " 203,\n",
              " 208,\n",
              " 266,\n",
              " 263,\n",
              " 262,\n",
              " 259,\n",
              " 258,\n",
              " 257,\n",
              " 256,\n",
              " 253,\n",
              " 252,\n",
              " 455,\n",
              " 250,\n",
              " 249,\n",
              " 247,\n",
              " 243,\n",
              " 242,\n",
              " 240,\n",
              " 239,\n",
              " 238,\n",
              " 237,\n",
              " 456,\n",
              " 233,\n",
              " 457,\n",
              " 224,\n",
              " 220,\n",
              " 460,\n",
              " 215,\n",
              " 213,\n",
              " 255]"
            ]
          },
          "metadata": {
            "tags": []
          },
          "execution_count": 279
        }
      ]
    },
    {
      "cell_type": "code",
      "metadata": {
        "id": "cgoNV1oG8BS4",
        "colab_type": "code",
        "colab": {}
      },
      "source": [
        "# for l,DIs in enumerate(all_di_acores_high_accuracy):\n",
        "#   this_layer_name = layer_names[l]\n",
        "#   this_high_accuracy_di_scores = all_di_acores_high_accuracy[l]\n",
        "#   this_high_accuracy_di_scores_sorted = np.argsort(this_high_accuracy_di_scores)\n",
        "#   this_high_accuracy_di_scores_sorted_list = np.ndarray.tolist(this_high_accuracy_di_scores_sorted)\n",
        "#   top_channels = this_high_accuracy_di_scores_sorted_list[-Ks[l]:]\n",
        "  \n",
        "#   # do same thing for lowest DIs\n",
        "#   this_low_accuracy_di_scores = all_di_acores_low_accuracy[l]\n",
        "#   this_low_accuracy_di_scores_sorted = np.argsort(this_low_accuracy_di_scores)\n",
        "#   this_low_accuracy_di_scores_sorted_list = np.ndarray.tolist(this_low_accuracy_di_scores_sorted)\n",
        "#   bottom_channels = this_low_accuracy_di_scores_sorted_list[-Ks[l]:]\n",
        "  \n",
        "#   # now replace the weights\n",
        "#   low_accuracy_model_weights_bias = copied_low_accuracy_model.get_layer(this_layer_name).get_weights()\n",
        "#   high_accuracy_model_weights_bias = copied_high_accuracy_model.get_layer(this_layer_name).get_weights()\n",
        "\n",
        "#   low_accuracy_model_weight,low_accuracy_model_bias = low_accuracy_model_weights_bias[0],low_accuracy_model_weights_bias[1]\n",
        "#   high_accuracy_model_weight,high_accuracy_model_bias = high_accuracy_model_weights_bias[0],high_accuracy_model_weights_bias[1]\n",
        "  \n",
        "#   temp_wt =high_accuracy_model_weight[:,:,:,top_channels]# np.concatenate((low_accuracy_model_weight[:,:,:,bottom_channels],high_accuracy_model_weight[:,:,:,top_channels] ), axis = 3)\n",
        "#   temp_bias = high_accuracy_model_bias[top_channels] #np.concatenate((low_accuracy_model_bias[bottom_channels],high_accuracy_model_bias[top_channels] ))\n",
        "  \n",
        "# #   temp_wt = np.concatenate((low_accuracy_model_weight[:,:,:,bottom_channels],high_accuracy_model_weight[:,:,:,top_channels] ), axis = 3)\n",
        "# #   temp_bias = np.concatenate((low_accuracy_model_bias[bottom_channels],high_accuracy_model_bias[top_channels] ))\n",
        "# #   print(temp_wt.shape,temp_bias.shape )\n",
        "# #   print(low_accuracy_model_weight.shape,low_accuracy_model_bias.shape)\n",
        "# #   low_accuracy_model_weight[:,:,:,bottom_channels] = high_accuracy_model_weight[:,:,:,top_channels]\n",
        "# #   print(bottom_channels)\n",
        "# #   high_accuracy_model_bias[bottom_channels] = high_accuracy_model_bias[top_channels]\n",
        "# #   print(low_accuracy_model_weight.shape)\n",
        "#   pmod = prunedModel.get_layer(this_layer_name).get_weights()\n",
        "# #   print(pmod[0].shape)\n",
        "  \n",
        "#   prunedModel.get_layer(this_layer_name).set_weights([temp_wt, temp_bias])"
      ],
      "execution_count": 0,
      "outputs": []
    },
    {
      "cell_type": "code",
      "metadata": {
        "id": "OPHqyAJyhVxN",
        "colab_type": "code",
        "colab": {}
      },
      "source": [
        "for transfer_layer in layer_names_to_transfer:\n",
        "  prunedModel.get_layer(transfer_layer).set_weights(copied_low_accuracy_model.get_layer(transfer_layer).get_weights())"
      ],
      "execution_count": 0,
      "outputs": []
    },
    {
      "cell_type": "code",
      "metadata": {
        "id": "uiHfuCCAh4FZ",
        "colab_type": "code",
        "outputId": "f4d2b74a-8357-4ef3-bd2d-6d8ed74c6c40",
        "colab": {
          "base_uri": "https://localhost:8080/",
          "height": 346
        }
      },
      "source": [
        "layer_names_to_transfer"
      ],
      "execution_count": 282,
      "outputs": [
        {
          "output_type": "execute_result",
          "data": {
            "text/plain": [
              "['input_1',\n",
              " 'conv1_1',\n",
              " 'conv1_2',\n",
              " 'pool1_3',\n",
              " 'conv2_1',\n",
              " 'conv2_2',\n",
              " 'pool2_3',\n",
              " 'conv3_1',\n",
              " 'conv3_2',\n",
              " 'conv4_1',\n",
              " 'conv4_2',\n",
              " 'pool4_2',\n",
              " 'conv5_1',\n",
              " 'conv5_2',\n",
              " 'conv6_1',\n",
              " 'conv6_2',\n",
              " 'pool6_2',\n",
              " 'conv7_1',\n",
              " 'conv7_2']"
            ]
          },
          "metadata": {
            "tags": []
          },
          "execution_count": 282
        }
      ]
    },
    {
      "cell_type": "code",
      "metadata": {
        "id": "FFMhtMXgh-Qf",
        "colab_type": "code",
        "colab": {}
      },
      "source": [
        "# copied_low_accuracy_model.get_layer('conv1_1').get_weights()"
      ],
      "execution_count": 0,
      "outputs": []
    },
    {
      "cell_type": "code",
      "metadata": {
        "id": "hGd9idFth1NQ",
        "colab_type": "code",
        "colab": {}
      },
      "source": [
        "# prunedModel.get_layer('conv1_1').get_weights()"
      ],
      "execution_count": 0,
      "outputs": []
    },
    {
      "cell_type": "code",
      "metadata": {
        "id": "OodsSlYDCesc",
        "colab_type": "code",
        "colab": {}
      },
      "source": [
        "# high_accuracy_model_weights_bias.shape\n",
        "# Ks"
      ],
      "execution_count": 0,
      "outputs": []
    },
    {
      "cell_type": "code",
      "metadata": {
        "id": "2AtLgL9ICGJE",
        "colab_type": "code",
        "colab": {}
      },
      "source": [
        "# high_accuracy_model_bias"
      ],
      "execution_count": 0,
      "outputs": []
    },
    {
      "cell_type": "code",
      "metadata": {
        "id": "UzN_W73aldFU",
        "colab_type": "code",
        "colab": {}
      },
      "source": [
        "\n",
        "# # (discores_high_acc_model)\n",
        "# K= 50 # how many channels to pick\n",
        "# high_acc_di_sorted = np.argsort(discores_high_acc_model)\n",
        "# high_acc_di_sorted_list = np.ndarray.tolist(high_acc_di_sorted)\n",
        "# top_channels = high_acc_di_sorted_list[-K:]#np.random.choice(32,K)#\n",
        "# print('Top Channels: ',top_channels)\n",
        "\n",
        "\n",
        "# low_acc_di_sorted = np.argsort(discores_low_acc_model)\n",
        "# low_acc_di_sorted_list = np.ndarray.tolist(low_acc_di_sorted)\n",
        "# low_channels = low_acc_di_sorted_list[0:K]#np.random.choice(32,K)\n",
        "# print('Low Channels: ', low_channels)"
      ],
      "execution_count": 0,
      "outputs": []
    },
    {
      "cell_type": "markdown",
      "metadata": {
        "id": "-_BDN-T-BaGz",
        "colab_type": "text"
      },
      "source": [
        "#####  get low accuracy DI channels"
      ]
    },
    {
      "cell_type": "code",
      "metadata": {
        "id": "Z5DgBrzXCGB8",
        "colab_type": "code",
        "colab": {}
      },
      "source": [
        "# discores_low_acc_model"
      ],
      "execution_count": 0,
      "outputs": []
    },
    {
      "cell_type": "code",
      "metadata": {
        "id": "J5B34pIwCbXN",
        "colab_type": "code",
        "colab": {}
      },
      "source": [
        "# plt.plot(discores_low_acc_model,'-*')"
      ],
      "execution_count": 0,
      "outputs": []
    },
    {
      "cell_type": "code",
      "metadata": {
        "id": "tRrtIpLVBdK4",
        "colab_type": "code",
        "colab": {}
      },
      "source": [
        ""
      ],
      "execution_count": 0,
      "outputs": []
    },
    {
      "cell_type": "code",
      "metadata": {
        "id": "SD8nswMnxWVC",
        "colab_type": "code",
        "colab": {}
      },
      "source": [
        "# total_channels = len(discores_high_acc_model)\n",
        "# total_channels"
      ],
      "execution_count": 0,
      "outputs": []
    },
    {
      "cell_type": "code",
      "metadata": {
        "id": "MsCtxzRVokuR",
        "colab_type": "code",
        "colab": {}
      },
      "source": [
        "enable_training = True"
      ],
      "execution_count": 0,
      "outputs": []
    },
    {
      "cell_type": "code",
      "metadata": {
        "id": "Sk_0a6JlFux5",
        "colab_type": "code",
        "outputId": "81f1033d-a5cb-43bb-e546-b44c52084565",
        "colab": {
          "base_uri": "https://localhost:8080/",
          "height": 54
        }
      },
      "source": [
        "# returns \n",
        "'''\n",
        "def highAccuracyModelTillConv2(input_img): \n",
        "  conv1_1 = (Conv2D(32, (3,3), padding='same',\n",
        "                    kernel_regularizer=regularizers.l2(weight_decay), \n",
        "                    input_shape=x_train.shape[1:], activation='elu', trainable = enable_training,\n",
        "                    name = 'HighAccuracyConv1'))(input_img)\n",
        "  conv1_2 = BatchNormalization(name = 'HighAccuracyBN1',\n",
        "                              trainable = enable_training)(conv1_1)\n",
        "  conv2_1 = (Conv2D(32, (3,3), padding='same', activation= 'elu',trainable = enable_training,\n",
        "                    name = 'HighAccuracyConv2',kernel_regularizer=regularizers.l2(weight_decay)))(conv1_2)\n",
        "#   conv2_2 = BatchNormalization(name = 'HighAccuracyBN2',\n",
        "#                               trainable = enable_training)(conv2_1)  \n",
        "  \n",
        "  return conv2_1\n",
        "'''"
      ],
      "execution_count": 292,
      "outputs": [
        {
          "output_type": "execute_result",
          "data": {
            "text/plain": [
              "\"\\ndef highAccuracyModelTillConv2(input_img): \\n  conv1_1 = (Conv2D(32, (3,3), padding='same',\\n                    kernel_regularizer=regularizers.l2(weight_decay), \\n                    input_shape=x_train.shape[1:], activation='elu', trainable = enable_training,\\n                    name = 'HighAccuracyConv1'))(input_img)\\n  conv1_2 = BatchNormalization(name = 'HighAccuracyBN1',\\n                              trainable = enable_training)(conv1_1)\\n  conv2_1 = (Conv2D(32, (3,3), padding='same', activation= 'elu',trainable = enable_training,\\n                    name = 'HighAccuracyConv2',kernel_regularizer=regularizers.l2(weight_decay)))(conv1_2)\\n#   conv2_2 = BatchNormalization(name = 'HighAccuracyBN2',\\n#                               trainable = enable_training)(conv2_1)  \\n  \\n  return conv2_1\\n\""
            ]
          },
          "metadata": {
            "tags": []
          },
          "execution_count": 292
        }
      ]
    },
    {
      "cell_type": "code",
      "metadata": {
        "id": "mZchwmWh7la9",
        "colab_type": "code",
        "outputId": "ce77a18f-63d9-4eda-dcaf-8df913330cee",
        "colab": {
          "base_uri": "https://localhost:8080/",
          "height": 1074
        }
      },
      "source": [
        "copied_low_accuracy_model.summary()"
      ],
      "execution_count": 293,
      "outputs": [
        {
          "output_type": "stream",
          "text": [
            "_________________________________________________________________\n",
            "Layer (type)                 Output Shape              Param #   \n",
            "=================================================================\n",
            "input_1 (InputLayer)         (None, 32, 32, 3)         0         \n",
            "_________________________________________________________________\n",
            "conv1_1 (Conv2D)             (None, 32, 32, 64)        1792      \n",
            "_________________________________________________________________\n",
            "conv1_2 (BatchNormalization) (None, 32, 32, 64)        256       \n",
            "_________________________________________________________________\n",
            "pool1_3 (MaxPooling2D)       (None, 16, 16, 64)        0         \n",
            "_________________________________________________________________\n",
            "conv2_1 (Conv2D)             (None, 16, 16, 128)       73856     \n",
            "_________________________________________________________________\n",
            "conv2_2 (BatchNormalization) (None, 16, 16, 128)       512       \n",
            "_________________________________________________________________\n",
            "pool2_3 (MaxPooling2D)       (None, 8, 8, 128)         0         \n",
            "_________________________________________________________________\n",
            "conv3_1 (Conv2D)             (None, 8, 8, 256)         295168    \n",
            "_________________________________________________________________\n",
            "conv3_2 (BatchNormalization) (None, 8, 8, 256)         1024      \n",
            "_________________________________________________________________\n",
            "conv4_1 (Conv2D)             (None, 8, 8, 256)         590080    \n",
            "_________________________________________________________________\n",
            "conv4_2 (BatchNormalization) (None, 8, 8, 256)         1024      \n",
            "_________________________________________________________________\n",
            "pool4_2 (MaxPooling2D)       (None, 4, 4, 256)         0         \n",
            "_________________________________________________________________\n",
            "conv5_1 (Conv2D)             (None, 4, 4, 512)         1180160   \n",
            "_________________________________________________________________\n",
            "conv5_2 (BatchNormalization) (None, 4, 4, 512)         2048      \n",
            "_________________________________________________________________\n",
            "conv6_1 (Conv2D)             (None, 4, 4, 512)         2359808   \n",
            "_________________________________________________________________\n",
            "conv6_2 (BatchNormalization) (None, 4, 4, 512)         2048      \n",
            "_________________________________________________________________\n",
            "pool6_2 (MaxPooling2D)       (None, 2, 2, 512)         0         \n",
            "_________________________________________________________________\n",
            "conv7_1 (Conv2D)             (None, 2, 2, 512)         2359808   \n",
            "_________________________________________________________________\n",
            "conv7_2 (BatchNormalization) (None, 2, 2, 512)         2048      \n",
            "_________________________________________________________________\n",
            "conv8_1 (Conv2D)             (None, 2, 2, 512)         2359808   \n",
            "_________________________________________________________________\n",
            "conv8_2 (BatchNormalization) (None, 2, 2, 512)         2048      \n",
            "_________________________________________________________________\n",
            "pool8_2 (MaxPooling2D)       (None, 1, 1, 512)         0         \n",
            "_________________________________________________________________\n",
            "flatten_1 (Flatten)          (None, 512)               0         \n",
            "_________________________________________________________________\n",
            "fc1 (Dense)                  (None, 4096)              2101248   \n",
            "_________________________________________________________________\n",
            "fc2 (Dense)                  (None, 4096)              16781312  \n",
            "_________________________________________________________________\n",
            "fc3 (Dense)                  (None, 1000)              4097000   \n",
            "_________________________________________________________________\n",
            "out (Dense)                  (None, 3)                 3003      \n",
            "=================================================================\n",
            "Total params: 32,214,051\n",
            "Trainable params: 32,208,547\n",
            "Non-trainable params: 5,504\n",
            "_________________________________________________________________\n"
          ],
          "name": "stdout"
        }
      ]
    },
    {
      "cell_type": "code",
      "metadata": {
        "id": "OA-0pVGXvMeE",
        "colab_type": "code",
        "colab": {}
      },
      "source": [
        "from keras.layers import Dense, Concatenate, Input, Lambda\n"
      ],
      "execution_count": 0,
      "outputs": []
    },
    {
      "cell_type": "code",
      "metadata": {
        "id": "41smOd7GTX5c",
        "colab_type": "code",
        "colab": {}
      },
      "source": [
        "# def cifar10ClassifierTransfer(input_img):\n",
        "  \n",
        "#   conv1_1 = (Conv2D(64, (3,3),name = 'conv1_1' ,padding='same', \n",
        "#                     kernel_regularizer=regularizers.l2(weight_decay), input_shape=x_train.shape[1:],\n",
        "#                     activation='relu'))(input_img)\n",
        "#   conv1_2 = BatchNormalization(name = 'conv1_2')(conv1_1)\n",
        "#   pool1_3 = MaxPooling2D(pool_size=(2, 2), name = 'pool1_3')(conv1_2) #14 x 14 x 32\n",
        "#   conv2_1 = (Conv2D(128, (3,3),name = 'conv2_1' ,padding='same',\n",
        "#                     activation= 'relu',kernel_regularizer=regularizers.l2(weight_decay)))(pool1_3)\n",
        "#   conv2_2 = BatchNormalization(name = 'conv2_2')(conv2_1)\n",
        "#   pool2_3 = MaxPooling2D(pool_size=(2, 2), name = 'pool2_3')(conv2_2) #14 x 14 x 32\n",
        "  \n",
        "#   conv3_1 = (Conv2D(256, (3,3), padding='same',name = 'conv3_1',\n",
        "#                     kernel_regularizer=regularizers.l2(weight_decay), activation='relu'))(pool2_3)\n",
        "#   conv3_2 = BatchNormalization(name = 'conv3_2')(conv3_1)\n",
        "#   conv4_1 = (Conv2D(256, (3,3), padding='same',name = 'conv4_1' ,activation= 'relu',\n",
        "#                     kernel_regularizer=regularizers.l2(weight_decay)))(conv3_2)\n",
        "#   conv4_2 = BatchNormalization(name = 'conv4_2')(conv4_1)\n",
        "#   pool4_2 = MaxPooling2D(pool_size=(2, 2), name = 'pool4_2')(conv4_2) #14 x 14 x 32\n",
        "  \n",
        "#   conv5_1 = (Conv2D(512, (3,3), padding='same',name = 'conv5_1',\n",
        "#                     kernel_regularizer=regularizers.l2(weight_decay), activation='relu'))(pool4_2)\n",
        "#   conv5_2 = BatchNormalization(name = 'conv5_2')(conv5_1)\n",
        "#   conv6_1 = (Conv2D(512, (3,3), padding='same',name = 'conv6_1' ,activation= 'relu',\n",
        "#                     kernel_regularizer=regularizers.l2(weight_decay)))(conv5_2)\n",
        "#   conv6_2 = BatchNormalization(name = 'conv6_2')(conv6_1)\n",
        "#   pool6_2 = MaxPooling2D(pool_size=(2, 2), name = 'pool6_2')(conv6_2) #14 x 14 x 32\n",
        "  \n",
        "#   conv7_1 = (Conv2D(512, (3,3), padding='same',name = 'conv7_1',\n",
        "#                     kernel_regularizer=regularizers.l2(weight_decay), activation='relu'))(pool6_2)\n",
        "#   conv7_2 = BatchNormalization(name = 'conv7_2')(conv7_1)\n",
        "#   conv8_1 = (Conv2D(512, (3,3), padding='same',name = 'conv8_1' ,activation= 'relu',\n",
        "#                     kernel_regularizer=regularizers.l2(weight_decay)))(conv7_2)\n",
        "#   conv8_2 = BatchNormalization(name = 'conv8_2')(conv8_1)\n",
        "#   pool8_2 = MaxPooling2D(pool_size=(2, 2), name = 'pool8_2')(conv8_2) #14 x 14 x 32\n",
        "\n",
        "\n",
        "#   flat = Flatten()(pool8_2)\n",
        "#   fc1 = Dense(4096, activation='relu', name = 'fc1')(flat)\n",
        "#   fc2 = Dense(4096, activation='relu', name = 'fc2')(fc1)\n",
        "#   fc3 = Dense(1000, activation='relu', name = 'fc3')(fc2)\n",
        "\n",
        "\n",
        "  \n",
        "#   out = Dense(num_classes, activation='softmax', name = 'out')(fc3)\n",
        "  \n",
        "#   return out"
      ],
      "execution_count": 0,
      "outputs": []
    },
    {
      "cell_type": "code",
      "metadata": {
        "id": "sf3PN5YIyba2",
        "colab_type": "code",
        "colab": {}
      },
      "source": [
        "# top_channels"
      ],
      "execution_count": 0,
      "outputs": []
    },
    {
      "cell_type": "code",
      "metadata": {
        "id": "fzUmKtVGFusU",
        "colab_type": "code",
        "colab": {}
      },
      "source": [
        "# #high_acc_output = highAccuracyModelTillConv2(input_img)\n",
        "# modelFilt = Model(input_img, \n",
        "#               cifar10ClassifierTransfer(input_img))\n",
        "# #data augmentation\n",
        "# datagen = ImageDataGenerator(\n",
        "#     rotation_range=15,\n",
        "#     width_shift_range=0.1,\n",
        "#     height_shift_range=0.1,\n",
        "#     horizontal_flip=True,\n",
        "#     )\n",
        "# datagen.fit(train_three_data)\n",
        " \n",
        "# #training\n",
        "# batch_size = 64\n",
        " \n",
        "# opt_rms = keras.optimizers.rmsprop(lr=0.001,decay=1e-6)\n",
        "# # model.compile(loss='categorical_crossentropy', optimizer=opt_rms, metrics=['accuracy'])\n",
        "\n",
        "# modelFilt.compile(loss=losses.categorical_crossentropy, optimizer=opt_rms, metrics=['accuracy'])\n",
        "\n",
        "# modelFilt.summary()\n",
        " "
      ],
      "execution_count": 0,
      "outputs": []
    },
    {
      "cell_type": "code",
      "metadata": {
        "id": "cty76ahJDRhj",
        "colab_type": "code",
        "colab": {}
      },
      "source": [
        "#data augmentation\n",
        "datagen = ImageDataGenerator(\n",
        "    rotation_range=15,\n",
        "    width_shift_range=0.1,\n",
        "    height_shift_range=0.1,\n",
        "    horizontal_flip=True,\n",
        "    )\n",
        "datagen.fit(train_three_data)\n",
        "# #training\n",
        "batch_size = 64"
      ],
      "execution_count": 0,
      "outputs": []
    },
    {
      "cell_type": "code",
      "metadata": {
        "id": "WE7b72OOFups",
        "colab_type": "code",
        "colab": {}
      },
      "source": [
        "plot_model(copied_low_accuracy_model, to_file=\"FiltModel.png\", show_shapes=True, show_layer_names=True)"
      ],
      "execution_count": 0,
      "outputs": []
    },
    {
      "cell_type": "code",
      "metadata": {
        "id": "5-yqdp6_rQkI",
        "colab_type": "code",
        "colab": {}
      },
      "source": [
        "# loaded_model_high_accuracy.summary()"
      ],
      "execution_count": 0,
      "outputs": []
    },
    {
      "cell_type": "markdown",
      "metadata": {
        "id": "8GkUnIIAqH0k",
        "colab_type": "text"
      },
      "source": [
        "## set predetermined weights"
      ]
    },
    {
      "cell_type": "code",
      "metadata": {
        "id": "nKVw7k8QLwoQ",
        "colab_type": "code",
        "colab": {}
      },
      "source": [
        "# top_channels"
      ],
      "execution_count": 0,
      "outputs": []
    },
    {
      "cell_type": "code",
      "metadata": {
        "id": "5hWcRyTNtaXW",
        "colab_type": "code",
        "colab": {}
      },
      "source": [
        "# top_channels"
      ],
      "execution_count": 0,
      "outputs": []
    },
    {
      "cell_type": "markdown",
      "metadata": {
        "id": "JhmWPU7RA9N3",
        "colab_type": "text"
      },
      "source": [
        "#### # get low accuracy DI channel - stored in low_channels\n",
        "\n",
        "```\n",
        "# This is formatted as code\n",
        "```\n",
        "\n",
        "s"
      ]
    },
    {
      "cell_type": "markdown",
      "metadata": {
        "id": "mL5R24pGA9KP",
        "colab_type": "text"
      },
      "source": [
        ""
      ]
    },
    {
      "cell_type": "code",
      "metadata": {
        "id": "H0JBUK8KA26B",
        "colab_type": "code",
        "colab": {}
      },
      "source": [
        "\n",
        "# loaded_model_high_accuracy.get_layer(layer_name).get_weights()[0].shape"
      ],
      "execution_count": 0,
      "outputs": []
    },
    {
      "cell_type": "markdown",
      "metadata": {
        "id": "PmS9J6gmDFIL",
        "colab_type": "text"
      },
      "source": [
        "## Get filter weights for top K10 DI scores"
      ]
    },
    {
      "cell_type": "code",
      "metadata": {
        "id": "t0FN66utr5VE",
        "colab_type": "code",
        "colab": {}
      },
      "source": [
        "# # set weights of high accuracy model for channels not used to 0 [9, 25, 19, 29, 5, 7, 26, 28, 17, 23]\n",
        "# high_acc_conv2_weights = loaded_model_high_accuracy.get_layer(layer_name).get_weights()\n",
        "# # temp_weights = np.zeros_like(high_acc_conv2_weights[0].shape[0])\n",
        "# temp_weights_top_10_DI = np.zeros(shape = (high_acc_conv2_weights[0].shape[0],high_acc_conv2_weights[0].shape[1],high_acc_conv2_weights[0].shape[2],K))\n",
        "# h,w,d,n = high_acc_conv2_weights[0].shape\n",
        "# j = 0\n",
        "# for ch in range(0,n):\n",
        "#   if ch in top_channels:\n",
        "#     temp_weights_top_10_DI[:,:,:,j] = high_acc_conv2_weights[0][:,:,:,ch]\n",
        "#     j = j+1\n",
        "    \n",
        "  \n",
        "# # (high_acc_conv2_weights[0].shape)"
      ],
      "execution_count": 0,
      "outputs": []
    },
    {
      "cell_type": "code",
      "metadata": {
        "id": "bF9DJY3BD6Wf",
        "colab_type": "code",
        "colab": {}
      },
      "source": [
        "# temp_weights_top_10_DI.shape"
      ],
      "execution_count": 0,
      "outputs": []
    },
    {
      "cell_type": "code",
      "metadata": {
        "id": "8lR-sOsQD6UV",
        "colab_type": "code",
        "colab": {}
      },
      "source": [
        "# top_channels"
      ],
      "execution_count": 0,
      "outputs": []
    },
    {
      "cell_type": "code",
      "metadata": {
        "id": "Esv5wQmYFby6",
        "colab_type": "code",
        "colab": {}
      },
      "source": [
        "# temp_bias_top_10_DI = np.zeros(shape = (K,))\n",
        "# # temp_bias = high_acc_conv2_weights[1]\n",
        "\n",
        "# # bias_shape = high_acc_conv2_weights[1].shape\n",
        "# j = 0\n",
        "# for ch in range(0,high_acc_conv2_weights[1].shape[0]):\n",
        "# #   print (ch)\n",
        "#   if ch in top_channels:\n",
        "#     temp_bias_top_10_DI[j] = high_acc_conv2_weights[1][ch]\n",
        "#     j = j+1"
      ],
      "execution_count": 0,
      "outputs": []
    },
    {
      "cell_type": "code",
      "metadata": {
        "id": "HPV28w1jFulD",
        "colab_type": "code",
        "colab": {}
      },
      "source": [
        "# temp_bias\n",
        "# weights_to_assign_fromHighAcc = [temp_weights_top_10_DI,temp_bias_top_10_DI]"
      ],
      "execution_count": 0,
      "outputs": []
    },
    {
      "cell_type": "code",
      "metadata": {
        "id": "2pYigm1qFJmK",
        "colab_type": "code",
        "colab": {}
      },
      "source": [
        "# temp_weights_top_10_DI.shape"
      ],
      "execution_count": 0,
      "outputs": []
    },
    {
      "cell_type": "code",
      "metadata": {
        "id": "f1t2Yj3-E01G",
        "colab_type": "code",
        "colab": {}
      },
      "source": [
        "# high_acc_conv2_weights[1].shape"
      ],
      "execution_count": 0,
      "outputs": []
    },
    {
      "cell_type": "code",
      "metadata": {
        "id": "hQKKEkR2F-tx",
        "colab_type": "code",
        "colab": {}
      },
      "source": [
        "# modelFilt.get_layer('lowAccuracyModelConv1_1').set_weights(loaded_model_low_accuracy.get_layer('conv2d_1').get_weights())\n",
        "# modelFilt.get_layer('lowAccuracyModelBN1').set_weights(loaded_model_low_accuracy.get_layer('batch_normalization_1').get_weights())\n",
        "# # modelFilt.get_layer('HighAccuracyConv2').set_weights(loaded_model_high_accuracy.get_layer('conv2d_2').get_weights())\n",
        "# modelFilt.get_layer('lowAccuracyModelConv2_1').set_weights(loaded_model_low_accuracy.get_layer('conv2d_2').get_weights())"
      ],
      "execution_count": 0,
      "outputs": []
    },
    {
      "cell_type": "code",
      "metadata": {
        "id": "knA2xBI4jrZF",
        "colab_type": "code",
        "colab": {}
      },
      "source": [
        "# loaded_model_low_accuracy.summary()"
      ],
      "execution_count": 0,
      "outputs": []
    },
    {
      "cell_type": "code",
      "metadata": {
        "id": "VZ9nBYl-h9SD",
        "colab_type": "code",
        "colab": {}
      },
      "source": [
        "# # preset the weights\n",
        "# for l1,l2 in zip(modelFilt.layers,loaded_model_low_accuracy.layers):\n",
        "#     l1.set_weights(l2.get_weights())"
      ],
      "execution_count": 0,
      "outputs": []
    },
    {
      "cell_type": "code",
      "metadata": {
        "id": "fGIUVWh3G4x4",
        "colab_type": "code",
        "colab": {}
      },
      "source": [
        "# layer_to_replace = layer_name\n",
        "# low_acc_conv2d_weights_bias = modelFilt.get_layer(layer_to_replace).get_weights()\n",
        "# low_acc_conv2d_weights = low_acc_conv2d_weights_bias[0]\n",
        "# low_acc_conv2d_wbias= low_acc_conv2d_weights_bias[1]\n"
      ],
      "execution_count": 0,
      "outputs": []
    },
    {
      "cell_type": "code",
      "metadata": {
        "id": "cVFju9iFKJID",
        "colab_type": "code",
        "colab": {}
      },
      "source": [
        "# temp_bias_top_10_DI.shape"
      ],
      "execution_count": 0,
      "outputs": []
    },
    {
      "cell_type": "code",
      "metadata": {
        "id": "MlkRaotsHceY",
        "colab_type": "code",
        "colab": {}
      },
      "source": [
        "# # now change weights for layers corresponding to lowest DI scores\n",
        "# orig_weights = np.copy(low_acc_conv2d_weights)\n",
        "# j = 0\n",
        "# for ch in range(0,orig_weights.shape[3]):\n",
        "#   if ch in low_channels:\n",
        "# #     print(ch)\n",
        "#     orig_weights[:,:,:,ch] = temp_weights_top_10_DI[:,:,:,j]\n",
        "#     j = j+1\n",
        "# # orig_weights.shape"
      ],
      "execution_count": 0,
      "outputs": []
    },
    {
      "cell_type": "code",
      "metadata": {
        "id": "ye2_DU60K0nL",
        "colab_type": "code",
        "colab": {}
      },
      "source": [
        "# orig_bias = np.copy(low_acc_conv2d_wbias)\n",
        "# j = 0\n",
        "# for ch in range(0,orig_bias.shape[0]):\n",
        "#   if ch in low_channels:\n",
        "# #     print(ch)\n",
        "#     orig_bias[ch] = temp_bias_top_10_DI[j]\n",
        "#     j = j+1"
      ],
      "execution_count": 0,
      "outputs": []
    },
    {
      "cell_type": "code",
      "metadata": {
        "id": "WDX113kegLSi",
        "colab_type": "code",
        "colab": {}
      },
      "source": [
        ""
      ],
      "execution_count": 0,
      "outputs": []
    },
    {
      "cell_type": "code",
      "metadata": {
        "id": "RERDrTNALkUA",
        "colab_type": "code",
        "colab": {}
      },
      "source": [
        "# new_wt_bias_conv2d1 = [orig_weights,orig_bias]"
      ],
      "execution_count": 0,
      "outputs": []
    },
    {
      "cell_type": "markdown",
      "metadata": {
        "id": "uMc3GS52iEv0",
        "colab_type": "text"
      },
      "source": [
        "#### Overwrite weights fow low DI with high DI"
      ]
    },
    {
      "cell_type": "code",
      "metadata": {
        "id": "OTUKj97VLfIu",
        "colab_type": "code",
        "colab": {}
      },
      "source": [
        "# modelFilt.get_layer(layer_to_replace).set_weights(new_wt_bias_conv2d1)"
      ],
      "execution_count": 0,
      "outputs": []
    },
    {
      "cell_type": "code",
      "metadata": {
        "id": "Ji5jVmbej-LM",
        "colab_type": "code",
        "colab": {}
      },
      "source": [
        "# loaded_model_low_accuracy.layers[5]"
      ],
      "execution_count": 0,
      "outputs": []
    },
    {
      "cell_type": "code",
      "metadata": {
        "id": "0w2grlRlKQhJ",
        "colab_type": "code",
        "colab": {}
      },
      "source": [
        ""
      ],
      "execution_count": 0,
      "outputs": []
    },
    {
      "cell_type": "code",
      "metadata": {
        "id": "7EozUm-dSIx2",
        "colab_type": "code",
        "colab": {}
      },
      "source": [
        "# modelFilt.summary()"
      ],
      "execution_count": 0,
      "outputs": []
    },
    {
      "cell_type": "markdown",
      "metadata": {
        "id": "wRWAVstvGhht",
        "colab_type": "text"
      },
      "source": [
        "#### # now replace weights in conv2d layer for filters correspondng to lowest 10 DI scores"
      ]
    },
    {
      "cell_type": "code",
      "metadata": {
        "id": "jcnUQrPtGay_",
        "colab_type": "code",
        "colab": {}
      },
      "source": [
        ""
      ],
      "execution_count": 0,
      "outputs": []
    },
    {
      "cell_type": "code",
      "metadata": {
        "id": "fev8cENxbr-P",
        "colab_type": "code",
        "colab": {}
      },
      "source": [
        "file_save_name = 'weights_top_k_model2Prune.hdf5'\n",
        "mcp_save = ModelCheckpoint(file_save_name, save_best_only=True, monitor='val_acc', mode='auto')"
      ],
      "execution_count": 0,
      "outputs": []
    },
    {
      "cell_type": "code",
      "metadata": {
        "id": "0BTKJa7Zbwtc",
        "colab_type": "code",
        "colab": {}
      },
      "source": [
        "def lr_schedule(epoch):\n",
        "    lrate = 0.0001\n",
        "    if epoch > 75:\n",
        "        lrate = 0.0005\n",
        "    if epoch > 100:\n",
        "        lrate = 0.0003\n",
        "    return lrate"
      ],
      "execution_count": 0,
      "outputs": []
    },
    {
      "cell_type": "code",
      "metadata": {
        "id": "gdiZwWSth97S",
        "colab_type": "code",
        "outputId": "15ef2562-2d19-48f1-c47d-7acb24253562",
        "colab": {
          "base_uri": "https://localhost:8080/",
          "height": 34
        }
      },
      "source": [
        "copied_low_accuracy_model.evaluate(valid_X, valid_ground, verbose=0)"
      ],
      "execution_count": 322,
      "outputs": [
        {
          "output_type": "execute_result",
          "data": {
            "text/plain": [
              "[0.4554041434923808, 0.8660000001589457]"
            ]
          },
          "metadata": {
            "tags": []
          },
          "execution_count": 322
        }
      ]
    },
    {
      "cell_type": "code",
      "metadata": {
        "id": "TLlzjVbCiM6N",
        "colab_type": "code",
        "outputId": "1c4d3789-c574-4235-dccd-21901440552e",
        "colab": {
          "base_uri": "https://localhost:8080/",
          "height": 34
        }
      },
      "source": [
        "prunedModel.evaluate(valid_X, valid_ground, verbose=0)"
      ],
      "execution_count": 323,
      "outputs": [
        {
          "output_type": "execute_result",
          "data": {
            "text/plain": [
              "[1.5353057066599527, 0.3333333332538605]"
            ]
          },
          "metadata": {
            "tags": []
          },
          "execution_count": 323
        }
      ]
    },
    {
      "cell_type": "code",
      "metadata": {
        "id": "sIOMXQsjdSNX",
        "colab_type": "code",
        "outputId": "5390f886-117c-4f18-907f-0763191b0cff",
        "colab": {
          "base_uri": "https://localhost:8080/",
          "height": 1421
        }
      },
      "source": [
        "prunedModel.fit_generator(datagen.flow(train_X, train_ground, batch_size=batch_size),\\\n",
        "                    steps_per_epoch=train_X.shape[0] // batch_size,epochs=40,\\\n",
        "                    verbose=1,validation_data=(valid_X,valid_ground),\n",
        "                    shuffle = True,callbacks=[mcp_save,LearningRateScheduler(lr_schedule)])"
      ],
      "execution_count": 324,
      "outputs": [
        {
          "output_type": "stream",
          "text": [
            "Epoch 1/40\n",
            "187/187 [==============================] - 12s 66ms/step - loss: 0.3234 - acc: 0.9241 - val_loss: 0.4630 - val_acc: 0.8727\n",
            "Epoch 2/40\n",
            "187/187 [==============================] - 9s 47ms/step - loss: 0.2896 - acc: 0.9403 - val_loss: 0.4507 - val_acc: 0.8830\n",
            "Epoch 3/40\n",
            "187/187 [==============================] - 9s 47ms/step - loss: 0.2758 - acc: 0.9426 - val_loss: 0.4568 - val_acc: 0.8797\n",
            "Epoch 4/40\n",
            "187/187 [==============================] - 9s 47ms/step - loss: 0.2606 - acc: 0.9475 - val_loss: 0.4616 - val_acc: 0.8800\n",
            "Epoch 5/40\n",
            "187/187 [==============================] - 9s 46ms/step - loss: 0.2537 - acc: 0.9492 - val_loss: 0.6657 - val_acc: 0.8773\n",
            "Epoch 6/40\n",
            "187/187 [==============================] - 9s 47ms/step - loss: 0.2567 - acc: 0.9471 - val_loss: 0.4945 - val_acc: 0.8810\n",
            "Epoch 7/40\n",
            "187/187 [==============================] - 9s 47ms/step - loss: 0.2536 - acc: 0.9505 - val_loss: 0.4575 - val_acc: 0.8817\n",
            "Epoch 8/40\n",
            "187/187 [==============================] - 9s 47ms/step - loss: 0.2406 - acc: 0.9556 - val_loss: 0.4817 - val_acc: 0.8857\n",
            "Epoch 9/40\n",
            "187/187 [==============================] - 9s 47ms/step - loss: 0.2403 - acc: 0.9530 - val_loss: 0.5076 - val_acc: 0.8907\n",
            "Epoch 10/40\n",
            "187/187 [==============================] - 9s 48ms/step - loss: 0.2365 - acc: 0.9560 - val_loss: 0.4773 - val_acc: 0.8873\n",
            "Epoch 11/40\n",
            "187/187 [==============================] - 9s 46ms/step - loss: 0.2337 - acc: 0.9566 - val_loss: 0.5117 - val_acc: 0.8880\n",
            "Epoch 12/40\n",
            "187/187 [==============================] - 9s 46ms/step - loss: 0.2293 - acc: 0.9582 - val_loss: 0.4552 - val_acc: 0.8877\n",
            "Epoch 13/40\n",
            "187/187 [==============================] - 9s 46ms/step - loss: 0.2256 - acc: 0.9595 - val_loss: 0.5546 - val_acc: 0.8880\n",
            "Epoch 14/40\n",
            "187/187 [==============================] - 9s 46ms/step - loss: 0.2245 - acc: 0.9578 - val_loss: 0.5194 - val_acc: 0.8880\n",
            "Epoch 15/40\n",
            "187/187 [==============================] - 9s 46ms/step - loss: 0.2169 - acc: 0.9626 - val_loss: 0.4904 - val_acc: 0.8883\n",
            "Epoch 16/40\n",
            "187/187 [==============================] - 9s 48ms/step - loss: 0.2158 - acc: 0.9605 - val_loss: 0.4887 - val_acc: 0.8870\n",
            "Epoch 17/40\n",
            "187/187 [==============================] - 9s 46ms/step - loss: 0.2182 - acc: 0.9626 - val_loss: 0.5009 - val_acc: 0.8953\n",
            "Epoch 18/40\n",
            "187/187 [==============================] - 9s 46ms/step - loss: 0.2099 - acc: 0.9643 - val_loss: 0.5467 - val_acc: 0.8813\n",
            "Epoch 19/40\n",
            "187/187 [==============================] - 9s 47ms/step - loss: 0.2078 - acc: 0.9642 - val_loss: 0.5344 - val_acc: 0.8837\n",
            "Epoch 20/40\n",
            "187/187 [==============================] - 9s 46ms/step - loss: 0.2092 - acc: 0.9633 - val_loss: 0.5078 - val_acc: 0.8970\n",
            "Epoch 21/40\n",
            "187/187 [==============================] - 9s 46ms/step - loss: 0.2040 - acc: 0.9677 - val_loss: 0.5020 - val_acc: 0.8850\n",
            "Epoch 22/40\n",
            "187/187 [==============================] - 9s 46ms/step - loss: 0.2049 - acc: 0.9682 - val_loss: 0.5529 - val_acc: 0.8903\n",
            "Epoch 23/40\n",
            "187/187 [==============================] - 9s 46ms/step - loss: 0.2025 - acc: 0.9681 - val_loss: 0.6065 - val_acc: 0.8853\n",
            "Epoch 24/40\n",
            "187/187 [==============================] - 9s 46ms/step - loss: 0.2010 - acc: 0.9681 - val_loss: 0.4800 - val_acc: 0.8917\n",
            "Epoch 25/40\n",
            "187/187 [==============================] - 9s 46ms/step - loss: 0.1902 - acc: 0.9711 - val_loss: 0.5611 - val_acc: 0.8833\n",
            "Epoch 26/40\n",
            "187/187 [==============================] - 9s 46ms/step - loss: 0.1876 - acc: 0.9721 - val_loss: 0.5789 - val_acc: 0.8820\n",
            "Epoch 27/40\n",
            "187/187 [==============================] - 9s 46ms/step - loss: 0.1900 - acc: 0.9705 - val_loss: 0.5150 - val_acc: 0.8820\n",
            "Epoch 28/40\n",
            "187/187 [==============================] - 9s 47ms/step - loss: 0.1862 - acc: 0.9720 - val_loss: 0.5395 - val_acc: 0.8833\n",
            "Epoch 29/40\n",
            "187/187 [==============================] - 9s 47ms/step - loss: 0.1911 - acc: 0.9718 - val_loss: 0.6550 - val_acc: 0.8823\n",
            "Epoch 30/40\n",
            "187/187 [==============================] - 9s 46ms/step - loss: 0.1958 - acc: 0.9708 - val_loss: 0.5768 - val_acc: 0.8783\n",
            "Epoch 31/40\n",
            "187/187 [==============================] - 9s 46ms/step - loss: 0.1886 - acc: 0.9692 - val_loss: 0.6989 - val_acc: 0.8800\n",
            "Epoch 32/40\n",
            "187/187 [==============================] - 9s 46ms/step - loss: 0.1839 - acc: 0.9739 - val_loss: 0.7645 - val_acc: 0.8897\n",
            "Epoch 33/40\n",
            "187/187 [==============================] - 9s 46ms/step - loss: 0.1810 - acc: 0.9733 - val_loss: 0.7181 - val_acc: 0.8797\n",
            "Epoch 34/40\n",
            "187/187 [==============================] - 9s 46ms/step - loss: 0.1882 - acc: 0.9712 - val_loss: 0.6503 - val_acc: 0.8903\n",
            "Epoch 35/40\n",
            "187/187 [==============================] - 9s 46ms/step - loss: 0.1823 - acc: 0.9744 - val_loss: 0.5932 - val_acc: 0.8903\n",
            "Epoch 36/40\n",
            "187/187 [==============================] - 9s 46ms/step - loss: 0.1768 - acc: 0.9754 - val_loss: 0.5802 - val_acc: 0.8863\n",
            "Epoch 37/40\n",
            "187/187 [==============================] - 9s 46ms/step - loss: 0.1808 - acc: 0.9731 - val_loss: 0.5599 - val_acc: 0.8833\n",
            "Epoch 38/40\n",
            "187/187 [==============================] - 9s 47ms/step - loss: 0.1718 - acc: 0.9766 - val_loss: 0.6501 - val_acc: 0.8810\n",
            "Epoch 39/40\n",
            "187/187 [==============================] - 9s 47ms/step - loss: 0.1809 - acc: 0.9736 - val_loss: 0.6185 - val_acc: 0.8837\n",
            "Epoch 40/40\n",
            "187/187 [==============================] - 9s 46ms/step - loss: 0.1772 - acc: 0.9755 - val_loss: 0.6747 - val_acc: 0.8933\n"
          ],
          "name": "stdout"
        },
        {
          "output_type": "execute_result",
          "data": {
            "text/plain": [
              "<keras.callbacks.History at 0x7f17d3f4d940>"
            ]
          },
          "metadata": {
            "tags": []
          },
          "execution_count": 324
        }
      ]
    },
    {
      "cell_type": "code",
      "metadata": {
        "id": "MAnK7D_Mm_dz",
        "colab_type": "code",
        "colab": {}
      },
      "source": [
        "prunedModel.load_weights(file_save_name)"
      ],
      "execution_count": 0,
      "outputs": []
    },
    {
      "cell_type": "code",
      "metadata": {
        "id": "-8ZXIw1Um_ao",
        "colab_type": "code",
        "colab": {}
      },
      "source": [
        "# copied_low_accuracy_model.save('final1_'+str(K)+'_'+file_save_name)\n",
        "# copied_low_accuracy_model.save('final1_Transfer1')\n",
        "prunedModel.save('pruned_modelTariq.h5')\n"
      ],
      "execution_count": 0,
      "outputs": []
    },
    {
      "cell_type": "code",
      "metadata": {
        "id": "bZsEELS6m_WM",
        "colab_type": "code",
        "colab": {
          "base_uri": "https://localhost:8080/",
          "height": 545
        },
        "outputId": "78668d13-d905-4a8b-a0ec-818bad3b606e"
      },
      "source": [
        "accuracy = prunedModel.history.history['acc']\n",
        "val_accuracy = prunedModel.history.history['val_acc']\n",
        "loss = prunedModel.history.history['loss']\n",
        "val_loss = prunedModel.history.history['val_loss']\n",
        "epochs = range(len(accuracy))\n",
        "plt.plot(epochs, accuracy, 'b', label='Training accuracy')\n",
        "plt.plot(epochs, val_accuracy, 'r', label='Validation accuracy')\n",
        "plt.title('Training and validation accuracy')\n",
        "plt.legend()\n",
        "plt.figure()\n",
        "plt.plot(epochs, loss, 'b', label='Training loss')\n",
        "plt.plot(epochs, val_loss, 'r', label='Validation loss')\n",
        "plt.title('Training and validation loss')\n",
        "plt.legend()\n",
        "plt.show()"
      ],
      "execution_count": 327,
      "outputs": [
        {
          "output_type": "display_data",
          "data": {
            "image/png": "[encoded data removed]",
            "text/plain": [
              "<Figure size 432x288 with 1 Axes>"
            ]
          },
          "metadata": {
            "tags": []
          }
        },
        {
          "output_type": "display_data",
          "data": {
            "image/png": "[encoded data removed]",
            "text/plain": [
              "<Figure size 432x288 with 1 Axes>"
            ]
          },
          "metadata": {
            "tags": []
          }
        }
      ]
    },
    {
      "cell_type": "code",
      "metadata": {
        "id": "5S9iJ-HGnRFW",
        "colab_type": "code",
        "colab": {
          "base_uri": "https://localhost:8080/",
          "height": 34
        },
        "outputId": "75bc3ec5-ed78-4a74-a73e-6b61b58d03d3"
      },
      "source": [
        "prunedModel.evaluate(valid_X, valid_ground, verbose=0)"
      ],
      "execution_count": 328,
      "outputs": [
        {
          "output_type": "execute_result",
          "data": {
            "text/plain": [
              "[0.507821121374766, 0.897]"
            ]
          },
          "metadata": {
            "tags": []
          },
          "execution_count": 328
        }
      ]
    },
    {
      "cell_type": "code",
      "metadata": {
        "id": "g8o16S6NPmfn",
        "colab_type": "code",
        "colab": {
          "base_uri": "https://localhost:8080/",
          "height": 52
        },
        "outputId": "c35b2ecf-0e2d-4b20-d70a-629e85afa67c"
      },
      "source": [
        "#testing\n",
        "test_eval = prunedModel.evaluate(test_three_data, test_three_label_one_hot, verbose=0)\n",
        "print('Test loss:', test_eval[0])\n",
        "print('Test accuracy:', test_eval[1])"
      ],
      "execution_count": 329,
      "outputs": [
        {
          "output_type": "stream",
          "text": [
            "Test loss: 0.494926721572876\n",
            "Test accuracy: 0.8996666668256124\n"
          ],
          "name": "stdout"
        }
      ]
    },
    {
      "cell_type": "code",
      "metadata": {
        "id": "z06QupNsYeLZ",
        "colab_type": "code",
        "outputId": "295dc294-1f16-458c-db8b-9aac29ccee97",
        "colab": {
          "base_uri": "https://localhost:8080/",
          "height": 34
        }
      },
      "source": [
        "layer_names"
      ],
      "execution_count": 330,
      "outputs": [
        {
          "output_type": "execute_result",
          "data": {
            "text/plain": [
              "['conv8_1']"
            ]
          },
          "metadata": {
            "tags": []
          },
          "execution_count": 330
        }
      ]
    },
    {
      "cell_type": "code",
      "metadata": {
        "id": "gRuSLttWnRCR",
        "colab_type": "code",
        "outputId": "3f087696-283d-49af-96c5-9416e5a7726d",
        "colab": {
          "base_uri": "https://localhost:8080/",
          "height": 368
        }
      },
      "source": [
        "# now get DI score of a layer from high accuracy and low accuracy model\n",
        "#layer_name = layer_to_replace\n",
        "discores_low_acc_modified_model = createCNNLayerDIScorePlot(modelFilt, layer_to_replace)\n",
        "\n",
        "plt.ylim([0,1.0])"
      ],
      "execution_count": 0,
      "outputs": [
        {
          "output_type": "stream",
          "text": [
            "Mean of DI SCore:  0.5702386197235612\n",
            "STD of DI Score:  0.059415098660331\n",
            "MAX of DI Score:  0.6984114818796965\n"
          ],
          "name": "stdout"
        },
        {
          "output_type": "execute_result",
          "data": {
            "text/plain": [
              "(0, 1.0)"
            ]
          },
          "metadata": {
            "tags": []
          },
          "execution_count": 70
        },
        {
          "output_type": "display_data",
          "data": {
            "image/png": "[encoded data removed]",
            "text/plain": [
              "<Figure size 432x288 with 1 Axes>"
            ]
          },
          "metadata": {
            "tags": []
          }
        }
      ]
    },
    {
      "cell_type": "code",
      "metadata": {
        "id": "MI4AzYZDnQ_X",
        "colab_type": "code",
        "outputId": "bf40213b-79ab-434c-9780-1b9e161b182b",
        "colab": {
          "base_uri": "https://localhost:8080/",
          "height": 368
        }
      },
      "source": [
        "# now get DI score of a layer from high accuracy and low accuracy model\n",
        "#layer_name = 'lowAccuracyModelConv2_1'\n",
        "discores_low_acc_modified_model = createCNNLayerDIScorePlot(modelFilt, layer_to_replace)\n",
        "\n",
        "plt.ylim([0,1.0])"
      ],
      "execution_count": 0,
      "outputs": [
        {
          "output_type": "stream",
          "text": [
            "Mean of DI SCore:  0.5441455605104493\n",
            "STD of DI Score:  0.07125697376575997\n",
            "MAX of DI Score:  0.6857804932152856\n"
          ],
          "name": "stdout"
        },
        {
          "output_type": "execute_result",
          "data": {
            "text/plain": [
              "(0, 1.0)"
            ]
          },
          "metadata": {
            "tags": []
          },
          "execution_count": 76
        },
        {
          "output_type": "display_data",
          "data": {
            "image/png": "[encoded data removed]",
            "text/plain": [
              "<Figure size 432x288 with 1 Axes>"
            ]
          },
          "metadata": {
            "tags": []
          }
        }
      ]
    },
    {
      "cell_type": "code",
      "metadata": {
        "id": "d9AxL2k2cPvs",
        "colab_type": "code",
        "outputId": "05b2cbc6-ec55-4ffc-f3b7-47a0d819c614",
        "colab": {
          "base_uri": "https://localhost:8080/",
          "height": 350
        }
      },
      "source": [
        "# now get DI score of a layer from high accuracy and low accuracy model\n",
        "layer_name = 'conv2d_1'\n",
        "discores_low_acc_modified_model = createCNNLayerDIScorePlot(modelFilt, layer_name)"
      ],
      "execution_count": 0,
      "outputs": [
        {
          "output_type": "stream",
          "text": [
            "Mean of DI SCore:  0.5324752079826454\n",
            "STD of DI Score:  0.08518245611608953\n",
            "MAX of DI Score:  0.6952950607026254\n"
          ],
          "name": "stdout"
        },
        {
          "output_type": "display_data",
          "data": {
            "image/png": "[encoded data removed]",
            "text/plain": [
              "<Figure size 432x288 with 1 Axes>"
            ]
          },
          "metadata": {
            "tags": []
          }
        }
      ]
    },
    {
      "cell_type": "code",
      "metadata": {
        "id": "dmomNWqXclu8",
        "colab_type": "code",
        "outputId": "3a234d4d-d4e1-4831-c7a8-59acc185d0d3",
        "colab": {
          "base_uri": "https://localhost:8080/",
          "height": 350
        }
      },
      "source": [
        "# now get DI score of a layer from high accuracy and low accuracy model\n",
        "layer_name = 'conv2d_2'\n",
        "discores_low_acc_modified_model = createCNNLayerDIScorePlot(modelFilt, layer_name)"
      ],
      "execution_count": 0,
      "outputs": [
        {
          "output_type": "stream",
          "text": [
            "Mean of DI SCore:  0.5472756918767483\n",
            "STD of DI Score:  0.07193005751902407\n",
            "MAX of DI Score:  0.7008227385646286\n"
          ],
          "name": "stdout"
        },
        {
          "output_type": "display_data",
          "data": {
            "image/png": "[encoded data removed]",
            "text/plain": [
              "<Figure size 432x288 with 1 Axes>"
            ]
          },
          "metadata": {
            "tags": []
          }
        }
      ]
    },
    {
      "cell_type": "code",
      "metadata": {
        "id": "1iC11tO-c1ME",
        "colab_type": "code",
        "outputId": "d5e2ca0b-926e-4343-8a92-b002380a5ba9",
        "colab": {
          "base_uri": "https://localhost:8080/",
          "height": 350
        }
      },
      "source": [
        "# now get DI score of a layer from high accuracy and low accuracy model\n",
        "layer_name = 'conv2d_3'\n",
        "discores_low_acc_modified_model = createCNNLayerDIScorePlot(modelFilt, layer_name)"
      ],
      "execution_count": 0,
      "outputs": [
        {
          "output_type": "stream",
          "text": [
            "Mean of DI SCore:  0.4283726311323016\n",
            "STD of DI Score:  0.11606436878312644\n",
            "MAX of DI Score:  0.7211856134234298\n"
          ],
          "name": "stdout"
        },
        {
          "output_type": "display_data",
          "data": {
            "image/png": "[encoded data removed]",
            "text/plain": [
              "<Figure size 432x288 with 1 Axes>"
            ]
          },
          "metadata": {
            "tags": []
          }
        }
      ]
    },
    {
      "cell_type": "code",
      "metadata": {
        "id": "q3SsO1CXc09Q",
        "colab_type": "code",
        "outputId": "80ab8bbd-d50a-4858-f8aa-e0e29cf392d3",
        "colab": {
          "base_uri": "https://localhost:8080/",
          "height": 350
        }
      },
      "source": [
        "# now get DI score of a layer from high accuracy and low accuracy model\n",
        "layer_name = 'conv2d_4'\n",
        "discores_low_acc_modified_model = createCNNLayerDIScorePlot(modelFilt, layer_name)"
      ],
      "execution_count": 0,
      "outputs": [
        {
          "output_type": "stream",
          "text": [
            "Mean of DI SCore:  0.4676357866426307\n",
            "STD of DI Score:  0.129639936407154\n",
            "MAX of DI Score:  0.9082884744169848\n"
          ],
          "name": "stdout"
        },
        {
          "output_type": "display_data",
          "data": {
            "image/png": "[encoded data removed]",
            "text/plain": [
              "<Figure size 432x288 with 1 Axes>"
            ]
          },
          "metadata": {
            "tags": []
          }
        }
      ]
    },
    {
      "cell_type": "code",
      "metadata": {
        "id": "Unii3onHcpx6",
        "colab_type": "code",
        "colab": {}
      },
      "source": [
        ""
      ],
      "execution_count": 0,
      "outputs": []
    },
    {
      "cell_type": "code",
      "metadata": {
        "id": "r2XDOWtOP2p7",
        "colab_type": "code",
        "outputId": "5ba31b93-776d-4b0a-87ca-a773a09b26d7",
        "colab": {
          "base_uri": "https://localhost:8080/",
          "height": 917
        }
      },
      "source": [
        "modelFilt.summary()"
      ],
      "execution_count": 0,
      "outputs": [
        {
          "output_type": "stream",
          "text": [
            "_________________________________________________________________\n",
            "Layer (type)                 Output Shape              Param #   \n",
            "=================================================================\n",
            "input_1 (InputLayer)         (None, 32, 32, 3)         0         \n",
            "_________________________________________________________________\n",
            "lowAccuracyModelConv1_1 (Con (None, 32, 32, 32)        896       \n",
            "_________________________________________________________________\n",
            "lowAccuracyModelBN1 (BatchNo (None, 32, 32, 32)        128       \n",
            "_________________________________________________________________\n",
            "lowAccuracyModelConv2_1 (Con (None, 32, 32, 32)        9248      \n",
            "_________________________________________________________________\n",
            "batch_normalization_1 (Batch (None, 32, 32, 32)        128       \n",
            "_________________________________________________________________\n",
            "max_pooling2d_1 (MaxPooling2 (None, 16, 16, 32)        0         \n",
            "_________________________________________________________________\n",
            "dropout_1 (Dropout)          (None, 16, 16, 32)        0         \n",
            "_________________________________________________________________\n",
            "conv2d_1 (Conv2D)            (None, 16, 16, 64)        18496     \n",
            "_________________________________________________________________\n",
            "batch_normalization_2 (Batch (None, 16, 16, 64)        256       \n",
            "_________________________________________________________________\n",
            "conv2d_2 (Conv2D)            (None, 16, 16, 64)        36928     \n",
            "_________________________________________________________________\n",
            "batch_normalization_3 (Batch (None, 16, 16, 64)        256       \n",
            "_________________________________________________________________\n",
            "max_pooling2d_2 (MaxPooling2 (None, 8, 8, 64)          0         \n",
            "_________________________________________________________________\n",
            "dropout_2 (Dropout)          (None, 8, 8, 64)          0         \n",
            "_________________________________________________________________\n",
            "conv2d_3 (Conv2D)            (None, 8, 8, 128)         73856     \n",
            "_________________________________________________________________\n",
            "batch_normalization_4 (Batch (None, 8, 8, 128)         512       \n",
            "_________________________________________________________________\n",
            "conv2d_4 (Conv2D)            (None, 8, 8, 128)         147584    \n",
            "_________________________________________________________________\n",
            "batch_normalization_5 (Batch (None, 8, 8, 128)         512       \n",
            "_________________________________________________________________\n",
            "max_pooling2d_3 (MaxPooling2 (None, 4, 4, 128)         0         \n",
            "_________________________________________________________________\n",
            "dropout_3 (Dropout)          (None, 4, 4, 128)         0         \n",
            "_________________________________________________________________\n",
            "flatten_1 (Flatten)          (None, 2048)              0         \n",
            "_________________________________________________________________\n",
            "dense_1 (Dense)              (None, 3)                 6147      \n",
            "=================================================================\n",
            "Total params: 294,947\n",
            "Trainable params: 294,051\n",
            "Non-trainable params: 896\n",
            "_________________________________________________________________\n"
          ],
          "name": "stdout"
        }
      ]
    },
    {
      "cell_type": "markdown",
      "metadata": {
        "id": "dxnMxP6cTGLO",
        "colab_type": "text"
      },
      "source": [
        " "
      ]
    }
  ]
}