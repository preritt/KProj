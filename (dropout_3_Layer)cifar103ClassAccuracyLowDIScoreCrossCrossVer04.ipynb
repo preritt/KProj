{
  "nbformat": 4,
  "nbformat_minor": 0,
  "metadata": {
    "colab": {
      "name": "(dropout_3_Layer)cifar103ClassAccuracyLowDIScoreCrossCrossVer04.ipynb",
      "version": "0.3.2",
      "provenance": [],
      "collapsed_sections": [],
      "toc_visible": true,
      "include_colab_link": true
    },
    "kernelspec": {
      "name": "python3",
      "display_name": "Python 3"
    },
    "accelerator": "GPU"
  },
  "cells": [
    {
      "cell_type": "markdown",
      "metadata": {
        "id": "view-in-github",
        "colab_type": "text"
      },
      "source": [
        "<a href=\"https://colab.research.google.com/github/preritt/KProj/blob/master/(dropout_3_Layer)cifar103ClassAccuracyLowDIScoreCrossCrossVer04.ipynb\" target=\"_parent\"><img src=\"https://colab.research.google.com/assets/colab-badge.svg\" alt=\"Open In Colab\"/></a>"
      ]
    },
    {
      "metadata": {
        "id": "FgwWyMb6iCkO",
        "colab_type": "code",
        "outputId": "0f6e2e2c-b13a-4e57-aa8c-b90bf4aac077",
        "colab": {
          "base_uri": "https://localhost:8080/",
          "height": 34
        }
      },
      "cell_type": "code",
      "source": [
        "import keras\n",
        "from matplotlib import pyplot as plt\n",
        "import numpy as np\n",
        "import gzip\n",
        "%matplotlib inline\n",
        "from keras.models import Model\n",
        "from keras.optimizers import RMSprop\n",
        "from keras.layers import Input,Dense,Flatten,Dropout,merge,Reshape,Conv2D,MaxPooling2D,UpSampling2D,Conv2DTranspose\n",
        "from keras.layers.normalization import BatchNormalization\n",
        "from keras.models import Model,Sequential\n",
        "from keras.callbacks import ModelCheckpoint\n",
        "from keras.optimizers import Adadelta, RMSprop,SGD,Adam\n",
        "from keras import regularizers\n",
        "from keras import backend as K\n",
        "from keras.utils import to_categorical\n",
        "from keras.datasets import cifar10\n",
        "from sklearn import preprocessing\n",
        "from keras import losses"
      ],
      "execution_count": 1,
      "outputs": [
        {
          "output_type": "stream",
          "text": [
            "Using TensorFlow backend.\n"
          ],
          "name": "stderr"
        }
      ]
    },
    {
      "metadata": {
        "id": "txdR9fEabt2P",
        "colab_type": "code",
        "colab": {}
      },
      "cell_type": "code",
      "source": [
        "\n",
        "from keras.models import model_from_json"
      ],
      "execution_count": 0,
      "outputs": []
    },
    {
      "metadata": {
        "id": "PYdWJtFsiF1a",
        "colab_type": "code",
        "colab": {}
      },
      "cell_type": "code",
      "source": [
        "import keras\n",
        "from keras.models import Sequential\n",
        "from keras.utils import np_utils\n",
        "from keras.preprocessing.image import ImageDataGenerator\n",
        "from keras.layers import Dense, Activation, Flatten, Dropout, BatchNormalization\n",
        "from keras.layers import Conv2D, MaxPooling2D\n",
        "from keras.datasets import cifar10\n",
        "from keras import regularizers\n",
        "from keras.callbacks import LearningRateScheduler\n",
        "import numpy as np\n",
        "from sklearn.metrics import confusion_matrix\n",
        "from sklearn.model_selection import train_test_split\n",
        "from sklearn.utils import shuffle"
      ],
      "execution_count": 0,
      "outputs": []
    },
    {
      "metadata": {
        "id": "9m3ehGh2iIBA",
        "colab_type": "code",
        "outputId": "4d47761b-ca66-426a-ccd4-4537194e7194",
        "colab": {
          "base_uri": "https://localhost:8080/",
          "height": 371
        }
      },
      "cell_type": "code",
      "source": [
        "from matplotlib import pyplot\n",
        "from scipy.misc import toimage\n",
        "from keras.datasets import cifar10\n",
        "def show_imgs(X):\n",
        "    pyplot.figure(1)\n",
        "    k = 0\n",
        "    for i in range(0,4):\n",
        "        for j in range(0,4):\n",
        "            pyplot.subplot2grid((4,4),(i,j))\n",
        "            pyplot.imshow(toimage(X[k]))\n",
        "            k = k+1\n",
        "    # show the plot\n",
        "    pyplot.show()\n",
        " \n",
        "(x_train, y_train), (x_test, y_test) = cifar10.load_data()\n",
        "show_imgs(x_test[:16])\n"
      ],
      "execution_count": 4,
      "outputs": [
        {
          "output_type": "stream",
          "text": [
            "Downloading data from https://www.cs.toronto.edu/~kriz/cifar-10-python.tar.gz\n",
            "170500096/170498071 [==============================] - 12s 0us/step\n"
          ],
          "name": "stdout"
        },
        {
          "output_type": "stream",
          "text": [
            "/usr/local/lib/python3.6/dist-packages/ipykernel_launcher.py:10: DeprecationWarning: `toimage` is deprecated!\n",
            "`toimage` is deprecated in SciPy 1.0.0, and will be removed in 1.2.0.\n",
            "Use Pillow's ``Image.fromarray`` directly instead.\n",
            "  # Remove the CWD from sys.path while we load stuff.\n"
          ],
          "name": "stderr"
        },
        {
          "output_type": "display_data",
          "data": {
            "image/png": "[encoded data removed]",
            "text/plain": [
              "<Figure size 432x288 with 16 Axes>"
            ]
          },
          "metadata": {
            "tags": []
          }
        }
      ]
    },
    {
      "metadata": {
        "id": "hVAjMdeSrloa",
        "colab_type": "code",
        "outputId": "e8e14e79-6822-4724-c5c2-73edf3f3b72d",
        "colab": {
          "base_uri": "https://localhost:8080/",
          "height": 34
        }
      },
      "cell_type": "code",
      "source": [
        "x_test.shape"
      ],
      "execution_count": 5,
      "outputs": [
        {
          "output_type": "execute_result",
          "data": {
            "text/plain": [
              "(10000, 32, 32, 3)"
            ]
          },
          "metadata": {
            "tags": []
          },
          "execution_count": 5
        }
      ]
    },
    {
      "metadata": {
        "id": "ngfK-2Qewhtq",
        "colab_type": "code",
        "colab": {}
      },
      "cell_type": "code",
      "source": [
        "# This function takes the entire traaining data and test data and corresponding categorical label and returns the corresponding data in class indices\n",
        "def getThreeClassesTrainTest(class_indices,train_data,train_labels,test_data,test_labels):\n",
        "  all_train_data = []\n",
        "  all_train_data_label = []\n",
        "  all_test_data = []\n",
        "  all_test_data_label = []\n",
        "  for ind in class_indices:\n",
        "    this_class_location_train =  np.where(train_labels==ind)[0] # train_labels[train_labels == ind]\n",
        "    this_class_data_train = train_data[this_class_location_train,:]\n",
        "    this_class_data_train_label = train_labels[this_class_location_train]\n",
        "    print(this_class_location_train)\n",
        "    \n",
        "    this_class_location_test = np.where(test_labels==ind)[0] #test_labels[test_labels == ind]\n",
        "    this_class_data_test = test_data[this_class_location_test,:]\n",
        "    this_class_data_test_label = test_labels[this_class_location_test]\n",
        "    \n",
        "    all_train_data.append(this_class_data_train)\n",
        "    all_test_data.append(this_class_data_test)\n",
        "    all_train_data_label.append(this_class_data_train_label)\n",
        "    all_test_data_label.append(this_class_data_test_label)\n",
        "    \n",
        "  train_data_three = all_train_data[0]\n",
        "  train_label_three = all_train_data_label[0]\n",
        "  test_data_three = all_test_data[0]\n",
        "  test_label_three = all_test_data_label[0]\n",
        "  \n",
        "  for j in range(1,len(class_indices)):\n",
        "    train_data_three = np.concatenate((train_data_three,all_train_data[j]))\n",
        "    train_label_three = np.concatenate((train_label_three,all_train_data_label[j]))\n",
        "\n",
        "    test_data_three = np.concatenate((test_data_three,all_test_data[j]))\n",
        "    test_label_three = np.concatenate((test_label_three,all_test_data_label[j]))\n",
        "  print(train_label_three.shape)\n",
        "  train_label_three = np.reshape(train_label_three,newshape=(-1,))\n",
        "  test_label_three = np.reshape(test_label_three,newshape=(-1,))\n",
        "  return train_data_three, train_label_three, test_data_three,test_label_three"
      ],
      "execution_count": 0,
      "outputs": []
    },
    {
      "metadata": {
        "id": "3ZJV35fkrj3O",
        "colab_type": "code",
        "colab": {}
      },
      "cell_type": "code",
      "source": [
        "         "
      ],
      "execution_count": 0,
      "outputs": []
    },
    {
      "metadata": {
        "id": "2ekn-CkLikYJ",
        "colab_type": "text"
      },
      "cell_type": "markdown",
      "source": [
        "### Get only three classes of data and train the model on it"
      ]
    },
    {
      "metadata": {
        "id": "VPYv1L-uigzL",
        "colab_type": "code",
        "outputId": "76e23a3a-ccce-4656-bb5a-a59ca46dd390",
        "colab": {
          "base_uri": "https://localhost:8080/",
          "height": 85
        }
      },
      "cell_type": "code",
      "source": [
        "train_three_data,train_three_label,test_three_data,test_three_label = getThreeClassesTrainTest([ 0,3,5 ],x_train,y_train,x_test,y_test)"
      ],
      "execution_count": 7,
      "outputs": [
        {
          "output_type": "stream",
          "text": [
            "[   29    30    35 ... 49941 49992 49994]\n",
            "[    9    17    21 ... 49979 49982 49983]\n",
            "[   27    40    51 ... 49964 49980 49988]\n",
            "(15000, 1)\n"
          ],
          "name": "stdout"
        }
      ]
    },
    {
      "metadata": {
        "id": "9luxTYeM3aZO",
        "colab_type": "code",
        "outputId": "082f8046-f868-46cb-db65-974962a36276",
        "colab": {
          "base_uri": "https://localhost:8080/",
          "height": 337
        }
      },
      "cell_type": "code",
      "source": [
        "plt.hist(train_three_label)"
      ],
      "execution_count": 8,
      "outputs": [
        {
          "output_type": "execute_result",
          "data": {
            "text/plain": [
              "(array([5000.,    0.,    0.,    0.,    0.,    0., 5000.,    0.,    0.,\n",
              "        5000.]),\n",
              " array([0. , 0.5, 1. , 1.5, 2. , 2.5, 3. , 3.5, 4. , 4.5, 5. ]),\n",
              " <a list of 10 Patch objects>)"
            ]
          },
          "metadata": {
            "tags": []
          },
          "execution_count": 8
        },
        {
          "output_type": "display_data",
          "data": {
            "image/png": "[encoded data removed]",
            "text/plain": [
              "<Figure size 432x288 with 1 Axes>"
            ]
          },
          "metadata": {
            "tags": []
          }
        }
      ]
    },
    {
      "metadata": {
        "id": "Dni1oqIcyPai",
        "colab_type": "code",
        "outputId": "af633019-b785-422b-e7c9-17583175fc62",
        "colab": {
          "base_uri": "https://localhost:8080/",
          "height": 337
        }
      },
      "cell_type": "code",
      "source": [
        "# test_three_label.shape\n",
        "plt.hist(test_three_label)"
      ],
      "execution_count": 9,
      "outputs": [
        {
          "output_type": "execute_result",
          "data": {
            "text/plain": [
              "(array([1000.,    0.,    0.,    0.,    0.,    0., 1000.,    0.,    0.,\n",
              "        1000.]),\n",
              " array([0. , 0.5, 1. , 1.5, 2. , 2.5, 3. , 3.5, 4. , 4.5, 5. ]),\n",
              " <a list of 10 Patch objects>)"
            ]
          },
          "metadata": {
            "tags": []
          },
          "execution_count": 9
        },
        {
          "output_type": "display_data",
          "data": {
            "image/png": "[encoded data removed]",
            "text/plain": [
              "<Figure size 432x288 with 1 Axes>"
            ]
          },
          "metadata": {
            "tags": []
          }
        }
      ]
    },
    {
      "metadata": {
        "id": "fuM8CeuRsDzW",
        "colab_type": "code",
        "colab": {}
      },
      "cell_type": "code",
      "source": [
        "train_three_data, train_three_label = shuffle(train_three_data, train_three_label )\n",
        "test_three_data,test_three_label = shuffle(test_three_data,test_three_label )"
      ],
      "execution_count": 0,
      "outputs": []
    },
    {
      "metadata": {
        "id": "EshrdJ78fp7U",
        "colab_type": "code",
        "colab": {}
      },
      "cell_type": "code",
      "source": [
        ""
      ],
      "execution_count": 0,
      "outputs": []
    },
    {
      "metadata": {
        "id": "mbK7iwsZx8QW",
        "colab_type": "code",
        "colab": {}
      },
      "cell_type": "code",
      "source": [
        "le = preprocessing.LabelEncoder()\n",
        "le.fit_transform(train_three_label)\n",
        "train_three_label_cat = le.transform(train_three_label)\n",
        "test_three_label_cat = le.transform(test_three_label)"
      ],
      "execution_count": 0,
      "outputs": []
    },
    {
      "metadata": {
        "id": "jYJt52bU0ooK",
        "colab_type": "code",
        "outputId": "c62dd974-2637-4138-d44c-8f6042a6b4a8",
        "colab": {
          "base_uri": "https://localhost:8080/",
          "height": 34
        }
      },
      "cell_type": "code",
      "source": [
        "train_three_label_cat.shape"
      ],
      "execution_count": 12,
      "outputs": [
        {
          "output_type": "execute_result",
          "data": {
            "text/plain": [
              "(15000,)"
            ]
          },
          "metadata": {
            "tags": []
          },
          "execution_count": 12
        }
      ]
    },
    {
      "metadata": {
        "id": "r3Ydm3cykUFn",
        "colab_type": "code",
        "colab": {}
      },
      "cell_type": "code",
      "source": [
        "train_three_label_one_hot = to_categorical(train_three_label_cat)\n",
        "test_three_label_one_hot = to_categorical(test_three_label_cat)\n"
      ],
      "execution_count": 0,
      "outputs": []
    },
    {
      "metadata": {
        "id": "_O4_VLoJ6vSF",
        "colab_type": "code",
        "outputId": "1ffdac83-a653-4b90-e1c9-9e0c153ea8c9",
        "colab": {
          "base_uri": "https://localhost:8080/",
          "height": 34
        }
      },
      "cell_type": "code",
      "source": [
        "test_three_label_one_hot.shape"
      ],
      "execution_count": 14,
      "outputs": [
        {
          "output_type": "execute_result",
          "data": {
            "text/plain": [
              "(3000, 3)"
            ]
          },
          "metadata": {
            "tags": []
          },
          "execution_count": 14
        }
      ]
    },
    {
      "metadata": {
        "id": "UIrWUPz_lGvF",
        "colab_type": "code",
        "colab": {}
      },
      "cell_type": "code",
      "source": [
        "# split train data and to create validation data\n",
        "train_X,valid_X,train_ground,valid_ground = train_test_split(train_three_data,\n",
        "                                                             train_three_label_one_hot,\n",
        "                                                             test_size=0.2,\n",
        "                                                             random_state=13)"
      ],
      "execution_count": 0,
      "outputs": []
    },
    {
      "metadata": {
        "id": "H6AkQaz-kRh0",
        "colab_type": "code",
        "colab": {}
      },
      "cell_type": "code",
      "source": [
        "num_classes = test_three_label_one_hot.shape[1]"
      ],
      "execution_count": 0,
      "outputs": []
    },
    {
      "metadata": {
        "id": "duFF_pGbj2i1",
        "colab_type": "code",
        "colab": {}
      },
      "cell_type": "code",
      "source": [
        "x, y = 32, 32\n",
        "inChannel = 3\n",
        "input_img = Input(shape = (x, y, inChannel))\n",
        "ep = 10 \n",
        "weight_decay = 1e-4"
      ],
      "execution_count": 0,
      "outputs": []
    },
    {
      "metadata": {
        "id": "Pt1coy0mkFrj",
        "colab_type": "code",
        "colab": {}
      },
      "cell_type": "code",
      "source": [
        "def lr_schedule(epoch):\n",
        "    lrate = 0.001\n",
        "    if epoch > 75:\n",
        "        lrate = 0.0005\n",
        "    if epoch > 100:\n",
        "        lrate = 0.0003\n",
        "    return lrate"
      ],
      "execution_count": 0,
      "outputs": []
    },
    {
      "metadata": {
        "id": "4IbtMUdhiscG",
        "colab_type": "code",
        "colab": {}
      },
      "cell_type": "code",
      "source": [
        "def cifar10Classifier(input_img):\n",
        "  \n",
        "  conv1 = (Conv2D(32, (3,3), padding='same', kernel_regularizer=regularizers.l2(weight_decay), input_shape=x_train.shape[1:], activation='elu'))(input_img)\n",
        "  conv1 = BatchNormalization()(conv1)\n",
        "  conv1 = (Conv2D(32, (3,3), padding='same', activation= 'elu',kernel_regularizer=regularizers.l2(weight_decay)))(conv1)\n",
        "  conv1 = BatchNormalization()(conv1)\n",
        "  pool1 = MaxPooling2D(pool_size=(2, 2))(conv1) #14 x 14 x 32\n",
        "  drop1= Dropout(.2)(pool1)\n",
        "\n",
        "  conv2 = (Conv2D(64, (3,3), padding='same', kernel_regularizer=regularizers.l2(weight_decay), activation='elu'))(drop1)\n",
        "  conv2 = BatchNormalization()(conv2)\n",
        "  conv2 = (Conv2D(64, (3,3), padding='same', activation= 'elu',kernel_regularizer=regularizers.l2(weight_decay)))(conv2)\n",
        "  conv2 = BatchNormalization()(conv2)\n",
        "  pool2 = MaxPooling2D(pool_size=(2, 2))(conv2) #14 x 14 x 32\n",
        "  drop2= Dropout(.3)(pool2)\n",
        "\n",
        "  conv3 = (Conv2D(128, (3,3), padding='same', kernel_regularizer=regularizers.l2(weight_decay), activation='elu'))(drop2)\n",
        "  conv3 = BatchNormalization()(conv3)\n",
        "  conv3 = (Conv2D(128, (3,3), padding='same', activation= 'elu',kernel_regularizer=regularizers.l2(weight_decay)))(conv3)\n",
        "  conv3 = BatchNormalization()(conv3)\n",
        "  pool3 = MaxPooling2D(pool_size=(2, 2))(conv3) #14 x 14 x 32\n",
        "  drop3= Dropout(.4)(pool3)\n",
        "\n",
        "  flat = Flatten()(drop3)\n",
        "  out = Dense(num_classes, activation='softmax')(flat)\n",
        "  \n",
        "  return out"
      ],
      "execution_count": 0,
      "outputs": []
    },
    {
      "metadata": {
        "id": "-VPIvSX1jytM",
        "colab_type": "code",
        "outputId": "416788a4-9499-4a9a-8d41-c6165aa1c733",
        "colab": {
          "base_uri": "https://localhost:8080/",
          "height": 972
        }
      },
      "cell_type": "code",
      "source": [
        "model = Model(input_img, (cifar10Classifier(input_img)))\n",
        "#data augmentation\n",
        "datagen = ImageDataGenerator(\n",
        "    rotation_range=15,\n",
        "    width_shift_range=0.1,\n",
        "    height_shift_range=0.1,\n",
        "    horizontal_flip=True,\n",
        "    )\n",
        "datagen.fit(train_three_data)\n",
        " \n",
        "#training\n",
        "batch_size = 64\n",
        " \n",
        "opt_rms = keras.optimizers.rmsprop(lr=0.001,decay=1e-6)\n",
        "# model.compile(loss='categorical_crossentropy', optimizer=opt_rms, metrics=['accuracy'])\n",
        "\n",
        "model.compile(loss=losses.categorical_crossentropy, optimizer=opt_rms, metrics=['accuracy'])\n",
        "\n",
        "model.summary()\n",
        " "
      ],
      "execution_count": 20,
      "outputs": [
        {
          "output_type": "stream",
          "text": [
            "WARNING:tensorflow:From /usr/local/lib/python3.6/dist-packages/tensorflow/python/framework/op_def_library.py:263: colocate_with (from tensorflow.python.framework.ops) is deprecated and will be removed in a future version.\n",
            "Instructions for updating:\n",
            "Colocations handled automatically by placer.\n",
            "WARNING:tensorflow:From /usr/local/lib/python3.6/dist-packages/keras/backend/tensorflow_backend.py:3445: calling dropout (from tensorflow.python.ops.nn_ops) with keep_prob is deprecated and will be removed in a future version.\n",
            "Instructions for updating:\n",
            "Please use `rate` instead of `keep_prob`. Rate should be set to `rate = 1 - keep_prob`.\n",
            "_________________________________________________________________\n",
            "Layer (type)                 Output Shape              Param #   \n",
            "=================================================================\n",
            "input_1 (InputLayer)         (None, 32, 32, 3)         0         \n",
            "_________________________________________________________________\n",
            "conv2d_1 (Conv2D)            (None, 32, 32, 32)        896       \n",
            "_________________________________________________________________\n",
            "batch_normalization_1 (Batch (None, 32, 32, 32)        128       \n",
            "_________________________________________________________________\n",
            "conv2d_2 (Conv2D)            (None, 32, 32, 32)        9248      \n",
            "_________________________________________________________________\n",
            "batch_normalization_2 (Batch (None, 32, 32, 32)        128       \n",
            "_________________________________________________________________\n",
            "max_pooling2d_1 (MaxPooling2 (None, 16, 16, 32)        0         \n",
            "_________________________________________________________________\n",
            "dropout_1 (Dropout)          (None, 16, 16, 32)        0         \n",
            "_________________________________________________________________\n",
            "conv2d_3 (Conv2D)            (None, 16, 16, 64)        18496     \n",
            "_________________________________________________________________\n",
            "batch_normalization_3 (Batch (None, 16, 16, 64)        256       \n",
            "_________________________________________________________________\n",
            "conv2d_4 (Conv2D)            (None, 16, 16, 64)        36928     \n",
            "_________________________________________________________________\n",
            "batch_normalization_4 (Batch (None, 16, 16, 64)        256       \n",
            "_________________________________________________________________\n",
            "max_pooling2d_2 (MaxPooling2 (None, 8, 8, 64)          0         \n",
            "_________________________________________________________________\n",
            "dropout_2 (Dropout)          (None, 8, 8, 64)          0         \n",
            "_________________________________________________________________\n",
            "conv2d_5 (Conv2D)            (None, 8, 8, 128)         73856     \n",
            "_________________________________________________________________\n",
            "batch_normalization_5 (Batch (None, 8, 8, 128)         512       \n",
            "_________________________________________________________________\n",
            "conv2d_6 (Conv2D)            (None, 8, 8, 128)         147584    \n",
            "_________________________________________________________________\n",
            "batch_normalization_6 (Batch (None, 8, 8, 128)         512       \n",
            "_________________________________________________________________\n",
            "max_pooling2d_3 (MaxPooling2 (None, 4, 4, 128)         0         \n",
            "_________________________________________________________________\n",
            "dropout_3 (Dropout)          (None, 4, 4, 128)         0         \n",
            "_________________________________________________________________\n",
            "flatten_1 (Flatten)          (None, 2048)              0         \n",
            "_________________________________________________________________\n",
            "dense_1 (Dense)              (None, 3)                 6147      \n",
            "=================================================================\n",
            "Total params: 294,947\n",
            "Trainable params: 294,051\n",
            "Non-trainable params: 896\n",
            "_________________________________________________________________\n"
          ],
          "name": "stdout"
        }
      ]
    },
    {
      "metadata": {
        "id": "2jabvkmcr1KR",
        "colab_type": "code",
        "colab": {}
      },
      "cell_type": "code",
      "source": [
        "mcp_save = ModelCheckpoint('.mdl_wts.hdf5', save_best_only=True, monitor='val_loss', mode='min')"
      ],
      "execution_count": 0,
      "outputs": []
    },
    {
      "metadata": {
        "id": "yBK4UwK8lffO",
        "colab_type": "text"
      },
      "cell_type": "markdown",
      "source": [
        "train_X,valid_X,train_ground,valid_ground"
      ]
    },
    {
      "metadata": {
        "id": "0x-iDMcukCCT",
        "colab_type": "code",
        "outputId": "217c76cd-2cd2-48d8-ea65-115a00328d32",
        "colab": {
          "base_uri": "https://localhost:8080/",
          "height": 768
        }
      },
      "cell_type": "code",
      "source": [
        "model.fit_generator(datagen.flow(train_X, train_ground, batch_size=batch_size),\\\n",
        "                    steps_per_epoch=train_X.shape[0] // batch_size,epochs=20,\\\n",
        "                    verbose=1,validation_data=(valid_X,valid_ground),\n",
        "                    shuffle = True,callbacks=[mcp_save,LearningRateScheduler(lr_schedule)])\n",
        "#save to disk\n",
        "model_json = model.to_json()\n",
        "with open('model.json', 'w') as json_file:\n",
        "    json_file.write(model_json)\n",
        "model.save_weights('model.h5') \n",
        " \n"
      ],
      "execution_count": 22,
      "outputs": [
        {
          "output_type": "stream",
          "text": [
            "WARNING:tensorflow:From /usr/local/lib/python3.6/dist-packages/tensorflow/python/ops/math_ops.py:3066: to_int32 (from tensorflow.python.ops.math_ops) is deprecated and will be removed in a future version.\n",
            "Instructions for updating:\n",
            "Use tf.cast instead.\n",
            "Epoch 1/20\n",
            "187/187 [==============================] - 14s 73ms/step - loss: 1.1549 - acc: 0.5989 - val_loss: 0.9712 - val_acc: 0.6083\n",
            "Epoch 2/20\n",
            "187/187 [==============================] - 9s 50ms/step - loss: 0.8008 - acc: 0.6681 - val_loss: 0.8762 - val_acc: 0.6750\n",
            "Epoch 3/20\n",
            "187/187 [==============================] - 9s 50ms/step - loss: 0.6811 - acc: 0.7085 - val_loss: 0.6707 - val_acc: 0.7113\n",
            "Epoch 4/20\n",
            "187/187 [==============================] - 9s 50ms/step - loss: 0.6405 - acc: 0.7303 - val_loss: 0.5778 - val_acc: 0.7760\n",
            "Epoch 5/20\n",
            "187/187 [==============================] - 9s 50ms/step - loss: 0.5936 - acc: 0.7517 - val_loss: 0.5538 - val_acc: 0.7703\n",
            "Epoch 6/20\n",
            "187/187 [==============================] - 9s 50ms/step - loss: 0.5757 - acc: 0.7630 - val_loss: 0.5715 - val_acc: 0.7743\n",
            "Epoch 7/20\n",
            "187/187 [==============================] - 9s 50ms/step - loss: 0.5534 - acc: 0.7757 - val_loss: 0.6812 - val_acc: 0.7397\n",
            "Epoch 8/20\n",
            "187/187 [==============================] - 9s 50ms/step - loss: 0.5361 - acc: 0.7853 - val_loss: 0.6019 - val_acc: 0.7820\n",
            "Epoch 9/20\n",
            "187/187 [==============================] - 10s 51ms/step - loss: 0.5170 - acc: 0.7911 - val_loss: 0.5835 - val_acc: 0.7917\n",
            "Epoch 10/20\n",
            "187/187 [==============================] - 10s 51ms/step - loss: 0.4989 - acc: 0.8051 - val_loss: 0.5032 - val_acc: 0.8023\n",
            "Epoch 11/20\n",
            "187/187 [==============================] - 9s 49ms/step - loss: 0.5057 - acc: 0.8056 - val_loss: 0.5254 - val_acc: 0.8120\n",
            "Epoch 12/20\n",
            "187/187 [==============================] - 9s 49ms/step - loss: 0.4820 - acc: 0.8121 - val_loss: 0.8152 - val_acc: 0.7530\n",
            "Epoch 13/20\n",
            "187/187 [==============================] - 9s 50ms/step - loss: 0.4877 - acc: 0.8184 - val_loss: 0.5412 - val_acc: 0.8090\n",
            "Epoch 14/20\n",
            "187/187 [==============================] - 9s 50ms/step - loss: 0.4695 - acc: 0.8194 - val_loss: 0.5003 - val_acc: 0.8143\n",
            "Epoch 15/20\n",
            "187/187 [==============================] - 10s 52ms/step - loss: 0.4851 - acc: 0.8237 - val_loss: 0.4820 - val_acc: 0.8213\n",
            "Epoch 16/20\n",
            "187/187 [==============================] - 10s 53ms/step - loss: 0.4558 - acc: 0.8300 - val_loss: 0.4424 - val_acc: 0.8460\n",
            "Epoch 17/20\n",
            "187/187 [==============================] - 9s 50ms/step - loss: 0.4504 - acc: 0.8329 - val_loss: 0.4039 - val_acc: 0.8540\n",
            "Epoch 18/20\n",
            "187/187 [==============================] - 9s 50ms/step - loss: 0.4441 - acc: 0.8355 - val_loss: 0.5838 - val_acc: 0.8027\n",
            "Epoch 19/20\n",
            "187/187 [==============================] - 9s 51ms/step - loss: 0.4405 - acc: 0.8383 - val_loss: 0.4912 - val_acc: 0.8283\n",
            "Epoch 20/20\n",
            "187/187 [==============================] - 9s 50ms/step - loss: 0.4334 - acc: 0.8418 - val_loss: 0.4433 - val_acc: 0.8437\n"
          ],
          "name": "stdout"
        }
      ]
    },
    {
      "metadata": {
        "id": "w4M2DfGjmT3I",
        "colab_type": "code",
        "outputId": "474e8304-5cdc-4462-ebe9-ed85ef64c455",
        "colab": {
          "base_uri": "https://localhost:8080/",
          "height": 51
        }
      },
      "cell_type": "code",
      "source": [
        "#testing\n",
        "test_eval = model.evaluate(test_three_data, test_three_label_one_hot, verbose=0)\n",
        "print('Test loss:', test_eval[0])\n",
        "print('Test accuracy:', test_eval[1])"
      ],
      "execution_count": 23,
      "outputs": [
        {
          "output_type": "stream",
          "text": [
            "Test loss: 0.4190043207804362\n",
            "Test accuracy: 0.8513333333333334\n"
          ],
          "name": "stdout"
        }
      ]
    },
    {
      "metadata": {
        "id": "M1_boK_fprtB",
        "colab_type": "code",
        "outputId": "fdb9e764-75ce-41fc-cf25-96963fad6561",
        "colab": {
          "base_uri": "https://localhost:8080/",
          "height": 34
        }
      },
      "cell_type": "code",
      "source": [
        "test_three_data.shape"
      ],
      "execution_count": 24,
      "outputs": [
        {
          "output_type": "execute_result",
          "data": {
            "text/plain": [
              "(3000, 32, 32, 3)"
            ]
          },
          "metadata": {
            "tags": []
          },
          "execution_count": 24
        }
      ]
    },
    {
      "metadata": {
        "id": "ZuH6igT7nbza",
        "colab_type": "code",
        "outputId": "c954a6ac-95cc-4ef9-a79e-e5f26e2a41f6",
        "colab": {
          "base_uri": "https://localhost:8080/",
          "height": 337
        }
      },
      "cell_type": "code",
      "source": [
        "# show_imgs(test_three_data[:,1])\n",
        "show_imgs(test_three_data[:16])"
      ],
      "execution_count": 25,
      "outputs": [
        {
          "output_type": "stream",
          "text": [
            "/usr/local/lib/python3.6/dist-packages/ipykernel_launcher.py:10: DeprecationWarning: `toimage` is deprecated!\n",
            "`toimage` is deprecated in SciPy 1.0.0, and will be removed in 1.2.0.\n",
            "Use Pillow's ``Image.fromarray`` directly instead.\n",
            "  # Remove the CWD from sys.path while we load stuff.\n"
          ],
          "name": "stderr"
        },
        {
          "output_type": "display_data",
          "data": {
            "image/png": "[encoded data removed]",
            "text/plain": [
              "<Figure size 432x288 with 16 Axes>"
            ]
          },
          "metadata": {
            "tags": []
          }
        }
      ]
    },
    {
      "metadata": {
        "id": "cE1UG2RavZW3",
        "colab_type": "code",
        "colab": {}
      },
      "cell_type": "code",
      "source": [
        "def getDIScoreOfLayer(layer_output, true_labels):\n",
        "  # computeScatterMatrix\n",
        "  rho = 1e-6\n",
        "  mu = layer_output.mean(axis=0)\n",
        "#   print(mu.shape)\n",
        "  mu = mu.reshape((1,-1))\n",
        "  centered_data = layer_output - mu\n",
        "  S_bar = np.matmul(centered_data.T,centered_data)\n",
        "  # compute between class matrix\n",
        "  total_classes = true_labels.max()\n",
        "  S_B = np.zeros(shape = (mu.shape[1],mu.shape[1]))\n",
        "  S_W = np.zeros(shape = (mu.shape[1],mu.shape[1]))\n",
        "  unique_classes = np.unique(true_labels)\n",
        "  unique_classes_list = np.ndarray.tolist(unique_classes)\n",
        "  for l in unique_classes_list:\n",
        "    class_l_index = np.where(true_labels == l)\n",
        "    class_l_output = layer_output[class_l_index[0],:]\n",
        "    mu_l = class_l_output.mean(axis=0)\n",
        "    mu_l = mu_l.reshape((1,-1))\n",
        "    total_examples_this_class = class_l_index[0].shape   \n",
        "    ss = mu_l - mu\n",
        "    S_B = S_B + total_examples_this_class*np.matmul((mu_l - mu).T,(mu_l - mu))\n",
        "\n",
        "  DI_Score = np.trace(np.matmul(np.linalg.inv(S_bar + rho*np.eye(S_bar.shape[0])),S_B))\n",
        "  return DI_Score"
      ],
      "execution_count": 0,
      "outputs": []
    },
    {
      "metadata": {
        "id": "2_q12H9HU7n-",
        "colab_type": "code",
        "colab": {}
      },
      "cell_type": "code",
      "source": [
        "def getDIScoreOfLayerCNNLayer(cnn_outputs, true_labels):\n",
        "  # computeScatterMatrix\n",
        "  number_of_filters = cnn_outputs.shape[3]\n",
        "  cnn_di_scores = []\n",
        "  for filt in range(0,number_of_filters):\n",
        "    outputs_filter = cnn_outputs[:,:,:,filt]\n",
        "    outputs_filter_reshaped = np.reshape(outputs_filter, newshape=(cnn_outputs.shape[0],-1))\n",
        "    this_filter_score = getDIScoreOfLayer(outputs_filter_reshaped, true_labels)\n",
        "    cnn_di_scores.append(this_filter_score)\n",
        "  return cnn_di_scores"
      ],
      "execution_count": 0,
      "outputs": []
    },
    {
      "metadata": {
        "id": "mPTmOl-QERZN",
        "colab_type": "code",
        "outputId": "3bc166c8-dd1b-407d-e9c2-aa3c4edf23d3",
        "colab": {
          "base_uri": "https://localhost:8080/",
          "height": 34
        }
      },
      "cell_type": "code",
      "source": [
        "# layer_name\n",
        "valid_X.shape"
      ],
      "execution_count": 28,
      "outputs": [
        {
          "output_type": "execute_result",
          "data": {
            "text/plain": [
              "(3000, 32, 32, 3)"
            ]
          },
          "metadata": {
            "tags": []
          },
          "execution_count": 28
        }
      ]
    },
    {
      "metadata": {
        "id": "bRQ1YTnsd6zM",
        "colab_type": "code",
        "colab": {}
      },
      "cell_type": "code",
      "source": [
        "# train_three_data, train_three_label"
      ],
      "execution_count": 0,
      "outputs": []
    },
    {
      "metadata": {
        "id": "pe0g2T0IA7sG",
        "colab_type": "code",
        "colab": {}
      },
      "cell_type": "code",
      "source": [
        "layer_name = 'dropout_3'\n",
        "get_cnn1_output_function = K.function([model.layers[0].input],\n",
        "                                  [model.get_layer(layer_name).output])   #get_layer test_three_label\n",
        "cnn1_output = get_cnn1_output_function([train_three_data])[0]"
      ],
      "execution_count": 0,
      "outputs": []
    },
    {
      "metadata": {
        "id": "4Yy-y5xIWdz6",
        "colab_type": "code",
        "outputId": "c1017fc9-7e61-4f19-b7f8-8f986d7fc185",
        "colab": {
          "base_uri": "https://localhost:8080/",
          "height": 34
        }
      },
      "cell_type": "code",
      "source": [
        "cnn1_output.shape"
      ],
      "execution_count": 31,
      "outputs": [
        {
          "output_type": "execute_result",
          "data": {
            "text/plain": [
              "(15000, 4, 4, 128)"
            ]
          },
          "metadata": {
            "tags": []
          },
          "execution_count": 31
        }
      ]
    },
    {
      "metadata": {
        "id": "EF3q_KOgYTxb",
        "colab_type": "code",
        "outputId": "bfd94d6b-54f9-4f05-e245-c1cb0db42ef6",
        "colab": {
          "base_uri": "https://localhost:8080/",
          "height": 34
        }
      },
      "cell_type": "code",
      "source": [
        "cnn1_output.shape"
      ],
      "execution_count": 32,
      "outputs": [
        {
          "output_type": "execute_result",
          "data": {
            "text/plain": [
              "(15000, 4, 4, 128)"
            ]
          },
          "metadata": {
            "tags": []
          },
          "execution_count": 32
        }
      ]
    },
    {
      "metadata": {
        "id": "B0Hfr4ZwB8dX",
        "colab_type": "code",
        "outputId": "47d0eb91-93a5-4534-d083-8562262ac91e",
        "colab": {
          "base_uri": "https://localhost:8080/",
          "height": 34
        }
      },
      "cell_type": "code",
      "source": [
        "np.ndarray.tolist(np.unique(test_three_label))"
      ],
      "execution_count": 33,
      "outputs": [
        {
          "output_type": "execute_result",
          "data": {
            "text/plain": [
              "[0, 3, 5]"
            ]
          },
          "metadata": {
            "tags": []
          },
          "execution_count": 33
        }
      ]
    },
    {
      "metadata": {
        "id": "pM8xfShbdHJV",
        "colab_type": "code",
        "colab": {}
      },
      "cell_type": "code",
      "source": [
        "# valid_ground_cat = np.argmax(train_ground, axis=1)\n",
        "# # valid_ground_cat\n",
        "# valid_ground.shape"
      ],
      "execution_count": 0,
      "outputs": []
    },
    {
      "metadata": {
        "id": "jZ1IST7pBZ92",
        "colab_type": "code",
        "colab": {}
      },
      "cell_type": "code",
      "source": [
        "\n",
        "di_scores = getDIScoreOfLayerCNNLayer(cnn1_output, train_three_label)"
      ],
      "execution_count": 0,
      "outputs": []
    },
    {
      "metadata": {
        "id": "RZnzBi-7BcfM",
        "colab_type": "code",
        "outputId": "5f35f7d1-44e1-4dd5-e513-731907547746",
        "colab": {
          "base_uri": "https://localhost:8080/",
          "height": 300
        }
      },
      "cell_type": "code",
      "source": [
        "y_pos  = np.arange(len(di_scores))\n",
        "plt.bar(y_pos, di_scores, align='center', alpha=0.5)\n",
        "plt.xlabel('FilterNumber')\n",
        "plt.ylabel('DI Score')"
      ],
      "execution_count": 36,
      "outputs": [
        {
          "output_type": "execute_result",
          "data": {
            "text/plain": [
              "Text(0, 0.5, 'DI Score')"
            ]
          },
          "metadata": {
            "tags": []
          },
          "execution_count": 36
        },
        {
          "output_type": "display_data",
          "data": {
            "image/png": "[encoded data removed]",
            "text/plain": [
              "<Figure size 432x288 with 1 Axes>"
            ]
          },
          "metadata": {
            "tags": []
          }
        }
      ]
    },
    {
      "metadata": {
        "id": "gFs0BsyhzMXk",
        "colab_type": "code",
        "colab": {}
      },
      "cell_type": "code",
      "source": [
        ""
      ],
      "execution_count": 0,
      "outputs": []
    },
    {
      "metadata": {
        "id": "d1LLCxe9aHpX",
        "colab_type": "text"
      },
      "cell_type": "markdown",
      "source": [
        "## DI on different data\n",
        "\n",
        "1.   List item\n",
        "2.   List item\n",
        "\n"
      ]
    },
    {
      "metadata": {
        "id": "WeSV3VJA6lm2",
        "colab_type": "code",
        "colab": {
          "base_uri": "https://localhost:8080/",
          "height": 85
        },
        "outputId": "84bd7f46-eaa1-4b29-a4c7-90e891b2915c"
      },
      "cell_type": "code",
      "source": [
        "\n",
        "train_three_data_low,train_three_label_low,test_three_data_low,test_three_label_low = getThreeClassesTrainTest([1,8,9],x_train,y_train,x_test,y_test)"
      ],
      "execution_count": 37,
      "outputs": [
        {
          "output_type": "stream",
          "text": [
            "[    4     5    32 ... 49993 49998 49999]\n",
            "[    8    62    69 ... 49968 49976 49985]\n",
            "[    1     2    14 ... 49963 49971 49997]\n",
            "(15000, 1)\n"
          ],
          "name": "stdout"
        }
      ]
    },
    {
      "metadata": {
        "id": "Y3R57M0i6liE",
        "colab_type": "code",
        "colab": {}
      },
      "cell_type": "code",
      "source": [
        "\n",
        "# split train data and to create validation data\n",
        "train_X_low,valid_X_low,train_ground_low,valid_ground_low = train_test_split(train_three_data_low,\n",
        "                                                             train_three_label_low,\n",
        "                                                             test_size=0.2,\n",
        "                                                             random_state=13)"
      ],
      "execution_count": 0,
      "outputs": []
    },
    {
      "metadata": {
        "id": "0IlIKFz86le9",
        "colab_type": "code",
        "colab": {
          "base_uri": "https://localhost:8080/",
          "height": 34
        },
        "outputId": "f9629325-103d-4c84-8fda-902c82c7e2af"
      },
      "cell_type": "code",
      "source": [
        "layer_name = 'dropout_3'\n",
        "get_cnn1_output_function_low = K.function([model.layers[0].input],\n",
        "                                  [model.get_layer(layer_name).output])   #get_layer test_three_label\n",
        "cnn1_output_low = get_cnn1_output_function_low([valid_X_low])[0]\n",
        "cnn1_output_low.shape"
      ],
      "execution_count": 39,
      "outputs": [
        {
          "output_type": "execute_result",
          "data": {
            "text/plain": [
              "(3000, 4, 4, 128)"
            ]
          },
          "metadata": {
            "tags": []
          },
          "execution_count": 39
        }
      ]
    },
    {
      "metadata": {
        "id": "uZIf7RZ86laf",
        "colab_type": "code",
        "colab": {}
      },
      "cell_type": "code",
      "source": [
        "di_scores_low = getDIScoreOfLayerCNNLayer(cnn1_output_low, test_three_label_low)\n"
      ],
      "execution_count": 0,
      "outputs": []
    },
    {
      "metadata": {
        "id": "q9pMSCcD6lUm",
        "colab_type": "code",
        "colab": {
          "base_uri": "https://localhost:8080/",
          "height": 300
        },
        "outputId": "f83e3d3b-70d3-4757-b1ed-a20325893185"
      },
      "cell_type": "code",
      "source": [
        "y_pos  = np.arange(len(di_scores_low))\n",
        "plt.bar(y_pos, di_scores_low, align='center', alpha=0.5)\n",
        "plt.xlabel('FilterNumber')\n",
        "plt.ylabel('DI Score')"
      ],
      "execution_count": 41,
      "outputs": [
        {
          "output_type": "execute_result",
          "data": {
            "text/plain": [
              "Text(0, 0.5, 'DI Score')"
            ]
          },
          "metadata": {
            "tags": []
          },
          "execution_count": 41
        },
        {
          "output_type": "display_data",
          "data": {
            "image/png": "[encoded data removed]",
            "text/plain": [
              "<Figure size 432x288 with 1 Axes>"
            ]
          },
          "metadata": {
            "tags": []
          }
        }
      ]
    },
    {
      "metadata": {
        "id": "emT7m8pI6lP8",
        "colab_type": "code",
        "colab": {
          "base_uri": "https://localhost:8080/",
          "height": 850
        },
        "outputId": "0b757d64-4a67-425b-d4f5-cf50ae224649"
      },
      "cell_type": "code",
      "source": [
        "model.summary()"
      ],
      "execution_count": 42,
      "outputs": [
        {
          "output_type": "stream",
          "text": [
            "_________________________________________________________________\n",
            "Layer (type)                 Output Shape              Param #   \n",
            "=================================================================\n",
            "input_1 (InputLayer)         (None, 32, 32, 3)         0         \n",
            "_________________________________________________________________\n",
            "conv2d_1 (Conv2D)            (None, 32, 32, 32)        896       \n",
            "_________________________________________________________________\n",
            "batch_normalization_1 (Batch (None, 32, 32, 32)        128       \n",
            "_________________________________________________________________\n",
            "conv2d_2 (Conv2D)            (None, 32, 32, 32)        9248      \n",
            "_________________________________________________________________\n",
            "batch_normalization_2 (Batch (None, 32, 32, 32)        128       \n",
            "_________________________________________________________________\n",
            "max_pooling2d_1 (MaxPooling2 (None, 16, 16, 32)        0         \n",
            "_________________________________________________________________\n",
            "dropout_1 (Dropout)          (None, 16, 16, 32)        0         \n",
            "_________________________________________________________________\n",
            "conv2d_3 (Conv2D)            (None, 16, 16, 64)        18496     \n",
            "_________________________________________________________________\n",
            "batch_normalization_3 (Batch (None, 16, 16, 64)        256       \n",
            "_________________________________________________________________\n",
            "conv2d_4 (Conv2D)            (None, 16, 16, 64)        36928     \n",
            "_________________________________________________________________\n",
            "batch_normalization_4 (Batch (None, 16, 16, 64)        256       \n",
            "_________________________________________________________________\n",
            "max_pooling2d_2 (MaxPooling2 (None, 8, 8, 64)          0         \n",
            "_________________________________________________________________\n",
            "dropout_2 (Dropout)          (None, 8, 8, 64)          0         \n",
            "_________________________________________________________________\n",
            "conv2d_5 (Conv2D)            (None, 8, 8, 128)         73856     \n",
            "_________________________________________________________________\n",
            "batch_normalization_5 (Batch (None, 8, 8, 128)         512       \n",
            "_________________________________________________________________\n",
            "conv2d_6 (Conv2D)            (None, 8, 8, 128)         147584    \n",
            "_________________________________________________________________\n",
            "batch_normalization_6 (Batch (None, 8, 8, 128)         512       \n",
            "_________________________________________________________________\n",
            "max_pooling2d_3 (MaxPooling2 (None, 4, 4, 128)         0         \n",
            "_________________________________________________________________\n",
            "dropout_3 (Dropout)          (None, 4, 4, 128)         0         \n",
            "_________________________________________________________________\n",
            "flatten_1 (Flatten)          (None, 2048)              0         \n",
            "_________________________________________________________________\n",
            "dense_1 (Dense)              (None, 3)                 6147      \n",
            "=================================================================\n",
            "Total params: 294,947\n",
            "Trainable params: 294,051\n",
            "Non-trainable params: 896\n",
            "_________________________________________________________________\n"
          ],
          "name": "stdout"
        }
      ]
    },
    {
      "metadata": {
        "id": "OcsyCU-caFc9",
        "colab_type": "code",
        "colab": {}
      },
      "cell_type": "code",
      "source": [
        "# # not working\n",
        "# mat_save = {'diScore': di_scores, 'conv2d_1': cnn1_output, 'trueLabel':train_three_label}\n",
        "# savemat('LowAccuracyConv2d_1MatrixMethod', mat_save) "
      ],
      "execution_count": 0,
      "outputs": []
    },
    {
      "metadata": {
        "id": "n7Xmu2bLaFZa",
        "colab_type": "code",
        "colab": {}
      },
      "cell_type": "code",
      "source": [
        ""
      ],
      "execution_count": 0,
      "outputs": []
    },
    {
      "metadata": {
        "id": "Lxf2mXCG8nW9",
        "colab_type": "text"
      },
      "cell_type": "markdown",
      "source": [
        ""
      ]
    },
    {
      "metadata": {
        "id": "t3vXkMPaaFWT",
        "colab_type": "code",
        "colab": {}
      },
      "cell_type": "code",
      "source": [
        ""
      ],
      "execution_count": 0,
      "outputs": []
    },
    {
      "metadata": {
        "id": "1WLuuRgeFImF",
        "colab_type": "code",
        "outputId": "d952f2e3-2582-4b00-e56c-f04702663abc",
        "colab": {
          "base_uri": "https://localhost:8080/",
          "height": 34
        }
      },
      "cell_type": "code",
      "source": [
        "sum(di_scores)"
      ],
      "execution_count": 44,
      "outputs": [
        {
          "output_type": "execute_result",
          "data": {
            "text/plain": [
              "38.141677749945984"
            ]
          },
          "metadata": {
            "tags": []
          },
          "execution_count": 44
        }
      ]
    },
    {
      "metadata": {
        "id": "w27VKTFQUI6d",
        "colab_type": "code",
        "outputId": "aad2ff98-f25d-4911-f78a-aabefc44e8b0",
        "colab": {
          "base_uri": "https://localhost:8080/",
          "height": 34
        }
      },
      "cell_type": "code",
      "source": [
        "max(di_scores)"
      ],
      "execution_count": 45,
      "outputs": [
        {
          "output_type": "execute_result",
          "data": {
            "text/plain": [
              "0.8258121827128675"
            ]
          },
          "metadata": {
            "tags": []
          },
          "execution_count": 45
        }
      ]
    },
    {
      "metadata": {
        "id": "8VzlOOa1YB0I",
        "colab_type": "code",
        "colab": {}
      },
      "cell_type": "code",
      "source": [
        "from scipy.io import savemat\n"
      ],
      "execution_count": 0,
      "outputs": []
    },
    {
      "metadata": {
        "id": "HDtz_epHYCT_",
        "colab_type": "code",
        "colab": {}
      },
      "cell_type": "code",
      "source": [
        ""
      ],
      "execution_count": 0,
      "outputs": []
    }
  ]
}