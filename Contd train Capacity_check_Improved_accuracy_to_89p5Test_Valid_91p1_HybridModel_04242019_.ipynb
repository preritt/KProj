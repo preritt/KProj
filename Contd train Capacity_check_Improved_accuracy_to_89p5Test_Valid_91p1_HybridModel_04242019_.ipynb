{
  "nbformat": 4,
  "nbformat_minor": 0,
  "metadata": {
    "colab": {
      "name": "Capacity check  Improved accuracy to 89p5Test Valid 91p1 HybridModel_04242019-.ipynb",
      "version": "0.3.2",
      "provenance": [],
      "collapsed_sections": [
        "kdTAcjYec3s7",
        "8rDrYIgZc20A",
        "dQQPlF6RdS2m",
        "ex0j41PLde2x",
        "Ssi32yj-d1iX",
        "U_0LHS-Xf7aN",
        "MQ5H0p_KjVCw",
        "DCCl7-vOfSZ9"
      ],
      "include_colab_link": true
    },
    "kernelspec": {
      "name": "python3",
      "display_name": "Python 3"
    },
    "accelerator": "GPU"
  },
  "cells": [
    {
      "cell_type": "markdown",
      "metadata": {
        "id": "view-in-github",
        "colab_type": "text"
      },
      "source": [
        "<a href=\"https://colab.research.google.com/github/preritt/KProj/blob/master/Contd%20train%20Capacity_check_Improved_accuracy_to_89p5Test_Valid_91p1_HybridModel_04242019_.ipynb\" target=\"_parent\"><img src=\"https://colab.research.google.com/assets/colab-badge.svg\" alt=\"Open In Colab\"/></a>"
      ]
    },
    {
      "metadata": {
        "id": "kdTAcjYec3s7",
        "colab_type": "text"
      },
      "cell_type": "markdown",
      "source": [
        "## Load standard libraries"
      ]
    },
    {
      "metadata": {
        "id": "oCo6LRTTcxmC",
        "colab_type": "code",
        "colab": {
          "base_uri": "https://localhost:8080/",
          "height": 54
        },
        "outputId": "0925df06-b9b9-42a9-96c2-93e70ce1cf72"
      },
      "cell_type": "code",
      "source": [
        "import keras\n",
        "from matplotlib import pyplot as plt\n",
        "import numpy as np\n",
        "import gzip\n",
        "%matplotlib inline\n",
        "from keras.models import Model\n",
        "from keras.optimizers import RMSprop\n",
        "from keras.layers import Input,Dense,Flatten,Dropout,merge,Reshape,Conv2D,MaxPooling2D,UpSampling2D,Conv2DTranspose\n",
        "from keras.layers.normalization import BatchNormalization\n",
        "from keras.models import Model,Sequential\n",
        "from keras.callbacks import ModelCheckpoint\n",
        "from keras.optimizers import Adadelta, RMSprop,SGD,Adam\n",
        "from keras import regularizers\n",
        "from keras import backend as K\n",
        "from keras.utils import to_categorical\n",
        "from keras.datasets import cifar10\n",
        "from sklearn import preprocessing\n",
        "from keras import losses\n",
        "from keras.models import model_from_json\n",
        "import keras\n",
        "from keras.models import Sequential\n",
        "from keras.utils import np_utils\n",
        "from keras.preprocessing.image import ImageDataGenerator\n",
        "from keras.layers import Dense, Activation, Flatten, Dropout, BatchNormalization\n",
        "from keras.layers import Conv2D, MaxPooling2D\n",
        "from keras.datasets import cifar10\n",
        "from keras import regularizers\n",
        "from keras.callbacks import LearningRateScheduler\n",
        "import numpy as np\n",
        "from sklearn.metrics import confusion_matrix\n",
        "from sklearn.model_selection import train_test_split\n",
        "from sklearn.utils import shuffle"
      ],
      "execution_count": 1,
      "outputs": [
        {
          "output_type": "stream",
          "text": [
            "Using TensorFlow backend.\n"
          ],
          "name": "stderr"
        }
      ]
    },
    {
      "metadata": {
        "id": "Sg_ZApCOPN9u",
        "colab_type": "code",
        "colab": {}
      },
      "cell_type": "code",
      "source": [
        "from keras.utils.vis_utils import plot_model\n"
      ],
      "execution_count": 0,
      "outputs": []
    },
    {
      "metadata": {
        "id": "oG3txkjndHWQ",
        "colab_type": "code",
        "colab": {}
      },
      "cell_type": "code",
      "source": [
        "keras.backend.clear_session()"
      ],
      "execution_count": 0,
      "outputs": []
    },
    {
      "metadata": {
        "id": "8rDrYIgZc20A",
        "colab_type": "text"
      },
      "cell_type": "markdown",
      "source": [
        "## Load image data"
      ]
    },
    {
      "metadata": {
        "id": "85Dlxs7adKVS",
        "colab_type": "code",
        "outputId": "9394cfe3-ee88-420b-fc89-02e9e3ebe900",
        "colab": {
          "base_uri": "https://localhost:8080/",
          "height": 371
        }
      },
      "cell_type": "code",
      "source": [
        "from matplotlib import pyplot\n",
        "from scipy.misc import toimage\n",
        "from keras.datasets import cifar10\n",
        "def show_imgs(X):\n",
        "    pyplot.figure(1)\n",
        "    k = 0\n",
        "    for i in range(0,4):\n",
        "        for j in range(0,4):\n",
        "            pyplot.subplot2grid((4,4),(i,j))\n",
        "            pyplot.imshow(toimage(X[k]))\n",
        "            k = k+1\n",
        "    # show the plot\n",
        "    pyplot.show()\n",
        " \n",
        "(x_train, y_train), (x_test, y_test) = cifar10.load_data()\n",
        "show_imgs(x_test[:16])\n"
      ],
      "execution_count": 4,
      "outputs": [
        {
          "output_type": "stream",
          "text": [
            "Downloading data from https://www.cs.toronto.edu/~kriz/cifar-10-python.tar.gz\n",
            "170500096/170498071 [==============================] - 49s 0us/step\n"
          ],
          "name": "stdout"
        },
        {
          "output_type": "stream",
          "text": [
            "/usr/local/lib/python3.6/dist-packages/ipykernel_launcher.py:10: DeprecationWarning: `toimage` is deprecated!\n",
            "`toimage` is deprecated in SciPy 1.0.0, and will be removed in 1.2.0.\n",
            "Use Pillow's ``Image.fromarray`` directly instead.\n",
            "  # Remove the CWD from sys.path while we load stuff.\n"
          ],
          "name": "stderr"
        },
        {
          "output_type": "display_data",
          "data": {
            "image/png": "[encoded data removed]",
            "text/plain": [
              "<Figure size 432x288 with 16 Axes>"
            ]
          },
          "metadata": {
            "tags": []
          }
        }
      ]
    },
    {
      "metadata": {
        "id": "dQQPlF6RdS2m",
        "colab_type": "text"
      },
      "cell_type": "markdown",
      "source": [
        "## Create Function to get data corresponding to three labels"
      ]
    },
    {
      "metadata": {
        "id": "GFyk3xzNdYNW",
        "colab_type": "code",
        "colab": {}
      },
      "cell_type": "code",
      "source": [
        "# This function takes the entire traaining data and test data and corresponding categorical label and returns the corresponding data in class indices\n",
        "def getThreeClassesTrainTest(class_indices,train_data,train_labels,test_data,test_labels):\n",
        "  all_train_data = []\n",
        "  all_train_data_label = []\n",
        "  all_test_data = []\n",
        "  all_test_data_label = []\n",
        "  for ind in class_indices:\n",
        "    this_class_location_train =  np.where(train_labels==ind)[0] # train_labels[train_labels == ind]\n",
        "    this_class_data_train = train_data[this_class_location_train,:]\n",
        "    this_class_data_train_label = train_labels[this_class_location_train]\n",
        "#     print(this_class_location_train)\n",
        "    \n",
        "    this_class_location_test = np.where(test_labels==ind)[0] #test_labels[test_labels == ind]\n",
        "    this_class_data_test = test_data[this_class_location_test,:]\n",
        "    this_class_data_test_label = test_labels[this_class_location_test]\n",
        "    \n",
        "    all_train_data.append(this_class_data_train)\n",
        "    all_test_data.append(this_class_data_test)\n",
        "    all_train_data_label.append(this_class_data_train_label)\n",
        "    all_test_data_label.append(this_class_data_test_label)\n",
        "    \n",
        "  train_data_three = all_train_data[0]\n",
        "  train_label_three = all_train_data_label[0]\n",
        "  test_data_three = all_test_data[0]\n",
        "  test_label_three = all_test_data_label[0]\n",
        "  \n",
        "  for j in range(1,len(class_indices)):\n",
        "    train_data_three = np.concatenate((train_data_three,all_train_data[j]))\n",
        "    train_label_three = np.concatenate((train_label_three,all_train_data_label[j]))\n",
        "\n",
        "    test_data_three = np.concatenate((test_data_three,all_test_data[j]))\n",
        "    test_label_three = np.concatenate((test_label_three,all_test_data_label[j]))\n",
        "#   print(train_label_three.shape)\n",
        "  train_label_three = np.reshape(train_label_three,newshape=(-1,))\n",
        "  test_label_three = np.reshape(test_label_three,newshape=(-1,))\n",
        "  return train_data_three, train_label_three, test_data_three,test_label_three"
      ],
      "execution_count": 0,
      "outputs": []
    },
    {
      "metadata": {
        "id": "ex0j41PLde2x",
        "colab_type": "text"
      },
      "cell_type": "markdown",
      "source": [
        "## Get data for three classes using getThreeClassesTrainTest function"
      ]
    },
    {
      "metadata": {
        "id": "IpqbOTfBdhHk",
        "colab_type": "code",
        "colab": {}
      },
      "cell_type": "code",
      "source": [
        "train_three_data,train_three_label,test_three_data,test_three_label = getThreeClassesTrainTest([ 0,3,5 ],x_train,y_train,x_test,y_test)"
      ],
      "execution_count": 0,
      "outputs": []
    },
    {
      "metadata": {
        "id": "9gK_tiIWd2Nf",
        "colab_type": "code",
        "outputId": "4a5d0483-6620-46e2-fc59-7478d2536b0e",
        "colab": {
          "base_uri": "https://localhost:8080/",
          "height": 357
        }
      },
      "cell_type": "code",
      "source": [
        "plt.hist(train_three_label)"
      ],
      "execution_count": 7,
      "outputs": [
        {
          "output_type": "execute_result",
          "data": {
            "text/plain": [
              "(array([5000.,    0.,    0.,    0.,    0.,    0., 5000.,    0.,    0.,\n",
              "        5000.]),\n",
              " array([0. , 0.5, 1. , 1.5, 2. , 2.5, 3. , 3.5, 4. , 4.5, 5. ]),\n",
              " <a list of 10 Patch objects>)"
            ]
          },
          "metadata": {
            "tags": []
          },
          "execution_count": 7
        },
        {
          "output_type": "display_data",
          "data": {
            "image/png": "[encoded data removed]",
            "text/plain": [
              "<Figure size 432x288 with 1 Axes>"
            ]
          },
          "metadata": {
            "tags": []
          }
        }
      ]
    },
    {
      "metadata": {
        "id": "AEYcIMeqd4i1",
        "colab_type": "code",
        "outputId": "51e7ae3e-c831-499e-d2fd-918b4845018a",
        "colab": {
          "base_uri": "https://localhost:8080/",
          "height": 357
        }
      },
      "cell_type": "code",
      "source": [
        "plt.hist(test_three_label)"
      ],
      "execution_count": 8,
      "outputs": [
        {
          "output_type": "execute_result",
          "data": {
            "text/plain": [
              "(array([1000.,    0.,    0.,    0.,    0.,    0., 1000.,    0.,    0.,\n",
              "        1000.]),\n",
              " array([0. , 0.5, 1. , 1.5, 2. , 2.5, 3. , 3.5, 4. , 4.5, 5. ]),\n",
              " <a list of 10 Patch objects>)"
            ]
          },
          "metadata": {
            "tags": []
          },
          "execution_count": 8
        },
        {
          "output_type": "display_data",
          "data": {
            "image/png": "[encoded data removed]",
            "text/plain": [
              "<Figure size 432x288 with 1 Axes>"
            ]
          },
          "metadata": {
            "tags": []
          }
        }
      ]
    },
    {
      "metadata": {
        "id": "z4n_WiMNd_Hf",
        "colab_type": "code",
        "colab": {}
      },
      "cell_type": "code",
      "source": [
        "train_three_data, train_three_label = shuffle(train_three_data, train_three_label )\n",
        "test_three_data,test_three_label = shuffle(test_three_data,test_three_label )"
      ],
      "execution_count": 0,
      "outputs": []
    },
    {
      "metadata": {
        "id": "VT_AKqQmeBk_",
        "colab_type": "code",
        "colab": {}
      },
      "cell_type": "code",
      "source": [
        "le = preprocessing.LabelEncoder()\n",
        "le.fit_transform(train_three_label)\n",
        "train_three_label_cat = le.transform(train_three_label)\n",
        "test_three_label_cat = le.transform(test_three_label)\n",
        "train_three_label_one_hot = to_categorical(train_three_label_cat)\n",
        "test_three_label_one_hot = to_categorical(test_three_label_cat)"
      ],
      "execution_count": 0,
      "outputs": []
    },
    {
      "metadata": {
        "id": "rWEjK_exeEaJ",
        "colab_type": "code",
        "colab": {}
      },
      "cell_type": "code",
      "source": [
        "# split train data and to create validation data\n",
        "train_X,valid_X,train_ground,valid_ground = train_test_split(train_three_data,\n",
        "                                                             train_three_label_one_hot,\n",
        "                                                             test_size=0.2,\n",
        "                                                             random_state=13)"
      ],
      "execution_count": 0,
      "outputs": []
    },
    {
      "metadata": {
        "id": "mOFKlZWKeH25",
        "colab_type": "code",
        "colab": {}
      },
      "cell_type": "code",
      "source": [
        "num_classes = test_three_label_one_hot.shape[1]"
      ],
      "execution_count": 0,
      "outputs": []
    },
    {
      "metadata": {
        "id": "Ssi32yj-d1iX",
        "colab_type": "text"
      },
      "cell_type": "markdown",
      "source": [
        "## Define the model"
      ]
    },
    {
      "metadata": {
        "id": "uUISHV2weN0t",
        "colab_type": "code",
        "colab": {}
      },
      "cell_type": "code",
      "source": [
        "x, y = 32, 32\n",
        "inChannel = 3\n",
        "input_img = Input(shape = (x, y, inChannel))\n",
        "ep = 10 \n",
        "weight_decay = 1e-4"
      ],
      "execution_count": 0,
      "outputs": []
    },
    {
      "metadata": {
        "id": "Ich0RbYnebwW",
        "colab_type": "code",
        "colab": {}
      },
      "cell_type": "code",
      "source": [
        "def cifar10Classifier(input_img):\n",
        "  \n",
        "  conv1 = (Conv2D(32, (3,3), padding='same', kernel_regularizer=regularizers.l2(weight_decay), input_shape=x_train.shape[1:], activation='elu'))(input_img)\n",
        "  conv1 = BatchNormalization()(conv1)\n",
        "  conv1 = (Conv2D(32, (3,3), padding='same', activation= 'elu',kernel_regularizer=regularizers.l2(weight_decay)))(conv1)\n",
        "  conv1 = BatchNormalization()(conv1)\n",
        "  pool1 = MaxPooling2D(pool_size=(2, 2))(conv1) #14 x 14 x 32\n",
        "  drop1= Dropout(.2)(pool1)\n",
        "\n",
        "  conv2 = (Conv2D(64, (3,3), padding='same', kernel_regularizer=regularizers.l2(weight_decay), activation='elu'))(drop1)\n",
        "  conv2 = BatchNormalization()(conv2)\n",
        "  conv2 = (Conv2D(64, (3,3), padding='same', activation= 'elu',kernel_regularizer=regularizers.l2(weight_decay)))(conv2)\n",
        "  conv2 = BatchNormalization()(conv2)\n",
        "  pool2 = MaxPooling2D(pool_size=(2, 2))(conv2) #14 x 14 x 32\n",
        "  drop2= Dropout(.3)(pool2)\n",
        "\n",
        "  conv3 = (Conv2D(128, (3,3), padding='same', kernel_regularizer=regularizers.l2(weight_decay), activation='elu'))(drop2)\n",
        "  conv3 = BatchNormalization()(conv3)\n",
        "  conv3 = (Conv2D(128, (3,3), padding='same', activation= 'elu',kernel_regularizer=regularizers.l2(weight_decay)))(conv3)\n",
        "  conv3 = BatchNormalization()(conv3)\n",
        "  pool3 = MaxPooling2D(pool_size=(2, 2))(conv3) #14 x 14 x 32\n",
        "  drop3= Dropout(.4)(pool3)\n",
        "\n",
        "  flat = Flatten()(drop3)\n",
        "  out = Dense(num_classes, activation='softmax')(flat)\n",
        "  \n",
        "  return out"
      ],
      "execution_count": 0,
      "outputs": []
    },
    {
      "metadata": {
        "id": "U_0LHS-Xf7aN",
        "colab_type": "text"
      },
      "cell_type": "markdown",
      "source": [
        "## Define functions for calculation of DI score\n",
        "getDIScoreOfLayer(layer_output, true_labels), \n",
        "getDIScoreOfLayerCNNLayer(cnn_outputs, true_labels)\n"
      ]
    },
    {
      "metadata": {
        "id": "xsLk-f7sf6zd",
        "colab_type": "code",
        "colab": {}
      },
      "cell_type": "code",
      "source": [
        "def getDIScoreOfLayer(layer_output, true_labels):\n",
        "  # computeScatterMatrix\n",
        "  rho = 1e-6\n",
        "  mu = layer_output.mean(axis=0)\n",
        "#   print(mu.shape)\n",
        "  mu = mu.reshape((1,-1))\n",
        "  centered_data = layer_output - mu\n",
        "  S_bar = np.matmul(centered_data.T,centered_data)\n",
        "  # compute between class matrix\n",
        "  total_classes = true_labels.max()\n",
        "  S_B = np.zeros(shape = (mu.shape[1],mu.shape[1]))\n",
        "  S_W = np.zeros(shape = (mu.shape[1],mu.shape[1]))\n",
        "  unique_classes = np.unique(true_labels)\n",
        "  unique_classes_list = np.ndarray.tolist(unique_classes)\n",
        "  for l in unique_classes_list:\n",
        "    class_l_index = np.where(true_labels == l)\n",
        "    class_l_output = layer_output[class_l_index[0],:]\n",
        "    mu_l = class_l_output.mean(axis=0)\n",
        "    mu_l = mu_l.reshape((1,-1))\n",
        "    total_examples_this_class = class_l_index[0].shape   \n",
        "    ss = mu_l - mu\n",
        "    S_B = S_B + total_examples_this_class*np.matmul((mu_l - mu).T,(mu_l - mu))\n",
        "\n",
        "  DI_Score = np.trace(np.matmul(np.linalg.inv(S_bar + rho*np.eye(S_bar.shape[0])),S_B))\n",
        "  return DI_Score"
      ],
      "execution_count": 0,
      "outputs": []
    },
    {
      "metadata": {
        "id": "ubrpaIpFgBzn",
        "colab_type": "code",
        "colab": {}
      },
      "cell_type": "code",
      "source": [
        "def getDIScoreOfLayerCNNLayer(cnn_outputs, true_labels):\n",
        "  # computeScatterMatrix\n",
        "  number_of_filters = cnn_outputs.shape[3]\n",
        "  cnn_di_scores = []\n",
        "  for filt in range(0,number_of_filters):\n",
        "    outputs_filter = cnn_outputs[:,:,:,filt]\n",
        "    outputs_filter_reshaped = np.reshape(outputs_filter, newshape=(cnn_outputs.shape[0],-1))\n",
        "    this_filter_score = getDIScoreOfLayer(outputs_filter_reshaped, true_labels)\n",
        "    cnn_di_scores.append(this_filter_score)\n",
        "  return cnn_di_scores"
      ],
      "execution_count": 0,
      "outputs": []
    },
    {
      "metadata": {
        "id": "MQ5H0p_KjVCw",
        "colab_type": "text"
      },
      "cell_type": "markdown",
      "source": [
        "## define a function to get and plot di score of a layer. It takes inputs - trained model, layer name to get DI scores and returns a plot with some statistics"
      ]
    },
    {
      "metadata": {
        "id": "o9MHI1LFjUZs",
        "colab_type": "code",
        "colab": {}
      },
      "cell_type": "code",
      "source": [
        "def createCNNLayerDIScorePlot(trained_model, layer_name, data_to_use = train_three_data , data_label =train_three_label ):\n",
        "  get_cnn1_output_function = K.function([trained_model.layers[0].input],\n",
        "                                  [trained_model.get_layer(layer_name).output])   #get_layer test_three_label\n",
        "  cnn1_output = get_cnn1_output_function([data_to_use])[0]\n",
        "  di_scores = getDIScoreOfLayerCNNLayer(cnn1_output, data_label)\n",
        "  # plot DI score\n",
        "  y_pos  = np.arange(len(di_scores))\n",
        "  plt.bar(y_pos, di_scores, align='center', alpha=0.5)\n",
        "  plt.xlabel('FilterNumber')\n",
        "  plt.ylabel('DI Score')\n",
        "\n",
        "  print('Mean of DI SCore: ',np.mean(di_scores))\n",
        "  print('STD of DI Score: ', np.std(di_scores))\n",
        "  print('MAX of DI Score: ', np.max(di_scores))\n",
        "  plt.title('DI score - Data - D_L, Network -N_L, Conv_6')\n",
        "#   plt.ylim([0,1])\n",
        "  return di_scores"
      ],
      "execution_count": 0,
      "outputs": []
    },
    {
      "metadata": {
        "id": "DCCl7-vOfSZ9",
        "colab_type": "text"
      },
      "cell_type": "markdown",
      "source": [
        "## load pretrained model"
      ]
    },
    {
      "metadata": {
        "id": "jqIkmDGkfRtD",
        "colab_type": "code",
        "outputId": "7f56f7a2-95ee-4659-facc-936748990823",
        "colab": {
          "base_uri": "https://localhost:8080/",
          "height": 190
        }
      },
      "cell_type": "code",
      "source": [
        "loaded_model_low_accuracy = keras.models.load_model('lowAccuracyModelData.h5')\n",
        "loaded_model_high_accuracy = keras.models.load_model('highAccuracyModelData.h5')\n"
      ],
      "execution_count": 18,
      "outputs": [
        {
          "output_type": "stream",
          "text": [
            "WARNING:tensorflow:From /usr/local/lib/python3.6/dist-packages/tensorflow/python/framework/op_def_library.py:263: colocate_with (from tensorflow.python.framework.ops) is deprecated and will be removed in a future version.\n",
            "Instructions for updating:\n",
            "Colocations handled automatically by placer.\n",
            "WARNING:tensorflow:From /usr/local/lib/python3.6/dist-packages/keras/backend/tensorflow_backend.py:3445: calling dropout (from tensorflow.python.ops.nn_ops) with keep_prob is deprecated and will be removed in a future version.\n",
            "Instructions for updating:\n",
            "Please use `rate` instead of `keep_prob`. Rate should be set to `rate = 1 - keep_prob`.\n",
            "WARNING:tensorflow:From /usr/local/lib/python3.6/dist-packages/tensorflow/python/ops/math_ops.py:3066: to_int32 (from tensorflow.python.ops.math_ops) is deprecated and will be removed in a future version.\n",
            "Instructions for updating:\n",
            "Use tf.cast instead.\n"
          ],
          "name": "stdout"
        }
      ]
    },
    {
      "metadata": {
        "id": "z7J98O5qfi8Z",
        "colab_type": "code",
        "outputId": "7a58e276-0408-447d-9ec8-c36960d7296d",
        "colab": {
          "base_uri": "https://localhost:8080/",
          "height": 54
        }
      },
      "cell_type": "code",
      "source": [
        "loaded_model_low_accuracy.evaluate(valid_X, valid_ground, verbose=0)"
      ],
      "execution_count": 0,
      "outputs": [
        {
          "output_type": "execute_result",
          "data": {
            "text/plain": [
              "[0.30999894126256305, 0.8993333333333333]"
            ]
          },
          "metadata": {
            "tags": []
          },
          "execution_count": 22
        }
      ]
    },
    {
      "metadata": {
        "id": "tzbIXvcEoNMj",
        "colab_type": "code",
        "outputId": "51518cf3-96e8-4646-ae3b-0f2c524dc4a2",
        "colab": {
          "base_uri": "https://localhost:8080/",
          "height": 870
        }
      },
      "cell_type": "code",
      "source": [
        "loaded_model_low_accuracy.summary()"
      ],
      "execution_count": 0,
      "outputs": [
        {
          "output_type": "stream",
          "text": [
            "_________________________________________________________________\n",
            "Layer (type)                 Output Shape              Param #   \n",
            "=================================================================\n",
            "input_1 (InputLayer)         (None, 32, 32, 3)         0         \n",
            "_________________________________________________________________\n",
            "conv2d_1 (Conv2D)            (None, 32, 32, 32)        896       \n",
            "_________________________________________________________________\n",
            "batch_normalization_1 (Batch (None, 32, 32, 32)        128       \n",
            "_________________________________________________________________\n",
            "conv2d_2 (Conv2D)            (None, 32, 32, 32)        9248      \n",
            "_________________________________________________________________\n",
            "batch_normalization_2 (Batch (None, 32, 32, 32)        128       \n",
            "_________________________________________________________________\n",
            "max_pooling2d_1 (MaxPooling2 (None, 16, 16, 32)        0         \n",
            "_________________________________________________________________\n",
            "dropout_1 (Dropout)          (None, 16, 16, 32)        0         \n",
            "_________________________________________________________________\n",
            "conv2d_3 (Conv2D)            (None, 16, 16, 64)        18496     \n",
            "_________________________________________________________________\n",
            "batch_normalization_3 (Batch (None, 16, 16, 64)        256       \n",
            "_________________________________________________________________\n",
            "conv2d_4 (Conv2D)            (None, 16, 16, 64)        36928     \n",
            "_________________________________________________________________\n",
            "batch_normalization_4 (Batch (None, 16, 16, 64)        256       \n",
            "_________________________________________________________________\n",
            "max_pooling2d_2 (MaxPooling2 (None, 8, 8, 64)          0         \n",
            "_________________________________________________________________\n",
            "dropout_2 (Dropout)          (None, 8, 8, 64)          0         \n",
            "_________________________________________________________________\n",
            "conv2d_5 (Conv2D)            (None, 8, 8, 128)         73856     \n",
            "_________________________________________________________________\n",
            "batch_normalization_5 (Batch (None, 8, 8, 128)         512       \n",
            "_________________________________________________________________\n",
            "conv2d_6 (Conv2D)            (None, 8, 8, 128)         147584    \n",
            "_________________________________________________________________\n",
            "batch_normalization_6 (Batch (None, 8, 8, 128)         512       \n",
            "_________________________________________________________________\n",
            "max_pooling2d_3 (MaxPooling2 (None, 4, 4, 128)         0         \n",
            "_________________________________________________________________\n",
            "dropout_3 (Dropout)          (None, 4, 4, 128)         0         \n",
            "_________________________________________________________________\n",
            "flatten_1 (Flatten)          (None, 2048)              0         \n",
            "_________________________________________________________________\n",
            "dense_1 (Dense)              (None, 3)                 6147      \n",
            "=================================================================\n",
            "Total params: 294,947\n",
            "Trainable params: 294,051\n",
            "Non-trainable params: 896\n",
            "_________________________________________________________________\n"
          ],
          "name": "stdout"
        }
      ]
    },
    {
      "metadata": {
        "id": "UijDrRL2khSY",
        "colab_type": "text"
      },
      "cell_type": "markdown",
      "source": [
        "## Create a plot for DI score using function createCNNLayerDIScorePlot()"
      ]
    },
    {
      "metadata": {
        "id": "Lyk2-GAGaPnV",
        "colab_type": "text"
      },
      "cell_type": "markdown",
      "source": [
        "#### On train data"
      ]
    },
    {
      "metadata": {
        "id": "zQYh3TElhl5R",
        "colab_type": "code",
        "outputId": "b78ac99a-6e6c-469a-a369-97a67306d7e9",
        "colab": {
          "base_uri": "https://localhost:8080/",
          "height": 346
        }
      },
      "cell_type": "code",
      "source": [
        "# now get DI score of a layer from high accuracy and low accuracy model\n",
        "layer_name = 'conv2d_2'\n",
        "discores_low_acc_model = createCNNLayerDIScorePlot(loaded_model_low_accuracy, layer_name)"
      ],
      "execution_count": 19,
      "outputs": [
        {
          "output_type": "stream",
          "text": [
            "Mean of DI SCore:  0.5925391774436748\n",
            "STD of DI Score:  0.05669778775839462\n",
            "MAX of DI Score:  0.6699797882972818\n"
          ],
          "name": "stdout"
        },
        {
          "output_type": "display_data",
          "data": {
            "image/png": "[encoded data removed]",
            "text/plain": [
              "<Figure size 432x288 with 1 Axes>"
            ]
          },
          "metadata": {
            "tags": []
          }
        }
      ]
    },
    {
      "metadata": {
        "id": "7B0fFH7NiOh_",
        "colab_type": "code",
        "outputId": "628657f2-6314-4304-ad0c-060ce51bb02c",
        "colab": {
          "base_uri": "https://localhost:8080/",
          "height": 346
        }
      },
      "cell_type": "code",
      "source": [
        "# now get DI score of a layer from high accuracy and low accuracy model\n",
        "layer_name = 'conv2d_2'\n",
        "\n",
        "discores_high_acc_model = createCNNLayerDIScorePlot(loaded_model_high_accuracy, layer_name)"
      ],
      "execution_count": 20,
      "outputs": [
        {
          "output_type": "stream",
          "text": [
            "Mean of DI SCore:  0.6055427520493157\n",
            "STD of DI Score:  0.045351438440107646\n",
            "MAX of DI Score:  0.7097901246332267\n"
          ],
          "name": "stdout"
        },
        {
          "output_type": "display_data",
          "data": {
            "image/png": "[encoded data removed]",
            "text/plain": [
              "<Figure size 432x288 with 1 Axes>"
            ]
          },
          "metadata": {
            "tags": []
          }
        }
      ]
    },
    {
      "metadata": {
        "id": "EHVud4ykeRn8",
        "colab_type": "text"
      },
      "cell_type": "markdown",
      "source": [
        "## Pick top 10 DI scores"
      ]
    },
    {
      "metadata": {
        "id": "8k5Ob6gWeQ94",
        "colab_type": "code",
        "colab": {}
      },
      "cell_type": "code",
      "source": [
        ""
      ],
      "execution_count": 0,
      "outputs": []
    },
    {
      "metadata": {
        "id": "TyI8gOZuftmZ",
        "colab_type": "code",
        "colab": {}
      },
      "cell_type": "code",
      "source": [
        ""
      ],
      "execution_count": 0,
      "outputs": []
    },
    {
      "metadata": {
        "id": "TjMoET8nasck",
        "colab_type": "text"
      },
      "cell_type": "markdown",
      "source": [
        "#### On validation data"
      ]
    },
    {
      "metadata": {
        "id": "cPKQgmyXbACY",
        "colab_type": "code",
        "colab": {}
      },
      "cell_type": "code",
      "source": [
        "valid_ground_actual = np.argmax(valid_ground, axis=1)\n",
        "# valid_ground_actual.shape\n",
        "# data_to_use = train_three_data , data_label =train_three_label"
      ],
      "execution_count": 0,
      "outputs": []
    },
    {
      "metadata": {
        "id": "nbg5-HKhaxxj",
        "colab_type": "code",
        "outputId": "0cefd3b7-fd95-40a5-8ca7-3ab339c9a769",
        "colab": {
          "base_uri": "https://localhost:8080/",
          "height": 346
        }
      },
      "cell_type": "code",
      "source": [
        "# now get DI score of a layer from high accuracy and low accuracy model\n",
        "layer_name = 'conv2d_2'\n",
        "discores_low_acc_model_valid = createCNNLayerDIScorePlot(loaded_model_low_accuracy,\n",
        "                                                   layer_name, data_to_use=valid_X, data_label=valid_ground_actual)"
      ],
      "execution_count": 0,
      "outputs": [
        {
          "output_type": "stream",
          "text": [
            "Mean of DI SCore:  1.0283991648798934\n",
            "STD of DI Score:  0.04766352471097197\n",
            "MAX of DI Score:  1.102371604561001\n"
          ],
          "name": "stdout"
        },
        {
          "output_type": "display_data",
          "data": {
            "image/png": "[encoded data removed]",
            "text/plain": [
              "<Figure size 432x288 with 1 Axes>"
            ]
          },
          "metadata": {
            "tags": []
          }
        }
      ]
    },
    {
      "metadata": {
        "id": "zaH4FbSFaxuc",
        "colab_type": "code",
        "outputId": "920ee807-4e04-4697-c9e4-18f57a228a60",
        "colab": {
          "base_uri": "https://localhost:8080/",
          "height": 346
        }
      },
      "cell_type": "code",
      "source": [
        "# now get DI score of a layer from high accuracy and low accuracy model\n",
        "layer_name = 'conv2d_2'\n",
        "\n",
        "discores_high_acc_model_valid = createCNNLayerDIScorePlot(loaded_model_high_accuracy,\n",
        "                                                   layer_name, data_to_use=valid_X, data_label=valid_ground_actual)"
      ],
      "execution_count": 0,
      "outputs": [
        {
          "output_type": "stream",
          "text": [
            "Mean of DI SCore:  1.0489336398135918\n",
            "STD of DI Score:  0.03772804064192905\n",
            "MAX of DI Score:  1.1368837585485827\n"
          ],
          "name": "stdout"
        },
        {
          "output_type": "display_data",
          "data": {
            "image/png": "[encoded data removed]",
            "text/plain": [
              "<Figure size 432x288 with 1 Axes>"
            ]
          },
          "metadata": {
            "tags": []
          }
        }
      ]
    },
    {
      "metadata": {
        "id": "vMpuiVdSf60g",
        "colab_type": "code",
        "outputId": "bc786a18-9a97-4dee-b40a-8ab13619d495",
        "colab": {
          "base_uri": "https://localhost:8080/",
          "height": 136
        }
      },
      "cell_type": "code",
      "source": [
        "np.sort(discores_high_acc_model)"
      ],
      "execution_count": 0,
      "outputs": [
        {
          "output_type": "execute_result",
          "data": {
            "text/plain": [
              "array([0.50778735, 0.51148141, 0.5316608 , 0.5503721 , 0.55231392,\n",
              "       0.55683133, 0.5754899 , 0.57891548, 0.58448689, 0.58936178,\n",
              "       0.58980302, 0.59096041, 0.59923165, 0.60396759, 0.6067217 ,\n",
              "       0.60815117, 0.60818232, 0.60875793, 0.61246232, 0.61911506,\n",
              "       0.62163669, 0.62485589, 0.62771089, 0.63252923, 0.63514822,\n",
              "       0.63617041, 0.64203204, 0.65381118, 0.65792124, 0.66861217,\n",
              "       0.68109371, 0.70979014])"
            ]
          },
          "metadata": {
            "tags": []
          },
          "execution_count": 26
        }
      ]
    },
    {
      "metadata": {
        "id": "UzN_W73aldFU",
        "colab_type": "code",
        "outputId": "98eb3fa6-c172-4b08-bb38-c6c3410c7580",
        "colab": {
          "base_uri": "https://localhost:8080/",
          "height": 34
        }
      },
      "cell_type": "code",
      "source": [
        "\n",
        "# (discores_high_acc_model)\n",
        "K = 10 # how many channels to pick\n",
        "high_acc_di_sorted = np.argsort(discores_high_acc_model)\n",
        "high_acc_di_sorted_list = np.ndarray.tolist(high_acc_di_sorted)\n",
        "top_channels = high_acc_di_sorted_list[-K:]\n",
        "top_channels"
      ],
      "execution_count": 21,
      "outputs": [
        {
          "output_type": "execute_result",
          "data": {
            "text/plain": [
              "[9, 25, 19, 29, 5, 7, 26, 28, 17, 23]"
            ]
          },
          "metadata": {
            "tags": []
          },
          "execution_count": 21
        }
      ]
    },
    {
      "metadata": {
        "id": "SD8nswMnxWVC",
        "colab_type": "code",
        "colab": {}
      },
      "cell_type": "code",
      "source": [
        "total_channels = len(discores_high_acc_model)\n",
        "# total_channels"
      ],
      "execution_count": 0,
      "outputs": []
    },
    {
      "metadata": {
        "id": "MsCtxzRVokuR",
        "colab_type": "code",
        "colab": {}
      },
      "cell_type": "code",
      "source": [
        "enable_training = True"
      ],
      "execution_count": 0,
      "outputs": []
    },
    {
      "metadata": {
        "id": "fJn40KQs_BnW",
        "colab_type": "code",
        "colab": {}
      },
      "cell_type": "code",
      "source": [
        "# # returns \n",
        "# def highAccuracyModelTillConv2(input_img): \n",
        "#   conv1_1 = (Conv2D(32, (3,3), padding='same',\n",
        "#                     kernel_regularizer=regularizers.l2(weight_decay), \n",
        "#                     input_shape=x_train.shape[1:], activation='elu', trainable = enable_training,\n",
        "#                     name = 'HighAccuracyConv1'))(input_img)\n",
        "#   conv1_2 = BatchNormalization(name = 'HighAccuracyBN1',\n",
        "#                               trainable = enable_training)(conv1_1)\n",
        "#   conv2_1 = (Conv2D(32, (3,3), padding='same', activation= 'elu',trainable = enable_training,\n",
        "#                     name = 'HighAccuracyConv2',kernel_regularizer=regularizers.l2(weight_decay)))(conv1_2)\n",
        "# #   conv2_2 = BatchNormalization(name = 'HighAccuracyBN2',\n",
        "# #                               trainable = enable_training)(conv2_1)  \n",
        "# #   create a mask\n",
        "#   # first swap axis and make channels the 0th dimension\n",
        "# #   swapped_conv2 = keras.backend.permute_dimensions(conv2_1, (3,1,2,0))\n",
        "#   masked = []\n",
        "#   for ch in range(0,total_channels):\n",
        "#     if ch in top_channels:\n",
        "#       m = False\n",
        "#     else:\n",
        "#       m = True \n",
        "#     masked.append(m)\n",
        "#   corrected_conv2 = tf.boolean_mask(conv2_1,mask = masked, axis=3)\n",
        "#   print(corrected_conv2.shape)\n",
        "# #   input_shape = swapped_conv2.get_shape().as_list()\n",
        "# #   print(swapped_conv2.shape)\n",
        "# #   masked_swapped_conv2 = tf.boolean_mask(swapped_conv2,mask = masked)\n",
        "# #   print(masked_swapped_conv2.shape)\n",
        "# #   corrected_conv2 = keras.backend.permute_dimensions(masked_swapped_conv2, (3,1,2,0))\n",
        "# #   print(masked) Masking(mask_value=0., input_shape=(5, 100))\n",
        "# #   swapped_conv2_masked = Lambda(lambda x: keras.backend.boolean_mask(swapped_conv2, mask = 3))(out)\n",
        "# #   masked_swapped_conv2 = keras.backend.manual_variable_initiali\n",
        "#   return corrected_conv2"
      ],
      "execution_count": 0,
      "outputs": []
    },
    {
      "metadata": {
        "id": "Sk_0a6JlFux5",
        "colab_type": "code",
        "colab": {}
      },
      "cell_type": "code",
      "source": [
        "# returns \n",
        "def highAccuracyModelTillConv2(input_img): \n",
        "  conv1_1 = (Conv2D(32, (3,3), padding='same',\n",
        "                    kernel_regularizer=regularizers.l2(weight_decay), \n",
        "                    input_shape=x_train.shape[1:], activation='elu', trainable = enable_training,\n",
        "                    name = 'HighAccuracyConv1'))(input_img)\n",
        "  conv1_2 = BatchNormalization(name = 'HighAccuracyBN1',\n",
        "                              trainable = enable_training)(conv1_1)\n",
        "  conv2_1 = (Conv2D(32, (3,3), padding='same', activation= 'elu',trainable = enable_training,\n",
        "                    name = 'HighAccuracyConv2',kernel_regularizer=regularizers.l2(weight_decay)))(conv1_2)\n",
        "#   conv2_2 = BatchNormalization(name = 'HighAccuracyBN2',\n",
        "#                               trainable = enable_training)(conv2_1)  \n",
        "  \n",
        "  return conv2_1"
      ],
      "execution_count": 0,
      "outputs": []
    },
    {
      "metadata": {
        "id": "OA-0pVGXvMeE",
        "colab_type": "code",
        "colab": {}
      },
      "cell_type": "code",
      "source": [
        "from keras.layers import Dense, Concatenate, Input, Lambda\n"
      ],
      "execution_count": 0,
      "outputs": []
    },
    {
      "metadata": {
        "id": "41smOd7GTX5c",
        "colab_type": "code",
        "colab": {}
      },
      "cell_type": "code",
      "source": [
        "import tensorflow as tf\n",
        "def cifar10ClassifierTransfer(input_img, conv2_high):\n",
        "  \n",
        "  # Add additional inputs to \n",
        "  \n",
        "  conv1_1 = (Conv2D(32, (3,3), padding='same',name = 'lowAccuracyModelConv1_1',\n",
        "                    trainable = enable_training, kernel_regularizer=regularizers.l2(weight_decay), input_shape=x_train.shape[1:], activation='elu'))(input_img)\n",
        "  conv1_2 = BatchNormalization(name = 'lowAccuracyModelBN1',\n",
        "                              trainable = enable_training)(conv1_1)\n",
        "  conv2_1 = (Conv2D(32, (3,3), padding='same',name = 'lowAccuracyModelConv2_1',\n",
        "                    trainable = enable_training, activation= 'elu',kernel_regularizer=regularizers.l2(weight_decay)))(conv1_2)\n",
        "  channels = top_channels\n",
        "  branch_outputs = []\n",
        "#   orig_channel = conv2_1\n",
        "  # create a mask here\n",
        "  branch_outputs.append(conv2_1)\n",
        "  for i in channels:\n",
        "      # Slicing the ith channel:\n",
        "      out = Lambda(lambda x: x[:,:,:, i])(conv2_high)      \n",
        "      # Setting up your per-channel layers (replace with actual sub-models):\n",
        "      layer_out = Lambda(lambda x: keras.backend.expand_dims(x, axis = 3))(out)\n",
        "      branch_outputs.append(layer_out)\n",
        "  merged = Concatenate()(branch_outputs)\n",
        "\n",
        "\n",
        "  conv2_2 = BatchNormalization()(merged)\n",
        "  pool2_3 = MaxPooling2D(pool_size=(2, 2))(conv2_2) #14 x 14 x 32\n",
        "  drop2_4= Dropout(.2)(pool2_3)\n",
        "\n",
        "  conv3_1 = (Conv2D(64, (3,3), padding='same', kernel_regularizer=regularizers.l2(weight_decay), activation='elu'))(drop2_4)\n",
        "  conv3_2 = BatchNormalization()(conv3_1)\n",
        "  conv4_1 = (Conv2D(64, (3,3), padding='same', activation= 'elu',kernel_regularizer=regularizers.l2(weight_decay)))(conv3_2)\n",
        "  conv4_2 = BatchNormalization()(conv4_1)\n",
        "  pool4_3 = MaxPooling2D(pool_size=(2, 2))(conv4_2) #14 x 14 x 32\n",
        "  drop4_4= Dropout(.3)(pool4_3)\n",
        "\n",
        "  conv5_1 = (Conv2D(128, (3,3), padding='same', kernel_regularizer=regularizers.l2(weight_decay), activation='elu'))(drop4_4)\n",
        "  conv5_2 = BatchNormalization()(conv5_1)\n",
        "  conv6_1 = (Conv2D(128, (3,3), padding='same', activation= 'elu',kernel_regularizer=regularizers.l2(weight_decay)))(conv5_2)\n",
        "  conv6_2 = BatchNormalization()(conv6_1)\n",
        "  pool6_3 = MaxPooling2D(pool_size=(2, 2))(conv6_2) #14 x 14 x 32\n",
        "  drop6_4= Dropout(.4)(pool6_3)\n",
        "\n",
        "  flat = Flatten()(drop6_4)\n",
        "  out = Dense(num_classes, activation='softmax')(flat)\n",
        "  \n",
        "  return out"
      ],
      "execution_count": 0,
      "outputs": []
    },
    {
      "metadata": {
        "id": "sf3PN5YIyba2",
        "colab_type": "code",
        "outputId": "fb62429e-5402-47e7-d1ff-ad8deec16927",
        "colab": {
          "base_uri": "https://localhost:8080/",
          "height": 34
        }
      },
      "cell_type": "code",
      "source": [
        "top_channels"
      ],
      "execution_count": 27,
      "outputs": [
        {
          "output_type": "execute_result",
          "data": {
            "text/plain": [
              "[9, 25, 19, 29, 5, 7, 26, 28, 17, 23]"
            ]
          },
          "metadata": {
            "tags": []
          },
          "execution_count": 27
        }
      ]
    },
    {
      "metadata": {
        "id": "fzUmKtVGFusU",
        "colab_type": "code",
        "outputId": "695bbade-7549-44fe-c755-888e845fbbc4",
        "colab": {
          "base_uri": "https://localhost:8080/",
          "height": 1836
        }
      },
      "cell_type": "code",
      "source": [
        "high_acc_output = highAccuracyModelTillConv2(input_img)\n",
        "modelFilt = Model(input_img, \n",
        "              cifar10ClassifierTransfer(input_img,\n",
        "              high_acc_output))\n",
        "#data augmentation\n",
        "datagen = ImageDataGenerator(\n",
        "    rotation_range=15,\n",
        "    width_shift_range=0.1,\n",
        "    height_shift_range=0.1,\n",
        "    horizontal_flip=True,\n",
        "    )\n",
        "datagen.fit(train_three_data)\n",
        " \n",
        "#training\n",
        "batch_size = 64\n",
        " \n",
        "opt_rms = keras.optimizers.rmsprop(lr=0.001,decay=1e-6)\n",
        "# model.compile(loss='categorical_crossentropy', optimizer=opt_rms, metrics=['accuracy'])\n",
        "\n",
        "modelFilt.compile(loss=losses.categorical_crossentropy, optimizer=opt_rms, metrics=['accuracy'])\n",
        "\n",
        "modelFilt.summary()\n",
        " "
      ],
      "execution_count": 33,
      "outputs": [
        {
          "output_type": "stream",
          "text": [
            "__________________________________________________________________________________________________\n",
            "Layer (type)                    Output Shape         Param #     Connected to                     \n",
            "==================================================================================================\n",
            "input_1 (InputLayer)            (None, 32, 32, 3)    0                                            \n",
            "__________________________________________________________________________________________________\n",
            "HighAccuracyConv1 (Conv2D)      (None, 32, 32, 32)   896         input_1[0][0]                    \n",
            "__________________________________________________________________________________________________\n",
            "HighAccuracyBN1 (BatchNormaliza (None, 32, 32, 32)   128         HighAccuracyConv1[0][0]          \n",
            "__________________________________________________________________________________________________\n",
            "lowAccuracyModelConv1_1 (Conv2D (None, 32, 32, 32)   896         input_1[0][0]                    \n",
            "__________________________________________________________________________________________________\n",
            "HighAccuracyConv2 (Conv2D)      (None, 32, 32, 32)   9248        HighAccuracyBN1[0][0]            \n",
            "__________________________________________________________________________________________________\n",
            "lowAccuracyModelBN1 (BatchNorma (None, 32, 32, 32)   128         lowAccuracyModelConv1_1[0][0]    \n",
            "__________________________________________________________________________________________________\n",
            "lambda_1 (Lambda)               (None, 32, 32)       0           HighAccuracyConv2[0][0]          \n",
            "__________________________________________________________________________________________________\n",
            "lambda_3 (Lambda)               (None, 32, 32)       0           HighAccuracyConv2[0][0]          \n",
            "__________________________________________________________________________________________________\n",
            "lambda_5 (Lambda)               (None, 32, 32)       0           HighAccuracyConv2[0][0]          \n",
            "__________________________________________________________________________________________________\n",
            "lambda_7 (Lambda)               (None, 32, 32)       0           HighAccuracyConv2[0][0]          \n",
            "__________________________________________________________________________________________________\n",
            "lambda_9 (Lambda)               (None, 32, 32)       0           HighAccuracyConv2[0][0]          \n",
            "__________________________________________________________________________________________________\n",
            "lambda_11 (Lambda)              (None, 32, 32)       0           HighAccuracyConv2[0][0]          \n",
            "__________________________________________________________________________________________________\n",
            "lambda_13 (Lambda)              (None, 32, 32)       0           HighAccuracyConv2[0][0]          \n",
            "__________________________________________________________________________________________________\n",
            "lambda_15 (Lambda)              (None, 32, 32)       0           HighAccuracyConv2[0][0]          \n",
            "__________________________________________________________________________________________________\n",
            "lambda_17 (Lambda)              (None, 32, 32)       0           HighAccuracyConv2[0][0]          \n",
            "__________________________________________________________________________________________________\n",
            "lambda_19 (Lambda)              (None, 32, 32)       0           HighAccuracyConv2[0][0]          \n",
            "__________________________________________________________________________________________________\n",
            "lowAccuracyModelConv2_1 (Conv2D (None, 32, 32, 32)   9248        lowAccuracyModelBN1[0][0]        \n",
            "__________________________________________________________________________________________________\n",
            "lambda_2 (Lambda)               (None, 32, 32, 1)    0           lambda_1[0][0]                   \n",
            "__________________________________________________________________________________________________\n",
            "lambda_4 (Lambda)               (None, 32, 32, 1)    0           lambda_3[0][0]                   \n",
            "__________________________________________________________________________________________________\n",
            "lambda_6 (Lambda)               (None, 32, 32, 1)    0           lambda_5[0][0]                   \n",
            "__________________________________________________________________________________________________\n",
            "lambda_8 (Lambda)               (None, 32, 32, 1)    0           lambda_7[0][0]                   \n",
            "__________________________________________________________________________________________________\n",
            "lambda_10 (Lambda)              (None, 32, 32, 1)    0           lambda_9[0][0]                   \n",
            "__________________________________________________________________________________________________\n",
            "lambda_12 (Lambda)              (None, 32, 32, 1)    0           lambda_11[0][0]                  \n",
            "__________________________________________________________________________________________________\n",
            "lambda_14 (Lambda)              (None, 32, 32, 1)    0           lambda_13[0][0]                  \n",
            "__________________________________________________________________________________________________\n",
            "lambda_16 (Lambda)              (None, 32, 32, 1)    0           lambda_15[0][0]                  \n",
            "__________________________________________________________________________________________________\n",
            "lambda_18 (Lambda)              (None, 32, 32, 1)    0           lambda_17[0][0]                  \n",
            "__________________________________________________________________________________________________\n",
            "lambda_20 (Lambda)              (None, 32, 32, 1)    0           lambda_19[0][0]                  \n",
            "__________________________________________________________________________________________________\n",
            "concatenate_1 (Concatenate)     (None, 32, 32, 42)   0           lowAccuracyModelConv2_1[0][0]    \n",
            "                                                                 lambda_2[0][0]                   \n",
            "                                                                 lambda_4[0][0]                   \n",
            "                                                                 lambda_6[0][0]                   \n",
            "                                                                 lambda_8[0][0]                   \n",
            "                                                                 lambda_10[0][0]                  \n",
            "                                                                 lambda_12[0][0]                  \n",
            "                                                                 lambda_14[0][0]                  \n",
            "                                                                 lambda_16[0][0]                  \n",
            "                                                                 lambda_18[0][0]                  \n",
            "                                                                 lambda_20[0][0]                  \n",
            "__________________________________________________________________________________________________\n",
            "batch_normalization_1 (BatchNor (None, 32, 32, 42)   168         concatenate_1[0][0]              \n",
            "__________________________________________________________________________________________________\n",
            "max_pooling2d_1 (MaxPooling2D)  (None, 16, 16, 42)   0           batch_normalization_1[0][0]      \n",
            "__________________________________________________________________________________________________\n",
            "dropout_1 (Dropout)             (None, 16, 16, 42)   0           max_pooling2d_1[0][0]            \n",
            "__________________________________________________________________________________________________\n",
            "conv2d_1 (Conv2D)               (None, 16, 16, 64)   24256       dropout_1[0][0]                  \n",
            "__________________________________________________________________________________________________\n",
            "batch_normalization_2 (BatchNor (None, 16, 16, 64)   256         conv2d_1[0][0]                   \n",
            "__________________________________________________________________________________________________\n",
            "conv2d_2 (Conv2D)               (None, 16, 16, 64)   36928       batch_normalization_2[0][0]      \n",
            "__________________________________________________________________________________________________\n",
            "batch_normalization_3 (BatchNor (None, 16, 16, 64)   256         conv2d_2[0][0]                   \n",
            "__________________________________________________________________________________________________\n",
            "max_pooling2d_2 (MaxPooling2D)  (None, 8, 8, 64)     0           batch_normalization_3[0][0]      \n",
            "__________________________________________________________________________________________________\n",
            "dropout_2 (Dropout)             (None, 8, 8, 64)     0           max_pooling2d_2[0][0]            \n",
            "__________________________________________________________________________________________________\n",
            "conv2d_3 (Conv2D)               (None, 8, 8, 128)    73856       dropout_2[0][0]                  \n",
            "__________________________________________________________________________________________________\n",
            "batch_normalization_4 (BatchNor (None, 8, 8, 128)    512         conv2d_3[0][0]                   \n",
            "__________________________________________________________________________________________________\n",
            "conv2d_4 (Conv2D)               (None, 8, 8, 128)    147584      batch_normalization_4[0][0]      \n",
            "__________________________________________________________________________________________________\n",
            "batch_normalization_5 (BatchNor (None, 8, 8, 128)    512         conv2d_4[0][0]                   \n",
            "__________________________________________________________________________________________________\n",
            "max_pooling2d_3 (MaxPooling2D)  (None, 4, 4, 128)    0           batch_normalization_5[0][0]      \n",
            "__________________________________________________________________________________________________\n",
            "dropout_3 (Dropout)             (None, 4, 4, 128)    0           max_pooling2d_3[0][0]            \n",
            "__________________________________________________________________________________________________\n",
            "flatten_1 (Flatten)             (None, 2048)         0           dropout_3[0][0]                  \n",
            "__________________________________________________________________________________________________\n",
            "dense_1 (Dense)                 (None, 3)            6147        flatten_1[0][0]                  \n",
            "==================================================================================================\n",
            "Total params: 311,019\n",
            "Trainable params: 310,039\n",
            "Non-trainable params: 980\n",
            "__________________________________________________________________________________________________\n"
          ],
          "name": "stdout"
        }
      ]
    },
    {
      "metadata": {
        "id": "WE7b72OOFups",
        "colab_type": "code",
        "colab": {}
      },
      "cell_type": "code",
      "source": [
        "plot_model(modelFilt, to_file=\"FiltModel.png\", show_shapes=True, show_layer_names=True)"
      ],
      "execution_count": 0,
      "outputs": []
    },
    {
      "metadata": {
        "id": "_lY9fuSspeIA",
        "colab_type": "code",
        "outputId": "f1cc3092-fec2-436b-9ecf-bf85ccee3919",
        "colab": {
          "base_uri": "https://localhost:8080/",
          "height": 850
        }
      },
      "cell_type": "code",
      "source": [
        "# set weights again\n",
        "loaded_model_low_accuracy.summary()"
      ],
      "execution_count": 35,
      "outputs": [
        {
          "output_type": "stream",
          "text": [
            "_________________________________________________________________\n",
            "Layer (type)                 Output Shape              Param #   \n",
            "=================================================================\n",
            "input_1 (InputLayer)         (None, 32, 32, 3)         0         \n",
            "_________________________________________________________________\n",
            "conv2d_1 (Conv2D)            (None, 32, 32, 32)        896       \n",
            "_________________________________________________________________\n",
            "batch_normalization_1 (Batch (None, 32, 32, 32)        128       \n",
            "_________________________________________________________________\n",
            "conv2d_2 (Conv2D)            (None, 32, 32, 32)        9248      \n",
            "_________________________________________________________________\n",
            "batch_normalization_2 (Batch (None, 32, 32, 32)        128       \n",
            "_________________________________________________________________\n",
            "max_pooling2d_1 (MaxPooling2 (None, 16, 16, 32)        0         \n",
            "_________________________________________________________________\n",
            "dropout_1 (Dropout)          (None, 16, 16, 32)        0         \n",
            "_________________________________________________________________\n",
            "conv2d_3 (Conv2D)            (None, 16, 16, 64)        18496     \n",
            "_________________________________________________________________\n",
            "batch_normalization_3 (Batch (None, 16, 16, 64)        256       \n",
            "_________________________________________________________________\n",
            "conv2d_4 (Conv2D)            (None, 16, 16, 64)        36928     \n",
            "_________________________________________________________________\n",
            "batch_normalization_4 (Batch (None, 16, 16, 64)        256       \n",
            "_________________________________________________________________\n",
            "max_pooling2d_2 (MaxPooling2 (None, 8, 8, 64)          0         \n",
            "_________________________________________________________________\n",
            "dropout_2 (Dropout)          (None, 8, 8, 64)          0         \n",
            "_________________________________________________________________\n",
            "conv2d_5 (Conv2D)            (None, 8, 8, 128)         73856     \n",
            "_________________________________________________________________\n",
            "batch_normalization_5 (Batch (None, 8, 8, 128)         512       \n",
            "_________________________________________________________________\n",
            "conv2d_6 (Conv2D)            (None, 8, 8, 128)         147584    \n",
            "_________________________________________________________________\n",
            "batch_normalization_6 (Batch (None, 8, 8, 128)         512       \n",
            "_________________________________________________________________\n",
            "max_pooling2d_3 (MaxPooling2 (None, 4, 4, 128)         0         \n",
            "_________________________________________________________________\n",
            "dropout_3 (Dropout)          (None, 4, 4, 128)         0         \n",
            "_________________________________________________________________\n",
            "flatten_1 (Flatten)          (None, 2048)              0         \n",
            "_________________________________________________________________\n",
            "dense_1 (Dense)              (None, 3)                 6147      \n",
            "=================================================================\n",
            "Total params: 294,947\n",
            "Trainable params: 294,051\n",
            "Non-trainable params: 896\n",
            "_________________________________________________________________\n"
          ],
          "name": "stdout"
        }
      ]
    },
    {
      "metadata": {
        "id": "5-yqdp6_rQkI",
        "colab_type": "code",
        "outputId": "7d39ef38-bd51-4df5-981c-7501dee0d542",
        "colab": {
          "base_uri": "https://localhost:8080/",
          "height": 850
        }
      },
      "cell_type": "code",
      "source": [
        "loaded_model_high_accuracy.summary()"
      ],
      "execution_count": 0,
      "outputs": [
        {
          "output_type": "stream",
          "text": [
            "_________________________________________________________________\n",
            "Layer (type)                 Output Shape              Param #   \n",
            "=================================================================\n",
            "input_1 (InputLayer)         (None, 32, 32, 3)         0         \n",
            "_________________________________________________________________\n",
            "conv2d_1 (Conv2D)            (None, 32, 32, 32)        896       \n",
            "_________________________________________________________________\n",
            "batch_normalization_1 (Batch (None, 32, 32, 32)        128       \n",
            "_________________________________________________________________\n",
            "conv2d_2 (Conv2D)            (None, 32, 32, 32)        9248      \n",
            "_________________________________________________________________\n",
            "batch_normalization_2 (Batch (None, 32, 32, 32)        128       \n",
            "_________________________________________________________________\n",
            "max_pooling2d_1 (MaxPooling2 (None, 16, 16, 32)        0         \n",
            "_________________________________________________________________\n",
            "dropout_1 (Dropout)          (None, 16, 16, 32)        0         \n",
            "_________________________________________________________________\n",
            "conv2d_3 (Conv2D)            (None, 16, 16, 64)        18496     \n",
            "_________________________________________________________________\n",
            "batch_normalization_3 (Batch (None, 16, 16, 64)        256       \n",
            "_________________________________________________________________\n",
            "conv2d_4 (Conv2D)            (None, 16, 16, 64)        36928     \n",
            "_________________________________________________________________\n",
            "batch_normalization_4 (Batch (None, 16, 16, 64)        256       \n",
            "_________________________________________________________________\n",
            "max_pooling2d_2 (MaxPooling2 (None, 8, 8, 64)          0         \n",
            "_________________________________________________________________\n",
            "dropout_2 (Dropout)          (None, 8, 8, 64)          0         \n",
            "_________________________________________________________________\n",
            "conv2d_5 (Conv2D)            (None, 8, 8, 128)         73856     \n",
            "_________________________________________________________________\n",
            "batch_normalization_5 (Batch (None, 8, 8, 128)         512       \n",
            "_________________________________________________________________\n",
            "conv2d_6 (Conv2D)            (None, 8, 8, 128)         147584    \n",
            "_________________________________________________________________\n",
            "batch_normalization_6 (Batch (None, 8, 8, 128)         512       \n",
            "_________________________________________________________________\n",
            "max_pooling2d_3 (MaxPooling2 (None, 4, 4, 128)         0         \n",
            "_________________________________________________________________\n",
            "dropout_3 (Dropout)          (None, 4, 4, 128)         0         \n",
            "_________________________________________________________________\n",
            "flatten_1 (Flatten)          (None, 2048)              0         \n",
            "_________________________________________________________________\n",
            "dense_1 (Dense)              (None, 3)                 6147      \n",
            "=================================================================\n",
            "Total params: 294,947\n",
            "Trainable params: 294,051\n",
            "Non-trainable params: 896\n",
            "_________________________________________________________________\n"
          ],
          "name": "stdout"
        }
      ]
    },
    {
      "metadata": {
        "id": "8GkUnIIAqH0k",
        "colab_type": "text"
      },
      "cell_type": "markdown",
      "source": [
        "## set predetermined weights"
      ]
    },
    {
      "metadata": {
        "id": "nKVw7k8QLwoQ",
        "colab_type": "code",
        "outputId": "bad7ac46-dbff-456f-be3e-0b1caedcadff",
        "colab": {
          "base_uri": "https://localhost:8080/",
          "height": 34
        }
      },
      "cell_type": "code",
      "source": [
        "top_channels"
      ],
      "execution_count": 0,
      "outputs": [
        {
          "output_type": "execute_result",
          "data": {
            "text/plain": [
              "[9, 25, 19, 29, 5, 7, 26, 28, 17, 23]"
            ]
          },
          "metadata": {
            "tags": []
          },
          "execution_count": 38
        }
      ]
    },
    {
      "metadata": {
        "id": "5hWcRyTNtaXW",
        "colab_type": "code",
        "outputId": "4e8c506d-9171-40bb-d5fe-d74180105d98",
        "colab": {
          "base_uri": "https://localhost:8080/",
          "height": 34
        }
      },
      "cell_type": "code",
      "source": [
        "top_channels"
      ],
      "execution_count": 0,
      "outputs": [
        {
          "output_type": "execute_result",
          "data": {
            "text/plain": [
              "[9, 25, 19, 29, 5, 7, 26, 28, 17, 23]"
            ]
          },
          "metadata": {
            "tags": []
          },
          "execution_count": 39
        }
      ]
    },
    {
      "metadata": {
        "id": "Q1qLv08GEv5Q",
        "colab_type": "code",
        "colab": {}
      },
      "cell_type": "code",
      "source": [
        "# temp_weights[:,:,:,11]\n",
        "# modelFilt.get_layer('lowAccuracyModelConv1_1')"
      ],
      "execution_count": 0,
      "outputs": []
    },
    {
      "metadata": {
        "id": "vwuN8V9wJy4_",
        "colab_type": "code",
        "outputId": "a98dc0db-ec02-4d3d-f011-7f0c62830db5",
        "colab": {
          "base_uri": "https://localhost:8080/",
          "height": 34
        }
      },
      "cell_type": "code",
      "source": [
        "modelFilt.layers[28]"
      ],
      "execution_count": 0,
      "outputs": [
        {
          "output_type": "execute_result",
          "data": {
            "text/plain": [
              "<keras.layers.normalization.BatchNormalization at 0x7f410a81c400>"
            ]
          },
          "metadata": {
            "tags": []
          },
          "execution_count": 48
        }
      ]
    },
    {
      "metadata": {
        "id": "24vLwQTJqHgc",
        "colab_type": "code",
        "colab": {}
      },
      "cell_type": "code",
      "source": [
        "# modelFilt.layers[1].set_weights(loaded_model_low_accuracy.layers[1].get_weights())"
      ],
      "execution_count": 0,
      "outputs": []
    },
    {
      "metadata": {
        "id": "Bn5PhIlAqd8k",
        "colab_type": "code",
        "colab": {}
      },
      "cell_type": "code",
      "source": [
        "# layer_output = model.get_layer('vgg16').get_layer('block3_conv1').output\n",
        "\n",
        "# 28\n",
        "# loaded_model_low_accuracy.layers[1].get_weights()\n",
        "# loaded_model_low_accuracy.layers[0].get_weights()"
      ],
      "execution_count": 0,
      "outputs": []
    },
    {
      "metadata": {
        "id": "ASwQ6dQskQlv",
        "colab_type": "code",
        "colab": {}
      },
      "cell_type": "code",
      "source": [
        "# layer_dict_model_filt = dict([(layer.name, layer) for layer in modelFilt.layers])\n",
        "# layer_dict_model_filt['lowAccuracyModelConv1_1'].set_weights(loaded_model_low_accuracy['conv2d_1'].get_weights())"
      ],
      "execution_count": 0,
      "outputs": []
    },
    {
      "metadata": {
        "id": "SPmn-PX7kYYa",
        "colab_type": "code",
        "colab": {}
      },
      "cell_type": "code",
      "source": [
        "# weights_model_filt[0].shape"
      ],
      "execution_count": 0,
      "outputs": []
    },
    {
      "metadata": {
        "id": "CxwLbMxCjrpy",
        "colab_type": "code",
        "colab": {}
      },
      "cell_type": "code",
      "source": [
        "# modelFilt.get_layer('HighAccuracyConv1').ge"
      ],
      "execution_count": 0,
      "outputs": []
    },
    {
      "metadata": {
        "id": "59a_w_uXjkOl",
        "colab_type": "code",
        "colab": {}
      },
      "cell_type": "code",
      "source": [
        "# get_cnn1_output_function = K.function([trained_model.layers[0].input],\n",
        "#                                 [trained_model.get_layer(layer_name).output])   #get_layer test_three_label\n",
        "# cnn1_output = get_cnn1_output_function([data_to_use])[0]"
      ],
      "execution_count": 0,
      "outputs": []
    },
    {
      "metadata": {
        "id": "M48EuB2YpeEq",
        "colab_type": "code",
        "colab": {}
      },
      "cell_type": "code",
      "source": [
        "# modelFilt.layers[1].set_weights(loaded_model_low_accuracy.layers[1].get_weights())\n",
        "# modelFilt.layers[3].set_weights(loaded_model_low_accuracy.layers[2].get_weights())\n",
        "# modelFilt.layers[5].set_weights(loaded_model_low_accuracy.layers[3].get_weights())\n",
        "\n",
        "\n",
        "# modelFilt.layers[2].set_weights(loaded_model_high_accuracy.layers[1].get_weights())\n",
        "# modelFilt.layers[4].set_weights(loaded_model_high_accuracy.layers[2].get_weights())\n",
        "# modelFilt.layers[6].set_weights(loaded_model_high_accuracy.layers[3].get_weights())"
      ],
      "execution_count": 0,
      "outputs": []
    },
    {
      "metadata": {
        "id": "-2wj7j0_v8uR",
        "colab_type": "code",
        "colab": {}
      },
      "cell_type": "code",
      "source": [
        "# modelFilt.layers[2].set_weights(loaded_model_low_accuracy.layers[1].get_weights())\n",
        "# modelFilt.layers[4].set_weights(loaded_model_low_accuracy.layers[2].get_weights())\n",
        "# modelFilt.layers[6].set_weights(loaded_model_low_accuracy.layers[3].get_weights())\n",
        "\n",
        "\n",
        "# modelFilt.layers[1].set_weights(loaded_model_low_accuracy.layers[1].get_weights())\n",
        "# modelFilt.layers[3].set_weights(loaded_model_low_accuracy.layers[2].get_weights())\n",
        "# modelFilt.layers[5].set_weights(loaded_model_low_accuracy.layers[3].get_weights())"
      ],
      "execution_count": 0,
      "outputs": []
    },
    {
      "metadata": {
        "id": "NrTPnsVBtX05",
        "colab_type": "code",
        "colab": {}
      },
      "cell_type": "code",
      "source": [
        "# layer_dict_modelFilt['conv2d_1'].set_weights(loaded_model_low_accuracy.layers[1].get_weights())\n",
        "# layer_dict_modelFilt['batch_normalization_5'].set_weights(loaded_model_low_accuracy.layers[2].get_weights())\n",
        "# layer_dict_modelFilt['conv2d_2'].set_weights(loaded_model_low_accuracy.layers[3].get_weights())\n",
        "\n",
        "\n",
        "# layer_dict_modelFilt['HighAccuracyConv1'].set_weights(loaded_model_low_accuracy.layers[1].get_weights())\n",
        "# layer_dict_modelFilt['batch_normalization_3'].set_weights(loaded_model_low_accuracy.layers[2].get_weights())\n",
        "# layer_dict_modelFilt['HighAccuracyConv2'].set_weights(loaded_model_low_accuracy.layers[3].get_weights())"
      ],
      "execution_count": 0,
      "outputs": []
    },
    {
      "metadata": {
        "id": "y3pdihEIpeB2",
        "colab_type": "code",
        "colab": {}
      },
      "cell_type": "code",
      "source": [
        ""
      ],
      "execution_count": 0,
      "outputs": []
    },
    {
      "metadata": {
        "id": "a0b4AZgQFum1",
        "colab_type": "code",
        "colab": {}
      },
      "cell_type": "code",
      "source": [
        "# # set weights of some of the layers and make it non trainable!\n",
        "# layer_dict_low = dict([(layer.name, layer) for layer in loaded_model_low_accuracy.layers])\n",
        "# layer_dict_modelFilt = dict([(layer.name, layer) for layer in modelFilt.layers])\n",
        "\n",
        "\n"
      ],
      "execution_count": 0,
      "outputs": []
    },
    {
      "metadata": {
        "id": "o-nabstBFukL",
        "colab_type": "code",
        "colab": {}
      },
      "cell_type": "code",
      "source": [
        "# weights_low_conv2d1 = layer_dict_low['conv2d_1'].get_weights()\n",
        "# layer_dict_modelFilt['conv2d_1'].set_weights(weights_low_conv2d1)\n",
        "\n",
        "# weights_low_bn1 = layer_dict_low['batch_normalization_1'].get_weights()\n",
        "# layer_dict_modelFilt['batch_normalization_5'].set_weights(weights_low_bn1)\n",
        "\n",
        "# weights_low_conv2d_2 = layer_dict_low['conv2d_2'].get_weights()\n",
        "# layer_dict_modelFilt['conv2d_2'].set_weights(weights_low_conv2d_2)\n",
        "\n",
        "# modelFilt.layers[1].set_weights(weights_low_conv2d1)"
      ],
      "execution_count": 0,
      "outputs": []
    },
    {
      "metadata": {
        "id": "7OoELuuikAn6",
        "colab_type": "code",
        "colab": {}
      },
      "cell_type": "code",
      "source": [
        "# modelFilt"
      ],
      "execution_count": 0,
      "outputs": []
    },
    {
      "metadata": {
        "id": "wTCdHBwFZ4at",
        "colab_type": "code",
        "colab": {}
      },
      "cell_type": "code",
      "source": [
        "# set weights of some of the layers and make it non trainable!\n",
        "# layer_dict_high= dict([(layer.name, layer) for layer in loaded_model_high_accuracy.layers])\n",
        "# layer_dict_modelFilt = dict([(layer.name, layer) for layer in modelFilt.layers])"
      ],
      "execution_count": 0,
      "outputs": []
    },
    {
      "metadata": {
        "id": "UXkQ68OyZnI1",
        "colab_type": "code",
        "colab": {}
      },
      "cell_type": "code",
      "source": [
        "# weights_highconv2d1 = layer_dict_high['conv2d_1'].get_weights()\n",
        "# layer_dict_modelFilt['HighAccuracyConv1'].set_weights(weights_highconv2d1)\n",
        "\n",
        "# weights_high_bn1 = layer_dict_high['batch_normalization_1'].get_weights()\n",
        "# layer_dict_modelFilt['batch_normalization_3'].set_weights(weights_high_bn1)\n",
        "\n",
        "# weights_high_conv2d_2 = layer_dict_high['conv2d_2'].get_weights()\n",
        "# layer_dict_modelFilt['HighAccuracyConv2'].set_weights(weights_low_conv2d_2)\n",
        "# ### need to modify and zero put non redundant weights"
      ],
      "execution_count": 0,
      "outputs": []
    },
    {
      "metadata": {
        "id": "Y781xnnuorld",
        "colab_type": "code",
        "colab": {}
      },
      "cell_type": "code",
      "source": [
        "# weights_highconv2d1"
      ],
      "execution_count": 0,
      "outputs": []
    },
    {
      "metadata": {
        "id": "at5JqaEWojaV",
        "colab_type": "code",
        "colab": {}
      },
      "cell_type": "code",
      "source": [
        "# layer_dict_modelFilt['HighAccuracyConv1'].get_weights()"
      ],
      "execution_count": 0,
      "outputs": []
    },
    {
      "metadata": {
        "id": "wm5P4A9EY0th",
        "colab_type": "code",
        "colab": {}
      },
      "cell_type": "code",
      "source": [
        "# loaded_model_low_accuracy.summary()"
      ],
      "execution_count": 0,
      "outputs": []
    },
    {
      "metadata": {
        "id": "Lm7AFEZibLP9",
        "colab_type": "code",
        "colab": {}
      },
      "cell_type": "code",
      "source": [
        "# modelFilt.layers"
      ],
      "execution_count": 0,
      "outputs": []
    },
    {
      "metadata": {
        "id": "jKdEeJCdzLNt",
        "colab_type": "code",
        "colab": {}
      },
      "cell_type": "code",
      "source": [
        "# s = -1\n",
        "# for layer in modelFilt.layers[0:7]:\n",
        "#     s = s+1\n",
        "#     if (s%2) !=0:\n",
        "#       print(s)\n",
        "#       print(layer)\n",
        "#     layer.trainable = False"
      ],
      "execution_count": 0,
      "outputs": []
    },
    {
      "metadata": {
        "id": "Uk2JwzAGbCj0",
        "colab_type": "code",
        "colab": {}
      },
      "cell_type": "code",
      "source": [
        "# s = -1\n",
        "# for layer in modelFilt.layers[0:7]:\n",
        "#     s = s+1\n",
        "#     if (s%2) !=0:\n",
        "#       print(s)\n",
        "#       print(layer)\n",
        "#       layer.trainable = False"
      ],
      "execution_count": 0,
      "outputs": []
    },
    {
      "metadata": {
        "id": "knA2xBI4jrZF",
        "colab_type": "code",
        "outputId": "2f9a6a66-f5fd-4b93-c6fa-27d843f2fcad",
        "colab": {
          "base_uri": "https://localhost:8080/",
          "height": 850
        }
      },
      "cell_type": "code",
      "source": [
        "loaded_model_low_accuracy.summary()"
      ],
      "execution_count": 0,
      "outputs": [
        {
          "output_type": "stream",
          "text": [
            "_________________________________________________________________\n",
            "Layer (type)                 Output Shape              Param #   \n",
            "=================================================================\n",
            "input_1 (InputLayer)         (None, 32, 32, 3)         0         \n",
            "_________________________________________________________________\n",
            "conv2d_1 (Conv2D)            (None, 32, 32, 32)        896       \n",
            "_________________________________________________________________\n",
            "batch_normalization_1 (Batch (None, 32, 32, 32)        128       \n",
            "_________________________________________________________________\n",
            "conv2d_2 (Conv2D)            (None, 32, 32, 32)        9248      \n",
            "_________________________________________________________________\n",
            "batch_normalization_2 (Batch (None, 32, 32, 32)        128       \n",
            "_________________________________________________________________\n",
            "max_pooling2d_1 (MaxPooling2 (None, 16, 16, 32)        0         \n",
            "_________________________________________________________________\n",
            "dropout_1 (Dropout)          (None, 16, 16, 32)        0         \n",
            "_________________________________________________________________\n",
            "conv2d_3 (Conv2D)            (None, 16, 16, 64)        18496     \n",
            "_________________________________________________________________\n",
            "batch_normalization_3 (Batch (None, 16, 16, 64)        256       \n",
            "_________________________________________________________________\n",
            "conv2d_4 (Conv2D)            (None, 16, 16, 64)        36928     \n",
            "_________________________________________________________________\n",
            "batch_normalization_4 (Batch (None, 16, 16, 64)        256       \n",
            "_________________________________________________________________\n",
            "max_pooling2d_2 (MaxPooling2 (None, 8, 8, 64)          0         \n",
            "_________________________________________________________________\n",
            "dropout_2 (Dropout)          (None, 8, 8, 64)          0         \n",
            "_________________________________________________________________\n",
            "conv2d_5 (Conv2D)            (None, 8, 8, 128)         73856     \n",
            "_________________________________________________________________\n",
            "batch_normalization_5 (Batch (None, 8, 8, 128)         512       \n",
            "_________________________________________________________________\n",
            "conv2d_6 (Conv2D)            (None, 8, 8, 128)         147584    \n",
            "_________________________________________________________________\n",
            "batch_normalization_6 (Batch (None, 8, 8, 128)         512       \n",
            "_________________________________________________________________\n",
            "max_pooling2d_3 (MaxPooling2 (None, 4, 4, 128)         0         \n",
            "_________________________________________________________________\n",
            "dropout_3 (Dropout)          (None, 4, 4, 128)         0         \n",
            "_________________________________________________________________\n",
            "flatten_1 (Flatten)          (None, 2048)              0         \n",
            "_________________________________________________________________\n",
            "dense_1 (Dense)              (None, 3)                 6147      \n",
            "=================================================================\n",
            "Total params: 294,947\n",
            "Trainable params: 294,051\n",
            "Non-trainable params: 896\n",
            "_________________________________________________________________\n"
          ],
          "name": "stdout"
        }
      ]
    },
    {
      "metadata": {
        "id": "7EozUm-dSIx2",
        "colab_type": "code",
        "outputId": "7c57be59-98bd-41eb-a94f-f98ad2a00e0e",
        "colab": {
          "base_uri": "https://localhost:8080/",
          "height": 1836
        }
      },
      "cell_type": "code",
      "source": [
        "modelFilt.summary()"
      ],
      "execution_count": 0,
      "outputs": [
        {
          "output_type": "stream",
          "text": [
            "__________________________________________________________________________________________________\n",
            "Layer (type)                    Output Shape         Param #     Connected to                     \n",
            "==================================================================================================\n",
            "input_1 (InputLayer)            (None, 32, 32, 3)    0                                            \n",
            "__________________________________________________________________________________________________\n",
            "HighAccuracyConv1 (Conv2D)      (None, 32, 32, 32)   896         input_1[0][0]                    \n",
            "__________________________________________________________________________________________________\n",
            "HighAccuracyBN1 (BatchNormaliza (None, 32, 32, 32)   128         HighAccuracyConv1[0][0]          \n",
            "__________________________________________________________________________________________________\n",
            "lowAccuracyModelConv1_1 (Conv2D (None, 32, 32, 32)   896         input_1[0][0]                    \n",
            "__________________________________________________________________________________________________\n",
            "HighAccuracyConv2 (Conv2D)      (None, 32, 32, 32)   9248        HighAccuracyBN1[0][0]            \n",
            "__________________________________________________________________________________________________\n",
            "lowAccuracyModelBN1 (BatchNorma (None, 32, 32, 32)   128         lowAccuracyModelConv1_1[0][0]    \n",
            "__________________________________________________________________________________________________\n",
            "lambda_41 (Lambda)              (None, 32, 32)       0           HighAccuracyConv2[0][0]          \n",
            "__________________________________________________________________________________________________\n",
            "lambda_43 (Lambda)              (None, 32, 32)       0           HighAccuracyConv2[0][0]          \n",
            "__________________________________________________________________________________________________\n",
            "lambda_45 (Lambda)              (None, 32, 32)       0           HighAccuracyConv2[0][0]          \n",
            "__________________________________________________________________________________________________\n",
            "lambda_47 (Lambda)              (None, 32, 32)       0           HighAccuracyConv2[0][0]          \n",
            "__________________________________________________________________________________________________\n",
            "lambda_49 (Lambda)              (None, 32, 32)       0           HighAccuracyConv2[0][0]          \n",
            "__________________________________________________________________________________________________\n",
            "lambda_51 (Lambda)              (None, 32, 32)       0           HighAccuracyConv2[0][0]          \n",
            "__________________________________________________________________________________________________\n",
            "lambda_53 (Lambda)              (None, 32, 32)       0           HighAccuracyConv2[0][0]          \n",
            "__________________________________________________________________________________________________\n",
            "lambda_55 (Lambda)              (None, 32, 32)       0           HighAccuracyConv2[0][0]          \n",
            "__________________________________________________________________________________________________\n",
            "lambda_57 (Lambda)              (None, 32, 32)       0           HighAccuracyConv2[0][0]          \n",
            "__________________________________________________________________________________________________\n",
            "lambda_59 (Lambda)              (None, 32, 32)       0           HighAccuracyConv2[0][0]          \n",
            "__________________________________________________________________________________________________\n",
            "lowAccuracyModelConv2_1 (Conv2D (None, 32, 32, 32)   9248        lowAccuracyModelBN1[0][0]        \n",
            "__________________________________________________________________________________________________\n",
            "lambda_42 (Lambda)              (None, 32, 32, 1)    0           lambda_41[0][0]                  \n",
            "__________________________________________________________________________________________________\n",
            "lambda_44 (Lambda)              (None, 32, 32, 1)    0           lambda_43[0][0]                  \n",
            "__________________________________________________________________________________________________\n",
            "lambda_46 (Lambda)              (None, 32, 32, 1)    0           lambda_45[0][0]                  \n",
            "__________________________________________________________________________________________________\n",
            "lambda_48 (Lambda)              (None, 32, 32, 1)    0           lambda_47[0][0]                  \n",
            "__________________________________________________________________________________________________\n",
            "lambda_50 (Lambda)              (None, 32, 32, 1)    0           lambda_49[0][0]                  \n",
            "__________________________________________________________________________________________________\n",
            "lambda_52 (Lambda)              (None, 32, 32, 1)    0           lambda_51[0][0]                  \n",
            "__________________________________________________________________________________________________\n",
            "lambda_54 (Lambda)              (None, 32, 32, 1)    0           lambda_53[0][0]                  \n",
            "__________________________________________________________________________________________________\n",
            "lambda_56 (Lambda)              (None, 32, 32, 1)    0           lambda_55[0][0]                  \n",
            "__________________________________________________________________________________________________\n",
            "lambda_58 (Lambda)              (None, 32, 32, 1)    0           lambda_57[0][0]                  \n",
            "__________________________________________________________________________________________________\n",
            "lambda_60 (Lambda)              (None, 32, 32, 1)    0           lambda_59[0][0]                  \n",
            "__________________________________________________________________________________________________\n",
            "concatenate_9 (Concatenate)     (None, 32, 32, 42)   0           lowAccuracyModelConv2_1[0][0]    \n",
            "                                                                 lambda_42[0][0]                  \n",
            "                                                                 lambda_44[0][0]                  \n",
            "                                                                 lambda_46[0][0]                  \n",
            "                                                                 lambda_48[0][0]                  \n",
            "                                                                 lambda_50[0][0]                  \n",
            "                                                                 lambda_52[0][0]                  \n",
            "                                                                 lambda_54[0][0]                  \n",
            "                                                                 lambda_56[0][0]                  \n",
            "                                                                 lambda_58[0][0]                  \n",
            "                                                                 lambda_60[0][0]                  \n",
            "__________________________________________________________________________________________________\n",
            "batch_normalization_24 (BatchNo (None, 32, 32, 42)   168         concatenate_9[0][0]              \n",
            "__________________________________________________________________________________________________\n",
            "max_pooling2d_13 (MaxPooling2D) (None, 16, 16, 42)   0           batch_normalization_24[0][0]     \n",
            "__________________________________________________________________________________________________\n",
            "dropout_13 (Dropout)            (None, 16, 16, 42)   0           max_pooling2d_13[0][0]           \n",
            "__________________________________________________________________________________________________\n",
            "conv2d_17 (Conv2D)              (None, 16, 16, 64)   24256       dropout_13[0][0]                 \n",
            "__________________________________________________________________________________________________\n",
            "batch_normalization_25 (BatchNo (None, 16, 16, 64)   256         conv2d_17[0][0]                  \n",
            "__________________________________________________________________________________________________\n",
            "conv2d_18 (Conv2D)              (None, 16, 16, 64)   36928       batch_normalization_25[0][0]     \n",
            "__________________________________________________________________________________________________\n",
            "batch_normalization_26 (BatchNo (None, 16, 16, 64)   256         conv2d_18[0][0]                  \n",
            "__________________________________________________________________________________________________\n",
            "max_pooling2d_14 (MaxPooling2D) (None, 8, 8, 64)     0           batch_normalization_26[0][0]     \n",
            "__________________________________________________________________________________________________\n",
            "dropout_14 (Dropout)            (None, 8, 8, 64)     0           max_pooling2d_14[0][0]           \n",
            "__________________________________________________________________________________________________\n",
            "conv2d_19 (Conv2D)              (None, 8, 8, 128)    73856       dropout_14[0][0]                 \n",
            "__________________________________________________________________________________________________\n",
            "batch_normalization_27 (BatchNo (None, 8, 8, 128)    512         conv2d_19[0][0]                  \n",
            "__________________________________________________________________________________________________\n",
            "conv2d_20 (Conv2D)              (None, 8, 8, 128)    147584      batch_normalization_27[0][0]     \n",
            "__________________________________________________________________________________________________\n",
            "batch_normalization_28 (BatchNo (None, 8, 8, 128)    512         conv2d_20[0][0]                  \n",
            "__________________________________________________________________________________________________\n",
            "max_pooling2d_15 (MaxPooling2D) (None, 4, 4, 128)    0           batch_normalization_28[0][0]     \n",
            "__________________________________________________________________________________________________\n",
            "dropout_15 (Dropout)            (None, 4, 4, 128)    0           max_pooling2d_15[0][0]           \n",
            "__________________________________________________________________________________________________\n",
            "flatten_5 (Flatten)             (None, 2048)         0           dropout_15[0][0]                 \n",
            "__________________________________________________________________________________________________\n",
            "dense_5 (Dense)                 (None, 3)            6147        flatten_5[0][0]                  \n",
            "==================================================================================================\n",
            "Total params: 311,019\n",
            "Trainable params: 289,623\n",
            "Non-trainable params: 21,396\n",
            "__________________________________________________________________________________________________\n"
          ],
          "name": "stdout"
        }
      ]
    },
    {
      "metadata": {
        "id": "fev8cENxbr-P",
        "colab_type": "code",
        "colab": {}
      },
      "cell_type": "code",
      "source": [
        "mcp_save = ModelCheckpoint('weights.hdf5', save_best_only=True, monitor='val_loss', mode='auto')"
      ],
      "execution_count": 0,
      "outputs": []
    },
    {
      "metadata": {
        "id": "0BTKJa7Zbwtc",
        "colab_type": "code",
        "colab": {}
      },
      "cell_type": "code",
      "source": [
        "def lr_schedule(epoch):\n",
        "    lrate = 0.0001\n",
        "    if epoch > 75:\n",
        "        lrate = 0.0005\n",
        "    if epoch > 100:\n",
        "        lrate = 0.0003\n",
        "    return lrate"
      ],
      "execution_count": 0,
      "outputs": []
    },
    {
      "metadata": {
        "id": "sIOMXQsjdSNX",
        "colab_type": "code",
        "outputId": "f3ea4e11-b000-4024-cda1-996e2c0f71b7",
        "colab": {
          "base_uri": "https://localhost:8080/",
          "height": 2074
        }
      },
      "cell_type": "code",
      "source": [
        "modelFilt.fit_generator(datagen.flow(train_X, train_ground, batch_size=batch_size),\\\n",
        "                    steps_per_epoch=train_X.shape[0] // batch_size,epochs=60,\\\n",
        "                    verbose=1,validation_data=(valid_X,valid_ground),\n",
        "                    shuffle = True,callbacks=[mcp_save,LearningRateScheduler(lr_schedule)])"
      ],
      "execution_count": 44,
      "outputs": [
        {
          "output_type": "stream",
          "text": [
            "Epoch 1/60\n",
            "187/187 [==============================] - 6s 35ms/step - loss: 0.4078 - acc: 0.8410 - val_loss: 0.4520 - val_acc: 0.8377\n",
            "Epoch 2/60\n",
            "187/187 [==============================] - 7s 35ms/step - loss: 0.4001 - acc: 0.8471 - val_loss: 0.4544 - val_acc: 0.8443\n",
            "Epoch 3/60\n",
            "187/187 [==============================] - 7s 37ms/step - loss: 0.4013 - acc: 0.8414 - val_loss: 0.4038 - val_acc: 0.8477\n",
            "Epoch 4/60\n",
            "187/187 [==============================] - 7s 40ms/step - loss: 0.3990 - acc: 0.8479 - val_loss: 0.4719 - val_acc: 0.8287\n",
            "Epoch 5/60\n",
            "187/187 [==============================] - 7s 35ms/step - loss: 0.3965 - acc: 0.8444 - val_loss: 0.5134 - val_acc: 0.8213\n",
            "Epoch 6/60\n",
            "187/187 [==============================] - 6s 34ms/step - loss: 0.3923 - acc: 0.8481 - val_loss: 0.4156 - val_acc: 0.8467\n",
            "Epoch 7/60\n",
            "187/187 [==============================] - 6s 34ms/step - loss: 0.3919 - acc: 0.8448 - val_loss: 0.4523 - val_acc: 0.8347\n",
            "Epoch 8/60\n",
            "187/187 [==============================] - 6s 34ms/step - loss: 0.3873 - acc: 0.8462 - val_loss: 0.4654 - val_acc: 0.8333\n",
            "Epoch 9/60\n",
            "187/187 [==============================] - 6s 34ms/step - loss: 0.3865 - acc: 0.8490 - val_loss: 0.3946 - val_acc: 0.8513\n",
            "Epoch 10/60\n",
            "187/187 [==============================] - 6s 34ms/step - loss: 0.3796 - acc: 0.8497 - val_loss: 0.4996 - val_acc: 0.8240\n",
            "Epoch 11/60\n",
            "187/187 [==============================] - 6s 34ms/step - loss: 0.3759 - acc: 0.8591 - val_loss: 0.5385 - val_acc: 0.8190\n",
            "Epoch 12/60\n",
            "187/187 [==============================] - 6s 33ms/step - loss: 0.3832 - acc: 0.8571 - val_loss: 0.4342 - val_acc: 0.8410\n",
            "Epoch 13/60\n",
            "187/187 [==============================] - 6s 33ms/step - loss: 0.3700 - acc: 0.8584 - val_loss: 0.4483 - val_acc: 0.8410\n",
            "Epoch 14/60\n",
            "187/187 [==============================] - 6s 33ms/step - loss: 0.3775 - acc: 0.8565 - val_loss: 0.8738 - val_acc: 0.7687\n",
            "Epoch 15/60\n",
            "187/187 [==============================] - 6s 33ms/step - loss: 0.3730 - acc: 0.8570 - val_loss: 0.4248 - val_acc: 0.8413\n",
            "Epoch 16/60\n",
            "187/187 [==============================] - 7s 38ms/step - loss: 0.3672 - acc: 0.8565 - val_loss: 0.4131 - val_acc: 0.8440\n",
            "Epoch 17/60\n",
            "187/187 [==============================] - 7s 36ms/step - loss: 0.3800 - acc: 0.8531 - val_loss: 0.3746 - val_acc: 0.8583\n",
            "Epoch 18/60\n",
            "187/187 [==============================] - 6s 33ms/step - loss: 0.3690 - acc: 0.8601 - val_loss: 0.4826 - val_acc: 0.8363\n",
            "Epoch 19/60\n",
            "187/187 [==============================] - 6s 33ms/step - loss: 0.3714 - acc: 0.8609 - val_loss: 0.3932 - val_acc: 0.8513\n",
            "Epoch 20/60\n",
            "187/187 [==============================] - 6s 33ms/step - loss: 0.3561 - acc: 0.8650 - val_loss: 0.4313 - val_acc: 0.8493\n",
            "Epoch 21/60\n",
            "187/187 [==============================] - 6s 33ms/step - loss: 0.3664 - acc: 0.8602 - val_loss: 0.4058 - val_acc: 0.8590\n",
            "Epoch 22/60\n",
            "187/187 [==============================] - 6s 33ms/step - loss: 0.3672 - acc: 0.8598 - val_loss: 0.3953 - val_acc: 0.8530\n",
            "Epoch 23/60\n",
            "187/187 [==============================] - 6s 33ms/step - loss: 0.3552 - acc: 0.8626 - val_loss: 0.4546 - val_acc: 0.8420\n",
            "Epoch 24/60\n",
            "187/187 [==============================] - 6s 33ms/step - loss: 0.3632 - acc: 0.8602 - val_loss: 0.4127 - val_acc: 0.8537\n",
            "Epoch 25/60\n",
            "187/187 [==============================] - 6s 34ms/step - loss: 0.3570 - acc: 0.8667 - val_loss: 0.5150 - val_acc: 0.8323\n",
            "Epoch 26/60\n",
            "187/187 [==============================] - 7s 36ms/step - loss: 0.3667 - acc: 0.8642 - val_loss: 0.4432 - val_acc: 0.8453\n",
            "Epoch 27/60\n",
            "187/187 [==============================] - 6s 33ms/step - loss: 0.3510 - acc: 0.8680 - val_loss: 0.3809 - val_acc: 0.8573\n",
            "Epoch 28/60\n",
            "187/187 [==============================] - 7s 35ms/step - loss: 0.3464 - acc: 0.8712 - val_loss: 0.4059 - val_acc: 0.8503\n",
            "Epoch 29/60\n",
            "187/187 [==============================] - 7s 38ms/step - loss: 0.3526 - acc: 0.8677 - val_loss: 0.4172 - val_acc: 0.8507\n",
            "Epoch 30/60\n",
            "187/187 [==============================] - 6s 34ms/step - loss: 0.3372 - acc: 0.8746 - val_loss: 0.4997 - val_acc: 0.8387\n",
            "Epoch 31/60\n",
            "187/187 [==============================] - 6s 33ms/step - loss: 0.3544 - acc: 0.8622 - val_loss: 0.4492 - val_acc: 0.8487\n",
            "Epoch 32/60\n",
            "187/187 [==============================] - 7s 35ms/step - loss: 0.3391 - acc: 0.8717 - val_loss: 0.3683 - val_acc: 0.8637\n",
            "Epoch 33/60\n",
            "187/187 [==============================] - 7s 39ms/step - loss: 0.3486 - acc: 0.8692 - val_loss: 0.4203 - val_acc: 0.8530\n",
            "Epoch 34/60\n",
            "187/187 [==============================] - 6s 34ms/step - loss: 0.3424 - acc: 0.8707 - val_loss: 0.3811 - val_acc: 0.8600\n",
            "Epoch 35/60\n",
            "187/187 [==============================] - 6s 33ms/step - loss: 0.3349 - acc: 0.8773 - val_loss: 0.4400 - val_acc: 0.8563\n",
            "Epoch 36/60\n",
            "187/187 [==============================] - 6s 33ms/step - loss: 0.3271 - acc: 0.8763 - val_loss: 0.3954 - val_acc: 0.8547\n",
            "Epoch 37/60\n",
            "187/187 [==============================] - 6s 33ms/step - loss: 0.3368 - acc: 0.8730 - val_loss: 0.3708 - val_acc: 0.8660\n",
            "Epoch 38/60\n",
            "187/187 [==============================] - 6s 33ms/step - loss: 0.3385 - acc: 0.8764 - val_loss: 0.3835 - val_acc: 0.8643\n",
            "Epoch 39/60\n",
            "187/187 [==============================] - 6s 33ms/step - loss: 0.3287 - acc: 0.8794 - val_loss: 0.4440 - val_acc: 0.8507\n",
            "Epoch 40/60\n",
            "187/187 [==============================] - 6s 33ms/step - loss: 0.3295 - acc: 0.8799 - val_loss: 0.5219 - val_acc: 0.8453\n",
            "Epoch 41/60\n",
            "187/187 [==============================] - 7s 38ms/step - loss: 0.3320 - acc: 0.8774 - val_loss: 0.4587 - val_acc: 0.8443\n",
            "Epoch 42/60\n",
            "187/187 [==============================] - 7s 36ms/step - loss: 0.3308 - acc: 0.8753 - val_loss: 0.4616 - val_acc: 0.8423\n",
            "Epoch 43/60\n",
            "187/187 [==============================] - 6s 33ms/step - loss: 0.3243 - acc: 0.8812 - val_loss: 0.4063 - val_acc: 0.8620\n",
            "Epoch 44/60\n",
            "187/187 [==============================] - 6s 33ms/step - loss: 0.3290 - acc: 0.8789 - val_loss: 0.4016 - val_acc: 0.8570\n",
            "Epoch 45/60\n",
            "187/187 [==============================] - 6s 33ms/step - loss: 0.3178 - acc: 0.8824 - val_loss: 0.3986 - val_acc: 0.8603\n",
            "Epoch 46/60\n",
            "187/187 [==============================] - 6s 33ms/step - loss: 0.3230 - acc: 0.8827 - val_loss: 0.3736 - val_acc: 0.8620\n",
            "Epoch 47/60\n",
            "187/187 [==============================] - 6s 33ms/step - loss: 0.3238 - acc: 0.8807 - val_loss: 0.4485 - val_acc: 0.8533\n",
            "Epoch 48/60\n",
            "187/187 [==============================] - 6s 33ms/step - loss: 0.3209 - acc: 0.8808 - val_loss: 0.4706 - val_acc: 0.8487\n",
            "Epoch 49/60\n",
            "187/187 [==============================] - 6s 33ms/step - loss: 0.3251 - acc: 0.8811 - val_loss: 0.3965 - val_acc: 0.8577\n",
            "Epoch 50/60\n",
            "187/187 [==============================] - 6s 33ms/step - loss: 0.3099 - acc: 0.8882 - val_loss: 0.4327 - val_acc: 0.8527\n",
            "Epoch 51/60\n",
            "187/187 [==============================] - 6s 33ms/step - loss: 0.3082 - acc: 0.8885 - val_loss: 0.3842 - val_acc: 0.8697\n",
            "Epoch 52/60\n",
            "187/187 [==============================] - 6s 33ms/step - loss: 0.3186 - acc: 0.8818 - val_loss: 0.4053 - val_acc: 0.8570\n",
            "Epoch 53/60\n",
            "187/187 [==============================] - 6s 34ms/step - loss: 0.3236 - acc: 0.8778 - val_loss: 0.4030 - val_acc: 0.8623\n",
            "Epoch 54/60\n",
            "187/187 [==============================] - 7s 38ms/step - loss: 0.3132 - acc: 0.8855 - val_loss: 0.3920 - val_acc: 0.8550\n",
            "Epoch 55/60\n",
            "187/187 [==============================] - 6s 34ms/step - loss: 0.3107 - acc: 0.8847 - val_loss: 0.4599 - val_acc: 0.8520\n",
            "Epoch 56/60\n",
            "187/187 [==============================] - 6s 33ms/step - loss: 0.3094 - acc: 0.8891 - val_loss: 0.4100 - val_acc: 0.8663\n",
            "Epoch 57/60\n",
            "187/187 [==============================] - 6s 33ms/step - loss: 0.3070 - acc: 0.8886 - val_loss: 0.3620 - val_acc: 0.8757\n",
            "Epoch 58/60\n",
            "187/187 [==============================] - 6s 33ms/step - loss: 0.3094 - acc: 0.8881 - val_loss: 0.4407 - val_acc: 0.8567\n",
            "Epoch 59/60\n",
            "187/187 [==============================] - 6s 33ms/step - loss: 0.3070 - acc: 0.8877 - val_loss: 0.4446 - val_acc: 0.8520\n",
            "Epoch 60/60\n",
            "187/187 [==============================] - 6s 33ms/step - loss: 0.3073 - acc: 0.8864 - val_loss: 0.3996 - val_acc: 0.8587\n"
          ],
          "name": "stdout"
        },
        {
          "output_type": "execute_result",
          "data": {
            "text/plain": [
              "<keras.callbacks.History at 0x7fb7cee703c8>"
            ]
          },
          "metadata": {
            "tags": []
          },
          "execution_count": 44
        }
      ]
    },
    {
      "metadata": {
        "id": "MAnK7D_Mm_dz",
        "colab_type": "code",
        "colab": {}
      },
      "cell_type": "code",
      "source": [
        "modelFilt.load_weights('weights.hdf5')"
      ],
      "execution_count": 0,
      "outputs": []
    },
    {
      "metadata": {
        "id": "-8ZXIw1Um_ao",
        "colab_type": "code",
        "colab": {}
      },
      "cell_type": "code",
      "source": [
        "modelFilt.save('ModifiedModelHybridCapacityCheck.h5')\n"
      ],
      "execution_count": 0,
      "outputs": []
    },
    {
      "metadata": {
        "id": "bZsEELS6m_WM",
        "colab_type": "code",
        "outputId": "941aa7f5-74b1-4f08-f21c-a116fb94239e",
        "colab": {
          "base_uri": "https://localhost:8080/",
          "height": 545
        }
      },
      "cell_type": "code",
      "source": [
        "accuracy = modelFilt.history.history['acc']\n",
        "val_accuracy = modelFilt.history.history['val_acc']\n",
        "loss = modelFilt.history.history['loss']\n",
        "val_loss = modelFilt.history.history['val_loss']\n",
        "epochs = range(len(accuracy))\n",
        "plt.plot(epochs, accuracy, 'b', label='Training accuracy')\n",
        "plt.plot(epochs, val_accuracy, 'r', label='Validation accuracy')\n",
        "plt.title('Training and validation accuracy')\n",
        "plt.legend()\n",
        "plt.figure()\n",
        "plt.plot(epochs, loss, 'b', label='Training loss')\n",
        "plt.plot(epochs, val_loss, 'r', label='Validation loss')\n",
        "plt.title('Training and validation loss')\n",
        "plt.legend()\n",
        "plt.show()"
      ],
      "execution_count": 47,
      "outputs": [
        {
          "output_type": "display_data",
          "data": {
            "image/png": "[encoded data removed]",
            "text/plain": [
              "<Figure size 432x288 with 1 Axes>"
            ]
          },
          "metadata": {
            "tags": []
          }
        },
        {
          "output_type": "display_data",
          "data": {
            "image/png": "[encoded data removed]",
            "text/plain": [
              "<Figure size 432x288 with 1 Axes>"
            ]
          },
          "metadata": {
            "tags": []
          }
        }
      ]
    },
    {
      "metadata": {
        "id": "5S9iJ-HGnRFW",
        "colab_type": "code",
        "outputId": "181cb720-5b60-4072-bbc1-4bff06c7bbf8",
        "colab": {
          "base_uri": "https://localhost:8080/",
          "height": 34
        }
      },
      "cell_type": "code",
      "source": [
        "modelFilt.evaluate(valid_X, valid_ground, verbose=0)"
      ],
      "execution_count": 48,
      "outputs": [
        {
          "output_type": "execute_result",
          "data": {
            "text/plain": [
              "[0.3619530050754547, 0.8756666666666667]"
            ]
          },
          "metadata": {
            "tags": []
          },
          "execution_count": 48
        }
      ]
    },
    {
      "metadata": {
        "id": "gRuSLttWnRCR",
        "colab_type": "code",
        "outputId": "391c7b20-6bb2-4e47-b480-3571f3beaffc",
        "colab": {
          "base_uri": "https://localhost:8080/",
          "height": 51
        }
      },
      "cell_type": "code",
      "source": [
        "#testing\n",
        "test_eval = modelFilt.evaluate(test_three_data, test_three_label_one_hot, verbose=0)\n",
        "print('Test loss:', test_eval[0])\n",
        "print('Test accuracy:', test_eval[1])"
      ],
      "execution_count": 49,
      "outputs": [
        {
          "output_type": "stream",
          "text": [
            "Test loss: 0.34732699076334633\n",
            "Test accuracy: 0.879666666507721\n"
          ],
          "name": "stdout"
        }
      ]
    },
    {
      "metadata": {
        "id": "MI4AzYZDnQ_X",
        "colab_type": "code",
        "colab": {}
      },
      "cell_type": "code",
      "source": [
        ""
      ],
      "execution_count": 0,
      "outputs": []
    },
    {
      "metadata": {
        "id": "GCHKtUi6nQ8I",
        "colab_type": "code",
        "colab": {}
      },
      "cell_type": "code",
      "source": [
        ""
      ],
      "execution_count": 0,
      "outputs": []
    }
  ]
}