{
  "nbformat": 4,
  "nbformat_minor": 0,
  "metadata": {
    "colab": {
      "name": "TA_OPT_Vgg16 ProposalLowAccuracyDataVer01.ipynb",
      "version": "0.3.2",
      "provenance": [],
      "collapsed_sections": [],
      "toc_visible": true,
      "include_colab_link": true
    },
    "kernelspec": {
      "name": "python3",
      "display_name": "Python 3"
    },
    "accelerator": "GPU"
  },
  "cells": [
    {
      "cell_type": "markdown",
      "metadata": {
        "id": "view-in-github",
        "colab_type": "text"
      },
      "source": [
        "<a href=\"https://colab.research.google.com/github/preritt/KProj/blob/master/TA_OPT_SGDScheduleWithMomentumVgg16_ProposalLowAccuracyDataVer01.ipynb\" target=\"_parent\"><img src=\"https://colab.research.google.com/assets/colab-badge.svg\" alt=\"Open In Colab\"/></a>"
      ]
    },
    {
      "cell_type": "code",
      "metadata": {
        "id": "FgwWyMb6iCkO",
        "colab_type": "code",
        "outputId": "407a6095-264a-4f69-b733-391107802199",
        "colab": {
          "base_uri": "https://localhost:8080/",
          "height": 34
        }
      },
      "source": [
        "import keras\n",
        "from matplotlib import pyplot as plt\n",
        "import numpy as np\n",
        "import gzip\n",
        "%matplotlib inline\n",
        "from keras.models import Model\n",
        "from keras.optimizers import RMSprop\n",
        "from keras.layers import Input,Dense,Flatten,Dropout,merge,Reshape,Conv2D,MaxPooling2D,UpSampling2D,Conv2DTranspose\n",
        "from keras.layers.normalization import BatchNormalization\n",
        "from keras.models import Model,Sequential\n",
        "from keras.callbacks import ModelCheckpoint\n",
        "from keras.optimizers import Adadelta, RMSprop,SGD,Adam\n",
        "from keras import regularizers\n",
        "from keras import backend as K\n",
        "from keras.utils import to_categorical\n",
        "from keras.datasets import cifar10\n",
        "from sklearn import preprocessing\n",
        "from keras import losses"
      ],
      "execution_count": 1,
      "outputs": [
        {
          "output_type": "stream",
          "text": [
            "Using TensorFlow backend.\n"
          ],
          "name": "stderr"
        }
      ]
    },
    {
      "cell_type": "code",
      "metadata": {
        "id": "Mqm8mJJu0AU4",
        "colab_type": "code",
        "colab": {}
      },
      "source": [
        ""
      ],
      "execution_count": 0,
      "outputs": []
    },
    {
      "cell_type": "code",
      "metadata": {
        "id": "txdR9fEabt2P",
        "colab_type": "code",
        "colab": {}
      },
      "source": [
        "\n",
        "from keras.models import model_from_json"
      ],
      "execution_count": 0,
      "outputs": []
    },
    {
      "cell_type": "code",
      "metadata": {
        "id": "PYdWJtFsiF1a",
        "colab_type": "code",
        "colab": {}
      },
      "source": [
        "import keras\n",
        "from keras.models import Sequential\n",
        "from keras.utils import np_utils\n",
        "from keras.preprocessing.image import ImageDataGenerator\n",
        "from keras.layers import Dense, Activation, Flatten, Dropout, BatchNormalization\n",
        "from keras.layers import Conv2D, MaxPooling2D\n",
        "from keras.datasets import cifar10\n",
        "from keras import regularizers\n",
        "from keras.callbacks import LearningRateScheduler\n",
        "import numpy as np\n",
        "from sklearn.metrics import confusion_matrix\n",
        "from sklearn.model_selection import train_test_split\n",
        "from sklearn.utils import shuffle"
      ],
      "execution_count": 0,
      "outputs": []
    },
    {
      "cell_type": "code",
      "metadata": {
        "id": "lJ9XYVEOAprv",
        "colab_type": "code",
        "colab": {}
      },
      "source": [
        "keras.backend.clear_session()"
      ],
      "execution_count": 0,
      "outputs": []
    },
    {
      "cell_type": "code",
      "metadata": {
        "id": "9m3ehGh2iIBA",
        "colab_type": "code",
        "outputId": "b2543d66-98ae-4e75-ac7d-8caf375aae6a",
        "colab": {
          "base_uri": "https://localhost:8080/",
          "height": 340
        }
      },
      "source": [
        "from matplotlib import pyplot\n",
        "from scipy.misc import toimage\n",
        "from keras.datasets import cifar10\n",
        "def show_imgs(X):\n",
        "    pyplot.figure(1)\n",
        "    k = 0\n",
        "    for i in range(0,4):\n",
        "        for j in range(0,4):\n",
        "            pyplot.subplot2grid((4,4),(i,j))\n",
        "            pyplot.imshow(toimage(X[k]))\n",
        "            k = k+1\n",
        "    # show the plot\n",
        "    pyplot.show()\n",
        " \n",
        "(x_train, y_train), (x_test, y_test) = cifar10.load_data()\n",
        "show_imgs(x_test[:16])\n"
      ],
      "execution_count": 5,
      "outputs": [
        {
          "output_type": "stream",
          "text": [
            "/usr/local/lib/python3.6/dist-packages/ipykernel_launcher.py:10: DeprecationWarning: `toimage` is deprecated!\n",
            "`toimage` is deprecated in SciPy 1.0.0, and will be removed in 1.2.0.\n",
            "Use Pillow's ``Image.fromarray`` directly instead.\n",
            "  # Remove the CWD from sys.path while we load stuff.\n"
          ],
          "name": "stderr"
        },
        {
          "output_type": "display_data",
          "data": {
            "image/png": "[encoded data removed]",
            "text/plain": [
              "<Figure size 432x288 with 16 Axes>"
            ]
          },
          "metadata": {
            "tags": []
          }
        }
      ]
    },
    {
      "cell_type": "code",
      "metadata": {
        "id": "hVAjMdeSrloa",
        "colab_type": "code",
        "outputId": "cc553bb3-1902-4e98-b0f8-74df631cb2da",
        "colab": {
          "base_uri": "https://localhost:8080/",
          "height": 34
        }
      },
      "source": [
        "x_test.shape"
      ],
      "execution_count": 6,
      "outputs": [
        {
          "output_type": "execute_result",
          "data": {
            "text/plain": [
              "(10000, 32, 32, 3)"
            ]
          },
          "metadata": {
            "tags": []
          },
          "execution_count": 6
        }
      ]
    },
    {
      "cell_type": "code",
      "metadata": {
        "id": "ngfK-2Qewhtq",
        "colab_type": "code",
        "colab": {}
      },
      "source": [
        "# This function takes the entire traaining data and test data and corresponding categorical label and returns the corresponding data in class indices\n",
        "def getThreeClassesTrainTest(class_indices,train_data,train_labels,test_data,test_labels):\n",
        "  all_train_data = []\n",
        "  all_train_data_label = []\n",
        "  all_test_data = []\n",
        "  all_test_data_label = []\n",
        "  for ind in class_indices:\n",
        "    this_class_location_train =  np.where(train_labels==ind)[0] # train_labels[train_labels == ind]\n",
        "    this_class_data_train = train_data[this_class_location_train,:]\n",
        "    this_class_data_train_label = train_labels[this_class_location_train]\n",
        "    print(this_class_location_train)\n",
        "    \n",
        "    this_class_location_test = np.where(test_labels==ind)[0] #test_labels[test_labels == ind]\n",
        "    this_class_data_test = test_data[this_class_location_test,:]\n",
        "    this_class_data_test_label = test_labels[this_class_location_test]\n",
        "    \n",
        "    all_train_data.append(this_class_data_train)\n",
        "    all_test_data.append(this_class_data_test)\n",
        "    all_train_data_label.append(this_class_data_train_label)\n",
        "    all_test_data_label.append(this_class_data_test_label)\n",
        "    \n",
        "  train_data_three = all_train_data[0]\n",
        "  train_label_three = all_train_data_label[0]\n",
        "  test_data_three = all_test_data[0]\n",
        "  test_label_three = all_test_data_label[0]\n",
        "  \n",
        "  for j in range(1,len(class_indices)):\n",
        "    train_data_three = np.concatenate((train_data_three,all_train_data[j]))\n",
        "    train_label_three = np.concatenate((train_label_three,all_train_data_label[j]))\n",
        "\n",
        "    test_data_three = np.concatenate((test_data_three,all_test_data[j]))\n",
        "    test_label_three = np.concatenate((test_label_three,all_test_data_label[j]))\n",
        "  print(train_label_three.shape)\n",
        "  train_label_three = np.reshape(train_label_three,newshape=(-1,))\n",
        "  test_label_three = np.reshape(test_label_three,newshape=(-1,))\n",
        "  return train_data_three, train_label_three, test_data_three,test_label_three"
      ],
      "execution_count": 0,
      "outputs": []
    },
    {
      "cell_type": "code",
      "metadata": {
        "id": "3ZJV35fkrj3O",
        "colab_type": "code",
        "colab": {}
      },
      "source": [
        "         "
      ],
      "execution_count": 0,
      "outputs": []
    },
    {
      "cell_type": "markdown",
      "metadata": {
        "id": "2ekn-CkLikYJ",
        "colab_type": "text"
      },
      "source": [
        "### Get only three classes of data and train the model on it"
      ]
    },
    {
      "cell_type": "code",
      "metadata": {
        "id": "VPYv1L-uigzL",
        "colab_type": "code",
        "outputId": "b146f32d-b0af-443a-b21c-741833ec3071",
        "colab": {
          "base_uri": "https://localhost:8080/",
          "height": 87
        }
      },
      "source": [
        "train_three_data,train_three_label,test_three_data,test_three_label = getThreeClassesTrainTest([ 0,3,5 ],x_train,y_train,x_test,y_test)"
      ],
      "execution_count": 8,
      "outputs": [
        {
          "output_type": "stream",
          "text": [
            "[   29    30    35 ... 49941 49992 49994]\n",
            "[    9    17    21 ... 49979 49982 49983]\n",
            "[   27    40    51 ... 49964 49980 49988]\n",
            "(15000, 1)\n"
          ],
          "name": "stdout"
        }
      ]
    },
    {
      "cell_type": "code",
      "metadata": {
        "id": "9luxTYeM3aZO",
        "colab_type": "code",
        "outputId": "2a10e3c4-8f99-468c-e413-d981ed0df329",
        "colab": {
          "base_uri": "https://localhost:8080/",
          "height": 340
        }
      },
      "source": [
        "plt.hist(train_three_label)"
      ],
      "execution_count": 9,
      "outputs": [
        {
          "output_type": "execute_result",
          "data": {
            "text/plain": [
              "(array([5000.,    0.,    0.,    0.,    0.,    0., 5000.,    0.,    0.,\n",
              "        5000.]),\n",
              " array([0. , 0.5, 1. , 1.5, 2. , 2.5, 3. , 3.5, 4. , 4.5, 5. ]),\n",
              " <a list of 10 Patch objects>)"
            ]
          },
          "metadata": {
            "tags": []
          },
          "execution_count": 9
        },
        {
          "output_type": "display_data",
          "data": {
            "image/png": "[encoded data removed]",
            "text/plain": [
              "<Figure size 432x288 with 1 Axes>"
            ]
          },
          "metadata": {
            "tags": []
          }
        }
      ]
    },
    {
      "cell_type": "code",
      "metadata": {
        "id": "Dni1oqIcyPai",
        "colab_type": "code",
        "outputId": "3e7f5e26-5525-4464-e424-52fbfbaf56f6",
        "colab": {
          "base_uri": "https://localhost:8080/",
          "height": 340
        }
      },
      "source": [
        "# test_three_label.shape\n",
        "plt.hist(test_three_label)"
      ],
      "execution_count": 10,
      "outputs": [
        {
          "output_type": "execute_result",
          "data": {
            "text/plain": [
              "(array([1000.,    0.,    0.,    0.,    0.,    0., 1000.,    0.,    0.,\n",
              "        1000.]),\n",
              " array([0. , 0.5, 1. , 1.5, 2. , 2.5, 3. , 3.5, 4. , 4.5, 5. ]),\n",
              " <a list of 10 Patch objects>)"
            ]
          },
          "metadata": {
            "tags": []
          },
          "execution_count": 10
        },
        {
          "output_type": "display_data",
          "data": {
            "image/png": "[encoded data removed]",
            "text/plain": [
              "<Figure size 432x288 with 1 Axes>"
            ]
          },
          "metadata": {
            "tags": []
          }
        }
      ]
    },
    {
      "cell_type": "code",
      "metadata": {
        "id": "fuM8CeuRsDzW",
        "colab_type": "code",
        "colab": {}
      },
      "source": [
        "train_three_data, train_three_label = shuffle(train_three_data, train_three_label )\n",
        "test_three_data,test_three_label = shuffle(test_three_data,test_three_label )"
      ],
      "execution_count": 0,
      "outputs": []
    },
    {
      "cell_type": "code",
      "metadata": {
        "id": "EshrdJ78fp7U",
        "colab_type": "code",
        "colab": {}
      },
      "source": [
        ""
      ],
      "execution_count": 0,
      "outputs": []
    },
    {
      "cell_type": "code",
      "metadata": {
        "id": "mbK7iwsZx8QW",
        "colab_type": "code",
        "colab": {}
      },
      "source": [
        "le = preprocessing.LabelEncoder()\n",
        "le.fit_transform(train_three_label)\n",
        "train_three_label_cat = le.transform(train_three_label)\n",
        "test_three_label_cat = le.transform(test_three_label)"
      ],
      "execution_count": 0,
      "outputs": []
    },
    {
      "cell_type": "code",
      "metadata": {
        "id": "jYJt52bU0ooK",
        "colab_type": "code",
        "outputId": "147c600b-c22b-4310-97ca-4b5151e59d55",
        "colab": {
          "base_uri": "https://localhost:8080/",
          "height": 34
        }
      },
      "source": [
        "train_three_label_cat.shape"
      ],
      "execution_count": 13,
      "outputs": [
        {
          "output_type": "execute_result",
          "data": {
            "text/plain": [
              "(15000,)"
            ]
          },
          "metadata": {
            "tags": []
          },
          "execution_count": 13
        }
      ]
    },
    {
      "cell_type": "code",
      "metadata": {
        "id": "r3Ydm3cykUFn",
        "colab_type": "code",
        "colab": {}
      },
      "source": [
        "train_three_label_one_hot = to_categorical(train_three_label_cat)\n",
        "test_three_label_one_hot = to_categorical(test_three_label_cat)\n"
      ],
      "execution_count": 0,
      "outputs": []
    },
    {
      "cell_type": "code",
      "metadata": {
        "id": "_O4_VLoJ6vSF",
        "colab_type": "code",
        "outputId": "37407138-ac4b-40cc-8f18-48bdfbbcd11e",
        "colab": {
          "base_uri": "https://localhost:8080/",
          "height": 34
        }
      },
      "source": [
        "test_three_label_one_hot.shape"
      ],
      "execution_count": 15,
      "outputs": [
        {
          "output_type": "execute_result",
          "data": {
            "text/plain": [
              "(3000, 3)"
            ]
          },
          "metadata": {
            "tags": []
          },
          "execution_count": 15
        }
      ]
    },
    {
      "cell_type": "code",
      "metadata": {
        "id": "UIrWUPz_lGvF",
        "colab_type": "code",
        "colab": {}
      },
      "source": [
        "# split train data and to create validation data\n",
        "train_X,valid_X,train_ground,valid_ground = train_test_split(train_three_data,\n",
        "                                                             train_three_label_one_hot,\n",
        "                                                             test_size=0.2,\n",
        "                                                             random_state=13)"
      ],
      "execution_count": 0,
      "outputs": []
    },
    {
      "cell_type": "code",
      "metadata": {
        "id": "H6AkQaz-kRh0",
        "colab_type": "code",
        "colab": {}
      },
      "source": [
        "num_classes = test_three_label_one_hot.shape[1]"
      ],
      "execution_count": 0,
      "outputs": []
    },
    {
      "cell_type": "code",
      "metadata": {
        "id": "duFF_pGbj2i1",
        "colab_type": "code",
        "colab": {}
      },
      "source": [
        "x, y = 32, 32\n",
        "inChannel = 3\n",
        "input_img = Input(shape = (x, y, inChannel))\n",
        "ep = 10 \n",
        "weight_decay = 1e-4"
      ],
      "execution_count": 0,
      "outputs": []
    },
    {
      "cell_type": "code",
      "metadata": {
        "id": "Pt1coy0mkFrj",
        "colab_type": "code",
        "colab": {}
      },
      "source": [
        "def lr_schedule(epoch):\n",
        "    lrate = 0.001\n",
        "    if epoch > 20:\n",
        "        lrate = 0.001/3\n",
        "    if epoch > 40:\n",
        "        lrate = 0.001/9\n",
        "    return lrate"
      ],
      "execution_count": 0,
      "outputs": []
    },
    {
      "cell_type": "code",
      "metadata": {
        "id": "4IbtMUdhiscG",
        "colab_type": "code",
        "colab": {}
      },
      "source": [
        "# def cifar10Classifier(input_img):\n",
        "  \n",
        "#   conv1 = (Conv2D(32, (3,3), padding='same', kernel_regularizer=regularizers.l2(weight_decay), input_shape=x_train.shape[1:], activation='elu'))(input_img)\n",
        "#   conv1 = BatchNormalization()(conv1)\n",
        "#   conv1 = (Conv2D(32, (3,3), padding='same', activation= 'elu',kernel_regularizer=regularizers.l2(weight_decay)))(conv1)\n",
        "#   conv1 = BatchNormalization()(conv1)\n",
        "#   pool1 = MaxPooling2D(pool_size=(2, 2))(conv1) #14 x 14 x 32\n",
        "#   drop1= Dropout(.2)(pool1)\n",
        "\n",
        "#   conv2 = (Conv2D(64, (3,3), padding='same', kernel_regularizer=regularizers.l2(weight_decay), activation='elu'))(drop1)\n",
        "#   conv2 = BatchNormalization()(conv2)\n",
        "#   conv2 = (Conv2D(64, (3,3), padding='same', activation= 'elu',kernel_regularizer=regularizers.l2(weight_decay)))(conv2)\n",
        "#   conv2 = BatchNormalization()(conv2)\n",
        "#   pool2 = MaxPooling2D(pool_size=(2, 2))(conv2) #14 x 14 x 32\n",
        "#   drop2= Dropout(.3)(pool2)\n",
        "\n",
        "#   conv3 = (Conv2D(128, (3,3), padding='same', kernel_regularizer=regularizers.l2(weight_decay), activation='elu'))(drop2)\n",
        "#   conv3 = BatchNormalization()(conv3)\n",
        "#   conv3 = (Conv2D(128, (3,3), padding='same', activation= 'elu',kernel_regularizer=regularizers.l2(weight_decay)))(conv3)\n",
        "#   conv3 = BatchNormalization()(conv3)\n",
        "#   pool3 = MaxPooling2D(pool_size=(2, 2))(conv3) #14 x 14 x 32\n",
        "#   drop3= Dropout(.4)(pool3)\n",
        "\n",
        "#   flat = Flatten()(drop3)\n",
        "#   out = Dense(num_classes, activation='softmax')(flat)\n",
        "  \n",
        "#   return out"
      ],
      "execution_count": 0,
      "outputs": []
    },
    {
      "cell_type": "code",
      "metadata": {
        "id": "gxJhVRCha0m0",
        "colab_type": "code",
        "outputId": "4c10f382-db70-428e-f087-e491f53adfe7",
        "colab": {
          "base_uri": "https://localhost:8080/",
          "height": 34
        }
      },
      "source": [
        "weight_decay"
      ],
      "execution_count": 21,
      "outputs": [
        {
          "output_type": "execute_result",
          "data": {
            "text/plain": [
              "0.0001"
            ]
          },
          "metadata": {
            "tags": []
          },
          "execution_count": 21
        }
      ]
    },
    {
      "cell_type": "code",
      "metadata": {
        "id": "VAZd7W_9bSi7",
        "colab_type": "code",
        "colab": {}
      },
      "source": [
        "from keras.layers import Activation"
      ],
      "execution_count": 0,
      "outputs": []
    },
    {
      "cell_type": "code",
      "metadata": {
        "id": "JCYvn_c9ahuB",
        "colab_type": "code",
        "colab": {}
      },
      "source": [
        "def cifar10Classifier(input_img):\n",
        "  \n",
        "  conv1_1 = (Conv2D(64, (3,3),name = 'conv1_1' ,padding='same', \n",
        "                    kernel_regularizer=regularizers.l2(weight_decay), input_shape=x_train.shape[1:],\n",
        "                    activation='relu'))(input_img)\n",
        "  conv1_2 = BatchNormalization(name = 'conv1_2')(conv1_1)\n",
        "  pool1_3 = MaxPooling2D(pool_size=(2, 2), name = 'pool1_3')(conv1_2) #14 x 14 x 32\n",
        "  conv2_1 = (Conv2D(128, (3,3),name = 'conv2_1' ,padding='same',\n",
        "                    activation= 'relu',kernel_regularizer=regularizers.l2(weight_decay)))(pool1_3)\n",
        "  conv2_2 = BatchNormalization(name = 'conv2_2')(conv2_1)\n",
        "  pool2_3 = MaxPooling2D(pool_size=(2, 2), name = 'pool2_3')(conv2_2) #14 x 14 x 32\n",
        "  \n",
        "  conv3_1 = (Conv2D(256, (3,3), padding='same',name = 'conv3_1',\n",
        "                    kernel_regularizer=regularizers.l2(weight_decay), activation='relu'))(pool2_3)\n",
        "  conv3_2 = BatchNormalization(name = 'conv3_2')(conv3_1)\n",
        "  conv4_1 = (Conv2D(256, (3,3), padding='same',name = 'conv4_1' ,activation= 'relu',\n",
        "                    kernel_regularizer=regularizers.l2(weight_decay)))(conv3_2)\n",
        "  conv4_2 = BatchNormalization(name = 'conv4_2')(conv4_1)\n",
        "  pool4_2 = MaxPooling2D(pool_size=(2, 2), name = 'pool4_2')(conv4_2) #14 x 14 x 32\n",
        "  \n",
        "  conv5_1 = (Conv2D(512, (3,3), padding='same',name = 'conv5_1',\n",
        "                    kernel_regularizer=regularizers.l2(weight_decay), activation='relu'))(pool4_2)\n",
        "  conv5_2 = BatchNormalization(name = 'conv5_2')(conv5_1)\n",
        "  conv6_1 = (Conv2D(512, (3,3), padding='same',name = 'conv6_1' ,activation= 'relu',\n",
        "                    kernel_regularizer=regularizers.l2(weight_decay)))(conv5_2)\n",
        "  conv6_2 = BatchNormalization(name = 'conv6_2')(conv6_1)\n",
        "  pool6_2 = MaxPooling2D(pool_size=(2, 2), name = 'pool6_2')(conv6_2) #14 x 14 x 32\n",
        "  \n",
        "  conv7_1 = (Conv2D(512, (3,3), padding='same',name = 'conv7_1',\n",
        "                    kernel_regularizer=regularizers.l2(weight_decay), activation='relu'))(pool6_2)\n",
        "  conv7_2 = BatchNormalization(name = 'conv7_2')(conv7_1)\n",
        "  conv8_1 = (Conv2D(512, (3,3), padding='same',name = 'conv8_1' ,activation= 'relu',\n",
        "                    kernel_regularizer=regularizers.l2(weight_decay)))(conv7_2)\n",
        "  conv8_2 = BatchNormalization(name = 'conv8_2')(conv8_1)\n",
        "  pool8_2 = MaxPooling2D(pool_size=(2, 2), name = 'pool8_2')(conv8_2) #14 x 14 x 32\n",
        "\n",
        "\n",
        "  flat = Flatten()(pool8_2)\n",
        "  fc1 = Dense(4096, activation='relu', name = 'fc1')(flat)\n",
        "  fc2 = Dense(4096, activation='relu', name = 'fc2')(fc1)\n",
        "  fc3 = Dense(1000, activation='relu', name = 'fc3')(fc2)\n",
        "\n",
        "\n",
        "  \n",
        "  out = Dense(num_classes, activation='softmax', name = 'out')(fc3)\n",
        "  \n",
        "  return out"
      ],
      "execution_count": 0,
      "outputs": []
    },
    {
      "cell_type": "code",
      "metadata": {
        "id": "-VPIvSX1jytM",
        "colab_type": "code",
        "outputId": "2d09b20e-29b5-4da6-8dad-d0310f8e4c4d",
        "colab": {
          "base_uri": "https://localhost:8080/",
          "height": 1174
        }
      },
      "source": [
        "model = Model(input_img, (cifar10Classifier(input_img)))\n",
        "#data augmentation\n",
        "datagen = ImageDataGenerator(\n",
        "    rotation_range=15,\n",
        "    width_shift_range=0.1,\n",
        "    height_shift_range=0.1,\n",
        "    horizontal_flip=True,\n",
        "    )\n",
        "datagen.fit(train_three_data)\n",
        " \n",
        "#training\n",
        "batch_size = 64\n",
        " \n",
        "opt_rms = keras.optimizers.SGD(lr = 0.001, momentum=.9, nesterov=True)  \n",
        "# opt_rms = keras.optimizers.rmsprop(lr=0.001,decay=1e-6)\n",
        "# opt_rms = keras.optimizers.Adam(lr=0.001,decay=1e-6,beta_1=0.5)\n",
        "# model.compile(loss='categorical_crossentropy', optimizer=opt_rms, metrics=['accuracy'])\n",
        "\n",
        "model.compile(loss=losses.categorical_crossentropy, optimizer=opt_rms, metrics=['accuracy'])\n",
        "\n",
        "model.summary()\n",
        " "
      ],
      "execution_count": 24,
      "outputs": [
        {
          "output_type": "stream",
          "text": [
            "WARNING:tensorflow:From /usr/local/lib/python3.6/dist-packages/tensorflow/python/framework/op_def_library.py:263: colocate_with (from tensorflow.python.framework.ops) is deprecated and will be removed in a future version.\n",
            "Instructions for updating:\n",
            "Colocations handled automatically by placer.\n",
            "_________________________________________________________________\n",
            "Layer (type)                 Output Shape              Param #   \n",
            "=================================================================\n",
            "input_1 (InputLayer)         (None, 32, 32, 3)         0         \n",
            "_________________________________________________________________\n",
            "conv1_1 (Conv2D)             (None, 32, 32, 64)        1792      \n",
            "_________________________________________________________________\n",
            "conv1_2 (BatchNormalization) (None, 32, 32, 64)        256       \n",
            "_________________________________________________________________\n",
            "pool1_3 (MaxPooling2D)       (None, 16, 16, 64)        0         \n",
            "_________________________________________________________________\n",
            "conv2_1 (Conv2D)             (None, 16, 16, 128)       73856     \n",
            "_________________________________________________________________\n",
            "conv2_2 (BatchNormalization) (None, 16, 16, 128)       512       \n",
            "_________________________________________________________________\n",
            "pool2_3 (MaxPooling2D)       (None, 8, 8, 128)         0         \n",
            "_________________________________________________________________\n",
            "conv3_1 (Conv2D)             (None, 8, 8, 256)         295168    \n",
            "_________________________________________________________________\n",
            "conv3_2 (BatchNormalization) (None, 8, 8, 256)         1024      \n",
            "_________________________________________________________________\n",
            "conv4_1 (Conv2D)             (None, 8, 8, 256)         590080    \n",
            "_________________________________________________________________\n",
            "conv4_2 (BatchNormalization) (None, 8, 8, 256)         1024      \n",
            "_________________________________________________________________\n",
            "pool4_2 (MaxPooling2D)       (None, 4, 4, 256)         0         \n",
            "_________________________________________________________________\n",
            "conv5_1 (Conv2D)             (None, 4, 4, 512)         1180160   \n",
            "_________________________________________________________________\n",
            "conv5_2 (BatchNormalization) (None, 4, 4, 512)         2048      \n",
            "_________________________________________________________________\n",
            "conv6_1 (Conv2D)             (None, 4, 4, 512)         2359808   \n",
            "_________________________________________________________________\n",
            "conv6_2 (BatchNormalization) (None, 4, 4, 512)         2048      \n",
            "_________________________________________________________________\n",
            "pool6_2 (MaxPooling2D)       (None, 2, 2, 512)         0         \n",
            "_________________________________________________________________\n",
            "conv7_1 (Conv2D)             (None, 2, 2, 512)         2359808   \n",
            "_________________________________________________________________\n",
            "conv7_2 (BatchNormalization) (None, 2, 2, 512)         2048      \n",
            "_________________________________________________________________\n",
            "conv8_1 (Conv2D)             (None, 2, 2, 512)         2359808   \n",
            "_________________________________________________________________\n",
            "conv8_2 (BatchNormalization) (None, 2, 2, 512)         2048      \n",
            "_________________________________________________________________\n",
            "pool8_2 (MaxPooling2D)       (None, 1, 1, 512)         0         \n",
            "_________________________________________________________________\n",
            "flatten_1 (Flatten)          (None, 512)               0         \n",
            "_________________________________________________________________\n",
            "fc1 (Dense)                  (None, 4096)              2101248   \n",
            "_________________________________________________________________\n",
            "fc2 (Dense)                  (None, 4096)              16781312  \n",
            "_________________________________________________________________\n",
            "fc3 (Dense)                  (None, 1000)              4097000   \n",
            "_________________________________________________________________\n",
            "out (Dense)                  (None, 3)                 3003      \n",
            "=================================================================\n",
            "Total params: 32,214,051\n",
            "Trainable params: 32,208,547\n",
            "Non-trainable params: 5,504\n",
            "_________________________________________________________________\n"
          ],
          "name": "stdout"
        }
      ]
    },
    {
      "cell_type": "code",
      "metadata": {
        "id": "9Wi6iL1A7DxR",
        "colab_type": "code",
        "colab": {}
      },
      "source": [
        "# model.get_weights()"
      ],
      "execution_count": 0,
      "outputs": []
    },
    {
      "cell_type": "code",
      "metadata": {
        "id": "2jabvkmcr1KR",
        "colab_type": "code",
        "colab": {}
      },
      "source": [
        "mcp_save = ModelCheckpoint('weights.hdf5', save_best_only=True, monitor='val_acc', mode='auto')"
      ],
      "execution_count": 0,
      "outputs": []
    },
    {
      "cell_type": "code",
      "metadata": {
        "id": "T6x5OsaN9CxB",
        "colab_type": "code",
        "colab": {}
      },
      "source": [
        ""
      ],
      "execution_count": 0,
      "outputs": []
    },
    {
      "cell_type": "code",
      "metadata": {
        "id": "AAxjpgNk9KF3",
        "colab_type": "code",
        "colab": {}
      },
      "source": [
        "\n",
        "# for l1,l2 in zip(model.layers[0:],loaded_model_high.layers[0:]):\n",
        "#     l1.set_weights(l2.get_weights())"
      ],
      "execution_count": 0,
      "outputs": []
    },
    {
      "cell_type": "code",
      "metadata": {
        "id": "0x-iDMcukCCT",
        "colab_type": "code",
        "outputId": "bff3c2f0-61ef-4549-dd3e-ad61e2bef34c",
        "colab": {
          "base_uri": "https://localhost:8080/",
          "height": 2223
        }
      },
      "source": [
        "model.fit_generator(datagen.flow(train_X, train_ground, batch_size=batch_size),\\\n",
        "                    steps_per_epoch=train_X.shape[0] // batch_size,epochs=60,\\\n",
        "                    verbose=1,validation_data=(valid_X,valid_ground),\n",
        "                    shuffle = True,callbacks=[mcp_save,LearningRateScheduler(lr_schedule)])\n",
        "#save to disk\n",
        "model_json = model.to_json()\n",
        "with open('model.json', 'w') as json_file:\n",
        "    json_file.write(model_json)\n",
        "model.save_weights('model.h5') \n",
        " \n"
      ],
      "execution_count": 28,
      "outputs": [
        {
          "output_type": "stream",
          "text": [
            "WARNING:tensorflow:From /usr/local/lib/python3.6/dist-packages/tensorflow/python/ops/math_ops.py:3066: to_int32 (from tensorflow.python.ops.math_ops) is deprecated and will be removed in a future version.\n",
            "Instructions for updating:\n",
            "Use tf.cast instead.\n",
            "Epoch 1/60\n",
            "187/187 [==============================] - 13s 69ms/step - loss: 0.9761 - acc: 0.6296 - val_loss: 0.9926 - val_acc: 0.6127\n",
            "Epoch 2/60\n",
            "187/187 [==============================] - 8s 44ms/step - loss: 0.8674 - acc: 0.6984 - val_loss: 0.8360 - val_acc: 0.7150\n",
            "Epoch 3/60\n",
            "187/187 [==============================] - 8s 42ms/step - loss: 0.8176 - acc: 0.7229 - val_loss: 0.8040 - val_acc: 0.7227\n",
            "Epoch 4/60\n",
            "187/187 [==============================] - 8s 42ms/step - loss: 0.7905 - acc: 0.7423 - val_loss: 0.8337 - val_acc: 0.7083\n",
            "Epoch 5/60\n",
            "187/187 [==============================] - 8s 42ms/step - loss: 0.7647 - acc: 0.7550 - val_loss: 0.8050 - val_acc: 0.7357\n",
            "Epoch 6/60\n",
            "187/187 [==============================] - 8s 42ms/step - loss: 0.7525 - acc: 0.7647 - val_loss: 0.8048 - val_acc: 0.7280\n",
            "Epoch 7/60\n",
            "187/187 [==============================] - 8s 42ms/step - loss: 0.7265 - acc: 0.7750 - val_loss: 0.7860 - val_acc: 0.7547\n",
            "Epoch 8/60\n",
            "187/187 [==============================] - 8s 43ms/step - loss: 0.7041 - acc: 0.7861 - val_loss: 0.7166 - val_acc: 0.7803\n",
            "Epoch 9/60\n",
            "187/187 [==============================] - 8s 44ms/step - loss: 0.6868 - acc: 0.7989 - val_loss: 0.7423 - val_acc: 0.7713\n",
            "Epoch 10/60\n",
            "187/187 [==============================] - 8s 42ms/step - loss: 0.6757 - acc: 0.8079 - val_loss: 0.7405 - val_acc: 0.7733\n",
            "Epoch 11/60\n",
            "187/187 [==============================] - 8s 42ms/step - loss: 0.6574 - acc: 0.8144 - val_loss: 0.7276 - val_acc: 0.7750\n",
            "Epoch 12/60\n",
            "187/187 [==============================] - 8s 44ms/step - loss: 0.6437 - acc: 0.8207 - val_loss: 0.9100 - val_acc: 0.7337\n",
            "Epoch 13/60\n",
            "187/187 [==============================] - 8s 43ms/step - loss: 0.6349 - acc: 0.8247 - val_loss: 0.7089 - val_acc: 0.7973\n",
            "Epoch 14/60\n",
            "187/187 [==============================] - 8s 42ms/step - loss: 0.6183 - acc: 0.8335 - val_loss: 0.6959 - val_acc: 0.7940\n",
            "Epoch 15/60\n",
            "187/187 [==============================] - 8s 42ms/step - loss: 0.6112 - acc: 0.8372 - val_loss: 0.6842 - val_acc: 0.8100\n",
            "Epoch 16/60\n",
            "187/187 [==============================] - 8s 42ms/step - loss: 0.5910 - acc: 0.8482 - val_loss: 0.9544 - val_acc: 0.7433\n",
            "Epoch 17/60\n",
            "187/187 [==============================] - 8s 42ms/step - loss: 0.5948 - acc: 0.8448 - val_loss: 0.6931 - val_acc: 0.8057\n",
            "Epoch 18/60\n",
            "187/187 [==============================] - 8s 43ms/step - loss: 0.5809 - acc: 0.8545 - val_loss: 0.7029 - val_acc: 0.8037\n",
            "Epoch 19/60\n",
            "187/187 [==============================] - 8s 43ms/step - loss: 0.5698 - acc: 0.8581 - val_loss: 0.6843 - val_acc: 0.8097\n",
            "Epoch 20/60\n",
            "187/187 [==============================] - 8s 42ms/step - loss: 0.5551 - acc: 0.8646 - val_loss: 0.7092 - val_acc: 0.8050\n",
            "Epoch 21/60\n",
            "187/187 [==============================] - 8s 42ms/step - loss: 0.5527 - acc: 0.8691 - val_loss: 0.9346 - val_acc: 0.7433\n",
            "Epoch 22/60\n",
            "187/187 [==============================] - 8s 42ms/step - loss: 0.5128 - acc: 0.8887 - val_loss: 0.6661 - val_acc: 0.8223\n",
            "Epoch 23/60\n",
            "187/187 [==============================] - 8s 42ms/step - loss: 0.4885 - acc: 0.8966 - val_loss: 0.6807 - val_acc: 0.8173\n",
            "Epoch 24/60\n",
            "187/187 [==============================] - 8s 42ms/step - loss: 0.4838 - acc: 0.8988 - val_loss: 0.6732 - val_acc: 0.8197\n",
            "Epoch 25/60\n",
            "187/187 [==============================] - 8s 42ms/step - loss: 0.4727 - acc: 0.9052 - val_loss: 0.6806 - val_acc: 0.8223\n",
            "Epoch 26/60\n",
            "187/187 [==============================] - 8s 42ms/step - loss: 0.4652 - acc: 0.9107 - val_loss: 0.6969 - val_acc: 0.8197\n",
            "Epoch 27/60\n",
            "187/187 [==============================] - 8s 42ms/step - loss: 0.4606 - acc: 0.9073 - val_loss: 0.6770 - val_acc: 0.8217\n",
            "Epoch 28/60\n",
            "187/187 [==============================] - 8s 43ms/step - loss: 0.4570 - acc: 0.9102 - val_loss: 0.7012 - val_acc: 0.8270\n",
            "Epoch 29/60\n",
            "187/187 [==============================] - 8s 43ms/step - loss: 0.4462 - acc: 0.9169 - val_loss: 0.7129 - val_acc: 0.8187\n",
            "Epoch 30/60\n",
            "187/187 [==============================] - 8s 42ms/step - loss: 0.4408 - acc: 0.9190 - val_loss: 0.7470 - val_acc: 0.8160\n",
            "Epoch 31/60\n",
            "187/187 [==============================] - 8s 42ms/step - loss: 0.4305 - acc: 0.9230 - val_loss: 0.7596 - val_acc: 0.8110\n",
            "Epoch 32/60\n",
            "187/187 [==============================] - 8s 42ms/step - loss: 0.4297 - acc: 0.9219 - val_loss: 0.6857 - val_acc: 0.8257\n",
            "Epoch 33/60\n",
            "187/187 [==============================] - 8s 42ms/step - loss: 0.4222 - acc: 0.9251 - val_loss: 0.7282 - val_acc: 0.8313\n",
            "Epoch 34/60\n",
            "187/187 [==============================] - 8s 42ms/step - loss: 0.4172 - acc: 0.9294 - val_loss: 0.7399 - val_acc: 0.8237\n",
            "Epoch 35/60\n",
            "187/187 [==============================] - 8s 43ms/step - loss: 0.4090 - acc: 0.9337 - val_loss: 0.7474 - val_acc: 0.8267\n",
            "Epoch 36/60\n",
            "187/187 [==============================] - 8s 42ms/step - loss: 0.4063 - acc: 0.9312 - val_loss: 0.7210 - val_acc: 0.8310\n",
            "Epoch 37/60\n",
            "187/187 [==============================] - 8s 42ms/step - loss: 0.4042 - acc: 0.9334 - val_loss: 0.7564 - val_acc: 0.8183\n",
            "Epoch 38/60\n",
            "187/187 [==============================] - 8s 43ms/step - loss: 0.3964 - acc: 0.9389 - val_loss: 0.7197 - val_acc: 0.8363\n",
            "Epoch 39/60\n",
            "187/187 [==============================] - 8s 43ms/step - loss: 0.3999 - acc: 0.9338 - val_loss: 0.7676 - val_acc: 0.8213\n",
            "Epoch 40/60\n",
            "187/187 [==============================] - 8s 42ms/step - loss: 0.3903 - acc: 0.9410 - val_loss: 0.7531 - val_acc: 0.8243\n",
            "Epoch 41/60\n",
            "187/187 [==============================] - 8s 42ms/step - loss: 0.3879 - acc: 0.9399 - val_loss: 0.7488 - val_acc: 0.8310\n",
            "Epoch 42/60\n",
            "187/187 [==============================] - 8s 42ms/step - loss: 0.3760 - acc: 0.9473 - val_loss: 0.7599 - val_acc: 0.8267\n",
            "Epoch 43/60\n",
            "187/187 [==============================] - 8s 42ms/step - loss: 0.3538 - acc: 0.9565 - val_loss: 0.7239 - val_acc: 0.8337\n",
            "Epoch 44/60\n",
            "187/187 [==============================] - 8s 42ms/step - loss: 0.3598 - acc: 0.9552 - val_loss: 0.7245 - val_acc: 0.8383\n",
            "Epoch 45/60\n",
            "187/187 [==============================] - 8s 43ms/step - loss: 0.3528 - acc: 0.9571 - val_loss: 0.7573 - val_acc: 0.8260\n",
            "Epoch 46/60\n",
            "187/187 [==============================] - 8s 42ms/step - loss: 0.3515 - acc: 0.9561 - val_loss: 0.7710 - val_acc: 0.8263\n",
            "Epoch 47/60\n",
            "187/187 [==============================] - 8s 42ms/step - loss: 0.3480 - acc: 0.9606 - val_loss: 0.7314 - val_acc: 0.8377\n",
            "Epoch 48/60\n",
            "187/187 [==============================] - 8s 44ms/step - loss: 0.3486 - acc: 0.9577 - val_loss: 0.7510 - val_acc: 0.8340\n",
            "Epoch 49/60\n",
            "187/187 [==============================] - 8s 43ms/step - loss: 0.3438 - acc: 0.9604 - val_loss: 0.7416 - val_acc: 0.8383\n",
            "Epoch 50/60\n",
            "187/187 [==============================] - 8s 43ms/step - loss: 0.3373 - acc: 0.9635 - val_loss: 0.7525 - val_acc: 0.8360\n",
            "Epoch 51/60\n",
            "187/187 [==============================] - 8s 44ms/step - loss: 0.3328 - acc: 0.9650 - val_loss: 0.8230 - val_acc: 0.8240\n",
            "Epoch 52/60\n",
            "187/187 [==============================] - 8s 42ms/step - loss: 0.3317 - acc: 0.9657 - val_loss: 0.7599 - val_acc: 0.8360\n",
            "Epoch 53/60\n",
            "187/187 [==============================] - 8s 42ms/step - loss: 0.3374 - acc: 0.9643 - val_loss: 0.8092 - val_acc: 0.8323\n",
            "Epoch 54/60\n",
            "187/187 [==============================] - 8s 42ms/step - loss: 0.3314 - acc: 0.9651 - val_loss: 0.7764 - val_acc: 0.8380\n",
            "Epoch 55/60\n",
            "187/187 [==============================] - 8s 42ms/step - loss: 0.3270 - acc: 0.9672 - val_loss: 0.7863 - val_acc: 0.8370\n",
            "Epoch 56/60\n",
            "187/187 [==============================] - 8s 42ms/step - loss: 0.3323 - acc: 0.9645 - val_loss: 0.7887 - val_acc: 0.8347\n",
            "Epoch 57/60\n",
            "187/187 [==============================] - 8s 42ms/step - loss: 0.3301 - acc: 0.9660 - val_loss: 0.7780 - val_acc: 0.8417\n",
            "Epoch 58/60\n",
            "187/187 [==============================] - 8s 44ms/step - loss: 0.3241 - acc: 0.9693 - val_loss: 0.7542 - val_acc: 0.8423\n",
            "Epoch 59/60\n",
            "187/187 [==============================] - 8s 43ms/step - loss: 0.3273 - acc: 0.9648 - val_loss: 0.7817 - val_acc: 0.8403\n",
            "Epoch 60/60\n",
            "187/187 [==============================] - 8s 42ms/step - loss: 0.3258 - acc: 0.9665 - val_loss: 0.7831 - val_acc: 0.8373\n"
          ],
          "name": "stdout"
        }
      ]
    },
    {
      "cell_type": "code",
      "metadata": {
        "id": "DYZeckSZ1FA4",
        "colab_type": "code",
        "colab": {}
      },
      "source": [
        "model.load_weights('weights.hdf5')"
      ],
      "execution_count": 0,
      "outputs": []
    },
    {
      "cell_type": "code",
      "metadata": {
        "id": "GlQJMg1YnI17",
        "colab_type": "code",
        "colab": {}
      },
      "source": [
        "model.save('vgg16lowAccuracyModelData.h5')\n"
      ],
      "execution_count": 0,
      "outputs": []
    },
    {
      "cell_type": "code",
      "metadata": {
        "id": "s0zPvx9oEN5_",
        "colab_type": "code",
        "colab": {}
      },
      "source": [
        "# temp_model = keras.models.load_model('lowAccuracyModelData.h5')\n",
        "# temp_model.evaluate(valid_X, valid_ground, verbose=0)"
      ],
      "execution_count": 0,
      "outputs": []
    },
    {
      "cell_type": "code",
      "metadata": {
        "id": "KltF5yv2AZES",
        "colab_type": "code",
        "outputId": "76810bf5-c7e3-4870-8350-d4dada8da3f9",
        "colab": {
          "base_uri": "https://localhost:8080/",
          "height": 545
        }
      },
      "source": [
        "accuracy = model.history.history['acc']\n",
        "val_accuracy = model.history.history['val_acc']\n",
        "loss = model.history.history['loss']\n",
        "val_loss = model.history.history['val_loss']\n",
        "epochs = range(len(accuracy))\n",
        "plt.plot(epochs, accuracy, 'b', label='Training accuracy')\n",
        "plt.plot(epochs, val_accuracy, 'r', label='Validation accuracy')\n",
        "plt.title('Training and validation accuracy')\n",
        "plt.legend()\n",
        "plt.figure()\n",
        "plt.plot(epochs, loss, 'b', label='Training loss')\n",
        "plt.plot(epochs, val_loss, 'r', label='Validation loss')\n",
        "plt.title('Training and validation loss')\n",
        "plt.legend()\n",
        "plt.show()"
      ],
      "execution_count": 32,
      "outputs": [
        {
          "output_type": "display_data",
          "data": {
            "image/png": "[encoded data removed]",
            "text/plain": [
              "<Figure size 432x288 with 1 Axes>"
            ]
          },
          "metadata": {
            "tags": []
          }
        },
        {
          "output_type": "display_data",
          "data": {
            "image/png": "[encoded data removed]",
            "text/plain": [
              "<Figure size 432x288 with 1 Axes>"
            ]
          },
          "metadata": {
            "tags": []
          }
        }
      ]
    },
    {
      "cell_type": "code",
      "metadata": {
        "id": "fJHowfrN1HQg",
        "colab_type": "code",
        "outputId": "80c4e648-482b-4c20-ba5d-a4720eaae90c",
        "colab": {
          "base_uri": "https://localhost:8080/",
          "height": 34
        }
      },
      "source": [
        "model.evaluate(valid_X, valid_ground, verbose=0)"
      ],
      "execution_count": 33,
      "outputs": [
        {
          "output_type": "execute_result",
          "data": {
            "text/plain": [
              "[0.7541908355553945, 0.8423333333333334]"
            ]
          },
          "metadata": {
            "tags": []
          },
          "execution_count": 33
        }
      ]
    },
    {
      "cell_type": "code",
      "metadata": {
        "id": "w4M2DfGjmT3I",
        "colab_type": "code",
        "outputId": "8ffc5889-526a-4e2b-f33a-d486362051dc",
        "colab": {
          "base_uri": "https://localhost:8080/",
          "height": 52
        }
      },
      "source": [
        "#testing\n",
        "test_eval = model.evaluate(test_three_data, test_three_label_one_hot, verbose=0)\n",
        "print('Test loss:', test_eval[0])\n",
        "print('Test accuracy:', test_eval[1])"
      ],
      "execution_count": 34,
      "outputs": [
        {
          "output_type": "stream",
          "text": [
            "Test loss: 0.7851549736658732\n",
            "Test accuracy: 0.8380000001589457\n"
          ],
          "name": "stdout"
        }
      ]
    },
    {
      "cell_type": "code",
      "metadata": {
        "id": "M1_boK_fprtB",
        "colab_type": "code",
        "outputId": "69f6023c-7dd5-4141-de09-2588d6c90c54",
        "colab": {
          "base_uri": "https://localhost:8080/",
          "height": 34
        }
      },
      "source": [
        "test_three_data.shape"
      ],
      "execution_count": 35,
      "outputs": [
        {
          "output_type": "execute_result",
          "data": {
            "text/plain": [
              "(3000, 32, 32, 3)"
            ]
          },
          "metadata": {
            "tags": []
          },
          "execution_count": 35
        }
      ]
    },
    {
      "cell_type": "code",
      "metadata": {
        "id": "ZuH6igT7nbza",
        "colab_type": "code",
        "outputId": "646b7ab4-08d5-469a-abba-30a65d1f361a",
        "colab": {
          "base_uri": "https://localhost:8080/",
          "height": 340
        }
      },
      "source": [
        "# show_imgs(test_three_data[:,1])\n",
        "show_imgs(test_three_data[:16])"
      ],
      "execution_count": 0,
      "outputs": [
        {
          "output_type": "stream",
          "text": [
            "/usr/local/lib/python3.6/dist-packages/ipykernel_launcher.py:10: DeprecationWarning: `toimage` is deprecated!\n",
            "`toimage` is deprecated in SciPy 1.0.0, and will be removed in 1.2.0.\n",
            "Use Pillow's ``Image.fromarray`` directly instead.\n",
            "  # Remove the CWD from sys.path while we load stuff.\n"
          ],
          "name": "stderr"
        },
        {
          "output_type": "display_data",
          "data": {
            "image/png": "[encoded data removed]",
            "text/plain": [
              "<Figure size 432x288 with 16 Axes>"
            ]
          },
          "metadata": {
            "tags": []
          }
        }
      ]
    },
    {
      "cell_type": "code",
      "metadata": {
        "id": "cE1UG2RavZW3",
        "colab_type": "code",
        "colab": {}
      },
      "source": [
        "def getDIScoreOfLayer(layer_output, true_labels):\n",
        "  # computeScatterMatrix\n",
        "  rho = 1e-6\n",
        "  mu = layer_output.mean(axis=0)\n",
        "#   print(mu.shape)\n",
        "  mu = mu.reshape((1,-1))\n",
        "  centered_data = layer_output - mu\n",
        "  S_bar = np.matmul(centered_data.T,centered_data)\n",
        "  # compute between class matrix\n",
        "  total_classes = true_labels.max()\n",
        "  S_B = np.zeros(shape = (mu.shape[1],mu.shape[1]))\n",
        "  S_W = np.zeros(shape = (mu.shape[1],mu.shape[1]))\n",
        "  unique_classes = np.unique(true_labels)\n",
        "  unique_classes_list = np.ndarray.tolist(unique_classes)\n",
        "  for l in unique_classes_list:\n",
        "    class_l_index = np.where(true_labels == l)\n",
        "    class_l_output = layer_output[class_l_index[0],:]\n",
        "    mu_l = class_l_output.mean(axis=0)\n",
        "    mu_l = mu_l.reshape((1,-1))\n",
        "    total_examples_this_class = class_l_index[0].shape   \n",
        "    ss = mu_l - mu\n",
        "    S_B = S_B + total_examples_this_class*np.matmul((mu_l - mu).T,(mu_l - mu))\n",
        "\n",
        "  DI_Score = np.trace(np.matmul(np.linalg.inv(S_bar + rho*np.eye(S_bar.shape[0])),S_B))\n",
        "  return DI_Score"
      ],
      "execution_count": 0,
      "outputs": []
    },
    {
      "cell_type": "code",
      "metadata": {
        "id": "2_q12H9HU7n-",
        "colab_type": "code",
        "colab": {}
      },
      "source": [
        "def getDIScoreOfLayerCNNLayer(cnn_outputs, true_labels):\n",
        "  # computeScatterMatrix\n",
        "  number_of_filters = cnn_outputs.shape[3]\n",
        "  cnn_di_scores = []\n",
        "  for filt in range(0,number_of_filters):\n",
        "    outputs_filter = cnn_outputs[:,:,:,filt]\n",
        "    outputs_filter_reshaped = np.reshape(outputs_filter, newshape=(cnn_outputs.shape[0],-1))\n",
        "    this_filter_score = getDIScoreOfLayer(outputs_filter_reshaped, true_labels)\n",
        "    cnn_di_scores.append(this_filter_score)\n",
        "  return cnn_di_scores"
      ],
      "execution_count": 0,
      "outputs": []
    },
    {
      "cell_type": "code",
      "metadata": {
        "id": "mPTmOl-QERZN",
        "colab_type": "code",
        "outputId": "b4c8941f-eef5-4268-9204-2e3c0ce111be",
        "colab": {
          "base_uri": "https://localhost:8080/",
          "height": 34
        }
      },
      "source": [
        "# layer_name\n",
        "valid_X.shape"
      ],
      "execution_count": 0,
      "outputs": [
        {
          "output_type": "execute_result",
          "data": {
            "text/plain": [
              "(3000, 32, 32, 3)"
            ]
          },
          "metadata": {
            "tags": []
          },
          "execution_count": 82
        }
      ]
    },
    {
      "cell_type": "code",
      "metadata": {
        "id": "bRQ1YTnsd6zM",
        "colab_type": "code",
        "colab": {}
      },
      "source": [
        "# train_three_data, train_three_label"
      ],
      "execution_count": 0,
      "outputs": []
    },
    {
      "cell_type": "code",
      "metadata": {
        "id": "pe0g2T0IA7sG",
        "colab_type": "code",
        "colab": {}
      },
      "source": [
        "layer_name = 'conv2d_6'\n",
        "get_cnn1_output_function = K.function([model.layers[0].input],\n",
        "                                  [model.get_layer(layer_name).output])   #get_layer test_three_label\n",
        "cnn1_output = get_cnn1_output_function([train_three_data])[0]"
      ],
      "execution_count": 0,
      "outputs": []
    },
    {
      "cell_type": "code",
      "metadata": {
        "id": "4Yy-y5xIWdz6",
        "colab_type": "code",
        "outputId": "5e6df7f7-e5ae-46c1-9595-776409db293c",
        "colab": {
          "base_uri": "https://localhost:8080/",
          "height": 34
        }
      },
      "source": [
        "cnn1_output.shape"
      ],
      "execution_count": 0,
      "outputs": [
        {
          "output_type": "execute_result",
          "data": {
            "text/plain": [
              "(15000, 8, 8, 128)"
            ]
          },
          "metadata": {
            "tags": []
          },
          "execution_count": 104
        }
      ]
    },
    {
      "cell_type": "code",
      "metadata": {
        "id": "26Q6Hfa8rTd6",
        "colab_type": "code",
        "colab": {}
      },
      "source": [
        "from keras.utils.vis_utils import plot_model"
      ],
      "execution_count": 0,
      "outputs": []
    },
    {
      "cell_type": "code",
      "metadata": {
        "id": "EF3q_KOgYTxb",
        "colab_type": "code",
        "colab": {}
      },
      "source": [
        "plot_model(model, to_file=\"cifar10Architecture.png\", show_shapes=True, show_layer_names=True)"
      ],
      "execution_count": 0,
      "outputs": []
    },
    {
      "cell_type": "code",
      "metadata": {
        "id": "B0Hfr4ZwB8dX",
        "colab_type": "code",
        "outputId": "186689eb-681e-4ee6-e6d2-35734439e701",
        "colab": {
          "base_uri": "https://localhost:8080/",
          "height": 34
        }
      },
      "source": [
        "np.ndarray.tolist(np.unique(test_three_label))"
      ],
      "execution_count": 0,
      "outputs": [
        {
          "output_type": "execute_result",
          "data": {
            "text/plain": [
              "[0, 3, 5]"
            ]
          },
          "metadata": {
            "tags": []
          },
          "execution_count": 107
        }
      ]
    },
    {
      "cell_type": "code",
      "metadata": {
        "id": "pM8xfShbdHJV",
        "colab_type": "code",
        "colab": {}
      },
      "source": [
        "# valid_ground_cat = np.argmax(train_ground, axis=1)\n",
        "# # valid_ground_cat\n",
        "# valid_ground.shape"
      ],
      "execution_count": 0,
      "outputs": []
    },
    {
      "cell_type": "code",
      "metadata": {
        "id": "jZ1IST7pBZ92",
        "colab_type": "code",
        "colab": {}
      },
      "source": [
        "\n",
        "di_scores = getDIScoreOfLayerCNNLayer(cnn1_output, train_three_label)"
      ],
      "execution_count": 0,
      "outputs": []
    },
    {
      "cell_type": "code",
      "metadata": {
        "id": "RZnzBi-7BcfM",
        "colab_type": "code",
        "outputId": "d47065e9-6842-403f-903c-537c8fda1bce",
        "colab": {
          "base_uri": "https://localhost:8080/",
          "height": 365
        }
      },
      "source": [
        "y_pos  = np.arange(len(di_scores))\n",
        "plt.bar(y_pos, di_scores, align='center', alpha=0.5)\n",
        "plt.xlabel('FilterNumber')\n",
        "plt.ylabel('DI Score')\n",
        "\n",
        "print('Mean of DI SCore: ',np.mean(di_scores))\n",
        "print('STD of DI Score: ', np.std(di_scores))\n",
        "print('MAX of DI Score: ', np.max(di_scores))\n",
        "plt.title('DI score - Data - D_L, Network -N_L, Conv_6')\n",
        "plt.ylim([0,1])"
      ],
      "execution_count": 0,
      "outputs": [
        {
          "output_type": "stream",
          "text": [
            "Mean of DI SCore:  0.46968247829146104\n",
            "STD of DI Score:  0.17012919206958768\n",
            "MAX of DI Score:  0.8879906467627727\n"
          ],
          "name": "stdout"
        },
        {
          "output_type": "execute_result",
          "data": {
            "text/plain": [
              "(0, 1)"
            ]
          },
          "metadata": {
            "tags": []
          },
          "execution_count": 114
        },
        {
          "output_type": "display_data",
          "data": {
            "image/png": "[encoded data removed]",
            "text/plain": [
              "<Figure size 432x288 with 1 Axes>"
            ]
          },
          "metadata": {
            "tags": []
          }
        }
      ]
    },
    {
      "cell_type": "code",
      "metadata": {
        "id": "gFs0BsyhzMXk",
        "colab_type": "code",
        "colab": {}
      },
      "source": [
        "# model.summary()"
      ],
      "execution_count": 0,
      "outputs": []
    },
    {
      "cell_type": "markdown",
      "metadata": {
        "colab_type": "text",
        "id": "Xkj_8m7OpfxD"
      },
      "source": [
        "## DI on different data\n",
        "\n",
        "1.   List item\n",
        "2.   List item\n",
        "\n"
      ]
    },
    {
      "cell_type": "code",
      "metadata": {
        "colab_type": "code",
        "outputId": "9c789423-23ba-478b-eeeb-64a19bd8cefe",
        "id": "JcsAbLG_pfwz",
        "colab": {
          "base_uri": "https://localhost:8080/",
          "height": 87
        }
      },
      "source": [
        "\n",
        "train_three_data_low,train_three_label_low,test_three_data_low,test_three_label_low = getThreeClassesTrainTest([1,8,9],x_train,y_train,x_test,y_test)"
      ],
      "execution_count": 0,
      "outputs": [
        {
          "output_type": "stream",
          "text": [
            "[    4     5    32 ... 49993 49998 49999]\n",
            "[    8    62    69 ... 49968 49976 49985]\n",
            "[    1     2    14 ... 49963 49971 49997]\n",
            "(15000, 1)\n"
          ],
          "name": "stdout"
        }
      ]
    },
    {
      "cell_type": "code",
      "metadata": {
        "colab_type": "code",
        "id": "vA_9sjRGpfwn",
        "colab": {}
      },
      "source": [
        "\n",
        "# split train data and to create validation data\n",
        "train_X_low,valid_X_low,train_ground_low,valid_ground_low = train_test_split(train_three_data_low,\n",
        "                                                             train_three_label_low,\n",
        "                                                             test_size=0.2,\n",
        "                                                             random_state=13)"
      ],
      "execution_count": 0,
      "outputs": []
    },
    {
      "cell_type": "code",
      "metadata": {
        "colab_type": "code",
        "outputId": "6939f482-af89-4f16-8050-cd1bd5d1116a",
        "id": "-zNgfVTPpfwa",
        "colab": {
          "base_uri": "https://localhost:8080/",
          "height": 34
        }
      },
      "source": [
        "layer_name = 'conv2d_6'\n",
        "get_cnn1_output_function_low = K.function([model.layers[0].input],\n",
        "                                  [model.get_layer(layer_name).output])   #get_layer test_three_label\n",
        "cnn1_output_low = get_cnn1_output_function_low([train_three_data_low])[0]\n",
        "cnn1_output_low.shape"
      ],
      "execution_count": 0,
      "outputs": [
        {
          "output_type": "execute_result",
          "data": {
            "text/plain": [
              "(15000, 8, 8, 128)"
            ]
          },
          "metadata": {
            "tags": []
          },
          "execution_count": 100
        }
      ]
    },
    {
      "cell_type": "code",
      "metadata": {
        "colab_type": "code",
        "id": "C0RAKBX5pfwR",
        "colab": {}
      },
      "source": [
        "di_scores_low = getDIScoreOfLayerCNNLayer(cnn1_output_low, train_three_label_low)\n"
      ],
      "execution_count": 0,
      "outputs": []
    },
    {
      "cell_type": "code",
      "metadata": {
        "colab_type": "code",
        "outputId": "dad4626d-35b5-4e26-b7ac-f7c83d2e5ad1",
        "id": "lYpxC9KMpfwD",
        "colab": {
          "base_uri": "https://localhost:8080/",
          "height": 365
        }
      },
      "source": [
        "y_pos  = np.arange(len(di_scores_low))\n",
        "plt.bar(y_pos, di_scores_low, align='center', alpha=0.5)\n",
        "plt.xlabel('FilterNumber')\n",
        "plt.ylabel('DI Score')\n",
        "\n",
        "print('Mean of DI SCore: ',np.mean(di_scores_low))\n",
        "print('STD of DI Score: ', np.std(di_scores_low))\n",
        "print('MAX of DI Score: ', np.max(di_scores_low))\n",
        "plt.title('DI score - Data - D_H, Network -N_L, Conv_6')\n",
        "plt.ylim([0,1])"
      ],
      "execution_count": 0,
      "outputs": [
        {
          "output_type": "stream",
          "text": [
            "Mean of DI SCore:  0.25325489539602447\n",
            "STD of DI Score:  0.07981976639878438\n",
            "MAX of DI Score:  0.48132421143127047\n"
          ],
          "name": "stdout"
        },
        {
          "output_type": "execute_result",
          "data": {
            "text/plain": [
              "(0, 1)"
            ]
          },
          "metadata": {
            "tags": []
          },
          "execution_count": 113
        },
        {
          "output_type": "display_data",
          "data": {
            "image/png": "[encoded data removed]",
            "text/plain": [
              "<Figure size 432x288 with 1 Axes>"
            ]
          },
          "metadata": {
            "tags": []
          }
        }
      ]
    },
    {
      "cell_type": "code",
      "metadata": {
        "colab_type": "code",
        "outputId": "964f1ccc-2699-487a-9298-1fb1a316a3f9",
        "id": "UH9t29tspfv1",
        "colab": {
          "base_uri": "https://localhost:8080/",
          "height": 887
        }
      },
      "source": [
        "model.summary()"
      ],
      "execution_count": 0,
      "outputs": [
        {
          "output_type": "stream",
          "text": [
            "_________________________________________________________________\n",
            "Layer (type)                 Output Shape              Param #   \n",
            "=================================================================\n",
            "input_1 (InputLayer)         (None, 32, 32, 3)         0         \n",
            "_________________________________________________________________\n",
            "conv2d_1 (Conv2D)            (None, 32, 32, 32)        896       \n",
            "_________________________________________________________________\n",
            "batch_normalization_1 (Batch (None, 32, 32, 32)        128       \n",
            "_________________________________________________________________\n",
            "conv2d_2 (Conv2D)            (None, 32, 32, 32)        9248      \n",
            "_________________________________________________________________\n",
            "batch_normalization_2 (Batch (None, 32, 32, 32)        128       \n",
            "_________________________________________________________________\n",
            "max_pooling2d_1 (MaxPooling2 (None, 16, 16, 32)        0         \n",
            "_________________________________________________________________\n",
            "dropout_1 (Dropout)          (None, 16, 16, 32)        0         \n",
            "_________________________________________________________________\n",
            "conv2d_3 (Conv2D)            (None, 16, 16, 64)        18496     \n",
            "_________________________________________________________________\n",
            "batch_normalization_3 (Batch (None, 16, 16, 64)        256       \n",
            "_________________________________________________________________\n",
            "conv2d_4 (Conv2D)            (None, 16, 16, 64)        36928     \n",
            "_________________________________________________________________\n",
            "batch_normalization_4 (Batch (None, 16, 16, 64)        256       \n",
            "_________________________________________________________________\n",
            "max_pooling2d_2 (MaxPooling2 (None, 8, 8, 64)          0         \n",
            "_________________________________________________________________\n",
            "dropout_2 (Dropout)          (None, 8, 8, 64)          0         \n",
            "_________________________________________________________________\n",
            "conv2d_5 (Conv2D)            (None, 8, 8, 128)         73856     \n",
            "_________________________________________________________________\n",
            "batch_normalization_5 (Batch (None, 8, 8, 128)         512       \n",
            "_________________________________________________________________\n",
            "conv2d_6 (Conv2D)            (None, 8, 8, 128)         147584    \n",
            "_________________________________________________________________\n",
            "batch_normalization_6 (Batch (None, 8, 8, 128)         512       \n",
            "_________________________________________________________________\n",
            "max_pooling2d_3 (MaxPooling2 (None, 4, 4, 128)         0         \n",
            "_________________________________________________________________\n",
            "dropout_3 (Dropout)          (None, 4, 4, 128)         0         \n",
            "_________________________________________________________________\n",
            "flatten_1 (Flatten)          (None, 2048)              0         \n",
            "_________________________________________________________________\n",
            "dense_1 (Dense)              (None, 3)                 6147      \n",
            "=================================================================\n",
            "Total params: 294,947\n",
            "Trainable params: 294,051\n",
            "Non-trainable params: 896\n",
            "_________________________________________________________________\n"
          ],
          "name": "stdout"
        }
      ]
    },
    {
      "cell_type": "code",
      "metadata": {
        "colab_type": "code",
        "id": "lK3KHL2Bpfvt",
        "colab": {}
      },
      "source": [
        "# # not working\n",
        "# mat_save = {'diScore': di_scores, 'conv2d_1': cnn1_output, 'trueLabel':train_three_label}\n",
        "# savemat('LowAccuracyConv2d_1MatrixMethod', mat_save) "
      ],
      "execution_count": 0,
      "outputs": []
    },
    {
      "cell_type": "code",
      "metadata": {
        "colab_type": "code",
        "id": "Fvw5s5K8pfvk",
        "colab": {}
      },
      "source": [
        ""
      ],
      "execution_count": 0,
      "outputs": []
    },
    {
      "cell_type": "markdown",
      "metadata": {
        "colab_type": "text",
        "id": "PMqp4Ao3pfvg"
      },
      "source": [
        ""
      ]
    },
    {
      "cell_type": "code",
      "metadata": {
        "colab_type": "code",
        "id": "jkozbZpypfvX",
        "colab": {}
      },
      "source": [
        ""
      ],
      "execution_count": 0,
      "outputs": []
    },
    {
      "cell_type": "code",
      "metadata": {
        "colab_type": "code",
        "outputId": "90f23b1a-a2ef-43cc-f7a8-e6d22f0c1645",
        "id": "x-H8BlZUpfuw",
        "colab": {
          "base_uri": "https://localhost:8080/",
          "height": 35
        }
      },
      "source": [
        "sum(di_scores)"
      ],
      "execution_count": 0,
      "outputs": [
        {
          "output_type": "execute_result",
          "data": {
            "text/plain": [
              "14.049834714257239"
            ]
          },
          "metadata": {
            "tags": []
          },
          "execution_count": 46
        }
      ]
    },
    {
      "cell_type": "code",
      "metadata": {
        "colab_type": "code",
        "outputId": "dc5ee49b-0567-4d1b-a541-5a8f8731c467",
        "id": "JvJ41KIfpfuc",
        "colab": {
          "base_uri": "https://localhost:8080/",
          "height": 35
        }
      },
      "source": [
        "max(di_scores)"
      ],
      "execution_count": 0,
      "outputs": [
        {
          "output_type": "execute_result",
          "data": {
            "text/plain": [
              "0.6375973839423631"
            ]
          },
          "metadata": {
            "tags": []
          },
          "execution_count": 47
        }
      ]
    },
    {
      "cell_type": "code",
      "metadata": {
        "colab_type": "code",
        "id": "uWwVdXn0pft-",
        "colab": {}
      },
      "source": [
        "from scipy.io import savemat\n"
      ],
      "execution_count": 0,
      "outputs": []
    },
    {
      "cell_type": "code",
      "metadata": {
        "colab_type": "code",
        "id": "7GwdcjmBpfs0",
        "colab": {}
      },
      "source": [
        ""
      ],
      "execution_count": 0,
      "outputs": []
    }
  ]
}