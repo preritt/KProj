{
  "nbformat": 4,
  "nbformat_minor": 0,
  "metadata": {
    "colab": {
      "name": "ForRetrainCrossTransferVgg11 ProposalHighAccuracyDataVer01_60Epoch.ipynb",
      "version": "0.3.2",
      "provenance": [],
      "collapsed_sections": [],
      "toc_visible": true,
      "include_colab_link": true
    },
    "kernelspec": {
      "name": "python3",
      "display_name": "Python 3"
    },
    "accelerator": "GPU"
  },
  "cells": [
    {
      "cell_type": "markdown",
      "metadata": {
        "id": "view-in-github",
        "colab_type": "text"
      },
      "source": [
        "<a href=\"https://colab.research.google.com/github/preritt/KProj/blob/master/ForRetrainCrossTransferVgg11_ProposalHighAccuracyDataVer01_60Epoch.ipynb\" target=\"_parent\"><img src=\"https://colab.research.google.com/assets/colab-badge.svg\" alt=\"Open In Colab\"/></a>"
      ]
    },
    {
      "cell_type": "code",
      "metadata": {
        "id": "FgwWyMb6iCkO",
        "colab_type": "code",
        "colab": {}
      },
      "source": [
        "import keras\n",
        "from matplotlib import pyplot as plt\n",
        "import numpy as np\n",
        "import gzip\n",
        "%matplotlib inline\n",
        "from keras.models import Model\n",
        "from keras.optimizers import RMSprop\n",
        "from keras.layers import Input,Dense,Flatten,Dropout,merge,Reshape,Conv2D,MaxPooling2D,UpSampling2D,Conv2DTranspose\n",
        "from keras.layers.normalization import BatchNormalization\n",
        "from keras.models import Model,Sequential\n",
        "from keras.callbacks import ModelCheckpoint\n",
        "from keras.optimizers import Adadelta, RMSprop,SGD,Adam\n",
        "from keras import regularizers\n",
        "from keras import backend as K\n",
        "from keras.utils import to_categorical\n",
        "from keras.datasets import cifar10\n",
        "from sklearn import preprocessing\n",
        "from keras import losses"
      ],
      "execution_count": 0,
      "outputs": []
    },
    {
      "cell_type": "code",
      "metadata": {
        "id": "Mqm8mJJu0AU4",
        "colab_type": "code",
        "colab": {}
      },
      "source": [
        ""
      ],
      "execution_count": 0,
      "outputs": []
    },
    {
      "cell_type": "code",
      "metadata": {
        "id": "txdR9fEabt2P",
        "colab_type": "code",
        "colab": {}
      },
      "source": [
        "\n",
        "from keras.models import model_from_json"
      ],
      "execution_count": 0,
      "outputs": []
    },
    {
      "cell_type": "code",
      "metadata": {
        "id": "PYdWJtFsiF1a",
        "colab_type": "code",
        "colab": {}
      },
      "source": [
        "import keras\n",
        "from keras.models import Sequential\n",
        "from keras.utils import np_utils\n",
        "from keras.preprocessing.image import ImageDataGenerator\n",
        "from keras.layers import Dense, Activation, Flatten, Dropout, BatchNormalization\n",
        "from keras.layers import Conv2D, MaxPooling2D\n",
        "from keras.datasets import cifar10\n",
        "from keras import regularizers\n",
        "from keras.callbacks import LearningRateScheduler\n",
        "import numpy as np\n",
        "from sklearn.metrics import confusion_matrix\n",
        "from sklearn.model_selection import train_test_split\n",
        "from sklearn.utils import shuffle"
      ],
      "execution_count": 0,
      "outputs": []
    },
    {
      "cell_type": "code",
      "metadata": {
        "id": "lJ9XYVEOAprv",
        "colab_type": "code",
        "colab": {}
      },
      "source": [
        "keras.backend.clear_session()"
      ],
      "execution_count": 0,
      "outputs": []
    },
    {
      "cell_type": "code",
      "metadata": {
        "id": "9m3ehGh2iIBA",
        "colab_type": "code",
        "colab": {
          "base_uri": "https://localhost:8080/",
          "height": 338
        },
        "outputId": "5f76c68f-d274-4d6d-d1ac-40eba6d26307"
      },
      "source": [
        "from matplotlib import pyplot\n",
        "from scipy.misc import toimage\n",
        "from keras.datasets import cifar10\n",
        "def show_imgs(X):\n",
        "    pyplot.figure(1)\n",
        "    k = 0\n",
        "    for i in range(0,4):\n",
        "        for j in range(0,4):\n",
        "            pyplot.subplot2grid((4,4),(i,j))\n",
        "            pyplot.imshow(toimage(X[k]))\n",
        "            k = k+1\n",
        "    # show the plot\n",
        "    pyplot.show()\n",
        " \n",
        "(x_train, y_train), (x_test, y_test) = cifar10.load_data()\n",
        "show_imgs(x_test[:16])\n"
      ],
      "execution_count": 34,
      "outputs": [
        {
          "output_type": "stream",
          "text": [
            "/usr/local/lib/python3.6/dist-packages/ipykernel_launcher.py:10: DeprecationWarning: `toimage` is deprecated!\n",
            "`toimage` is deprecated in SciPy 1.0.0, and will be removed in 1.2.0.\n",
            "Use Pillow's ``Image.fromarray`` directly instead.\n",
            "  # Remove the CWD from sys.path while we load stuff.\n"
          ],
          "name": "stderr"
        },
        {
          "output_type": "display_data",
          "data": {
            "image/png": "[encoded data removed]",
            "text/plain": [
              "<Figure size 432x288 with 16 Axes>"
            ]
          },
          "metadata": {
            "tags": []
          }
        }
      ]
    },
    {
      "cell_type": "code",
      "metadata": {
        "id": "hVAjMdeSrloa",
        "colab_type": "code",
        "colab": {
          "base_uri": "https://localhost:8080/",
          "height": 34
        },
        "outputId": "e406ad46-85f6-4e70-c0c3-57d500539805"
      },
      "source": [
        "x_test.shape"
      ],
      "execution_count": 35,
      "outputs": [
        {
          "output_type": "execute_result",
          "data": {
            "text/plain": [
              "(10000, 32, 32, 3)"
            ]
          },
          "metadata": {
            "tags": []
          },
          "execution_count": 35
        }
      ]
    },
    {
      "cell_type": "code",
      "metadata": {
        "id": "ngfK-2Qewhtq",
        "colab_type": "code",
        "colab": {}
      },
      "source": [
        "# This function takes the entire traaining data and test data and corresponding categorical label and returns the corresponding data in class indices\n",
        "def getThreeClassesTrainTest(class_indices,train_data,train_labels,test_data,test_labels):\n",
        "  all_train_data = []\n",
        "  all_train_data_label = []\n",
        "  all_test_data = []\n",
        "  all_test_data_label = []\n",
        "  for ind in class_indices:\n",
        "    this_class_location_train =  np.where(train_labels==ind)[0] # train_labels[train_labels == ind]\n",
        "    this_class_data_train = train_data[this_class_location_train,:]\n",
        "    this_class_data_train_label = train_labels[this_class_location_train]\n",
        "    print(this_class_location_train)\n",
        "    \n",
        "    this_class_location_test = np.where(test_labels==ind)[0] #test_labels[test_labels == ind]\n",
        "    this_class_data_test = test_data[this_class_location_test,:]\n",
        "    this_class_data_test_label = test_labels[this_class_location_test]\n",
        "    \n",
        "    all_train_data.append(this_class_data_train)\n",
        "    all_test_data.append(this_class_data_test)\n",
        "    all_train_data_label.append(this_class_data_train_label)\n",
        "    all_test_data_label.append(this_class_data_test_label)\n",
        "    \n",
        "  train_data_three = all_train_data[0]\n",
        "  train_label_three = all_train_data_label[0]\n",
        "  test_data_three = all_test_data[0]\n",
        "  test_label_three = all_test_data_label[0]\n",
        "  \n",
        "  for j in range(1,len(class_indices)):\n",
        "    train_data_three = np.concatenate((train_data_three,all_train_data[j]))\n",
        "    train_label_three = np.concatenate((train_label_three,all_train_data_label[j]))\n",
        "\n",
        "    test_data_three = np.concatenate((test_data_three,all_test_data[j]))\n",
        "    test_label_three = np.concatenate((test_label_three,all_test_data_label[j]))\n",
        "  print(train_label_three.shape)\n",
        "  train_label_three = np.reshape(train_label_three,newshape=(-1,))\n",
        "  test_label_three = np.reshape(test_label_three,newshape=(-1,))\n",
        "  return train_data_three, train_label_three, test_data_three,test_label_three"
      ],
      "execution_count": 0,
      "outputs": []
    },
    {
      "cell_type": "code",
      "metadata": {
        "id": "3ZJV35fkrj3O",
        "colab_type": "code",
        "colab": {}
      },
      "source": [
        "         "
      ],
      "execution_count": 0,
      "outputs": []
    },
    {
      "cell_type": "markdown",
      "metadata": {
        "id": "2ekn-CkLikYJ",
        "colab_type": "text"
      },
      "source": [
        "### Get only three classes of data and train the model on it"
      ]
    },
    {
      "cell_type": "code",
      "metadata": {
        "id": "VPYv1L-uigzL",
        "colab_type": "code",
        "colab": {
          "base_uri": "https://localhost:8080/",
          "height": 86
        },
        "outputId": "5998a988-5374-4034-95c9-68d62f340ec1"
      },
      "source": [
        "train_three_data,train_three_label,test_three_data,test_three_label = getThreeClassesTrainTest([ 1,8,9 ],x_train,y_train,x_test,y_test)"
      ],
      "execution_count": 37,
      "outputs": [
        {
          "output_type": "stream",
          "text": [
            "[    4     5    32 ... 49993 49998 49999]\n",
            "[    8    62    69 ... 49968 49976 49985]\n",
            "[    1     2    14 ... 49963 49971 49997]\n",
            "(15000, 1)\n"
          ],
          "name": "stdout"
        }
      ]
    },
    {
      "cell_type": "code",
      "metadata": {
        "id": "PLS-ReIgjevf",
        "colab_type": "code",
        "colab": {}
      },
      "source": [
        "np.save('train_three_data_HiAcc.npy',train_three_data)\n",
        "np.save('train_three_label_HiAcc.npy',train_three_label)\n",
        "np.save('test_three_data_HiAcc.npy',test_three_data)\n",
        "np.save('test_three_label_HiAcc.npy',test_three_label)\n",
        "\n"
      ],
      "execution_count": 0,
      "outputs": []
    },
    {
      "cell_type": "code",
      "metadata": {
        "id": "9luxTYeM3aZO",
        "colab_type": "code",
        "colab": {
          "base_uri": "https://localhost:8080/",
          "height": 338
        },
        "outputId": "a93e5ddb-b842-4980-eddb-209146b1d305"
      },
      "source": [
        "plt.hist(train_three_label)"
      ],
      "execution_count": 39,
      "outputs": [
        {
          "output_type": "execute_result",
          "data": {
            "text/plain": [
              "(array([5000.,    0.,    0.,    0.,    0.,    0.,    0.,    0., 5000.,\n",
              "        5000.]),\n",
              " array([1. , 1.8, 2.6, 3.4, 4.2, 5. , 5.8, 6.6, 7.4, 8.2, 9. ]),\n",
              " <a list of 10 Patch objects>)"
            ]
          },
          "metadata": {
            "tags": []
          },
          "execution_count": 39
        },
        {
          "output_type": "display_data",
          "data": {
            "image/png": "[encoded data removed]",
            "text/plain": [
              "<Figure size 432x288 with 1 Axes>"
            ]
          },
          "metadata": {
            "tags": []
          }
        }
      ]
    },
    {
      "cell_type": "code",
      "metadata": {
        "id": "Dni1oqIcyPai",
        "colab_type": "code",
        "colab": {
          "base_uri": "https://localhost:8080/",
          "height": 338
        },
        "outputId": "a429b1af-0e96-4c7f-c11e-aa11280fcf99"
      },
      "source": [
        "# test_three_label.shape\n",
        "plt.hist(test_three_label)"
      ],
      "execution_count": 40,
      "outputs": [
        {
          "output_type": "execute_result",
          "data": {
            "text/plain": [
              "(array([1000.,    0.,    0.,    0.,    0.,    0.,    0.,    0., 1000.,\n",
              "        1000.]),\n",
              " array([1. , 1.8, 2.6, 3.4, 4.2, 5. , 5.8, 6.6, 7.4, 8.2, 9. ]),\n",
              " <a list of 10 Patch objects>)"
            ]
          },
          "metadata": {
            "tags": []
          },
          "execution_count": 40
        },
        {
          "output_type": "display_data",
          "data": {
            "image/png": "[encoded data removed]",
            "text/plain": [
              "<Figure size 432x288 with 1 Axes>"
            ]
          },
          "metadata": {
            "tags": []
          }
        }
      ]
    },
    {
      "cell_type": "code",
      "metadata": {
        "id": "fuM8CeuRsDzW",
        "colab_type": "code",
        "colab": {}
      },
      "source": [
        "train_three_data, train_three_label = shuffle(train_three_data, train_three_label )\n",
        "test_three_data,test_three_label = shuffle(test_three_data,test_three_label )"
      ],
      "execution_count": 0,
      "outputs": []
    },
    {
      "cell_type": "code",
      "metadata": {
        "id": "EshrdJ78fp7U",
        "colab_type": "code",
        "colab": {}
      },
      "source": [
        ""
      ],
      "execution_count": 0,
      "outputs": []
    },
    {
      "cell_type": "code",
      "metadata": {
        "id": "mbK7iwsZx8QW",
        "colab_type": "code",
        "colab": {}
      },
      "source": [
        "le = preprocessing.LabelEncoder()\n",
        "le.fit_transform(train_three_label)\n",
        "train_three_label_cat = le.transform(train_three_label)\n",
        "test_three_label_cat = le.transform(test_three_label)"
      ],
      "execution_count": 0,
      "outputs": []
    },
    {
      "cell_type": "code",
      "metadata": {
        "id": "jYJt52bU0ooK",
        "colab_type": "code",
        "colab": {
          "base_uri": "https://localhost:8080/",
          "height": 34
        },
        "outputId": "1379c8f1-3818-435a-9c43-1d2db4aeccfd"
      },
      "source": [
        "train_three_label_cat.shape"
      ],
      "execution_count": 43,
      "outputs": [
        {
          "output_type": "execute_result",
          "data": {
            "text/plain": [
              "(15000,)"
            ]
          },
          "metadata": {
            "tags": []
          },
          "execution_count": 43
        }
      ]
    },
    {
      "cell_type": "code",
      "metadata": {
        "id": "r3Ydm3cykUFn",
        "colab_type": "code",
        "colab": {}
      },
      "source": [
        "train_three_label_one_hot = to_categorical(train_three_label_cat)\n",
        "test_three_label_one_hot = to_categorical(test_three_label_cat)\n"
      ],
      "execution_count": 0,
      "outputs": []
    },
    {
      "cell_type": "code",
      "metadata": {
        "id": "_O4_VLoJ6vSF",
        "colab_type": "code",
        "colab": {
          "base_uri": "https://localhost:8080/",
          "height": 34
        },
        "outputId": "9fa0b5ae-880e-4822-b000-0fbddccd2997"
      },
      "source": [
        "test_three_label_one_hot.shape"
      ],
      "execution_count": 45,
      "outputs": [
        {
          "output_type": "execute_result",
          "data": {
            "text/plain": [
              "(3000, 3)"
            ]
          },
          "metadata": {
            "tags": []
          },
          "execution_count": 45
        }
      ]
    },
    {
      "cell_type": "code",
      "metadata": {
        "id": "UIrWUPz_lGvF",
        "colab_type": "code",
        "colab": {}
      },
      "source": [
        "# split train data and to create validation data\n",
        "train_X,valid_X,train_ground,valid_ground = train_test_split(train_three_data,\n",
        "                                                             train_three_label_one_hot,\n",
        "                                                             test_size=0.2,\n",
        "                                                             random_state=13)"
      ],
      "execution_count": 0,
      "outputs": []
    },
    {
      "cell_type": "code",
      "metadata": {
        "id": "H6AkQaz-kRh0",
        "colab_type": "code",
        "colab": {}
      },
      "source": [
        "num_classes = test_three_label_one_hot.shape[1]"
      ],
      "execution_count": 0,
      "outputs": []
    },
    {
      "cell_type": "code",
      "metadata": {
        "id": "duFF_pGbj2i1",
        "colab_type": "code",
        "colab": {}
      },
      "source": [
        "x, y = 32, 32\n",
        "inChannel = 3\n",
        "input_img = Input(shape = (x, y, inChannel))\n",
        "ep = 10 \n",
        "weight_decay = 1e-4"
      ],
      "execution_count": 0,
      "outputs": []
    },
    {
      "cell_type": "code",
      "metadata": {
        "id": "Pt1coy0mkFrj",
        "colab_type": "code",
        "colab": {}
      },
      "source": [
        "def lr_schedule(epoch):\n",
        "    lrate = 0.001\n",
        "    if epoch > 20:\n",
        "        lrate = 0.001/3\n",
        "    if epoch > 40:\n",
        "        lrate = 0.001/9\n",
        "    return lrate"
      ],
      "execution_count": 0,
      "outputs": []
    },
    {
      "cell_type": "code",
      "metadata": {
        "id": "4IbtMUdhiscG",
        "colab_type": "code",
        "colab": {}
      },
      "source": [
        "# def cifar10Classifier(input_img):\n",
        "  \n",
        "#   conv1 = (Conv2D(32, (3,3), padding='same', kernel_regularizer=regularizers.l2(weight_decay), input_shape=x_train.shape[1:], activation='elu'))(input_img)\n",
        "#   conv1 = BatchNormalization()(conv1)\n",
        "#   conv1 = (Conv2D(32, (3,3), padding='same', activation= 'elu',kernel_regularizer=regularizers.l2(weight_decay)))(conv1)\n",
        "#   conv1 = BatchNormalization()(conv1)\n",
        "#   pool1 = MaxPooling2D(pool_size=(2, 2))(conv1) #14 x 14 x 32\n",
        "#   drop1= Dropout(.2)(pool1)\n",
        "\n",
        "#   conv2 = (Conv2D(64, (3,3), padding='same', kernel_regularizer=regularizers.l2(weight_decay), activation='elu'))(drop1)\n",
        "#   conv2 = BatchNormalization()(conv2)\n",
        "#   conv2 = (Conv2D(64, (3,3), padding='same', activation= 'elu',kernel_regularizer=regularizers.l2(weight_decay)))(conv2)\n",
        "#   conv2 = BatchNormalization()(conv2)\n",
        "#   pool2 = MaxPooling2D(pool_size=(2, 2))(conv2) #14 x 14 x 32\n",
        "#   drop2= Dropout(.3)(pool2)\n",
        "\n",
        "#   conv3 = (Conv2D(128, (3,3), padding='same', kernel_regularizer=regularizers.l2(weight_decay), activation='elu'))(drop2)\n",
        "#   conv3 = BatchNormalization()(conv3)\n",
        "#   conv3 = (Conv2D(128, (3,3), padding='same', activation= 'elu',kernel_regularizer=regularizers.l2(weight_decay)))(conv3)\n",
        "#   conv3 = BatchNormalization()(conv3)\n",
        "#   pool3 = MaxPooling2D(pool_size=(2, 2))(conv3) #14 x 14 x 32\n",
        "#   drop3= Dropout(.4)(pool3)\n",
        "\n",
        "#   flat = Flatten()(drop3)\n",
        "#   out = Dense(num_classes, activation='softmax')(flat)\n",
        "  \n",
        "#   return out"
      ],
      "execution_count": 0,
      "outputs": []
    },
    {
      "cell_type": "code",
      "metadata": {
        "id": "gxJhVRCha0m0",
        "colab_type": "code",
        "colab": {
          "base_uri": "https://localhost:8080/",
          "height": 34
        },
        "outputId": "5d3b8605-1d8c-445e-d8b2-60d04632a6ae"
      },
      "source": [
        "weight_decay"
      ],
      "execution_count": 51,
      "outputs": [
        {
          "output_type": "execute_result",
          "data": {
            "text/plain": [
              "0.0001"
            ]
          },
          "metadata": {
            "tags": []
          },
          "execution_count": 51
        }
      ]
    },
    {
      "cell_type": "code",
      "metadata": {
        "id": "VAZd7W_9bSi7",
        "colab_type": "code",
        "colab": {}
      },
      "source": [
        "from keras.layers import Activation"
      ],
      "execution_count": 0,
      "outputs": []
    },
    {
      "cell_type": "code",
      "metadata": {
        "id": "JCYvn_c9ahuB",
        "colab_type": "code",
        "colab": {}
      },
      "source": [
        "def cifar10Classifier(input_img):\n",
        "  \n",
        "  conv1_1 = (Conv2D(64, (3,3),name = 'conv1_1' ,padding='same', \n",
        "                    kernel_regularizer=regularizers.l2(weight_decay), input_shape=x_train.shape[1:],\n",
        "                    activation='relu'))(input_img)\n",
        "  conv1_2 = BatchNormalization(name = 'conv1_2')(conv1_1)\n",
        "  pool1_3 = MaxPooling2D(pool_size=(2, 2), name = 'pool1_3')(conv1_2) #14 x 14 x 32\n",
        "  conv2_1 = (Conv2D(128, (3,3),name = 'conv2_1' ,padding='same',\n",
        "                    activation= 'relu',kernel_regularizer=regularizers.l2(weight_decay)))(pool1_3)\n",
        "  conv2_2 = BatchNormalization(name = 'conv2_2')(conv2_1)\n",
        "  pool2_3 = MaxPooling2D(pool_size=(2, 2), name = 'pool2_3')(conv2_2) #14 x 14 x 32\n",
        "  \n",
        "  conv3_1 = (Conv2D(256, (3,3), padding='same',name = 'conv3_1',\n",
        "                    kernel_regularizer=regularizers.l2(weight_decay), activation='relu'))(pool2_3)\n",
        "  conv3_2 = BatchNormalization(name = 'conv3_2')(conv3_1)\n",
        "  conv4_1 = (Conv2D(256, (3,3), padding='same',name = 'conv4_1' ,activation= 'relu',\n",
        "                    kernel_regularizer=regularizers.l2(weight_decay)))(conv3_2)\n",
        "  conv4_2 = BatchNormalization(name = 'conv4_2')(conv4_1)\n",
        "  pool4_2 = MaxPooling2D(pool_size=(2, 2), name = 'pool4_2')(conv4_2) #14 x 14 x 32\n",
        "  \n",
        "  conv5_1 = (Conv2D(512, (3,3), padding='same',name = 'conv5_1',\n",
        "                    kernel_regularizer=regularizers.l2(weight_decay), activation='relu'))(pool4_2)\n",
        "  conv5_2 = BatchNormalization(name = 'conv5_2')(conv5_1)\n",
        "  conv6_1 = (Conv2D(512, (3,3), padding='same',name = 'conv6_1' ,activation= 'relu',\n",
        "                    kernel_regularizer=regularizers.l2(weight_decay)))(conv5_2)\n",
        "  conv6_2 = BatchNormalization(name = 'conv6_2')(conv6_1)\n",
        "  pool6_2 = MaxPooling2D(pool_size=(2, 2), name = 'pool6_2')(conv6_2) #14 x 14 x 32\n",
        "  \n",
        "  conv7_1 = (Conv2D(512, (3,3), padding='same',name = 'conv7_1',\n",
        "                    kernel_regularizer=regularizers.l2(weight_decay), activation='relu'))(pool6_2)\n",
        "  conv7_2 = BatchNormalization(name = 'conv7_2')(conv7_1)\n",
        "  conv8_1 = (Conv2D(512, (3,3), padding='same',name = 'conv8_1' ,activation= 'relu',\n",
        "                    kernel_regularizer=regularizers.l2(weight_decay)))(conv7_2)\n",
        "  conv8_2 = BatchNormalization(name = 'conv8_2')(conv8_1)\n",
        "  pool8_2 = MaxPooling2D(pool_size=(2, 2), name = 'pool8_2')(conv8_2) #14 x 14 x 32\n",
        "\n",
        "\n",
        "  flat = Flatten()(pool8_2)\n",
        "  fc1 = Dense(4096, activation='relu', name = 'fc1')(flat)\n",
        "  fc2 = Dense(4096, activation='relu', name = 'fc2')(fc1)\n",
        "  fc3 = Dense(1000, activation='relu', name = 'fc3')(fc2)\n",
        "\n",
        "\n",
        "  \n",
        "  out = Dense(num_classes, activation='softmax', name = 'out')(fc3)\n",
        "  \n",
        "  return out"
      ],
      "execution_count": 0,
      "outputs": []
    },
    {
      "cell_type": "code",
      "metadata": {
        "id": "-VPIvSX1jytM",
        "colab_type": "code",
        "colab": {
          "base_uri": "https://localhost:8080/",
          "height": 1074
        },
        "outputId": "8ce849c7-a8d3-4406-a6ee-fecea3b5c6c1"
      },
      "source": [
        "model = Model(input_img, (cifar10Classifier(input_img)))\n",
        "#data augmentation\n",
        "datagen = ImageDataGenerator(\n",
        "    rotation_range=15,\n",
        "    width_shift_range=0.1,\n",
        "    height_shift_range=0.1,\n",
        "    horizontal_flip=True,\n",
        "    )\n",
        "datagen.fit(train_three_data)\n",
        " \n",
        "#training\n",
        "batch_size = 64\n",
        " \n",
        "opt_rms = keras.optimizers.rmsprop(lr=0.001,decay=1e-6)\n",
        "# opt_rms = keras.optimizers.Adam(lr=0.001,decay=1e-6,beta_1=0.5)\n",
        "# model.compile(loss='categorical_crossentropy', optimizer=opt_rms, metrics=['accuracy'])\n",
        "\n",
        "model.compile(loss=losses.categorical_crossentropy, optimizer=opt_rms, metrics=['accuracy'])\n",
        "\n",
        "model.summary()\n",
        " "
      ],
      "execution_count": 54,
      "outputs": [
        {
          "output_type": "stream",
          "text": [
            "_________________________________________________________________\n",
            "Layer (type)                 Output Shape              Param #   \n",
            "=================================================================\n",
            "input_1 (InputLayer)         (None, 32, 32, 3)         0         \n",
            "_________________________________________________________________\n",
            "conv1_1 (Conv2D)             (None, 32, 32, 64)        1792      \n",
            "_________________________________________________________________\n",
            "conv1_2 (BatchNormalization) (None, 32, 32, 64)        256       \n",
            "_________________________________________________________________\n",
            "pool1_3 (MaxPooling2D)       (None, 16, 16, 64)        0         \n",
            "_________________________________________________________________\n",
            "conv2_1 (Conv2D)             (None, 16, 16, 128)       73856     \n",
            "_________________________________________________________________\n",
            "conv2_2 (BatchNormalization) (None, 16, 16, 128)       512       \n",
            "_________________________________________________________________\n",
            "pool2_3 (MaxPooling2D)       (None, 8, 8, 128)         0         \n",
            "_________________________________________________________________\n",
            "conv3_1 (Conv2D)             (None, 8, 8, 256)         295168    \n",
            "_________________________________________________________________\n",
            "conv3_2 (BatchNormalization) (None, 8, 8, 256)         1024      \n",
            "_________________________________________________________________\n",
            "conv4_1 (Conv2D)             (None, 8, 8, 256)         590080    \n",
            "_________________________________________________________________\n",
            "conv4_2 (BatchNormalization) (None, 8, 8, 256)         1024      \n",
            "_________________________________________________________________\n",
            "pool4_2 (MaxPooling2D)       (None, 4, 4, 256)         0         \n",
            "_________________________________________________________________\n",
            "conv5_1 (Conv2D)             (None, 4, 4, 512)         1180160   \n",
            "_________________________________________________________________\n",
            "conv5_2 (BatchNormalization) (None, 4, 4, 512)         2048      \n",
            "_________________________________________________________________\n",
            "conv6_1 (Conv2D)             (None, 4, 4, 512)         2359808   \n",
            "_________________________________________________________________\n",
            "conv6_2 (BatchNormalization) (None, 4, 4, 512)         2048      \n",
            "_________________________________________________________________\n",
            "pool6_2 (MaxPooling2D)       (None, 2, 2, 512)         0         \n",
            "_________________________________________________________________\n",
            "conv7_1 (Conv2D)             (None, 2, 2, 512)         2359808   \n",
            "_________________________________________________________________\n",
            "conv7_2 (BatchNormalization) (None, 2, 2, 512)         2048      \n",
            "_________________________________________________________________\n",
            "conv8_1 (Conv2D)             (None, 2, 2, 512)         2359808   \n",
            "_________________________________________________________________\n",
            "conv8_2 (BatchNormalization) (None, 2, 2, 512)         2048      \n",
            "_________________________________________________________________\n",
            "pool8_2 (MaxPooling2D)       (None, 1, 1, 512)         0         \n",
            "_________________________________________________________________\n",
            "flatten_1 (Flatten)          (None, 512)               0         \n",
            "_________________________________________________________________\n",
            "fc1 (Dense)                  (None, 4096)              2101248   \n",
            "_________________________________________________________________\n",
            "fc2 (Dense)                  (None, 4096)              16781312  \n",
            "_________________________________________________________________\n",
            "fc3 (Dense)                  (None, 1000)              4097000   \n",
            "_________________________________________________________________\n",
            "out (Dense)                  (None, 3)                 3003      \n",
            "=================================================================\n",
            "Total params: 32,214,051\n",
            "Trainable params: 32,208,547\n",
            "Non-trainable params: 5,504\n",
            "_________________________________________________________________\n"
          ],
          "name": "stdout"
        }
      ]
    },
    {
      "cell_type": "code",
      "metadata": {
        "id": "9Wi6iL1A7DxR",
        "colab_type": "code",
        "colab": {}
      },
      "source": [
        "# model.get_weights()"
      ],
      "execution_count": 0,
      "outputs": []
    },
    {
      "cell_type": "code",
      "metadata": {
        "id": "2jabvkmcr1KR",
        "colab_type": "code",
        "colab": {}
      },
      "source": [
        "mcp_save = ModelCheckpoint('weights.hdf5', save_best_only=True, monitor='val_acc', mode='auto')"
      ],
      "execution_count": 0,
      "outputs": []
    },
    {
      "cell_type": "code",
      "metadata": {
        "id": "T6x5OsaN9CxB",
        "colab_type": "code",
        "colab": {}
      },
      "source": [
        ""
      ],
      "execution_count": 0,
      "outputs": []
    },
    {
      "cell_type": "code",
      "metadata": {
        "id": "AAxjpgNk9KF3",
        "colab_type": "code",
        "colab": {}
      },
      "source": [
        "\n",
        "# for l1,l2 in zip(model.layers[0:],loaded_model_high.layers[0:]):\n",
        "#     l1.set_weights(l2.get_weights())"
      ],
      "execution_count": 0,
      "outputs": []
    },
    {
      "cell_type": "code",
      "metadata": {
        "id": "0x-iDMcukCCT",
        "colab_type": "code",
        "colab": {
          "base_uri": "https://localhost:8080/",
          "height": 2097
        },
        "outputId": "c6ce7805-b7d7-4a33-96b4-65ebd785ca21"
      },
      "source": [
        "model.fit_generator(datagen.flow(train_X, train_ground, batch_size=batch_size),\\\n",
        "                    steps_per_epoch=train_X.shape[0] // batch_size,epochs=60,\\\n",
        "                    verbose=1,validation_data=(valid_X,valid_ground),\n",
        "                    shuffle = True,callbacks=[mcp_save,LearningRateScheduler(lr_schedule)])\n",
        "#save to disk\n",
        "model_json = model.to_json()\n",
        "with open('model.json', 'w') as json_file:\n",
        "    json_file.write(model_json)\n",
        "model.save_weights('model.h5') \n",
        " \n"
      ],
      "execution_count": 58,
      "outputs": [
        {
          "output_type": "stream",
          "text": [
            "Epoch 1/60\n",
            "187/187 [==============================] - 12s 63ms/step - loss: 10.7274 - acc: 0.3380 - val_loss: 10.8845 - val_acc: 0.3260\n",
            "Epoch 2/60\n",
            "187/187 [==============================] - 9s 47ms/step - loss: 6.0339 - acc: 0.3982 - val_loss: 2.9355 - val_acc: 0.3413\n",
            "Epoch 3/60\n",
            "187/187 [==============================] - 9s 49ms/step - loss: 0.9580 - acc: 0.5426 - val_loss: 1.7240 - val_acc: 0.5207\n",
            "Epoch 4/60\n",
            "187/187 [==============================] - 9s 48ms/step - loss: 0.8596 - acc: 0.6328 - val_loss: 0.8625 - val_acc: 0.6680\n",
            "Epoch 5/60\n",
            "187/187 [==============================] - 9s 48ms/step - loss: 0.6905 - acc: 0.7433 - val_loss: 0.6977 - val_acc: 0.7487\n",
            "Epoch 6/60\n",
            "187/187 [==============================] - 9s 48ms/step - loss: 0.5975 - acc: 0.8020 - val_loss: 0.8307 - val_acc: 0.7410\n",
            "Epoch 7/60\n",
            "187/187 [==============================] - 9s 48ms/step - loss: 0.5497 - acc: 0.8234 - val_loss: 0.5961 - val_acc: 0.8050\n",
            "Epoch 8/60\n",
            "187/187 [==============================] - 9s 48ms/step - loss: 0.5133 - acc: 0.8447 - val_loss: 0.5289 - val_acc: 0.8283\n",
            "Epoch 9/60\n",
            "187/187 [==============================] - 9s 48ms/step - loss: 0.4845 - acc: 0.8588 - val_loss: 0.4223 - val_acc: 0.8763\n",
            "Epoch 10/60\n",
            "187/187 [==============================] - 9s 49ms/step - loss: 0.4531 - acc: 0.8673 - val_loss: 0.5495 - val_acc: 0.8170\n",
            "Epoch 11/60\n",
            "187/187 [==============================] - 9s 49ms/step - loss: 0.4348 - acc: 0.8759 - val_loss: 0.4290 - val_acc: 0.8920\n",
            "Epoch 12/60\n",
            "187/187 [==============================] - 9s 49ms/step - loss: 0.4194 - acc: 0.8831 - val_loss: 1.0971 - val_acc: 0.7463\n",
            "Epoch 13/60\n",
            "187/187 [==============================] - 9s 48ms/step - loss: 0.4065 - acc: 0.8874 - val_loss: 0.4963 - val_acc: 0.8593\n",
            "Epoch 14/60\n",
            "187/187 [==============================] - 9s 48ms/step - loss: 0.3750 - acc: 0.9018 - val_loss: 0.4866 - val_acc: 0.8860\n",
            "Epoch 15/60\n",
            "187/187 [==============================] - 9s 48ms/step - loss: 0.3760 - acc: 0.9037 - val_loss: 1.3062 - val_acc: 0.6937\n",
            "Epoch 16/60\n",
            "187/187 [==============================] - 9s 48ms/step - loss: 0.3591 - acc: 0.9048 - val_loss: 0.3941 - val_acc: 0.9130\n",
            "Epoch 17/60\n",
            "187/187 [==============================] - 9s 48ms/step - loss: 0.3483 - acc: 0.9106 - val_loss: 0.4032 - val_acc: 0.8930\n",
            "Epoch 18/60\n",
            "187/187 [==============================] - 9s 48ms/step - loss: 0.3445 - acc: 0.9132 - val_loss: 0.4071 - val_acc: 0.8987\n",
            "Epoch 19/60\n",
            "187/187 [==============================] - 9s 48ms/step - loss: 0.3398 - acc: 0.9126 - val_loss: 0.3955 - val_acc: 0.9030\n",
            "Epoch 20/60\n",
            "187/187 [==============================] - 9s 49ms/step - loss: 0.3273 - acc: 0.9179 - val_loss: 0.8802 - val_acc: 0.8167\n",
            "Epoch 21/60\n",
            "187/187 [==============================] - 9s 49ms/step - loss: 0.3222 - acc: 0.9235 - val_loss: 0.7297 - val_acc: 0.8067\n",
            "Epoch 22/60\n",
            "187/187 [==============================] - 9s 48ms/step - loss: 0.2427 - acc: 0.9489 - val_loss: 0.2496 - val_acc: 0.9433\n",
            "Epoch 23/60\n",
            "187/187 [==============================] - 9s 48ms/step - loss: 0.2254 - acc: 0.9536 - val_loss: 0.3167 - val_acc: 0.9190\n",
            "Epoch 24/60\n",
            "187/187 [==============================] - 9s 48ms/step - loss: 0.2135 - acc: 0.9546 - val_loss: 0.2356 - val_acc: 0.9403\n",
            "Epoch 25/60\n",
            "187/187 [==============================] - 9s 48ms/step - loss: 0.2037 - acc: 0.9574 - val_loss: 0.2467 - val_acc: 0.9443\n",
            "Epoch 26/60\n",
            "187/187 [==============================] - 9s 49ms/step - loss: 0.2031 - acc: 0.9585 - val_loss: 0.2756 - val_acc: 0.9323\n",
            "Epoch 27/60\n",
            "187/187 [==============================] - 9s 48ms/step - loss: 0.2002 - acc: 0.9589 - val_loss: 0.2680 - val_acc: 0.9317\n",
            "Epoch 28/60\n",
            "187/187 [==============================] - 9s 48ms/step - loss: 0.1906 - acc: 0.9613 - val_loss: 0.2627 - val_acc: 0.9417\n",
            "Epoch 29/60\n",
            "187/187 [==============================] - 9s 49ms/step - loss: 0.1901 - acc: 0.9614 - val_loss: 0.3712 - val_acc: 0.9127\n",
            "Epoch 30/60\n",
            "187/187 [==============================] - 9s 48ms/step - loss: 0.1801 - acc: 0.9647 - val_loss: 0.2831 - val_acc: 0.9473\n",
            "Epoch 31/60\n",
            "187/187 [==============================] - 9s 48ms/step - loss: 0.1835 - acc: 0.9649 - val_loss: 0.3711 - val_acc: 0.9387\n",
            "Epoch 32/60\n",
            "187/187 [==============================] - 9s 48ms/step - loss: 0.1804 - acc: 0.9640 - val_loss: 0.2969 - val_acc: 0.9393\n",
            "Epoch 33/60\n",
            "187/187 [==============================] - 9s 49ms/step - loss: 0.1781 - acc: 0.9688 - val_loss: 0.3055 - val_acc: 0.9330\n",
            "Epoch 34/60\n",
            "187/187 [==============================] - 9s 48ms/step - loss: 0.1709 - acc: 0.9679 - val_loss: 0.3001 - val_acc: 0.9427\n",
            "Epoch 35/60\n",
            "187/187 [==============================] - 9s 48ms/step - loss: 0.1750 - acc: 0.9673 - val_loss: 0.2520 - val_acc: 0.9497\n",
            "Epoch 36/60\n",
            "187/187 [==============================] - 9s 48ms/step - loss: 0.1641 - acc: 0.9708 - val_loss: 0.2716 - val_acc: 0.9423\n",
            "Epoch 37/60\n",
            "187/187 [==============================] - 9s 49ms/step - loss: 0.1661 - acc: 0.9693 - val_loss: 0.2760 - val_acc: 0.9457\n",
            "Epoch 38/60\n",
            "187/187 [==============================] - 9s 49ms/step - loss: 0.1632 - acc: 0.9703 - val_loss: 0.2652 - val_acc: 0.9420\n",
            "Epoch 39/60\n",
            "187/187 [==============================] - 9s 48ms/step - loss: 0.1600 - acc: 0.9711 - val_loss: 0.4255 - val_acc: 0.9217\n",
            "Epoch 40/60\n",
            "187/187 [==============================] - 9s 48ms/step - loss: 0.1583 - acc: 0.9712 - val_loss: 0.3080 - val_acc: 0.9417\n",
            "Epoch 41/60\n",
            "187/187 [==============================] - 9s 49ms/step - loss: 0.1575 - acc: 0.9723 - val_loss: 0.3478 - val_acc: 0.9227\n",
            "Epoch 42/60\n",
            "187/187 [==============================] - 9s 48ms/step - loss: 0.1343 - acc: 0.9780 - val_loss: 0.2744 - val_acc: 0.9470\n",
            "Epoch 43/60\n",
            "187/187 [==============================] - 9s 48ms/step - loss: 0.1321 - acc: 0.9816 - val_loss: 0.2965 - val_acc: 0.9503\n",
            "Epoch 44/60\n",
            "187/187 [==============================] - 9s 50ms/step - loss: 0.1235 - acc: 0.9839 - val_loss: 0.3078 - val_acc: 0.9533\n",
            "Epoch 45/60\n",
            "187/187 [==============================] - 9s 49ms/step - loss: 0.1216 - acc: 0.9846 - val_loss: 0.3117 - val_acc: 0.9523\n",
            "Epoch 46/60\n",
            "187/187 [==============================] - 9s 49ms/step - loss: 0.1204 - acc: 0.9838 - val_loss: 0.2973 - val_acc: 0.9540\n",
            "Epoch 47/60\n",
            "187/187 [==============================] - 9s 49ms/step - loss: 0.1184 - acc: 0.9849 - val_loss: 0.3139 - val_acc: 0.9547\n",
            "Epoch 48/60\n",
            "187/187 [==============================] - 9s 49ms/step - loss: 0.1180 - acc: 0.9865 - val_loss: 0.2860 - val_acc: 0.9557\n",
            "Epoch 49/60\n",
            "187/187 [==============================] - 9s 48ms/step - loss: 0.1082 - acc: 0.9875 - val_loss: 0.2774 - val_acc: 0.9517\n",
            "Epoch 50/60\n",
            "187/187 [==============================] - 9s 48ms/step - loss: 0.1092 - acc: 0.9880 - val_loss: 0.3357 - val_acc: 0.9527\n",
            "Epoch 51/60\n",
            "187/187 [==============================] - 9s 48ms/step - loss: 0.1169 - acc: 0.9848 - val_loss: 0.2887 - val_acc: 0.9477\n",
            "Epoch 52/60\n",
            "187/187 [==============================] - 9s 48ms/step - loss: 0.1035 - acc: 0.9879 - val_loss: 0.3103 - val_acc: 0.9537\n",
            "Epoch 53/60\n",
            "187/187 [==============================] - 9s 48ms/step - loss: 0.1068 - acc: 0.9875 - val_loss: 0.3132 - val_acc: 0.9537\n",
            "Epoch 54/60\n",
            "187/187 [==============================] - 9s 48ms/step - loss: 0.1060 - acc: 0.9886 - val_loss: 0.3562 - val_acc: 0.9473\n",
            "Epoch 55/60\n",
            "187/187 [==============================] - 9s 49ms/step - loss: 0.1053 - acc: 0.9870 - val_loss: 0.3252 - val_acc: 0.9467\n",
            "Epoch 56/60\n",
            "187/187 [==============================] - 9s 48ms/step - loss: 0.1096 - acc: 0.9860 - val_loss: 0.2924 - val_acc: 0.9537\n",
            "Epoch 57/60\n",
            "187/187 [==============================] - 9s 48ms/step - loss: 0.0918 - acc: 0.9902 - val_loss: 0.3061 - val_acc: 0.9520\n",
            "Epoch 58/60\n",
            "187/187 [==============================] - 9s 49ms/step - loss: 0.1018 - acc: 0.9890 - val_loss: 0.2941 - val_acc: 0.9553\n",
            "Epoch 59/60\n",
            "187/187 [==============================] - 9s 48ms/step - loss: 0.1008 - acc: 0.9888 - val_loss: 0.3397 - val_acc: 0.9510\n",
            "Epoch 60/60\n",
            "187/187 [==============================] - 9s 48ms/step - loss: 0.1022 - acc: 0.9880 - val_loss: 0.3368 - val_acc: 0.9503\n"
          ],
          "name": "stdout"
        }
      ]
    },
    {
      "cell_type": "code",
      "metadata": {
        "id": "DYZeckSZ1FA4",
        "colab_type": "code",
        "colab": {}
      },
      "source": [
        "model.load_weights('weights.hdf5')"
      ],
      "execution_count": 0,
      "outputs": []
    },
    {
      "cell_type": "code",
      "metadata": {
        "id": "GlQJMg1YnI17",
        "colab_type": "code",
        "colab": {}
      },
      "source": [
        "model.save('vgg16HighAccuracyModelDataForTransferHiEpoch.h5')\n"
      ],
      "execution_count": 0,
      "outputs": []
    },
    {
      "cell_type": "code",
      "metadata": {
        "id": "s0zPvx9oEN5_",
        "colab_type": "code",
        "colab": {}
      },
      "source": [
        "# temp_model = keras.models.load_model('lowAccuracyModelData.h5')\n",
        "# temp_model.evaluate(valid_X, valid_ground, verbose=0)"
      ],
      "execution_count": 0,
      "outputs": []
    },
    {
      "cell_type": "code",
      "metadata": {
        "id": "KltF5yv2AZES",
        "colab_type": "code",
        "colab": {
          "base_uri": "https://localhost:8080/",
          "height": 545
        },
        "outputId": "9f91114b-6886-4306-8fd0-b7234b018e7e"
      },
      "source": [
        "accuracy = model.history.history['acc']\n",
        "val_accuracy = model.history.history['val_acc']\n",
        "loss = model.history.history['loss']\n",
        "val_loss = model.history.history['val_loss']\n",
        "epochs = range(len(accuracy))\n",
        "plt.plot(epochs, accuracy, 'b', label='Training accuracy')\n",
        "plt.plot(epochs, val_accuracy, 'r', label='Validation accuracy')\n",
        "plt.title('Training and validation accuracy')\n",
        "plt.legend()\n",
        "plt.figure()\n",
        "plt.plot(epochs, loss, 'b', label='Training loss')\n",
        "plt.plot(epochs, val_loss, 'r', label='Validation loss')\n",
        "plt.title('Training and validation loss')\n",
        "plt.legend()\n",
        "plt.show()"
      ],
      "execution_count": 62,
      "outputs": [
        {
          "output_type": "display_data",
          "data": {
            "image/png": "[encoded data removed]",
            "text/plain": [
              "<Figure size 432x288 with 1 Axes>"
            ]
          },
          "metadata": {
            "tags": []
          }
        },
        {
          "output_type": "display_data",
          "data": {
            "image/png": "[encoded data removed]",
            "text/plain": [
              "<Figure size 432x288 with 1 Axes>"
            ]
          },
          "metadata": {
            "tags": []
          }
        }
      ]
    },
    {
      "cell_type": "code",
      "metadata": {
        "id": "fJHowfrN1HQg",
        "colab_type": "code",
        "colab": {
          "base_uri": "https://localhost:8080/",
          "height": 34
        },
        "outputId": "82874ba4-a0ff-4129-f0d1-d6ef688732c0"
      },
      "source": [
        "model.evaluate(valid_X, valid_ground, verbose=0)"
      ],
      "execution_count": 63,
      "outputs": [
        {
          "output_type": "execute_result",
          "data": {
            "text/plain": [
              "[0.28599456000328066, 0.9556666666666667]"
            ]
          },
          "metadata": {
            "tags": []
          },
          "execution_count": 63
        }
      ]
    },
    {
      "cell_type": "code",
      "metadata": {
        "id": "w4M2DfGjmT3I",
        "colab_type": "code",
        "colab": {
          "base_uri": "https://localhost:8080/",
          "height": 52
        },
        "outputId": "ed931b49-0757-4ee8-e127-30b8b94a6012"
      },
      "source": [
        "#testing\n",
        "test_eval = model.evaluate(test_three_data, test_three_label_one_hot, verbose=0)\n",
        "print('Test loss:', test_eval[0])\n",
        "print('Test accuracy:', test_eval[1])"
      ],
      "execution_count": 64,
      "outputs": [
        {
          "output_type": "stream",
          "text": [
            "Test loss: 0.33999149894714353\n",
            "Test accuracy: 0.9510000001589457\n"
          ],
          "name": "stdout"
        }
      ]
    },
    {
      "cell_type": "code",
      "metadata": {
        "id": "M1_boK_fprtB",
        "colab_type": "code",
        "outputId": "36ef4ae2-9714-4c0f-8e16-5e22559bd496",
        "colab": {
          "base_uri": "https://localhost:8080/",
          "height": 34
        }
      },
      "source": [
        "test_three_data.shape"
      ],
      "execution_count": 65,
      "outputs": [
        {
          "output_type": "execute_result",
          "data": {
            "text/plain": [
              "(3000, 32, 32, 3)"
            ]
          },
          "metadata": {
            "tags": []
          },
          "execution_count": 65
        }
      ]
    },
    {
      "cell_type": "code",
      "metadata": {
        "id": "ZuH6igT7nbza",
        "colab_type": "code",
        "outputId": "582f86e2-f5e3-45d6-f7a5-9579abb8be00",
        "colab": {
          "base_uri": "https://localhost:8080/",
          "height": 338
        }
      },
      "source": [
        "# show_imgs(test_three_data[:,1])\n",
        "show_imgs(test_three_data[:16])"
      ],
      "execution_count": 0,
      "outputs": [
        {
          "output_type": "stream",
          "text": [
            "/usr/local/lib/python3.6/dist-packages/ipykernel_launcher.py:10: DeprecationWarning: `toimage` is deprecated!\n",
            "`toimage` is deprecated in SciPy 1.0.0, and will be removed in 1.2.0.\n",
            "Use Pillow's ``Image.fromarray`` directly instead.\n",
            "  # Remove the CWD from sys.path while we load stuff.\n"
          ],
          "name": "stderr"
        },
        {
          "output_type": "display_data",
          "data": {
            "image/png": "[encoded data removed]",
            "text/plain": [
              "<Figure size 432x288 with 16 Axes>"
            ]
          },
          "metadata": {
            "tags": []
          }
        }
      ]
    },
    {
      "cell_type": "code",
      "metadata": {
        "id": "cE1UG2RavZW3",
        "colab_type": "code",
        "colab": {}
      },
      "source": [
        "def getDIScoreOfLayer(layer_output, true_labels):\n",
        "  # computeScatterMatrix\n",
        "  rho = 1e-6\n",
        "  mu = layer_output.mean(axis=0)\n",
        "#   print(mu.shape)\n",
        "  mu = mu.reshape((1,-1))\n",
        "  centered_data = layer_output - mu\n",
        "  S_bar = np.matmul(centered_data.T,centered_data)\n",
        "  # compute between class matrix\n",
        "  total_classes = true_labels.max()\n",
        "  S_B = np.zeros(shape = (mu.shape[1],mu.shape[1]))\n",
        "  S_W = np.zeros(shape = (mu.shape[1],mu.shape[1]))\n",
        "  unique_classes = np.unique(true_labels)\n",
        "  unique_classes_list = np.ndarray.tolist(unique_classes)\n",
        "  for l in unique_classes_list:\n",
        "    class_l_index = np.where(true_labels == l)\n",
        "    class_l_output = layer_output[class_l_index[0],:]\n",
        "    mu_l = class_l_output.mean(axis=0)\n",
        "    mu_l = mu_l.reshape((1,-1))\n",
        "    total_examples_this_class = class_l_index[0].shape   \n",
        "    ss = mu_l - mu\n",
        "    S_B = S_B + total_examples_this_class*np.matmul((mu_l - mu).T,(mu_l - mu))\n",
        "\n",
        "  DI_Score = np.trace(np.matmul(np.linalg.inv(S_bar + rho*np.eye(S_bar.shape[0])),S_B))\n",
        "  return DI_Score"
      ],
      "execution_count": 0,
      "outputs": []
    },
    {
      "cell_type": "code",
      "metadata": {
        "id": "2_q12H9HU7n-",
        "colab_type": "code",
        "colab": {}
      },
      "source": [
        "def getDIScoreOfLayerCNNLayer(cnn_outputs, true_labels):\n",
        "  # computeScatterMatrix\n",
        "  number_of_filters = cnn_outputs.shape[3]\n",
        "  cnn_di_scores = []\n",
        "  for filt in range(0,number_of_filters):\n",
        "    outputs_filter = cnn_outputs[:,:,:,filt]\n",
        "    outputs_filter_reshaped = np.reshape(outputs_filter, newshape=(cnn_outputs.shape[0],-1))\n",
        "    this_filter_score = getDIScoreOfLayer(outputs_filter_reshaped, true_labels)\n",
        "    cnn_di_scores.append(this_filter_score)\n",
        "  return cnn_di_scores"
      ],
      "execution_count": 0,
      "outputs": []
    },
    {
      "cell_type": "code",
      "metadata": {
        "id": "mPTmOl-QERZN",
        "colab_type": "code",
        "outputId": "68b9886e-61dd-4d52-9f06-c87f30917c64",
        "colab": {
          "base_uri": "https://localhost:8080/",
          "height": 34
        }
      },
      "source": [
        "# layer_name\n",
        "valid_X.shape"
      ],
      "execution_count": 0,
      "outputs": [
        {
          "output_type": "execute_result",
          "data": {
            "text/plain": [
              "(3000, 32, 32, 3)"
            ]
          },
          "metadata": {
            "tags": []
          },
          "execution_count": 40
        }
      ]
    },
    {
      "cell_type": "code",
      "metadata": {
        "id": "bRQ1YTnsd6zM",
        "colab_type": "code",
        "colab": {}
      },
      "source": [
        "# train_three_data, train_three_label"
      ],
      "execution_count": 0,
      "outputs": []
    },
    {
      "cell_type": "code",
      "metadata": {
        "id": "pe0g2T0IA7sG",
        "colab_type": "code",
        "outputId": "c41af9f2-7ee8-4601-cad9-6c841dc4798d",
        "colab": {
          "base_uri": "https://localhost:8080/",
          "height": 338
        }
      },
      "source": [
        "layer_name = 'conv2d_6'\n",
        "get_cnn1_output_function = K.function([model.layers[0].input],\n",
        "                                  [model.get_layer(layer_name).output])   #get_layer test_three_label\n",
        "cnn1_output = get_cnn1_output_function([train_three_data])[0]"
      ],
      "execution_count": 0,
      "outputs": [
        {
          "output_type": "error",
          "ename": "ValueError",
          "evalue": "ignored",
          "traceback": [
            "\u001b[0;31m---------------------------------------------------------------------------\u001b[0m",
            "\u001b[0;31mValueError\u001b[0m                                Traceback (most recent call last)",
            "\u001b[0;32m<ipython-input-42-6173d5b8ab5b>\u001b[0m in \u001b[0;36m<module>\u001b[0;34m()\u001b[0m\n\u001b[1;32m      1\u001b[0m \u001b[0mlayer_name\u001b[0m \u001b[0;34m=\u001b[0m \u001b[0;34m'conv2d_6'\u001b[0m\u001b[0;34m\u001b[0m\u001b[0;34m\u001b[0m\u001b[0m\n\u001b[1;32m      2\u001b[0m get_cnn1_output_function = K.function([model.layers[0].input],\n\u001b[0;32m----> 3\u001b[0;31m                                   [model.get_layer(layer_name).output])   #get_layer test_three_label\n\u001b[0m\u001b[1;32m      4\u001b[0m \u001b[0mcnn1_output\u001b[0m \u001b[0;34m=\u001b[0m \u001b[0mget_cnn1_output_function\u001b[0m\u001b[0;34m(\u001b[0m\u001b[0;34m[\u001b[0m\u001b[0mtrain_three_data\u001b[0m\u001b[0;34m]\u001b[0m\u001b[0;34m)\u001b[0m\u001b[0;34m[\u001b[0m\u001b[0;36m0\u001b[0m\u001b[0;34m]\u001b[0m\u001b[0;34m\u001b[0m\u001b[0;34m\u001b[0m\u001b[0m\n",
            "\u001b[0;32m/usr/local/lib/python3.6/dist-packages/keras/engine/network.py\u001b[0m in \u001b[0;36mget_layer\u001b[0;34m(self, name, index)\u001b[0m\n\u001b[1;32m    356\u001b[0m                 \u001b[0;32mreturn\u001b[0m \u001b[0mlayer\u001b[0m\u001b[0;34m\u001b[0m\u001b[0;34m\u001b[0m\u001b[0m\n\u001b[1;32m    357\u001b[0m \u001b[0;34m\u001b[0m\u001b[0m\n\u001b[0;32m--> 358\u001b[0;31m         \u001b[0;32mraise\u001b[0m \u001b[0mValueError\u001b[0m\u001b[0;34m(\u001b[0m\u001b[0;34m'No such layer: '\u001b[0m \u001b[0;34m+\u001b[0m \u001b[0mname\u001b[0m\u001b[0;34m)\u001b[0m\u001b[0;34m\u001b[0m\u001b[0;34m\u001b[0m\u001b[0m\n\u001b[0m\u001b[1;32m    359\u001b[0m \u001b[0;34m\u001b[0m\u001b[0m\n\u001b[1;32m    360\u001b[0m     \u001b[0;34m@\u001b[0m\u001b[0mproperty\u001b[0m\u001b[0;34m\u001b[0m\u001b[0;34m\u001b[0m\u001b[0m\n",
            "\u001b[0;31mValueError\u001b[0m: No such layer: conv2d_6"
          ]
        }
      ]
    },
    {
      "cell_type": "code",
      "metadata": {
        "id": "4Yy-y5xIWdz6",
        "colab_type": "code",
        "colab": {}
      },
      "source": [
        "cnn1_output.shape"
      ],
      "execution_count": 0,
      "outputs": []
    },
    {
      "cell_type": "code",
      "metadata": {
        "id": "26Q6Hfa8rTd6",
        "colab_type": "code",
        "colab": {}
      },
      "source": [
        "from keras.utils.vis_utils import plot_model"
      ],
      "execution_count": 0,
      "outputs": []
    },
    {
      "cell_type": "code",
      "metadata": {
        "id": "EF3q_KOgYTxb",
        "colab_type": "code",
        "colab": {}
      },
      "source": [
        "plot_model(model, to_file=\"cifar10Architecture.png\", show_shapes=True, show_layer_names=True)"
      ],
      "execution_count": 0,
      "outputs": []
    },
    {
      "cell_type": "code",
      "metadata": {
        "id": "B0Hfr4ZwB8dX",
        "colab_type": "code",
        "outputId": "186689eb-681e-4ee6-e6d2-35734439e701",
        "colab": {
          "base_uri": "https://localhost:8080/",
          "height": 34
        }
      },
      "source": [
        "np.ndarray.tolist(np.unique(test_three_label))"
      ],
      "execution_count": 0,
      "outputs": [
        {
          "output_type": "execute_result",
          "data": {
            "text/plain": [
              "[0, 3, 5]"
            ]
          },
          "metadata": {
            "tags": []
          },
          "execution_count": 107
        }
      ]
    },
    {
      "cell_type": "code",
      "metadata": {
        "id": "pM8xfShbdHJV",
        "colab_type": "code",
        "colab": {}
      },
      "source": [
        "# valid_ground_cat = np.argmax(train_ground, axis=1)\n",
        "# # valid_ground_cat\n",
        "# valid_ground.shape"
      ],
      "execution_count": 0,
      "outputs": []
    },
    {
      "cell_type": "code",
      "metadata": {
        "id": "jZ1IST7pBZ92",
        "colab_type": "code",
        "colab": {}
      },
      "source": [
        "\n",
        "di_scores = getDIScoreOfLayerCNNLayer(cnn1_output, train_three_label)"
      ],
      "execution_count": 0,
      "outputs": []
    },
    {
      "cell_type": "code",
      "metadata": {
        "id": "RZnzBi-7BcfM",
        "colab_type": "code",
        "outputId": "d47065e9-6842-403f-903c-537c8fda1bce",
        "colab": {
          "base_uri": "https://localhost:8080/",
          "height": 365
        }
      },
      "source": [
        "y_pos  = np.arange(len(di_scores))\n",
        "plt.bar(y_pos, di_scores, align='center', alpha=0.5)\n",
        "plt.xlabel('FilterNumber')\n",
        "plt.ylabel('DI Score')\n",
        "\n",
        "print('Mean of DI SCore: ',np.mean(di_scores))\n",
        "print('STD of DI Score: ', np.std(di_scores))\n",
        "print('MAX of DI Score: ', np.max(di_scores))\n",
        "plt.title('DI score - Data - D_L, Network -N_L, Conv_6')\n",
        "plt.ylim([0,1])"
      ],
      "execution_count": 0,
      "outputs": [
        {
          "output_type": "stream",
          "text": [
            "Mean of DI SCore:  0.46968247829146104\n",
            "STD of DI Score:  0.17012919206958768\n",
            "MAX of DI Score:  0.8879906467627727\n"
          ],
          "name": "stdout"
        },
        {
          "output_type": "execute_result",
          "data": {
            "text/plain": [
              "(0, 1)"
            ]
          },
          "metadata": {
            "tags": []
          },
          "execution_count": 114
        },
        {
          "output_type": "display_data",
          "data": {
            "image/png": "[encoded data removed]",
            "text/plain": [
              "<Figure size 432x288 with 1 Axes>"
            ]
          },
          "metadata": {
            "tags": []
          }
        }
      ]
    },
    {
      "cell_type": "code",
      "metadata": {
        "id": "gFs0BsyhzMXk",
        "colab_type": "code",
        "colab": {}
      },
      "source": [
        "# model.summary()"
      ],
      "execution_count": 0,
      "outputs": []
    },
    {
      "cell_type": "markdown",
      "metadata": {
        "colab_type": "text",
        "id": "Xkj_8m7OpfxD"
      },
      "source": [
        "## DI on different data\n",
        "\n",
        "1.   List item\n",
        "2.   List item\n",
        "\n"
      ]
    },
    {
      "cell_type": "code",
      "metadata": {
        "colab_type": "code",
        "outputId": "9c789423-23ba-478b-eeeb-64a19bd8cefe",
        "id": "JcsAbLG_pfwz",
        "colab": {
          "base_uri": "https://localhost:8080/",
          "height": 87
        }
      },
      "source": [
        "\n",
        "train_three_data_low,train_three_label_low,test_three_data_low,test_three_label_low = getThreeClassesTrainTest([1,8,9],x_train,y_train,x_test,y_test)"
      ],
      "execution_count": 0,
      "outputs": [
        {
          "output_type": "stream",
          "text": [
            "[    4     5    32 ... 49993 49998 49999]\n",
            "[    8    62    69 ... 49968 49976 49985]\n",
            "[    1     2    14 ... 49963 49971 49997]\n",
            "(15000, 1)\n"
          ],
          "name": "stdout"
        }
      ]
    },
    {
      "cell_type": "code",
      "metadata": {
        "colab_type": "code",
        "id": "vA_9sjRGpfwn",
        "colab": {}
      },
      "source": [
        "\n",
        "# split train data and to create validation data\n",
        "train_X_low,valid_X_low,train_ground_low,valid_ground_low = train_test_split(train_three_data_low,\n",
        "                                                             train_three_label_low,\n",
        "                                                             test_size=0.2,\n",
        "                                                             random_state=13)"
      ],
      "execution_count": 0,
      "outputs": []
    },
    {
      "cell_type": "code",
      "metadata": {
        "colab_type": "code",
        "outputId": "6939f482-af89-4f16-8050-cd1bd5d1116a",
        "id": "-zNgfVTPpfwa",
        "colab": {
          "base_uri": "https://localhost:8080/",
          "height": 34
        }
      },
      "source": [
        "layer_name = 'conv2d_6'\n",
        "get_cnn1_output_function_low = K.function([model.layers[0].input],\n",
        "                                  [model.get_layer(layer_name).output])   #get_layer test_three_label\n",
        "cnn1_output_low = get_cnn1_output_function_low([train_three_data_low])[0]\n",
        "cnn1_output_low.shape"
      ],
      "execution_count": 0,
      "outputs": [
        {
          "output_type": "execute_result",
          "data": {
            "text/plain": [
              "(15000, 8, 8, 128)"
            ]
          },
          "metadata": {
            "tags": []
          },
          "execution_count": 100
        }
      ]
    },
    {
      "cell_type": "code",
      "metadata": {
        "colab_type": "code",
        "id": "C0RAKBX5pfwR",
        "colab": {}
      },
      "source": [
        "di_scores_low = getDIScoreOfLayerCNNLayer(cnn1_output_low, train_three_label_low)\n"
      ],
      "execution_count": 0,
      "outputs": []
    },
    {
      "cell_type": "code",
      "metadata": {
        "colab_type": "code",
        "outputId": "dad4626d-35b5-4e26-b7ac-f7c83d2e5ad1",
        "id": "lYpxC9KMpfwD",
        "colab": {
          "base_uri": "https://localhost:8080/",
          "height": 365
        }
      },
      "source": [
        "y_pos  = np.arange(len(di_scores_low))\n",
        "plt.bar(y_pos, di_scores_low, align='center', alpha=0.5)\n",
        "plt.xlabel('FilterNumber')\n",
        "plt.ylabel('DI Score')\n",
        "\n",
        "print('Mean of DI SCore: ',np.mean(di_scores_low))\n",
        "print('STD of DI Score: ', np.std(di_scores_low))\n",
        "print('MAX of DI Score: ', np.max(di_scores_low))\n",
        "plt.title('DI score - Data - D_H, Network -N_L, Conv_6')\n",
        "plt.ylim([0,1])"
      ],
      "execution_count": 0,
      "outputs": [
        {
          "output_type": "stream",
          "text": [
            "Mean of DI SCore:  0.25325489539602447\n",
            "STD of DI Score:  0.07981976639878438\n",
            "MAX of DI Score:  0.48132421143127047\n"
          ],
          "name": "stdout"
        },
        {
          "output_type": "execute_result",
          "data": {
            "text/plain": [
              "(0, 1)"
            ]
          },
          "metadata": {
            "tags": []
          },
          "execution_count": 113
        },
        {
          "output_type": "display_data",
          "data": {
            "image/png": "[encoded data removed]",
            "text/plain": [
              "<Figure size 432x288 with 1 Axes>"
            ]
          },
          "metadata": {
            "tags": []
          }
        }
      ]
    },
    {
      "cell_type": "code",
      "metadata": {
        "colab_type": "code",
        "outputId": "964f1ccc-2699-487a-9298-1fb1a316a3f9",
        "id": "UH9t29tspfv1",
        "colab": {
          "base_uri": "https://localhost:8080/",
          "height": 887
        }
      },
      "source": [
        "model.summary()"
      ],
      "execution_count": 0,
      "outputs": [
        {
          "output_type": "stream",
          "text": [
            "_________________________________________________________________\n",
            "Layer (type)                 Output Shape              Param #   \n",
            "=================================================================\n",
            "input_1 (InputLayer)         (None, 32, 32, 3)         0         \n",
            "_________________________________________________________________\n",
            "conv2d_1 (Conv2D)            (None, 32, 32, 32)        896       \n",
            "_________________________________________________________________\n",
            "batch_normalization_1 (Batch (None, 32, 32, 32)        128       \n",
            "_________________________________________________________________\n",
            "conv2d_2 (Conv2D)            (None, 32, 32, 32)        9248      \n",
            "_________________________________________________________________\n",
            "batch_normalization_2 (Batch (None, 32, 32, 32)        128       \n",
            "_________________________________________________________________\n",
            "max_pooling2d_1 (MaxPooling2 (None, 16, 16, 32)        0         \n",
            "_________________________________________________________________\n",
            "dropout_1 (Dropout)          (None, 16, 16, 32)        0         \n",
            "_________________________________________________________________\n",
            "conv2d_3 (Conv2D)            (None, 16, 16, 64)        18496     \n",
            "_________________________________________________________________\n",
            "batch_normalization_3 (Batch (None, 16, 16, 64)        256       \n",
            "_________________________________________________________________\n",
            "conv2d_4 (Conv2D)            (None, 16, 16, 64)        36928     \n",
            "_________________________________________________________________\n",
            "batch_normalization_4 (Batch (None, 16, 16, 64)        256       \n",
            "_________________________________________________________________\n",
            "max_pooling2d_2 (MaxPooling2 (None, 8, 8, 64)          0         \n",
            "_________________________________________________________________\n",
            "dropout_2 (Dropout)          (None, 8, 8, 64)          0         \n",
            "_________________________________________________________________\n",
            "conv2d_5 (Conv2D)            (None, 8, 8, 128)         73856     \n",
            "_________________________________________________________________\n",
            "batch_normalization_5 (Batch (None, 8, 8, 128)         512       \n",
            "_________________________________________________________________\n",
            "conv2d_6 (Conv2D)            (None, 8, 8, 128)         147584    \n",
            "_________________________________________________________________\n",
            "batch_normalization_6 (Batch (None, 8, 8, 128)         512       \n",
            "_________________________________________________________________\n",
            "max_pooling2d_3 (MaxPooling2 (None, 4, 4, 128)         0         \n",
            "_________________________________________________________________\n",
            "dropout_3 (Dropout)          (None, 4, 4, 128)         0         \n",
            "_________________________________________________________________\n",
            "flatten_1 (Flatten)          (None, 2048)              0         \n",
            "_________________________________________________________________\n",
            "dense_1 (Dense)              (None, 3)                 6147      \n",
            "=================================================================\n",
            "Total params: 294,947\n",
            "Trainable params: 294,051\n",
            "Non-trainable params: 896\n",
            "_________________________________________________________________\n"
          ],
          "name": "stdout"
        }
      ]
    },
    {
      "cell_type": "code",
      "metadata": {
        "colab_type": "code",
        "id": "lK3KHL2Bpfvt",
        "colab": {}
      },
      "source": [
        "# # not working\n",
        "# mat_save = {'diScore': di_scores, 'conv2d_1': cnn1_output, 'trueLabel':train_three_label}\n",
        "# savemat('LowAccuracyConv2d_1MatrixMethod', mat_save) "
      ],
      "execution_count": 0,
      "outputs": []
    },
    {
      "cell_type": "code",
      "metadata": {
        "colab_type": "code",
        "id": "Fvw5s5K8pfvk",
        "colab": {}
      },
      "source": [
        ""
      ],
      "execution_count": 0,
      "outputs": []
    },
    {
      "cell_type": "markdown",
      "metadata": {
        "colab_type": "text",
        "id": "PMqp4Ao3pfvg"
      },
      "source": [
        ""
      ]
    },
    {
      "cell_type": "code",
      "metadata": {
        "colab_type": "code",
        "id": "jkozbZpypfvX",
        "colab": {}
      },
      "source": [
        ""
      ],
      "execution_count": 0,
      "outputs": []
    },
    {
      "cell_type": "code",
      "metadata": {
        "colab_type": "code",
        "outputId": "90f23b1a-a2ef-43cc-f7a8-e6d22f0c1645",
        "id": "x-H8BlZUpfuw",
        "colab": {
          "base_uri": "https://localhost:8080/",
          "height": 35
        }
      },
      "source": [
        "sum(di_scores)"
      ],
      "execution_count": 0,
      "outputs": [
        {
          "output_type": "execute_result",
          "data": {
            "text/plain": [
              "14.049834714257239"
            ]
          },
          "metadata": {
            "tags": []
          },
          "execution_count": 46
        }
      ]
    },
    {
      "cell_type": "code",
      "metadata": {
        "colab_type": "code",
        "outputId": "dc5ee49b-0567-4d1b-a541-5a8f8731c467",
        "id": "JvJ41KIfpfuc",
        "colab": {
          "base_uri": "https://localhost:8080/",
          "height": 35
        }
      },
      "source": [
        "max(di_scores)"
      ],
      "execution_count": 0,
      "outputs": [
        {
          "output_type": "execute_result",
          "data": {
            "text/plain": [
              "0.6375973839423631"
            ]
          },
          "metadata": {
            "tags": []
          },
          "execution_count": 47
        }
      ]
    },
    {
      "cell_type": "code",
      "metadata": {
        "colab_type": "code",
        "id": "uWwVdXn0pft-",
        "colab": {}
      },
      "source": [
        "from scipy.io import savemat\n"
      ],
      "execution_count": 0,
      "outputs": []
    },
    {
      "cell_type": "code",
      "metadata": {
        "colab_type": "code",
        "id": "7GwdcjmBpfs0",
        "colab": {}
      },
      "source": [
        ""
      ],
      "execution_count": 0,
      "outputs": []
    }
  ]
}