{
  "nbformat": 4,
  "nbformat_minor": 0,
  "metadata": {
    "colab": {
      "name": "fcLayerTransfer.ipynb",
      "version": "0.3.2",
      "provenance": [],
      "collapsed_sections": [],
      "toc_visible": true,
      "include_colab_link": true
    },
    "kernelspec": {
      "name": "python3",
      "display_name": "Python 3"
    },
    "accelerator": "GPU"
  },
  "cells": [
    {
      "cell_type": "markdown",
      "metadata": {
        "id": "view-in-github",
        "colab_type": "text"
      },
      "source": [
        "<a href=\"https://colab.research.google.com/github/preritt/KProj/blob/master/fcLayerTransfer.ipynb\" target=\"_parent\"><img src=\"https://colab.research.google.com/assets/colab-badge.svg\" alt=\"Open In Colab\"/></a>"
      ]
    },
    {
      "cell_type": "markdown",
      "metadata": {
        "id": "kdTAcjYec3s7",
        "colab_type": "text"
      },
      "source": [
        "## Load standard libraries"
      ]
    },
    {
      "cell_type": "code",
      "metadata": {
        "id": "oCo6LRTTcxmC",
        "colab_type": "code",
        "outputId": "e4b5aa28-9da7-4d91-cfb0-9a358dea7bfc",
        "colab": {
          "base_uri": "https://localhost:8080/",
          "height": 34
        }
      },
      "source": [
        "import keras\n",
        "from matplotlib import pyplot as plt\n",
        "import numpy as np\n",
        "import gzip\n",
        "%matplotlib inline\n",
        "from keras.models import Model\n",
        "from keras.optimizers import RMSprop\n",
        "from keras.layers import Input,Dense,Flatten,Dropout,merge,Reshape,Conv2D,MaxPooling2D,UpSampling2D,Conv2DTranspose\n",
        "from keras.layers.normalization import BatchNormalization\n",
        "from keras.models import Model,Sequential\n",
        "from keras.callbacks import ModelCheckpoint\n",
        "from keras.optimizers import Adadelta, RMSprop,SGD,Adam\n",
        "from keras import regularizers\n",
        "from keras import backend as K\n",
        "from keras.utils import to_categorical\n",
        "from keras.datasets import cifar10\n",
        "from sklearn import preprocessing\n",
        "from keras import losses\n",
        "from keras.models import model_from_json\n",
        "import keras\n",
        "from keras.models import Sequential\n",
        "from keras.utils import np_utils\n",
        "from keras.preprocessing.image import ImageDataGenerator\n",
        "from keras.layers import Dense, Activation, Flatten, Dropout, BatchNormalization\n",
        "from keras.layers import Conv2D, MaxPooling2D\n",
        "from keras.datasets import cifar10\n",
        "from keras import regularizers\n",
        "from keras.callbacks import LearningRateScheduler\n",
        "import numpy as np\n",
        "from sklearn.metrics import confusion_matrix\n",
        "from sklearn.model_selection import train_test_split\n",
        "from sklearn.utils import shuffle"
      ],
      "execution_count": 1,
      "outputs": [
        {
          "output_type": "stream",
          "text": [
            "Using TensorFlow backend.\n"
          ],
          "name": "stderr"
        }
      ]
    },
    {
      "cell_type": "code",
      "metadata": {
        "id": "Sg_ZApCOPN9u",
        "colab_type": "code",
        "colab": {}
      },
      "source": [
        "from keras.utils.vis_utils import plot_model\n"
      ],
      "execution_count": 0,
      "outputs": []
    },
    {
      "cell_type": "code",
      "metadata": {
        "id": "oG3txkjndHWQ",
        "colab_type": "code",
        "colab": {}
      },
      "source": [
        "keras.backend.clear_session()"
      ],
      "execution_count": 0,
      "outputs": []
    },
    {
      "cell_type": "markdown",
      "metadata": {
        "id": "8rDrYIgZc20A",
        "colab_type": "text"
      },
      "source": [
        "## Load image data"
      ]
    },
    {
      "cell_type": "code",
      "metadata": {
        "id": "85Dlxs7adKVS",
        "colab_type": "code",
        "outputId": "b095ae03-6912-40ff-c41f-0d940a6e432a",
        "colab": {
          "base_uri": "https://localhost:8080/",
          "height": 338
        }
      },
      "source": [
        "from matplotlib import pyplot\n",
        "from scipy.misc import toimage\n",
        "from keras.datasets import cifar10\n",
        "def show_imgs(X):\n",
        "    pyplot.figure(1)\n",
        "    k = 0\n",
        "    for i in range(0,4):\n",
        "        for j in range(0,4):\n",
        "            pyplot.subplot2grid((4,4),(i,j))\n",
        "            pyplot.imshow(toimage(X[k]))\n",
        "            k = k+1\n",
        "    # show the plot\n",
        "    pyplot.show()\n",
        " \n",
        "(x_train, y_train), (x_test, y_test) = cifar10.load_data()\n",
        "show_imgs(x_test[:16])\n"
      ],
      "execution_count": 4,
      "outputs": [
        {
          "output_type": "stream",
          "text": [
            "/usr/local/lib/python3.6/dist-packages/ipykernel_launcher.py:10: DeprecationWarning: `toimage` is deprecated!\n",
            "`toimage` is deprecated in SciPy 1.0.0, and will be removed in 1.2.0.\n",
            "Use Pillow's ``Image.fromarray`` directly instead.\n",
            "  # Remove the CWD from sys.path while we load stuff.\n"
          ],
          "name": "stderr"
        },
        {
          "output_type": "display_data",
          "data": {
            "image/png": "[encoded data removed]",
            "text/plain": [
              "<Figure size 432x288 with 16 Axes>"
            ]
          },
          "metadata": {
            "tags": []
          }
        }
      ]
    },
    {
      "cell_type": "markdown",
      "metadata": {
        "id": "dQQPlF6RdS2m",
        "colab_type": "text"
      },
      "source": [
        "## Create Function to get data corresponding to three labels"
      ]
    },
    {
      "cell_type": "code",
      "metadata": {
        "id": "GFyk3xzNdYNW",
        "colab_type": "code",
        "colab": {}
      },
      "source": [
        "# This function takes the entire traaining data and test data and corresponding categorical label and returns the corresponding data in class indices\n",
        "def getThreeClassesTrainTest(class_indices,train_data,train_labels,test_data,test_labels):\n",
        "  all_train_data = []\n",
        "  all_train_data_label = []\n",
        "  all_test_data = []\n",
        "  all_test_data_label = []\n",
        "  for ind in class_indices:\n",
        "    this_class_location_train =  np.where(train_labels==ind)[0] # train_labels[train_labels == ind]\n",
        "    this_class_data_train = train_data[this_class_location_train,:]\n",
        "    this_class_data_train_label = train_labels[this_class_location_train]\n",
        "#     print(this_class_location_train)\n",
        "    \n",
        "    this_class_location_test = np.where(test_labels==ind)[0] #test_labels[test_labels == ind]\n",
        "    this_class_data_test = test_data[this_class_location_test,:]\n",
        "    this_class_data_test_label = test_labels[this_class_location_test]\n",
        "    \n",
        "    all_train_data.append(this_class_data_train)\n",
        "    all_test_data.append(this_class_data_test)\n",
        "    all_train_data_label.append(this_class_data_train_label)\n",
        "    all_test_data_label.append(this_class_data_test_label)\n",
        "    \n",
        "  train_data_three = all_train_data[0]\n",
        "  train_label_three = all_train_data_label[0]\n",
        "  test_data_three = all_test_data[0]\n",
        "  test_label_three = all_test_data_label[0]\n",
        "  \n",
        "  for j in range(1,len(class_indices)):\n",
        "    train_data_three = np.concatenate((train_data_three,all_train_data[j]))\n",
        "    train_label_three = np.concatenate((train_label_three,all_train_data_label[j]))\n",
        "\n",
        "    test_data_three = np.concatenate((test_data_three,all_test_data[j]))\n",
        "    test_label_three = np.concatenate((test_label_three,all_test_data_label[j]))\n",
        "#   print(train_label_three.shape)\n",
        "  train_label_three = np.reshape(train_label_three,newshape=(-1,))\n",
        "  test_label_three = np.reshape(test_label_three,newshape=(-1,))\n",
        "  return train_data_three, train_label_three, test_data_three,test_label_three"
      ],
      "execution_count": 0,
      "outputs": []
    },
    {
      "cell_type": "markdown",
      "metadata": {
        "id": "ex0j41PLde2x",
        "colab_type": "text"
      },
      "source": [
        "## Get data for three classes using getThreeClassesTrainTest function"
      ]
    },
    {
      "cell_type": "code",
      "metadata": {
        "id": "IpqbOTfBdhHk",
        "colab_type": "code",
        "colab": {}
      },
      "source": [
        "# train_three_data,train_three_label,test_three_data,test_three_label = getThreeClassesTrainTest([ 0,3,5 ],x_train,y_train,x_test,y_test)"
      ],
      "execution_count": 0,
      "outputs": []
    },
    {
      "cell_type": "code",
      "metadata": {
        "id": "ddFucSl_YW5B",
        "colab_type": "code",
        "colab": {}
      },
      "source": [
        "train_three_data,train_three_label,test_three_data,test_three_label = (np.load('train_three_data_saved.npy'),\n",
        "                                                                      np.load('train_three_label_saved.npy'),\n",
        "                                                                      np.load('test_three_data_saved.npy'),\n",
        "                                                                      np.load('test_three_label_saved.npy'))"
      ],
      "execution_count": 0,
      "outputs": []
    },
    {
      "cell_type": "code",
      "metadata": {
        "id": "VDQiwalsYIGo",
        "colab_type": "code",
        "outputId": "d5d5e62c-0a7e-4124-c499-c6f6778b8d71",
        "colab": {
          "base_uri": "https://localhost:8080/",
          "height": 34
        }
      },
      "source": [
        "train_three_label"
      ],
      "execution_count": 8,
      "outputs": [
        {
          "output_type": "execute_result",
          "data": {
            "text/plain": [
              "array([0, 3, 5, ..., 0, 5, 5], dtype=uint8)"
            ]
          },
          "metadata": {
            "tags": []
          },
          "execution_count": 8
        }
      ]
    },
    {
      "cell_type": "code",
      "metadata": {
        "id": "OCQfV4TvZh1r",
        "colab_type": "code",
        "outputId": "ff6582a4-e8fa-43bd-9ae2-8471e1e7aed7",
        "colab": {
          "base_uri": "https://localhost:8080/",
          "height": 34
        }
      },
      "source": [
        "test_three_label"
      ],
      "execution_count": 9,
      "outputs": [
        {
          "output_type": "execute_result",
          "data": {
            "text/plain": [
              "array([3, 5, 0, ..., 5, 0, 5])"
            ]
          },
          "metadata": {
            "tags": []
          },
          "execution_count": 9
        }
      ]
    },
    {
      "cell_type": "code",
      "metadata": {
        "id": "9gK_tiIWd2Nf",
        "colab_type": "code",
        "outputId": "021646e0-1047-4682-b41a-006d85e55d8f",
        "colab": {
          "base_uri": "https://localhost:8080/",
          "height": 338
        }
      },
      "source": [
        "plt.hist(train_three_label)"
      ],
      "execution_count": 10,
      "outputs": [
        {
          "output_type": "execute_result",
          "data": {
            "text/plain": [
              "(array([5000.,    0.,    0.,    0.,    0.,    0., 5000.,    0.,    0.,\n",
              "        5000.]),\n",
              " array([0. , 0.5, 1. , 1.5, 2. , 2.5, 3. , 3.5, 4. , 4.5, 5. ]),\n",
              " <a list of 10 Patch objects>)"
            ]
          },
          "metadata": {
            "tags": []
          },
          "execution_count": 10
        },
        {
          "output_type": "display_data",
          "data": {
            "image/png": "[encoded data removed]",
            "text/plain": [
              "<Figure size 432x288 with 1 Axes>"
            ]
          },
          "metadata": {
            "tags": []
          }
        }
      ]
    },
    {
      "cell_type": "code",
      "metadata": {
        "id": "AEYcIMeqd4i1",
        "colab_type": "code",
        "outputId": "d8886108-4f4b-466c-80aa-d5460964775d",
        "colab": {
          "base_uri": "https://localhost:8080/",
          "height": 338
        }
      },
      "source": [
        "plt.hist(test_three_label)"
      ],
      "execution_count": 11,
      "outputs": [
        {
          "output_type": "execute_result",
          "data": {
            "text/plain": [
              "(array([1000.,    0.,    0.,    0.,    0.,    0., 1000.,    0.,    0.,\n",
              "        1000.]),\n",
              " array([0. , 0.5, 1. , 1.5, 2. , 2.5, 3. , 3.5, 4. , 4.5, 5. ]),\n",
              " <a list of 10 Patch objects>)"
            ]
          },
          "metadata": {
            "tags": []
          },
          "execution_count": 11
        },
        {
          "output_type": "display_data",
          "data": {
            "image/png": "[encoded data removed]",
            "text/plain": [
              "<Figure size 432x288 with 1 Axes>"
            ]
          },
          "metadata": {
            "tags": []
          }
        }
      ]
    },
    {
      "cell_type": "code",
      "metadata": {
        "id": "z4n_WiMNd_Hf",
        "colab_type": "code",
        "colab": {}
      },
      "source": [
        "# train_three_data, train_three_label = shuffle(train_three_data, train_three_label )\n",
        "# test_three_data,test_three_label = shuffle(test_three_data,test_three_label )"
      ],
      "execution_count": 0,
      "outputs": []
    },
    {
      "cell_type": "code",
      "metadata": {
        "id": "VT_AKqQmeBk_",
        "colab_type": "code",
        "colab": {}
      },
      "source": [
        "le = preprocessing.LabelEncoder()\n",
        "le.fit_transform(train_three_label)\n",
        "train_three_label_cat = le.transform(train_three_label)\n",
        "test_three_label_cat = le.transform(test_three_label)\n",
        "train_three_label_one_hot = to_categorical(train_three_label_cat)\n",
        "test_three_label_one_hot = to_categorical(test_three_label_cat)"
      ],
      "execution_count": 0,
      "outputs": []
    },
    {
      "cell_type": "code",
      "metadata": {
        "id": "rWEjK_exeEaJ",
        "colab_type": "code",
        "colab": {}
      },
      "source": [
        "# split train data and to create validation data\n",
        "train_X,valid_X,train_ground,valid_ground = train_test_split(train_three_data,\n",
        "                                                             train_three_label_one_hot,\n",
        "                                                             test_size=0.2,\n",
        "                                                             random_state=13)"
      ],
      "execution_count": 0,
      "outputs": []
    },
    {
      "cell_type": "code",
      "metadata": {
        "id": "mOFKlZWKeH25",
        "colab_type": "code",
        "colab": {}
      },
      "source": [
        "num_classes = test_three_label_one_hot.shape[1]"
      ],
      "execution_count": 0,
      "outputs": []
    },
    {
      "cell_type": "code",
      "metadata": {
        "id": "lr931MtCYGoN",
        "colab_type": "code",
        "colab": {}
      },
      "source": [
        ""
      ],
      "execution_count": 0,
      "outputs": []
    },
    {
      "cell_type": "markdown",
      "metadata": {
        "id": "Ssi32yj-d1iX",
        "colab_type": "text"
      },
      "source": [
        "## Define the model"
      ]
    },
    {
      "cell_type": "code",
      "metadata": {
        "id": "uUISHV2weN0t",
        "colab_type": "code",
        "colab": {}
      },
      "source": [
        "x, y = 32, 32\n",
        "inChannel = 3\n",
        "input_img = Input(shape = (x, y, inChannel))\n",
        "ep = 10 \n",
        "weight_decay = 1e-4"
      ],
      "execution_count": 0,
      "outputs": []
    },
    {
      "cell_type": "code",
      "metadata": {
        "id": "Ich0RbYnebwW",
        "colab_type": "code",
        "colab": {}
      },
      "source": [
        "def cifar10Classifier(input_img):\n",
        "  \n",
        "  conv1_1 = (Conv2D(64, (3,3),name = 'conv1_1' ,padding='same', \n",
        "                    kernel_regularizer=regularizers.l2(weight_decay), input_shape=x_train.shape[1:],\n",
        "                    activation='relu'))(input_img)\n",
        "  conv1_2 = BatchNormalization(name = 'conv1_2')(conv1_1)\n",
        "  pool1_3 = MaxPooling2D(pool_size=(2, 2), name = 'pool1_3')(conv1_2) #14 x 14 x 32\n",
        "  conv2_1 = (Conv2D(128, (3,3),name = 'conv2_1' ,padding='same',\n",
        "                    activation= 'relu',kernel_regularizer=regularizers.l2(weight_decay)))(pool1_3)\n",
        "  conv2_2 = BatchNormalization(name = 'conv2_2')(conv2_1)\n",
        "  pool2_3 = MaxPooling2D(pool_size=(2, 2), name = 'pool2_3')(conv2_2) #14 x 14 x 32\n",
        "  \n",
        "  conv3_1 = (Conv2D(256, (3,3), padding='same',name = 'conv3_1',\n",
        "                    kernel_regularizer=regularizers.l2(weight_decay), activation='relu'))(pool2_3)\n",
        "  conv3_2 = BatchNormalization(name = 'conv3_2')(conv3_1)\n",
        "  conv4_1 = (Conv2D(256, (3,3), padding='same',name = 'conv4_1' ,activation= 'relu',\n",
        "                    kernel_regularizer=regularizers.l2(weight_decay)))(conv3_2)\n",
        "  conv4_2 = BatchNormalization(name = 'conv4_2')(conv4_1)\n",
        "  pool4_2 = MaxPooling2D(pool_size=(2, 2), name = 'pool4_2')(conv4_2) #14 x 14 x 32\n",
        "  \n",
        "  conv5_1 = (Conv2D(512, (3,3), padding='same',name = 'conv5_1',\n",
        "                    kernel_regularizer=regularizers.l2(weight_decay), activation='relu'))(pool4_2)\n",
        "  conv5_2 = BatchNormalization(name = 'conv5_2')(conv5_1)\n",
        "  conv6_1 = (Conv2D(512, (3,3), padding='same',name = 'conv6_1' ,activation= 'relu',\n",
        "                    kernel_regularizer=regularizers.l2(weight_decay)))(conv5_2)\n",
        "  conv6_2 = BatchNormalization(name = 'conv6_2')(conv6_1)\n",
        "  pool6_2 = MaxPooling2D(pool_size=(2, 2), name = 'pool6_2')(conv6_2) #14 x 14 x 32\n",
        "  \n",
        "  conv7_1 = (Conv2D(512, (3,3), padding='same',name = 'conv7_1',\n",
        "                    kernel_regularizer=regularizers.l2(weight_decay), activation='relu'))(pool6_2)\n",
        "  conv7_2 = BatchNormalization(name = 'conv7_2')(conv7_1)\n",
        "  conv8_1 = (Conv2D(512, (3,3), padding='same',name = 'conv8_1' ,activation= 'relu',\n",
        "                    kernel_regularizer=regularizers.l2(weight_decay)))(conv7_2)\n",
        "  conv8_2 = BatchNormalization(name = 'conv8_2')(conv8_1)\n",
        "  pool8_2 = MaxPooling2D(pool_size=(2, 2), name = 'pool8_2')(conv8_2) #14 x 14 x 32\n",
        "\n",
        "\n",
        "  flat = Flatten()(pool8_2)\n",
        "  fc1 = Dense(4096, activation='relu', name = 'fc1')(flat)\n",
        "  fc2 = Dense(4096, activation='relu', name = 'fc2')(fc1)\n",
        "  fc3 = Dense(1000, activation='relu', name = 'fc3')(fc2)\n",
        "\n",
        "\n",
        "  \n",
        "  out = Dense(num_classes, activation='softmax', name = 'out')(fc3)\n",
        "  \n",
        "  return out"
      ],
      "execution_count": 0,
      "outputs": []
    },
    {
      "cell_type": "markdown",
      "metadata": {
        "id": "U_0LHS-Xf7aN",
        "colab_type": "text"
      },
      "source": [
        "## Define functions for calculation of DI score\n",
        "getDIScoreOfLayer(layer_output, true_labels), \n",
        "getDIScoreOfLayerCNNLayer(cnn_outputs, true_labels)\n"
      ]
    },
    {
      "cell_type": "code",
      "metadata": {
        "id": "xsLk-f7sf6zd",
        "colab_type": "code",
        "colab": {}
      },
      "source": [
        "def getDIScoreOfLayer(layer_output, true_labels):\n",
        "  # computeScatterMatrix\n",
        "  rho = 1e-6\n",
        "  mu = layer_output.mean(axis=0)\n",
        "#   print(mu.shape)\n",
        "  mu = mu.reshape((1,-1))\n",
        "  centered_data = layer_output - mu\n",
        "  S_bar = np.matmul(centered_data.T,centered_data)\n",
        "  # compute between class matrix\n",
        "  total_classes = true_labels.max()\n",
        "  S_B = np.zeros(shape = (mu.shape[1],mu.shape[1]))\n",
        "  S_W = np.zeros(shape = (mu.shape[1],mu.shape[1]))\n",
        "  unique_classes = np.unique(true_labels)\n",
        "  unique_classes_list = np.ndarray.tolist(unique_classes)\n",
        "  for l in unique_classes_list:\n",
        "    class_l_index = np.where(true_labels == l)\n",
        "    class_l_output = layer_output[class_l_index[0],:]\n",
        "    mu_l = class_l_output.mean(axis=0)\n",
        "    mu_l = mu_l.reshape((1,-1))\n",
        "    total_examples_this_class = class_l_index[0].shape   \n",
        "    ss = mu_l - mu\n",
        "    S_B = S_B + total_examples_this_class*np.matmul((mu_l - mu).T,(mu_l - mu))\n",
        "\n",
        "  DI_Score = np.trace(np.matmul(np.linalg.inv(S_bar + rho*np.eye(S_bar.shape[0])),S_B))\n",
        "  return DI_Score"
      ],
      "execution_count": 0,
      "outputs": []
    },
    {
      "cell_type": "code",
      "metadata": {
        "id": "ubrpaIpFgBzn",
        "colab_type": "code",
        "colab": {}
      },
      "source": [
        "def getDIScoreOfLayerCNNLayer(cnn_outputs, true_labels):\n",
        "  # computeScatterMatrix\n",
        "  number_of_filters = cnn_outputs.shape[3]\n",
        "  cnn_di_scores = []\n",
        "  for filt in range(0,number_of_filters):\n",
        "    outputs_filter = cnn_outputs[:,:,:,filt]\n",
        "    outputs_filter_reshaped = np.reshape(outputs_filter, newshape=(cnn_outputs.shape[0],-1))\n",
        "    this_filter_score = getDIScoreOfLayer(outputs_filter_reshaped, true_labels)\n",
        "    cnn_di_scores.append(this_filter_score)\n",
        "  return cnn_di_scores"
      ],
      "execution_count": 0,
      "outputs": []
    },
    {
      "cell_type": "code",
      "metadata": {
        "id": "NObSly34oADP",
        "colab_type": "code",
        "colab": {}
      },
      "source": [
        "def getDIScoreOfLayerFCLayer(cnn_outputs, true_labels):\n",
        "  # computeScatterMatrix\n",
        "  number_of_filters = cnn_outputs.shape[1]\n",
        "  cnn_di_scores = []\n",
        "  for filt in range(0,number_of_filters):\n",
        "    outputs_filter = cnn_outputs[:,filt]\n",
        "    outputs_filter_reshaped = np.reshape(outputs_filter, newshape=(cnn_outputs.shape[0],-1))\n",
        "    this_filter_score = getDIScoreOfLayer(outputs_filter_reshaped, true_labels)\n",
        "    cnn_di_scores.append(this_filter_score)\n",
        "  return cnn_di_scores"
      ],
      "execution_count": 0,
      "outputs": []
    },
    {
      "cell_type": "markdown",
      "metadata": {
        "id": "MQ5H0p_KjVCw",
        "colab_type": "text"
      },
      "source": [
        "## define a function to get and plot di score of a layer. It takes inputs - trained model, layer name to get DI scores and returns a plot with some statistics"
      ]
    },
    {
      "cell_type": "code",
      "metadata": {
        "id": "o9MHI1LFjUZs",
        "colab_type": "code",
        "colab": {}
      },
      "source": [
        "def createCNNLayerDIScorePlot(trained_model, layer_name, data_to_use = train_three_data , data_label =train_three_label ):\n",
        "#   print(trained_model.layers)\n",
        "#   get_cnn1_output_function = K.function([trained_model.layers[0].input],\n",
        "#                                   [trained_model.get_layer(layer_name).output])   #get_layer test_three_label\n",
        "  \n",
        "  model = trained_model\n",
        "  intermediate_layer_model = Model(inputs=model.input,\n",
        "                                 outputs=model.get_layer(layer_name).output)\n",
        "  cnn1_output = intermediate_layer_model.predict(data_to_use)\n",
        "#   cnn1_output = get_cnn1_output_function([data_to_use])[0]\n",
        "  di_scores = getDIScoreOfLayerCNNLayer(cnn1_output, data_label)\n",
        "  # plot DI score\n",
        "  y_pos  = np.arange(len(di_scores))\n",
        "  plt.bar(y_pos, di_scores, align='center', alpha=0.5)\n",
        "  plt.xlabel('FilterNumber')\n",
        "  plt.ylabel('DI Score')\n",
        "\n",
        "  print('Mean of DI SCore: ',np.mean(di_scores))\n",
        "  print('STD of DI Score: ', np.std(di_scores))\n",
        "  print('MAX of DI Score: ', np.max(di_scores))\n",
        "#   plt.title('DI score - Data - D_L, Network -N_L ' + layer_name)\n",
        "  plt.title('DI score ' + layer_name)\n",
        "\n",
        "#   plt.ylim([0,1])\n",
        "  return di_scores"
      ],
      "execution_count": 0,
      "outputs": []
    },
    {
      "cell_type": "code",
      "metadata": {
        "id": "ENOv0x-tktXu",
        "colab_type": "code",
        "colab": {}
      },
      "source": [
        "def createFCLayerDIScorePlot(trained_model, layer_name, data_to_use = train_three_data , data_label =train_three_label ):\n",
        "#   print(trained_model.layers)\n",
        "#   get_cnn1_output_function = K.function([trained_model.layers[0].input],\n",
        "#                                   [trained_model.get_layer(layer_name).output])   #get_layer test_three_label\n",
        "  \n",
        "  model = trained_model\n",
        "  intermediate_layer_model = Model(inputs=model.input,\n",
        "                                 outputs=model.get_layer(layer_name).output)\n",
        "  cnn1_output = intermediate_layer_model.predict(data_to_use)\n",
        "#   cnn1_output = get_cnn1_output_function([data_to_use])[0]\n",
        "  di_scores = getDIScoreOfLayerFCLayer(cnn1_output, data_label)\n",
        "  # plot DI score\n",
        "  y_pos  = np.arange(len(di_scores))\n",
        "  plt.bar(y_pos, di_scores, align='center', alpha=0.5)\n",
        "  plt.xlabel('FilterNumber')\n",
        "  plt.ylabel('DI Score')\n",
        "\n",
        "  print('Mean of DI SCore: ',np.mean(di_scores))\n",
        "  print('STD of DI Score: ', np.std(di_scores))\n",
        "  print('MAX of DI Score: ', np.max(di_scores))\n",
        "#   plt.title('DI score - Data - D_L, Network -N_L ' + layer_name)\n",
        "  plt.title('DI score ' + layer_name)\n",
        "\n",
        "#   plt.ylim([0,1])\n",
        "  return di_scores"
      ],
      "execution_count": 0,
      "outputs": []
    },
    {
      "cell_type": "markdown",
      "metadata": {
        "id": "DCCl7-vOfSZ9",
        "colab_type": "text"
      },
      "source": [
        "## load pretrained model"
      ]
    },
    {
      "cell_type": "code",
      "metadata": {
        "id": "jqIkmDGkfRtD",
        "colab_type": "code",
        "outputId": "caa3b003-a43e-4446-8153-14f64fdf6c99",
        "colab": {
          "base_uri": "https://localhost:8080/",
          "height": 141
        }
      },
      "source": [
        "loaded_model_low_accuracy = keras.models.load_model('vgg16lowAccuracyModelDataV3.h5')\n",
        "loaded_model_high_accuracy = keras.models.load_model('vgg16HighAccuracyModelData.h5')\n"
      ],
      "execution_count": 22,
      "outputs": [
        {
          "output_type": "stream",
          "text": [
            "WARNING:tensorflow:From /usr/local/lib/python3.6/dist-packages/tensorflow/python/framework/op_def_library.py:263: colocate_with (from tensorflow.python.framework.ops) is deprecated and will be removed in a future version.\n",
            "Instructions for updating:\n",
            "Colocations handled automatically by placer.\n",
            "WARNING:tensorflow:From /usr/local/lib/python3.6/dist-packages/tensorflow/python/ops/math_ops.py:3066: to_int32 (from tensorflow.python.ops.math_ops) is deprecated and will be removed in a future version.\n",
            "Instructions for updating:\n",
            "Use tf.cast instead.\n"
          ],
          "name": "stdout"
        }
      ]
    },
    {
      "cell_type": "code",
      "metadata": {
        "id": "z7J98O5qfi8Z",
        "colab_type": "code",
        "outputId": "a2ed06c2-04f9-4455-e646-a2f9c2cc0d74",
        "colab": {
          "base_uri": "https://localhost:8080/",
          "height": 34
        }
      },
      "source": [
        "loaded_model_low_accuracy.evaluate(valid_X, valid_ground, verbose=0)\n",
        "\n",
        "#[0.3284807046254476, 0.923]"
      ],
      "execution_count": 23,
      "outputs": [
        {
          "output_type": "execute_result",
          "data": {
            "text/plain": [
              "[0.45540413475036623, 0.8660000001589457]"
            ]
          },
          "metadata": {
            "tags": []
          },
          "execution_count": 23
        }
      ]
    },
    {
      "cell_type": "code",
      "metadata": {
        "id": "rddbxdrtXcR7",
        "colab_type": "code",
        "outputId": "4bf05934-53ad-4b73-f2af-a68407c484cd",
        "colab": {
          "base_uri": "https://localhost:8080/",
          "height": 34
        }
      },
      "source": [
        "temp_model = keras.models.load_model('vgg16lowAccuracyModelDataV3.h5')\n",
        "temp_model.evaluate(valid_X, valid_ground, verbose=0)"
      ],
      "execution_count": 24,
      "outputs": [
        {
          "output_type": "execute_result",
          "data": {
            "text/plain": [
              "[0.45540414333343504, 0.8660000001589457]"
            ]
          },
          "metadata": {
            "tags": []
          },
          "execution_count": 24
        }
      ]
    },
    {
      "cell_type": "code",
      "metadata": {
        "id": "HsXuB6NbXmGB",
        "colab_type": "code",
        "outputId": "6ed05c0d-c1dd-4cc1-bf9d-f4bc664fe630",
        "colab": {
          "base_uri": "https://localhost:8080/",
          "height": 138
        }
      },
      "source": [
        "valid_ground"
      ],
      "execution_count": 25,
      "outputs": [
        {
          "output_type": "execute_result",
          "data": {
            "text/plain": [
              "array([[0., 0., 1.],\n",
              "       [0., 1., 0.],\n",
              "       [0., 1., 0.],\n",
              "       ...,\n",
              "       [1., 0., 0.],\n",
              "       [1., 0., 0.],\n",
              "       [1., 0., 0.]], dtype=float32)"
            ]
          },
          "metadata": {
            "tags": []
          },
          "execution_count": 25
        }
      ]
    },
    {
      "cell_type": "code",
      "metadata": {
        "id": "KVSvyoZ8Uw_y",
        "colab_type": "code",
        "outputId": "8b0157e3-6b58-4f81-e668-6c3fbdc4824b",
        "colab": {
          "base_uri": "https://localhost:8080/",
          "height": 34
        }
      },
      "source": [
        "loaded_model_low_accuracy.evaluate(test_three_data, test_three_label_one_hot, verbose=0)"
      ],
      "execution_count": 26,
      "outputs": [
        {
          "output_type": "execute_result",
          "data": {
            "text/plain": [
              "[0.4510676885445913, 0.8799999998410543]"
            ]
          },
          "metadata": {
            "tags": []
          },
          "execution_count": 26
        }
      ]
    },
    {
      "cell_type": "code",
      "metadata": {
        "id": "VAY0LGCNSMBc",
        "colab_type": "code",
        "outputId": "9fb98ef1-cdb3-416f-8d02-7d1a0f1dc34d",
        "colab": {
          "base_uri": "https://localhost:8080/",
          "height": 34
        }
      },
      "source": [
        "# loaded_model_low_accuracy.load_weights('weights.hdf5')\n",
        "# loaded_model_low_accuracy.evaluate(valid_X, valid_ground, verbose=0)\n",
        "loaded_model_high_accuracy.evaluate(valid_X, valid_ground, verbose=0)\n"
      ],
      "execution_count": 27,
      "outputs": [
        {
          "output_type": "execute_result",
          "data": {
            "text/plain": [
              "[2.8258795102437335, 0.3953333332538605]"
            ]
          },
          "metadata": {
            "tags": []
          },
          "execution_count": 27
        }
      ]
    },
    {
      "cell_type": "code",
      "metadata": {
        "id": "Jsm88PV3TlmL",
        "colab_type": "code",
        "outputId": "d5204154-bbb8-4e3e-bf7f-081f9eb7e582",
        "colab": {
          "base_uri": "https://localhost:8080/",
          "height": 34
        }
      },
      "source": [
        "loaded_model_high_accuracy.evaluate(test_three_data, test_three_label_one_hot, verbose=0)"
      ],
      "execution_count": 28,
      "outputs": [
        {
          "output_type": "execute_result",
          "data": {
            "text/plain": [
              "[3.126735850016276, 0.3673333334128062]"
            ]
          },
          "metadata": {
            "tags": []
          },
          "execution_count": 28
        }
      ]
    },
    {
      "cell_type": "code",
      "metadata": {
        "id": "o-dQDj8vPnXC",
        "colab_type": "code",
        "colab": {}
      },
      "source": [
        ""
      ],
      "execution_count": 0,
      "outputs": []
    },
    {
      "cell_type": "code",
      "metadata": {
        "id": "V7c-A-a4SS6S",
        "colab_type": "code",
        "outputId": "7d2e872d-175d-45b3-bf1d-838c6277e906",
        "colab": {
          "base_uri": "https://localhost:8080/",
          "height": 34
        }
      },
      "source": [
        "loaded_model_low_accuracy.evaluate(test_three_data, test_three_label_one_hot, verbose=0)"
      ],
      "execution_count": 29,
      "outputs": [
        {
          "output_type": "execute_result",
          "data": {
            "text/plain": [
              "[0.4510676885445913, 0.8799999998410543]"
            ]
          },
          "metadata": {
            "tags": []
          },
          "execution_count": 29
        }
      ]
    },
    {
      "cell_type": "code",
      "metadata": {
        "id": "tzbIXvcEoNMj",
        "colab_type": "code",
        "outputId": "d20f6bb4-c3df-41d1-9bd6-11bf1df78805",
        "colab": {
          "base_uri": "https://localhost:8080/",
          "height": 1074
        }
      },
      "source": [
        "loaded_model_low_accuracy.summary()"
      ],
      "execution_count": 30,
      "outputs": [
        {
          "output_type": "stream",
          "text": [
            "_________________________________________________________________\n",
            "Layer (type)                 Output Shape              Param #   \n",
            "=================================================================\n",
            "input_1 (InputLayer)         (None, 32, 32, 3)         0         \n",
            "_________________________________________________________________\n",
            "conv1_1 (Conv2D)             (None, 32, 32, 64)        1792      \n",
            "_________________________________________________________________\n",
            "conv1_2 (BatchNormalization) (None, 32, 32, 64)        256       \n",
            "_________________________________________________________________\n",
            "pool1_3 (MaxPooling2D)       (None, 16, 16, 64)        0         \n",
            "_________________________________________________________________\n",
            "conv2_1 (Conv2D)             (None, 16, 16, 128)       73856     \n",
            "_________________________________________________________________\n",
            "conv2_2 (BatchNormalization) (None, 16, 16, 128)       512       \n",
            "_________________________________________________________________\n",
            "pool2_3 (MaxPooling2D)       (None, 8, 8, 128)         0         \n",
            "_________________________________________________________________\n",
            "conv3_1 (Conv2D)             (None, 8, 8, 256)         295168    \n",
            "_________________________________________________________________\n",
            "conv3_2 (BatchNormalization) (None, 8, 8, 256)         1024      \n",
            "_________________________________________________________________\n",
            "conv4_1 (Conv2D)             (None, 8, 8, 256)         590080    \n",
            "_________________________________________________________________\n",
            "conv4_2 (BatchNormalization) (None, 8, 8, 256)         1024      \n",
            "_________________________________________________________________\n",
            "pool4_2 (MaxPooling2D)       (None, 4, 4, 256)         0         \n",
            "_________________________________________________________________\n",
            "conv5_1 (Conv2D)             (None, 4, 4, 512)         1180160   \n",
            "_________________________________________________________________\n",
            "conv5_2 (BatchNormalization) (None, 4, 4, 512)         2048      \n",
            "_________________________________________________________________\n",
            "conv6_1 (Conv2D)             (None, 4, 4, 512)         2359808   \n",
            "_________________________________________________________________\n",
            "conv6_2 (BatchNormalization) (None, 4, 4, 512)         2048      \n",
            "_________________________________________________________________\n",
            "pool6_2 (MaxPooling2D)       (None, 2, 2, 512)         0         \n",
            "_________________________________________________________________\n",
            "conv7_1 (Conv2D)             (None, 2, 2, 512)         2359808   \n",
            "_________________________________________________________________\n",
            "conv7_2 (BatchNormalization) (None, 2, 2, 512)         2048      \n",
            "_________________________________________________________________\n",
            "conv8_1 (Conv2D)             (None, 2, 2, 512)         2359808   \n",
            "_________________________________________________________________\n",
            "conv8_2 (BatchNormalization) (None, 2, 2, 512)         2048      \n",
            "_________________________________________________________________\n",
            "pool8_2 (MaxPooling2D)       (None, 1, 1, 512)         0         \n",
            "_________________________________________________________________\n",
            "flatten_1 (Flatten)          (None, 512)               0         \n",
            "_________________________________________________________________\n",
            "fc1 (Dense)                  (None, 4096)              2101248   \n",
            "_________________________________________________________________\n",
            "fc2 (Dense)                  (None, 4096)              16781312  \n",
            "_________________________________________________________________\n",
            "fc3 (Dense)                  (None, 1000)              4097000   \n",
            "_________________________________________________________________\n",
            "out (Dense)                  (None, 3)                 3003      \n",
            "=================================================================\n",
            "Total params: 32,214,051\n",
            "Trainable params: 32,208,547\n",
            "Non-trainable params: 5,504\n",
            "_________________________________________________________________\n"
          ],
          "name": "stdout"
        }
      ]
    },
    {
      "cell_type": "markdown",
      "metadata": {
        "id": "UijDrRL2khSY",
        "colab_type": "text"
      },
      "source": [
        "## Create a plot for DI score using function createCNNLayerDIScorePlot()"
      ]
    },
    {
      "cell_type": "markdown",
      "metadata": {
        "id": "Lyk2-GAGaPnV",
        "colab_type": "text"
      },
      "source": [
        "#### On train data"
      ]
    },
    {
      "cell_type": "code",
      "metadata": {
        "id": "EN1yVJGzUzXX",
        "colab_type": "code",
        "colab": {}
      },
      "source": [
        "# layer_name = 'conv2d_2'\n",
        "# model = loaded_model_low_accuracy\n",
        "# intermediate_layer_model = Model(i4nputs=model.input,\n",
        "#                                  outputs=model.get_layer(layer_name).output)\n",
        "# intermediate_output = intermediate_layer_model.predict(train_three_data)"
      ],
      "execution_count": 0,
      "outputs": []
    },
    {
      "cell_type": "code",
      "metadata": {
        "id": "m_GyLE1oSbGn",
        "colab_type": "code",
        "outputId": "25808e55-b236-4f90-e90d-6cf3cd8e55a5",
        "colab": {
          "base_uri": "https://localhost:8080/",
          "height": 348
        }
      },
      "source": [
        "# now get DI score of a layer from high accuracy and low accuracy model\n",
        "# layer_names = ['conv2_1']\n",
        "layer_names = ['fc1']\n",
        "all_di_acores_low_accuracy = []\n",
        "for lay in layer_names:\n",
        "  this_di_score_low_accuracy_model = createFCLayerDIScorePlot(loaded_model_low_accuracy, lay)\n",
        "  all_di_acores_low_accuracy.append(this_di_score_low_accuracy_model)\n",
        "# discores_low_acc_model = createCNNLayerDIScorePlot(loaded_model_low_accuracy, layer_name)"
      ],
      "execution_count": 40,
      "outputs": [
        {
          "output_type": "stream",
          "text": [
            "Mean of DI SCore:  0.005582601377870375\n",
            "STD of DI Score:  0.051976046907892405\n",
            "MAX of DI Score:  0.933783647623847\n"
          ],
          "name": "stdout"
        },
        {
          "output_type": "display_data",
          "data": {
            "image/png": "[encoded data removed]",
            "text/plain": [
              "<Figure size 432x288 with 1 Axes>"
            ]
          },
          "metadata": {
            "tags": []
          }
        }
      ]
    },
    {
      "cell_type": "code",
      "metadata": {
        "id": "yBUWcfwaYwsx",
        "colab_type": "code",
        "colab": {}
      },
      "source": [
        "# discores_low_acc_model"
      ],
      "execution_count": 0,
      "outputs": []
    },
    {
      "cell_type": "code",
      "metadata": {
        "id": "siJntOdpYoNZ",
        "colab_type": "code",
        "colab": {}
      },
      "source": [
        "# np.sort(discores_low_acc_model)"
      ],
      "execution_count": 0,
      "outputs": []
    },
    {
      "cell_type": "code",
      "metadata": {
        "id": "QQC6i-0MVmWk",
        "colab_type": "code",
        "outputId": "83353fe2-1b53-4c52-d008-9c7c275e1c72",
        "colab": {
          "base_uri": "https://localhost:8080/",
          "height": 348
        }
      },
      "source": [
        "# now get DI score of a layer from high accuracy and low accuracy model\n",
        "#layer_name = 'conv2d_2'\n",
        "\n",
        "# discores_high_acc_model = createCNNLayerDIScorePlot(loaded_model_high_accuracy, layer_name)\n",
        "all_di_acores_high_accuracy = []\n",
        "for lay in layer_names:\n",
        "  this_di_score_high_accuracy_model = createFCLayerDIScorePlot(loaded_model_high_accuracy, lay)\n",
        "  all_di_acores_high_accuracy.append(this_di_score_high_accuracy_model)"
      ],
      "execution_count": 42,
      "outputs": [
        {
          "output_type": "stream",
          "text": [
            "Mean of DI SCore:  0.0019418782708684019\n",
            "STD of DI Score:  0.012894762038952396\n",
            "MAX of DI Score:  0.19114531131332255\n"
          ],
          "name": "stdout"
        },
        {
          "output_type": "display_data",
          "data": {
            "image/png": "[encoded data removed]",
            "text/plain": [
              "<Figure size 432x288 with 1 Axes>"
            ]
          },
          "metadata": {
            "tags": []
          }
        }
      ]
    },
    {
      "cell_type": "code",
      "metadata": {
        "id": "cGjrlhMbVmUv",
        "colab_type": "code",
        "colab": {}
      },
      "source": [
        ""
      ],
      "execution_count": 0,
      "outputs": []
    },
    {
      "cell_type": "markdown",
      "metadata": {
        "id": "EHVud4ykeRn8",
        "colab_type": "text"
      },
      "source": [
        "## Pick top 10 DI scores"
      ]
    },
    {
      "cell_type": "code",
      "metadata": {
        "id": "8k5Ob6gWeQ94",
        "colab_type": "code",
        "colab": {}
      },
      "source": [
        ""
      ],
      "execution_count": 0,
      "outputs": []
    },
    {
      "cell_type": "code",
      "metadata": {
        "id": "TyI8gOZuftmZ",
        "colab_type": "code",
        "colab": {}
      },
      "source": [
        ""
      ],
      "execution_count": 0,
      "outputs": []
    },
    {
      "cell_type": "markdown",
      "metadata": {
        "id": "TjMoET8nasck",
        "colab_type": "text"
      },
      "source": [
        "#### On validation data"
      ]
    },
    {
      "cell_type": "code",
      "metadata": {
        "id": "cPKQgmyXbACY",
        "colab_type": "code",
        "colab": {}
      },
      "source": [
        "valid_ground_actual = np.argmax(valid_ground, axis=1)\n",
        "# valid_ground_actual.shape\n",
        "# data_to_use = train_three_data , data_label =train_three_label"
      ],
      "execution_count": 0,
      "outputs": []
    },
    {
      "cell_type": "code",
      "metadata": {
        "id": "nbg5-HKhaxxj",
        "colab_type": "code",
        "colab": {}
      },
      "source": [
        "# now get DI score of a layer from high accuracy and low accuracy model\n",
        "#layer_name = 'conv2d_2'\n",
        "# discores_low_acc_model_valid = createCNNLayerDIScorePlot(loaded_model_low_accuracy,\n",
        "#                                                    layer_name, data_to_use=valid_X, data_label=valid_ground_actual)"
      ],
      "execution_count": 0,
      "outputs": []
    },
    {
      "cell_type": "code",
      "metadata": {
        "id": "zaH4FbSFaxuc",
        "colab_type": "code",
        "colab": {}
      },
      "source": [
        "# now get DI score of a layer from high accuracy and low accuracy model\n",
        "#layer_name = 'conv2d_2'\n",
        "\n",
        "# discores_high_acc_model_valid = createCNNLayerDIScorePlot(loaded_model_high_accuracy,\n",
        "#                                                    layer_name, data_to_use=valid_X, data_label=valid_ground_actual)"
      ],
      "execution_count": 0,
      "outputs": []
    },
    {
      "cell_type": "code",
      "metadata": {
        "id": "vMpuiVdSf60g",
        "colab_type": "code",
        "colab": {}
      },
      "source": [
        "# np.sort(discores_high_acc_model)"
      ],
      "execution_count": 0,
      "outputs": []
    },
    {
      "cell_type": "markdown",
      "metadata": {
        "id": "ZueWb5hY7zZJ",
        "colab_type": "text"
      },
      "source": [
        "#### Pick top channels from the layers selected"
      ]
    },
    {
      "cell_type": "code",
      "metadata": {
        "id": "u9HwamF674hP",
        "colab_type": "code",
        "colab": {}
      },
      "source": [
        "topChoose = True\n"
      ],
      "execution_count": 0,
      "outputs": []
    },
    {
      "cell_type": "code",
      "metadata": {
        "id": "ZmggM8xc8c8G",
        "colab_type": "code",
        "outputId": "cb36f115-74e4-44ad-e9d3-57141aa0bfb3",
        "colab": {
          "base_uri": "https://localhost:8080/",
          "height": 34
        }
      },
      "source": [
        "for i,d in enumerate(all_di_acores_high_accuracy):\n",
        "  print(len(d),i)"
      ],
      "execution_count": 48,
      "outputs": [
        {
          "output_type": "stream",
          "text": [
            "4096 0\n"
          ],
          "name": "stdout"
        }
      ]
    },
    {
      "cell_type": "code",
      "metadata": {
        "id": "N1cAvZpx9G8_",
        "colab_type": "code",
        "colab": {}
      },
      "source": [
        "Ks = [10]"
      ],
      "execution_count": 0,
      "outputs": []
    },
    {
      "cell_type": "code",
      "metadata": {
        "id": "Y3zlCJ3R9jjk",
        "colab_type": "code",
        "colab": {}
      },
      "source": [
        "copied_low_accuracy_model = loaded_model_low_accuracy"
      ],
      "execution_count": 0,
      "outputs": []
    },
    {
      "cell_type": "code",
      "metadata": {
        "id": "ZY28-KyEAhdg",
        "colab_type": "code",
        "colab": {}
      },
      "source": [
        "copied_high_accuracy_model = loaded_model_high_accuracy"
      ],
      "execution_count": 0,
      "outputs": []
    },
    {
      "cell_type": "code",
      "metadata": {
        "id": "mCeCjHCzbJj0",
        "colab_type": "code",
        "colab": {}
      },
      "source": [
        "# low_accuracy_model_weight.shape"
      ],
      "execution_count": 0,
      "outputs": []
    },
    {
      "cell_type": "code",
      "metadata": {
        "id": "f5dHmH8KoxXn",
        "colab_type": "code",
        "colab": {}
      },
      "source": [
        "for l,DIs in enumerate(all_di_acores_high_accuracy):\n",
        "  this_layer_name = layer_names[l]\n",
        "  this_high_accuracy_di_scores = all_di_acores_high_accuracy[l]\n",
        "  this_high_accuracy_di_scores_sorted = np.argsort(this_high_accuracy_di_scores)\n",
        "  this_high_accuracy_di_scores_sorted_list = np.ndarray.tolist(this_high_accuracy_di_scores_sorted)\n",
        "  top_channels = this_high_accuracy_di_scores_sorted_list[-Ks[l]:]\n",
        "  \n",
        "  # do same thing for lowest DIs\n",
        "  this_low_accuracy_di_scores = all_di_acores_low_accuracy[l]\n",
        "  this_low_accuracy_di_scores_sorted = np.argsort(this_low_accuracy_di_scores)\n",
        "  this_low_accuracy_di_scores_sorted_list = np.ndarray.tolist(this_low_accuracy_di_scores_sorted)\n",
        "  bottom_channels = this_low_accuracy_di_scores_sorted_list[0:Ks[l]]\n",
        "  \n",
        "  # now replace the weights\n",
        "  low_accuracy_model_weights_bias = copied_low_accuracy_model.get_layer(this_layer_name).get_weights()\n",
        "  high_accuracy_model_weights_bias = copied_high_accuracy_model.get_layer(this_layer_name).get_weights()\n",
        "\n",
        "  low_accuracy_model_weight,low_accuracy_model_bias = low_accuracy_model_weights_bias[0],low_accuracy_model_weights_bias[1]\n",
        "  high_accuracy_model_weight,high_accuracy_model_bias = high_accuracy_model_weights_bias[0],high_accuracy_model_weights_bias[1]\n",
        "#   print(low_accuracy_model_weight.shape,low_accuracy_model_bias.shape)\n",
        "  low_accuracy_model_weight[:,bottom_channels] = high_accuracy_model_weight[:,top_channels]\n",
        "#   print(bottom_channels)\n",
        "  high_accuracy_model_bias[bottom_channels] = high_accuracy_model_bias[top_channels]\n",
        "  \n",
        "  copied_low_accuracy_model.get_layer(this_layer_name).set_weights([low_accuracy_model_weight, high_accuracy_model_bias])"
      ],
      "execution_count": 0,
      "outputs": []
    },
    {
      "cell_type": "code",
      "metadata": {
        "id": "cgoNV1oG8BS4",
        "colab_type": "code",
        "colab": {}
      },
      "source": [
        "# for l,DIs in enumerate(all_di_acores_high_accuracy):\n",
        "#   this_layer_name = layer_names[l]\n",
        "#   this_high_accuracy_di_scores = all_di_acores_high_accuracy[l]\n",
        "#   this_high_accuracy_di_scores_sorted = np.argsort(this_high_accuracy_di_scores)\n",
        "#   this_high_accuracy_di_scores_sorted_list = np.ndarray.tolist(this_high_accuracy_di_scores_sorted)\n",
        "#   top_channels = this_high_accuracy_di_scores_sorted_list[-Ks[l]:]\n",
        "  \n",
        "#   # do same thing for lowest DIs\n",
        "#   this_low_accuracy_di_scores = all_di_acores_low_accuracy[l]\n",
        "#   this_low_accuracy_di_scores_sorted = np.argsort(this_low_accuracy_di_scores)\n",
        "#   this_low_accuracy_di_scores_sorted_list = np.ndarray.tolist(this_low_accuracy_di_scores_sorted)\n",
        "#   bottom_channels = this_low_accuracy_di_scores_sorted_list[0:Ks[l]]\n",
        "  \n",
        "#   # now replace the weights\n",
        "#   low_accuracy_model_weights_bias = copied_low_accuracy_model.get_layer(this_layer_name).get_weights()\n",
        "#   high_accuracy_model_weights_bias = copied_high_accuracy_model.get_layer(this_layer_name).get_weights()\n",
        "\n",
        "#   low_accuracy_model_weight,low_accuracy_model_bias = low_accuracy_model_weights_bias[0],low_accuracy_model_weights_bias[1]\n",
        "#   high_accuracy_model_weight,high_accuracy_model_bias = high_accuracy_model_weights_bias[0],high_accuracy_model_weights_bias[1]\n",
        "# #   print(low_accuracy_model_weight.shape,low_accuracy_model_bias.shape)\n",
        "#   low_accuracy_model_weight[:,:,:,bottom_channels] = high_accuracy_model_weight[:,:,:,top_channels]\n",
        "# #   print(bottom_channels)\n",
        "#   high_accuracy_model_bias[bottom_channels] = high_accuracy_model_bias[top_channels]\n",
        "  \n",
        "#   copied_low_accuracy_model.get_layer(this_layer_name).set_weights([low_accuracy_model_weight, high_accuracy_model_bias])"
      ],
      "execution_count": 0,
      "outputs": []
    },
    {
      "cell_type": "code",
      "metadata": {
        "id": "OodsSlYDCesc",
        "colab_type": "code",
        "colab": {}
      },
      "source": [
        "# high_accuracy_model_weights_bias.shape"
      ],
      "execution_count": 0,
      "outputs": []
    },
    {
      "cell_type": "code",
      "metadata": {
        "id": "2AtLgL9ICGJE",
        "colab_type": "code",
        "colab": {}
      },
      "source": [
        "# high_accuracy_model_bias"
      ],
      "execution_count": 0,
      "outputs": []
    },
    {
      "cell_type": "code",
      "metadata": {
        "id": "UzN_W73aldFU",
        "colab_type": "code",
        "colab": {}
      },
      "source": [
        "\n",
        "# # (discores_high_acc_model)\n",
        "# K= 50 # how many channels to pick\n",
        "# high_acc_di_sorted = np.argsort(discores_high_acc_model)\n",
        "# high_acc_di_sorted_list = np.ndarray.tolist(high_acc_di_sorted)\n",
        "# top_channels = high_acc_di_sorted_list[-K:]#np.random.choice(32,K)#\n",
        "# print('Top Channels: ',top_channels)\n",
        "\n",
        "\n",
        "# low_acc_di_sorted = np.argsort(discores_low_acc_model)\n",
        "# low_acc_di_sorted_list = np.ndarray.tolist(low_acc_di_sorted)\n",
        "# low_channels = low_acc_di_sorted_list[0:K]#np.random.choice(32,K)\n",
        "# print('Low Channels: ', low_channels)"
      ],
      "execution_count": 0,
      "outputs": []
    },
    {
      "cell_type": "markdown",
      "metadata": {
        "id": "-_BDN-T-BaGz",
        "colab_type": "text"
      },
      "source": [
        "#####  get low accuracy DI channels"
      ]
    },
    {
      "cell_type": "code",
      "metadata": {
        "id": "Z5DgBrzXCGB8",
        "colab_type": "code",
        "colab": {}
      },
      "source": [
        "# discores_low_acc_model"
      ],
      "execution_count": 0,
      "outputs": []
    },
    {
      "cell_type": "code",
      "metadata": {
        "id": "J5B34pIwCbXN",
        "colab_type": "code",
        "colab": {}
      },
      "source": [
        "# plt.plot(discores_low_acc_model,'-*')"
      ],
      "execution_count": 0,
      "outputs": []
    },
    {
      "cell_type": "code",
      "metadata": {
        "id": "tRrtIpLVBdK4",
        "colab_type": "code",
        "colab": {}
      },
      "source": [
        ""
      ],
      "execution_count": 0,
      "outputs": []
    },
    {
      "cell_type": "code",
      "metadata": {
        "id": "SD8nswMnxWVC",
        "colab_type": "code",
        "colab": {}
      },
      "source": [
        "# total_channels = len(discores_high_acc_model)\n",
        "# total_channels"
      ],
      "execution_count": 0,
      "outputs": []
    },
    {
      "cell_type": "code",
      "metadata": {
        "id": "MsCtxzRVokuR",
        "colab_type": "code",
        "colab": {}
      },
      "source": [
        "enable_training = True"
      ],
      "execution_count": 0,
      "outputs": []
    },
    {
      "cell_type": "code",
      "metadata": {
        "id": "Sk_0a6JlFux5",
        "colab_type": "code",
        "outputId": "22ef8d51-2fbd-4221-8a10-070ad353305a",
        "colab": {
          "base_uri": "https://localhost:8080/",
          "height": 54
        }
      },
      "source": [
        "# returns \n",
        "'''\n",
        "def highAccuracyModelTillConv2(input_img): \n",
        "  conv1_1 = (Conv2D(32, (3,3), padding='same',\n",
        "                    kernel_regularizer=regularizers.l2(weight_decay), \n",
        "                    input_shape=x_train.shape[1:], activation='elu', trainable = enable_training,\n",
        "                    name = 'HighAccuracyConv1'))(input_img)\n",
        "  conv1_2 = BatchNormalization(name = 'HighAccuracyBN1',\n",
        "                              trainable = enable_training)(conv1_1)\n",
        "  conv2_1 = (Conv2D(32, (3,3), padding='same', activation= 'elu',trainable = enable_training,\n",
        "                    name = 'HighAccuracyConv2',kernel_regularizer=regularizers.l2(weight_decay)))(conv1_2)\n",
        "#   conv2_2 = BatchNormalization(name = 'HighAccuracyBN2',\n",
        "#                               trainable = enable_training)(conv2_1)  \n",
        "  \n",
        "  return conv2_1\n",
        "'''"
      ],
      "execution_count": 66,
      "outputs": [
        {
          "output_type": "execute_result",
          "data": {
            "text/plain": [
              "\"\\ndef highAccuracyModelTillConv2(input_img): \\n  conv1_1 = (Conv2D(32, (3,3), padding='same',\\n                    kernel_regularizer=regularizers.l2(weight_decay), \\n                    input_shape=x_train.shape[1:], activation='elu', trainable = enable_training,\\n                    name = 'HighAccuracyConv1'))(input_img)\\n  conv1_2 = BatchNormalization(name = 'HighAccuracyBN1',\\n                              trainable = enable_training)(conv1_1)\\n  conv2_1 = (Conv2D(32, (3,3), padding='same', activation= 'elu',trainable = enable_training,\\n                    name = 'HighAccuracyConv2',kernel_regularizer=regularizers.l2(weight_decay)))(conv1_2)\\n#   conv2_2 = BatchNormalization(name = 'HighAccuracyBN2',\\n#                               trainable = enable_training)(conv2_1)  \\n  \\n  return conv2_1\\n\""
            ]
          },
          "metadata": {
            "tags": []
          },
          "execution_count": 66
        }
      ]
    },
    {
      "cell_type": "code",
      "metadata": {
        "id": "mZchwmWh7la9",
        "colab_type": "code",
        "outputId": "64324373-64ad-4816-ee18-840fb40e7564",
        "colab": {
          "base_uri": "https://localhost:8080/",
          "height": 1074
        }
      },
      "source": [
        "copied_low_accuracy_model.summary()"
      ],
      "execution_count": 67,
      "outputs": [
        {
          "output_type": "stream",
          "text": [
            "_________________________________________________________________\n",
            "Layer (type)                 Output Shape              Param #   \n",
            "=================================================================\n",
            "input_1 (InputLayer)         (None, 32, 32, 3)         0         \n",
            "_________________________________________________________________\n",
            "conv1_1 (Conv2D)             (None, 32, 32, 64)        1792      \n",
            "_________________________________________________________________\n",
            "conv1_2 (BatchNormalization) (None, 32, 32, 64)        256       \n",
            "_________________________________________________________________\n",
            "pool1_3 (MaxPooling2D)       (None, 16, 16, 64)        0         \n",
            "_________________________________________________________________\n",
            "conv2_1 (Conv2D)             (None, 16, 16, 128)       73856     \n",
            "_________________________________________________________________\n",
            "conv2_2 (BatchNormalization) (None, 16, 16, 128)       512       \n",
            "_________________________________________________________________\n",
            "pool2_3 (MaxPooling2D)       (None, 8, 8, 128)         0         \n",
            "_________________________________________________________________\n",
            "conv3_1 (Conv2D)             (None, 8, 8, 256)         295168    \n",
            "_________________________________________________________________\n",
            "conv3_2 (BatchNormalization) (None, 8, 8, 256)         1024      \n",
            "_________________________________________________________________\n",
            "conv4_1 (Conv2D)             (None, 8, 8, 256)         590080    \n",
            "_________________________________________________________________\n",
            "conv4_2 (BatchNormalization) (None, 8, 8, 256)         1024      \n",
            "_________________________________________________________________\n",
            "pool4_2 (MaxPooling2D)       (None, 4, 4, 256)         0         \n",
            "_________________________________________________________________\n",
            "conv5_1 (Conv2D)             (None, 4, 4, 512)         1180160   \n",
            "_________________________________________________________________\n",
            "conv5_2 (BatchNormalization) (None, 4, 4, 512)         2048      \n",
            "_________________________________________________________________\n",
            "conv6_1 (Conv2D)             (None, 4, 4, 512)         2359808   \n",
            "_________________________________________________________________\n",
            "conv6_2 (BatchNormalization) (None, 4, 4, 512)         2048      \n",
            "_________________________________________________________________\n",
            "pool6_2 (MaxPooling2D)       (None, 2, 2, 512)         0         \n",
            "_________________________________________________________________\n",
            "conv7_1 (Conv2D)             (None, 2, 2, 512)         2359808   \n",
            "_________________________________________________________________\n",
            "conv7_2 (BatchNormalization) (None, 2, 2, 512)         2048      \n",
            "_________________________________________________________________\n",
            "conv8_1 (Conv2D)             (None, 2, 2, 512)         2359808   \n",
            "_________________________________________________________________\n",
            "conv8_2 (BatchNormalization) (None, 2, 2, 512)         2048      \n",
            "_________________________________________________________________\n",
            "pool8_2 (MaxPooling2D)       (None, 1, 1, 512)         0         \n",
            "_________________________________________________________________\n",
            "flatten_1 (Flatten)          (None, 512)               0         \n",
            "_________________________________________________________________\n",
            "fc1 (Dense)                  (None, 4096)              2101248   \n",
            "_________________________________________________________________\n",
            "fc2 (Dense)                  (None, 4096)              16781312  \n",
            "_________________________________________________________________\n",
            "fc3 (Dense)                  (None, 1000)              4097000   \n",
            "_________________________________________________________________\n",
            "out (Dense)                  (None, 3)                 3003      \n",
            "=================================================================\n",
            "Total params: 32,214,051\n",
            "Trainable params: 32,208,547\n",
            "Non-trainable params: 5,504\n",
            "_________________________________________________________________\n"
          ],
          "name": "stdout"
        }
      ]
    },
    {
      "cell_type": "code",
      "metadata": {
        "id": "OA-0pVGXvMeE",
        "colab_type": "code",
        "colab": {}
      },
      "source": [
        "from keras.layers import Dense, Concatenate, Input, Lambda\n"
      ],
      "execution_count": 0,
      "outputs": []
    },
    {
      "cell_type": "code",
      "metadata": {
        "id": "41smOd7GTX5c",
        "colab_type": "code",
        "colab": {}
      },
      "source": [
        "# def cifar10ClassifierTransfer(input_img):\n",
        "  \n",
        "#   conv1_1 = (Conv2D(64, (3,3),name = 'conv1_1' ,padding='same', \n",
        "#                     kernel_regularizer=regularizers.l2(weight_decay), input_shape=x_train.shape[1:],\n",
        "#                     activation='relu'))(input_img)\n",
        "#   conv1_2 = BatchNormalization(name = 'conv1_2')(conv1_1)\n",
        "#   pool1_3 = MaxPooling2D(pool_size=(2, 2), name = 'pool1_3')(conv1_2) #14 x 14 x 32\n",
        "#   conv2_1 = (Conv2D(128, (3,3),name = 'conv2_1' ,padding='same',\n",
        "#                     activation= 'relu',kernel_regularizer=regularizers.l2(weight_decay)))(pool1_3)\n",
        "#   conv2_2 = BatchNormalization(name = 'conv2_2')(conv2_1)\n",
        "#   pool2_3 = MaxPooling2D(pool_size=(2, 2), name = 'pool2_3')(conv2_2) #14 x 14 x 32\n",
        "  \n",
        "#   conv3_1 = (Conv2D(256, (3,3), padding='same',name = 'conv3_1',\n",
        "#                     kernel_regularizer=regularizers.l2(weight_decay), activation='relu'))(pool2_3)\n",
        "#   conv3_2 = BatchNormalization(name = 'conv3_2')(conv3_1)\n",
        "#   conv4_1 = (Conv2D(256, (3,3), padding='same',name = 'conv4_1' ,activation= 'relu',\n",
        "#                     kernel_regularizer=regularizers.l2(weight_decay)))(conv3_2)\n",
        "#   conv4_2 = BatchNormalization(name = 'conv4_2')(conv4_1)\n",
        "#   pool4_2 = MaxPooling2D(pool_size=(2, 2), name = 'pool4_2')(conv4_2) #14 x 14 x 32\n",
        "  \n",
        "#   conv5_1 = (Conv2D(512, (3,3), padding='same',name = 'conv5_1',\n",
        "#                     kernel_regularizer=regularizers.l2(weight_decay), activation='relu'))(pool4_2)\n",
        "#   conv5_2 = BatchNormalization(name = 'conv5_2')(conv5_1)\n",
        "#   conv6_1 = (Conv2D(512, (3,3), padding='same',name = 'conv6_1' ,activation= 'relu',\n",
        "#                     kernel_regularizer=regularizers.l2(weight_decay)))(conv5_2)\n",
        "#   conv6_2 = BatchNormalization(name = 'conv6_2')(conv6_1)\n",
        "#   pool6_2 = MaxPooling2D(pool_size=(2, 2), name = 'pool6_2')(conv6_2) #14 x 14 x 32\n",
        "  \n",
        "#   conv7_1 = (Conv2D(512, (3,3), padding='same',name = 'conv7_1',\n",
        "#                     kernel_regularizer=regularizers.l2(weight_decay), activation='relu'))(pool6_2)\n",
        "#   conv7_2 = BatchNormalization(name = 'conv7_2')(conv7_1)\n",
        "#   conv8_1 = (Conv2D(512, (3,3), padding='same',name = 'conv8_1' ,activation= 'relu',\n",
        "#                     kernel_regularizer=regularizers.l2(weight_decay)))(conv7_2)\n",
        "#   conv8_2 = BatchNormalization(name = 'conv8_2')(conv8_1)\n",
        "#   pool8_2 = MaxPooling2D(pool_size=(2, 2), name = 'pool8_2')(conv8_2) #14 x 14 x 32\n",
        "\n",
        "\n",
        "#   flat = Flatten()(pool8_2)\n",
        "#   fc1 = Dense(4096, activation='relu', name = 'fc1')(flat)\n",
        "#   fc2 = Dense(4096, activation='relu', name = 'fc2')(fc1)\n",
        "#   fc3 = Dense(1000, activation='relu', name = 'fc3')(fc2)\n",
        "\n",
        "\n",
        "  \n",
        "#   out = Dense(num_classes, activation='softmax', name = 'out')(fc3)\n",
        "  \n",
        "#   return out"
      ],
      "execution_count": 0,
      "outputs": []
    },
    {
      "cell_type": "code",
      "metadata": {
        "id": "sf3PN5YIyba2",
        "colab_type": "code",
        "colab": {}
      },
      "source": [
        "# top_channels"
      ],
      "execution_count": 0,
      "outputs": []
    },
    {
      "cell_type": "code",
      "metadata": {
        "id": "fzUmKtVGFusU",
        "colab_type": "code",
        "colab": {}
      },
      "source": [
        "# #high_acc_output = highAccuracyModelTillConv2(input_img)\n",
        "# modelFilt = Model(input_img, \n",
        "#               cifar10ClassifierTransfer(input_img))\n",
        "# #data augmentation\n",
        "# datagen = ImageDataGenerator(\n",
        "#     rotation_range=15,\n",
        "#     width_shift_range=0.1,\n",
        "#     height_shift_range=0.1,\n",
        "#     horizontal_flip=True,\n",
        "#     )\n",
        "# datagen.fit(train_three_data)\n",
        " \n",
        "# #training\n",
        "# batch_size = 64\n",
        " \n",
        "# opt_rms = keras.optimizers.rmsprop(lr=0.001,decay=1e-6)\n",
        "# # model.compile(loss='categorical_crossentropy', optimizer=opt_rms, metrics=['accuracy'])\n",
        "\n",
        "# modelFilt.compile(loss=losses.categorical_crossentropy, optimizer=opt_rms, metrics=['accuracy'])\n",
        "\n",
        "# modelFilt.summary()\n",
        " "
      ],
      "execution_count": 0,
      "outputs": []
    },
    {
      "cell_type": "code",
      "metadata": {
        "id": "cty76ahJDRhj",
        "colab_type": "code",
        "colab": {}
      },
      "source": [
        "#data augmentation\n",
        "datagen = ImageDataGenerator(\n",
        "    rotation_range=15,\n",
        "    width_shift_range=0.1,\n",
        "    height_shift_range=0.1,\n",
        "    horizontal_flip=True,\n",
        "    )\n",
        "datagen.fit(train_three_data)\n",
        "# #training\n",
        "batch_size = 64"
      ],
      "execution_count": 0,
      "outputs": []
    },
    {
      "cell_type": "code",
      "metadata": {
        "id": "WE7b72OOFups",
        "colab_type": "code",
        "colab": {}
      },
      "source": [
        "plot_model(copied_low_accuracy_model, to_file=\"FiltModel.png\", show_shapes=True, show_layer_names=True)"
      ],
      "execution_count": 0,
      "outputs": []
    },
    {
      "cell_type": "code",
      "metadata": {
        "id": "5-yqdp6_rQkI",
        "colab_type": "code",
        "colab": {}
      },
      "source": [
        "# loaded_model_high_accuracy.summary()"
      ],
      "execution_count": 0,
      "outputs": []
    },
    {
      "cell_type": "markdown",
      "metadata": {
        "id": "8GkUnIIAqH0k",
        "colab_type": "text"
      },
      "source": [
        "## set predetermined weights"
      ]
    },
    {
      "cell_type": "code",
      "metadata": {
        "id": "nKVw7k8QLwoQ",
        "colab_type": "code",
        "colab": {}
      },
      "source": [
        "# top_channels"
      ],
      "execution_count": 0,
      "outputs": []
    },
    {
      "cell_type": "code",
      "metadata": {
        "id": "5hWcRyTNtaXW",
        "colab_type": "code",
        "colab": {}
      },
      "source": [
        "# top_channels"
      ],
      "execution_count": 0,
      "outputs": []
    },
    {
      "cell_type": "markdown",
      "metadata": {
        "id": "JhmWPU7RA9N3",
        "colab_type": "text"
      },
      "source": [
        "#### # get low accuracy DI channel - stored in low_channels\n",
        "\n",
        "```\n",
        "# This is formatted as code\n",
        "```\n",
        "\n",
        "s"
      ]
    },
    {
      "cell_type": "markdown",
      "metadata": {
        "id": "mL5R24pGA9KP",
        "colab_type": "text"
      },
      "source": [
        ""
      ]
    },
    {
      "cell_type": "code",
      "metadata": {
        "id": "H0JBUK8KA26B",
        "colab_type": "code",
        "colab": {}
      },
      "source": [
        "\n",
        "# loaded_model_high_accuracy.get_layer(layer_name).get_weights()[0].shape"
      ],
      "execution_count": 0,
      "outputs": []
    },
    {
      "cell_type": "markdown",
      "metadata": {
        "id": "PmS9J6gmDFIL",
        "colab_type": "text"
      },
      "source": [
        "## Get filter weights for top K10 DI scores"
      ]
    },
    {
      "cell_type": "code",
      "metadata": {
        "id": "t0FN66utr5VE",
        "colab_type": "code",
        "colab": {}
      },
      "source": [
        "# # set weights of high accuracy model for channels not used to 0 [9, 25, 19, 29, 5, 7, 26, 28, 17, 23]\n",
        "# high_acc_conv2_weights = loaded_model_high_accuracy.get_layer(layer_name).get_weights()\n",
        "# # temp_weights = np.zeros_like(high_acc_conv2_weights[0].shape[0])\n",
        "# temp_weights_top_10_DI = np.zeros(shape = (high_acc_conv2_weights[0].shape[0],high_acc_conv2_weights[0].shape[1],high_acc_conv2_weights[0].shape[2],K))\n",
        "# h,w,d,n = high_acc_conv2_weights[0].shape\n",
        "# j = 0\n",
        "# for ch in range(0,n):\n",
        "#   if ch in top_channels:\n",
        "#     temp_weights_top_10_DI[:,:,:,j] = high_acc_conv2_weights[0][:,:,:,ch]\n",
        "#     j = j+1\n",
        "    \n",
        "  \n",
        "# # (high_acc_conv2_weights[0].shape)"
      ],
      "execution_count": 0,
      "outputs": []
    },
    {
      "cell_type": "code",
      "metadata": {
        "id": "bF9DJY3BD6Wf",
        "colab_type": "code",
        "colab": {}
      },
      "source": [
        "# temp_weights_top_10_DI.shape"
      ],
      "execution_count": 0,
      "outputs": []
    },
    {
      "cell_type": "code",
      "metadata": {
        "id": "8lR-sOsQD6UV",
        "colab_type": "code",
        "colab": {}
      },
      "source": [
        "# top_channels"
      ],
      "execution_count": 0,
      "outputs": []
    },
    {
      "cell_type": "code",
      "metadata": {
        "id": "Esv5wQmYFby6",
        "colab_type": "code",
        "colab": {}
      },
      "source": [
        "# temp_bias_top_10_DI = np.zeros(shape = (K,))\n",
        "# # temp_bias = high_acc_conv2_weights[1]\n",
        "\n",
        "# # bias_shape = high_acc_conv2_weights[1].shape\n",
        "# j = 0\n",
        "# for ch in range(0,high_acc_conv2_weights[1].shape[0]):\n",
        "# #   print (ch)\n",
        "#   if ch in top_channels:\n",
        "#     temp_bias_top_10_DI[j] = high_acc_conv2_weights[1][ch]\n",
        "#     j = j+1"
      ],
      "execution_count": 0,
      "outputs": []
    },
    {
      "cell_type": "code",
      "metadata": {
        "id": "HPV28w1jFulD",
        "colab_type": "code",
        "colab": {}
      },
      "source": [
        "# temp_bias\n",
        "# weights_to_assign_fromHighAcc = [temp_weights_top_10_DI,temp_bias_top_10_DI]"
      ],
      "execution_count": 0,
      "outputs": []
    },
    {
      "cell_type": "code",
      "metadata": {
        "id": "2pYigm1qFJmK",
        "colab_type": "code",
        "colab": {}
      },
      "source": [
        "# temp_weights_top_10_DI.shape"
      ],
      "execution_count": 0,
      "outputs": []
    },
    {
      "cell_type": "code",
      "metadata": {
        "id": "f1t2Yj3-E01G",
        "colab_type": "code",
        "colab": {}
      },
      "source": [
        "# high_acc_conv2_weights[1].shape"
      ],
      "execution_count": 0,
      "outputs": []
    },
    {
      "cell_type": "code",
      "metadata": {
        "id": "hQKKEkR2F-tx",
        "colab_type": "code",
        "colab": {}
      },
      "source": [
        "# modelFilt.get_layer('lowAccuracyModelConv1_1').set_weights(loaded_model_low_accuracy.get_layer('conv2d_1').get_weights())\n",
        "# modelFilt.get_layer('lowAccuracyModelBN1').set_weights(loaded_model_low_accuracy.get_layer('batch_normalization_1').get_weights())\n",
        "# # modelFilt.get_layer('HighAccuracyConv2').set_weights(loaded_model_high_accuracy.get_layer('conv2d_2').get_weights())\n",
        "# modelFilt.get_layer('lowAccuracyModelConv2_1').set_weights(loaded_model_low_accuracy.get_layer('conv2d_2').get_weights())"
      ],
      "execution_count": 0,
      "outputs": []
    },
    {
      "cell_type": "code",
      "metadata": {
        "id": "knA2xBI4jrZF",
        "colab_type": "code",
        "colab": {}
      },
      "source": [
        "# loaded_model_low_accuracy.summary()"
      ],
      "execution_count": 0,
      "outputs": []
    },
    {
      "cell_type": "code",
      "metadata": {
        "id": "VZ9nBYl-h9SD",
        "colab_type": "code",
        "colab": {}
      },
      "source": [
        "# # preset the weights\n",
        "# for l1,l2 in zip(modelFilt.layers,loaded_model_low_accuracy.layers):\n",
        "#     l1.set_weights(l2.get_weights())"
      ],
      "execution_count": 0,
      "outputs": []
    },
    {
      "cell_type": "code",
      "metadata": {
        "id": "fGIUVWh3G4x4",
        "colab_type": "code",
        "colab": {}
      },
      "source": [
        "# layer_to_replace = layer_name\n",
        "# low_acc_conv2d_weights_bias = modelFilt.get_layer(layer_to_replace).get_weights()\n",
        "# low_acc_conv2d_weights = low_acc_conv2d_weights_bias[0]\n",
        "# low_acc_conv2d_wbias= low_acc_conv2d_weights_bias[1]\n"
      ],
      "execution_count": 0,
      "outputs": []
    },
    {
      "cell_type": "code",
      "metadata": {
        "id": "cVFju9iFKJID",
        "colab_type": "code",
        "colab": {}
      },
      "source": [
        "# temp_bias_top_10_DI.shape"
      ],
      "execution_count": 0,
      "outputs": []
    },
    {
      "cell_type": "code",
      "metadata": {
        "id": "MlkRaotsHceY",
        "colab_type": "code",
        "colab": {}
      },
      "source": [
        "# # now change weights for layers corresponding to lowest DI scores\n",
        "# orig_weights = np.copy(low_acc_conv2d_weights)\n",
        "# j = 0\n",
        "# for ch in range(0,orig_weights.shape[3]):\n",
        "#   if ch in low_channels:\n",
        "# #     print(ch)\n",
        "#     orig_weights[:,:,:,ch] = temp_weights_top_10_DI[:,:,:,j]\n",
        "#     j = j+1\n",
        "# # orig_weights.shape"
      ],
      "execution_count": 0,
      "outputs": []
    },
    {
      "cell_type": "code",
      "metadata": {
        "id": "ye2_DU60K0nL",
        "colab_type": "code",
        "colab": {}
      },
      "source": [
        "# orig_bias = np.copy(low_acc_conv2d_wbias)\n",
        "# j = 0\n",
        "# for ch in range(0,orig_bias.shape[0]):\n",
        "#   if ch in low_channels:\n",
        "# #     print(ch)\n",
        "#     orig_bias[ch] = temp_bias_top_10_DI[j]\n",
        "#     j = j+1"
      ],
      "execution_count": 0,
      "outputs": []
    },
    {
      "cell_type": "code",
      "metadata": {
        "id": "WDX113kegLSi",
        "colab_type": "code",
        "colab": {}
      },
      "source": [
        ""
      ],
      "execution_count": 0,
      "outputs": []
    },
    {
      "cell_type": "code",
      "metadata": {
        "id": "RERDrTNALkUA",
        "colab_type": "code",
        "colab": {}
      },
      "source": [
        "# new_wt_bias_conv2d1 = [orig_weights,orig_bias]"
      ],
      "execution_count": 0,
      "outputs": []
    },
    {
      "cell_type": "markdown",
      "metadata": {
        "id": "uMc3GS52iEv0",
        "colab_type": "text"
      },
      "source": [
        "#### Overwrite weights fow low DI with high DI"
      ]
    },
    {
      "cell_type": "code",
      "metadata": {
        "id": "OTUKj97VLfIu",
        "colab_type": "code",
        "colab": {}
      },
      "source": [
        "# modelFilt.get_layer(layer_to_replace).set_weights(new_wt_bias_conv2d1)"
      ],
      "execution_count": 0,
      "outputs": []
    },
    {
      "cell_type": "code",
      "metadata": {
        "id": "Ji5jVmbej-LM",
        "colab_type": "code",
        "colab": {}
      },
      "source": [
        "# loaded_model_low_accuracy.layers[5]"
      ],
      "execution_count": 0,
      "outputs": []
    },
    {
      "cell_type": "code",
      "metadata": {
        "id": "0w2grlRlKQhJ",
        "colab_type": "code",
        "colab": {}
      },
      "source": [
        ""
      ],
      "execution_count": 0,
      "outputs": []
    },
    {
      "cell_type": "code",
      "metadata": {
        "id": "7EozUm-dSIx2",
        "colab_type": "code",
        "colab": {}
      },
      "source": [
        "# modelFilt.summary()"
      ],
      "execution_count": 0,
      "outputs": []
    },
    {
      "cell_type": "markdown",
      "metadata": {
        "id": "wRWAVstvGhht",
        "colab_type": "text"
      },
      "source": [
        "#### # now replace weights in conv2d layer for filters correspondng to lowest 10 DI scores"
      ]
    },
    {
      "cell_type": "code",
      "metadata": {
        "id": "jcnUQrPtGay_",
        "colab_type": "code",
        "colab": {}
      },
      "source": [
        ""
      ],
      "execution_count": 0,
      "outputs": []
    },
    {
      "cell_type": "code",
      "metadata": {
        "id": "fev8cENxbr-P",
        "colab_type": "code",
        "colab": {}
      },
      "source": [
        "file_save_name = 'weights_FCtop_k_model2.hdf5'\n",
        "mcp_save = ModelCheckpoint(file_save_name, save_best_only=True, monitor='val_acc', mode='auto')"
      ],
      "execution_count": 0,
      "outputs": []
    },
    {
      "cell_type": "code",
      "metadata": {
        "id": "0BTKJa7Zbwtc",
        "colab_type": "code",
        "colab": {}
      },
      "source": [
        "def lr_schedule(epoch):\n",
        "    lrate = 0.0001\n",
        "    if epoch > 75:\n",
        "        lrate = 0.0005\n",
        "    if epoch > 100:\n",
        "        lrate = 0.0003\n",
        "    return lrate"
      ],
      "execution_count": 0,
      "outputs": []
    },
    {
      "cell_type": "code",
      "metadata": {
        "id": "gdiZwWSth97S",
        "colab_type": "code",
        "outputId": "dc4955ea-d0c4-4f31-d7a5-f698d34118f4",
        "colab": {
          "base_uri": "https://localhost:8080/",
          "height": 34
        }
      },
      "source": [
        "copied_low_accuracy_model.evaluate(valid_X, valid_ground, verbose=0)"
      ],
      "execution_count": 96,
      "outputs": [
        {
          "output_type": "execute_result",
          "data": {
            "text/plain": [
              "[0.45576861476898195, 0.8660000001589457]"
            ]
          },
          "metadata": {
            "tags": []
          },
          "execution_count": 96
        }
      ]
    },
    {
      "cell_type": "code",
      "metadata": {
        "id": "sIOMXQsjdSNX",
        "colab_type": "code",
        "outputId": "40073ca0-6447-4964-8395-184af9e5368f",
        "colab": {
          "base_uri": "https://localhost:8080/",
          "height": 1421
        }
      },
      "source": [
        "copied_low_accuracy_model.fit_generator(datagen.flow(train_X, train_ground, batch_size=batch_size),\\\n",
        "                    steps_per_epoch=train_X.shape[0] // batch_size,epochs=40,\\\n",
        "                    verbose=1,validation_data=(valid_X,valid_ground),\n",
        "                    shuffle = True,callbacks=[mcp_save,LearningRateScheduler(lr_schedule)])"
      ],
      "execution_count": 97,
      "outputs": [
        {
          "output_type": "stream",
          "text": [
            "Epoch 1/40\n",
            "187/187 [==============================] - 12s 66ms/step - loss: 0.3144 - acc: 0.9260 - val_loss: 0.4868 - val_acc: 0.8683\n",
            "Epoch 2/40\n",
            "187/187 [==============================] - 10s 51ms/step - loss: 0.2774 - acc: 0.9428 - val_loss: 0.4788 - val_acc: 0.8780\n",
            "Epoch 3/40\n",
            "187/187 [==============================] - 9s 49ms/step - loss: 0.2671 - acc: 0.9452 - val_loss: 0.4764 - val_acc: 0.8793\n",
            "Epoch 4/40\n",
            "187/187 [==============================] - 9s 50ms/step - loss: 0.2607 - acc: 0.9471 - val_loss: 0.4681 - val_acc: 0.8803\n",
            "Epoch 5/40\n",
            "187/187 [==============================] - 9s 50ms/step - loss: 0.2586 - acc: 0.9477 - val_loss: 0.4827 - val_acc: 0.8853\n",
            "Epoch 6/40\n",
            "187/187 [==============================] - 9s 51ms/step - loss: 0.2482 - acc: 0.9503 - val_loss: 0.5099 - val_acc: 0.8857\n",
            "Epoch 7/40\n",
            "187/187 [==============================] - 9s 49ms/step - loss: 0.2501 - acc: 0.9498 - val_loss: 0.5122 - val_acc: 0.8773\n",
            "Epoch 8/40\n",
            "187/187 [==============================] - 9s 49ms/step - loss: 0.2301 - acc: 0.9571 - val_loss: 0.5030 - val_acc: 0.8813\n",
            "Epoch 9/40\n",
            "187/187 [==============================] - 9s 49ms/step - loss: 0.2337 - acc: 0.9578 - val_loss: 0.5300 - val_acc: 0.8870\n",
            "Epoch 10/40\n",
            "187/187 [==============================] - 9s 49ms/step - loss: 0.2290 - acc: 0.9588 - val_loss: 0.5049 - val_acc: 0.8857\n",
            "Epoch 11/40\n",
            "187/187 [==============================] - 9s 49ms/step - loss: 0.2297 - acc: 0.9571 - val_loss: 0.5098 - val_acc: 0.8877\n",
            "Epoch 12/40\n",
            "187/187 [==============================] - 9s 49ms/step - loss: 0.2209 - acc: 0.9615 - val_loss: 0.5038 - val_acc: 0.8867\n",
            "Epoch 13/40\n",
            "187/187 [==============================] - 9s 50ms/step - loss: 0.2203 - acc: 0.9588 - val_loss: 0.5602 - val_acc: 0.8823\n",
            "Epoch 14/40\n",
            "187/187 [==============================] - 9s 49ms/step - loss: 0.2175 - acc: 0.9616 - val_loss: 0.5596 - val_acc: 0.8857\n",
            "Epoch 15/40\n",
            "187/187 [==============================] - 9s 49ms/step - loss: 0.2129 - acc: 0.9639 - val_loss: 0.5185 - val_acc: 0.8887\n",
            "Epoch 16/40\n",
            "187/187 [==============================] - 9s 49ms/step - loss: 0.2107 - acc: 0.9625 - val_loss: 0.5053 - val_acc: 0.8860\n",
            "Epoch 17/40\n",
            "187/187 [==============================] - 9s 50ms/step - loss: 0.2157 - acc: 0.9632 - val_loss: 0.5258 - val_acc: 0.8853\n",
            "Epoch 18/40\n",
            "187/187 [==============================] - 9s 49ms/step - loss: 0.2080 - acc: 0.9639 - val_loss: 0.5293 - val_acc: 0.8840\n",
            "Epoch 19/40\n",
            "187/187 [==============================] - 9s 49ms/step - loss: 0.2152 - acc: 0.9637 - val_loss: 0.5649 - val_acc: 0.8843\n",
            "Epoch 20/40\n",
            "187/187 [==============================] - 9s 49ms/step - loss: 0.1983 - acc: 0.9675 - val_loss: 0.5295 - val_acc: 0.8823\n",
            "Epoch 21/40\n",
            "187/187 [==============================] - 9s 50ms/step - loss: 0.2002 - acc: 0.9662 - val_loss: 0.5459 - val_acc: 0.8873\n",
            "Epoch 22/40\n",
            "187/187 [==============================] - 9s 50ms/step - loss: 0.1972 - acc: 0.9684 - val_loss: 0.5747 - val_acc: 0.8803\n",
            "Epoch 23/40\n",
            "187/187 [==============================] - 9s 49ms/step - loss: 0.1969 - acc: 0.9657 - val_loss: 0.5860 - val_acc: 0.8867\n",
            "Epoch 24/40\n",
            "187/187 [==============================] - 9s 49ms/step - loss: 0.1977 - acc: 0.9680 - val_loss: 0.5719 - val_acc: 0.8893\n",
            "Epoch 25/40\n",
            "187/187 [==============================] - 9s 49ms/step - loss: 0.1933 - acc: 0.9701 - val_loss: 0.5977 - val_acc: 0.8890\n",
            "Epoch 26/40\n",
            "187/187 [==============================] - 9s 49ms/step - loss: 0.1964 - acc: 0.9668 - val_loss: 0.5822 - val_acc: 0.8930\n",
            "Epoch 27/40\n",
            "187/187 [==============================] - 9s 49ms/step - loss: 0.1870 - acc: 0.9710 - val_loss: 0.5738 - val_acc: 0.8870\n",
            "Epoch 28/40\n",
            "187/187 [==============================] - 9s 49ms/step - loss: 0.1878 - acc: 0.9708 - val_loss: 0.5286 - val_acc: 0.8880\n",
            "Epoch 29/40\n",
            "187/187 [==============================] - 9s 49ms/step - loss: 0.1842 - acc: 0.9731 - val_loss: 0.5710 - val_acc: 0.8917\n",
            "Epoch 30/40\n",
            "187/187 [==============================] - 9s 50ms/step - loss: 0.1823 - acc: 0.9719 - val_loss: 0.6097 - val_acc: 0.8820\n",
            "Epoch 31/40\n",
            "187/187 [==============================] - 9s 49ms/step - loss: 0.1801 - acc: 0.9743 - val_loss: 0.6115 - val_acc: 0.8827\n",
            "Epoch 32/40\n",
            "187/187 [==============================] - 9s 49ms/step - loss: 0.1831 - acc: 0.9734 - val_loss: 0.5304 - val_acc: 0.8847\n",
            "Epoch 33/40\n",
            "187/187 [==============================] - 9s 49ms/step - loss: 0.1792 - acc: 0.9725 - val_loss: 0.5614 - val_acc: 0.8873\n",
            "Epoch 34/40\n",
            "187/187 [==============================] - 9s 49ms/step - loss: 0.1795 - acc: 0.9744 - val_loss: 0.6210 - val_acc: 0.8923\n",
            "Epoch 35/40\n",
            "187/187 [==============================] - 9s 49ms/step - loss: 0.1758 - acc: 0.9783 - val_loss: 0.6129 - val_acc: 0.8833\n",
            "Epoch 36/40\n",
            "187/187 [==============================] - 9s 49ms/step - loss: 0.1766 - acc: 0.9739 - val_loss: 0.5814 - val_acc: 0.8863\n",
            "Epoch 37/40\n",
            "187/187 [==============================] - 9s 49ms/step - loss: 0.1626 - acc: 0.9776 - val_loss: 0.6306 - val_acc: 0.8880\n",
            "Epoch 38/40\n",
            "187/187 [==============================] - 9s 49ms/step - loss: 0.1744 - acc: 0.9756 - val_loss: 0.5997 - val_acc: 0.8900\n",
            "Epoch 39/40\n",
            "187/187 [==============================] - 10s 51ms/step - loss: 0.1698 - acc: 0.9765 - val_loss: 0.6291 - val_acc: 0.8943\n",
            "Epoch 40/40\n",
            "187/187 [==============================] - 9s 50ms/step - loss: 0.1694 - acc: 0.9773 - val_loss: 0.6261 - val_acc: 0.8897\n"
          ],
          "name": "stdout"
        },
        {
          "output_type": "execute_result",
          "data": {
            "text/plain": [
              "<keras.callbacks.History at 0x7f7f3d3fe7b8>"
            ]
          },
          "metadata": {
            "tags": []
          },
          "execution_count": 97
        }
      ]
    },
    {
      "cell_type": "code",
      "metadata": {
        "id": "MAnK7D_Mm_dz",
        "colab_type": "code",
        "colab": {}
      },
      "source": [
        "copied_low_accuracy_model.load_weights(file_save_name)"
      ],
      "execution_count": 0,
      "outputs": []
    },
    {
      "cell_type": "code",
      "metadata": {
        "id": "-8ZXIw1Um_ao",
        "colab_type": "code",
        "colab": {}
      },
      "source": [
        "# copied_low_accuracy_model.save('final1_'+str(K)+'_'+file_save_name)\n",
        "# copied_low_accuracy_model.save('final1_Transfer1')\n",
        "copied_low_accuracy_model.save('final1_FC_transfer')\n"
      ],
      "execution_count": 0,
      "outputs": []
    },
    {
      "cell_type": "code",
      "metadata": {
        "id": "bZsEELS6m_WM",
        "colab_type": "code",
        "outputId": "198b729a-c6a1-43c6-b5ba-07a62cf38fa1",
        "colab": {
          "base_uri": "https://localhost:8080/",
          "height": 545
        }
      },
      "source": [
        "accuracy = copied_low_accuracy_model.history.history['acc']\n",
        "val_accuracy = copied_low_accuracy_model.history.history['val_acc']\n",
        "loss = copied_low_accuracy_model.history.history['loss']\n",
        "val_loss = copied_low_accuracy_model.history.history['val_loss']\n",
        "epochs = range(len(accuracy))\n",
        "plt.plot(epochs, accuracy, 'b', label='Training accuracy')\n",
        "plt.plot(epochs, val_accuracy, 'r', label='Validation accuracy')\n",
        "plt.title('Training and validation accuracy')\n",
        "plt.legend()\n",
        "plt.figure()\n",
        "plt.plot(epochs, loss, 'b', label='Training loss')\n",
        "plt.plot(epochs, val_loss, 'r', label='Validation loss')\n",
        "plt.title('Training and validation loss')\n",
        "plt.legend()\n",
        "plt.show()"
      ],
      "execution_count": 100,
      "outputs": [
        {
          "output_type": "display_data",
          "data": {
            "image/png": "[encoded data removed]",
            "text/plain": [
              "<Figure size 432x288 with 1 Axes>"
            ]
          },
          "metadata": {
            "tags": []
          }
        },
        {
          "output_type": "display_data",
          "data": {
            "image/png": "[encoded data removed]",
            "text/plain": [
              "<Figure size 432x288 with 1 Axes>"
            ]
          },
          "metadata": {
            "tags": []
          }
        }
      ]
    },
    {
      "cell_type": "code",
      "metadata": {
        "id": "5S9iJ-HGnRFW",
        "colab_type": "code",
        "outputId": "3531ada0-4208-4fef-f4ac-f7eca294c7f4",
        "colab": {
          "base_uri": "https://localhost:8080/",
          "height": 34
        }
      },
      "source": [
        "copied_low_accuracy_model.evaluate(valid_X, valid_ground, verbose=0)"
      ],
      "execution_count": 101,
      "outputs": [
        {
          "output_type": "execute_result",
          "data": {
            "text/plain": [
              "[0.6290960088570913, 0.8943333331743876]"
            ]
          },
          "metadata": {
            "tags": []
          },
          "execution_count": 101
        }
      ]
    },
    {
      "cell_type": "code",
      "metadata": {
        "id": "g8o16S6NPmfn",
        "colab_type": "code",
        "outputId": "737c6439-3461-4850-e15b-ef88e6e9973a",
        "colab": {
          "base_uri": "https://localhost:8080/",
          "height": 52
        }
      },
      "source": [
        "#testing\n",
        "test_eval = copied_low_accuracy_model.evaluate(test_three_data, test_three_label_one_hot, verbose=0)\n",
        "print('Test loss:', test_eval[0])\n",
        "print('Test accuracy:', test_eval[1])\n",
        "\n"
      ],
      "execution_count": 102,
      "outputs": [
        {
          "output_type": "stream",
          "text": [
            "Test loss: 0.5857995805740357\n",
            "Test accuracy: 0.9013333334922791\n"
          ],
          "name": "stdout"
        }
      ]
    },
    {
      "cell_type": "code",
      "metadata": {
        "id": "z06QupNsYeLZ",
        "colab_type": "code",
        "outputId": "8c6fb2d1-d00f-4de4-e180-ca3f6e16e956",
        "colab": {
          "base_uri": "https://localhost:8080/",
          "height": 34
        }
      },
      "source": [
        "layer_names"
      ],
      "execution_count": 0,
      "outputs": [
        {
          "output_type": "execute_result",
          "data": {
            "text/plain": [
              "['conv8_1']"
            ]
          },
          "metadata": {
            "tags": []
          },
          "execution_count": 90
        }
      ]
    },
    {
      "cell_type": "code",
      "metadata": {
        "id": "gRuSLttWnRCR",
        "colab_type": "code",
        "outputId": "3f087696-283d-49af-96c5-9416e5a7726d",
        "colab": {
          "base_uri": "https://localhost:8080/",
          "height": 368
        }
      },
      "source": [
        "# now get DI score of a layer from high accuracy and low accuracy model\n",
        "#layer_name = layer_to_replace\n",
        "discores_low_acc_modified_model = createCNNLayerDIScorePlot(modelFilt, layer_to_replace)\n",
        "\n",
        "plt.ylim([0,1.0])"
      ],
      "execution_count": 0,
      "outputs": [
        {
          "output_type": "stream",
          "text": [
            "Mean of DI SCore:  0.5702386197235612\n",
            "STD of DI Score:  0.059415098660331\n",
            "MAX of DI Score:  0.6984114818796965\n"
          ],
          "name": "stdout"
        },
        {
          "output_type": "execute_result",
          "data": {
            "text/plain": [
              "(0, 1.0)"
            ]
          },
          "metadata": {
            "tags": []
          },
          "execution_count": 70
        },
        {
          "output_type": "display_data",
          "data": {
            "image/png": "[encoded data removed]",
            "text/plain": [
              "<Figure size 432x288 with 1 Axes>"
            ]
          },
          "metadata": {
            "tags": []
          }
        }
      ]
    },
    {
      "cell_type": "code",
      "metadata": {
        "id": "MI4AzYZDnQ_X",
        "colab_type": "code",
        "outputId": "bf40213b-79ab-434c-9780-1b9e161b182b",
        "colab": {
          "base_uri": "https://localhost:8080/",
          "height": 368
        }
      },
      "source": [
        "# now get DI score of a layer from high accuracy and low accuracy model\n",
        "#layer_name = 'lowAccuracyModelConv2_1'\n",
        "discores_low_acc_modified_model = createCNNLayerDIScorePlot(modelFilt, layer_to_replace)\n",
        "\n",
        "plt.ylim([0,1.0])"
      ],
      "execution_count": 0,
      "outputs": [
        {
          "output_type": "stream",
          "text": [
            "Mean of DI SCore:  0.5441455605104493\n",
            "STD of DI Score:  0.07125697376575997\n",
            "MAX of DI Score:  0.6857804932152856\n"
          ],
          "name": "stdout"
        },
        {
          "output_type": "execute_result",
          "data": {
            "text/plain": [
              "(0, 1.0)"
            ]
          },
          "metadata": {
            "tags": []
          },
          "execution_count": 76
        },
        {
          "output_type": "display_data",
          "data": {
            "image/png": "[encoded data removed]",
            "text/plain": [
              "<Figure size 432x288 with 1 Axes>"
            ]
          },
          "metadata": {
            "tags": []
          }
        }
      ]
    },
    {
      "cell_type": "code",
      "metadata": {
        "id": "d9AxL2k2cPvs",
        "colab_type": "code",
        "outputId": "05b2cbc6-ec55-4ffc-f3b7-47a0d819c614",
        "colab": {
          "base_uri": "https://localhost:8080/",
          "height": 350
        }
      },
      "source": [
        "# now get DI score of a layer from high accuracy and low accuracy model\n",
        "layer_name = 'conv2d_1'\n",
        "discores_low_acc_modified_model = createCNNLayerDIScorePlot(modelFilt, layer_name)"
      ],
      "execution_count": 0,
      "outputs": [
        {
          "output_type": "stream",
          "text": [
            "Mean of DI SCore:  0.5324752079826454\n",
            "STD of DI Score:  0.08518245611608953\n",
            "MAX of DI Score:  0.6952950607026254\n"
          ],
          "name": "stdout"
        },
        {
          "output_type": "display_data",
          "data": {
            "image/png": "[encoded data removed]",
            "text/plain": [
              "<Figure size 432x288 with 1 Axes>"
            ]
          },
          "metadata": {
            "tags": []
          }
        }
      ]
    },
    {
      "cell_type": "code",
      "metadata": {
        "id": "dmomNWqXclu8",
        "colab_type": "code",
        "outputId": "3a234d4d-d4e1-4831-c7a8-59acc185d0d3",
        "colab": {
          "base_uri": "https://localhost:8080/",
          "height": 350
        }
      },
      "source": [
        "# now get DI score of a layer from high accuracy and low accuracy model\n",
        "layer_name = 'conv2d_2'\n",
        "discores_low_acc_modified_model = createCNNLayerDIScorePlot(modelFilt, layer_name)"
      ],
      "execution_count": 0,
      "outputs": [
        {
          "output_type": "stream",
          "text": [
            "Mean of DI SCore:  0.5472756918767483\n",
            "STD of DI Score:  0.07193005751902407\n",
            "MAX of DI Score:  0.7008227385646286\n"
          ],
          "name": "stdout"
        },
        {
          "output_type": "display_data",
          "data": {
            "image/png": "[encoded data removed]",
            "text/plain": [
              "<Figure size 432x288 with 1 Axes>"
            ]
          },
          "metadata": {
            "tags": []
          }
        }
      ]
    },
    {
      "cell_type": "code",
      "metadata": {
        "id": "1iC11tO-c1ME",
        "colab_type": "code",
        "outputId": "d5e2ca0b-926e-4343-8a92-b002380a5ba9",
        "colab": {
          "base_uri": "https://localhost:8080/",
          "height": 350
        }
      },
      "source": [
        "# now get DI score of a layer from high accuracy and low accuracy model\n",
        "layer_name = 'conv2d_3'\n",
        "discores_low_acc_modified_model = createCNNLayerDIScorePlot(modelFilt, layer_name)"
      ],
      "execution_count": 0,
      "outputs": [
        {
          "output_type": "stream",
          "text": [
            "Mean of DI SCore:  0.4283726311323016\n",
            "STD of DI Score:  0.11606436878312644\n",
            "MAX of DI Score:  0.7211856134234298\n"
          ],
          "name": "stdout"
        },
        {
          "output_type": "display_data",
          "data": {
            "image/png": "[encoded data removed]",
            "text/plain": [
              "<Figure size 432x288 with 1 Axes>"
            ]
          },
          "metadata": {
            "tags": []
          }
        }
      ]
    },
    {
      "cell_type": "code",
      "metadata": {
        "id": "q3SsO1CXc09Q",
        "colab_type": "code",
        "outputId": "80ab8bbd-d50a-4858-f8aa-e0e29cf392d3",
        "colab": {
          "base_uri": "https://localhost:8080/",
          "height": 350
        }
      },
      "source": [
        "# now get DI score of a layer from high accuracy and low accuracy model\n",
        "layer_name = 'conv2d_4'\n",
        "discores_low_acc_modified_model = createCNNLayerDIScorePlot(modelFilt, layer_name)"
      ],
      "execution_count": 0,
      "outputs": [
        {
          "output_type": "stream",
          "text": [
            "Mean of DI SCore:  0.4676357866426307\n",
            "STD of DI Score:  0.129639936407154\n",
            "MAX of DI Score:  0.9082884744169848\n"
          ],
          "name": "stdout"
        },
        {
          "output_type": "display_data",
          "data": {
            "image/png": "[encoded data removed]",
            "text/plain": [
              "<Figure size 432x288 with 1 Axes>"
            ]
          },
          "metadata": {
            "tags": []
          }
        }
      ]
    },
    {
      "cell_type": "code",
      "metadata": {
        "id": "Unii3onHcpx6",
        "colab_type": "code",
        "colab": {}
      },
      "source": [
        ""
      ],
      "execution_count": 0,
      "outputs": []
    },
    {
      "cell_type": "code",
      "metadata": {
        "id": "r2XDOWtOP2p7",
        "colab_type": "code",
        "outputId": "5ba31b93-776d-4b0a-87ca-a773a09b26d7",
        "colab": {
          "base_uri": "https://localhost:8080/",
          "height": 917
        }
      },
      "source": [
        "modelFilt.summary()"
      ],
      "execution_count": 0,
      "outputs": [
        {
          "output_type": "stream",
          "text": [
            "_________________________________________________________________\n",
            "Layer (type)                 Output Shape              Param #   \n",
            "=================================================================\n",
            "input_1 (InputLayer)         (None, 32, 32, 3)         0         \n",
            "_________________________________________________________________\n",
            "lowAccuracyModelConv1_1 (Con (None, 32, 32, 32)        896       \n",
            "_________________________________________________________________\n",
            "lowAccuracyModelBN1 (BatchNo (None, 32, 32, 32)        128       \n",
            "_________________________________________________________________\n",
            "lowAccuracyModelConv2_1 (Con (None, 32, 32, 32)        9248      \n",
            "_________________________________________________________________\n",
            "batch_normalization_1 (Batch (None, 32, 32, 32)        128       \n",
            "_________________________________________________________________\n",
            "max_pooling2d_1 (MaxPooling2 (None, 16, 16, 32)        0         \n",
            "_________________________________________________________________\n",
            "dropout_1 (Dropout)          (None, 16, 16, 32)        0         \n",
            "_________________________________________________________________\n",
            "conv2d_1 (Conv2D)            (None, 16, 16, 64)        18496     \n",
            "_________________________________________________________________\n",
            "batch_normalization_2 (Batch (None, 16, 16, 64)        256       \n",
            "_________________________________________________________________\n",
            "conv2d_2 (Conv2D)            (None, 16, 16, 64)        36928     \n",
            "_________________________________________________________________\n",
            "batch_normalization_3 (Batch (None, 16, 16, 64)        256       \n",
            "_________________________________________________________________\n",
            "max_pooling2d_2 (MaxPooling2 (None, 8, 8, 64)          0         \n",
            "_________________________________________________________________\n",
            "dropout_2 (Dropout)          (None, 8, 8, 64)          0         \n",
            "_________________________________________________________________\n",
            "conv2d_3 (Conv2D)            (None, 8, 8, 128)         73856     \n",
            "_________________________________________________________________\n",
            "batch_normalization_4 (Batch (None, 8, 8, 128)         512       \n",
            "_________________________________________________________________\n",
            "conv2d_4 (Conv2D)            (None, 8, 8, 128)         147584    \n",
            "_________________________________________________________________\n",
            "batch_normalization_5 (Batch (None, 8, 8, 128)         512       \n",
            "_________________________________________________________________\n",
            "max_pooling2d_3 (MaxPooling2 (None, 4, 4, 128)         0         \n",
            "_________________________________________________________________\n",
            "dropout_3 (Dropout)          (None, 4, 4, 128)         0         \n",
            "_________________________________________________________________\n",
            "flatten_1 (Flatten)          (None, 2048)              0         \n",
            "_________________________________________________________________\n",
            "dense_1 (Dense)              (None, 3)                 6147      \n",
            "=================================================================\n",
            "Total params: 294,947\n",
            "Trainable params: 294,051\n",
            "Non-trainable params: 896\n",
            "_________________________________________________________________\n"
          ],
          "name": "stdout"
        }
      ]
    },
    {
      "cell_type": "markdown",
      "metadata": {
        "id": "dxnMxP6cTGLO",
        "colab_type": "text"
      },
      "source": [
        " "
      ]
    }
  ]
}