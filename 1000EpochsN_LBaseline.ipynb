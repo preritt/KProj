{
  "nbformat": 4,
  "nbformat_minor": 0,
  "metadata": {
    "colab": {
      "name": "1000EpochsN_LBaseline.ipynb",
      "version": "0.3.2",
      "provenance": [],
      "collapsed_sections": [],
      "toc_visible": true,
      "include_colab_link": true
    },
    "kernelspec": {
      "name": "python3",
      "display_name": "Python 3"
    },
    "accelerator": "GPU"
  },
  "cells": [
    {
      "cell_type": "markdown",
      "metadata": {
        "id": "view-in-github",
        "colab_type": "text"
      },
      "source": [
        "<a href=\"https://colab.research.google.com/github/preritt/KProj/blob/master/1000EpochsN_LBaseline.ipynb\" target=\"_parent\"><img src=\"https://colab.research.google.com/assets/colab-badge.svg\" alt=\"Open In Colab\"/></a>"
      ]
    },
    {
      "cell_type": "code",
      "metadata": {
        "id": "FgwWyMb6iCkO",
        "colab_type": "code",
        "colab": {
          "base_uri": "https://localhost:8080/",
          "height": 34
        },
        "outputId": "5e10ed7a-f0b6-4a98-eb5d-ee845ce2d71e"
      },
      "source": [
        "import keras\n",
        "from matplotlib import pyplot as plt\n",
        "import numpy as np\n",
        "import gzip\n",
        "%matplotlib inline\n",
        "from keras.models import Model\n",
        "from keras.optimizers import RMSprop\n",
        "from keras.layers import Input,Dense,Flatten,Dropout,merge,Reshape,Conv2D,MaxPooling2D,UpSampling2D,Conv2DTranspose\n",
        "from keras.layers.normalization import BatchNormalization\n",
        "from keras.models import Model,Sequential\n",
        "from keras.callbacks import ModelCheckpoint\n",
        "from keras.optimizers import Adadelta, RMSprop,SGD,Adam\n",
        "from keras import regularizers\n",
        "from keras import backend as K\n",
        "from keras.utils import to_categorical\n",
        "from keras.datasets import cifar10\n",
        "from sklearn import preprocessing\n",
        "from keras import losses"
      ],
      "execution_count": 1,
      "outputs": [
        {
          "output_type": "stream",
          "text": [
            "Using TensorFlow backend.\n"
          ],
          "name": "stderr"
        }
      ]
    },
    {
      "cell_type": "code",
      "metadata": {
        "id": "Mqm8mJJu0AU4",
        "colab_type": "code",
        "colab": {}
      },
      "source": [
        ""
      ],
      "execution_count": 0,
      "outputs": []
    },
    {
      "cell_type": "code",
      "metadata": {
        "id": "txdR9fEabt2P",
        "colab_type": "code",
        "colab": {}
      },
      "source": [
        "\n",
        "from keras.models import model_from_json"
      ],
      "execution_count": 0,
      "outputs": []
    },
    {
      "cell_type": "code",
      "metadata": {
        "id": "PYdWJtFsiF1a",
        "colab_type": "code",
        "colab": {}
      },
      "source": [
        "import keras\n",
        "from keras.models import Sequential\n",
        "from keras.utils import np_utils\n",
        "from keras.preprocessing.image import ImageDataGenerator\n",
        "from keras.layers import Dense, Activation, Flatten, Dropout, BatchNormalization\n",
        "from keras.layers import Conv2D, MaxPooling2D\n",
        "from keras.datasets import cifar10\n",
        "from keras import regularizers\n",
        "from keras.callbacks import LearningRateScheduler\n",
        "import numpy as np\n",
        "from sklearn.metrics import confusion_matrix\n",
        "from sklearn.model_selection import train_test_split\n",
        "# from sklearn.utils import shuffle"
      ],
      "execution_count": 0,
      "outputs": []
    },
    {
      "cell_type": "code",
      "metadata": {
        "id": "lJ9XYVEOAprv",
        "colab_type": "code",
        "colab": {}
      },
      "source": [
        "keras.backend.clear_session()"
      ],
      "execution_count": 0,
      "outputs": []
    },
    {
      "cell_type": "code",
      "metadata": {
        "id": "9m3ehGh2iIBA",
        "colab_type": "code",
        "colab": {}
      },
      "source": [
        "from matplotlib import pyplot\n",
        "# from scipy.misc import toimage\n",
        "from keras.datasets import cifar10\n",
        "# def show_imgs(X):\n",
        "#     pyplot.figure(1)\n",
        "#     k = 0\n",
        "#     for i in range(0,4):\n",
        "#         for j in range(0,4):\n",
        "#             pyplot.subplot2grid((4,4),(i,j))\n",
        "#             pyplot.imshow(toimage(X[k]))\n",
        "#             k = k+1\n",
        "#     # show the plot\n",
        "#     pyplot.show()\n",
        " \n",
        "(x_train, y_train), (x_test, y_test) = cifar10.load_data()\n",
        "# show_imgs(x_test[:16])\n"
      ],
      "execution_count": 0,
      "outputs": []
    },
    {
      "cell_type": "code",
      "metadata": {
        "id": "hVAjMdeSrloa",
        "colab_type": "code",
        "outputId": "19bd9c51-c089-4514-d191-5e431d8ea119",
        "colab": {
          "base_uri": "https://localhost:8080/",
          "height": 34
        }
      },
      "source": [
        "x_test.shape"
      ],
      "execution_count": 6,
      "outputs": [
        {
          "output_type": "execute_result",
          "data": {
            "text/plain": [
              "(10000, 32, 32, 3)"
            ]
          },
          "metadata": {
            "tags": []
          },
          "execution_count": 6
        }
      ]
    },
    {
      "cell_type": "code",
      "metadata": {
        "id": "ngfK-2Qewhtq",
        "colab_type": "code",
        "colab": {}
      },
      "source": [
        "# This function takes the entire traaining data and test data and corresponding categorical label and returns the corresponding data in class indices\n",
        "def getThreeClassesTrainTest(class_indices,train_data,train_labels,test_data,test_labels):\n",
        "  all_train_data = []\n",
        "  all_train_data_label = []\n",
        "  all_test_data = []\n",
        "  all_test_data_label = []\n",
        "  for ind in class_indices:\n",
        "    this_class_location_train =  np.where(train_labels==ind)[0] # train_labels[train_labels == ind]\n",
        "    this_class_data_train = train_data[this_class_location_train,:]\n",
        "    this_class_data_train_label = train_labels[this_class_location_train]\n",
        "    print(this_class_location_train)\n",
        "    \n",
        "    this_class_location_test = np.where(test_labels==ind)[0] #test_labels[test_labels == ind]\n",
        "    this_class_data_test = test_data[this_class_location_test,:]\n",
        "    this_class_data_test_label = test_labels[this_class_location_test]\n",
        "    \n",
        "    all_train_data.append(this_class_data_train)\n",
        "    all_test_data.append(this_class_data_test)\n",
        "    all_train_data_label.append(this_class_data_train_label)\n",
        "    all_test_data_label.append(this_class_data_test_label)\n",
        "    \n",
        "  train_data_three = all_train_data[0]\n",
        "  train_label_three = all_train_data_label[0]\n",
        "  test_data_three = all_test_data[0]\n",
        "  test_label_three = all_test_data_label[0]\n",
        "  \n",
        "  for j in range(1,len(class_indices)):\n",
        "    train_data_three = np.concatenate((train_data_three,all_train_data[j]))\n",
        "    train_label_three = np.concatenate((train_label_three,all_train_data_label[j]))\n",
        "\n",
        "    test_data_three = np.concatenate((test_data_three,all_test_data[j]))\n",
        "    test_label_three = np.concatenate((test_label_three,all_test_data_label[j]))\n",
        "  print(train_label_three.shape)\n",
        "  train_label_three = np.reshape(train_label_three,newshape=(-1,))\n",
        "  test_label_three = np.reshape(test_label_three,newshape=(-1,))\n",
        "  return train_data_three, train_label_three, test_data_three,test_label_three"
      ],
      "execution_count": 0,
      "outputs": []
    },
    {
      "cell_type": "code",
      "metadata": {
        "id": "3ZJV35fkrj3O",
        "colab_type": "code",
        "colab": {}
      },
      "source": [
        "         "
      ],
      "execution_count": 0,
      "outputs": []
    },
    {
      "cell_type": "markdown",
      "metadata": {
        "id": "2ekn-CkLikYJ",
        "colab_type": "text"
      },
      "source": [
        "### Get only three classes of data and train the model on it"
      ]
    },
    {
      "cell_type": "code",
      "metadata": {
        "id": "VPYv1L-uigzL",
        "colab_type": "code",
        "colab": {}
      },
      "source": [
        "# train_three_data,train_three_label,test_three_data,test_three_label = getThreeClassesTrainTest([ 0,3,5 ],x_train,y_train,x_test,y_test)"
      ],
      "execution_count": 0,
      "outputs": []
    },
    {
      "cell_type": "code",
      "metadata": {
        "id": "xvEXRydUpFl8",
        "colab_type": "code",
        "colab": {}
      },
      "source": [
        "# np.save('train_three_data_LoAcc.npy',train_three_data)\n",
        "# np.save('train_three_label_LoAcc.npy',train_three_label)\n",
        "# np.save('test_three_data_LoAcc.npy',test_three_data)\n",
        "# np.save('test_three_label_LoAcc.npy',test_three_label)\n"
      ],
      "execution_count": 0,
      "outputs": []
    },
    {
      "cell_type": "code",
      "metadata": {
        "id": "yhHqyDf4AsIK",
        "colab_type": "code",
        "colab": {}
      },
      "source": [
        "# train_three_data,train_three_label,test_three_data,test_three_label  =  (np.load('train_three_data_LoAcc.npy'),\n",
        "#                                                                          np.load('train_three_label_LoAcc.npy'),\n",
        "#                                                                          np.load('test_three_data_LoAcc.npy'),\n",
        "#                                                                          np.load('test_three_label_LoAcc.npy'))"
      ],
      "execution_count": 0,
      "outputs": []
    },
    {
      "cell_type": "code",
      "metadata": {
        "id": "5jkUltuOKOEu",
        "colab_type": "code",
        "colab": {}
      },
      "source": [
        "# np.save('train_three_data_LoAcc_V2.npy',train_three_data)\n",
        "# np.save('train_three_label_LoAcc_V2.npy',train_three_label)\n",
        "# np.save('test_three_data_LoAcc_V2.npy',test_three_data)\n",
        "# np.save('test_three_label_LoAcc_V2.npy',test_three_label)"
      ],
      "execution_count": 0,
      "outputs": []
    },
    {
      "cell_type": "code",
      "metadata": {
        "id": "nQzrd4btKD_A",
        "colab_type": "code",
        "colab": {}
      },
      "source": [
        "# train_three_data,train_three_label,test_three_data,test_three_label = (np.load('train_three_data_LoAcc.npy'),\n",
        "#                                                                       np.load('train_three_label_LoAcc.npy'),\n",
        "#                                                                       np.load('test_three_data_LoAcc.npy'),\n",
        "#                                                                       np.load('test_three_label_LoAcc.npy'))"
      ],
      "execution_count": 0,
      "outputs": []
    },
    {
      "cell_type": "code",
      "metadata": {
        "id": "18b02rguLObi",
        "colab_type": "code",
        "colab": {}
      },
      "source": [
        "train_three_data,train_three_label,test_three_data,test_three_label = (np.load('train_three_data_saved.npy'),\n",
        "                                                                      np.load('train_three_label_saved.npy'),\n",
        "                                                                      np.load('test_three_data_saved.npy'),\n",
        "                                                                      np.load('test_three_label_saved.npy'))"
      ],
      "execution_count": 0,
      "outputs": []
    },
    {
      "cell_type": "code",
      "metadata": {
        "id": "FL0yLly7JVRG",
        "colab_type": "code",
        "outputId": "7a2953ad-a370-4d37-f03b-df74eab4cb92",
        "colab": {
          "base_uri": "https://localhost:8080/",
          "height": 34
        }
      },
      "source": [
        "train_three_label"
      ],
      "execution_count": 13,
      "outputs": [
        {
          "output_type": "execute_result",
          "data": {
            "text/plain": [
              "array([0, 3, 5, ..., 0, 5, 5], dtype=uint8)"
            ]
          },
          "metadata": {
            "tags": []
          },
          "execution_count": 13
        }
      ]
    },
    {
      "cell_type": "code",
      "metadata": {
        "id": "AQDLhL5SJA1H",
        "colab_type": "code",
        "colab": {}
      },
      "source": [
        "# np.load('train_three_label_LoAcc.npy')"
      ],
      "execution_count": 0,
      "outputs": []
    },
    {
      "cell_type": "code",
      "metadata": {
        "id": "9luxTYeM3aZO",
        "colab_type": "code",
        "outputId": "339a9e61-1383-49d9-f711-2ad23e7639f6",
        "colab": {
          "base_uri": "https://localhost:8080/",
          "height": 340
        }
      },
      "source": [
        "plt.hist(train_three_label)"
      ],
      "execution_count": 16,
      "outputs": [
        {
          "output_type": "execute_result",
          "data": {
            "text/plain": [
              "(array([5000.,    0.,    0.,    0.,    0.,    0., 5000.,    0.,    0.,\n",
              "        5000.]),\n",
              " array([0. , 0.5, 1. , 1.5, 2. , 2.5, 3. , 3.5, 4. , 4.5, 5. ]),\n",
              " <a list of 10 Patch objects>)"
            ]
          },
          "metadata": {
            "tags": []
          },
          "execution_count": 16
        },
        {
          "output_type": "display_data",
          "data": {
            "image/png": "[encoded data removed]",
            "text/plain": [
              "<Figure size 432x288 with 1 Axes>"
            ]
          },
          "metadata": {
            "tags": []
          }
        }
      ]
    },
    {
      "cell_type": "code",
      "metadata": {
        "id": "Dni1oqIcyPai",
        "colab_type": "code",
        "outputId": "6d55d531-64ca-46f3-c377-72c054fceff0",
        "colab": {
          "base_uri": "https://localhost:8080/",
          "height": 340
        }
      },
      "source": [
        "# test_three_label.shape\n",
        "plt.hist(test_three_label)"
      ],
      "execution_count": 17,
      "outputs": [
        {
          "output_type": "execute_result",
          "data": {
            "text/plain": [
              "(array([1000.,    0.,    0.,    0.,    0.,    0., 1000.,    0.,    0.,\n",
              "        1000.]),\n",
              " array([0. , 0.5, 1. , 1.5, 2. , 2.5, 3. , 3.5, 4. , 4.5, 5. ]),\n",
              " <a list of 10 Patch objects>)"
            ]
          },
          "metadata": {
            "tags": []
          },
          "execution_count": 17
        },
        {
          "output_type": "display_data",
          "data": {
            "image/png": "[encoded data removed]",
            "text/plain": [
              "<Figure size 432x288 with 1 Axes>"
            ]
          },
          "metadata": {
            "tags": []
          }
        }
      ]
    },
    {
      "cell_type": "code",
      "metadata": {
        "id": "fuM8CeuRsDzW",
        "colab_type": "code",
        "colab": {}
      },
      "source": [
        "# train_three_data, train_three_label = shuffle(train_three_data, train_three_label )\n",
        "# test_three_data,test_three_label = shuffle(test_three_data,test_three_label )"
      ],
      "execution_count": 0,
      "outputs": []
    },
    {
      "cell_type": "code",
      "metadata": {
        "id": "EshrdJ78fp7U",
        "colab_type": "code",
        "colab": {}
      },
      "source": [
        ""
      ],
      "execution_count": 0,
      "outputs": []
    },
    {
      "cell_type": "code",
      "metadata": {
        "id": "mbK7iwsZx8QW",
        "colab_type": "code",
        "colab": {}
      },
      "source": [
        "le = preprocessing.LabelEncoder()\n",
        "le.fit_transform(train_three_label)\n",
        "train_three_label_cat = le.transform(train_three_label)\n",
        "test_three_label_cat = le.transform(test_three_label)"
      ],
      "execution_count": 0,
      "outputs": []
    },
    {
      "cell_type": "code",
      "metadata": {
        "id": "jYJt52bU0ooK",
        "colab_type": "code",
        "outputId": "269cc41d-8b2d-4b3b-a9b3-9f65cb3e1c5f",
        "colab": {
          "base_uri": "https://localhost:8080/",
          "height": 34
        }
      },
      "source": [
        "train_three_label_cat.shape"
      ],
      "execution_count": 20,
      "outputs": [
        {
          "output_type": "execute_result",
          "data": {
            "text/plain": [
              "(15000,)"
            ]
          },
          "metadata": {
            "tags": []
          },
          "execution_count": 20
        }
      ]
    },
    {
      "cell_type": "code",
      "metadata": {
        "id": "r3Ydm3cykUFn",
        "colab_type": "code",
        "colab": {}
      },
      "source": [
        "train_three_label_one_hot = to_categorical(train_three_label_cat)\n",
        "test_three_label_one_hot = to_categorical(test_three_label_cat)\n"
      ],
      "execution_count": 0,
      "outputs": []
    },
    {
      "cell_type": "code",
      "metadata": {
        "id": "_O4_VLoJ6vSF",
        "colab_type": "code",
        "outputId": "e9815d30-45c9-4e1a-b81d-e189a59f38a0",
        "colab": {
          "base_uri": "https://localhost:8080/",
          "height": 34
        }
      },
      "source": [
        "test_three_label_one_hot.shape"
      ],
      "execution_count": 22,
      "outputs": [
        {
          "output_type": "execute_result",
          "data": {
            "text/plain": [
              "(3000, 3)"
            ]
          },
          "metadata": {
            "tags": []
          },
          "execution_count": 22
        }
      ]
    },
    {
      "cell_type": "code",
      "metadata": {
        "id": "UIrWUPz_lGvF",
        "colab_type": "code",
        "colab": {}
      },
      "source": [
        "# split train data and to create validation data\n",
        "train_X,valid_X,train_ground,valid_ground = train_test_split(train_three_data,\n",
        "                                                             train_three_label_one_hot,\n",
        "                                                             test_size=0.2,\n",
        "                                                             random_state=13)"
      ],
      "execution_count": 0,
      "outputs": []
    },
    {
      "cell_type": "code",
      "metadata": {
        "id": "H6AkQaz-kRh0",
        "colab_type": "code",
        "colab": {}
      },
      "source": [
        "num_classes = test_three_label_one_hot.shape[1]"
      ],
      "execution_count": 0,
      "outputs": []
    },
    {
      "cell_type": "code",
      "metadata": {
        "id": "duFF_pGbj2i1",
        "colab_type": "code",
        "colab": {}
      },
      "source": [
        "x, y = 32, 32\n",
        "inChannel = 3\n",
        "input_img = Input(shape = (x, y, inChannel))\n",
        "ep = 10 \n",
        "weight_decay = 1e-4"
      ],
      "execution_count": 0,
      "outputs": []
    },
    {
      "cell_type": "code",
      "metadata": {
        "id": "Pt1coy0mkFrj",
        "colab_type": "code",
        "colab": {}
      },
      "source": [
        "def lr_schedule(epoch):\n",
        "    lrate = 0.0001\n",
        "    if epoch > 300:\n",
        "        lrate = 0.0001/3\n",
        "    if epoch > 600:\n",
        "        lrate = 0.0001/9\n",
        "    return lrate"
      ],
      "execution_count": 0,
      "outputs": []
    },
    {
      "cell_type": "code",
      "metadata": {
        "id": "4IbtMUdhiscG",
        "colab_type": "code",
        "colab": {}
      },
      "source": [
        "# def cifar10Classifier(input_img):\n",
        "  \n",
        "#   conv1 = (Conv2D(32, (3,3), padding='same', kernel_regularizer=regularizers.l2(weight_decay), input_shape=x_train.shape[1:], activation='elu'))(input_img)\n",
        "#   conv1 = BatchNormalization()(conv1)\n",
        "#   conv1 = (Conv2D(32, (3,3), padding='same', activation= 'elu',kernel_regularizer=regularizers.l2(weight_decay)))(conv1)\n",
        "#   conv1 = BatchNormalization()(conv1)\n",
        "#   pool1 = MaxPooling2D(pool_size=(2, 2))(conv1) #14 x 14 x 32\n",
        "#   drop1= Dropout(.2)(pool1)\n",
        "\n",
        "#   conv2 = (Conv2D(64, (3,3), padding='same', kernel_regularizer=regularizers.l2(weight_decay), activation='elu'))(drop1)\n",
        "#   conv2 = BatchNormalization()(conv2)\n",
        "#   conv2 = (Conv2D(64, (3,3), padding='same', activation= 'elu',kernel_regularizer=regularizers.l2(weight_decay)))(conv2)\n",
        "#   conv2 = BatchNormalization()(conv2)\n",
        "#   pool2 = MaxPooling2D(pool_size=(2, 2))(conv2) #14 x 14 x 32\n",
        "#   drop2= Dropout(.3)(pool2)\n",
        "\n",
        "#   conv3 = (Conv2D(128, (3,3), padding='same', kernel_regularizer=regularizers.l2(weight_decay), activation='elu'))(drop2)\n",
        "#   conv3 = BatchNormalization()(conv3)\n",
        "#   conv3 = (Conv2D(128, (3,3), padding='same', activation= 'elu',kernel_regularizer=regularizers.l2(weight_decay)))(conv3)\n",
        "#   conv3 = BatchNormalization()(conv3)\n",
        "#   pool3 = MaxPooling2D(pool_size=(2, 2))(conv3) #14 x 14 x 32\n",
        "#   drop3= Dropout(.4)(pool3)\n",
        "\n",
        "#   flat = Flatten()(drop3)\n",
        "#   out = Dense(num_classes, activation='softmax')(flat)\n",
        "  \n",
        "#   return out"
      ],
      "execution_count": 0,
      "outputs": []
    },
    {
      "cell_type": "code",
      "metadata": {
        "id": "gxJhVRCha0m0",
        "colab_type": "code",
        "outputId": "c6cd5688-eeca-421a-d729-8faa0ad03203",
        "colab": {
          "base_uri": "https://localhost:8080/",
          "height": 34
        }
      },
      "source": [
        "weight_decay"
      ],
      "execution_count": 28,
      "outputs": [
        {
          "output_type": "execute_result",
          "data": {
            "text/plain": [
              "0.0001"
            ]
          },
          "metadata": {
            "tags": []
          },
          "execution_count": 28
        }
      ]
    },
    {
      "cell_type": "code",
      "metadata": {
        "id": "VAZd7W_9bSi7",
        "colab_type": "code",
        "colab": {}
      },
      "source": [
        "from keras.layers import Activation"
      ],
      "execution_count": 0,
      "outputs": []
    },
    {
      "cell_type": "code",
      "metadata": {
        "id": "JCYvn_c9ahuB",
        "colab_type": "code",
        "colab": {}
      },
      "source": [
        "def cifar10Classifier(input_img):\n",
        "  \n",
        "  conv1_1 = (Conv2D(64, (3,3),name = 'conv1_1' ,padding='same', \n",
        "                    kernel_regularizer=regularizers.l2(weight_decay), input_shape=x_train.shape[1:],\n",
        "                    activation='relu'))(input_img)\n",
        "  conv1_2 = BatchNormalization(name = 'conv1_2')(conv1_1)\n",
        "  pool1_3 = MaxPooling2D(pool_size=(2, 2), name = 'pool1_3')(conv1_2) #14 x 14 x 32\n",
        "  conv2_1 = (Conv2D(128, (3,3),name = 'conv2_1' ,padding='same',\n",
        "                    activation= 'relu',kernel_regularizer=regularizers.l2(weight_decay)))(pool1_3)\n",
        "  conv2_2 = BatchNormalization(name = 'conv2_2')(conv2_1)\n",
        "  pool2_3 = MaxPooling2D(pool_size=(2, 2), name = 'pool2_3')(conv2_2) #14 x 14 x 32\n",
        "  \n",
        "  conv3_1 = (Conv2D(256, (3,3), padding='same',name = 'conv3_1',\n",
        "                    kernel_regularizer=regularizers.l2(weight_decay), activation='relu'))(pool2_3)\n",
        "  conv3_2 = BatchNormalization(name = 'conv3_2')(conv3_1)\n",
        "  conv4_1 = (Conv2D(256, (3,3), padding='same',name = 'conv4_1' ,activation= 'relu',\n",
        "                    kernel_regularizer=regularizers.l2(weight_decay)))(conv3_2)\n",
        "  conv4_2 = BatchNormalization(name = 'conv4_2')(conv4_1)\n",
        "  pool4_2 = MaxPooling2D(pool_size=(2, 2), name = 'pool4_2')(conv4_2) #14 x 14 x 32\n",
        "  \n",
        "  conv5_1 = (Conv2D(512, (3,3), padding='same',name = 'conv5_1',\n",
        "                    kernel_regularizer=regularizers.l2(weight_decay), activation='relu'))(pool4_2)\n",
        "  conv5_2 = BatchNormalization(name = 'conv5_2')(conv5_1)\n",
        "  conv6_1 = (Conv2D(512, (3,3), padding='same',name = 'conv6_1' ,activation= 'relu',\n",
        "                    kernel_regularizer=regularizers.l2(weight_decay)))(conv5_2)\n",
        "  conv6_2 = BatchNormalization(name = 'conv6_2')(conv6_1)\n",
        "  pool6_2 = MaxPooling2D(pool_size=(2, 2), name = 'pool6_2')(conv6_2) #14 x 14 x 32\n",
        "  \n",
        "  conv7_1 = (Conv2D(512, (3,3), padding='same',name = 'conv7_1',\n",
        "                    kernel_regularizer=regularizers.l2(weight_decay), activation='relu'))(pool6_2)\n",
        "  conv7_2 = BatchNormalization(name = 'conv7_2')(conv7_1)\n",
        "  conv8_1 = (Conv2D(512, (3,3), padding='same',name = 'conv8_1' ,activation= 'relu',\n",
        "                    kernel_regularizer=regularizers.l2(weight_decay)))(conv7_2)\n",
        "  conv8_2 = BatchNormalization(name = 'conv8_2')(conv8_1)\n",
        "  pool8_2 = MaxPooling2D(pool_size=(2, 2), name = 'pool8_2')(conv8_2) #14 x 14 x 32\n",
        "\n",
        "\n",
        "  flat = Flatten()(pool8_2)\n",
        "  fc1 = Dense(4096, activation='relu', name = 'fc1')(flat)\n",
        "  fc2 = Dense(4096, activation='relu', name = 'fc2')(fc1)\n",
        "  fc3 = Dense(1000, activation='relu', name = 'fc3')(fc2)\n",
        "\n",
        "\n",
        "  \n",
        "  out = Dense(num_classes, activation='softmax', name = 'out')(fc3)\n",
        "  \n",
        "  return out"
      ],
      "execution_count": 0,
      "outputs": []
    },
    {
      "cell_type": "code",
      "metadata": {
        "id": "-VPIvSX1jytM",
        "colab_type": "code",
        "outputId": "436bfb44-22ce-4b19-f904-91487252913b",
        "colab": {
          "base_uri": "https://localhost:8080/",
          "height": 1174
        }
      },
      "source": [
        "model = Model(input_img, (cifar10Classifier(input_img)))\n",
        "#data augmentation\n",
        "datagen = ImageDataGenerator(\n",
        "    rotation_range=15,\n",
        "    width_shift_range=0.1,\n",
        "    height_shift_range=0.1,\n",
        "    horizontal_flip=True,\n",
        "    )\n",
        "datagen.fit(train_three_data)\n",
        " \n",
        "#training\n",
        "batch_size = 64\n",
        " \n",
        "opt_rms = keras.optimizers.rmsprop(lr=0.001,decay=1e-6)\n",
        "# opt_rms = keras.optimizers.Adam(lr=0.001,decay=1e-6,beta_1=0.5)\n",
        "# model.compile(loss='categorical_crossentropy', optimizer=opt_rms, metrics=['accuracy'])\n",
        "\n",
        "model.compile(loss=losses.categorical_crossentropy, optimizer=opt_rms, metrics=['accuracy'])\n",
        "\n",
        "model.summary()\n",
        " "
      ],
      "execution_count": 31,
      "outputs": [
        {
          "output_type": "stream",
          "text": [
            "WARNING:tensorflow:From /usr/local/lib/python3.6/dist-packages/tensorflow/python/framework/op_def_library.py:263: colocate_with (from tensorflow.python.framework.ops) is deprecated and will be removed in a future version.\n",
            "Instructions for updating:\n",
            "Colocations handled automatically by placer.\n",
            "_________________________________________________________________\n",
            "Layer (type)                 Output Shape              Param #   \n",
            "=================================================================\n",
            "input_1 (InputLayer)         (None, 32, 32, 3)         0         \n",
            "_________________________________________________________________\n",
            "conv1_1 (Conv2D)             (None, 32, 32, 64)        1792      \n",
            "_________________________________________________________________\n",
            "conv1_2 (BatchNormalization) (None, 32, 32, 64)        256       \n",
            "_________________________________________________________________\n",
            "pool1_3 (MaxPooling2D)       (None, 16, 16, 64)        0         \n",
            "_________________________________________________________________\n",
            "conv2_1 (Conv2D)             (None, 16, 16, 128)       73856     \n",
            "_________________________________________________________________\n",
            "conv2_2 (BatchNormalization) (None, 16, 16, 128)       512       \n",
            "_________________________________________________________________\n",
            "pool2_3 (MaxPooling2D)       (None, 8, 8, 128)         0         \n",
            "_________________________________________________________________\n",
            "conv3_1 (Conv2D)             (None, 8, 8, 256)         295168    \n",
            "_________________________________________________________________\n",
            "conv3_2 (BatchNormalization) (None, 8, 8, 256)         1024      \n",
            "_________________________________________________________________\n",
            "conv4_1 (Conv2D)             (None, 8, 8, 256)         590080    \n",
            "_________________________________________________________________\n",
            "conv4_2 (BatchNormalization) (None, 8, 8, 256)         1024      \n",
            "_________________________________________________________________\n",
            "pool4_2 (MaxPooling2D)       (None, 4, 4, 256)         0         \n",
            "_________________________________________________________________\n",
            "conv5_1 (Conv2D)             (None, 4, 4, 512)         1180160   \n",
            "_________________________________________________________________\n",
            "conv5_2 (BatchNormalization) (None, 4, 4, 512)         2048      \n",
            "_________________________________________________________________\n",
            "conv6_1 (Conv2D)             (None, 4, 4, 512)         2359808   \n",
            "_________________________________________________________________\n",
            "conv6_2 (BatchNormalization) (None, 4, 4, 512)         2048      \n",
            "_________________________________________________________________\n",
            "pool6_2 (MaxPooling2D)       (None, 2, 2, 512)         0         \n",
            "_________________________________________________________________\n",
            "conv7_1 (Conv2D)             (None, 2, 2, 512)         2359808   \n",
            "_________________________________________________________________\n",
            "conv7_2 (BatchNormalization) (None, 2, 2, 512)         2048      \n",
            "_________________________________________________________________\n",
            "conv8_1 (Conv2D)             (None, 2, 2, 512)         2359808   \n",
            "_________________________________________________________________\n",
            "conv8_2 (BatchNormalization) (None, 2, 2, 512)         2048      \n",
            "_________________________________________________________________\n",
            "pool8_2 (MaxPooling2D)       (None, 1, 1, 512)         0         \n",
            "_________________________________________________________________\n",
            "flatten_1 (Flatten)          (None, 512)               0         \n",
            "_________________________________________________________________\n",
            "fc1 (Dense)                  (None, 4096)              2101248   \n",
            "_________________________________________________________________\n",
            "fc2 (Dense)                  (None, 4096)              16781312  \n",
            "_________________________________________________________________\n",
            "fc3 (Dense)                  (None, 1000)              4097000   \n",
            "_________________________________________________________________\n",
            "out (Dense)                  (None, 3)                 3003      \n",
            "=================================================================\n",
            "Total params: 32,214,051\n",
            "Trainable params: 32,208,547\n",
            "Non-trainable params: 5,504\n",
            "_________________________________________________________________\n"
          ],
          "name": "stdout"
        }
      ]
    },
    {
      "cell_type": "code",
      "metadata": {
        "id": "9Wi6iL1A7DxR",
        "colab_type": "code",
        "colab": {}
      },
      "source": [
        "# model.get_weights()"
      ],
      "execution_count": 0,
      "outputs": []
    },
    {
      "cell_type": "code",
      "metadata": {
        "id": "2jabvkmcr1KR",
        "colab_type": "code",
        "colab": {}
      },
      "source": [
        "mcp_save = ModelCheckpoint('weights.hdf5', save_best_only=True, monitor='val_acc', mode='auto')"
      ],
      "execution_count": 0,
      "outputs": []
    },
    {
      "cell_type": "code",
      "metadata": {
        "id": "T6x5OsaN9CxB",
        "colab_type": "code",
        "colab": {}
      },
      "source": [
        ""
      ],
      "execution_count": 0,
      "outputs": []
    },
    {
      "cell_type": "code",
      "metadata": {
        "id": "AAxjpgNk9KF3",
        "colab_type": "code",
        "colab": {}
      },
      "source": [
        "\n",
        "# for l1,l2 in zip(model.layers[0:],loaded_model_high.layers[0:]):\n",
        "#     l1.set_weights(l2.get_weights())"
      ],
      "execution_count": 0,
      "outputs": []
    },
    {
      "cell_type": "code",
      "metadata": {
        "id": "0x-iDMcukCCT",
        "colab_type": "code",
        "outputId": "654b10e4-3bef-4185-cfd7-08b42eea73dd",
        "colab": {
          "base_uri": "https://localhost:8080/",
          "height": 20534
        }
      },
      "source": [
        "model.fit_generator(datagen.flow(train_X, train_ground, batch_size=batch_size),\\\n",
        "                    steps_per_epoch=train_X.shape[0] // batch_size,epochs=1000,\\\n",
        "                    verbose=1,validation_data=(valid_X,valid_ground),\n",
        "                    shuffle = True,callbacks=[mcp_save,LearningRateScheduler(lr_schedule)])\n",
        "#save to disk\n",
        "model_json = model.to_json()\n",
        "with open('model.json', 'w') as json_file:\n",
        "    json_file.write(model_json)\n",
        "model.save_weights('model.h5') \n",
        " \n"
      ],
      "execution_count": 35,
      "outputs": [
        {
          "output_type": "stream",
          "text": [
            "WARNING:tensorflow:From /usr/local/lib/python3.6/dist-packages/tensorflow/python/ops/math_ops.py:3066: to_int32 (from tensorflow.python.ops.math_ops) is deprecated and will be removed in a future version.\n",
            "Instructions for updating:\n",
            "Use tf.cast instead.\n",
            "Epoch 1/1000\n",
            "187/187 [==============================] - 16s 84ms/step - loss: 1.0013 - acc: 0.6398 - val_loss: 0.8228 - val_acc: 0.7293\n",
            "Epoch 2/1000\n",
            "187/187 [==============================] - 10s 52ms/step - loss: 0.8361 - acc: 0.7130 - val_loss: 0.8760 - val_acc: 0.7080\n",
            "Epoch 3/1000\n",
            "187/187 [==============================] - 9s 49ms/step - loss: 0.7719 - acc: 0.7502 - val_loss: 0.7820 - val_acc: 0.7310\n",
            "Epoch 4/1000\n",
            "187/187 [==============================] - 9s 50ms/step - loss: 0.7370 - acc: 0.7705 - val_loss: 0.7529 - val_acc: 0.7410\n",
            "Epoch 5/1000\n",
            "187/187 [==============================] - 10s 52ms/step - loss: 0.6999 - acc: 0.7860 - val_loss: 0.9125 - val_acc: 0.7350\n",
            "Epoch 6/1000\n",
            "187/187 [==============================] - 9s 50ms/step - loss: 0.6682 - acc: 0.7980 - val_loss: 0.7018 - val_acc: 0.7980\n",
            "Epoch 7/1000\n",
            "187/187 [==============================] - 9s 50ms/step - loss: 0.6398 - acc: 0.8117 - val_loss: 0.7009 - val_acc: 0.7990\n",
            "Epoch 8/1000\n",
            "187/187 [==============================] - 9s 49ms/step - loss: 0.6155 - acc: 0.8187 - val_loss: 0.7334 - val_acc: 0.7917\n",
            "Epoch 9/1000\n",
            "187/187 [==============================] - 9s 49ms/step - loss: 0.5921 - acc: 0.8268 - val_loss: 0.6300 - val_acc: 0.8207\n",
            "Epoch 10/1000\n",
            "187/187 [==============================] - 9s 49ms/step - loss: 0.5825 - acc: 0.8364 - val_loss: 0.6362 - val_acc: 0.8047\n",
            "Epoch 11/1000\n",
            "187/187 [==============================] - 9s 49ms/step - loss: 0.5590 - acc: 0.8415 - val_loss: 0.9489 - val_acc: 0.7637\n",
            "Epoch 12/1000\n",
            "187/187 [==============================] - 9s 50ms/step - loss: 0.5441 - acc: 0.8489 - val_loss: 0.6947 - val_acc: 0.8103\n",
            "Epoch 13/1000\n",
            "187/187 [==============================] - 9s 49ms/step - loss: 0.5294 - acc: 0.8570 - val_loss: 0.6269 - val_acc: 0.8090\n",
            "Epoch 14/1000\n",
            "187/187 [==============================] - 9s 49ms/step - loss: 0.5175 - acc: 0.8619 - val_loss: 0.8660 - val_acc: 0.7847\n",
            "Epoch 15/1000\n",
            "187/187 [==============================] - 9s 49ms/step - loss: 0.5016 - acc: 0.8651 - val_loss: 0.6916 - val_acc: 0.7950\n",
            "Epoch 16/1000\n",
            "187/187 [==============================] - 9s 50ms/step - loss: 0.4881 - acc: 0.8716 - val_loss: 0.6266 - val_acc: 0.8253\n",
            "Epoch 17/1000\n",
            "187/187 [==============================] - 9s 50ms/step - loss: 0.4731 - acc: 0.8783 - val_loss: 0.5816 - val_acc: 0.8267\n",
            "Epoch 18/1000\n",
            "187/187 [==============================] - 9s 49ms/step - loss: 0.4613 - acc: 0.8841 - val_loss: 1.0666 - val_acc: 0.7563\n",
            "Epoch 19/1000\n",
            "187/187 [==============================] - 9s 49ms/step - loss: 0.4585 - acc: 0.8829 - val_loss: 0.6095 - val_acc: 0.8313\n",
            "Epoch 20/1000\n",
            "187/187 [==============================] - 9s 51ms/step - loss: 0.4389 - acc: 0.8909 - val_loss: 0.6208 - val_acc: 0.8317\n",
            "Epoch 21/1000\n",
            "187/187 [==============================] - 9s 50ms/step - loss: 0.4408 - acc: 0.8913 - val_loss: 0.7432 - val_acc: 0.7883\n",
            "Epoch 22/1000\n",
            "187/187 [==============================] - 9s 49ms/step - loss: 0.4183 - acc: 0.8988 - val_loss: 0.6500 - val_acc: 0.8360\n",
            "Epoch 23/1000\n",
            "187/187 [==============================] - 9s 49ms/step - loss: 0.4083 - acc: 0.9030 - val_loss: 0.6100 - val_acc: 0.8357\n",
            "Epoch 24/1000\n",
            "187/187 [==============================] - 9s 49ms/step - loss: 0.4093 - acc: 0.9007 - val_loss: 0.7688 - val_acc: 0.8237\n",
            "Epoch 25/1000\n",
            "187/187 [==============================] - 9s 49ms/step - loss: 0.3960 - acc: 0.9093 - val_loss: 0.7123 - val_acc: 0.8390\n",
            "Epoch 26/1000\n",
            "187/187 [==============================] - 9s 49ms/step - loss: 0.3884 - acc: 0.9098 - val_loss: 0.7537 - val_acc: 0.8420\n",
            "Epoch 27/1000\n",
            "187/187 [==============================] - 9s 49ms/step - loss: 0.3945 - acc: 0.9141 - val_loss: 0.7711 - val_acc: 0.8283\n",
            "Epoch 28/1000\n",
            "187/187 [==============================] - 9s 50ms/step - loss: 0.3798 - acc: 0.9137 - val_loss: 0.7374 - val_acc: 0.8290\n",
            "Epoch 29/1000\n",
            "187/187 [==============================] - 9s 50ms/step - loss: 0.3695 - acc: 0.9218 - val_loss: 0.7242 - val_acc: 0.8397\n",
            "Epoch 30/1000\n",
            "187/187 [==============================] - 9s 49ms/step - loss: 0.3567 - acc: 0.9266 - val_loss: 0.8768 - val_acc: 0.8220\n",
            "Epoch 31/1000\n",
            "187/187 [==============================] - 9s 49ms/step - loss: 0.3601 - acc: 0.9279 - val_loss: 0.6374 - val_acc: 0.8397\n",
            "Epoch 32/1000\n",
            "187/187 [==============================] - 9s 49ms/step - loss: 0.3479 - acc: 0.9281 - val_loss: 0.6788 - val_acc: 0.8423\n",
            "Epoch 33/1000\n",
            "187/187 [==============================] - 9s 49ms/step - loss: 0.3476 - acc: 0.9283 - val_loss: 0.6609 - val_acc: 0.8433\n",
            "Epoch 34/1000\n",
            "187/187 [==============================] - 9s 49ms/step - loss: 0.3414 - acc: 0.9293 - val_loss: 0.7689 - val_acc: 0.8393\n",
            "Epoch 35/1000\n",
            "187/187 [==============================] - 9s 49ms/step - loss: 0.3382 - acc: 0.9355 - val_loss: 0.9279 - val_acc: 0.8237\n",
            "Epoch 36/1000\n",
            "187/187 [==============================] - 9s 49ms/step - loss: 0.3390 - acc: 0.9323 - val_loss: 1.0724 - val_acc: 0.8367\n",
            "Epoch 37/1000\n",
            "187/187 [==============================] - 9s 50ms/step - loss: 0.3230 - acc: 0.9373 - val_loss: 0.7746 - val_acc: 0.8303\n",
            "Epoch 38/1000\n",
            "187/187 [==============================] - 9s 51ms/step - loss: 0.3208 - acc: 0.9401 - val_loss: 0.7861 - val_acc: 0.8293\n",
            "Epoch 39/1000\n",
            "187/187 [==============================] - 9s 49ms/step - loss: 0.3257 - acc: 0.9379 - val_loss: 0.7440 - val_acc: 0.8363\n",
            "Epoch 40/1000\n",
            "187/187 [==============================] - 9s 49ms/step - loss: 0.3125 - acc: 0.9425 - val_loss: 0.6714 - val_acc: 0.8310\n",
            "Epoch 41/1000\n",
            "187/187 [==============================] - 9s 49ms/step - loss: 0.3149 - acc: 0.9449 - val_loss: 0.8463 - val_acc: 0.8450\n",
            "Epoch 42/1000\n",
            "187/187 [==============================] - 9s 49ms/step - loss: 0.3098 - acc: 0.9441 - val_loss: 0.7095 - val_acc: 0.8303\n",
            "Epoch 43/1000\n",
            "187/187 [==============================] - 9s 49ms/step - loss: 0.3067 - acc: 0.9445 - val_loss: 0.7806 - val_acc: 0.8437\n",
            "Epoch 44/1000\n",
            "187/187 [==============================] - 9s 50ms/step - loss: 0.3020 - acc: 0.9467 - val_loss: 0.7375 - val_acc: 0.8360\n",
            "Epoch 45/1000\n",
            "187/187 [==============================] - 9s 49ms/step - loss: 0.2941 - acc: 0.9512 - val_loss: 1.0526 - val_acc: 0.8223\n",
            "Epoch 46/1000\n",
            "187/187 [==============================] - 9s 50ms/step - loss: 0.2934 - acc: 0.9506 - val_loss: 0.9303 - val_acc: 0.8280\n",
            "Epoch 47/1000\n",
            "187/187 [==============================] - 9s 49ms/step - loss: 0.2956 - acc: 0.9516 - val_loss: 0.7789 - val_acc: 0.8380\n",
            "Epoch 48/1000\n",
            "187/187 [==============================] - 9s 50ms/step - loss: 0.2811 - acc: 0.9536 - val_loss: 0.7600 - val_acc: 0.8447\n",
            "Epoch 49/1000\n",
            "187/187 [==============================] - 9s 49ms/step - loss: 0.2904 - acc: 0.9510 - val_loss: 0.8689 - val_acc: 0.8473\n",
            "Epoch 50/1000\n",
            "187/187 [==============================] - 9s 49ms/step - loss: 0.2829 - acc: 0.9531 - val_loss: 0.8368 - val_acc: 0.8377\n",
            "Epoch 51/1000\n",
            "187/187 [==============================] - 9s 49ms/step - loss: 0.2799 - acc: 0.9560 - val_loss: 0.7756 - val_acc: 0.8403\n",
            "Epoch 52/1000\n",
            "187/187 [==============================] - 9s 49ms/step - loss: 0.2757 - acc: 0.9575 - val_loss: 0.6108 - val_acc: 0.8547\n",
            "Epoch 53/1000\n",
            "187/187 [==============================] - 9s 49ms/step - loss: 0.2715 - acc: 0.9585 - val_loss: 0.8819 - val_acc: 0.8350\n",
            "Epoch 54/1000\n",
            "187/187 [==============================] - 9s 50ms/step - loss: 0.2672 - acc: 0.9584 - val_loss: 0.8076 - val_acc: 0.8403\n",
            "Epoch 55/1000\n",
            "187/187 [==============================] - 9s 49ms/step - loss: 0.2774 - acc: 0.9592 - val_loss: 0.8355 - val_acc: 0.8310\n",
            "Epoch 56/1000\n",
            "187/187 [==============================] - 9s 49ms/step - loss: 0.2632 - acc: 0.9603 - val_loss: 0.7256 - val_acc: 0.8463\n",
            "Epoch 57/1000\n",
            "187/187 [==============================] - 9s 48ms/step - loss: 0.2621 - acc: 0.9611 - val_loss: 0.7971 - val_acc: 0.8227\n",
            "Epoch 58/1000\n",
            "187/187 [==============================] - 9s 49ms/step - loss: 0.2552 - acc: 0.9615 - val_loss: 0.9308 - val_acc: 0.8457\n",
            "Epoch 59/1000\n",
            "187/187 [==============================] - 9s 48ms/step - loss: 0.2644 - acc: 0.9616 - val_loss: 1.0398 - val_acc: 0.8393\n",
            "Epoch 60/1000\n",
            "187/187 [==============================] - 9s 48ms/step - loss: 0.2573 - acc: 0.9618 - val_loss: 0.9250 - val_acc: 0.8430\n",
            "Epoch 61/1000\n",
            "187/187 [==============================] - 9s 49ms/step - loss: 0.3069 - acc: 0.9576 - val_loss: 1.0939 - val_acc: 0.8280\n",
            "Epoch 62/1000\n",
            "187/187 [==============================] - 9s 49ms/step - loss: 0.2558 - acc: 0.9646 - val_loss: 0.8923 - val_acc: 0.8337\n",
            "Epoch 63/1000\n",
            "187/187 [==============================] - 9s 50ms/step - loss: 0.2603 - acc: 0.9626 - val_loss: 0.9422 - val_acc: 0.8413\n",
            "Epoch 64/1000\n",
            "187/187 [==============================] - 9s 49ms/step - loss: 0.2578 - acc: 0.9646 - val_loss: 0.7763 - val_acc: 0.8473\n",
            "Epoch 65/1000\n",
            "187/187 [==============================] - 9s 49ms/step - loss: 0.2498 - acc: 0.9635 - val_loss: 0.8076 - val_acc: 0.8500\n",
            "Epoch 66/1000\n",
            "187/187 [==============================] - 9s 50ms/step - loss: 0.2564 - acc: 0.9678 - val_loss: 1.0571 - val_acc: 0.8467\n",
            "Epoch 67/1000\n",
            "187/187 [==============================] - 9s 49ms/step - loss: 0.2588 - acc: 0.9657 - val_loss: 0.8979 - val_acc: 0.8493\n",
            "Epoch 68/1000\n",
            "187/187 [==============================] - 9s 49ms/step - loss: 0.2648 - acc: 0.9625 - val_loss: 0.9258 - val_acc: 0.8410\n",
            "Epoch 69/1000\n",
            "187/187 [==============================] - 9s 49ms/step - loss: 0.2477 - acc: 0.9652 - val_loss: 0.7911 - val_acc: 0.8467\n",
            "Epoch 70/1000\n",
            "187/187 [==============================] - 9s 49ms/step - loss: 0.2444 - acc: 0.9667 - val_loss: 1.0025 - val_acc: 0.8430\n",
            "Epoch 71/1000\n",
            "187/187 [==============================] - 9s 50ms/step - loss: 0.2377 - acc: 0.9684 - val_loss: 1.0230 - val_acc: 0.8200\n",
            "Epoch 72/1000\n",
            "187/187 [==============================] - 9s 50ms/step - loss: 0.2434 - acc: 0.9703 - val_loss: 1.0175 - val_acc: 0.8467\n",
            "Epoch 73/1000\n",
            "187/187 [==============================] - 9s 49ms/step - loss: 0.2530 - acc: 0.9700 - val_loss: 0.9262 - val_acc: 0.8193\n",
            "Epoch 74/1000\n",
            "187/187 [==============================] - 9s 48ms/step - loss: 0.2443 - acc: 0.9684 - val_loss: 0.8049 - val_acc: 0.8430\n",
            "Epoch 75/1000\n",
            "187/187 [==============================] - 9s 49ms/step - loss: 0.2374 - acc: 0.9710 - val_loss: 0.9529 - val_acc: 0.8270\n",
            "Epoch 76/1000\n",
            "187/187 [==============================] - 9s 49ms/step - loss: 0.2399 - acc: 0.9698 - val_loss: 0.8871 - val_acc: 0.8507\n",
            "Epoch 77/1000\n",
            "187/187 [==============================] - 9s 48ms/step - loss: 0.2377 - acc: 0.9697 - val_loss: 0.8321 - val_acc: 0.8420\n",
            "Epoch 78/1000\n",
            "187/187 [==============================] - 9s 49ms/step - loss: 0.2412 - acc: 0.9692 - val_loss: 0.8700 - val_acc: 0.8447\n",
            "Epoch 79/1000\n",
            "187/187 [==============================] - 9s 48ms/step - loss: 0.2407 - acc: 0.9703 - val_loss: 1.2569 - val_acc: 0.8077\n",
            "Epoch 80/1000\n",
            "187/187 [==============================] - 9s 49ms/step - loss: 0.2379 - acc: 0.9712 - val_loss: 0.8507 - val_acc: 0.8603\n",
            "Epoch 81/1000\n",
            "187/187 [==============================] - 9s 51ms/step - loss: 0.2289 - acc: 0.9726 - val_loss: 0.9224 - val_acc: 0.8463\n",
            "Epoch 82/1000\n",
            "187/187 [==============================] - 9s 49ms/step - loss: 0.2326 - acc: 0.9714 - val_loss: 1.0035 - val_acc: 0.8440\n",
            "Epoch 83/1000\n",
            "187/187 [==============================] - 9s 49ms/step - loss: 0.2395 - acc: 0.9719 - val_loss: 1.1323 - val_acc: 0.8310\n",
            "Epoch 84/1000\n",
            "187/187 [==============================] - 9s 48ms/step - loss: 0.2301 - acc: 0.9731 - val_loss: 0.9765 - val_acc: 0.8460\n",
            "Epoch 85/1000\n",
            "187/187 [==============================] - 9s 48ms/step - loss: 0.2327 - acc: 0.9727 - val_loss: 0.9622 - val_acc: 0.8420\n",
            "Epoch 86/1000\n",
            "187/187 [==============================] - 9s 49ms/step - loss: 0.2320 - acc: 0.9720 - val_loss: 0.9028 - val_acc: 0.8420\n",
            "Epoch 87/1000\n",
            "187/187 [==============================] - 9s 48ms/step - loss: 0.2233 - acc: 0.9747 - val_loss: 0.8927 - val_acc: 0.8567\n",
            "Epoch 88/1000\n",
            "187/187 [==============================] - 9s 48ms/step - loss: 0.2271 - acc: 0.9743 - val_loss: 0.8535 - val_acc: 0.8537\n",
            "Epoch 89/1000\n",
            "187/187 [==============================] - 9s 49ms/step - loss: 0.2321 - acc: 0.9736 - val_loss: 0.8679 - val_acc: 0.8470\n",
            "Epoch 90/1000\n",
            "187/187 [==============================] - 9s 49ms/step - loss: 0.2238 - acc: 0.9729 - val_loss: 1.0667 - val_acc: 0.8530\n",
            "Epoch 91/1000\n",
            "187/187 [==============================] - 9s 49ms/step - loss: 0.2290 - acc: 0.9748 - val_loss: 0.9961 - val_acc: 0.8603\n",
            "Epoch 92/1000\n",
            "187/187 [==============================] - 9s 49ms/step - loss: 0.2180 - acc: 0.9765 - val_loss: 0.9485 - val_acc: 0.8643\n",
            "Epoch 93/1000\n",
            "187/187 [==============================] - 9s 49ms/step - loss: 0.2291 - acc: 0.9725 - val_loss: 1.0100 - val_acc: 0.8510\n",
            "Epoch 94/1000\n",
            "187/187 [==============================] - 9s 49ms/step - loss: 0.2264 - acc: 0.9764 - val_loss: 1.0387 - val_acc: 0.8540\n",
            "Epoch 95/1000\n",
            "187/187 [==============================] - 9s 49ms/step - loss: 0.2167 - acc: 0.9760 - val_loss: 1.0368 - val_acc: 0.8443\n",
            "Epoch 96/1000\n",
            "187/187 [==============================] - 9s 49ms/step - loss: 0.2227 - acc: 0.9759 - val_loss: 0.9668 - val_acc: 0.8463\n",
            "Epoch 97/1000\n",
            "187/187 [==============================] - 9s 49ms/step - loss: 0.2190 - acc: 0.9762 - val_loss: 0.9663 - val_acc: 0.8647\n",
            "Epoch 98/1000\n",
            "187/187 [==============================] - 10s 51ms/step - loss: 0.2189 - acc: 0.9754 - val_loss: 1.0728 - val_acc: 0.8483\n",
            "Epoch 99/1000\n",
            "187/187 [==============================] - 9s 49ms/step - loss: 0.2143 - acc: 0.9778 - val_loss: 1.0201 - val_acc: 0.8567\n",
            "Epoch 100/1000\n",
            "187/187 [==============================] - 9s 48ms/step - loss: 0.2203 - acc: 0.9774 - val_loss: 0.8627 - val_acc: 0.8580\n",
            "Epoch 101/1000\n",
            "187/187 [==============================] - 9s 48ms/step - loss: 0.2166 - acc: 0.9769 - val_loss: 1.0876 - val_acc: 0.8433\n",
            "Epoch 102/1000\n",
            "187/187 [==============================] - 9s 49ms/step - loss: 0.2114 - acc: 0.9796 - val_loss: 1.0467 - val_acc: 0.8437\n",
            "Epoch 103/1000\n",
            "187/187 [==============================] - 9s 49ms/step - loss: 0.2269 - acc: 0.9761 - val_loss: 0.9358 - val_acc: 0.8643\n",
            "Epoch 104/1000\n",
            "187/187 [==============================] - 9s 50ms/step - loss: 0.2174 - acc: 0.9770 - val_loss: 0.7054 - val_acc: 0.8630\n",
            "Epoch 105/1000\n",
            "187/187 [==============================] - 10s 51ms/step - loss: 0.2101 - acc: 0.9787 - val_loss: 1.0056 - val_acc: 0.8563\n",
            "Epoch 106/1000\n",
            "187/187 [==============================] - 9s 49ms/step - loss: 0.2072 - acc: 0.9795 - val_loss: 1.0059 - val_acc: 0.8437\n",
            "Epoch 107/1000\n",
            "187/187 [==============================] - 9s 50ms/step - loss: 0.2100 - acc: 0.9784 - val_loss: 0.8132 - val_acc: 0.8640\n",
            "Epoch 108/1000\n",
            "187/187 [==============================] - 9s 49ms/step - loss: 0.2158 - acc: 0.9784 - val_loss: 1.1139 - val_acc: 0.8327\n",
            "Epoch 109/1000\n",
            "187/187 [==============================] - 9s 49ms/step - loss: 0.2118 - acc: 0.9787 - val_loss: 1.1469 - val_acc: 0.8510\n",
            "Epoch 110/1000\n",
            "187/187 [==============================] - 9s 49ms/step - loss: 0.2203 - acc: 0.9794 - val_loss: 0.8269 - val_acc: 0.8720\n",
            "Epoch 111/1000\n",
            "187/187 [==============================] - 9s 50ms/step - loss: 0.2161 - acc: 0.9782 - val_loss: 1.1465 - val_acc: 0.8540\n",
            "Epoch 112/1000\n",
            "187/187 [==============================] - 9s 49ms/step - loss: 0.2096 - acc: 0.9791 - val_loss: 1.1110 - val_acc: 0.8470\n",
            "Epoch 113/1000\n",
            "187/187 [==============================] - 9s 49ms/step - loss: 0.2190 - acc: 0.9793 - val_loss: 0.9321 - val_acc: 0.8653\n",
            "Epoch 114/1000\n",
            "187/187 [==============================] - 9s 50ms/step - loss: 0.2071 - acc: 0.9799 - val_loss: 1.4015 - val_acc: 0.8230\n",
            "Epoch 115/1000\n",
            "187/187 [==============================] - 9s 49ms/step - loss: 0.2162 - acc: 0.9799 - val_loss: 0.8438 - val_acc: 0.8670\n",
            "Epoch 116/1000\n",
            "187/187 [==============================] - 9s 49ms/step - loss: 0.2140 - acc: 0.9818 - val_loss: 0.8513 - val_acc: 0.8497\n",
            "Epoch 117/1000\n",
            "187/187 [==============================] - 9s 49ms/step - loss: 0.2047 - acc: 0.9808 - val_loss: 1.0768 - val_acc: 0.8583\n",
            "Epoch 118/1000\n",
            "187/187 [==============================] - 9s 49ms/step - loss: 0.2323 - acc: 0.9794 - val_loss: 0.9559 - val_acc: 0.8550\n",
            "Epoch 119/1000\n",
            "187/187 [==============================] - 9s 49ms/step - loss: 0.2024 - acc: 0.9803 - val_loss: 0.8759 - val_acc: 0.8643\n",
            "Epoch 120/1000\n",
            "187/187 [==============================] - 9s 49ms/step - loss: 0.2026 - acc: 0.9814 - val_loss: 1.2928 - val_acc: 0.8557\n",
            "Epoch 121/1000\n",
            "187/187 [==============================] - 9s 49ms/step - loss: 0.2188 - acc: 0.9777 - val_loss: 0.8653 - val_acc: 0.8460\n",
            "Epoch 122/1000\n",
            "187/187 [==============================] - 9s 49ms/step - loss: 0.2070 - acc: 0.9801 - val_loss: 1.2249 - val_acc: 0.8260\n",
            "Epoch 123/1000\n",
            "187/187 [==============================] - 9s 49ms/step - loss: 0.2082 - acc: 0.9796 - val_loss: 0.9048 - val_acc: 0.8517\n",
            "Epoch 124/1000\n",
            "187/187 [==============================] - 10s 51ms/step - loss: 0.1970 - acc: 0.9808 - val_loss: 1.1640 - val_acc: 0.8473\n",
            "Epoch 125/1000\n",
            "187/187 [==============================] - 9s 49ms/step - loss: 0.2007 - acc: 0.9796 - val_loss: 0.9172 - val_acc: 0.8570\n",
            "Epoch 126/1000\n",
            "187/187 [==============================] - 9s 49ms/step - loss: 0.2032 - acc: 0.9814 - val_loss: 1.0359 - val_acc: 0.8487\n",
            "Epoch 127/1000\n",
            "187/187 [==============================] - 9s 49ms/step - loss: 0.2093 - acc: 0.9807 - val_loss: 0.9738 - val_acc: 0.8530\n",
            "Epoch 128/1000\n",
            "187/187 [==============================] - 9s 49ms/step - loss: 0.2001 - acc: 0.9809 - val_loss: 0.8952 - val_acc: 0.8697\n",
            "Epoch 129/1000\n",
            "187/187 [==============================] - 9s 49ms/step - loss: 0.1998 - acc: 0.9809 - val_loss: 1.0160 - val_acc: 0.8410\n",
            "Epoch 130/1000\n",
            "187/187 [==============================] - 9s 49ms/step - loss: 0.2030 - acc: 0.9810 - val_loss: 0.8529 - val_acc: 0.8593\n",
            "Epoch 131/1000\n",
            "187/187 [==============================] - 9s 49ms/step - loss: 0.1995 - acc: 0.9808 - val_loss: 0.7860 - val_acc: 0.8487\n",
            "Epoch 132/1000\n",
            "187/187 [==============================] - 9s 50ms/step - loss: 0.1939 - acc: 0.9814 - val_loss: 0.8859 - val_acc: 0.8603\n",
            "Epoch 133/1000\n",
            "187/187 [==============================] - 9s 51ms/step - loss: 0.1946 - acc: 0.9809 - val_loss: 1.6770 - val_acc: 0.8227\n",
            "Epoch 134/1000\n",
            "187/187 [==============================] - 9s 49ms/step - loss: 0.1990 - acc: 0.9825 - val_loss: 1.1204 - val_acc: 0.8410\n",
            "Epoch 135/1000\n",
            "187/187 [==============================] - 9s 49ms/step - loss: 0.1951 - acc: 0.9816 - val_loss: 0.9547 - val_acc: 0.8500\n",
            "Epoch 136/1000\n",
            "187/187 [==============================] - 9s 49ms/step - loss: 0.1924 - acc: 0.9841 - val_loss: 1.0737 - val_acc: 0.8600\n",
            "Epoch 137/1000\n",
            "187/187 [==============================] - 9s 49ms/step - loss: 0.1937 - acc: 0.9806 - val_loss: 0.8869 - val_acc: 0.8577\n",
            "Epoch 138/1000\n",
            "187/187 [==============================] - 9s 50ms/step - loss: 0.1859 - acc: 0.9852 - val_loss: 0.8401 - val_acc: 0.8587\n",
            "Epoch 139/1000\n",
            "187/187 [==============================] - 9s 50ms/step - loss: 0.1864 - acc: 0.9844 - val_loss: 1.0315 - val_acc: 0.8530\n",
            "Epoch 140/1000\n",
            "187/187 [==============================] - 9s 49ms/step - loss: 0.1895 - acc: 0.9844 - val_loss: 0.8947 - val_acc: 0.8680\n",
            "Epoch 141/1000\n",
            "187/187 [==============================] - 9s 49ms/step - loss: 0.1824 - acc: 0.9851 - val_loss: 1.0811 - val_acc: 0.8693\n",
            "Epoch 142/1000\n",
            "187/187 [==============================] - 9s 49ms/step - loss: 0.1850 - acc: 0.9856 - val_loss: 1.1367 - val_acc: 0.8540\n",
            "Epoch 143/1000\n",
            "187/187 [==============================] - 9s 49ms/step - loss: 0.1952 - acc: 0.9825 - val_loss: 0.9122 - val_acc: 0.8623\n",
            "Epoch 144/1000\n",
            "187/187 [==============================] - 9s 48ms/step - loss: 0.1865 - acc: 0.9849 - val_loss: 0.9233 - val_acc: 0.8573\n",
            "Epoch 145/1000\n",
            "187/187 [==============================] - 9s 49ms/step - loss: 0.1960 - acc: 0.9830 - val_loss: 0.8519 - val_acc: 0.8650\n",
            "Epoch 146/1000\n",
            "187/187 [==============================] - 9s 49ms/step - loss: 0.1912 - acc: 0.9827 - val_loss: 0.7835 - val_acc: 0.8727\n",
            "Epoch 147/1000\n",
            "187/187 [==============================] - 9s 50ms/step - loss: 0.1889 - acc: 0.9848 - val_loss: 1.1012 - val_acc: 0.8463\n",
            "Epoch 148/1000\n",
            "187/187 [==============================] - 9s 48ms/step - loss: 0.1884 - acc: 0.9838 - val_loss: 1.2900 - val_acc: 0.8613\n",
            "Epoch 149/1000\n",
            "187/187 [==============================] - 9s 49ms/step - loss: 0.1865 - acc: 0.9827 - val_loss: 0.9404 - val_acc: 0.8563\n",
            "Epoch 150/1000\n",
            "187/187 [==============================] - 9s 50ms/step - loss: 0.1838 - acc: 0.9850 - val_loss: 1.1242 - val_acc: 0.8667\n",
            "Epoch 151/1000\n",
            "187/187 [==============================] - 9s 49ms/step - loss: 0.1809 - acc: 0.9857 - val_loss: 0.8397 - val_acc: 0.8663\n",
            "Epoch 152/1000\n",
            "187/187 [==============================] - 9s 49ms/step - loss: 0.1926 - acc: 0.9828 - val_loss: 1.0433 - val_acc: 0.8623\n",
            "Epoch 153/1000\n",
            "187/187 [==============================] - 9s 49ms/step - loss: 0.1876 - acc: 0.9832 - val_loss: 1.0318 - val_acc: 0.8573\n",
            "Epoch 154/1000\n",
            "187/187 [==============================] - 9s 49ms/step - loss: 0.1987 - acc: 0.9834 - val_loss: 0.8512 - val_acc: 0.8720\n",
            "Epoch 155/1000\n",
            "187/187 [==============================] - 9s 49ms/step - loss: 0.2282 - acc: 0.9830 - val_loss: 1.2664 - val_acc: 0.8367\n",
            "Epoch 156/1000\n",
            "187/187 [==============================] - 9s 49ms/step - loss: 0.1908 - acc: 0.9828 - val_loss: 0.9204 - val_acc: 0.8470\n",
            "Epoch 157/1000\n",
            "187/187 [==============================] - 9s 49ms/step - loss: 0.1830 - acc: 0.9865 - val_loss: 1.1909 - val_acc: 0.8673\n",
            "Epoch 158/1000\n",
            "187/187 [==============================] - 9s 49ms/step - loss: 0.2474 - acc: 0.9804 - val_loss: 0.9336 - val_acc: 0.8657\n",
            "Epoch 159/1000\n",
            "187/187 [==============================] - 9s 50ms/step - loss: 0.1885 - acc: 0.9855 - val_loss: 1.0037 - val_acc: 0.8613\n",
            "Epoch 160/1000\n",
            "187/187 [==============================] - 9s 49ms/step - loss: 0.1879 - acc: 0.9847 - val_loss: 0.9360 - val_acc: 0.8570\n",
            "Epoch 161/1000\n",
            "187/187 [==============================] - 9s 49ms/step - loss: 0.1821 - acc: 0.9853 - val_loss: 1.0019 - val_acc: 0.8743\n",
            "Epoch 162/1000\n",
            "187/187 [==============================] - 9s 49ms/step - loss: 0.1835 - acc: 0.9841 - val_loss: 1.4639 - val_acc: 0.8437\n",
            "Epoch 163/1000\n",
            "187/187 [==============================] - 9s 48ms/step - loss: 0.1791 - acc: 0.9847 - val_loss: 0.9594 - val_acc: 0.8480\n",
            "Epoch 164/1000\n",
            "187/187 [==============================] - 9s 48ms/step - loss: 0.1861 - acc: 0.9852 - val_loss: 0.8611 - val_acc: 0.8607\n",
            "Epoch 165/1000\n",
            "187/187 [==============================] - 9s 49ms/step - loss: 0.1822 - acc: 0.9852 - val_loss: 0.9848 - val_acc: 0.8667\n",
            "Epoch 166/1000\n",
            "187/187 [==============================] - 9s 49ms/step - loss: 0.1783 - acc: 0.9867 - val_loss: 1.1822 - val_acc: 0.8553\n",
            "Epoch 167/1000\n",
            "187/187 [==============================] - 9s 49ms/step - loss: 0.1795 - acc: 0.9868 - val_loss: 1.2378 - val_acc: 0.8610\n",
            "Epoch 168/1000\n",
            "187/187 [==============================] - 9s 50ms/step - loss: 0.1798 - acc: 0.9879 - val_loss: 1.0312 - val_acc: 0.8593\n",
            "Epoch 169/1000\n",
            "187/187 [==============================] - 9s 49ms/step - loss: 0.1779 - acc: 0.9859 - val_loss: 1.2028 - val_acc: 0.8520\n",
            "Epoch 170/1000\n",
            "187/187 [==============================] - 9s 49ms/step - loss: 0.1788 - acc: 0.9842 - val_loss: 0.9962 - val_acc: 0.8433\n",
            "Epoch 171/1000\n",
            "187/187 [==============================] - 9s 49ms/step - loss: 0.1837 - acc: 0.9855 - val_loss: 0.9949 - val_acc: 0.8607\n",
            "Epoch 172/1000\n",
            "187/187 [==============================] - 9s 50ms/step - loss: 0.1772 - acc: 0.9869 - val_loss: 0.9578 - val_acc: 0.8547\n",
            "Epoch 173/1000\n",
            "187/187 [==============================] - 9s 49ms/step - loss: 0.1768 - acc: 0.9885 - val_loss: 1.0955 - val_acc: 0.8510\n",
            "Epoch 174/1000\n",
            "187/187 [==============================] - 9s 48ms/step - loss: 0.1791 - acc: 0.9855 - val_loss: 0.8950 - val_acc: 0.8587\n",
            "Epoch 175/1000\n",
            "187/187 [==============================] - 9s 48ms/step - loss: 0.1775 - acc: 0.9865 - val_loss: 0.9262 - val_acc: 0.8660\n",
            "Epoch 176/1000\n",
            "187/187 [==============================] - 9s 49ms/step - loss: 0.2118 - acc: 0.9845 - val_loss: 0.8742 - val_acc: 0.8647\n",
            "Epoch 177/1000\n",
            "187/187 [==============================] - 9s 49ms/step - loss: 0.1773 - acc: 0.9856 - val_loss: 0.8669 - val_acc: 0.8640\n",
            "Epoch 178/1000\n",
            "187/187 [==============================] - 9s 49ms/step - loss: 0.1730 - acc: 0.9863 - val_loss: 1.0214 - val_acc: 0.8590\n",
            "Epoch 179/1000\n",
            "187/187 [==============================] - 9s 49ms/step - loss: 0.1701 - acc: 0.9886 - val_loss: 1.1655 - val_acc: 0.8613\n",
            "Epoch 180/1000\n",
            "187/187 [==============================] - 9s 49ms/step - loss: 0.1776 - acc: 0.9848 - val_loss: 0.9495 - val_acc: 0.8753\n",
            "Epoch 181/1000\n",
            "187/187 [==============================] - 9s 49ms/step - loss: 0.1747 - acc: 0.9870 - val_loss: 0.9030 - val_acc: 0.8730\n",
            "Epoch 182/1000\n",
            "187/187 [==============================] - 9s 49ms/step - loss: 0.1772 - acc: 0.9865 - val_loss: 0.9956 - val_acc: 0.8590\n",
            "Epoch 183/1000\n",
            "187/187 [==============================] - 9s 49ms/step - loss: 0.1766 - acc: 0.9874 - val_loss: 1.3405 - val_acc: 0.8267\n",
            "Epoch 184/1000\n",
            "187/187 [==============================] - 9s 49ms/step - loss: 0.1826 - acc: 0.9850 - val_loss: 1.2501 - val_acc: 0.8603\n",
            "Epoch 185/1000\n",
            "187/187 [==============================] - 9s 50ms/step - loss: 0.1709 - acc: 0.9870 - val_loss: 1.0110 - val_acc: 0.8600\n",
            "Epoch 186/1000\n",
            "187/187 [==============================] - 9s 49ms/step - loss: 0.1709 - acc: 0.9875 - val_loss: 0.9481 - val_acc: 0.8717\n",
            "Epoch 187/1000\n",
            "187/187 [==============================] - 9s 48ms/step - loss: 0.1712 - acc: 0.9877 - val_loss: 1.0779 - val_acc: 0.8597\n",
            "Epoch 188/1000\n",
            "187/187 [==============================] - 9s 51ms/step - loss: 0.1722 - acc: 0.9869 - val_loss: 1.0975 - val_acc: 0.8627\n",
            "Epoch 189/1000\n",
            "187/187 [==============================] - 9s 48ms/step - loss: 0.2183 - acc: 0.9833 - val_loss: 1.0080 - val_acc: 0.8700\n",
            "Epoch 190/1000\n",
            "187/187 [==============================] - 9s 49ms/step - loss: 0.2161 - acc: 0.9835 - val_loss: 1.0289 - val_acc: 0.8673\n",
            "Epoch 191/1000\n",
            "187/187 [==============================] - 9s 48ms/step - loss: 0.1716 - acc: 0.9879 - val_loss: 0.9605 - val_acc: 0.8573\n",
            "Epoch 192/1000\n",
            "187/187 [==============================] - 9s 48ms/step - loss: 0.1734 - acc: 0.9870 - val_loss: 1.0728 - val_acc: 0.8580\n",
            "Epoch 193/1000\n",
            "187/187 [==============================] - 9s 48ms/step - loss: 0.1761 - acc: 0.9853 - val_loss: 0.8591 - val_acc: 0.8753\n",
            "Epoch 194/1000\n",
            "187/187 [==============================] - 9s 50ms/step - loss: 0.1702 - acc: 0.9861 - val_loss: 1.0421 - val_acc: 0.8700\n",
            "Epoch 195/1000\n",
            "187/187 [==============================] - 9s 48ms/step - loss: 0.1753 - acc: 0.9855 - val_loss: 1.0855 - val_acc: 0.8583\n",
            "Epoch 196/1000\n",
            "187/187 [==============================] - 9s 49ms/step - loss: 0.1919 - acc: 0.9860 - val_loss: 1.6508 - val_acc: 0.8117\n",
            "Epoch 197/1000\n",
            "187/187 [==============================] - 9s 49ms/step - loss: 0.1643 - acc: 0.9880 - val_loss: 1.2479 - val_acc: 0.8723\n",
            "Epoch 198/1000\n",
            "187/187 [==============================] - 11s 58ms/step - loss: 0.1913 - acc: 0.9871 - val_loss: 1.0651 - val_acc: 0.8800\n",
            "Epoch 199/1000\n",
            "187/187 [==============================] - 9s 49ms/step - loss: 0.1759 - acc: 0.9870 - val_loss: 1.1142 - val_acc: 0.8677\n",
            "Epoch 200/1000\n",
            "187/187 [==============================] - 9s 49ms/step - loss: 0.1715 - acc: 0.9877 - val_loss: 0.9403 - val_acc: 0.8610\n",
            "Epoch 201/1000\n",
            "187/187 [==============================] - 9s 49ms/step - loss: 0.2041 - acc: 0.9860 - val_loss: 0.7992 - val_acc: 0.8747\n",
            "Epoch 202/1000\n",
            "187/187 [==============================] - 9s 50ms/step - loss: 0.2544 - acc: 0.9825 - val_loss: 1.1798 - val_acc: 0.8667\n",
            "Epoch 203/1000\n",
            "187/187 [==============================] - 9s 49ms/step - loss: 0.1666 - acc: 0.9878 - val_loss: 1.7698 - val_acc: 0.8380\n",
            "Epoch 204/1000\n",
            "187/187 [==============================] - 9s 49ms/step - loss: 0.1786 - acc: 0.9870 - val_loss: 1.0869 - val_acc: 0.8500\n",
            "Epoch 205/1000\n",
            "187/187 [==============================] - 9s 50ms/step - loss: 0.1727 - acc: 0.9869 - val_loss: 1.3623 - val_acc: 0.8517\n",
            "Epoch 206/1000\n",
            "187/187 [==============================] - 9s 50ms/step - loss: 0.1760 - acc: 0.9879 - val_loss: 1.2648 - val_acc: 0.8510\n",
            "Epoch 207/1000\n",
            "187/187 [==============================] - 9s 49ms/step - loss: 0.1777 - acc: 0.9847 - val_loss: 0.8657 - val_acc: 0.8750\n",
            "Epoch 208/1000\n",
            "187/187 [==============================] - 9s 49ms/step - loss: 0.1670 - acc: 0.9878 - val_loss: 1.0643 - val_acc: 0.8680\n",
            "Epoch 209/1000\n",
            "187/187 [==============================] - 9s 49ms/step - loss: 0.1612 - acc: 0.9902 - val_loss: 1.4319 - val_acc: 0.8320\n",
            "Epoch 210/1000\n",
            "187/187 [==============================] - 9s 49ms/step - loss: 0.1832 - acc: 0.9875 - val_loss: 0.9853 - val_acc: 0.8660\n",
            "Epoch 211/1000\n",
            "187/187 [==============================] - 9s 50ms/step - loss: 0.1771 - acc: 0.9876 - val_loss: 1.5705 - val_acc: 0.8330\n",
            "Epoch 212/1000\n",
            "187/187 [==============================] - 9s 49ms/step - loss: 0.1831 - acc: 0.9872 - val_loss: 1.2446 - val_acc: 0.8560\n",
            "Epoch 213/1000\n",
            "187/187 [==============================] - 9s 50ms/step - loss: 0.1676 - acc: 0.9886 - val_loss: 1.2214 - val_acc: 0.8490\n",
            "Epoch 214/1000\n",
            "187/187 [==============================] - 9s 49ms/step - loss: 0.1721 - acc: 0.9875 - val_loss: 1.0272 - val_acc: 0.8580\n",
            "Epoch 215/1000\n",
            "187/187 [==============================] - 9s 49ms/step - loss: 0.1755 - acc: 0.9864 - val_loss: 1.2001 - val_acc: 0.8603\n",
            "Epoch 216/1000\n",
            "187/187 [==============================] - 9s 49ms/step - loss: 0.1732 - acc: 0.9870 - val_loss: 1.3232 - val_acc: 0.8657\n",
            "Epoch 217/1000\n",
            "187/187 [==============================] - 9s 49ms/step - loss: 0.1720 - acc: 0.9850 - val_loss: 0.9142 - val_acc: 0.8767\n",
            "Epoch 218/1000\n",
            "187/187 [==============================] - 9s 49ms/step - loss: 0.1709 - acc: 0.9870 - val_loss: 0.8150 - val_acc: 0.8647\n",
            "Epoch 219/1000\n",
            "187/187 [==============================] - 9s 49ms/step - loss: 0.1734 - acc: 0.9868 - val_loss: 0.9500 - val_acc: 0.8613\n",
            "Epoch 220/1000\n",
            "187/187 [==============================] - 9s 50ms/step - loss: 0.1628 - acc: 0.9891 - val_loss: 0.9883 - val_acc: 0.8603\n",
            "Epoch 221/1000\n",
            "187/187 [==============================] - 9s 49ms/step - loss: 0.1743 - acc: 0.9874 - val_loss: 1.3811 - val_acc: 0.8600\n",
            "Epoch 222/1000\n",
            "187/187 [==============================] - 9s 49ms/step - loss: 0.1725 - acc: 0.9870 - val_loss: 1.2223 - val_acc: 0.8563\n",
            "Epoch 223/1000\n",
            "187/187 [==============================] - 9s 49ms/step - loss: 0.1690 - acc: 0.9889 - val_loss: 1.0553 - val_acc: 0.8693\n",
            "Epoch 224/1000\n",
            "187/187 [==============================] - 9s 49ms/step - loss: 0.1616 - acc: 0.9895 - val_loss: 1.2716 - val_acc: 0.8627\n",
            "Epoch 225/1000\n",
            "187/187 [==============================] - 9s 49ms/step - loss: 0.1650 - acc: 0.9888 - val_loss: 1.3594 - val_acc: 0.8567\n",
            "Epoch 226/1000\n",
            "187/187 [==============================] - 9s 49ms/step - loss: 0.1731 - acc: 0.9888 - val_loss: 1.0123 - val_acc: 0.8503\n",
            "Epoch 227/1000\n",
            "187/187 [==============================] - 9s 49ms/step - loss: 0.1662 - acc: 0.9856 - val_loss: 1.1161 - val_acc: 0.8513\n",
            "Epoch 228/1000\n",
            "187/187 [==============================] - 9s 49ms/step - loss: 0.1660 - acc: 0.9898 - val_loss: 1.1706 - val_acc: 0.8627\n",
            "Epoch 229/1000\n",
            "187/187 [==============================] - 9s 49ms/step - loss: 0.1715 - acc: 0.9885 - val_loss: 1.1197 - val_acc: 0.8567\n",
            "Epoch 230/1000\n",
            "187/187 [==============================] - 9s 49ms/step - loss: 0.1662 - acc: 0.9875 - val_loss: 1.2938 - val_acc: 0.8483\n",
            "Epoch 231/1000\n",
            "187/187 [==============================] - 9s 49ms/step - loss: 0.1771 - acc: 0.9880 - val_loss: 1.0648 - val_acc: 0.8590\n",
            "Epoch 232/1000\n",
            "187/187 [==============================] - 9s 49ms/step - loss: 0.1752 - acc: 0.9870 - val_loss: 1.1601 - val_acc: 0.8720\n",
            "Epoch 233/1000\n",
            "187/187 [==============================] - 9s 48ms/step - loss: 0.1705 - acc: 0.9901 - val_loss: 1.0089 - val_acc: 0.8693\n",
            "Epoch 234/1000\n",
            "187/187 [==============================] - 9s 48ms/step - loss: 0.1656 - acc: 0.9881 - val_loss: 1.1309 - val_acc: 0.8650\n",
            "Epoch 235/1000\n",
            "187/187 [==============================] - 9s 48ms/step - loss: 0.1611 - acc: 0.9889 - val_loss: 1.2367 - val_acc: 0.8480\n",
            "Epoch 236/1000\n",
            "187/187 [==============================] - 9s 48ms/step - loss: 0.1650 - acc: 0.9882 - val_loss: 0.9874 - val_acc: 0.8677\n",
            "Epoch 237/1000\n",
            "187/187 [==============================] - 9s 49ms/step - loss: 0.1632 - acc: 0.9887 - val_loss: 1.5648 - val_acc: 0.8303\n",
            "Epoch 238/1000\n",
            "187/187 [==============================] - 9s 49ms/step - loss: 0.1651 - acc: 0.9886 - val_loss: 0.9592 - val_acc: 0.8643\n",
            "Epoch 239/1000\n",
            "187/187 [==============================] - 9s 50ms/step - loss: 0.1609 - acc: 0.9901 - val_loss: 1.4751 - val_acc: 0.8487\n",
            "Epoch 240/1000\n",
            "187/187 [==============================] - 9s 50ms/step - loss: 0.1676 - acc: 0.9882 - val_loss: 1.3308 - val_acc: 0.8567\n",
            "Epoch 241/1000\n",
            "187/187 [==============================] - 9s 49ms/step - loss: 0.1646 - acc: 0.9882 - val_loss: 1.0951 - val_acc: 0.8630\n",
            "Epoch 242/1000\n",
            "187/187 [==============================] - 9s 48ms/step - loss: 0.2155 - acc: 0.9860 - val_loss: 1.7399 - val_acc: 0.8120\n",
            "Epoch 243/1000\n",
            "187/187 [==============================] - 9s 48ms/step - loss: 0.2687 - acc: 0.9820 - val_loss: 1.3442 - val_acc: 0.8467\n",
            "Epoch 244/1000\n",
            "187/187 [==============================] - 9s 48ms/step - loss: 0.1655 - acc: 0.9890 - val_loss: 1.2064 - val_acc: 0.8580\n",
            "Epoch 245/1000\n",
            "187/187 [==============================] - 11s 58ms/step - loss: 0.1697 - acc: 0.9870 - val_loss: 1.0750 - val_acc: 0.8597\n",
            "Epoch 246/1000\n",
            "187/187 [==============================] - 9s 50ms/step - loss: 0.1599 - acc: 0.9898 - val_loss: 0.9666 - val_acc: 0.8727\n",
            "Epoch 247/1000\n",
            "187/187 [==============================] - 9s 49ms/step - loss: 0.1742 - acc: 0.9874 - val_loss: 1.1747 - val_acc: 0.8653\n",
            "Epoch 248/1000\n",
            "187/187 [==============================] - 9s 49ms/step - loss: 0.1630 - acc: 0.9896 - val_loss: 1.3101 - val_acc: 0.8507\n",
            "Epoch 249/1000\n",
            "187/187 [==============================] - 9s 48ms/step - loss: 0.1608 - acc: 0.9891 - val_loss: 1.2303 - val_acc: 0.8633\n",
            "Epoch 250/1000\n",
            "187/187 [==============================] - 9s 49ms/step - loss: 0.1698 - acc: 0.9896 - val_loss: 1.0325 - val_acc: 0.8573\n",
            "Epoch 251/1000\n",
            "187/187 [==============================] - 9s 49ms/step - loss: 0.1547 - acc: 0.9896 - val_loss: 1.3354 - val_acc: 0.8603\n",
            "Epoch 252/1000\n",
            "187/187 [==============================] - 9s 49ms/step - loss: 0.1626 - acc: 0.9876 - val_loss: 0.9571 - val_acc: 0.8673\n",
            "Epoch 253/1000\n",
            "187/187 [==============================] - 9s 49ms/step - loss: 0.1614 - acc: 0.9893 - val_loss: 1.3437 - val_acc: 0.8660\n",
            "Epoch 254/1000\n",
            "187/187 [==============================] - 9s 49ms/step - loss: 0.1644 - acc: 0.9893 - val_loss: 1.3256 - val_acc: 0.8577\n",
            "Epoch 255/1000\n",
            "187/187 [==============================] - 9s 50ms/step - loss: 0.1671 - acc: 0.9898 - val_loss: 0.9884 - val_acc: 0.8707\n",
            "Epoch 256/1000\n",
            "187/187 [==============================] - 9s 49ms/step - loss: 0.1506 - acc: 0.9906 - val_loss: 1.2276 - val_acc: 0.8583\n",
            "Epoch 257/1000\n",
            "187/187 [==============================] - 9s 49ms/step - loss: 0.1671 - acc: 0.9896 - val_loss: 1.3724 - val_acc: 0.8603\n",
            "Epoch 258/1000\n",
            "187/187 [==============================] - 9s 49ms/step - loss: 0.1568 - acc: 0.9901 - val_loss: 1.0302 - val_acc: 0.8680\n",
            "Epoch 259/1000\n",
            "187/187 [==============================] - 9s 49ms/step - loss: 0.1537 - acc: 0.9896 - val_loss: 0.9357 - val_acc: 0.8520\n",
            "Epoch 260/1000\n",
            "187/187 [==============================] - 9s 49ms/step - loss: 0.1622 - acc: 0.9886 - val_loss: 1.2253 - val_acc: 0.8610\n",
            "Epoch 261/1000\n",
            "187/187 [==============================] - 9s 49ms/step - loss: 0.1675 - acc: 0.9876 - val_loss: 1.0368 - val_acc: 0.8560\n",
            "Epoch 262/1000\n",
            "187/187 [==============================] - 9s 49ms/step - loss: 0.1582 - acc: 0.9905 - val_loss: 1.0462 - val_acc: 0.8723\n",
            "Epoch 263/1000\n",
            "187/187 [==============================] - 9s 49ms/step - loss: 0.1570 - acc: 0.9913 - val_loss: 1.0901 - val_acc: 0.8593\n",
            "Epoch 264/1000\n",
            "187/187 [==============================] - 9s 50ms/step - loss: 0.1535 - acc: 0.9901 - val_loss: 1.1540 - val_acc: 0.8567\n",
            "Epoch 265/1000\n",
            "187/187 [==============================] - 9s 49ms/step - loss: 0.1630 - acc: 0.9880 - val_loss: 1.1720 - val_acc: 0.8520\n",
            "Epoch 266/1000\n",
            "187/187 [==============================] - 9s 49ms/step - loss: 0.1601 - acc: 0.9889 - val_loss: 1.1710 - val_acc: 0.8603\n",
            "Epoch 267/1000\n",
            "187/187 [==============================] - 9s 49ms/step - loss: 0.1559 - acc: 0.9896 - val_loss: 1.1525 - val_acc: 0.8710\n",
            "Epoch 268/1000\n",
            "187/187 [==============================] - 9s 49ms/step - loss: 0.1647 - acc: 0.9888 - val_loss: 0.8051 - val_acc: 0.8797\n",
            "Epoch 269/1000\n",
            "187/187 [==============================] - 9s 49ms/step - loss: 0.1483 - acc: 0.9910 - val_loss: 1.2382 - val_acc: 0.8687\n",
            "Epoch 270/1000\n",
            "187/187 [==============================] - 9s 50ms/step - loss: 0.1585 - acc: 0.9897 - val_loss: 1.2290 - val_acc: 0.8550\n",
            "Epoch 271/1000\n",
            "187/187 [==============================] - 9s 49ms/step - loss: 0.1569 - acc: 0.9909 - val_loss: 1.2604 - val_acc: 0.8643\n",
            "Epoch 272/1000\n",
            "187/187 [==============================] - 9s 50ms/step - loss: 0.6463 - acc: 0.9588 - val_loss: 1.0539 - val_acc: 0.8733\n",
            "Epoch 273/1000\n",
            "187/187 [==============================] - 10s 51ms/step - loss: 0.1507 - acc: 0.9904 - val_loss: 1.1053 - val_acc: 0.8673\n",
            "Epoch 274/1000\n",
            "187/187 [==============================] - 9s 49ms/step - loss: 0.1642 - acc: 0.9892 - val_loss: 1.0534 - val_acc: 0.8673\n",
            "Epoch 275/1000\n",
            "187/187 [==============================] - 9s 49ms/step - loss: 0.1573 - acc: 0.9900 - val_loss: 1.0299 - val_acc: 0.8657\n",
            "Epoch 276/1000\n",
            "187/187 [==============================] - 9s 49ms/step - loss: 0.1623 - acc: 0.9896 - val_loss: 1.3637 - val_acc: 0.8667\n",
            "Epoch 277/1000\n",
            "187/187 [==============================] - 9s 49ms/step - loss: 0.1576 - acc: 0.9913 - val_loss: 0.9456 - val_acc: 0.8673\n",
            "Epoch 278/1000\n",
            "187/187 [==============================] - 9s 49ms/step - loss: 0.1606 - acc: 0.9895 - val_loss: 0.8856 - val_acc: 0.8613\n",
            "Epoch 279/1000\n",
            "187/187 [==============================] - 9s 49ms/step - loss: 0.3645 - acc: 0.9776 - val_loss: 0.9805 - val_acc: 0.8697\n",
            "Epoch 280/1000\n",
            "187/187 [==============================] - 9s 50ms/step - loss: 0.1489 - acc: 0.9902 - val_loss: 0.8871 - val_acc: 0.8717\n",
            "Epoch 281/1000\n",
            "187/187 [==============================] - 9s 51ms/step - loss: 0.1562 - acc: 0.9893 - val_loss: 0.8049 - val_acc: 0.8660\n",
            "Epoch 282/1000\n",
            "187/187 [==============================] - 9s 49ms/step - loss: 0.1476 - acc: 0.9921 - val_loss: 1.2758 - val_acc: 0.8570\n",
            "Epoch 283/1000\n",
            "187/187 [==============================] - 9s 49ms/step - loss: 0.1451 - acc: 0.9926 - val_loss: 1.2194 - val_acc: 0.8623\n",
            "Epoch 284/1000\n",
            "187/187 [==============================] - 9s 49ms/step - loss: 0.1498 - acc: 0.9905 - val_loss: 1.1357 - val_acc: 0.8690\n",
            "Epoch 285/1000\n",
            "187/187 [==============================] - 9s 49ms/step - loss: 0.1481 - acc: 0.9907 - val_loss: 1.0414 - val_acc: 0.8703\n",
            "Epoch 286/1000\n",
            "187/187 [==============================] - 9s 49ms/step - loss: 0.1767 - acc: 0.9888 - val_loss: 1.0118 - val_acc: 0.8723\n",
            "Epoch 287/1000\n",
            "187/187 [==============================] - 9s 49ms/step - loss: 0.1706 - acc: 0.9874 - val_loss: 1.0709 - val_acc: 0.8587\n",
            "Epoch 288/1000\n",
            "187/187 [==============================] - 9s 49ms/step - loss: 0.1494 - acc: 0.9908 - val_loss: 1.2995 - val_acc: 0.8640\n",
            "Epoch 289/1000\n",
            "187/187 [==============================] - 9s 49ms/step - loss: 0.1610 - acc: 0.9891 - val_loss: 1.1094 - val_acc: 0.8703\n",
            "Epoch 290/1000\n",
            "187/187 [==============================] - 9s 50ms/step - loss: 0.1672 - acc: 0.9895 - val_loss: 1.4538 - val_acc: 0.8673\n",
            "Epoch 291/1000\n",
            "187/187 [==============================] - 9s 49ms/step - loss: 0.1655 - acc: 0.9885 - val_loss: 0.9973 - val_acc: 0.8627\n",
            "Epoch 292/1000\n",
            "187/187 [==============================] - 9s 49ms/step - loss: 0.1565 - acc: 0.9895 - val_loss: 1.1853 - val_acc: 0.8630\n",
            "Epoch 293/1000\n",
            "187/187 [==============================] - 9s 49ms/step - loss: 0.1562 - acc: 0.9906 - val_loss: 1.3285 - val_acc: 0.8667\n",
            "Epoch 294/1000\n",
            "187/187 [==============================] - 9s 49ms/step - loss: 0.1661 - acc: 0.9893 - val_loss: 1.0429 - val_acc: 0.8703\n",
            "Epoch 295/1000\n",
            "187/187 [==============================] - 9s 49ms/step - loss: 0.2365 - acc: 0.9832 - val_loss: 1.2252 - val_acc: 0.8653\n",
            "Epoch 296/1000\n",
            "187/187 [==============================] - 9s 49ms/step - loss: 0.1439 - acc: 0.9916 - val_loss: 0.9136 - val_acc: 0.8743\n",
            "Epoch 297/1000\n",
            "187/187 [==============================] - 9s 49ms/step - loss: 0.1628 - acc: 0.9896 - val_loss: 1.3730 - val_acc: 0.8660\n",
            "Epoch 298/1000\n",
            "187/187 [==============================] - 9s 49ms/step - loss: 0.1497 - acc: 0.9908 - val_loss: 1.3869 - val_acc: 0.8687\n",
            "Epoch 299/1000\n",
            "187/187 [==============================] - 9s 49ms/step - loss: 0.1932 - acc: 0.9871 - val_loss: 1.1552 - val_acc: 0.8583\n",
            "Epoch 300/1000\n",
            "187/187 [==============================] - 9s 49ms/step - loss: 0.1479 - acc: 0.9911 - val_loss: 1.0284 - val_acc: 0.8657\n",
            "Epoch 301/1000\n",
            "187/187 [==============================] - 9s 49ms/step - loss: 0.1508 - acc: 0.9903 - val_loss: 1.5042 - val_acc: 0.8433\n",
            "Epoch 302/1000\n",
            "187/187 [==============================] - 9s 49ms/step - loss: 0.1351 - acc: 0.9938 - val_loss: 1.3338 - val_acc: 0.8647\n",
            "Epoch 303/1000\n",
            "187/187 [==============================] - 9s 48ms/step - loss: 0.1344 - acc: 0.9957 - val_loss: 1.1956 - val_acc: 0.8703\n",
            "Epoch 304/1000\n",
            "187/187 [==============================] - 9s 49ms/step - loss: 0.1252 - acc: 0.9960 - val_loss: 1.2632 - val_acc: 0.8663\n",
            "Epoch 305/1000\n",
            "187/187 [==============================] - 9s 48ms/step - loss: 0.1285 - acc: 0.9959 - val_loss: 1.2155 - val_acc: 0.8693\n",
            "Epoch 306/1000\n",
            "187/187 [==============================] - 9s 49ms/step - loss: 0.1280 - acc: 0.9958 - val_loss: 1.2832 - val_acc: 0.8737\n",
            "Epoch 307/1000\n",
            "187/187 [==============================] - 9s 51ms/step - loss: 0.1209 - acc: 0.9972 - val_loss: 1.4474 - val_acc: 0.8750\n",
            "Epoch 308/1000\n",
            "187/187 [==============================] - 9s 50ms/step - loss: 0.1276 - acc: 0.9962 - val_loss: 1.1818 - val_acc: 0.8780\n",
            "Epoch 309/1000\n",
            "187/187 [==============================] - 9s 49ms/step - loss: 0.1232 - acc: 0.9974 - val_loss: 1.2222 - val_acc: 0.8760\n",
            "Epoch 310/1000\n",
            "187/187 [==============================] - 9s 49ms/step - loss: 0.1301 - acc: 0.9967 - val_loss: 1.2415 - val_acc: 0.8770\n",
            "Epoch 311/1000\n",
            "187/187 [==============================] - 9s 49ms/step - loss: 0.1288 - acc: 0.9960 - val_loss: 1.2728 - val_acc: 0.8783\n",
            "Epoch 312/1000\n",
            "187/187 [==============================] - 9s 49ms/step - loss: 0.1222 - acc: 0.9974 - val_loss: 1.5857 - val_acc: 0.8763\n",
            "Epoch 313/1000\n",
            "187/187 [==============================] - 9s 50ms/step - loss: 0.1202 - acc: 0.9970 - val_loss: 1.3460 - val_acc: 0.8753\n",
            "Epoch 314/1000\n",
            "187/187 [==============================] - 9s 49ms/step - loss: 0.1233 - acc: 0.9971 - val_loss: 1.3623 - val_acc: 0.8787\n",
            "Epoch 315/1000\n",
            "187/187 [==============================] - 9s 49ms/step - loss: 0.1163 - acc: 0.9977 - val_loss: 1.3807 - val_acc: 0.8767\n",
            "Epoch 316/1000\n",
            "187/187 [==============================] - 9s 50ms/step - loss: 0.1180 - acc: 0.9977 - val_loss: 1.4474 - val_acc: 0.8747\n",
            "Epoch 317/1000\n",
            "187/187 [==============================] - 9s 49ms/step - loss: 0.1232 - acc: 0.9968 - val_loss: 1.4835 - val_acc: 0.8687\n",
            "Epoch 318/1000\n",
            "187/187 [==============================] - 9s 49ms/step - loss: 0.1229 - acc: 0.9968 - val_loss: 1.3413 - val_acc: 0.8757\n",
            "Epoch 319/1000\n",
            "187/187 [==============================] - 9s 49ms/step - loss: 0.1202 - acc: 0.9970 - val_loss: 1.3246 - val_acc: 0.8773\n",
            "Epoch 320/1000\n",
            "187/187 [==============================] - 9s 49ms/step - loss: 0.1214 - acc: 0.9970 - val_loss: 1.1984 - val_acc: 0.8827\n",
            "Epoch 321/1000\n",
            "187/187 [==============================] - 9s 49ms/step - loss: 0.1212 - acc: 0.9975 - val_loss: 1.5393 - val_acc: 0.8757\n",
            "Epoch 322/1000\n",
            "187/187 [==============================] - 9s 49ms/step - loss: 0.1205 - acc: 0.9967 - val_loss: 1.6009 - val_acc: 0.8783\n",
            "Epoch 323/1000\n",
            "187/187 [==============================] - 9s 49ms/step - loss: 0.1200 - acc: 0.9974 - val_loss: 1.3981 - val_acc: 0.8807\n",
            "Epoch 324/1000\n",
            "187/187 [==============================] - 9s 49ms/step - loss: 0.1297 - acc: 0.9971 - val_loss: 1.4082 - val_acc: 0.8777\n",
            "Epoch 325/1000\n",
            "187/187 [==============================] - 9s 50ms/step - loss: 0.1203 - acc: 0.9977 - val_loss: 1.4682 - val_acc: 0.8763\n",
            "Epoch 326/1000\n",
            "187/187 [==============================] - 9s 49ms/step - loss: 0.1186 - acc: 0.9977 - val_loss: 1.5378 - val_acc: 0.8757\n",
            "Epoch 327/1000\n",
            "187/187 [==============================] - 9s 49ms/step - loss: 0.1179 - acc: 0.9977 - val_loss: 1.3563 - val_acc: 0.8750\n",
            "Epoch 328/1000\n",
            "187/187 [==============================] - 9s 49ms/step - loss: 0.1195 - acc: 0.9967 - val_loss: 1.3490 - val_acc: 0.8767\n",
            "Epoch 329/1000\n",
            "187/187 [==============================] - 9s 49ms/step - loss: 0.1181 - acc: 0.9972 - val_loss: 1.4232 - val_acc: 0.8767\n",
            "Epoch 330/1000\n",
            "187/187 [==============================] - 9s 49ms/step - loss: 0.1133 - acc: 0.9976 - val_loss: 1.4269 - val_acc: 0.8747\n",
            "Epoch 331/1000\n",
            "187/187 [==============================] - 9s 49ms/step - loss: 0.1178 - acc: 0.9973 - val_loss: 1.5168 - val_acc: 0.8710\n",
            "Epoch 332/1000\n",
            "187/187 [==============================] - 9s 49ms/step - loss: 0.1182 - acc: 0.9977 - val_loss: 1.6250 - val_acc: 0.8767\n",
            "Epoch 333/1000\n",
            "187/187 [==============================] - 9s 49ms/step - loss: 0.1197 - acc: 0.9972 - val_loss: 1.4875 - val_acc: 0.8777\n",
            "Epoch 334/1000\n",
            "187/187 [==============================] - 9s 50ms/step - loss: 0.1166 - acc: 0.9975 - val_loss: 1.5425 - val_acc: 0.8773\n",
            "Epoch 335/1000\n",
            "187/187 [==============================] - 9s 49ms/step - loss: 0.1170 - acc: 0.9975 - val_loss: 1.5610 - val_acc: 0.8737\n",
            "Epoch 336/1000\n",
            "187/187 [==============================] - 9s 49ms/step - loss: 0.1180 - acc: 0.9971 - val_loss: 1.3050 - val_acc: 0.8730\n",
            "Epoch 337/1000\n",
            "187/187 [==============================] - 9s 49ms/step - loss: 0.1182 - acc: 0.9974 - val_loss: 1.5248 - val_acc: 0.8740\n",
            "Epoch 338/1000\n",
            "187/187 [==============================] - 9s 49ms/step - loss: 0.1152 - acc: 0.9972 - val_loss: 1.4239 - val_acc: 0.8703\n",
            "Epoch 339/1000\n",
            "187/187 [==============================] - 9s 48ms/step - loss: 0.1121 - acc: 0.9978 - val_loss: 1.3277 - val_acc: 0.8767\n",
            "Epoch 340/1000\n",
            "187/187 [==============================] - 9s 49ms/step - loss: 0.1109 - acc: 0.9984 - val_loss: 1.5232 - val_acc: 0.8727\n",
            "Epoch 341/1000\n",
            "187/187 [==============================] - 9s 50ms/step - loss: 0.1149 - acc: 0.9977 - val_loss: 1.4451 - val_acc: 0.8760\n",
            "Epoch 342/1000\n",
            "187/187 [==============================] - 9s 50ms/step - loss: 0.1109 - acc: 0.9982 - val_loss: 1.5464 - val_acc: 0.8733\n",
            "Epoch 343/1000\n",
            "187/187 [==============================] - 9s 50ms/step - loss: 0.1114 - acc: 0.9973 - val_loss: 1.5716 - val_acc: 0.8693\n",
            "Epoch 344/1000\n",
            "187/187 [==============================] - 9s 50ms/step - loss: 0.1169 - acc: 0.9971 - val_loss: 1.3710 - val_acc: 0.8750\n",
            "Epoch 345/1000\n",
            "187/187 [==============================] - 9s 49ms/step - loss: 0.1084 - acc: 0.9978 - val_loss: 1.5621 - val_acc: 0.8713\n",
            "Epoch 346/1000\n",
            "187/187 [==============================] - 9s 50ms/step - loss: 0.1126 - acc: 0.9975 - val_loss: 1.3743 - val_acc: 0.8640\n",
            "Epoch 347/1000\n",
            "187/187 [==============================] - 9s 49ms/step - loss: 0.1132 - acc: 0.9976 - val_loss: 1.4688 - val_acc: 0.8650\n",
            "Epoch 348/1000\n",
            "187/187 [==============================] - 9s 49ms/step - loss: 0.1119 - acc: 0.9972 - val_loss: 1.2403 - val_acc: 0.8707\n",
            "Epoch 349/1000\n",
            "187/187 [==============================] - 9s 50ms/step - loss: 0.1118 - acc: 0.9977 - val_loss: 1.5395 - val_acc: 0.8753\n",
            "Epoch 350/1000\n",
            "187/187 [==============================] - 9s 49ms/step - loss: 0.1083 - acc: 0.9977 - val_loss: 1.3138 - val_acc: 0.8780\n",
            "Epoch 351/1000\n",
            "187/187 [==============================] - 9s 50ms/step - loss: 0.1122 - acc: 0.9977 - val_loss: 1.3867 - val_acc: 0.8780\n",
            "Epoch 352/1000\n",
            "187/187 [==============================] - 9s 49ms/step - loss: 0.1069 - acc: 0.9986 - val_loss: 1.5304 - val_acc: 0.8743\n",
            "Epoch 353/1000\n",
            "187/187 [==============================] - 9s 49ms/step - loss: 0.1107 - acc: 0.9982 - val_loss: 1.3952 - val_acc: 0.8780\n",
            "Epoch 354/1000\n",
            "187/187 [==============================] - 9s 49ms/step - loss: 0.1097 - acc: 0.9977 - val_loss: 1.3630 - val_acc: 0.8767\n",
            "Epoch 355/1000\n",
            "187/187 [==============================] - 9s 48ms/step - loss: 0.1094 - acc: 0.9979 - val_loss: 1.4561 - val_acc: 0.8673\n",
            "Epoch 356/1000\n",
            "187/187 [==============================] - 9s 49ms/step - loss: 0.1118 - acc: 0.9976 - val_loss: 1.3627 - val_acc: 0.8733\n",
            "Epoch 357/1000\n",
            "187/187 [==============================] - 9s 49ms/step - loss: 0.1087 - acc: 0.9976 - val_loss: 1.2940 - val_acc: 0.8817\n",
            "Epoch 358/1000\n",
            "187/187 [==============================] - 9s 49ms/step - loss: 0.1108 - acc: 0.9977 - val_loss: 1.4484 - val_acc: 0.8780\n",
            "Epoch 359/1000\n",
            "187/187 [==============================] - 9s 49ms/step - loss: 0.1097 - acc: 0.9987 - val_loss: 1.7408 - val_acc: 0.8773\n",
            "Epoch 360/1000\n",
            "187/187 [==============================] - 9s 50ms/step - loss: 0.1123 - acc: 0.9976 - val_loss: 1.4363 - val_acc: 0.8740\n",
            "Epoch 361/1000\n",
            "187/187 [==============================] - 9s 49ms/step - loss: 0.1059 - acc: 0.9979 - val_loss: 1.5180 - val_acc: 0.8723\n",
            "Epoch 362/1000\n",
            "187/187 [==============================] - 9s 49ms/step - loss: 0.1144 - acc: 0.9972 - val_loss: 1.3720 - val_acc: 0.8770\n",
            "Epoch 363/1000\n",
            "187/187 [==============================] - 9s 49ms/step - loss: 0.1073 - acc: 0.9980 - val_loss: 1.4052 - val_acc: 0.8780\n",
            "Epoch 364/1000\n",
            "187/187 [==============================] - 9s 49ms/step - loss: 0.1102 - acc: 0.9976 - val_loss: 1.4327 - val_acc: 0.8827\n",
            "Epoch 365/1000\n",
            "187/187 [==============================] - 9s 49ms/step - loss: 0.1074 - acc: 0.9978 - val_loss: 1.2679 - val_acc: 0.8790\n",
            "Epoch 366/1000\n",
            "187/187 [==============================] - 9s 49ms/step - loss: 0.1063 - acc: 0.9983 - val_loss: 1.4569 - val_acc: 0.8700\n",
            "Epoch 367/1000\n",
            "187/187 [==============================] - 9s 48ms/step - loss: 0.1052 - acc: 0.9984 - val_loss: 1.4429 - val_acc: 0.8710\n",
            "Epoch 368/1000\n",
            "187/187 [==============================] - 9s 49ms/step - loss: 0.1092 - acc: 0.9972 - val_loss: 1.2855 - val_acc: 0.8720\n",
            "Epoch 369/1000\n",
            "187/187 [==============================] - 9s 50ms/step - loss: 0.1080 - acc: 0.9975 - val_loss: 1.2575 - val_acc: 0.8633\n",
            "Epoch 370/1000\n",
            "187/187 [==============================] - 9s 49ms/step - loss: 0.1089 - acc: 0.9983 - val_loss: 1.5978 - val_acc: 0.8650\n",
            "Epoch 371/1000\n",
            "187/187 [==============================] - 9s 49ms/step - loss: 0.1047 - acc: 0.9986 - val_loss: 1.6593 - val_acc: 0.8693\n",
            "Epoch 372/1000\n",
            "187/187 [==============================] - 9s 49ms/step - loss: 0.1106 - acc: 0.9972 - val_loss: 1.4371 - val_acc: 0.8763\n",
            "Epoch 373/1000\n",
            "187/187 [==============================] - 9s 49ms/step - loss: 0.1062 - acc: 0.9976 - val_loss: 1.4062 - val_acc: 0.8770\n",
            "Epoch 374/1000\n",
            "187/187 [==============================] - 9s 50ms/step - loss: 0.1111 - acc: 0.9970 - val_loss: 1.4323 - val_acc: 0.8790\n",
            "Epoch 375/1000\n",
            "187/187 [==============================] - 9s 49ms/step - loss: 0.1066 - acc: 0.9977 - val_loss: 1.5133 - val_acc: 0.8790\n",
            "Epoch 376/1000\n",
            "187/187 [==============================] - 9s 50ms/step - loss: 0.1088 - acc: 0.9972 - val_loss: 1.3772 - val_acc: 0.8743\n",
            "Epoch 377/1000\n",
            "187/187 [==============================] - 9s 50ms/step - loss: 0.1052 - acc: 0.9980 - val_loss: 1.5274 - val_acc: 0.8750\n",
            "Epoch 378/1000\n",
            "187/187 [==============================] - 9s 49ms/step - loss: 0.1039 - acc: 0.9981 - val_loss: 1.3092 - val_acc: 0.8797\n",
            "Epoch 379/1000\n",
            "187/187 [==============================] - 9s 50ms/step - loss: 0.1026 - acc: 0.9979 - val_loss: 1.4245 - val_acc: 0.8750\n",
            "Epoch 380/1000\n",
            "187/187 [==============================] - 9s 49ms/step - loss: 0.1074 - acc: 0.9973 - val_loss: 1.4444 - val_acc: 0.8753\n",
            "Epoch 381/1000\n",
            "187/187 [==============================] - 9s 49ms/step - loss: 0.1042 - acc: 0.9979 - val_loss: 1.5501 - val_acc: 0.8727\n",
            "Epoch 382/1000\n",
            "187/187 [==============================] - 9s 49ms/step - loss: 0.1048 - acc: 0.9987 - val_loss: 1.5439 - val_acc: 0.8743\n",
            "Epoch 383/1000\n",
            "187/187 [==============================] - 9s 49ms/step - loss: 0.1066 - acc: 0.9973 - val_loss: 1.4885 - val_acc: 0.8743\n",
            "Epoch 384/1000\n",
            "187/187 [==============================] - 9s 49ms/step - loss: 0.1076 - acc: 0.9980 - val_loss: 1.7144 - val_acc: 0.8643\n",
            "Epoch 385/1000\n",
            "187/187 [==============================] - 9s 49ms/step - loss: 0.1221 - acc: 0.9972 - val_loss: 1.5081 - val_acc: 0.8657\n",
            "Epoch 386/1000\n",
            "187/187 [==============================] - 9s 50ms/step - loss: 0.1052 - acc: 0.9977 - val_loss: 1.3279 - val_acc: 0.8740\n",
            "Epoch 387/1000\n",
            "187/187 [==============================] - 9s 49ms/step - loss: 0.1053 - acc: 0.9978 - val_loss: 1.4708 - val_acc: 0.8717\n",
            "Epoch 388/1000\n",
            "187/187 [==============================] - 9s 48ms/step - loss: 0.1080 - acc: 0.9972 - val_loss: 1.2663 - val_acc: 0.8707\n",
            "Epoch 389/1000\n",
            "187/187 [==============================] - 9s 49ms/step - loss: 0.1020 - acc: 0.9977 - val_loss: 1.1708 - val_acc: 0.8673\n",
            "Epoch 390/1000\n",
            "187/187 [==============================] - 9s 48ms/step - loss: 0.1053 - acc: 0.9977 - val_loss: 1.3787 - val_acc: 0.8740\n",
            "Epoch 391/1000\n",
            "187/187 [==============================] - 9s 49ms/step - loss: 0.1020 - acc: 0.9976 - val_loss: 1.5434 - val_acc: 0.8697\n",
            "Epoch 392/1000\n",
            "187/187 [==============================] - 9s 48ms/step - loss: 0.1020 - acc: 0.9990 - val_loss: 1.8402 - val_acc: 0.8700\n",
            "Epoch 393/1000\n",
            "187/187 [==============================] - 9s 48ms/step - loss: 0.1120 - acc: 0.9975 - val_loss: 1.4508 - val_acc: 0.8750\n",
            "Epoch 394/1000\n",
            "187/187 [==============================] - 9s 48ms/step - loss: 0.1083 - acc: 0.9972 - val_loss: 1.6315 - val_acc: 0.8653\n",
            "Epoch 395/1000\n",
            "187/187 [==============================] - 9s 49ms/step - loss: 0.1031 - acc: 0.9976 - val_loss: 1.6540 - val_acc: 0.8743\n",
            "Epoch 396/1000\n",
            "187/187 [==============================] - 9s 48ms/step - loss: 0.1123 - acc: 0.9974 - val_loss: 1.4215 - val_acc: 0.8753\n",
            "Epoch 397/1000\n",
            "187/187 [==============================] - 9s 48ms/step - loss: 0.1103 - acc: 0.9976 - val_loss: 1.5969 - val_acc: 0.8710\n",
            "Epoch 398/1000\n",
            "187/187 [==============================] - 9s 48ms/step - loss: 0.1071 - acc: 0.9976 - val_loss: 1.5302 - val_acc: 0.8710\n",
            "Epoch 399/1000\n",
            "187/187 [==============================] - 9s 48ms/step - loss: 0.1051 - acc: 0.9982 - val_loss: 1.5974 - val_acc: 0.8687\n",
            "Epoch 400/1000\n",
            "187/187 [==============================] - 9s 48ms/step - loss: 0.0963 - acc: 0.9984 - val_loss: 1.7630 - val_acc: 0.8700\n",
            "Epoch 401/1000\n",
            "187/187 [==============================] - 9s 48ms/step - loss: 0.1075 - acc: 0.9975 - val_loss: 1.4814 - val_acc: 0.8780\n",
            "Epoch 402/1000\n",
            "187/187 [==============================] - 9s 48ms/step - loss: 0.1029 - acc: 0.9972 - val_loss: 1.5447 - val_acc: 0.8750\n",
            "Epoch 403/1000\n",
            "187/187 [==============================] - 9s 49ms/step - loss: 0.0987 - acc: 0.9979 - val_loss: 1.5195 - val_acc: 0.8737\n",
            "Epoch 404/1000\n",
            "187/187 [==============================] - 9s 49ms/step - loss: 0.0970 - acc: 0.9986 - val_loss: 1.6038 - val_acc: 0.8713\n",
            "Epoch 405/1000\n",
            "187/187 [==============================] - 9s 48ms/step - loss: 0.1029 - acc: 0.9975 - val_loss: 1.4556 - val_acc: 0.8723\n",
            "Epoch 406/1000\n",
            "187/187 [==============================] - 9s 48ms/step - loss: 0.1054 - acc: 0.9973 - val_loss: 1.3205 - val_acc: 0.8680\n",
            "Epoch 407/1000\n",
            "187/187 [==============================] - 9s 48ms/step - loss: 0.1015 - acc: 0.9977 - val_loss: 1.5135 - val_acc: 0.8670\n",
            "Epoch 408/1000\n",
            "187/187 [==============================] - 9s 49ms/step - loss: 0.0980 - acc: 0.9987 - val_loss: 1.7301 - val_acc: 0.8613\n",
            "Epoch 409/1000\n",
            "187/187 [==============================] - 9s 49ms/step - loss: 0.0990 - acc: 0.9979 - val_loss: 1.6104 - val_acc: 0.8697\n",
            "Epoch 410/1000\n",
            "187/187 [==============================] - 9s 48ms/step - loss: 0.1019 - acc: 0.9977 - val_loss: 1.3808 - val_acc: 0.8743\n",
            "Epoch 411/1000\n",
            "187/187 [==============================] - 9s 48ms/step - loss: 0.0932 - acc: 0.9988 - val_loss: 1.6591 - val_acc: 0.8730\n",
            "Epoch 412/1000\n",
            "187/187 [==============================] - 9s 49ms/step - loss: 0.1056 - acc: 0.9970 - val_loss: 1.6056 - val_acc: 0.8673\n",
            "Epoch 413/1000\n",
            "187/187 [==============================] - 9s 49ms/step - loss: 0.0981 - acc: 0.9984 - val_loss: 1.3746 - val_acc: 0.8740\n",
            "Epoch 414/1000\n",
            "187/187 [==============================] - 9s 48ms/step - loss: 0.1050 - acc: 0.9977 - val_loss: 1.5028 - val_acc: 0.8760\n",
            "Epoch 415/1000\n",
            "187/187 [==============================] - 9s 48ms/step - loss: 0.0984 - acc: 0.9980 - val_loss: 1.5372 - val_acc: 0.8693\n",
            "Epoch 416/1000\n",
            "187/187 [==============================] - 9s 48ms/step - loss: 0.1005 - acc: 0.9974 - val_loss: 1.5518 - val_acc: 0.8753\n",
            "Epoch 417/1000\n",
            "187/187 [==============================] - 9s 48ms/step - loss: 0.1020 - acc: 0.9970 - val_loss: 1.5611 - val_acc: 0.8733\n",
            "Epoch 418/1000\n",
            "187/187 [==============================] - 9s 48ms/step - loss: 0.0971 - acc: 0.9983 - val_loss: 1.5576 - val_acc: 0.8757\n",
            "Epoch 419/1000\n",
            "187/187 [==============================] - 9s 48ms/step - loss: 0.0969 - acc: 0.9985 - val_loss: 1.7744 - val_acc: 0.8723\n",
            "Epoch 420/1000\n",
            "187/187 [==============================] - 9s 48ms/step - loss: 0.0966 - acc: 0.9980 - val_loss: 1.5488 - val_acc: 0.8743\n",
            "Epoch 421/1000\n",
            "187/187 [==============================] - 9s 49ms/step - loss: 0.1027 - acc: 0.9975 - val_loss: 1.4525 - val_acc: 0.8787\n",
            "Epoch 422/1000\n",
            "187/187 [==============================] - 9s 49ms/step - loss: 0.1019 - acc: 0.9976 - val_loss: 1.4150 - val_acc: 0.8743\n",
            "Epoch 423/1000\n",
            "187/187 [==============================] - 9s 48ms/step - loss: 0.1025 - acc: 0.9980 - val_loss: 1.7418 - val_acc: 0.8730\n",
            "Epoch 424/1000\n",
            "187/187 [==============================] - 9s 49ms/step - loss: 0.1040 - acc: 0.9973 - val_loss: 1.5792 - val_acc: 0.8763\n",
            "Epoch 425/1000\n",
            "187/187 [==============================] - 9s 49ms/step - loss: 0.1106 - acc: 0.9963 - val_loss: 1.4082 - val_acc: 0.8697\n",
            "Epoch 426/1000\n",
            "187/187 [==============================] - 9s 49ms/step - loss: 0.0956 - acc: 0.9977 - val_loss: 1.5542 - val_acc: 0.8743\n",
            "Epoch 427/1000\n",
            "187/187 [==============================] - 9s 49ms/step - loss: 0.1052 - acc: 0.9972 - val_loss: 1.4514 - val_acc: 0.8760\n",
            "Epoch 428/1000\n",
            "187/187 [==============================] - 9s 49ms/step - loss: 0.0972 - acc: 0.9978 - val_loss: 1.2558 - val_acc: 0.8817\n",
            "Epoch 429/1000\n",
            "187/187 [==============================] - 9s 49ms/step - loss: 0.1027 - acc: 0.9982 - val_loss: 1.5505 - val_acc: 0.8790\n",
            "Epoch 430/1000\n",
            "187/187 [==============================] - 9s 50ms/step - loss: 0.1045 - acc: 0.9977 - val_loss: 1.3824 - val_acc: 0.8770\n",
            "Epoch 431/1000\n",
            "187/187 [==============================] - 9s 49ms/step - loss: 0.1046 - acc: 0.9971 - val_loss: 1.4218 - val_acc: 0.8727\n",
            "Epoch 432/1000\n",
            "187/187 [==============================] - 9s 49ms/step - loss: 0.0997 - acc: 0.9977 - val_loss: 1.7386 - val_acc: 0.8687\n",
            "Epoch 433/1000\n",
            "187/187 [==============================] - 9s 49ms/step - loss: 0.1082 - acc: 0.9967 - val_loss: 1.4527 - val_acc: 0.8743\n",
            "Epoch 434/1000\n",
            "187/187 [==============================] - 9s 49ms/step - loss: 0.0993 - acc: 0.9974 - val_loss: 1.4998 - val_acc: 0.8683\n",
            "Epoch 435/1000\n",
            "187/187 [==============================] - 9s 49ms/step - loss: 0.0966 - acc: 0.9978 - val_loss: 1.5780 - val_acc: 0.8780\n",
            "Epoch 436/1000\n",
            "187/187 [==============================] - 9s 49ms/step - loss: 0.1000 - acc: 0.9978 - val_loss: 1.6895 - val_acc: 0.8720\n",
            "Epoch 437/1000\n",
            "187/187 [==============================] - 9s 49ms/step - loss: 0.1020 - acc: 0.9977 - val_loss: 1.5928 - val_acc: 0.8670\n",
            "Epoch 438/1000\n",
            "187/187 [==============================] - 9s 49ms/step - loss: 0.1932 - acc: 0.9918 - val_loss: 1.5932 - val_acc: 0.8600\n",
            "Epoch 439/1000\n",
            "187/187 [==============================] - 9s 50ms/step - loss: 0.1016 - acc: 0.9976 - val_loss: 1.5118 - val_acc: 0.8727\n",
            "Epoch 440/1000\n",
            "187/187 [==============================] - 9s 49ms/step - loss: 0.0959 - acc: 0.9980 - val_loss: 1.4783 - val_acc: 0.8713\n",
            "Epoch 441/1000\n",
            "187/187 [==============================] - 9s 49ms/step - loss: 0.0978 - acc: 0.9977 - val_loss: 1.6239 - val_acc: 0.8760\n",
            "Epoch 442/1000\n",
            "187/187 [==============================] - 9s 51ms/step - loss: 0.0955 - acc: 0.9980 - val_loss: 1.7751 - val_acc: 0.8717\n",
            "Epoch 443/1000\n",
            "187/187 [==============================] - 9s 50ms/step - loss: 0.1023 - acc: 0.9970 - val_loss: 1.2875 - val_acc: 0.8807\n",
            "Epoch 444/1000\n",
            "187/187 [==============================] - 9s 49ms/step - loss: 0.0957 - acc: 0.9974 - val_loss: 1.4561 - val_acc: 0.8673\n",
            "Epoch 445/1000\n",
            "187/187 [==============================] - 9s 49ms/step - loss: 0.0975 - acc: 0.9976 - val_loss: 1.5587 - val_acc: 0.8747\n",
            "Epoch 446/1000\n",
            "187/187 [==============================] - 9s 50ms/step - loss: 0.0931 - acc: 0.9980 - val_loss: 1.5354 - val_acc: 0.8727\n",
            "Epoch 447/1000\n",
            "187/187 [==============================] - 9s 50ms/step - loss: 0.0925 - acc: 0.9976 - val_loss: 1.6181 - val_acc: 0.8753\n",
            "Epoch 448/1000\n",
            "187/187 [==============================] - 9s 50ms/step - loss: 0.0961 - acc: 0.9981 - val_loss: 1.7833 - val_acc: 0.8527\n",
            "Epoch 449/1000\n",
            "187/187 [==============================] - 9s 49ms/step - loss: 0.0954 - acc: 0.9971 - val_loss: 1.3717 - val_acc: 0.8740\n",
            "Epoch 450/1000\n",
            "187/187 [==============================] - 9s 49ms/step - loss: 0.0942 - acc: 0.9977 - val_loss: 1.6180 - val_acc: 0.8773\n",
            "Epoch 451/1000\n",
            "187/187 [==============================] - 9s 49ms/step - loss: 0.0976 - acc: 0.9972 - val_loss: 1.3464 - val_acc: 0.8777\n",
            "Epoch 452/1000\n",
            "187/187 [==============================] - 9s 49ms/step - loss: 0.1264 - acc: 0.9956 - val_loss: 1.5440 - val_acc: 0.8750\n",
            "Epoch 453/1000\n",
            "187/187 [==============================] - 9s 49ms/step - loss: 0.0952 - acc: 0.9978 - val_loss: 1.7178 - val_acc: 0.8703\n",
            "Epoch 454/1000\n",
            "187/187 [==============================] - 9s 49ms/step - loss: 0.1007 - acc: 0.9978 - val_loss: 1.5720 - val_acc: 0.8783\n",
            "Epoch 455/1000\n",
            "187/187 [==============================] - 9s 49ms/step - loss: 0.0928 - acc: 0.9975 - val_loss: 1.4387 - val_acc: 0.8787\n",
            "Epoch 456/1000\n",
            "187/187 [==============================] - 9s 50ms/step - loss: 0.0911 - acc: 0.9984 - val_loss: 1.7855 - val_acc: 0.8713\n",
            "Epoch 457/1000\n",
            "187/187 [==============================] - 9s 50ms/step - loss: 0.1027 - acc: 0.9972 - val_loss: 1.6952 - val_acc: 0.8703\n",
            "Epoch 458/1000\n",
            "187/187 [==============================] - 9s 49ms/step - loss: 0.0988 - acc: 0.9969 - val_loss: 1.3544 - val_acc: 0.8727\n",
            "Epoch 459/1000\n",
            "187/187 [==============================] - 9s 49ms/step - loss: 0.0913 - acc: 0.9980 - val_loss: 1.6510 - val_acc: 0.8713\n",
            "Epoch 460/1000\n",
            "187/187 [==============================] - 9s 49ms/step - loss: 0.0955 - acc: 0.9975 - val_loss: 1.5935 - val_acc: 0.8707\n",
            "Epoch 461/1000\n",
            "187/187 [==============================] - 9s 49ms/step - loss: 0.0932 - acc: 0.9974 - val_loss: 1.8281 - val_acc: 0.8677\n",
            "Epoch 462/1000\n",
            "187/187 [==============================] - 9s 49ms/step - loss: 0.1487 - acc: 0.9946 - val_loss: 2.0827 - val_acc: 0.8380\n",
            "Epoch 463/1000\n",
            "187/187 [==============================] - 9s 49ms/step - loss: 0.2054 - acc: 0.9913 - val_loss: 1.5746 - val_acc: 0.8687\n",
            "Epoch 464/1000\n",
            "187/187 [==============================] - 9s 49ms/step - loss: 0.0935 - acc: 0.9980 - val_loss: 1.4996 - val_acc: 0.8753\n",
            "Epoch 465/1000\n",
            "187/187 [==============================] - 9s 50ms/step - loss: 0.0928 - acc: 0.9978 - val_loss: 1.6840 - val_acc: 0.8670\n",
            "Epoch 466/1000\n",
            "187/187 [==============================] - 9s 50ms/step - loss: 0.0997 - acc: 0.9978 - val_loss: 1.6928 - val_acc: 0.8713\n",
            "Epoch 467/1000\n",
            "187/187 [==============================] - 9s 49ms/step - loss: 0.0989 - acc: 0.9972 - val_loss: 1.3682 - val_acc: 0.8713\n",
            "Epoch 468/1000\n",
            "187/187 [==============================] - 9s 49ms/step - loss: 0.0930 - acc: 0.9979 - val_loss: 1.5169 - val_acc: 0.8737\n",
            "Epoch 469/1000\n",
            "187/187 [==============================] - 9s 49ms/step - loss: 0.1008 - acc: 0.9973 - val_loss: 1.7403 - val_acc: 0.8677\n",
            "Epoch 470/1000\n",
            "187/187 [==============================] - 9s 49ms/step - loss: 0.0936 - acc: 0.9975 - val_loss: 1.5147 - val_acc: 0.8810\n",
            "Epoch 471/1000\n",
            "187/187 [==============================] - 9s 49ms/step - loss: 0.0954 - acc: 0.9983 - val_loss: 1.4107 - val_acc: 0.8843\n",
            "Epoch 472/1000\n",
            "187/187 [==============================] - 9s 49ms/step - loss: 0.0951 - acc: 0.9976 - val_loss: 1.5136 - val_acc: 0.8720\n",
            "Epoch 473/1000\n",
            "187/187 [==============================] - 9s 49ms/step - loss: 0.1014 - acc: 0.9973 - val_loss: 1.4322 - val_acc: 0.8753\n",
            "Epoch 474/1000\n",
            "187/187 [==============================] - 9s 50ms/step - loss: 0.1046 - acc: 0.9965 - val_loss: 1.3666 - val_acc: 0.8770\n",
            "Epoch 475/1000\n",
            "187/187 [==============================] - 9s 49ms/step - loss: 0.0913 - acc: 0.9975 - val_loss: 1.4545 - val_acc: 0.8737\n",
            "Epoch 476/1000\n",
            "187/187 [==============================] - 9s 51ms/step - loss: 0.0898 - acc: 0.9987 - val_loss: 1.6398 - val_acc: 0.8720\n",
            "Epoch 477/1000\n",
            "187/187 [==============================] - 9s 49ms/step - loss: 0.0899 - acc: 0.9979 - val_loss: 1.5879 - val_acc: 0.8697\n",
            "Epoch 478/1000\n",
            "187/187 [==============================] - 9s 49ms/step - loss: 0.0898 - acc: 0.9983 - val_loss: 1.4376 - val_acc: 0.8750\n",
            "Epoch 479/1000\n",
            "187/187 [==============================] - 9s 49ms/step - loss: 0.0936 - acc: 0.9979 - val_loss: 1.5281 - val_acc: 0.8743\n",
            "Epoch 480/1000\n",
            "187/187 [==============================] - 9s 49ms/step - loss: 0.1031 - acc: 0.9971 - val_loss: 1.5867 - val_acc: 0.8713\n",
            "Epoch 481/1000\n",
            "187/187 [==============================] - 9s 49ms/step - loss: 0.0887 - acc: 0.9987 - val_loss: 1.4928 - val_acc: 0.8757\n",
            "Epoch 482/1000\n",
            "187/187 [==============================] - 9s 50ms/step - loss: 0.0972 - acc: 0.9980 - val_loss: 1.5966 - val_acc: 0.8620\n",
            "Epoch 483/1000\n",
            "187/187 [==============================] - 9s 50ms/step - loss: 0.0926 - acc: 0.9982 - val_loss: 1.7421 - val_acc: 0.8650\n",
            "Epoch 484/1000\n",
            "187/187 [==============================] - 9s 49ms/step - loss: 0.0966 - acc: 0.9977 - val_loss: 1.6318 - val_acc: 0.8677\n",
            "Epoch 485/1000\n",
            "187/187 [==============================] - 9s 49ms/step - loss: 0.0921 - acc: 0.9971 - val_loss: 1.6342 - val_acc: 0.8697\n",
            "Epoch 486/1000\n",
            "187/187 [==============================] - 9s 49ms/step - loss: 0.0935 - acc: 0.9976 - val_loss: 1.6279 - val_acc: 0.8733\n",
            "Epoch 487/1000\n",
            "187/187 [==============================] - 9s 50ms/step - loss: 0.0956 - acc: 0.9973 - val_loss: 1.6121 - val_acc: 0.8693\n",
            "Epoch 488/1000\n",
            "187/187 [==============================] - 9s 49ms/step - loss: 0.0904 - acc: 0.9984 - val_loss: 1.7791 - val_acc: 0.8680\n",
            "Epoch 489/1000\n",
            "187/187 [==============================] - 9s 49ms/step - loss: 0.0961 - acc: 0.9974 - val_loss: 1.6513 - val_acc: 0.8697\n",
            "Epoch 490/1000\n",
            "187/187 [==============================] - 9s 49ms/step - loss: 0.0970 - acc: 0.9975 - val_loss: 1.5481 - val_acc: 0.8680\n",
            "Epoch 491/1000\n",
            "187/187 [==============================] - 9s 50ms/step - loss: 0.0947 - acc: 0.9979 - val_loss: 1.4839 - val_acc: 0.8730\n",
            "Epoch 492/1000\n",
            "187/187 [==============================] - 9s 49ms/step - loss: 0.0885 - acc: 0.9978 - val_loss: 1.5206 - val_acc: 0.8733\n",
            "Epoch 493/1000\n",
            "187/187 [==============================] - 9s 49ms/step - loss: 0.0871 - acc: 0.9977 - val_loss: 1.5310 - val_acc: 0.8790\n",
            "Epoch 494/1000\n",
            "187/187 [==============================] - 9s 49ms/step - loss: 0.0934 - acc: 0.9976 - val_loss: 1.2319 - val_acc: 0.8750\n",
            "Epoch 495/1000\n",
            "187/187 [==============================] - 9s 49ms/step - loss: 0.0934 - acc: 0.9971 - val_loss: 1.5993 - val_acc: 0.8723\n",
            "Epoch 496/1000\n",
            "187/187 [==============================] - 9s 49ms/step - loss: 0.0867 - acc: 0.9982 - val_loss: 1.5962 - val_acc: 0.8717\n",
            "Epoch 497/1000\n",
            "187/187 [==============================] - 9s 49ms/step - loss: 0.0905 - acc: 0.9982 - val_loss: 1.6293 - val_acc: 0.8690\n",
            "Epoch 498/1000\n",
            "187/187 [==============================] - 9s 49ms/step - loss: 0.0932 - acc: 0.9977 - val_loss: 1.5540 - val_acc: 0.8667\n",
            "Epoch 499/1000\n",
            "187/187 [==============================] - 9s 49ms/step - loss: 0.0957 - acc: 0.9972 - val_loss: 1.5258 - val_acc: 0.8677\n",
            "Epoch 500/1000\n",
            "187/187 [==============================] - 14s 75ms/step - loss: 0.0937 - acc: 0.9982 - val_loss: 1.6938 - val_acc: 0.8783\n",
            "Epoch 501/1000\n",
            "187/187 [==============================] - 9s 50ms/step - loss: 0.1049 - acc: 0.9972 - val_loss: 1.6034 - val_acc: 0.8730\n",
            "Epoch 502/1000\n",
            "187/187 [==============================] - 9s 49ms/step - loss: 0.0985 - acc: 0.9968 - val_loss: 1.6391 - val_acc: 0.8750\n",
            "Epoch 503/1000\n",
            "187/187 [==============================] - 9s 50ms/step - loss: 0.0946 - acc: 0.9976 - val_loss: 1.5579 - val_acc: 0.8697\n",
            "Epoch 504/1000\n",
            "187/187 [==============================] - 9s 49ms/step - loss: 0.0850 - acc: 0.9980 - val_loss: 1.6773 - val_acc: 0.8693\n",
            "Epoch 505/1000\n",
            "187/187 [==============================] - 9s 50ms/step - loss: 0.0951 - acc: 0.9971 - val_loss: 1.4495 - val_acc: 0.8757\n",
            "Epoch 506/1000\n",
            "187/187 [==============================] - 9s 50ms/step - loss: 0.0961 - acc: 0.9964 - val_loss: 1.3638 - val_acc: 0.8793\n",
            "Epoch 507/1000\n",
            "187/187 [==============================] - 9s 50ms/step - loss: 0.0917 - acc: 0.9965 - val_loss: 1.4419 - val_acc: 0.8713\n",
            "Epoch 508/1000\n",
            "187/187 [==============================] - 10s 52ms/step - loss: 0.0935 - acc: 0.9977 - val_loss: 1.4913 - val_acc: 0.8670\n",
            "Epoch 509/1000\n",
            "187/187 [==============================] - 10s 53ms/step - loss: 0.0933 - acc: 0.9980 - val_loss: 1.5237 - val_acc: 0.8757\n",
            "Epoch 510/1000\n",
            "187/187 [==============================] - 9s 49ms/step - loss: 0.0960 - acc: 0.9968 - val_loss: 1.5217 - val_acc: 0.8707\n",
            "Epoch 511/1000\n",
            "187/187 [==============================] - 9s 50ms/step - loss: 0.0938 - acc: 0.9967 - val_loss: 1.3433 - val_acc: 0.8700\n",
            "Epoch 512/1000\n",
            "187/187 [==============================] - 9s 51ms/step - loss: 0.0918 - acc: 0.9972 - val_loss: 1.4493 - val_acc: 0.8777\n",
            "Epoch 513/1000\n",
            "187/187 [==============================] - 9s 50ms/step - loss: 0.1009 - acc: 0.9976 - val_loss: 1.6666 - val_acc: 0.8710\n",
            "Epoch 514/1000\n",
            "187/187 [==============================] - 9s 50ms/step - loss: 0.0938 - acc: 0.9972 - val_loss: 1.3525 - val_acc: 0.8770\n",
            "Epoch 515/1000\n",
            "187/187 [==============================] - 9s 50ms/step - loss: 0.0884 - acc: 0.9982 - val_loss: 1.4869 - val_acc: 0.8750\n",
            "Epoch 516/1000\n",
            "187/187 [==============================] - 9s 51ms/step - loss: 0.0946 - acc: 0.9976 - val_loss: 1.7087 - val_acc: 0.8687\n",
            "Epoch 517/1000\n",
            "187/187 [==============================] - 10s 51ms/step - loss: 0.0906 - acc: 0.9976 - val_loss: 1.5461 - val_acc: 0.8703\n",
            "Epoch 518/1000\n",
            "187/187 [==============================] - 9s 49ms/step - loss: 0.0833 - acc: 0.9979 - val_loss: 1.7364 - val_acc: 0.8560\n",
            "Epoch 519/1000\n",
            "187/187 [==============================] - 9s 50ms/step - loss: 0.0962 - acc: 0.9972 - val_loss: 1.4197 - val_acc: 0.8737\n",
            "Epoch 520/1000\n",
            "187/187 [==============================] - 9s 50ms/step - loss: 0.0936 - acc: 0.9978 - val_loss: 1.6128 - val_acc: 0.8683\n",
            "Epoch 521/1000\n",
            "187/187 [==============================] - 9s 50ms/step - loss: 0.0951 - acc: 0.9973 - val_loss: 1.4605 - val_acc: 0.8717\n",
            "Epoch 522/1000\n",
            "187/187 [==============================] - 9s 50ms/step - loss: 0.0954 - acc: 0.9977 - val_loss: 1.6738 - val_acc: 0.8710\n",
            "Epoch 523/1000\n",
            "187/187 [==============================] - 9s 50ms/step - loss: 0.0941 - acc: 0.9972 - val_loss: 1.4616 - val_acc: 0.8663\n",
            "Epoch 524/1000\n",
            "187/187 [==============================] - 9s 50ms/step - loss: 0.0878 - acc: 0.9977 - val_loss: 1.5101 - val_acc: 0.8653\n",
            "Epoch 525/1000\n",
            "187/187 [==============================] - 10s 51ms/step - loss: 0.0937 - acc: 0.9969 - val_loss: 1.5874 - val_acc: 0.8647\n",
            "Epoch 526/1000\n",
            "187/187 [==============================] - 9s 50ms/step - loss: 0.0895 - acc: 0.9978 - val_loss: 1.4180 - val_acc: 0.8727\n",
            "Epoch 527/1000\n",
            "187/187 [==============================] - 9s 50ms/step - loss: 0.0863 - acc: 0.9975 - val_loss: 1.3256 - val_acc: 0.8747\n",
            "Epoch 528/1000\n",
            "187/187 [==============================] - 9s 49ms/step - loss: 0.0854 - acc: 0.9981 - val_loss: 1.5024 - val_acc: 0.8650\n",
            "Epoch 529/1000\n",
            "187/187 [==============================] - 9s 49ms/step - loss: 0.0937 - acc: 0.9967 - val_loss: 1.4596 - val_acc: 0.8613\n",
            "Epoch 530/1000\n",
            "187/187 [==============================] - 9s 49ms/step - loss: 0.0815 - acc: 0.9987 - val_loss: 1.5234 - val_acc: 0.8747\n",
            "Epoch 531/1000\n",
            "187/187 [==============================] - 9s 50ms/step - loss: 0.0854 - acc: 0.9980 - val_loss: 1.5926 - val_acc: 0.8733\n",
            "Epoch 532/1000\n",
            "187/187 [==============================] - 9s 50ms/step - loss: 0.0922 - acc: 0.9976 - val_loss: 1.6329 - val_acc: 0.8703\n",
            "Epoch 533/1000\n",
            "187/187 [==============================] - 9s 50ms/step - loss: 0.0957 - acc: 0.9968 - val_loss: 1.3175 - val_acc: 0.8750\n",
            "Epoch 534/1000\n",
            "187/187 [==============================] - 10s 52ms/step - loss: 0.0889 - acc: 0.9976 - val_loss: 1.3641 - val_acc: 0.8720\n",
            "Epoch 535/1000\n",
            "187/187 [==============================] - 9s 50ms/step - loss: 0.0906 - acc: 0.9975 - val_loss: 1.4223 - val_acc: 0.8750\n",
            "Epoch 536/1000\n",
            "187/187 [==============================] - 9s 50ms/step - loss: 0.0861 - acc: 0.9979 - val_loss: 1.3566 - val_acc: 0.8747\n",
            "Epoch 537/1000\n",
            "187/187 [==============================] - 9s 50ms/step - loss: 0.0899 - acc: 0.9979 - val_loss: 1.3401 - val_acc: 0.8807\n",
            "Epoch 538/1000\n",
            "187/187 [==============================] - 9s 51ms/step - loss: 0.0874 - acc: 0.9977 - val_loss: 1.4750 - val_acc: 0.8753\n",
            "Epoch 539/1000\n",
            "187/187 [==============================] - 9s 51ms/step - loss: 0.0989 - acc: 0.9968 - val_loss: 1.4790 - val_acc: 0.8773\n",
            "Epoch 540/1000\n",
            "187/187 [==============================] - 9s 50ms/step - loss: 0.0962 - acc: 0.9971 - val_loss: 1.6238 - val_acc: 0.8710\n",
            "Epoch 541/1000\n",
            "187/187 [==============================] - 9s 50ms/step - loss: 0.0949 - acc: 0.9978 - val_loss: 1.7781 - val_acc: 0.8710\n",
            "Epoch 542/1000\n",
            "187/187 [==============================] - 10s 54ms/step - loss: 0.0920 - acc: 0.9975 - val_loss: 1.4915 - val_acc: 0.8790\n",
            "Epoch 543/1000\n",
            "187/187 [==============================] - 10s 51ms/step - loss: 0.0893 - acc: 0.9980 - val_loss: 1.6088 - val_acc: 0.8763\n",
            "Epoch 544/1000\n",
            "187/187 [==============================] - 10s 52ms/step - loss: 0.0908 - acc: 0.9977 - val_loss: 1.7444 - val_acc: 0.8737\n",
            "Epoch 545/1000\n",
            "187/187 [==============================] - 9s 50ms/step - loss: 0.0972 - acc: 0.9970 - val_loss: 1.6045 - val_acc: 0.8673\n",
            "Epoch 546/1000\n",
            "187/187 [==============================] - 9s 50ms/step - loss: 0.0896 - acc: 0.9970 - val_loss: 1.6453 - val_acc: 0.8743\n",
            "Epoch 547/1000\n",
            "187/187 [==============================] - 9s 50ms/step - loss: 0.0868 - acc: 0.9982 - val_loss: 1.5443 - val_acc: 0.8753\n",
            "Epoch 548/1000\n",
            "187/187 [==============================] - 9s 50ms/step - loss: 0.0890 - acc: 0.9981 - val_loss: 1.6651 - val_acc: 0.8703\n",
            "Epoch 549/1000\n",
            "187/187 [==============================] - 9s 50ms/step - loss: 0.0910 - acc: 0.9969 - val_loss: 1.4082 - val_acc: 0.8743\n",
            "Epoch 550/1000\n",
            "187/187 [==============================] - 9s 51ms/step - loss: 0.0855 - acc: 0.9976 - val_loss: 1.3932 - val_acc: 0.8747\n",
            "Epoch 551/1000\n",
            "187/187 [==============================] - 10s 52ms/step - loss: 0.0875 - acc: 0.9977 - val_loss: 1.4087 - val_acc: 0.8747\n",
            "Epoch 552/1000\n",
            "187/187 [==============================] - 9s 50ms/step - loss: 0.0936 - acc: 0.9966 - val_loss: 1.5423 - val_acc: 0.8710\n",
            "Epoch 553/1000\n",
            "187/187 [==============================] - 9s 50ms/step - loss: 0.0946 - acc: 0.9969 - val_loss: 1.4095 - val_acc: 0.8707\n",
            "Epoch 554/1000\n",
            "187/187 [==============================] - 9s 50ms/step - loss: 0.0852 - acc: 0.9977 - val_loss: 1.4438 - val_acc: 0.8737\n",
            "Epoch 555/1000\n",
            "187/187 [==============================] - 9s 50ms/step - loss: 0.0830 - acc: 0.9982 - val_loss: 1.6466 - val_acc: 0.8757\n",
            "Epoch 556/1000\n",
            "187/187 [==============================] - 9s 50ms/step - loss: 0.0903 - acc: 0.9977 - val_loss: 1.5088 - val_acc: 0.8753\n",
            "Epoch 557/1000\n",
            "187/187 [==============================] - 9s 50ms/step - loss: 0.0888 - acc: 0.9974 - val_loss: 1.1722 - val_acc: 0.8757\n",
            "Epoch 558/1000\n",
            "187/187 [==============================] - 9s 50ms/step - loss: 0.0832 - acc: 0.9977 - val_loss: 1.4310 - val_acc: 0.8703\n",
            "Epoch 559/1000\n",
            "187/187 [==============================] - 10s 51ms/step - loss: 0.0882 - acc: 0.9977 - val_loss: 1.3651 - val_acc: 0.8827\n",
            "Epoch 560/1000\n",
            "187/187 [==============================] - 9s 51ms/step - loss: 0.0893 - acc: 0.9977 - val_loss: 1.5391 - val_acc: 0.8787\n",
            "Epoch 561/1000\n",
            "187/187 [==============================] - 9s 50ms/step - loss: 0.0888 - acc: 0.9976 - val_loss: 1.3467 - val_acc: 0.8710\n",
            "Epoch 562/1000\n",
            "187/187 [==============================] - 9s 50ms/step - loss: 0.0834 - acc: 0.9978 - val_loss: 1.5115 - val_acc: 0.8730\n",
            "Epoch 563/1000\n",
            "187/187 [==============================] - 9s 50ms/step - loss: 0.0892 - acc: 0.9978 - val_loss: 1.3652 - val_acc: 0.8757\n",
            "Epoch 564/1000\n",
            "187/187 [==============================] - 10s 52ms/step - loss: 0.0879 - acc: 0.9976 - val_loss: 1.6218 - val_acc: 0.8710\n",
            "Epoch 565/1000\n",
            "187/187 [==============================] - 9s 50ms/step - loss: 0.1315 - acc: 0.9950 - val_loss: 1.5339 - val_acc: 0.8790\n",
            "Epoch 566/1000\n",
            "187/187 [==============================] - 9s 50ms/step - loss: 0.0882 - acc: 0.9972 - val_loss: 1.5741 - val_acc: 0.8763\n",
            "Epoch 567/1000\n",
            "187/187 [==============================] - 9s 50ms/step - loss: 0.0890 - acc: 0.9973 - val_loss: 1.4089 - val_acc: 0.8723\n",
            "Epoch 568/1000\n",
            "187/187 [==============================] - 10s 52ms/step - loss: 0.0976 - acc: 0.9963 - val_loss: 1.4352 - val_acc: 0.8783\n",
            "Epoch 569/1000\n",
            "187/187 [==============================] - 9s 50ms/step - loss: 0.0868 - acc: 0.9973 - val_loss: 1.6334 - val_acc: 0.8673\n",
            "Epoch 570/1000\n",
            "187/187 [==============================] - 9s 50ms/step - loss: 0.0902 - acc: 0.9972 - val_loss: 1.5944 - val_acc: 0.8683\n",
            "Epoch 571/1000\n",
            "187/187 [==============================] - 9s 50ms/step - loss: 0.0922 - acc: 0.9967 - val_loss: 1.4123 - val_acc: 0.8813\n",
            "Epoch 572/1000\n",
            "187/187 [==============================] - 9s 50ms/step - loss: 0.0925 - acc: 0.9967 - val_loss: 1.2918 - val_acc: 0.8837\n",
            "Epoch 573/1000\n",
            "187/187 [==============================] - 9s 50ms/step - loss: 0.0892 - acc: 0.9977 - val_loss: 1.4830 - val_acc: 0.8750\n",
            "Epoch 574/1000\n",
            "187/187 [==============================] - 9s 50ms/step - loss: 0.0887 - acc: 0.9974 - val_loss: 1.4639 - val_acc: 0.8753\n",
            "Epoch 575/1000\n",
            "112/187 [================>.............] - ETA: 3s - loss: 0.0962 - acc: 0.9972Buffered data was truncated after reaching the output size limit."
          ],
          "name": "stdout"
        }
      ]
    },
    {
      "cell_type": "code",
      "metadata": {
        "id": "DYZeckSZ1FA4",
        "colab_type": "code",
        "colab": {}
      },
      "source": [
        "model.load_weights('weights.hdf5')"
      ],
      "execution_count": 0,
      "outputs": []
    },
    {
      "cell_type": "code",
      "metadata": {
        "id": "GlQJMg1YnI17",
        "colab_type": "code",
        "colab": {}
      },
      "source": [
        "# model.save('vgg16lowAccuracyModelDataSchedule.h5')\n",
        "model.save('vgg16lowAccuracyModelDataSchedule100EpochRun2.h5')\n"
      ],
      "execution_count": 0,
      "outputs": []
    },
    {
      "cell_type": "code",
      "metadata": {
        "id": "s0zPvx9oEN5_",
        "colab_type": "code",
        "colab": {}
      },
      "source": [
        "# temp_model = keras.models.load_model('lowAccuracyModelData.h5')\n",
        "# temp_model.evaluate(valid_X, valid_ground, verbose=0)"
      ],
      "execution_count": 0,
      "outputs": []
    },
    {
      "cell_type": "code",
      "metadata": {
        "id": "KltF5yv2AZES",
        "colab_type": "code",
        "outputId": "1a366025-3266-48a0-81cb-1bd481df6c4d",
        "colab": {
          "base_uri": "https://localhost:8080/",
          "height": 545
        }
      },
      "source": [
        "accuracy = model.history.history['acc']\n",
        "val_accuracy = model.history.history['val_acc']\n",
        "loss = model.history.history['loss']\n",
        "val_loss = model.history.history['val_loss']\n",
        "epochs = range(len(accuracy))\n",
        "plt.plot(epochs, accuracy, 'b', label='Training accuracy')\n",
        "plt.plot(epochs, val_accuracy, 'r', label='Validation accuracy')\n",
        "plt.title('Training and validation accuracy')\n",
        "plt.legend()\n",
        "plt.figure()\n",
        "plt.plot(epochs, loss, 'b', label='Training loss')\n",
        "plt.plot(epochs, val_loss, 'r', label='Validation loss')\n",
        "plt.title('Training and validation loss')\n",
        "plt.legend()\n",
        "plt.show()"
      ],
      "execution_count": 39,
      "outputs": [
        {
          "output_type": "display_data",
          "data": {
            "image/png": "[encoded data removed]",
            "text/plain": [
              "<Figure size 432x288 with 1 Axes>"
            ]
          },
          "metadata": {
            "tags": []
          }
        },
        {
          "output_type": "display_data",
          "data": {
            "image/png": "[encoded data removed]",
            "text/plain": [
              "<Figure size 432x288 with 1 Axes>"
            ]
          },
          "metadata": {
            "tags": []
          }
        }
      ]
    },
    {
      "cell_type": "code",
      "metadata": {
        "id": "fJHowfrN1HQg",
        "colab_type": "code",
        "outputId": "ba6b15db-e7c8-4e79-bbb5-05aca4b026e2",
        "colab": {
          "base_uri": "https://localhost:8080/",
          "height": 34
        }
      },
      "source": [
        "model.evaluate(valid_X, valid_ground, verbose=0)"
      ],
      "execution_count": 40,
      "outputs": [
        {
          "output_type": "execute_result",
          "data": {
            "text/plain": [
              "[1.4107410588264466, 0.8843333331743876]"
            ]
          },
          "metadata": {
            "tags": []
          },
          "execution_count": 40
        }
      ]
    },
    {
      "cell_type": "code",
      "metadata": {
        "id": "w4M2DfGjmT3I",
        "colab_type": "code",
        "outputId": "f3cf001f-918c-48d2-8e27-69e9b6d2e997",
        "colab": {
          "base_uri": "https://localhost:8080/",
          "height": 52
        }
      },
      "source": [
        "#testing\n",
        "test_eval = model.evaluate(test_three_data, test_three_label_one_hot, verbose=0)\n",
        "print('Test loss:', test_eval[0])\n",
        "print('Test accuracy:', test_eval[1])"
      ],
      "execution_count": 41,
      "outputs": [
        {
          "output_type": "stream",
          "text": [
            "Test loss: 1.3863135294914246\n",
            "Test accuracy: 0.8813333333333333\n"
          ],
          "name": "stdout"
        }
      ]
    },
    {
      "cell_type": "code",
      "metadata": {
        "id": "M1_boK_fprtB",
        "colab_type": "code",
        "outputId": "c522112c-65d4-4457-d115-942e7ff066b5",
        "colab": {
          "base_uri": "https://localhost:8080/",
          "height": 34
        }
      },
      "source": [
        "test_three_data.shape"
      ],
      "execution_count": 42,
      "outputs": [
        {
          "output_type": "execute_result",
          "data": {
            "text/plain": [
              "(3000, 32, 32, 3)"
            ]
          },
          "metadata": {
            "tags": []
          },
          "execution_count": 42
        }
      ]
    },
    {
      "cell_type": "code",
      "metadata": {
        "id": "ZuH6igT7nbza",
        "colab_type": "code",
        "outputId": "646b7ab4-08d5-469a-abba-30a65d1f361a",
        "colab": {
          "base_uri": "https://localhost:8080/",
          "height": 340
        }
      },
      "source": [
        "# show_imgs(test_three_data[:,1])\n",
        "show_imgs(test_three_data[:16])"
      ],
      "execution_count": 0,
      "outputs": [
        {
          "output_type": "stream",
          "text": [
            "/usr/local/lib/python3.6/dist-packages/ipykernel_launcher.py:10: DeprecationWarning: `toimage` is deprecated!\n",
            "`toimage` is deprecated in SciPy 1.0.0, and will be removed in 1.2.0.\n",
            "Use Pillow's ``Image.fromarray`` directly instead.\n",
            "  # Remove the CWD from sys.path while we load stuff.\n"
          ],
          "name": "stderr"
        },
        {
          "output_type": "display_data",
          "data": {
            "image/png": "[encoded data removed]",
            "text/plain": [
              "<Figure size 432x288 with 16 Axes>"
            ]
          },
          "metadata": {
            "tags": []
          }
        }
      ]
    },
    {
      "cell_type": "code",
      "metadata": {
        "id": "cE1UG2RavZW3",
        "colab_type": "code",
        "colab": {}
      },
      "source": [
        "def getDIScoreOfLayer(layer_output, true_labels):\n",
        "  # computeScatterMatrix\n",
        "  rho = 1e-6\n",
        "  mu = layer_output.mean(axis=0)\n",
        "#   print(mu.shape)\n",
        "  mu = mu.reshape((1,-1))\n",
        "  centered_data = layer_output - mu\n",
        "  S_bar = np.matmul(centered_data.T,centered_data)\n",
        "  # compute between class matrix\n",
        "  total_classes = true_labels.max()\n",
        "  S_B = np.zeros(shape = (mu.shape[1],mu.shape[1]))\n",
        "  S_W = np.zeros(shape = (mu.shape[1],mu.shape[1]))\n",
        "  unique_classes = np.unique(true_labels)\n",
        "  unique_classes_list = np.ndarray.tolist(unique_classes)\n",
        "  for l in unique_classes_list:\n",
        "    class_l_index = np.where(true_labels == l)\n",
        "    class_l_output = layer_output[class_l_index[0],:]\n",
        "    mu_l = class_l_output.mean(axis=0)\n",
        "    mu_l = mu_l.reshape((1,-1))\n",
        "    total_examples_this_class = class_l_index[0].shape   \n",
        "    ss = mu_l - mu\n",
        "    S_B = S_B + total_examples_this_class*np.matmul((mu_l - mu).T,(mu_l - mu))\n",
        "\n",
        "  DI_Score = np.trace(np.matmul(np.linalg.inv(S_bar + rho*np.eye(S_bar.shape[0])),S_B))\n",
        "  return DI_Score"
      ],
      "execution_count": 0,
      "outputs": []
    },
    {
      "cell_type": "code",
      "metadata": {
        "id": "2_q12H9HU7n-",
        "colab_type": "code",
        "colab": {}
      },
      "source": [
        "def getDIScoreOfLayerCNNLayer(cnn_outputs, true_labels):\n",
        "  # computeScatterMatrix\n",
        "  number_of_filters = cnn_outputs.shape[3]\n",
        "  cnn_di_scores = []\n",
        "  for filt in range(0,number_of_filters):\n",
        "    outputs_filter = cnn_outputs[:,:,:,filt]\n",
        "    outputs_filter_reshaped = np.reshape(outputs_filter, newshape=(cnn_outputs.shape[0],-1))\n",
        "    this_filter_score = getDIScoreOfLayer(outputs_filter_reshaped, true_labels)\n",
        "    cnn_di_scores.append(this_filter_score)\n",
        "  return cnn_di_scores"
      ],
      "execution_count": 0,
      "outputs": []
    },
    {
      "cell_type": "code",
      "metadata": {
        "id": "mPTmOl-QERZN",
        "colab_type": "code",
        "outputId": "b4c8941f-eef5-4268-9204-2e3c0ce111be",
        "colab": {
          "base_uri": "https://localhost:8080/",
          "height": 34
        }
      },
      "source": [
        "# layer_name\n",
        "valid_X.shape"
      ],
      "execution_count": 0,
      "outputs": [
        {
          "output_type": "execute_result",
          "data": {
            "text/plain": [
              "(3000, 32, 32, 3)"
            ]
          },
          "metadata": {
            "tags": []
          },
          "execution_count": 82
        }
      ]
    },
    {
      "cell_type": "code",
      "metadata": {
        "id": "bRQ1YTnsd6zM",
        "colab_type": "code",
        "colab": {}
      },
      "source": [
        "# train_three_data, train_three_label"
      ],
      "execution_count": 0,
      "outputs": []
    },
    {
      "cell_type": "code",
      "metadata": {
        "id": "pe0g2T0IA7sG",
        "colab_type": "code",
        "colab": {}
      },
      "source": [
        "layer_name = 'conv2d_6'\n",
        "get_cnn1_output_function = K.function([model.layers[0].input],\n",
        "                                  [model.get_layer(layer_name).output])   #get_layer test_three_label\n",
        "cnn1_output = get_cnn1_output_function([train_three_data])[0]"
      ],
      "execution_count": 0,
      "outputs": []
    },
    {
      "cell_type": "code",
      "metadata": {
        "id": "4Yy-y5xIWdz6",
        "colab_type": "code",
        "outputId": "5e6df7f7-e5ae-46c1-9595-776409db293c",
        "colab": {
          "base_uri": "https://localhost:8080/",
          "height": 34
        }
      },
      "source": [
        "cnn1_output.shape"
      ],
      "execution_count": 0,
      "outputs": [
        {
          "output_type": "execute_result",
          "data": {
            "text/plain": [
              "(15000, 8, 8, 128)"
            ]
          },
          "metadata": {
            "tags": []
          },
          "execution_count": 104
        }
      ]
    },
    {
      "cell_type": "code",
      "metadata": {
        "id": "26Q6Hfa8rTd6",
        "colab_type": "code",
        "colab": {}
      },
      "source": [
        "from keras.utils.vis_utils import plot_model"
      ],
      "execution_count": 0,
      "outputs": []
    },
    {
      "cell_type": "code",
      "metadata": {
        "id": "EF3q_KOgYTxb",
        "colab_type": "code",
        "colab": {}
      },
      "source": [
        "plot_model(model, to_file=\"cifar10Architecture.png\", show_shapes=True, show_layer_names=True)"
      ],
      "execution_count": 0,
      "outputs": []
    },
    {
      "cell_type": "code",
      "metadata": {
        "id": "B0Hfr4ZwB8dX",
        "colab_type": "code",
        "outputId": "186689eb-681e-4ee6-e6d2-35734439e701",
        "colab": {
          "base_uri": "https://localhost:8080/",
          "height": 34
        }
      },
      "source": [
        "np.ndarray.tolist(np.unique(test_three_label))"
      ],
      "execution_count": 0,
      "outputs": [
        {
          "output_type": "execute_result",
          "data": {
            "text/plain": [
              "[0, 3, 5]"
            ]
          },
          "metadata": {
            "tags": []
          },
          "execution_count": 107
        }
      ]
    },
    {
      "cell_type": "code",
      "metadata": {
        "id": "pM8xfShbdHJV",
        "colab_type": "code",
        "colab": {}
      },
      "source": [
        "# valid_ground_cat = np.argmax(train_ground, axis=1)\n",
        "# # valid_ground_cat\n",
        "# valid_ground.shape"
      ],
      "execution_count": 0,
      "outputs": []
    },
    {
      "cell_type": "code",
      "metadata": {
        "id": "jZ1IST7pBZ92",
        "colab_type": "code",
        "colab": {}
      },
      "source": [
        "\n",
        "di_scores = getDIScoreOfLayerCNNLayer(cnn1_output, train_three_label)"
      ],
      "execution_count": 0,
      "outputs": []
    },
    {
      "cell_type": "code",
      "metadata": {
        "id": "RZnzBi-7BcfM",
        "colab_type": "code",
        "outputId": "d47065e9-6842-403f-903c-537c8fda1bce",
        "colab": {
          "base_uri": "https://localhost:8080/",
          "height": 365
        }
      },
      "source": [
        "y_pos  = np.arange(len(di_scores))\n",
        "plt.bar(y_pos, di_scores, align='center', alpha=0.5)\n",
        "plt.xlabel('FilterNumber')\n",
        "plt.ylabel('DI Score')\n",
        "\n",
        "print('Mean of DI SCore: ',np.mean(di_scores))\n",
        "print('STD of DI Score: ', np.std(di_scores))\n",
        "print('MAX of DI Score: ', np.max(di_scores))\n",
        "plt.title('DI score - Data - D_L, Network -N_L, Conv_6')\n",
        "plt.ylim([0,1])"
      ],
      "execution_count": 0,
      "outputs": [
        {
          "output_type": "stream",
          "text": [
            "Mean of DI SCore:  0.46968247829146104\n",
            "STD of DI Score:  0.17012919206958768\n",
            "MAX of DI Score:  0.8879906467627727\n"
          ],
          "name": "stdout"
        },
        {
          "output_type": "execute_result",
          "data": {
            "text/plain": [
              "(0, 1)"
            ]
          },
          "metadata": {
            "tags": []
          },
          "execution_count": 114
        },
        {
          "output_type": "display_data",
          "data": {
            "image/png": "[encoded data removed]",
            "text/plain": [
              "<Figure size 432x288 with 1 Axes>"
            ]
          },
          "metadata": {
            "tags": []
          }
        }
      ]
    },
    {
      "cell_type": "code",
      "metadata": {
        "id": "gFs0BsyhzMXk",
        "colab_type": "code",
        "colab": {}
      },
      "source": [
        "# model.summary()"
      ],
      "execution_count": 0,
      "outputs": []
    },
    {
      "cell_type": "markdown",
      "metadata": {
        "colab_type": "text",
        "id": "Xkj_8m7OpfxD"
      },
      "source": [
        "## DI on different data\n",
        "\n",
        "1.   List item\n",
        "2.   List item\n",
        "\n"
      ]
    },
    {
      "cell_type": "code",
      "metadata": {
        "colab_type": "code",
        "outputId": "9c789423-23ba-478b-eeeb-64a19bd8cefe",
        "id": "JcsAbLG_pfwz",
        "colab": {
          "base_uri": "https://localhost:8080/",
          "height": 87
        }
      },
      "source": [
        "\n",
        "train_three_data_low,train_three_label_low,test_three_data_low,test_three_label_low = getThreeClassesTrainTest([1,8,9],x_train,y_train,x_test,y_test)"
      ],
      "execution_count": 0,
      "outputs": [
        {
          "output_type": "stream",
          "text": [
            "[    4     5    32 ... 49993 49998 49999]\n",
            "[    8    62    69 ... 49968 49976 49985]\n",
            "[    1     2    14 ... 49963 49971 49997]\n",
            "(15000, 1)\n"
          ],
          "name": "stdout"
        }
      ]
    },
    {
      "cell_type": "code",
      "metadata": {
        "colab_type": "code",
        "id": "vA_9sjRGpfwn",
        "colab": {}
      },
      "source": [
        "\n",
        "# split train data and to create validation data\n",
        "train_X_low,valid_X_low,train_ground_low,valid_ground_low = train_test_split(train_three_data_low,\n",
        "                                                             train_three_label_low,\n",
        "                                                             test_size=0.2,\n",
        "                                                             random_state=13)"
      ],
      "execution_count": 0,
      "outputs": []
    },
    {
      "cell_type": "code",
      "metadata": {
        "colab_type": "code",
        "outputId": "6939f482-af89-4f16-8050-cd1bd5d1116a",
        "id": "-zNgfVTPpfwa",
        "colab": {
          "base_uri": "https://localhost:8080/",
          "height": 34
        }
      },
      "source": [
        "layer_name = 'conv2d_6'\n",
        "get_cnn1_output_function_low = K.function([model.layers[0].input],\n",
        "                                  [model.get_layer(layer_name).output])   #get_layer test_three_label\n",
        "cnn1_output_low = get_cnn1_output_function_low([train_three_data_low])[0]\n",
        "cnn1_output_low.shape"
      ],
      "execution_count": 0,
      "outputs": [
        {
          "output_type": "execute_result",
          "data": {
            "text/plain": [
              "(15000, 8, 8, 128)"
            ]
          },
          "metadata": {
            "tags": []
          },
          "execution_count": 100
        }
      ]
    },
    {
      "cell_type": "code",
      "metadata": {
        "colab_type": "code",
        "id": "C0RAKBX5pfwR",
        "colab": {}
      },
      "source": [
        "di_scores_low = getDIScoreOfLayerCNNLayer(cnn1_output_low, train_three_label_low)\n"
      ],
      "execution_count": 0,
      "outputs": []
    },
    {
      "cell_type": "code",
      "metadata": {
        "colab_type": "code",
        "outputId": "dad4626d-35b5-4e26-b7ac-f7c83d2e5ad1",
        "id": "lYpxC9KMpfwD",
        "colab": {
          "base_uri": "https://localhost:8080/",
          "height": 365
        }
      },
      "source": [
        "y_pos  = np.arange(len(di_scores_low))\n",
        "plt.bar(y_pos, di_scores_low, align='center', alpha=0.5)\n",
        "plt.xlabel('FilterNumber')\n",
        "plt.ylabel('DI Score')\n",
        "\n",
        "print('Mean of DI SCore: ',np.mean(di_scores_low))\n",
        "print('STD of DI Score: ', np.std(di_scores_low))\n",
        "print('MAX of DI Score: ', np.max(di_scores_low))\n",
        "plt.title('DI score - Data - D_H, Network -N_L, Conv_6')\n",
        "plt.ylim([0,1])"
      ],
      "execution_count": 0,
      "outputs": [
        {
          "output_type": "stream",
          "text": [
            "Mean of DI SCore:  0.25325489539602447\n",
            "STD of DI Score:  0.07981976639878438\n",
            "MAX of DI Score:  0.48132421143127047\n"
          ],
          "name": "stdout"
        },
        {
          "output_type": "execute_result",
          "data": {
            "text/plain": [
              "(0, 1)"
            ]
          },
          "metadata": {
            "tags": []
          },
          "execution_count": 113
        },
        {
          "output_type": "display_data",
          "data": {
            "image/png": "[encoded data removed]",
            "text/plain": [
              "<Figure size 432x288 with 1 Axes>"
            ]
          },
          "metadata": {
            "tags": []
          }
        }
      ]
    },
    {
      "cell_type": "code",
      "metadata": {
        "colab_type": "code",
        "outputId": "964f1ccc-2699-487a-9298-1fb1a316a3f9",
        "id": "UH9t29tspfv1",
        "colab": {
          "base_uri": "https://localhost:8080/",
          "height": 887
        }
      },
      "source": [
        "model.summary()"
      ],
      "execution_count": 0,
      "outputs": [
        {
          "output_type": "stream",
          "text": [
            "_________________________________________________________________\n",
            "Layer (type)                 Output Shape              Param #   \n",
            "=================================================================\n",
            "input_1 (InputLayer)         (None, 32, 32, 3)         0         \n",
            "_________________________________________________________________\n",
            "conv2d_1 (Conv2D)            (None, 32, 32, 32)        896       \n",
            "_________________________________________________________________\n",
            "batch_normalization_1 (Batch (None, 32, 32, 32)        128       \n",
            "_________________________________________________________________\n",
            "conv2d_2 (Conv2D)            (None, 32, 32, 32)        9248      \n",
            "_________________________________________________________________\n",
            "batch_normalization_2 (Batch (None, 32, 32, 32)        128       \n",
            "_________________________________________________________________\n",
            "max_pooling2d_1 (MaxPooling2 (None, 16, 16, 32)        0         \n",
            "_________________________________________________________________\n",
            "dropout_1 (Dropout)          (None, 16, 16, 32)        0         \n",
            "_________________________________________________________________\n",
            "conv2d_3 (Conv2D)            (None, 16, 16, 64)        18496     \n",
            "_________________________________________________________________\n",
            "batch_normalization_3 (Batch (None, 16, 16, 64)        256       \n",
            "_________________________________________________________________\n",
            "conv2d_4 (Conv2D)            (None, 16, 16, 64)        36928     \n",
            "_________________________________________________________________\n",
            "batch_normalization_4 (Batch (None, 16, 16, 64)        256       \n",
            "_________________________________________________________________\n",
            "max_pooling2d_2 (MaxPooling2 (None, 8, 8, 64)          0         \n",
            "_________________________________________________________________\n",
            "dropout_2 (Dropout)          (None, 8, 8, 64)          0         \n",
            "_________________________________________________________________\n",
            "conv2d_5 (Conv2D)            (None, 8, 8, 128)         73856     \n",
            "_________________________________________________________________\n",
            "batch_normalization_5 (Batch (None, 8, 8, 128)         512       \n",
            "_________________________________________________________________\n",
            "conv2d_6 (Conv2D)            (None, 8, 8, 128)         147584    \n",
            "_________________________________________________________________\n",
            "batch_normalization_6 (Batch (None, 8, 8, 128)         512       \n",
            "_________________________________________________________________\n",
            "max_pooling2d_3 (MaxPooling2 (None, 4, 4, 128)         0         \n",
            "_________________________________________________________________\n",
            "dropout_3 (Dropout)          (None, 4, 4, 128)         0         \n",
            "_________________________________________________________________\n",
            "flatten_1 (Flatten)          (None, 2048)              0         \n",
            "_________________________________________________________________\n",
            "dense_1 (Dense)              (None, 3)                 6147      \n",
            "=================================================================\n",
            "Total params: 294,947\n",
            "Trainable params: 294,051\n",
            "Non-trainable params: 896\n",
            "_________________________________________________________________\n"
          ],
          "name": "stdout"
        }
      ]
    },
    {
      "cell_type": "code",
      "metadata": {
        "colab_type": "code",
        "id": "lK3KHL2Bpfvt",
        "colab": {}
      },
      "source": [
        "# # not working\n",
        "# mat_save = {'diScore': di_scores, 'conv2d_1': cnn1_output, 'trueLabel':train_three_label}\n",
        "# savemat('LowAccuracyConv2d_1MatrixMethod', mat_save) "
      ],
      "execution_count": 0,
      "outputs": []
    },
    {
      "cell_type": "code",
      "metadata": {
        "colab_type": "code",
        "id": "Fvw5s5K8pfvk",
        "colab": {}
      },
      "source": [
        ""
      ],
      "execution_count": 0,
      "outputs": []
    },
    {
      "cell_type": "markdown",
      "metadata": {
        "colab_type": "text",
        "id": "PMqp4Ao3pfvg"
      },
      "source": [
        ""
      ]
    },
    {
      "cell_type": "code",
      "metadata": {
        "colab_type": "code",
        "id": "jkozbZpypfvX",
        "colab": {}
      },
      "source": [
        ""
      ],
      "execution_count": 0,
      "outputs": []
    },
    {
      "cell_type": "code",
      "metadata": {
        "colab_type": "code",
        "outputId": "90f23b1a-a2ef-43cc-f7a8-e6d22f0c1645",
        "id": "x-H8BlZUpfuw",
        "colab": {
          "base_uri": "https://localhost:8080/",
          "height": 35
        }
      },
      "source": [
        "sum(di_scores)"
      ],
      "execution_count": 0,
      "outputs": [
        {
          "output_type": "execute_result",
          "data": {
            "text/plain": [
              "14.049834714257239"
            ]
          },
          "metadata": {
            "tags": []
          },
          "execution_count": 46
        }
      ]
    },
    {
      "cell_type": "code",
      "metadata": {
        "colab_type": "code",
        "outputId": "dc5ee49b-0567-4d1b-a541-5a8f8731c467",
        "id": "JvJ41KIfpfuc",
        "colab": {
          "base_uri": "https://localhost:8080/",
          "height": 35
        }
      },
      "source": [
        "max(di_scores)"
      ],
      "execution_count": 0,
      "outputs": [
        {
          "output_type": "execute_result",
          "data": {
            "text/plain": [
              "0.6375973839423631"
            ]
          },
          "metadata": {
            "tags": []
          },
          "execution_count": 47
        }
      ]
    },
    {
      "cell_type": "code",
      "metadata": {
        "colab_type": "code",
        "id": "uWwVdXn0pft-",
        "colab": {}
      },
      "source": [
        "from scipy.io import savemat\n"
      ],
      "execution_count": 0,
      "outputs": []
    },
    {
      "cell_type": "code",
      "metadata": {
        "colab_type": "code",
        "id": "7GwdcjmBpfs0",
        "colab": {}
      },
      "source": [
        ""
      ],
      "execution_count": 0,
      "outputs": []
    }
  ]
}