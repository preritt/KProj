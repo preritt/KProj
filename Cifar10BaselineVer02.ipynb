{
  "nbformat": 4,
  "nbformat_minor": 0,
  "metadata": {
    "colab": {
      "name": "Cifar10BaselineVer02.ipynb",
      "version": "0.3.2",
      "provenance": [],
      "collapsed_sections": [],
      "include_colab_link": true
    },
    "kernelspec": {
      "name": "python3",
      "display_name": "Python 3"
    },
    "accelerator": "GPU"
  },
  "cells": [
    {
      "cell_type": "markdown",
      "metadata": {
        "id": "view-in-github",
        "colab_type": "text"
      },
      "source": [
        "<a href=\"https://colab.research.google.com/github/preritt/KProj/blob/master/Cifar10BaselineVer02.ipynb\" target=\"_parent\"><img src=\"https://colab.research.google.com/assets/colab-badge.svg\" alt=\"Open In Colab\"/></a>"
      ]
    },
    {
      "metadata": {
        "id": "h54XT6Mhk5nW",
        "colab_type": "code",
        "colab": {}
      },
      "cell_type": "code",
      "source": [
        "import keras\n",
        "from keras.models import Sequential\n",
        "from keras.utils import np_utils\n",
        "from keras.preprocessing.image import ImageDataGenerator\n",
        "from keras.layers import Dense, Activation, Flatten, Dropout, BatchNormalization\n",
        "from keras.layers import Conv2D, MaxPooling2D\n",
        "from keras.datasets import cifar10\n",
        "from keras import regularizers\n",
        "from keras.callbacks import LearningRateScheduler\n",
        "import numpy as np\n",
        "from keras.callbacks import ModelCheckpoint"
      ],
      "execution_count": 0,
      "outputs": []
    },
    {
      "metadata": {
        "id": "DcI3TOWRnQzo",
        "colab_type": "code",
        "colab": {}
      },
      "cell_type": "code",
      "source": [
        "import numpy as np\n",
        "\n",
        "\n",
        "def plot_confusion_matrix(cm,\n",
        "                          target_names,\n",
        "                          title='Confusion matrix',\n",
        "                          cmap=None,\n",
        "                          normalize=True):\n",
        "    \"\"\"\n",
        "    given a sklearn confusion matrix (cm), make a nice plot\n",
        "\n",
        "    Arguments\n",
        "    ---------\n",
        "    cm:           confusion matrix from sklearn.metrics.confusion_matrix\n",
        "\n",
        "    target_names: given classification classes such as [0, 1, 2]\n",
        "                  the class names, for example: ['high', 'medium', 'low']\n",
        "\n",
        "    title:        the text to display at the top of the matrix\n",
        "\n",
        "    cmap:         the gradient of the values displayed from matplotlib.pyplot.cm\n",
        "                  see http://matplotlib.org/examples/color/colormaps_reference.html\n",
        "                  plt.get_cmap('jet') or plt.cm.Blues\n",
        "\n",
        "    normalize:    If False, plot the raw numbers\n",
        "                  If True, plot the proportions\n",
        "\n",
        "    Usage\n",
        "    -----\n",
        "    plot_confusion_matrix(cm           = cm,                  # confusion matrix created by\n",
        "                                                              # sklearn.metrics.confusion_matrix\n",
        "                          normalize    = True,                # show proportions\n",
        "                          target_names = y_labels_vals,       # list of names of the classes\n",
        "                          title        = best_estimator_name) # title of graph\n",
        "\n",
        "    Citiation\n",
        "    ---------\n",
        "    http://scikit-learn.org/stable/auto_examples/model_selection/plot_confusion_matrix.html\n",
        "\n",
        "    \"\"\"\n",
        "    import matplotlib.pyplot as plt\n",
        "    import numpy as np\n",
        "    import itertools\n",
        "\n",
        "    accuracy = np.trace(cm) / float(np.sum(cm))\n",
        "    misclass = 1 - accuracy\n",
        "\n",
        "    if cmap is None:\n",
        "        cmap = plt.get_cmap('Blues')\n",
        "\n",
        "    plt.figure(figsize=(8, 6))\n",
        "    plt.imshow(cm, interpolation='nearest', cmap=cmap)\n",
        "    plt.title(title)\n",
        "    plt.colorbar()\n",
        "\n",
        "    if target_names is not None:\n",
        "        tick_marks = np.arange(len(target_names))\n",
        "        plt.xticks(tick_marks, target_names, rotation=45)\n",
        "        plt.yticks(tick_marks, target_names)\n",
        "\n",
        "    if normalize:\n",
        "        cm = cm.astype('float') / cm.sum(axis=1)[:, np.newaxis]\n",
        "\n",
        "\n",
        "    thresh = cm.max() / 1.5 if normalize else cm.max() / 2\n",
        "    for i, j in itertools.product(range(cm.shape[0]), range(cm.shape[1])):\n",
        "        if normalize:\n",
        "            plt.text(j, i, \"{:0.4f}\".format(cm[i, j]),\n",
        "                     horizontalalignment=\"center\",\n",
        "                     color=\"white\" if cm[i, j] > thresh else \"black\")\n",
        "        else:\n",
        "            plt.text(j, i, \"{:,}\".format(cm[i, j]),\n",
        "                     horizontalalignment=\"center\",\n",
        "                     color=\"white\" if cm[i, j] > thresh else \"black\")\n",
        "\n",
        "\n",
        "    plt.tight_layout()\n",
        "    plt.ylabel('True label')\n",
        "    plt.xlabel('Predicted label\\naccuracy={:0.4f}; misclass={:0.4f}'.format(accuracy, misclass))\n",
        "    plt.show()"
      ],
      "execution_count": 0,
      "outputs": []
    },
    {
      "metadata": {
        "id": "-b6SqVo8k998",
        "colab_type": "code",
        "colab": {}
      },
      "cell_type": "code",
      "source": [
        "def lr_schedule(epoch):\n",
        "    lrate = 0.001\n",
        "    if epoch > 75:\n",
        "        lrate = 0.0005\n",
        "    elif epoch > 100:\n",
        "        lrate = 0.0003        \n",
        "    return lrate"
      ],
      "execution_count": 0,
      "outputs": []
    },
    {
      "metadata": {
        "id": "A5VS6Ew3k_af",
        "colab_type": "code",
        "colab": {}
      },
      "cell_type": "code",
      "source": [
        "(x_train, y_train), (x_test, y_test) = cifar10.load_data()\n",
        "x_train = x_train.astype('float32')\n",
        "x_test = x_test.astype('float32')"
      ],
      "execution_count": 0,
      "outputs": []
    },
    {
      "metadata": {
        "id": "yowZFp6PlA89",
        "colab_type": "code",
        "colab": {}
      },
      "cell_type": "code",
      "source": [
        "#z-score\n",
        "mean = np.mean(x_train,axis=(0,1,2,3))\n",
        "std = np.std(x_train,axis=(0,1,2,3))\n",
        "x_train = (x_train-mean)/(std+1e-7)\n",
        "x_test = (x_test-mean)/(std+1e-7)"
      ],
      "execution_count": 0,
      "outputs": []
    },
    {
      "metadata": {
        "id": "28UVoDUFlCzo",
        "colab_type": "code",
        "colab": {}
      },
      "cell_type": "code",
      "source": [
        "num_classes = 10\n",
        "y_train = np_utils.to_categorical(y_train,num_classes)\n",
        "y_test = np_utils.to_categorical(y_test,num_classes)"
      ],
      "execution_count": 0,
      "outputs": []
    },
    {
      "metadata": {
        "id": "9yp5f63slEzd",
        "colab_type": "code",
        "colab": {}
      },
      "cell_type": "code",
      "source": [
        "weight_decay = 1e-4\n",
        "model = Sequential()\n",
        "model.add(Conv2D(32, (3,3), padding='same', kernel_regularizer=regularizers.l2(weight_decay), input_shape=x_train.shape[1:]))\n",
        "model.add(Activation('elu'))\n",
        "model.add(BatchNormalization())\n",
        "model.add(Conv2D(32, (3,3), padding='same', kernel_regularizer=regularizers.l2(weight_decay)))\n",
        "model.add(Activation('elu'))\n",
        "model.add(BatchNormalization())\n",
        "model.add(MaxPooling2D(pool_size=(2,2)))\n",
        "model.add(Dropout(0.2))\n",
        "\n",
        "model.add(Conv2D(64, (3,3), padding='same', kernel_regularizer=regularizers.l2(weight_decay)))\n",
        "model.add(Activation('elu'))\n",
        "model.add(BatchNormalization())\n",
        "model.add(Conv2D(64, (3,3), padding='same', kernel_regularizer=regularizers.l2(weight_decay)))\n",
        "model.add(Activation('elu'))\n",
        "model.add(BatchNormalization())\n",
        "model.add(MaxPooling2D(pool_size=(2,2)))\n",
        "model.add(Dropout(0.3))\n",
        "\n",
        "model.add(Conv2D(128, (3,3), padding='same', kernel_regularizer=regularizers.l2(weight_decay)))\n",
        "model.add(Activation('elu'))\n",
        "model.add(BatchNormalization())\n",
        "model.add(Conv2D(128, (3,3), padding='same', kernel_regularizer=regularizers.l2(weight_decay)))\n",
        "model.add(Activation('elu'))\n",
        "model.add(BatchNormalization())\n",
        "model.add(MaxPooling2D(pool_size=(2,2)))\n",
        "model.add(Dropout(0.4))\n",
        "\n",
        "model.add(Flatten())\n",
        "model.add(Dense(num_classes, activation='softmax'))"
      ],
      "execution_count": 0,
      "outputs": []
    },
    {
      "metadata": {
        "id": "gfR56NKwlHhU",
        "colab_type": "code",
        "colab": {
          "base_uri": "https://localhost:8080/",
          "height": 1065
        },
        "outputId": "64c7d944-486f-4e49-bff8-1823b2a9baaa"
      },
      "cell_type": "code",
      "source": [
        "model.summary()"
      ],
      "execution_count": 19,
      "outputs": [
        {
          "output_type": "stream",
          "text": [
            "_________________________________________________________________\n",
            "Layer (type)                 Output Shape              Param #   \n",
            "=================================================================\n",
            "conv2d_7 (Conv2D)            (None, 32, 32, 32)        896       \n",
            "_________________________________________________________________\n",
            "activation_7 (Activation)    (None, 32, 32, 32)        0         \n",
            "_________________________________________________________________\n",
            "batch_normalization_7 (Batch (None, 32, 32, 32)        128       \n",
            "_________________________________________________________________\n",
            "conv2d_8 (Conv2D)            (None, 32, 32, 32)        9248      \n",
            "_________________________________________________________________\n",
            "activation_8 (Activation)    (None, 32, 32, 32)        0         \n",
            "_________________________________________________________________\n",
            "batch_normalization_8 (Batch (None, 32, 32, 32)        128       \n",
            "_________________________________________________________________\n",
            "max_pooling2d_4 (MaxPooling2 (None, 16, 16, 32)        0         \n",
            "_________________________________________________________________\n",
            "dropout_4 (Dropout)          (None, 16, 16, 32)        0         \n",
            "_________________________________________________________________\n",
            "conv2d_9 (Conv2D)            (None, 16, 16, 64)        18496     \n",
            "_________________________________________________________________\n",
            "activation_9 (Activation)    (None, 16, 16, 64)        0         \n",
            "_________________________________________________________________\n",
            "batch_normalization_9 (Batch (None, 16, 16, 64)        256       \n",
            "_________________________________________________________________\n",
            "conv2d_10 (Conv2D)           (None, 16, 16, 64)        36928     \n",
            "_________________________________________________________________\n",
            "activation_10 (Activation)   (None, 16, 16, 64)        0         \n",
            "_________________________________________________________________\n",
            "batch_normalization_10 (Batc (None, 16, 16, 64)        256       \n",
            "_________________________________________________________________\n",
            "max_pooling2d_5 (MaxPooling2 (None, 8, 8, 64)          0         \n",
            "_________________________________________________________________\n",
            "dropout_5 (Dropout)          (None, 8, 8, 64)          0         \n",
            "_________________________________________________________________\n",
            "conv2d_11 (Conv2D)           (None, 8, 8, 128)         73856     \n",
            "_________________________________________________________________\n",
            "activation_11 (Activation)   (None, 8, 8, 128)         0         \n",
            "_________________________________________________________________\n",
            "batch_normalization_11 (Batc (None, 8, 8, 128)         512       \n",
            "_________________________________________________________________\n",
            "conv2d_12 (Conv2D)           (None, 8, 8, 128)         147584    \n",
            "_________________________________________________________________\n",
            "activation_12 (Activation)   (None, 8, 8, 128)         0         \n",
            "_________________________________________________________________\n",
            "batch_normalization_12 (Batc (None, 8, 8, 128)         512       \n",
            "_________________________________________________________________\n",
            "max_pooling2d_6 (MaxPooling2 (None, 4, 4, 128)         0         \n",
            "_________________________________________________________________\n",
            "dropout_6 (Dropout)          (None, 4, 4, 128)         0         \n",
            "_________________________________________________________________\n",
            "flatten_2 (Flatten)          (None, 2048)              0         \n",
            "_________________________________________________________________\n",
            "dense_2 (Dense)              (None, 10)                20490     \n",
            "=================================================================\n",
            "Total params: 309,290\n",
            "Trainable params: 308,394\n",
            "Non-trainable params: 896\n",
            "_________________________________________________________________\n"
          ],
          "name": "stdout"
        }
      ]
    },
    {
      "metadata": {
        "id": "Nm-sllTnlJr0",
        "colab_type": "code",
        "colab": {}
      },
      "cell_type": "code",
      "source": [
        "#data augmentation\n",
        "datagen = ImageDataGenerator(\n",
        "    rotation_range=15,\n",
        "    width_shift_range=0.1,\n",
        "    height_shift_range=0.1,\n",
        "    horizontal_flip=True,\n",
        "    )\n",
        "datagen.fit(x_train)"
      ],
      "execution_count": 0,
      "outputs": []
    },
    {
      "metadata": {
        "id": "A0RtQeP3nqO8",
        "colab_type": "code",
        "colab": {}
      },
      "cell_type": "code",
      "source": [
        "continue_training = False\n",
        "if continue_training:\n",
        "   model.load_weights('weights.hdf5')"
      ],
      "execution_count": 0,
      "outputs": []
    },
    {
      "metadata": {
        "id": "D05Eim8jmojT",
        "colab_type": "code",
        "colab": {}
      },
      "cell_type": "code",
      "source": [
        "mcp_save = ModelCheckpoint('weights.hdf5', save_best_only=True, monitor='val_loss', mode='auto')\n",
        "\n"
      ],
      "execution_count": 0,
      "outputs": []
    },
    {
      "metadata": {
        "id": "Szjij8W8lLZq",
        "colab_type": "code",
        "colab": {
          "base_uri": "https://localhost:8080/",
          "height": 2241
        },
        "outputId": "5f51dfa5-b852-4d30-d3a2-388588fa46ac"
      },
      "cell_type": "code",
      "source": [
        "#training\n",
        "batch_size = 64\n",
        "\n",
        "opt_rms = keras.optimizers.rmsprop(lr=0.001,decay=1e-6)\n",
        "model.compile(loss='categorical_crossentropy', optimizer=opt_rms, metrics=['accuracy'])\n",
        "model.fit_generator(datagen.flow(x_train, y_train, batch_size=batch_size),\\\n",
        "                    steps_per_epoch=x_train.shape[0] // batch_size,epochs=60,\\\n",
        "                    verbose=1,validation_data=(x_test,y_test),callbacks=[mcp_save, LearningRateScheduler(lr_schedule)])"
      ],
      "execution_count": 23,
      "outputs": [
        {
          "output_type": "stream",
          "text": [
            "WARNING:tensorflow:From /usr/local/lib/python3.6/dist-packages/tensorflow/python/ops/math_ops.py:3066: to_int32 (from tensorflow.python.ops.math_ops) is deprecated and will be removed in a future version.\n",
            "Instructions for updating:\n",
            "Use tf.cast instead.\n",
            "Epoch 1/60\n",
            "781/781 [==============================] - 55s 70ms/step - loss: 1.8872 - acc: 0.4270 - val_loss: 1.5231 - val_acc: 0.5582\n",
            "Epoch 2/60\n",
            "781/781 [==============================] - 50s 64ms/step - loss: 1.2531 - acc: 0.5967 - val_loss: 1.0816 - val_acc: 0.6604\n",
            "Epoch 3/60\n",
            "781/781 [==============================] - 50s 64ms/step - loss: 1.0672 - acc: 0.6590 - val_loss: 0.9269 - val_acc: 0.7166\n",
            "Epoch 4/60\n",
            "781/781 [==============================] - 50s 64ms/step - loss: 0.9741 - acc: 0.6917 - val_loss: 0.8749 - val_acc: 0.7379\n",
            "Epoch 5/60\n",
            "781/781 [==============================] - 50s 64ms/step - loss: 0.9073 - acc: 0.7176 - val_loss: 0.9119 - val_acc: 0.7326\n",
            "Epoch 6/60\n",
            "781/781 [==============================] - 50s 64ms/step - loss: 0.8562 - acc: 0.7392 - val_loss: 0.9353 - val_acc: 0.7318\n",
            "Epoch 7/60\n",
            "781/781 [==============================] - 50s 64ms/step - loss: 0.8249 - acc: 0.7522 - val_loss: 0.7653 - val_acc: 0.7814\n",
            "Epoch 8/60\n",
            "781/781 [==============================] - 50s 64ms/step - loss: 0.7887 - acc: 0.7651 - val_loss: 0.7517 - val_acc: 0.7841\n",
            "Epoch 9/60\n",
            "781/781 [==============================] - 50s 63ms/step - loss: 0.7704 - acc: 0.7728 - val_loss: 0.6762 - val_acc: 0.8095\n",
            "Epoch 10/60\n",
            "781/781 [==============================] - 50s 64ms/step - loss: 0.7511 - acc: 0.7799 - val_loss: 0.7417 - val_acc: 0.7909\n",
            "Epoch 11/60\n",
            "781/781 [==============================] - 50s 65ms/step - loss: 0.7370 - acc: 0.7863 - val_loss: 0.7369 - val_acc: 0.7926\n",
            "Epoch 12/60\n",
            "781/781 [==============================] - 50s 64ms/step - loss: 0.7217 - acc: 0.7947 - val_loss: 0.7436 - val_acc: 0.7956\n",
            "Epoch 13/60\n",
            "781/781 [==============================] - 50s 64ms/step - loss: 0.7121 - acc: 0.7972 - val_loss: 0.6578 - val_acc: 0.8237\n",
            "Epoch 14/60\n",
            "781/781 [==============================] - 53s 68ms/step - loss: 0.7022 - acc: 0.8006 - val_loss: 0.7934 - val_acc: 0.7898\n",
            "Epoch 15/60\n",
            "781/781 [==============================] - 50s 64ms/step - loss: 0.6939 - acc: 0.8056 - val_loss: 0.6183 - val_acc: 0.8343\n",
            "Epoch 16/60\n",
            "781/781 [==============================] - 51s 65ms/step - loss: 0.6837 - acc: 0.8098 - val_loss: 0.7126 - val_acc: 0.8101\n",
            "Epoch 17/60\n",
            "781/781 [==============================] - 52s 66ms/step - loss: 0.6774 - acc: 0.8117 - val_loss: 0.7119 - val_acc: 0.8120\n",
            "Epoch 18/60\n",
            "781/781 [==============================] - 51s 65ms/step - loss: 0.6692 - acc: 0.8141 - val_loss: 0.6475 - val_acc: 0.8323\n",
            "Epoch 19/60\n",
            "781/781 [==============================] - 87s 111ms/step - loss: 0.6651 - acc: 0.8172 - val_loss: 0.6678 - val_acc: 0.8267\n",
            "Epoch 20/60\n",
            "781/781 [==============================] - 53s 67ms/step - loss: 0.6631 - acc: 0.8194 - val_loss: 0.6683 - val_acc: 0.8246\n",
            "Epoch 21/60\n",
            "781/781 [==============================] - 50s 64ms/step - loss: 0.6584 - acc: 0.8205 - val_loss: 0.6535 - val_acc: 0.8293\n",
            "Epoch 22/60\n",
            "781/781 [==============================] - 50s 65ms/step - loss: 0.6482 - acc: 0.8250 - val_loss: 0.6095 - val_acc: 0.8433\n",
            "Epoch 23/60\n",
            "781/781 [==============================] - 51s 65ms/step - loss: 0.6445 - acc: 0.8253 - val_loss: 0.5971 - val_acc: 0.8467\n",
            "Epoch 24/60\n",
            "781/781 [==============================] - 50s 64ms/step - loss: 0.6397 - acc: 0.8297 - val_loss: 0.6270 - val_acc: 0.8343\n",
            "Epoch 25/60\n",
            "781/781 [==============================] - 50s 64ms/step - loss: 0.6381 - acc: 0.8282 - val_loss: 0.6754 - val_acc: 0.8253\n",
            "Epoch 26/60\n",
            "781/781 [==============================] - 50s 64ms/step - loss: 0.6439 - acc: 0.8278 - val_loss: 0.6222 - val_acc: 0.8370\n",
            "Epoch 27/60\n",
            "781/781 [==============================] - 50s 64ms/step - loss: 0.6327 - acc: 0.8299 - val_loss: 0.6021 - val_acc: 0.8482\n",
            "Epoch 28/60\n",
            "781/781 [==============================] - 50s 64ms/step - loss: 0.6324 - acc: 0.8313 - val_loss: 0.5931 - val_acc: 0.8478\n",
            "Epoch 29/60\n",
            "781/781 [==============================] - 50s 64ms/step - loss: 0.6302 - acc: 0.8332 - val_loss: 0.6169 - val_acc: 0.8402\n",
            "Epoch 30/60\n",
            "781/781 [==============================] - 50s 63ms/step - loss: 0.6240 - acc: 0.8343 - val_loss: 0.5902 - val_acc: 0.8471\n",
            "Epoch 31/60\n",
            "781/781 [==============================] - 49s 62ms/step - loss: 0.6230 - acc: 0.8356 - val_loss: 0.6357 - val_acc: 0.8391\n",
            "Epoch 32/60\n",
            "781/781 [==============================] - 49s 62ms/step - loss: 0.6196 - acc: 0.8360 - val_loss: 0.5715 - val_acc: 0.8587\n",
            "Epoch 33/60\n",
            "781/781 [==============================] - 48s 62ms/step - loss: 0.6203 - acc: 0.8393 - val_loss: 0.6406 - val_acc: 0.8383\n",
            "Epoch 34/60\n",
            "781/781 [==============================] - 49s 62ms/step - loss: 0.6148 - acc: 0.8396 - val_loss: 0.6648 - val_acc: 0.8279\n",
            "Epoch 35/60\n",
            "781/781 [==============================] - 48s 62ms/step - loss: 0.6162 - acc: 0.8398 - val_loss: 0.5955 - val_acc: 0.8507\n",
            "Epoch 36/60\n",
            "781/781 [==============================] - 48s 61ms/step - loss: 0.6122 - acc: 0.8409 - val_loss: 0.5937 - val_acc: 0.8550\n",
            "Epoch 37/60\n",
            "781/781 [==============================] - 49s 62ms/step - loss: 0.6135 - acc: 0.8399 - val_loss: 0.6120 - val_acc: 0.8487\n",
            "Epoch 38/60\n",
            "781/781 [==============================] - 49s 62ms/step - loss: 0.6089 - acc: 0.8406 - val_loss: 0.5967 - val_acc: 0.8468\n",
            "Epoch 39/60\n",
            "781/781 [==============================] - 49s 63ms/step - loss: 0.6085 - acc: 0.8408 - val_loss: 0.5983 - val_acc: 0.8473\n",
            "Epoch 40/60\n",
            "781/781 [==============================] - 49s 62ms/step - loss: 0.6091 - acc: 0.8431 - val_loss: 0.6034 - val_acc: 0.8520\n",
            "Epoch 41/60\n",
            "781/781 [==============================] - 48s 62ms/step - loss: 0.6070 - acc: 0.8416 - val_loss: 0.6201 - val_acc: 0.8408\n",
            "Epoch 42/60\n",
            "781/781 [==============================] - 49s 63ms/step - loss: 0.6071 - acc: 0.8430 - val_loss: 0.6162 - val_acc: 0.8482\n",
            "Epoch 43/60\n",
            "781/781 [==============================] - 50s 64ms/step - loss: 0.6050 - acc: 0.8442 - val_loss: 0.6608 - val_acc: 0.8385\n",
            "Epoch 44/60\n",
            "781/781 [==============================] - 50s 64ms/step - loss: 0.5989 - acc: 0.8450 - val_loss: 0.6122 - val_acc: 0.8490\n",
            "Epoch 45/60\n",
            "781/781 [==============================] - 48s 62ms/step - loss: 0.6062 - acc: 0.8444 - val_loss: 0.5921 - val_acc: 0.8524\n",
            "Epoch 46/60\n",
            "781/781 [==============================] - 49s 62ms/step - loss: 0.6005 - acc: 0.8461 - val_loss: 0.6228 - val_acc: 0.8444\n",
            "Epoch 47/60\n",
            "781/781 [==============================] - 49s 63ms/step - loss: 0.5958 - acc: 0.8468 - val_loss: 0.6463 - val_acc: 0.8372\n",
            "Epoch 48/60\n",
            "781/781 [==============================] - 49s 63ms/step - loss: 0.5963 - acc: 0.8472 - val_loss: 0.6076 - val_acc: 0.8480\n",
            "Epoch 49/60\n",
            "781/781 [==============================] - 51s 65ms/step - loss: 0.5943 - acc: 0.8472 - val_loss: 0.5993 - val_acc: 0.8506\n",
            "Epoch 50/60\n",
            "781/781 [==============================] - 50s 64ms/step - loss: 0.5934 - acc: 0.8469 - val_loss: 0.6304 - val_acc: 0.8459\n",
            "Epoch 51/60\n",
            "781/781 [==============================] - 48s 62ms/step - loss: 0.5948 - acc: 0.8472 - val_loss: 0.6211 - val_acc: 0.8484\n",
            "Epoch 52/60\n",
            "781/781 [==============================] - 48s 62ms/step - loss: 0.5934 - acc: 0.8490 - val_loss: 0.6299 - val_acc: 0.8397\n",
            "Epoch 53/60\n",
            "781/781 [==============================] - 49s 62ms/step - loss: 0.5941 - acc: 0.8480 - val_loss: 0.5514 - val_acc: 0.8677\n",
            "Epoch 54/60\n",
            "781/781 [==============================] - 49s 63ms/step - loss: 0.5880 - acc: 0.8495 - val_loss: 0.5990 - val_acc: 0.8529\n",
            "Epoch 55/60\n",
            "781/781 [==============================] - 51s 65ms/step - loss: 0.5889 - acc: 0.8509 - val_loss: 0.5698 - val_acc: 0.8614\n",
            "Epoch 56/60\n",
            "781/781 [==============================] - 49s 63ms/step - loss: 0.5939 - acc: 0.8496 - val_loss: 0.6256 - val_acc: 0.8441\n",
            "Epoch 57/60\n",
            "781/781 [==============================] - 48s 61ms/step - loss: 0.5811 - acc: 0.8515 - val_loss: 0.6204 - val_acc: 0.8434\n",
            "Epoch 58/60\n",
            "781/781 [==============================] - 47s 61ms/step - loss: 0.5895 - acc: 0.8480 - val_loss: 0.6533 - val_acc: 0.8341\n",
            "Epoch 59/60\n",
            "781/781 [==============================] - 48s 62ms/step - loss: 0.5897 - acc: 0.8493 - val_loss: 0.5977 - val_acc: 0.8537\n",
            "Epoch 60/60\n",
            "781/781 [==============================] - 48s 61ms/step - loss: 0.5864 - acc: 0.8510 - val_loss: 0.5622 - val_acc: 0.8610\n"
          ],
          "name": "stdout"
        },
        {
          "output_type": "execute_result",
          "data": {
            "text/plain": [
              "<keras.callbacks.History at 0x7f87cbf269b0>"
            ]
          },
          "metadata": {
            "tags": []
          },
          "execution_count": 23
        }
      ]
    },
    {
      "metadata": {
        "id": "jhFxB_fGmxOL",
        "colab_type": "code",
        "colab": {}
      },
      "cell_type": "code",
      "source": [
        "\n",
        "model.load_weights('weights.hdf5')\n",
        "model.save('BaselineCifar10Model.h5')"
      ],
      "execution_count": 0,
      "outputs": []
    },
    {
      "metadata": {
        "id": "-1zgsu4c0A9n",
        "colab_type": "code",
        "colab": {}
      },
      "cell_type": "code",
      "source": [
        "from matplotlib import pyplot as plt\n"
      ],
      "execution_count": 0,
      "outputs": []
    },
    {
      "metadata": {
        "id": "es5danT_lVtZ",
        "colab_type": "code",
        "colab": {}
      },
      "cell_type": "code",
      "source": [
        "#save to disk\n",
        "model_json = model.to_json()\n",
        "with open('model.json', 'w') as json_file:\n",
        "    json_file.write(model_json)\n",
        "\n",
        "model.save_weights('model.h5') "
      ],
      "execution_count": 0,
      "outputs": []
    },
    {
      "metadata": {
        "id": "pMxoADr9nBdo",
        "colab_type": "code",
        "colab": {
          "base_uri": "https://localhost:8080/",
          "height": 281
        },
        "outputId": "3bc50a8e-11df-4fb7-b551-4defe14506f4"
      },
      "cell_type": "code",
      "source": [
        "loss = model.history.history['loss']\n",
        "val_loss = model.history.history['val_loss']\n",
        "epochs = range(60)\n",
        "plt.figure()\n",
        "plt.plot(epochs, loss, 'bo', label='Training loss')\n",
        "plt.plot(epochs, val_loss, 'b', label='Validation loss')\n",
        "plt.title('Training and validation loss')\n",
        "plt.legend()\n",
        "plt.show()"
      ],
      "execution_count": 29,
      "outputs": [
        {
          "output_type": "display_data",
          "data": {
            "image/png": "[encoded data removed]",
            "text/plain": [
              "<Figure size 432x288 with 1 Axes>"
            ]
          },
          "metadata": {
            "tags": []
          }
        }
      ]
    },
    {
      "metadata": {
        "id": "mvi_qm0UnBay",
        "colab_type": "code",
        "colab": {
          "base_uri": "https://localhost:8080/",
          "height": 545
        },
        "outputId": "afd9e44b-3917-42d9-f020-0424d3ecf290"
      },
      "cell_type": "code",
      "source": [
        "accuracy = model.history.history['acc']\n",
        "val_accuracy = model.history.history['val_acc']\n",
        "loss = model.history.history['loss']\n",
        "val_loss = model.history.history['val_loss']\n",
        "epochs = range(len(accuracy))\n",
        "plt.plot(epochs, accuracy, 'bo', label='Training accuracy')\n",
        "plt.plot(epochs, val_accuracy, 'b', label='Validation accuracy')\n",
        "plt.title('Training and validation accuracy')\n",
        "plt.legend()\n",
        "plt.figure()\n",
        "plt.plot(epochs, loss, 'bo', label='Training loss')\n",
        "plt.plot(epochs, val_loss, 'b', label='Validation loss')\n",
        "plt.title('Training and validation loss')\n",
        "plt.legend()\n",
        "plt.show()"
      ],
      "execution_count": 30,
      "outputs": [
        {
          "output_type": "display_data",
          "data": {
            "image/png": "[encoded data removed]",
            "text/plain": [
              "<Figure size 432x288 with 1 Axes>"
            ]
          },
          "metadata": {
            "tags": []
          }
        },
        {
          "output_type": "display_data",
          "data": {
            "image/png": "[encoded data removed]",
            "text/plain": [
              "<Figure size 432x288 with 1 Axes>"
            ]
          },
          "metadata": {
            "tags": []
          }
        }
      ]
    },
    {
      "metadata": {
        "id": "Ly8YcD43nBYc",
        "colab_type": "code",
        "colab": {}
      },
      "cell_type": "code",
      "source": [
        "predicted_classes = model.predict(x_test)\n",
        "predicted_classes = np.argmax(np.round(predicted_classes),axis=1)\n",
        "orig_classes = np.argmax(np.round(y_test),axis=1)"
      ],
      "execution_count": 0,
      "outputs": []
    },
    {
      "metadata": {
        "id": "w_8JRITP0Qn5",
        "colab_type": "code",
        "colab": {}
      },
      "cell_type": "code",
      "source": [
        "from sklearn.metrics import confusion_matrix"
      ],
      "execution_count": 0,
      "outputs": []
    },
    {
      "metadata": {
        "id": "GBouV4NenBVG",
        "colab_type": "code",
        "colab": {
          "base_uri": "https://localhost:8080/",
          "height": 466
        },
        "outputId": "f223e0d0-af90-4c64-8cfa-d97cc6029860"
      },
      "cell_type": "code",
      "source": [
        "class_names = ['airplane','automobile','bird','cat','deer',\n",
        "               'dog','frog','horse','ship','truck']\n",
        "plot_confusion_matrix(cm           = confusion_matrix(predicted_classes, orig_classes), \n",
        "                      normalize    = False,\n",
        "                      target_names = class_names,\n",
        "                      title        = \"Confusion Matrix\")"
      ],
      "execution_count": 34,
      "outputs": [
        {
          "output_type": "display_data",
          "data": {
            "image/png": "[encoded data removed]",
            "text/plain": [
              "<Figure size 576x432 with 2 Axes>"
            ]
          },
          "metadata": {
            "tags": []
          }
        }
      ]
    },
    {
      "metadata": {
        "id": "wIp7YsqInBSh",
        "colab_type": "code",
        "colab": {
          "base_uri": "https://localhost:8080/",
          "height": 34
        },
        "outputId": "d1c9d91a-b5de-472b-8980-8db52a536b9a"
      },
      "cell_type": "code",
      "source": [
        "cm = confusion_matrix(predicted_classes, orig_classes)\n",
        "per_class_accuracy  = np.diag(cm)\n",
        "per_class_accuracy"
      ],
      "execution_count": 35,
      "outputs": [
        {
          "output_type": "execute_result",
          "data": {
            "text/plain": [
              "array([937, 951, 744, 703, 847, 632, 935, 888, 915, 915])"
            ]
          },
          "metadata": {
            "tags": []
          },
          "execution_count": 35
        }
      ]
    },
    {
      "metadata": {
        "id": "ZzbqdZd0nauD",
        "colab_type": "code",
        "colab": {
          "base_uri": "https://localhost:8080/",
          "height": 52
        },
        "outputId": "fb28539d-ba05-4bc9-910f-86e9b61457cc"
      },
      "cell_type": "code",
      "source": [
        "np.diag(cm/cm.sum(axis=1)[:,None])"
      ],
      "execution_count": 36,
      "outputs": [
        {
          "output_type": "execute_result",
          "data": {
            "text/plain": [
              "array([0.56616314, 0.91442308, 0.91625616, 0.81460023, 0.88784067,\n",
              "       0.93491124, 0.85232452, 0.92020725, 0.95611285, 0.93272171])"
            ]
          },
          "metadata": {
            "tags": []
          },
          "execution_count": 36
        }
      ]
    },
    {
      "metadata": {
        "id": "vBe7A8Isnari",
        "colab_type": "code",
        "colab": {
          "base_uri": "https://localhost:8080/",
          "height": 318
        },
        "outputId": "01e76d0c-ba3a-4d52-a42d-13f4394cfd03"
      },
      "cell_type": "code",
      "source": [
        "from sklearn.metrics import classification_report\n",
        "target_names = class_names\n",
        "print(classification_report(orig_classes, predicted_classes, target_names=target_names))"
      ],
      "execution_count": 37,
      "outputs": [
        {
          "output_type": "stream",
          "text": [
            "              precision    recall  f1-score   support\n",
            "\n",
            "    airplane       0.57      0.94      0.71      1000\n",
            "  automobile       0.91      0.95      0.93      1000\n",
            "        bird       0.92      0.74      0.82      1000\n",
            "         cat       0.81      0.70      0.75      1000\n",
            "        deer       0.89      0.85      0.87      1000\n",
            "         dog       0.93      0.63      0.75      1000\n",
            "        frog       0.85      0.94      0.89      1000\n",
            "       horse       0.92      0.89      0.90      1000\n",
            "        ship       0.96      0.92      0.94      1000\n",
            "       truck       0.93      0.92      0.92      1000\n",
            "\n",
            "   micro avg       0.85      0.85      0.85     10000\n",
            "   macro avg       0.87      0.85      0.85     10000\n",
            "weighted avg       0.87      0.85      0.85     10000\n",
            "\n"
          ],
          "name": "stdout"
        }
      ]
    },
    {
      "metadata": {
        "id": "oB2l63k8naoL",
        "colab_type": "code",
        "colab": {}
      },
      "cell_type": "code",
      "source": [
        ""
      ],
      "execution_count": 0,
      "outputs": []
    },
    {
      "metadata": {
        "id": "7EvJxvyvnBPX",
        "colab_type": "code",
        "colab": {}
      },
      "cell_type": "code",
      "source": [
        ""
      ],
      "execution_count": 0,
      "outputs": []
    },
    {
      "metadata": {
        "id": "vRB8s88alNt9",
        "colab_type": "code",
        "colab": {
          "base_uri": "https://localhost:8080/",
          "height": 70
        },
        "outputId": "aa8bfd05-7f65-41d5-fc9a-0e07d89e4e35"
      },
      "cell_type": "code",
      "source": [
        "#testing\n",
        "scores = model.evaluate(x_test, y_test, batch_size=128, verbose=1)\n",
        "print('\\nTest result: %.3f loss: %.3f' % (scores[1]*100,scores[0]))"
      ],
      "execution_count": 38,
      "outputs": [
        {
          "output_type": "stream",
          "text": [
            "10000/10000 [==============================] - 1s 135us/step\n",
            "\n",
            "Test result: 86.770 loss: 0.551\n"
          ],
          "name": "stdout"
        }
      ]
    },
    {
      "metadata": {
        "id": "Z02U8LpnmcnB",
        "colab_type": "code",
        "colab": {}
      },
      "cell_type": "code",
      "source": [
        ""
      ],
      "execution_count": 0,
      "outputs": []
    }
  ]
}