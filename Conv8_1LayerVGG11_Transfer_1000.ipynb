{
  "nbformat": 4,
  "nbformat_minor": 0,
  "metadata": {
    "colab": {
      "name": "Conv8_1LayerVGG11_Transfer_1000.ipynb",
      "version": "0.3.2",
      "provenance": [],
      "collapsed_sections": [],
      "toc_visible": true,
      "include_colab_link": true
    },
    "kernelspec": {
      "name": "python3",
      "display_name": "Python 3"
    },
    "accelerator": "GPU"
  },
  "cells": [
    {
      "cell_type": "markdown",
      "metadata": {
        "id": "view-in-github",
        "colab_type": "text"
      },
      "source": [
        "<a href=\"https://colab.research.google.com/github/preritt/KProj/blob/master/Conv8_1LayerVGG11_Transfer_1000.ipynb\" target=\"_parent\"><img src=\"https://colab.research.google.com/assets/colab-badge.svg\" alt=\"Open In Colab\"/></a>"
      ]
    },
    {
      "cell_type": "markdown",
      "metadata": {
        "id": "kdTAcjYec3s7",
        "colab_type": "text"
      },
      "source": [
        "## Load standard libraries"
      ]
    },
    {
      "cell_type": "code",
      "metadata": {
        "id": "oCo6LRTTcxmC",
        "colab_type": "code",
        "outputId": "9cac8fcd-ce40-40e5-b24f-0634cafabb86",
        "colab": {
          "base_uri": "https://localhost:8080/",
          "height": 34
        }
      },
      "source": [
        "import keras\n",
        "from matplotlib import pyplot as plt\n",
        "import numpy as np\n",
        "import gzip\n",
        "%matplotlib inline\n",
        "from keras.models import Model\n",
        "from keras.optimizers import RMSprop\n",
        "from keras.layers import Input,Dense,Flatten,Dropout,merge,Reshape,Conv2D,MaxPooling2D,UpSampling2D,Conv2DTranspose\n",
        "from keras.layers.normalization import BatchNormalization\n",
        "from keras.models import Model,Sequential\n",
        "from keras.callbacks import ModelCheckpoint\n",
        "from keras.optimizers import Adadelta, RMSprop,SGD,Adam\n",
        "from keras import regularizers\n",
        "from keras import backend as K\n",
        "from keras.utils import to_categorical\n",
        "from keras.datasets import cifar10\n",
        "from sklearn import preprocessing\n",
        "from keras import losses\n",
        "from keras.models import model_from_json\n",
        "import keras\n",
        "from keras.models import Sequential\n",
        "from keras.utils import np_utils\n",
        "from keras.preprocessing.image import ImageDataGenerator\n",
        "from keras.layers import Dense, Activation, Flatten, Dropout, BatchNormalization\n",
        "from keras.layers import Conv2D, MaxPooling2D\n",
        "from keras.datasets import cifar10\n",
        "from keras import regularizers\n",
        "from keras.callbacks import LearningRateScheduler\n",
        "import numpy as np\n",
        "from sklearn.metrics import confusion_matrix\n",
        "from sklearn.model_selection import train_test_split\n",
        "from sklearn.utils import shuffle"
      ],
      "execution_count": 1,
      "outputs": [
        {
          "output_type": "stream",
          "text": [
            "Using TensorFlow backend.\n"
          ],
          "name": "stderr"
        }
      ]
    },
    {
      "cell_type": "code",
      "metadata": {
        "id": "Sg_ZApCOPN9u",
        "colab_type": "code",
        "colab": {}
      },
      "source": [
        "from keras.utils.vis_utils import plot_model\n"
      ],
      "execution_count": 0,
      "outputs": []
    },
    {
      "cell_type": "code",
      "metadata": {
        "id": "oG3txkjndHWQ",
        "colab_type": "code",
        "colab": {}
      },
      "source": [
        "keras.backend.clear_session()"
      ],
      "execution_count": 0,
      "outputs": []
    },
    {
      "cell_type": "markdown",
      "metadata": {
        "id": "8rDrYIgZc20A",
        "colab_type": "text"
      },
      "source": [
        "## Load image data"
      ]
    },
    {
      "cell_type": "code",
      "metadata": {
        "id": "XZUnD2K0ErdL",
        "colab_type": "code",
        "colab": {
          "base_uri": "https://localhost:8080/",
          "height": 52
        },
        "outputId": "126dc7fc-c71f-447a-9690-f1f0900f8ae4"
      },
      "source": [
        "!pip install scipy"
      ],
      "execution_count": 4,
      "outputs": [
        {
          "output_type": "stream",
          "text": [
            "Requirement already satisfied: scipy in /usr/local/lib/python3.6/dist-packages (1.3.0)\n",
            "Requirement already satisfied: numpy>=1.13.3 in /usr/local/lib/python3.6/dist-packages (from scipy) (1.16.3)\n"
          ],
          "name": "stdout"
        }
      ]
    },
    {
      "cell_type": "code",
      "metadata": {
        "id": "585DNuo-Em2R",
        "colab_type": "code",
        "colab": {}
      },
      "source": [
        "# from scipy.misc import toimage\n"
      ],
      "execution_count": 0,
      "outputs": []
    },
    {
      "cell_type": "code",
      "metadata": {
        "id": "85Dlxs7adKVS",
        "colab_type": "code",
        "colab": {}
      },
      "source": [
        "from matplotlib import pyplot\n",
        "# from scipy.misc import toimage\n",
        "from keras.datasets import cifar10\n",
        "# def show_imgs(X):\n",
        "#     pyplot.figure(1)\n",
        "#     k = 0\n",
        "#     for i in range(0,4):\n",
        "#         for j in range(0,4):\n",
        "#             pyplot.subplot2grid((4,4),(i,j))\n",
        "#             pyplot.imshow(toimage(X[k]))\n",
        "#             k = k+1\n",
        "#     # show the plot\n",
        "#     pyplot.show()\n",
        " \n",
        "(x_train, y_train), (x_test, y_test) = cifar10.load_data()\n",
        "# show_imgs(x_test[:16])\n"
      ],
      "execution_count": 0,
      "outputs": []
    },
    {
      "cell_type": "markdown",
      "metadata": {
        "id": "dQQPlF6RdS2m",
        "colab_type": "text"
      },
      "source": [
        "## Create Function to get data corresponding to three labels"
      ]
    },
    {
      "cell_type": "code",
      "metadata": {
        "id": "GFyk3xzNdYNW",
        "colab_type": "code",
        "colab": {}
      },
      "source": [
        "# This function takes the entire traaining data and test data and corresponding categorical label and returns the corresponding data in class indices\n",
        "def getThreeClassesTrainTest(class_indices,train_data,train_labels,test_data,test_labels):\n",
        "  all_train_data = []\n",
        "  all_train_data_label = []\n",
        "  all_test_data = []\n",
        "  all_test_data_label = []\n",
        "  for ind in class_indices:\n",
        "    this_class_location_train =  np.where(train_labels==ind)[0] # train_labels[train_labels == ind]\n",
        "    this_class_data_train = train_data[this_class_location_train,:]\n",
        "    this_class_data_train_label = train_labels[this_class_location_train]\n",
        "#     print(this_class_location_train)\n",
        "    \n",
        "    this_class_location_test = np.where(test_labels==ind)[0] #test_labels[test_labels == ind]\n",
        "    this_class_data_test = test_data[this_class_location_test,:]\n",
        "    this_class_data_test_label = test_labels[this_class_location_test]\n",
        "    \n",
        "    all_train_data.append(this_class_data_train)\n",
        "    all_test_data.append(this_class_data_test)\n",
        "    all_train_data_label.append(this_class_data_train_label)\n",
        "    all_test_data_label.append(this_class_data_test_label)\n",
        "    \n",
        "  train_data_three = all_train_data[0]\n",
        "  train_label_three = all_train_data_label[0]\n",
        "  test_data_three = all_test_data[0]\n",
        "  test_label_three = all_test_data_label[0]\n",
        "  \n",
        "  for j in range(1,len(class_indices)):\n",
        "    train_data_three = np.concatenate((train_data_three,all_train_data[j]))\n",
        "    train_label_three = np.concatenate((train_label_three,all_train_data_label[j]))\n",
        "\n",
        "    test_data_three = np.concatenate((test_data_three,all_test_data[j]))\n",
        "    test_label_three = np.concatenate((test_label_three,all_test_data_label[j]))\n",
        "#   print(train_label_three.shape)\n",
        "  train_label_three = np.reshape(train_label_three,newshape=(-1,))\n",
        "  test_label_three = np.reshape(test_label_three,newshape=(-1,))\n",
        "  return train_data_three, train_label_three, test_data_three,test_label_three"
      ],
      "execution_count": 0,
      "outputs": []
    },
    {
      "cell_type": "markdown",
      "metadata": {
        "id": "ex0j41PLde2x",
        "colab_type": "text"
      },
      "source": [
        "## Get data for three classes using getThreeClassesTrainTest function"
      ]
    },
    {
      "cell_type": "code",
      "metadata": {
        "id": "IpqbOTfBdhHk",
        "colab_type": "code",
        "colab": {}
      },
      "source": [
        "# train_three_data,train_three_label,test_three_data,test_three_label = getThreeClassesTrainTest([ 0,3,5 ],x_train,y_train,x_test,y_test)"
      ],
      "execution_count": 0,
      "outputs": []
    },
    {
      "cell_type": "code",
      "metadata": {
        "id": "ddFucSl_YW5B",
        "colab_type": "code",
        "colab": {}
      },
      "source": [
        "train_three_data,train_three_label,test_three_data,test_three_label = (np.load('train_three_data_saved.npy'),\n",
        "                                                                      np.load('train_three_label_saved.npy'),\n",
        "                                                                      np.load('test_three_data_saved.npy'),\n",
        "                                                                      np.load('test_three_label_saved.npy'))"
      ],
      "execution_count": 0,
      "outputs": []
    },
    {
      "cell_type": "code",
      "metadata": {
        "id": "VDQiwalsYIGo",
        "colab_type": "code",
        "outputId": "57192445-73a1-43ff-96f5-d54d9ec17f0a",
        "colab": {
          "base_uri": "https://localhost:8080/",
          "height": 34
        }
      },
      "source": [
        "train_three_label"
      ],
      "execution_count": 9,
      "outputs": [
        {
          "output_type": "execute_result",
          "data": {
            "text/plain": [
              "array([0, 3, 5, ..., 0, 5, 5], dtype=uint8)"
            ]
          },
          "metadata": {
            "tags": []
          },
          "execution_count": 9
        }
      ]
    },
    {
      "cell_type": "code",
      "metadata": {
        "id": "OCQfV4TvZh1r",
        "colab_type": "code",
        "outputId": "c96ab325-f9dc-45fd-e7e7-6a54af9a167a",
        "colab": {
          "base_uri": "https://localhost:8080/",
          "height": 34
        }
      },
      "source": [
        "test_three_label"
      ],
      "execution_count": 10,
      "outputs": [
        {
          "output_type": "execute_result",
          "data": {
            "text/plain": [
              "array([3, 5, 0, ..., 5, 0, 5])"
            ]
          },
          "metadata": {
            "tags": []
          },
          "execution_count": 10
        }
      ]
    },
    {
      "cell_type": "code",
      "metadata": {
        "id": "9gK_tiIWd2Nf",
        "colab_type": "code",
        "outputId": "54ee45af-d855-41ad-bf70-b619331ea025",
        "colab": {
          "base_uri": "https://localhost:8080/",
          "height": 340
        }
      },
      "source": [
        "plt.hist(train_three_label)"
      ],
      "execution_count": 11,
      "outputs": [
        {
          "output_type": "execute_result",
          "data": {
            "text/plain": [
              "(array([5000.,    0.,    0.,    0.,    0.,    0., 5000.,    0.,    0.,\n",
              "        5000.]),\n",
              " array([0. , 0.5, 1. , 1.5, 2. , 2.5, 3. , 3.5, 4. , 4.5, 5. ]),\n",
              " <a list of 10 Patch objects>)"
            ]
          },
          "metadata": {
            "tags": []
          },
          "execution_count": 11
        },
        {
          "output_type": "display_data",
          "data": {
            "image/png": "[encoded data removed]",
            "text/plain": [
              "<Figure size 432x288 with 1 Axes>"
            ]
          },
          "metadata": {
            "tags": []
          }
        }
      ]
    },
    {
      "cell_type": "code",
      "metadata": {
        "id": "AEYcIMeqd4i1",
        "colab_type": "code",
        "outputId": "2dcdda01-ee8d-4b9b-89e5-06d094afcc9c",
        "colab": {
          "base_uri": "https://localhost:8080/",
          "height": 340
        }
      },
      "source": [
        "plt.hist(test_three_label)"
      ],
      "execution_count": 12,
      "outputs": [
        {
          "output_type": "execute_result",
          "data": {
            "text/plain": [
              "(array([1000.,    0.,    0.,    0.,    0.,    0., 1000.,    0.,    0.,\n",
              "        1000.]),\n",
              " array([0. , 0.5, 1. , 1.5, 2. , 2.5, 3. , 3.5, 4. , 4.5, 5. ]),\n",
              " <a list of 10 Patch objects>)"
            ]
          },
          "metadata": {
            "tags": []
          },
          "execution_count": 12
        },
        {
          "output_type": "display_data",
          "data": {
            "image/png": "[encoded data removed]",
            "text/plain": [
              "<Figure size 432x288 with 1 Axes>"
            ]
          },
          "metadata": {
            "tags": []
          }
        }
      ]
    },
    {
      "cell_type": "code",
      "metadata": {
        "id": "z4n_WiMNd_Hf",
        "colab_type": "code",
        "colab": {}
      },
      "source": [
        "# train_three_data, train_three_label = shuffle(train_three_data, train_three_label )\n",
        "# test_three_data,test_three_label = shuffle(test_three_data,test_three_label )"
      ],
      "execution_count": 0,
      "outputs": []
    },
    {
      "cell_type": "code",
      "metadata": {
        "id": "VT_AKqQmeBk_",
        "colab_type": "code",
        "colab": {}
      },
      "source": [
        "le = preprocessing.LabelEncoder()\n",
        "le.fit_transform(train_three_label)\n",
        "train_three_label_cat = le.transform(train_three_label)\n",
        "test_three_label_cat = le.transform(test_three_label)\n",
        "train_three_label_one_hot = to_categorical(train_three_label_cat)\n",
        "test_three_label_one_hot = to_categorical(test_three_label_cat)"
      ],
      "execution_count": 0,
      "outputs": []
    },
    {
      "cell_type": "code",
      "metadata": {
        "id": "rWEjK_exeEaJ",
        "colab_type": "code",
        "colab": {}
      },
      "source": [
        "# split train data and to create validation data\n",
        "train_X,valid_X,train_ground,valid_ground = train_test_split(train_three_data,\n",
        "                                                             train_three_label_one_hot,\n",
        "                                                             test_size=0.2,\n",
        "                                                             random_state=13)"
      ],
      "execution_count": 0,
      "outputs": []
    },
    {
      "cell_type": "code",
      "metadata": {
        "id": "mOFKlZWKeH25",
        "colab_type": "code",
        "colab": {}
      },
      "source": [
        "num_classes = test_three_label_one_hot.shape[1]"
      ],
      "execution_count": 0,
      "outputs": []
    },
    {
      "cell_type": "code",
      "metadata": {
        "id": "lr931MtCYGoN",
        "colab_type": "code",
        "colab": {}
      },
      "source": [
        ""
      ],
      "execution_count": 0,
      "outputs": []
    },
    {
      "cell_type": "markdown",
      "metadata": {
        "id": "Ssi32yj-d1iX",
        "colab_type": "text"
      },
      "source": [
        "## Define the model"
      ]
    },
    {
      "cell_type": "code",
      "metadata": {
        "id": "uUISHV2weN0t",
        "colab_type": "code",
        "colab": {}
      },
      "source": [
        "x, y = 32, 32\n",
        "inChannel = 3\n",
        "input_img = Input(shape = (x, y, inChannel))\n",
        "ep = 10 \n",
        "weight_decay = 1e-4"
      ],
      "execution_count": 0,
      "outputs": []
    },
    {
      "cell_type": "code",
      "metadata": {
        "id": "Ich0RbYnebwW",
        "colab_type": "code",
        "colab": {}
      },
      "source": [
        "def cifar10Classifier(input_img):\n",
        "  \n",
        "  conv1_1 = (Conv2D(64, (3,3),name = 'conv1_1' ,padding='same', \n",
        "                    kernel_regularizer=regularizers.l2(weight_decay), input_shape=x_train.shape[1:],\n",
        "                    activation='relu'))(input_img)\n",
        "  conv1_2 = BatchNormalization(name = 'conv1_2')(conv1_1)\n",
        "  pool1_3 = MaxPooling2D(pool_size=(2, 2), name = 'pool1_3')(conv1_2) #14 x 14 x 32\n",
        "  conv2_1 = (Conv2D(128, (3,3),name = 'conv2_1' ,padding='same',\n",
        "                    activation= 'relu',kernel_regularizer=regularizers.l2(weight_decay)))(pool1_3)\n",
        "  conv2_2 = BatchNormalization(name = 'conv2_2')(conv2_1)\n",
        "  pool2_3 = MaxPooling2D(pool_size=(2, 2), name = 'pool2_3')(conv2_2) #14 x 14 x 32\n",
        "  \n",
        "  conv3_1 = (Conv2D(256, (3,3), padding='same',name = 'conv3_1',\n",
        "                    kernel_regularizer=regularizers.l2(weight_decay), activation='relu'))(pool2_3)\n",
        "  conv3_2 = BatchNormalization(name = 'conv3_2')(conv3_1)\n",
        "  conv4_1 = (Conv2D(256, (3,3), padding='same',name = 'conv4_1' ,activation= 'relu',\n",
        "                    kernel_regularizer=regularizers.l2(weight_decay)))(conv3_2)\n",
        "  conv4_2 = BatchNormalization(name = 'conv4_2')(conv4_1)\n",
        "  pool4_2 = MaxPooling2D(pool_size=(2, 2), name = 'pool4_2')(conv4_2) #14 x 14 x 32\n",
        "  \n",
        "  conv5_1 = (Conv2D(512, (3,3), padding='same',name = 'conv5_1',\n",
        "                    kernel_regularizer=regularizers.l2(weight_decay), activation='relu'))(pool4_2)\n",
        "  conv5_2 = BatchNormalization(name = 'conv5_2')(conv5_1)\n",
        "  conv6_1 = (Conv2D(512, (3,3), padding='same',name = 'conv6_1' ,activation= 'relu',\n",
        "                    kernel_regularizer=regularizers.l2(weight_decay)))(conv5_2)\n",
        "  conv6_2 = BatchNormalization(name = 'conv6_2')(conv6_1)\n",
        "  pool6_2 = MaxPooling2D(pool_size=(2, 2), name = 'pool6_2')(conv6_2) #14 x 14 x 32\n",
        "  \n",
        "  conv7_1 = (Conv2D(512, (3,3), padding='same',name = 'conv7_1',\n",
        "                    kernel_regularizer=regularizers.l2(weight_decay), activation='relu'))(pool6_2)\n",
        "  conv7_2 = BatchNormalization(name = 'conv7_2')(conv7_1)\n",
        "  conv8_1 = (Conv2D(512, (3,3), padding='same',name = 'conv8_1' ,activation= 'relu',\n",
        "                    kernel_regularizer=regularizers.l2(weight_decay)))(conv7_2)\n",
        "  conv8_2 = BatchNormalization(name = 'conv8_2')(conv8_1)\n",
        "  pool8_2 = MaxPooling2D(pool_size=(2, 2), name = 'pool8_2')(conv8_2) #14 x 14 x 32\n",
        "\n",
        "\n",
        "  flat = Flatten()(pool8_2)\n",
        "  fc1 = Dense(4096, activation='relu', name = 'fc1')(flat)\n",
        "  fc2 = Dense(4096, activation='relu', name = 'fc2')(fc1)\n",
        "  fc3 = Dense(1000, activation='relu', name = 'fc3')(fc2)\n",
        "\n",
        "\n",
        "  \n",
        "  out = Dense(num_classes, activation='softmax', name = 'out')(fc3)\n",
        "  \n",
        "  return out"
      ],
      "execution_count": 0,
      "outputs": []
    },
    {
      "cell_type": "markdown",
      "metadata": {
        "id": "U_0LHS-Xf7aN",
        "colab_type": "text"
      },
      "source": [
        "## Define functions for calculation of DI score\n",
        "getDIScoreOfLayer(layer_output, true_labels), \n",
        "getDIScoreOfLayerCNNLayer(cnn_outputs, true_labels)\n"
      ]
    },
    {
      "cell_type": "code",
      "metadata": {
        "id": "xsLk-f7sf6zd",
        "colab_type": "code",
        "colab": {}
      },
      "source": [
        "def getDIScoreOfLayer(layer_output, true_labels):\n",
        "  # computeScatterMatrix\n",
        "  rho = 1e-6\n",
        "  mu = layer_output.mean(axis=0)\n",
        "#   print(mu.shape)\n",
        "  mu = mu.reshape((1,-1))\n",
        "  centered_data = layer_output - mu\n",
        "  S_bar = np.matmul(centered_data.T,centered_data)\n",
        "  # compute between class matrix\n",
        "  total_classes = true_labels.max()\n",
        "  S_B = np.zeros(shape = (mu.shape[1],mu.shape[1]))\n",
        "  S_W = np.zeros(shape = (mu.shape[1],mu.shape[1]))\n",
        "  unique_classes = np.unique(true_labels)\n",
        "  unique_classes_list = np.ndarray.tolist(unique_classes)\n",
        "  for l in unique_classes_list:\n",
        "    class_l_index = np.where(true_labels == l)\n",
        "    class_l_output = layer_output[class_l_index[0],:]\n",
        "    mu_l = class_l_output.mean(axis=0)\n",
        "    mu_l = mu_l.reshape((1,-1))\n",
        "    total_examples_this_class = class_l_index[0].shape   \n",
        "    ss = mu_l - mu\n",
        "    S_B = S_B + total_examples_this_class*np.matmul((mu_l - mu).T,(mu_l - mu))\n",
        "\n",
        "  DI_Score = np.trace(np.matmul(np.linalg.inv(S_bar + rho*np.eye(S_bar.shape[0])),S_B))\n",
        "  return DI_Score"
      ],
      "execution_count": 0,
      "outputs": []
    },
    {
      "cell_type": "code",
      "metadata": {
        "id": "ubrpaIpFgBzn",
        "colab_type": "code",
        "colab": {}
      },
      "source": [
        "def getDIScoreOfLayerCNNLayer(cnn_outputs, true_labels):\n",
        "  # computeScatterMatrix\n",
        "  number_of_filters = cnn_outputs.shape[3]\n",
        "  cnn_di_scores = []\n",
        "  for filt in range(0,number_of_filters):\n",
        "    outputs_filter = cnn_outputs[:,:,:,filt]\n",
        "    outputs_filter_reshaped = np.reshape(outputs_filter, newshape=(cnn_outputs.shape[0],-1))\n",
        "    this_filter_score = getDIScoreOfLayer(outputs_filter_reshaped, true_labels)\n",
        "    cnn_di_scores.append(this_filter_score)\n",
        "  return cnn_di_scores"
      ],
      "execution_count": 0,
      "outputs": []
    },
    {
      "cell_type": "markdown",
      "metadata": {
        "id": "MQ5H0p_KjVCw",
        "colab_type": "text"
      },
      "source": [
        "## define a function to get and plot di score of a layer. It takes inputs - trained model, layer name to get DI scores and returns a plot with some statistics"
      ]
    },
    {
      "cell_type": "code",
      "metadata": {
        "id": "o9MHI1LFjUZs",
        "colab_type": "code",
        "colab": {}
      },
      "source": [
        "def createCNNLayerDIScorePlot(trained_model, layer_name, data_to_use = train_three_data , data_label =train_three_label ):\n",
        "#   print(trained_model.layers)\n",
        "#   get_cnn1_output_function = K.function([trained_model.layers[0].input],\n",
        "#                                   [trained_model.get_layer(layer_name).output])   #get_layer test_three_label\n",
        "  \n",
        "  model = trained_model\n",
        "  intermediate_layer_model = Model(inputs=model.input,\n",
        "                                 outputs=model.get_layer(layer_name).output)\n",
        "  cnn1_output = intermediate_layer_model.predict(data_to_use)\n",
        "#   cnn1_output = get_cnn1_output_function([data_to_use])[0]\n",
        "  di_scores = getDIScoreOfLayerCNNLayer(cnn1_output, data_label)\n",
        "  # plot DI score\n",
        "  y_pos  = np.arange(len(di_scores))\n",
        "  plt.bar(y_pos, di_scores, align='center', alpha=0.5)\n",
        "  plt.xlabel('FilterNumber')\n",
        "  plt.ylabel('DI Score')\n",
        "\n",
        "  print('Mean of DI SCore: ',np.mean(di_scores))\n",
        "  print('STD of DI Score: ', np.std(di_scores))\n",
        "  print('MAX of DI Score: ', np.max(di_scores))\n",
        "#   plt.title('DI score - Data - D_L, Network -N_L ' + layer_name)\n",
        "  plt.title('DI score ' + layer_name)\n",
        "\n",
        "#   plt.ylim([0,1])\n",
        "  return di_scores"
      ],
      "execution_count": 0,
      "outputs": []
    },
    {
      "cell_type": "markdown",
      "metadata": {
        "id": "DCCl7-vOfSZ9",
        "colab_type": "text"
      },
      "source": [
        "## load pretrained model"
      ]
    },
    {
      "cell_type": "code",
      "metadata": {
        "id": "jqIkmDGkfRtD",
        "colab_type": "code",
        "outputId": "234726c4-ff08-43b5-b135-71b5c4ee588e",
        "colab": {
          "base_uri": "https://localhost:8080/",
          "height": 143
        }
      },
      "source": [
        "loaded_model_low_accuracy = keras.models.load_model('vgg16lowAccuracyModelDataV3.h5')\n",
        "loaded_model_high_accuracy = keras.models.load_model('vgg16HighAccuracyModelData.h5')\n"
      ],
      "execution_count": 22,
      "outputs": [
        {
          "output_type": "stream",
          "text": [
            "WARNING:tensorflow:From /usr/local/lib/python3.6/dist-packages/tensorflow/python/framework/op_def_library.py:263: colocate_with (from tensorflow.python.framework.ops) is deprecated and will be removed in a future version.\n",
            "Instructions for updating:\n",
            "Colocations handled automatically by placer.\n",
            "WARNING:tensorflow:From /usr/local/lib/python3.6/dist-packages/tensorflow/python/ops/math_ops.py:3066: to_int32 (from tensorflow.python.ops.math_ops) is deprecated and will be removed in a future version.\n",
            "Instructions for updating:\n",
            "Use tf.cast instead.\n"
          ],
          "name": "stdout"
        }
      ]
    },
    {
      "cell_type": "code",
      "metadata": {
        "id": "z7J98O5qfi8Z",
        "colab_type": "code",
        "outputId": "959f3376-8077-4841-e5f9-05133b8f95ac",
        "colab": {
          "base_uri": "https://localhost:8080/",
          "height": 34
        }
      },
      "source": [
        "loaded_model_low_accuracy.evaluate(valid_X, valid_ground, verbose=0)\n",
        "\n",
        "#[0.3284807046254476, 0.923]"
      ],
      "execution_count": 23,
      "outputs": [
        {
          "output_type": "execute_result",
          "data": {
            "text/plain": [
              "[0.4554041377703349, 0.8660000001589457]"
            ]
          },
          "metadata": {
            "tags": []
          },
          "execution_count": 23
        }
      ]
    },
    {
      "cell_type": "code",
      "metadata": {
        "id": "rddbxdrtXcR7",
        "colab_type": "code",
        "outputId": "c59acc36-4b1f-45ab-cca9-11d07a71ed39",
        "colab": {
          "base_uri": "https://localhost:8080/",
          "height": 34
        }
      },
      "source": [
        "temp_model = keras.models.load_model('vgg16lowAccuracyModelDataV3.h5')\n",
        "temp_model.evaluate(valid_X, valid_ground, verbose=0)"
      ],
      "execution_count": 24,
      "outputs": [
        {
          "output_type": "execute_result",
          "data": {
            "text/plain": [
              "[0.4554041436513265, 0.8660000001589457]"
            ]
          },
          "metadata": {
            "tags": []
          },
          "execution_count": 24
        }
      ]
    },
    {
      "cell_type": "code",
      "metadata": {
        "id": "HsXuB6NbXmGB",
        "colab_type": "code",
        "outputId": "3cd3d5c2-7859-4f01-9582-7c9cf6fd70de",
        "colab": {
          "base_uri": "https://localhost:8080/",
          "height": 141
        }
      },
      "source": [
        "valid_ground"
      ],
      "execution_count": 25,
      "outputs": [
        {
          "output_type": "execute_result",
          "data": {
            "text/plain": [
              "array([[0., 0., 1.],\n",
              "       [0., 1., 0.],\n",
              "       [0., 1., 0.],\n",
              "       ...,\n",
              "       [1., 0., 0.],\n",
              "       [1., 0., 0.],\n",
              "       [1., 0., 0.]], dtype=float32)"
            ]
          },
          "metadata": {
            "tags": []
          },
          "execution_count": 25
        }
      ]
    },
    {
      "cell_type": "code",
      "metadata": {
        "id": "KVSvyoZ8Uw_y",
        "colab_type": "code",
        "outputId": "d75d1de3-5678-4e46-a618-8ad8d4a04ffd",
        "colab": {
          "base_uri": "https://localhost:8080/",
          "height": 34
        }
      },
      "source": [
        "loaded_model_low_accuracy.evaluate(test_three_data, test_three_label_one_hot, verbose=0)"
      ],
      "execution_count": 26,
      "outputs": [
        {
          "output_type": "execute_result",
          "data": {
            "text/plain": [
              "[0.45106768679618836, 0.8799999998410543]"
            ]
          },
          "metadata": {
            "tags": []
          },
          "execution_count": 26
        }
      ]
    },
    {
      "cell_type": "code",
      "metadata": {
        "id": "VAY0LGCNSMBc",
        "colab_type": "code",
        "outputId": "6759804b-f50c-4112-e5f8-5a81aa60042f",
        "colab": {
          "base_uri": "https://localhost:8080/",
          "height": 34
        }
      },
      "source": [
        "# loaded_model_low_accuracy.load_weights('weights.hdf5')\n",
        "# loaded_model_low_accuracy.evaluate(valid_X, valid_ground, verbose=0)\n",
        "loaded_model_high_accuracy.evaluate(valid_X, valid_ground, verbose=0)\n"
      ],
      "execution_count": 27,
      "outputs": [
        {
          "output_type": "execute_result",
          "data": {
            "text/plain": [
              "[2.8258795127868654, 0.3953333332538605]"
            ]
          },
          "metadata": {
            "tags": []
          },
          "execution_count": 27
        }
      ]
    },
    {
      "cell_type": "code",
      "metadata": {
        "id": "Jsm88PV3TlmL",
        "colab_type": "code",
        "outputId": "3e2269e7-2075-42f9-d04b-bebb054db442",
        "colab": {
          "base_uri": "https://localhost:8080/",
          "height": 34
        }
      },
      "source": [
        "loaded_model_high_accuracy.evaluate(test_three_data, test_three_label_one_hot, verbose=0)"
      ],
      "execution_count": 28,
      "outputs": [
        {
          "output_type": "execute_result",
          "data": {
            "text/plain": [
              "[3.126735844930013, 0.3673333334128062]"
            ]
          },
          "metadata": {
            "tags": []
          },
          "execution_count": 28
        }
      ]
    },
    {
      "cell_type": "code",
      "metadata": {
        "id": "o-dQDj8vPnXC",
        "colab_type": "code",
        "colab": {}
      },
      "source": [
        ""
      ],
      "execution_count": 0,
      "outputs": []
    },
    {
      "cell_type": "code",
      "metadata": {
        "id": "V7c-A-a4SS6S",
        "colab_type": "code",
        "outputId": "96073616-b2d6-478b-91cf-6855de9b3e9b",
        "colab": {
          "base_uri": "https://localhost:8080/",
          "height": 34
        }
      },
      "source": [
        "loaded_model_low_accuracy.evaluate(test_three_data, test_three_label_one_hot, verbose=0)"
      ],
      "execution_count": 29,
      "outputs": [
        {
          "output_type": "execute_result",
          "data": {
            "text/plain": [
              "[0.45106768679618836, 0.8799999998410543]"
            ]
          },
          "metadata": {
            "tags": []
          },
          "execution_count": 29
        }
      ]
    },
    {
      "cell_type": "code",
      "metadata": {
        "id": "tzbIXvcEoNMj",
        "colab_type": "code",
        "outputId": "3a276e25-c69d-4284-8974-c0f3f78ba278",
        "colab": {
          "base_uri": "https://localhost:8080/",
          "height": 1101
        }
      },
      "source": [
        "loaded_model_low_accuracy.summary()"
      ],
      "execution_count": 30,
      "outputs": [
        {
          "output_type": "stream",
          "text": [
            "_________________________________________________________________\n",
            "Layer (type)                 Output Shape              Param #   \n",
            "=================================================================\n",
            "input_1 (InputLayer)         (None, 32, 32, 3)         0         \n",
            "_________________________________________________________________\n",
            "conv1_1 (Conv2D)             (None, 32, 32, 64)        1792      \n",
            "_________________________________________________________________\n",
            "conv1_2 (BatchNormalization) (None, 32, 32, 64)        256       \n",
            "_________________________________________________________________\n",
            "pool1_3 (MaxPooling2D)       (None, 16, 16, 64)        0         \n",
            "_________________________________________________________________\n",
            "conv2_1 (Conv2D)             (None, 16, 16, 128)       73856     \n",
            "_________________________________________________________________\n",
            "conv2_2 (BatchNormalization) (None, 16, 16, 128)       512       \n",
            "_________________________________________________________________\n",
            "pool2_3 (MaxPooling2D)       (None, 8, 8, 128)         0         \n",
            "_________________________________________________________________\n",
            "conv3_1 (Conv2D)             (None, 8, 8, 256)         295168    \n",
            "_________________________________________________________________\n",
            "conv3_2 (BatchNormalization) (None, 8, 8, 256)         1024      \n",
            "_________________________________________________________________\n",
            "conv4_1 (Conv2D)             (None, 8, 8, 256)         590080    \n",
            "_________________________________________________________________\n",
            "conv4_2 (BatchNormalization) (None, 8, 8, 256)         1024      \n",
            "_________________________________________________________________\n",
            "pool4_2 (MaxPooling2D)       (None, 4, 4, 256)         0         \n",
            "_________________________________________________________________\n",
            "conv5_1 (Conv2D)             (None, 4, 4, 512)         1180160   \n",
            "_________________________________________________________________\n",
            "conv5_2 (BatchNormalization) (None, 4, 4, 512)         2048      \n",
            "_________________________________________________________________\n",
            "conv6_1 (Conv2D)             (None, 4, 4, 512)         2359808   \n",
            "_________________________________________________________________\n",
            "conv6_2 (BatchNormalization) (None, 4, 4, 512)         2048      \n",
            "_________________________________________________________________\n",
            "pool6_2 (MaxPooling2D)       (None, 2, 2, 512)         0         \n",
            "_________________________________________________________________\n",
            "conv7_1 (Conv2D)             (None, 2, 2, 512)         2359808   \n",
            "_________________________________________________________________\n",
            "conv7_2 (BatchNormalization) (None, 2, 2, 512)         2048      \n",
            "_________________________________________________________________\n",
            "conv8_1 (Conv2D)             (None, 2, 2, 512)         2359808   \n",
            "_________________________________________________________________\n",
            "conv8_2 (BatchNormalization) (None, 2, 2, 512)         2048      \n",
            "_________________________________________________________________\n",
            "pool8_2 (MaxPooling2D)       (None, 1, 1, 512)         0         \n",
            "_________________________________________________________________\n",
            "flatten_1 (Flatten)          (None, 512)               0         \n",
            "_________________________________________________________________\n",
            "fc1 (Dense)                  (None, 4096)              2101248   \n",
            "_________________________________________________________________\n",
            "fc2 (Dense)                  (None, 4096)              16781312  \n",
            "_________________________________________________________________\n",
            "fc3 (Dense)                  (None, 1000)              4097000   \n",
            "_________________________________________________________________\n",
            "out (Dense)                  (None, 3)                 3003      \n",
            "=================================================================\n",
            "Total params: 32,214,051\n",
            "Trainable params: 32,208,547\n",
            "Non-trainable params: 5,504\n",
            "_________________________________________________________________\n"
          ],
          "name": "stdout"
        }
      ]
    },
    {
      "cell_type": "markdown",
      "metadata": {
        "id": "UijDrRL2khSY",
        "colab_type": "text"
      },
      "source": [
        "## Create a plot for DI score using function createCNNLayerDIScorePlot()"
      ]
    },
    {
      "cell_type": "markdown",
      "metadata": {
        "id": "Lyk2-GAGaPnV",
        "colab_type": "text"
      },
      "source": [
        "#### On train data"
      ]
    },
    {
      "cell_type": "code",
      "metadata": {
        "id": "EN1yVJGzUzXX",
        "colab_type": "code",
        "colab": {}
      },
      "source": [
        "# layer_name = 'conv2d_2'\n",
        "# model = loaded_model_low_accuracy\n",
        "# intermediate_layer_model = Model(i4nputs=model.input,\n",
        "#                                  outputs=model.get_layer(layer_name).output)\n",
        "# intermediate_output = intermediate_layer_model.predict(train_three_data)"
      ],
      "execution_count": 0,
      "outputs": []
    },
    {
      "cell_type": "code",
      "metadata": {
        "id": "m_GyLE1oSbGn",
        "colab_type": "code",
        "outputId": "2fc54073-0805-4113-94d3-350ace01cc42",
        "colab": {
          "base_uri": "https://localhost:8080/",
          "height": 347
        }
      },
      "source": [
        "# now get DI score of a layer from high accuracy and low accuracy model\n",
        "# layer_names = ['conv2_1']\n",
        "layer_names = ['conv8_1']\n",
        "all_di_acores_low_accuracy = []\n",
        "for lay in layer_names:\n",
        "  this_di_score_low_accuracy_model = createCNNLayerDIScorePlot(loaded_model_low_accuracy, lay)\n",
        "  all_di_acores_low_accuracy.append(this_di_score_low_accuracy_model)\n",
        "# discores_low_acc_model = createCNNLayerDIScorePlot(loaded_model_low_accuracy, layer_name)"
      ],
      "execution_count": 32,
      "outputs": [
        {
          "output_type": "stream",
          "text": [
            "Mean of DI SCore:  0.8694144080993281\n",
            "STD of DI Score:  0.6205526663901321\n",
            "MAX of DI Score:  1.5949378094135989\n"
          ],
          "name": "stdout"
        },
        {
          "output_type": "display_data",
          "data": {
            "image/png": "[encoded data removed]",
            "text/plain": [
              "<Figure size 432x288 with 1 Axes>"
            ]
          },
          "metadata": {
            "tags": []
          }
        }
      ]
    },
    {
      "cell_type": "code",
      "metadata": {
        "id": "yBUWcfwaYwsx",
        "colab_type": "code",
        "colab": {}
      },
      "source": [
        "# discores_low_acc_model"
      ],
      "execution_count": 0,
      "outputs": []
    },
    {
      "cell_type": "code",
      "metadata": {
        "id": "siJntOdpYoNZ",
        "colab_type": "code",
        "colab": {}
      },
      "source": [
        "# np.sort(discores_low_acc_model)"
      ],
      "execution_count": 0,
      "outputs": []
    },
    {
      "cell_type": "code",
      "metadata": {
        "id": "QQC6i-0MVmWk",
        "colab_type": "code",
        "outputId": "59c1e27a-fe4b-405f-bfb2-e4a580fe8447",
        "colab": {
          "base_uri": "https://localhost:8080/",
          "height": 347
        }
      },
      "source": [
        "# now get DI score of a layer from high accuracy and low accuracy model\n",
        "#layer_name = 'conv2d_2'\n",
        "\n",
        "# discores_high_acc_model = createCNNLayerDIScorePlot(loaded_model_high_accuracy, layer_name)\n",
        "all_di_acores_high_accuracy = []\n",
        "for lay in layer_names:\n",
        "  this_di_score_high_accuracy_model = createCNNLayerDIScorePlot(loaded_model_high_accuracy, lay)\n",
        "  all_di_acores_high_accuracy.append(this_di_score_high_accuracy_model)"
      ],
      "execution_count": 35,
      "outputs": [
        {
          "output_type": "stream",
          "text": [
            "Mean of DI SCore:  0.09890966478271793\n",
            "STD of DI Score:  0.08029777448636094\n",
            "MAX of DI Score:  0.2144610349284688\n"
          ],
          "name": "stdout"
        },
        {
          "output_type": "display_data",
          "data": {
            "image/png": "[encoded data removed]",
            "text/plain": [
              "<Figure size 432x288 with 1 Axes>"
            ]
          },
          "metadata": {
            "tags": []
          }
        }
      ]
    },
    {
      "cell_type": "code",
      "metadata": {
        "id": "cGjrlhMbVmUv",
        "colab_type": "code",
        "colab": {}
      },
      "source": [
        ""
      ],
      "execution_count": 0,
      "outputs": []
    },
    {
      "cell_type": "markdown",
      "metadata": {
        "id": "EHVud4ykeRn8",
        "colab_type": "text"
      },
      "source": [
        "## Pick top 10 DI scores"
      ]
    },
    {
      "cell_type": "code",
      "metadata": {
        "id": "8k5Ob6gWeQ94",
        "colab_type": "code",
        "colab": {}
      },
      "source": [
        ""
      ],
      "execution_count": 0,
      "outputs": []
    },
    {
      "cell_type": "code",
      "metadata": {
        "id": "TyI8gOZuftmZ",
        "colab_type": "code",
        "colab": {}
      },
      "source": [
        ""
      ],
      "execution_count": 0,
      "outputs": []
    },
    {
      "cell_type": "markdown",
      "metadata": {
        "id": "TjMoET8nasck",
        "colab_type": "text"
      },
      "source": [
        "#### On validation data"
      ]
    },
    {
      "cell_type": "code",
      "metadata": {
        "id": "cPKQgmyXbACY",
        "colab_type": "code",
        "colab": {}
      },
      "source": [
        "valid_ground_actual = np.argmax(valid_ground, axis=1)\n",
        "# valid_ground_actual.shape\n",
        "# data_to_use = train_three_data , data_label =train_three_label"
      ],
      "execution_count": 0,
      "outputs": []
    },
    {
      "cell_type": "code",
      "metadata": {
        "id": "nbg5-HKhaxxj",
        "colab_type": "code",
        "colab": {}
      },
      "source": [
        "# now get DI score of a layer from high accuracy and low accuracy model\n",
        "#layer_name = 'conv2d_2'\n",
        "# discores_low_acc_model_valid = createCNNLayerDIScorePlot(loaded_model_low_accuracy,\n",
        "#                                                    layer_name, data_to_use=valid_X, data_label=valid_ground_actual)"
      ],
      "execution_count": 0,
      "outputs": []
    },
    {
      "cell_type": "code",
      "metadata": {
        "id": "zaH4FbSFaxuc",
        "colab_type": "code",
        "colab": {}
      },
      "source": [
        "# now get DI score of a layer from high accuracy and low accuracy model\n",
        "#layer_name = 'conv2d_2'\n",
        "\n",
        "# discores_high_acc_model_valid = createCNNLayerDIScorePlot(loaded_model_high_accuracy,\n",
        "#                                                    layer_name, data_to_use=valid_X, data_label=valid_ground_actual)"
      ],
      "execution_count": 0,
      "outputs": []
    },
    {
      "cell_type": "code",
      "metadata": {
        "id": "vMpuiVdSf60g",
        "colab_type": "code",
        "colab": {}
      },
      "source": [
        "# np.sort(discores_high_acc_model)"
      ],
      "execution_count": 0,
      "outputs": []
    },
    {
      "cell_type": "markdown",
      "metadata": {
        "id": "ZueWb5hY7zZJ",
        "colab_type": "text"
      },
      "source": [
        "#### Pick top channels from the layers selected"
      ]
    },
    {
      "cell_type": "code",
      "metadata": {
        "id": "u9HwamF674hP",
        "colab_type": "code",
        "colab": {}
      },
      "source": [
        "topChoose = True\n"
      ],
      "execution_count": 0,
      "outputs": []
    },
    {
      "cell_type": "code",
      "metadata": {
        "id": "ZmggM8xc8c8G",
        "colab_type": "code",
        "outputId": "f943c01b-882e-4bf4-d3e2-c042488542e1",
        "colab": {
          "base_uri": "https://localhost:8080/",
          "height": 34
        }
      },
      "source": [
        "for i,d in enumerate(all_di_acores_high_accuracy):\n",
        "  print(len(d),i)"
      ],
      "execution_count": 41,
      "outputs": [
        {
          "output_type": "stream",
          "text": [
            "512 0\n"
          ],
          "name": "stdout"
        }
      ]
    },
    {
      "cell_type": "code",
      "metadata": {
        "id": "N1cAvZpx9G8_",
        "colab_type": "code",
        "colab": {}
      },
      "source": [
        "Ks = [128]"
      ],
      "execution_count": 0,
      "outputs": []
    },
    {
      "cell_type": "code",
      "metadata": {
        "id": "Y3zlCJ3R9jjk",
        "colab_type": "code",
        "colab": {}
      },
      "source": [
        "copied_low_accuracy_model = loaded_model_low_accuracy"
      ],
      "execution_count": 0,
      "outputs": []
    },
    {
      "cell_type": "code",
      "metadata": {
        "id": "ZY28-KyEAhdg",
        "colab_type": "code",
        "colab": {}
      },
      "source": [
        "copied_high_accuracy_model = loaded_model_high_accuracy"
      ],
      "execution_count": 0,
      "outputs": []
    },
    {
      "cell_type": "code",
      "metadata": {
        "id": "mCeCjHCzbJj0",
        "colab_type": "code",
        "colab": {}
      },
      "source": [
        "# low_accuracy_model_weight.shape"
      ],
      "execution_count": 0,
      "outputs": []
    },
    {
      "cell_type": "code",
      "metadata": {
        "id": "cgoNV1oG8BS4",
        "colab_type": "code",
        "colab": {}
      },
      "source": [
        "for l,DIs in enumerate(all_di_acores_high_accuracy):\n",
        "  this_layer_name = layer_names[l]\n",
        "  this_high_accuracy_di_scores = all_di_acores_high_accuracy[l]\n",
        "  this_high_accuracy_di_scores_sorted = np.argsort(this_high_accuracy_di_scores)\n",
        "  this_high_accuracy_di_scores_sorted_list = np.ndarray.tolist(this_high_accuracy_di_scores_sorted)\n",
        "  top_channels = this_high_accuracy_di_scores_sorted_list[-Ks[l]:]\n",
        "  \n",
        "  # do same thing for lowest DIs\n",
        "  this_low_accuracy_di_scores = all_di_acores_low_accuracy[l]\n",
        "  this_low_accuracy_di_scores_sorted = np.argsort(this_low_accuracy_di_scores)\n",
        "  this_low_accuracy_di_scores_sorted_list = np.ndarray.tolist(this_low_accuracy_di_scores_sorted)\n",
        "  bottom_channels = this_low_accuracy_di_scores_sorted_list[0:Ks[l]]\n",
        "  \n",
        "  # now replace the weights\n",
        "  low_accuracy_model_weights_bias = copied_low_accuracy_model.get_layer(this_layer_name).get_weights()\n",
        "  high_accuracy_model_weights_bias = copied_high_accuracy_model.get_layer(this_layer_name).get_weights()\n",
        "\n",
        "  low_accuracy_model_weight,low_accuracy_model_bias = low_accuracy_model_weights_bias[0],low_accuracy_model_weights_bias[1]\n",
        "  high_accuracy_model_weight,high_accuracy_model_bias = high_accuracy_model_weights_bias[0],high_accuracy_model_weights_bias[1]\n",
        "#   print(low_accuracy_model_weight.shape,low_accuracy_model_bias.shape)\n",
        "  low_accuracy_model_weight[:,:,:,bottom_channels] = high_accuracy_model_weight[:,:,:,top_channels]\n",
        "#   print(bottom_channels)\n",
        "  high_accuracy_model_bias[bottom_channels] = high_accuracy_model_bias[top_channels]\n",
        "  \n",
        "  copied_low_accuracy_model.get_layer(this_layer_name).set_weights([low_accuracy_model_weight, high_accuracy_model_bias])"
      ],
      "execution_count": 0,
      "outputs": []
    },
    {
      "cell_type": "code",
      "metadata": {
        "id": "OodsSlYDCesc",
        "colab_type": "code",
        "colab": {}
      },
      "source": [
        "# high_accuracy_model_weights_bias.shape"
      ],
      "execution_count": 0,
      "outputs": []
    },
    {
      "cell_type": "code",
      "metadata": {
        "id": "2AtLgL9ICGJE",
        "colab_type": "code",
        "colab": {}
      },
      "source": [
        "# high_accuracy_model_bias"
      ],
      "execution_count": 0,
      "outputs": []
    },
    {
      "cell_type": "code",
      "metadata": {
        "id": "UzN_W73aldFU",
        "colab_type": "code",
        "colab": {}
      },
      "source": [
        "\n",
        "# # (discores_high_acc_model)\n",
        "# K= 50 # how many channels to pick\n",
        "# high_acc_di_sorted = np.argsort(discores_high_acc_model)\n",
        "# high_acc_di_sorted_list = np.ndarray.tolist(high_acc_di_sorted)\n",
        "# top_channels = high_acc_di_sorted_list[-K:]#np.random.choice(32,K)#\n",
        "# print('Top Channels: ',top_channels)\n",
        "\n",
        "\n",
        "# low_acc_di_sorted = np.argsort(discores_low_acc_model)\n",
        "# low_acc_di_sorted_list = np.ndarray.tolist(low_acc_di_sorted)\n",
        "# low_channels = low_acc_di_sorted_list[0:K]#np.random.choice(32,K)\n",
        "# print('Low Channels: ', low_channels)"
      ],
      "execution_count": 0,
      "outputs": []
    },
    {
      "cell_type": "markdown",
      "metadata": {
        "id": "-_BDN-T-BaGz",
        "colab_type": "text"
      },
      "source": [
        "#####  get low accuracy DI channels"
      ]
    },
    {
      "cell_type": "code",
      "metadata": {
        "id": "Z5DgBrzXCGB8",
        "colab_type": "code",
        "colab": {}
      },
      "source": [
        "# discores_low_acc_model"
      ],
      "execution_count": 0,
      "outputs": []
    },
    {
      "cell_type": "code",
      "metadata": {
        "id": "J5B34pIwCbXN",
        "colab_type": "code",
        "colab": {}
      },
      "source": [
        "# plt.plot(discores_low_acc_model,'-*')"
      ],
      "execution_count": 0,
      "outputs": []
    },
    {
      "cell_type": "code",
      "metadata": {
        "id": "tRrtIpLVBdK4",
        "colab_type": "code",
        "colab": {}
      },
      "source": [
        ""
      ],
      "execution_count": 0,
      "outputs": []
    },
    {
      "cell_type": "code",
      "metadata": {
        "id": "SD8nswMnxWVC",
        "colab_type": "code",
        "colab": {}
      },
      "source": [
        "# total_channels = len(discores_high_acc_model)\n",
        "# total_channels"
      ],
      "execution_count": 0,
      "outputs": []
    },
    {
      "cell_type": "code",
      "metadata": {
        "id": "MsCtxzRVokuR",
        "colab_type": "code",
        "colab": {}
      },
      "source": [
        "enable_training = True"
      ],
      "execution_count": 0,
      "outputs": []
    },
    {
      "cell_type": "code",
      "metadata": {
        "id": "Sk_0a6JlFux5",
        "colab_type": "code",
        "outputId": "9d55385b-87f3-4340-eb50-592b28eb6a87",
        "colab": {
          "base_uri": "https://localhost:8080/",
          "height": 54
        }
      },
      "source": [
        "# returns \n",
        "'''\n",
        "def highAccuracyModelTillConv2(input_img): \n",
        "  conv1_1 = (Conv2D(32, (3,3), padding='same',\n",
        "                    kernel_regularizer=regularizers.l2(weight_decay), \n",
        "                    input_shape=x_train.shape[1:], activation='elu', trainable = enable_training,\n",
        "                    name = 'HighAccuracyConv1'))(input_img)\n",
        "  conv1_2 = BatchNormalization(name = 'HighAccuracyBN1',\n",
        "                              trainable = enable_training)(conv1_1)\n",
        "  conv2_1 = (Conv2D(32, (3,3), padding='same', activation= 'elu',trainable = enable_training,\n",
        "                    name = 'HighAccuracyConv2',kernel_regularizer=regularizers.l2(weight_decay)))(conv1_2)\n",
        "#   conv2_2 = BatchNormalization(name = 'HighAccuracyBN2',\n",
        "#                               trainable = enable_training)(conv2_1)  \n",
        "  \n",
        "  return conv2_1\n",
        "'''"
      ],
      "execution_count": 54,
      "outputs": [
        {
          "output_type": "execute_result",
          "data": {
            "text/plain": [
              "\"\\ndef highAccuracyModelTillConv2(input_img): \\n  conv1_1 = (Conv2D(32, (3,3), padding='same',\\n                    kernel_regularizer=regularizers.l2(weight_decay), \\n                    input_shape=x_train.shape[1:], activation='elu', trainable = enable_training,\\n                    name = 'HighAccuracyConv1'))(input_img)\\n  conv1_2 = BatchNormalization(name = 'HighAccuracyBN1',\\n                              trainable = enable_training)(conv1_1)\\n  conv2_1 = (Conv2D(32, (3,3), padding='same', activation= 'elu',trainable = enable_training,\\n                    name = 'HighAccuracyConv2',kernel_regularizer=regularizers.l2(weight_decay)))(conv1_2)\\n#   conv2_2 = BatchNormalization(name = 'HighAccuracyBN2',\\n#                               trainable = enable_training)(conv2_1)  \\n  \\n  return conv2_1\\n\""
            ]
          },
          "metadata": {
            "tags": []
          },
          "execution_count": 54
        }
      ]
    },
    {
      "cell_type": "code",
      "metadata": {
        "id": "mZchwmWh7la9",
        "colab_type": "code",
        "outputId": "45ed05a2-ce4a-4d78-a44f-3a96fbe97e02",
        "colab": {
          "base_uri": "https://localhost:8080/",
          "height": 1101
        }
      },
      "source": [
        "copied_low_accuracy_model.summary()"
      ],
      "execution_count": 55,
      "outputs": [
        {
          "output_type": "stream",
          "text": [
            "_________________________________________________________________\n",
            "Layer (type)                 Output Shape              Param #   \n",
            "=================================================================\n",
            "input_1 (InputLayer)         (None, 32, 32, 3)         0         \n",
            "_________________________________________________________________\n",
            "conv1_1 (Conv2D)             (None, 32, 32, 64)        1792      \n",
            "_________________________________________________________________\n",
            "conv1_2 (BatchNormalization) (None, 32, 32, 64)        256       \n",
            "_________________________________________________________________\n",
            "pool1_3 (MaxPooling2D)       (None, 16, 16, 64)        0         \n",
            "_________________________________________________________________\n",
            "conv2_1 (Conv2D)             (None, 16, 16, 128)       73856     \n",
            "_________________________________________________________________\n",
            "conv2_2 (BatchNormalization) (None, 16, 16, 128)       512       \n",
            "_________________________________________________________________\n",
            "pool2_3 (MaxPooling2D)       (None, 8, 8, 128)         0         \n",
            "_________________________________________________________________\n",
            "conv3_1 (Conv2D)             (None, 8, 8, 256)         295168    \n",
            "_________________________________________________________________\n",
            "conv3_2 (BatchNormalization) (None, 8, 8, 256)         1024      \n",
            "_________________________________________________________________\n",
            "conv4_1 (Conv2D)             (None, 8, 8, 256)         590080    \n",
            "_________________________________________________________________\n",
            "conv4_2 (BatchNormalization) (None, 8, 8, 256)         1024      \n",
            "_________________________________________________________________\n",
            "pool4_2 (MaxPooling2D)       (None, 4, 4, 256)         0         \n",
            "_________________________________________________________________\n",
            "conv5_1 (Conv2D)             (None, 4, 4, 512)         1180160   \n",
            "_________________________________________________________________\n",
            "conv5_2 (BatchNormalization) (None, 4, 4, 512)         2048      \n",
            "_________________________________________________________________\n",
            "conv6_1 (Conv2D)             (None, 4, 4, 512)         2359808   \n",
            "_________________________________________________________________\n",
            "conv6_2 (BatchNormalization) (None, 4, 4, 512)         2048      \n",
            "_________________________________________________________________\n",
            "pool6_2 (MaxPooling2D)       (None, 2, 2, 512)         0         \n",
            "_________________________________________________________________\n",
            "conv7_1 (Conv2D)             (None, 2, 2, 512)         2359808   \n",
            "_________________________________________________________________\n",
            "conv7_2 (BatchNormalization) (None, 2, 2, 512)         2048      \n",
            "_________________________________________________________________\n",
            "conv8_1 (Conv2D)             (None, 2, 2, 512)         2359808   \n",
            "_________________________________________________________________\n",
            "conv8_2 (BatchNormalization) (None, 2, 2, 512)         2048      \n",
            "_________________________________________________________________\n",
            "pool8_2 (MaxPooling2D)       (None, 1, 1, 512)         0         \n",
            "_________________________________________________________________\n",
            "flatten_1 (Flatten)          (None, 512)               0         \n",
            "_________________________________________________________________\n",
            "fc1 (Dense)                  (None, 4096)              2101248   \n",
            "_________________________________________________________________\n",
            "fc2 (Dense)                  (None, 4096)              16781312  \n",
            "_________________________________________________________________\n",
            "fc3 (Dense)                  (None, 1000)              4097000   \n",
            "_________________________________________________________________\n",
            "out (Dense)                  (None, 3)                 3003      \n",
            "=================================================================\n",
            "Total params: 32,214,051\n",
            "Trainable params: 32,208,547\n",
            "Non-trainable params: 5,504\n",
            "_________________________________________________________________\n"
          ],
          "name": "stdout"
        }
      ]
    },
    {
      "cell_type": "code",
      "metadata": {
        "id": "OA-0pVGXvMeE",
        "colab_type": "code",
        "colab": {}
      },
      "source": [
        "from keras.layers import Dense, Concatenate, Input, Lambda\n"
      ],
      "execution_count": 0,
      "outputs": []
    },
    {
      "cell_type": "code",
      "metadata": {
        "id": "41smOd7GTX5c",
        "colab_type": "code",
        "colab": {}
      },
      "source": [
        "# def cifar10ClassifierTransfer(input_img):\n",
        "  \n",
        "#   conv1_1 = (Conv2D(64, (3,3),name = 'conv1_1' ,padding='same', \n",
        "#                     kernel_regularizer=regularizers.l2(weight_decay), input_shape=x_train.shape[1:],\n",
        "#                     activation='relu'))(input_img)\n",
        "#   conv1_2 = BatchNormalization(name = 'conv1_2')(conv1_1)\n",
        "#   pool1_3 = MaxPooling2D(pool_size=(2, 2), name = 'pool1_3')(conv1_2) #14 x 14 x 32\n",
        "#   conv2_1 = (Conv2D(128, (3,3),name = 'conv2_1' ,padding='same',\n",
        "#                     activation= 'relu',kernel_regularizer=regularizers.l2(weight_decay)))(pool1_3)\n",
        "#   conv2_2 = BatchNormalization(name = 'conv2_2')(conv2_1)\n",
        "#   pool2_3 = MaxPooling2D(pool_size=(2, 2), name = 'pool2_3')(conv2_2) #14 x 14 x 32\n",
        "  \n",
        "#   conv3_1 = (Conv2D(256, (3,3), padding='same',name = 'conv3_1',\n",
        "#                     kernel_regularizer=regularizers.l2(weight_decay), activation='relu'))(pool2_3)\n",
        "#   conv3_2 = BatchNormalization(name = 'conv3_2')(conv3_1)\n",
        "#   conv4_1 = (Conv2D(256, (3,3), padding='same',name = 'conv4_1' ,activation= 'relu',\n",
        "#                     kernel_regularizer=regularizers.l2(weight_decay)))(conv3_2)\n",
        "#   conv4_2 = BatchNormalization(name = 'conv4_2')(conv4_1)\n",
        "#   pool4_2 = MaxPooling2D(pool_size=(2, 2), name = 'pool4_2')(conv4_2) #14 x 14 x 32\n",
        "  \n",
        "#   conv5_1 = (Conv2D(512, (3,3), padding='same',name = 'conv5_1',\n",
        "#                     kernel_regularizer=regularizers.l2(weight_decay), activation='relu'))(pool4_2)\n",
        "#   conv5_2 = BatchNormalization(name = 'conv5_2')(conv5_1)\n",
        "#   conv6_1 = (Conv2D(512, (3,3), padding='same',name = 'conv6_1' ,activation= 'relu',\n",
        "#                     kernel_regularizer=regularizers.l2(weight_decay)))(conv5_2)\n",
        "#   conv6_2 = BatchNormalization(name = 'conv6_2')(conv6_1)\n",
        "#   pool6_2 = MaxPooling2D(pool_size=(2, 2), name = 'pool6_2')(conv6_2) #14 x 14 x 32\n",
        "  \n",
        "#   conv7_1 = (Conv2D(512, (3,3), padding='same',name = 'conv7_1',\n",
        "#                     kernel_regularizer=regularizers.l2(weight_decay), activation='relu'))(pool6_2)\n",
        "#   conv7_2 = BatchNormalization(name = 'conv7_2')(conv7_1)\n",
        "#   conv8_1 = (Conv2D(512, (3,3), padding='same',name = 'conv8_1' ,activation= 'relu',\n",
        "#                     kernel_regularizer=regularizers.l2(weight_decay)))(conv7_2)\n",
        "#   conv8_2 = BatchNormalization(name = 'conv8_2')(conv8_1)\n",
        "#   pool8_2 = MaxPooling2D(pool_size=(2, 2), name = 'pool8_2')(conv8_2) #14 x 14 x 32\n",
        "\n",
        "\n",
        "#   flat = Flatten()(pool8_2)\n",
        "#   fc1 = Dense(4096, activation='relu', name = 'fc1')(flat)\n",
        "#   fc2 = Dense(4096, activation='relu', name = 'fc2')(fc1)\n",
        "#   fc3 = Dense(1000, activation='relu', name = 'fc3')(fc2)\n",
        "\n",
        "\n",
        "  \n",
        "#   out = Dense(num_classes, activation='softmax', name = 'out')(fc3)\n",
        "  \n",
        "#   return out"
      ],
      "execution_count": 0,
      "outputs": []
    },
    {
      "cell_type": "code",
      "metadata": {
        "id": "sf3PN5YIyba2",
        "colab_type": "code",
        "colab": {}
      },
      "source": [
        "# top_channels"
      ],
      "execution_count": 0,
      "outputs": []
    },
    {
      "cell_type": "code",
      "metadata": {
        "id": "fzUmKtVGFusU",
        "colab_type": "code",
        "colab": {}
      },
      "source": [
        "# #high_acc_output = highAccuracyModelTillConv2(input_img)\n",
        "# modelFilt = Model(input_img, \n",
        "#               cifar10ClassifierTransfer(input_img))\n",
        "# #data augmentation\n",
        "# datagen = ImageDataGenerator(\n",
        "#     rotation_range=15,\n",
        "#     width_shift_range=0.1,\n",
        "#     height_shift_range=0.1,\n",
        "#     horizontal_flip=True,\n",
        "#     )\n",
        "# datagen.fit(train_three_data)\n",
        " \n",
        "# #training\n",
        "# batch_size = 64\n",
        " \n",
        "# opt_rms = keras.optimizers.rmsprop(lr=0.001,decay=1e-6)\n",
        "# # model.compile(loss='categorical_crossentropy', optimizer=opt_rms, metrics=['accuracy'])\n",
        "\n",
        "# modelFilt.compile(loss=losses.categorical_crossentropy, optimizer=opt_rms, metrics=['accuracy'])\n",
        "\n",
        "# modelFilt.summary()\n",
        " "
      ],
      "execution_count": 0,
      "outputs": []
    },
    {
      "cell_type": "code",
      "metadata": {
        "id": "cty76ahJDRhj",
        "colab_type": "code",
        "colab": {}
      },
      "source": [
        "#data augmentation\n",
        "datagen = ImageDataGenerator(\n",
        "    rotation_range=15,\n",
        "    width_shift_range=0.1,\n",
        "    height_shift_range=0.1,\n",
        "    horizontal_flip=True,\n",
        "    )\n",
        "datagen.fit(train_three_data)\n",
        "# #training\n",
        "batch_size = 64"
      ],
      "execution_count": 0,
      "outputs": []
    },
    {
      "cell_type": "code",
      "metadata": {
        "id": "WE7b72OOFups",
        "colab_type": "code",
        "colab": {}
      },
      "source": [
        "plot_model(copied_low_accuracy_model, to_file=\"FiltModel.png\", show_shapes=True, show_layer_names=True)"
      ],
      "execution_count": 0,
      "outputs": []
    },
    {
      "cell_type": "code",
      "metadata": {
        "id": "5-yqdp6_rQkI",
        "colab_type": "code",
        "colab": {}
      },
      "source": [
        "# loaded_model_high_accuracy.summary()"
      ],
      "execution_count": 0,
      "outputs": []
    },
    {
      "cell_type": "markdown",
      "metadata": {
        "id": "8GkUnIIAqH0k",
        "colab_type": "text"
      },
      "source": [
        "## set predetermined weights"
      ]
    },
    {
      "cell_type": "code",
      "metadata": {
        "id": "nKVw7k8QLwoQ",
        "colab_type": "code",
        "colab": {}
      },
      "source": [
        "# top_channels"
      ],
      "execution_count": 0,
      "outputs": []
    },
    {
      "cell_type": "code",
      "metadata": {
        "id": "5hWcRyTNtaXW",
        "colab_type": "code",
        "colab": {}
      },
      "source": [
        "# top_channels"
      ],
      "execution_count": 0,
      "outputs": []
    },
    {
      "cell_type": "markdown",
      "metadata": {
        "id": "JhmWPU7RA9N3",
        "colab_type": "text"
      },
      "source": [
        "#### # get low accuracy DI channel - stored in low_channels\n",
        "\n",
        "```\n",
        "# This is formatted as code\n",
        "```\n",
        "\n",
        "s"
      ]
    },
    {
      "cell_type": "markdown",
      "metadata": {
        "id": "mL5R24pGA9KP",
        "colab_type": "text"
      },
      "source": [
        ""
      ]
    },
    {
      "cell_type": "code",
      "metadata": {
        "id": "H0JBUK8KA26B",
        "colab_type": "code",
        "colab": {}
      },
      "source": [
        "\n",
        "# loaded_model_high_accuracy.get_layer(layer_name).get_weights()[0].shape"
      ],
      "execution_count": 0,
      "outputs": []
    },
    {
      "cell_type": "markdown",
      "metadata": {
        "id": "PmS9J6gmDFIL",
        "colab_type": "text"
      },
      "source": [
        "## Get filter weights for top K10 DI scores"
      ]
    },
    {
      "cell_type": "code",
      "metadata": {
        "id": "t0FN66utr5VE",
        "colab_type": "code",
        "colab": {}
      },
      "source": [
        "# # set weights of high accuracy model for channels not used to 0 [9, 25, 19, 29, 5, 7, 26, 28, 17, 23]\n",
        "# high_acc_conv2_weights = loaded_model_high_accuracy.get_layer(layer_name).get_weights()\n",
        "# # temp_weights = np.zeros_like(high_acc_conv2_weights[0].shape[0])\n",
        "# temp_weights_top_10_DI = np.zeros(shape = (high_acc_conv2_weights[0].shape[0],high_acc_conv2_weights[0].shape[1],high_acc_conv2_weights[0].shape[2],K))\n",
        "# h,w,d,n = high_acc_conv2_weights[0].shape\n",
        "# j = 0\n",
        "# for ch in range(0,n):\n",
        "#   if ch in top_channels:\n",
        "#     temp_weights_top_10_DI[:,:,:,j] = high_acc_conv2_weights[0][:,:,:,ch]\n",
        "#     j = j+1\n",
        "    \n",
        "  \n",
        "# # (high_acc_conv2_weights[0].shape)"
      ],
      "execution_count": 0,
      "outputs": []
    },
    {
      "cell_type": "code",
      "metadata": {
        "id": "bF9DJY3BD6Wf",
        "colab_type": "code",
        "colab": {}
      },
      "source": [
        "# temp_weights_top_10_DI.shape"
      ],
      "execution_count": 0,
      "outputs": []
    },
    {
      "cell_type": "code",
      "metadata": {
        "id": "8lR-sOsQD6UV",
        "colab_type": "code",
        "colab": {}
      },
      "source": [
        "# top_channels"
      ],
      "execution_count": 0,
      "outputs": []
    },
    {
      "cell_type": "code",
      "metadata": {
        "id": "Esv5wQmYFby6",
        "colab_type": "code",
        "colab": {}
      },
      "source": [
        "# temp_bias_top_10_DI = np.zeros(shape = (K,))\n",
        "# # temp_bias = high_acc_conv2_weights[1]\n",
        "\n",
        "# # bias_shape = high_acc_conv2_weights[1].shape\n",
        "# j = 0\n",
        "# for ch in range(0,high_acc_conv2_weights[1].shape[0]):\n",
        "# #   print (ch)\n",
        "#   if ch in top_channels:\n",
        "#     temp_bias_top_10_DI[j] = high_acc_conv2_weights[1][ch]\n",
        "#     j = j+1"
      ],
      "execution_count": 0,
      "outputs": []
    },
    {
      "cell_type": "code",
      "metadata": {
        "id": "HPV28w1jFulD",
        "colab_type": "code",
        "colab": {}
      },
      "source": [
        "# temp_bias\n",
        "# weights_to_assign_fromHighAcc = [temp_weights_top_10_DI,temp_bias_top_10_DI]"
      ],
      "execution_count": 0,
      "outputs": []
    },
    {
      "cell_type": "code",
      "metadata": {
        "id": "2pYigm1qFJmK",
        "colab_type": "code",
        "colab": {}
      },
      "source": [
        "# temp_weights_top_10_DI.shape"
      ],
      "execution_count": 0,
      "outputs": []
    },
    {
      "cell_type": "code",
      "metadata": {
        "id": "f1t2Yj3-E01G",
        "colab_type": "code",
        "colab": {}
      },
      "source": [
        "# high_acc_conv2_weights[1].shape"
      ],
      "execution_count": 0,
      "outputs": []
    },
    {
      "cell_type": "code",
      "metadata": {
        "id": "hQKKEkR2F-tx",
        "colab_type": "code",
        "colab": {}
      },
      "source": [
        "# modelFilt.get_layer('lowAccuracyModelConv1_1').set_weights(loaded_model_low_accuracy.get_layer('conv2d_1').get_weights())\n",
        "# modelFilt.get_layer('lowAccuracyModelBN1').set_weights(loaded_model_low_accuracy.get_layer('batch_normalization_1').get_weights())\n",
        "# # modelFilt.get_layer('HighAccuracyConv2').set_weights(loaded_model_high_accuracy.get_layer('conv2d_2').get_weights())\n",
        "# modelFilt.get_layer('lowAccuracyModelConv2_1').set_weights(loaded_model_low_accuracy.get_layer('conv2d_2').get_weights())"
      ],
      "execution_count": 0,
      "outputs": []
    },
    {
      "cell_type": "code",
      "metadata": {
        "id": "knA2xBI4jrZF",
        "colab_type": "code",
        "colab": {}
      },
      "source": [
        "# loaded_model_low_accuracy.summary()"
      ],
      "execution_count": 0,
      "outputs": []
    },
    {
      "cell_type": "code",
      "metadata": {
        "id": "VZ9nBYl-h9SD",
        "colab_type": "code",
        "colab": {}
      },
      "source": [
        "# # preset the weights\n",
        "# for l1,l2 in zip(modelFilt.layers,loaded_model_low_accuracy.layers):\n",
        "#     l1.set_weights(l2.get_weights())"
      ],
      "execution_count": 0,
      "outputs": []
    },
    {
      "cell_type": "code",
      "metadata": {
        "id": "fGIUVWh3G4x4",
        "colab_type": "code",
        "colab": {}
      },
      "source": [
        "# layer_to_replace = layer_name\n",
        "# low_acc_conv2d_weights_bias = modelFilt.get_layer(layer_to_replace).get_weights()\n",
        "# low_acc_conv2d_weights = low_acc_conv2d_weights_bias[0]\n",
        "# low_acc_conv2d_wbias= low_acc_conv2d_weights_bias[1]\n"
      ],
      "execution_count": 0,
      "outputs": []
    },
    {
      "cell_type": "code",
      "metadata": {
        "id": "cVFju9iFKJID",
        "colab_type": "code",
        "colab": {}
      },
      "source": [
        "# temp_bias_top_10_DI.shape"
      ],
      "execution_count": 0,
      "outputs": []
    },
    {
      "cell_type": "code",
      "metadata": {
        "id": "MlkRaotsHceY",
        "colab_type": "code",
        "colab": {}
      },
      "source": [
        "# # now change weights for layers corresponding to lowest DI scores\n",
        "# orig_weights = np.copy(low_acc_conv2d_weights)\n",
        "# j = 0\n",
        "# for ch in range(0,orig_weights.shape[3]):\n",
        "#   if ch in low_channels:\n",
        "# #     print(ch)\n",
        "#     orig_weights[:,:,:,ch] = temp_weights_top_10_DI[:,:,:,j]\n",
        "#     j = j+1\n",
        "# # orig_weights.shape"
      ],
      "execution_count": 0,
      "outputs": []
    },
    {
      "cell_type": "code",
      "metadata": {
        "id": "ye2_DU60K0nL",
        "colab_type": "code",
        "colab": {}
      },
      "source": [
        "# orig_bias = np.copy(low_acc_conv2d_wbias)\n",
        "# j = 0\n",
        "# for ch in range(0,orig_bias.shape[0]):\n",
        "#   if ch in low_channels:\n",
        "# #     print(ch)\n",
        "#     orig_bias[ch] = temp_bias_top_10_DI[j]\n",
        "#     j = j+1"
      ],
      "execution_count": 0,
      "outputs": []
    },
    {
      "cell_type": "code",
      "metadata": {
        "id": "WDX113kegLSi",
        "colab_type": "code",
        "colab": {}
      },
      "source": [
        ""
      ],
      "execution_count": 0,
      "outputs": []
    },
    {
      "cell_type": "code",
      "metadata": {
        "id": "RERDrTNALkUA",
        "colab_type": "code",
        "colab": {}
      },
      "source": [
        "# new_wt_bias_conv2d1 = [orig_weights,orig_bias]"
      ],
      "execution_count": 0,
      "outputs": []
    },
    {
      "cell_type": "markdown",
      "metadata": {
        "id": "uMc3GS52iEv0",
        "colab_type": "text"
      },
      "source": [
        "#### Overwrite weights fow low DI with high DI"
      ]
    },
    {
      "cell_type": "code",
      "metadata": {
        "id": "OTUKj97VLfIu",
        "colab_type": "code",
        "colab": {}
      },
      "source": [
        "# modelFilt.get_layer(layer_to_replace).set_weights(new_wt_bias_conv2d1)"
      ],
      "execution_count": 0,
      "outputs": []
    },
    {
      "cell_type": "code",
      "metadata": {
        "id": "Ji5jVmbej-LM",
        "colab_type": "code",
        "colab": {}
      },
      "source": [
        "# loaded_model_low_accuracy.layers[5]"
      ],
      "execution_count": 0,
      "outputs": []
    },
    {
      "cell_type": "code",
      "metadata": {
        "id": "0w2grlRlKQhJ",
        "colab_type": "code",
        "colab": {}
      },
      "source": [
        ""
      ],
      "execution_count": 0,
      "outputs": []
    },
    {
      "cell_type": "code",
      "metadata": {
        "id": "7EozUm-dSIx2",
        "colab_type": "code",
        "colab": {}
      },
      "source": [
        "# modelFilt.summary()"
      ],
      "execution_count": 0,
      "outputs": []
    },
    {
      "cell_type": "markdown",
      "metadata": {
        "id": "wRWAVstvGhht",
        "colab_type": "text"
      },
      "source": [
        "#### # now replace weights in conv2d layer for filters correspondng to lowest 10 DI scores"
      ]
    },
    {
      "cell_type": "code",
      "metadata": {
        "id": "jcnUQrPtGay_",
        "colab_type": "code",
        "colab": {}
      },
      "source": [
        ""
      ],
      "execution_count": 0,
      "outputs": []
    },
    {
      "cell_type": "code",
      "metadata": {
        "id": "fev8cENxbr-P",
        "colab_type": "code",
        "colab": {}
      },
      "source": [
        "file_save_name = 'weights_top_k_model2.hdf5'\n",
        "mcp_save = ModelCheckpoint(file_save_name, save_best_only=True, monitor='val_acc', mode='auto')"
      ],
      "execution_count": 0,
      "outputs": []
    },
    {
      "cell_type": "code",
      "metadata": {
        "id": "0BTKJa7Zbwtc",
        "colab_type": "code",
        "colab": {}
      },
      "source": [
        "def lr_schedule(epoch):\n",
        "    lrate = 0.0001\n",
        "    if epoch > 300:\n",
        "        lrate = 0.0001/3\n",
        "    if epoch > 600:\n",
        "        lrate = 0.0001/9\n",
        "    return lrate"
      ],
      "execution_count": 0,
      "outputs": []
    },
    {
      "cell_type": "code",
      "metadata": {
        "id": "gdiZwWSth97S",
        "colab_type": "code",
        "outputId": "9302212d-1560-4e12-92a5-526f0cf6e0f9",
        "colab": {
          "base_uri": "https://localhost:8080/",
          "height": 34
        }
      },
      "source": [
        "copied_low_accuracy_model.evaluate(valid_X, valid_ground, verbose=0)"
      ],
      "execution_count": 84,
      "outputs": [
        {
          "output_type": "execute_result",
          "data": {
            "text/plain": [
              "[11.013150327046713, 0.3246666665871938]"
            ]
          },
          "metadata": {
            "tags": []
          },
          "execution_count": 84
        }
      ]
    },
    {
      "cell_type": "code",
      "metadata": {
        "id": "sIOMXQsjdSNX",
        "colab_type": "code",
        "outputId": "3ac8a955-1ba3-4d17-afe6-cca155b8664d",
        "colab": {
          "base_uri": "https://localhost:8080/",
          "height": 21903
        }
      },
      "source": [
        "copied_low_accuracy_model.fit_generator(datagen.flow(train_X, train_ground, batch_size=batch_size),\\\n",
        "                    steps_per_epoch=train_X.shape[0] // batch_size,epochs=1000,\\\n",
        "                    verbose=1,validation_data=(valid_X,valid_ground),\n",
        "                    shuffle = True,callbacks=[mcp_save,LearningRateScheduler(lr_schedule)])"
      ],
      "execution_count": 85,
      "outputs": [
        {
          "output_type": "stream",
          "text": [
            "Epoch 1/1000\n",
            "187/187 [==============================] - 13s 68ms/step - loss: 0.3136 - acc: 0.9301 - val_loss: 0.4962 - val_acc: 0.8767\n",
            "Epoch 2/1000\n",
            "187/187 [==============================] - 10s 51ms/step - loss: 0.2815 - acc: 0.9404 - val_loss: 0.4792 - val_acc: 0.8787\n",
            "Epoch 3/1000\n",
            "187/187 [==============================] - 9s 49ms/step - loss: 0.2750 - acc: 0.9418 - val_loss: 1.0199 - val_acc: 0.8287\n",
            "Epoch 4/1000\n",
            "187/187 [==============================] - 9s 50ms/step - loss: 0.2631 - acc: 0.9463 - val_loss: 0.4883 - val_acc: 0.8787\n",
            "Epoch 5/1000\n",
            "187/187 [==============================] - 9s 49ms/step - loss: 0.2632 - acc: 0.9458 - val_loss: 0.4786 - val_acc: 0.8767\n",
            "Epoch 6/1000\n",
            "187/187 [==============================] - 9s 49ms/step - loss: 0.2484 - acc: 0.9519 - val_loss: 0.4724 - val_acc: 0.8807\n",
            "Epoch 7/1000\n",
            "187/187 [==============================] - 9s 49ms/step - loss: 0.2460 - acc: 0.9531 - val_loss: 0.5142 - val_acc: 0.8830\n",
            "Epoch 8/1000\n",
            "187/187 [==============================] - 9s 49ms/step - loss: 0.2386 - acc: 0.9550 - val_loss: 0.5549 - val_acc: 0.8800\n",
            "Epoch 9/1000\n",
            "187/187 [==============================] - 9s 49ms/step - loss: 0.2408 - acc: 0.9536 - val_loss: 0.4996 - val_acc: 0.8843\n",
            "Epoch 10/1000\n",
            "187/187 [==============================] - 9s 49ms/step - loss: 0.2305 - acc: 0.9586 - val_loss: 0.5392 - val_acc: 0.8850\n",
            "Epoch 11/1000\n",
            "187/187 [==============================] - 9s 49ms/step - loss: 0.2258 - acc: 0.9594 - val_loss: 0.4840 - val_acc: 0.8887\n",
            "Epoch 12/1000\n",
            "187/187 [==============================] - 9s 49ms/step - loss: 0.2315 - acc: 0.9569 - val_loss: 0.4873 - val_acc: 0.8853\n",
            "Epoch 13/1000\n",
            "187/187 [==============================] - 9s 50ms/step - loss: 0.2304 - acc: 0.9593 - val_loss: 0.4823 - val_acc: 0.8877\n",
            "Epoch 14/1000\n",
            "187/187 [==============================] - 9s 50ms/step - loss: 0.2180 - acc: 0.9604 - val_loss: 0.5103 - val_acc: 0.8820\n",
            "Epoch 15/1000\n",
            "187/187 [==============================] - 9s 49ms/step - loss: 0.2202 - acc: 0.9596 - val_loss: 0.5460 - val_acc: 0.8847\n",
            "Epoch 16/1000\n",
            "187/187 [==============================] - 9s 49ms/step - loss: 0.2194 - acc: 0.9606 - val_loss: 0.5153 - val_acc: 0.8897\n",
            "Epoch 17/1000\n",
            "187/187 [==============================] - 9s 49ms/step - loss: 0.2044 - acc: 0.9651 - val_loss: 0.5438 - val_acc: 0.8863\n",
            "Epoch 18/1000\n",
            "187/187 [==============================] - 9s 49ms/step - loss: 0.2095 - acc: 0.9647 - val_loss: 0.5688 - val_acc: 0.8797\n",
            "Epoch 19/1000\n",
            "187/187 [==============================] - 9s 49ms/step - loss: 0.2097 - acc: 0.9644 - val_loss: 0.5361 - val_acc: 0.8823\n",
            "Epoch 20/1000\n",
            "187/187 [==============================] - 9s 49ms/step - loss: 0.2092 - acc: 0.9621 - val_loss: 0.5639 - val_acc: 0.8777\n",
            "Epoch 21/1000\n",
            "187/187 [==============================] - 9s 49ms/step - loss: 0.2043 - acc: 0.9654 - val_loss: 0.5753 - val_acc: 0.8837\n",
            "Epoch 22/1000\n",
            "187/187 [==============================] - 9s 50ms/step - loss: 0.2052 - acc: 0.9659 - val_loss: 0.5181 - val_acc: 0.8930\n",
            "Epoch 23/1000\n",
            "187/187 [==============================] - 9s 49ms/step - loss: 0.1992 - acc: 0.9688 - val_loss: 0.5335 - val_acc: 0.8870\n",
            "Epoch 24/1000\n",
            "187/187 [==============================] - 9s 48ms/step - loss: 0.1970 - acc: 0.9681 - val_loss: 0.5467 - val_acc: 0.8917\n",
            "Epoch 25/1000\n",
            "187/187 [==============================] - 9s 48ms/step - loss: 0.1946 - acc: 0.9708 - val_loss: 0.5222 - val_acc: 0.8850\n",
            "Epoch 26/1000\n",
            "187/187 [==============================] - 9s 48ms/step - loss: 0.1949 - acc: 0.9680 - val_loss: 0.5580 - val_acc: 0.8820\n",
            "Epoch 27/1000\n",
            "187/187 [==============================] - 9s 48ms/step - loss: 0.1854 - acc: 0.9717 - val_loss: 0.5236 - val_acc: 0.8837\n",
            "Epoch 28/1000\n",
            "187/187 [==============================] - 9s 48ms/step - loss: 0.1838 - acc: 0.9722 - val_loss: 0.5819 - val_acc: 0.8893\n",
            "Epoch 29/1000\n",
            "187/187 [==============================] - 9s 48ms/step - loss: 0.1855 - acc: 0.9732 - val_loss: 0.5547 - val_acc: 0.8863\n",
            "Epoch 30/1000\n",
            "187/187 [==============================] - 9s 49ms/step - loss: 0.1843 - acc: 0.9730 - val_loss: 0.5798 - val_acc: 0.8900\n",
            "Epoch 31/1000\n",
            "187/187 [==============================] - 9s 49ms/step - loss: 0.1835 - acc: 0.9720 - val_loss: 0.5912 - val_acc: 0.8947\n",
            "Epoch 32/1000\n",
            "187/187 [==============================] - 9s 49ms/step - loss: 0.1818 - acc: 0.9707 - val_loss: 0.5463 - val_acc: 0.8883\n",
            "Epoch 33/1000\n",
            "187/187 [==============================] - 9s 49ms/step - loss: 0.1862 - acc: 0.9733 - val_loss: 0.5718 - val_acc: 0.8867\n",
            "Epoch 34/1000\n",
            "187/187 [==============================] - 9s 49ms/step - loss: 0.1781 - acc: 0.9749 - val_loss: 0.5287 - val_acc: 0.8880\n",
            "Epoch 35/1000\n",
            "187/187 [==============================] - 9s 49ms/step - loss: 0.1735 - acc: 0.9753 - val_loss: 0.6002 - val_acc: 0.8830\n",
            "Epoch 36/1000\n",
            "187/187 [==============================] - 9s 48ms/step - loss: 0.1739 - acc: 0.9743 - val_loss: 0.5294 - val_acc: 0.8903\n",
            "Epoch 37/1000\n",
            "187/187 [==============================] - 9s 48ms/step - loss: 0.1656 - acc: 0.9760 - val_loss: 0.6948 - val_acc: 0.8820\n",
            "Epoch 38/1000\n",
            "187/187 [==============================] - 9s 48ms/step - loss: 0.1774 - acc: 0.9748 - val_loss: 0.5711 - val_acc: 0.8837\n",
            "Epoch 39/1000\n",
            "187/187 [==============================] - 9s 50ms/step - loss: 0.1747 - acc: 0.9759 - val_loss: 0.5706 - val_acc: 0.8873\n",
            "Epoch 40/1000\n",
            "187/187 [==============================] - 9s 49ms/step - loss: 0.1670 - acc: 0.9770 - val_loss: 0.6438 - val_acc: 0.8863\n",
            "Epoch 41/1000\n",
            "187/187 [==============================] - 9s 48ms/step - loss: 0.1682 - acc: 0.9777 - val_loss: 0.5818 - val_acc: 0.8930\n",
            "Epoch 42/1000\n",
            "187/187 [==============================] - 9s 48ms/step - loss: 0.1634 - acc: 0.9790 - val_loss: 0.6748 - val_acc: 0.8943\n",
            "Epoch 43/1000\n",
            "187/187 [==============================] - 9s 48ms/step - loss: 0.1686 - acc: 0.9769 - val_loss: 0.5835 - val_acc: 0.8903\n",
            "Epoch 44/1000\n",
            "187/187 [==============================] - 9s 48ms/step - loss: 0.1632 - acc: 0.9796 - val_loss: 0.5805 - val_acc: 0.8923\n",
            "Epoch 45/1000\n",
            "187/187 [==============================] - 9s 48ms/step - loss: 0.1580 - acc: 0.9807 - val_loss: 0.5737 - val_acc: 0.8827\n",
            "Epoch 46/1000\n",
            "187/187 [==============================] - 9s 48ms/step - loss: 0.1651 - acc: 0.9776 - val_loss: 0.5800 - val_acc: 0.8870\n",
            "Epoch 47/1000\n",
            "187/187 [==============================] - 9s 49ms/step - loss: 0.1560 - acc: 0.9806 - val_loss: 0.6320 - val_acc: 0.8860\n",
            "Epoch 48/1000\n",
            "187/187 [==============================] - 9s 50ms/step - loss: 0.1604 - acc: 0.9795 - val_loss: 0.5514 - val_acc: 0.8893\n",
            "Epoch 49/1000\n",
            "187/187 [==============================] - 9s 49ms/step - loss: 0.1573 - acc: 0.9803 - val_loss: 0.6656 - val_acc: 0.8837\n",
            "Epoch 50/1000\n",
            "187/187 [==============================] - 9s 48ms/step - loss: 0.1560 - acc: 0.9812 - val_loss: 0.6978 - val_acc: 0.8830\n",
            "Epoch 51/1000\n",
            "187/187 [==============================] - 9s 48ms/step - loss: 0.1575 - acc: 0.9804 - val_loss: 0.7033 - val_acc: 0.8827\n",
            "Epoch 52/1000\n",
            "187/187 [==============================] - 9s 48ms/step - loss: 0.1543 - acc: 0.9820 - val_loss: 0.6140 - val_acc: 0.8863\n",
            "Epoch 53/1000\n",
            "187/187 [==============================] - 9s 48ms/step - loss: 0.1487 - acc: 0.9825 - val_loss: 0.6780 - val_acc: 0.8867\n",
            "Epoch 54/1000\n",
            "187/187 [==============================] - 9s 49ms/step - loss: 0.1553 - acc: 0.9798 - val_loss: 0.6826 - val_acc: 0.8887\n",
            "Epoch 55/1000\n",
            "187/187 [==============================] - 9s 48ms/step - loss: 0.1467 - acc: 0.9839 - val_loss: 0.7504 - val_acc: 0.8843\n",
            "Epoch 56/1000\n",
            "187/187 [==============================] - 9s 49ms/step - loss: 0.1482 - acc: 0.9840 - val_loss: 0.6800 - val_acc: 0.8907\n",
            "Epoch 57/1000\n",
            "187/187 [==============================] - 9s 50ms/step - loss: 0.1507 - acc: 0.9826 - val_loss: 0.6672 - val_acc: 0.8910\n",
            "Epoch 58/1000\n",
            "187/187 [==============================] - 9s 49ms/step - loss: 0.1525 - acc: 0.9826 - val_loss: 0.5766 - val_acc: 0.8890\n",
            "Epoch 59/1000\n",
            "187/187 [==============================] - 9s 48ms/step - loss: 0.1501 - acc: 0.9833 - val_loss: 0.6114 - val_acc: 0.8883\n",
            "Epoch 60/1000\n",
            "187/187 [==============================] - 9s 49ms/step - loss: 0.1414 - acc: 0.9837 - val_loss: 0.7286 - val_acc: 0.8847\n",
            "Epoch 61/1000\n",
            "187/187 [==============================] - 9s 49ms/step - loss: 0.1445 - acc: 0.9837 - val_loss: 0.7330 - val_acc: 0.8827\n",
            "Epoch 62/1000\n",
            "187/187 [==============================] - 9s 49ms/step - loss: 0.1423 - acc: 0.9844 - val_loss: 0.6899 - val_acc: 0.8893\n",
            "Epoch 63/1000\n",
            "187/187 [==============================] - 9s 48ms/step - loss: 0.1490 - acc: 0.9816 - val_loss: 0.7182 - val_acc: 0.8857\n",
            "Epoch 64/1000\n",
            "187/187 [==============================] - 9s 48ms/step - loss: 0.1406 - acc: 0.9852 - val_loss: 0.7096 - val_acc: 0.8857\n",
            "Epoch 65/1000\n",
            "187/187 [==============================] - 9s 49ms/step - loss: 0.1419 - acc: 0.9853 - val_loss: 0.6021 - val_acc: 0.8907\n",
            "Epoch 66/1000\n",
            "187/187 [==============================] - 9s 50ms/step - loss: 0.1416 - acc: 0.9845 - val_loss: 0.6743 - val_acc: 0.8843\n",
            "Epoch 67/1000\n",
            "187/187 [==============================] - 9s 48ms/step - loss: 0.1413 - acc: 0.9860 - val_loss: 0.7351 - val_acc: 0.8813\n",
            "Epoch 68/1000\n",
            "187/187 [==============================] - 9s 49ms/step - loss: 0.1382 - acc: 0.9855 - val_loss: 0.7235 - val_acc: 0.8907\n",
            "Epoch 69/1000\n",
            "187/187 [==============================] - 9s 48ms/step - loss: 0.1368 - acc: 0.9852 - val_loss: 0.6966 - val_acc: 0.8790\n",
            "Epoch 70/1000\n",
            "187/187 [==============================] - 9s 48ms/step - loss: 0.1400 - acc: 0.9858 - val_loss: 0.7432 - val_acc: 0.8843\n",
            "Epoch 71/1000\n",
            "187/187 [==============================] - 9s 48ms/step - loss: 0.1397 - acc: 0.9864 - val_loss: 0.6844 - val_acc: 0.8890\n",
            "Epoch 72/1000\n",
            "187/187 [==============================] - 9s 48ms/step - loss: 0.1379 - acc: 0.9857 - val_loss: 0.7373 - val_acc: 0.8863\n",
            "Epoch 73/1000\n",
            "187/187 [==============================] - 9s 48ms/step - loss: 0.1361 - acc: 0.9867 - val_loss: 0.7719 - val_acc: 0.8860\n",
            "Epoch 74/1000\n",
            "187/187 [==============================] - 9s 49ms/step - loss: 0.1380 - acc: 0.9865 - val_loss: 0.6466 - val_acc: 0.8867\n",
            "Epoch 75/1000\n",
            "187/187 [==============================] - 9s 49ms/step - loss: 0.1366 - acc: 0.9859 - val_loss: 0.7480 - val_acc: 0.8917\n",
            "Epoch 76/1000\n",
            "187/187 [==============================] - 9s 48ms/step - loss: 0.1407 - acc: 0.9852 - val_loss: 0.6583 - val_acc: 0.8940\n",
            "Epoch 77/1000\n",
            "187/187 [==============================] - 9s 48ms/step - loss: 0.1356 - acc: 0.9870 - val_loss: 0.8445 - val_acc: 0.8850\n",
            "Epoch 78/1000\n",
            "187/187 [==============================] - 9s 48ms/step - loss: 0.1330 - acc: 0.9868 - val_loss: 0.7442 - val_acc: 0.8893\n",
            "Epoch 79/1000\n",
            "187/187 [==============================] - 9s 48ms/step - loss: 0.1300 - acc: 0.9874 - val_loss: 0.6702 - val_acc: 0.8877\n",
            "Epoch 80/1000\n",
            "187/187 [==============================] - 9s 48ms/step - loss: 0.1378 - acc: 0.9866 - val_loss: 0.8110 - val_acc: 0.8833\n",
            "Epoch 81/1000\n",
            "187/187 [==============================] - 9s 48ms/step - loss: 0.1377 - acc: 0.9871 - val_loss: 0.7806 - val_acc: 0.8850\n",
            "Epoch 82/1000\n",
            "187/187 [==============================] - 9s 50ms/step - loss: 0.1395 - acc: 0.9867 - val_loss: 0.7245 - val_acc: 0.8860\n",
            "Epoch 83/1000\n",
            "187/187 [==============================] - 9s 50ms/step - loss: 0.1302 - acc: 0.9878 - val_loss: 0.7847 - val_acc: 0.8847\n",
            "Epoch 84/1000\n",
            "187/187 [==============================] - 9s 49ms/step - loss: 0.1336 - acc: 0.9881 - val_loss: 0.8079 - val_acc: 0.8863\n",
            "Epoch 85/1000\n",
            "187/187 [==============================] - 9s 48ms/step - loss: 0.1353 - acc: 0.9875 - val_loss: 0.6516 - val_acc: 0.8900\n",
            "Epoch 86/1000\n",
            "187/187 [==============================] - 9s 48ms/step - loss: 0.1367 - acc: 0.9867 - val_loss: 0.8389 - val_acc: 0.8917\n",
            "Epoch 87/1000\n",
            "187/187 [==============================] - 9s 49ms/step - loss: 0.1309 - acc: 0.9883 - val_loss: 0.6929 - val_acc: 0.8890\n",
            "Epoch 88/1000\n",
            "187/187 [==============================] - 9s 48ms/step - loss: 0.1305 - acc: 0.9864 - val_loss: 0.6601 - val_acc: 0.8850\n",
            "Epoch 89/1000\n",
            "187/187 [==============================] - 9s 48ms/step - loss: 0.1280 - acc: 0.9887 - val_loss: 0.6884 - val_acc: 0.8900\n",
            "Epoch 90/1000\n",
            "187/187 [==============================] - 9s 48ms/step - loss: 0.1300 - acc: 0.9870 - val_loss: 0.7594 - val_acc: 0.8900\n",
            "Epoch 91/1000\n",
            "187/187 [==============================] - 9s 48ms/step - loss: 0.1283 - acc: 0.9891 - val_loss: 0.6601 - val_acc: 0.8907\n",
            "Epoch 92/1000\n",
            "187/187 [==============================] - 9s 50ms/step - loss: 0.1240 - acc: 0.9893 - val_loss: 0.6379 - val_acc: 0.8893\n",
            "Epoch 93/1000\n",
            "187/187 [==============================] - 9s 49ms/step - loss: 0.1243 - acc: 0.9892 - val_loss: 0.7150 - val_acc: 0.8873\n",
            "Epoch 94/1000\n",
            "187/187 [==============================] - 9s 48ms/step - loss: 0.1254 - acc: 0.9897 - val_loss: 0.6776 - val_acc: 0.8863\n",
            "Epoch 95/1000\n",
            "187/187 [==============================] - 9s 49ms/step - loss: 0.1254 - acc: 0.9889 - val_loss: 0.8668 - val_acc: 0.8890\n",
            "Epoch 96/1000\n",
            "187/187 [==============================] - 9s 48ms/step - loss: 0.1245 - acc: 0.9886 - val_loss: 0.8084 - val_acc: 0.8847\n",
            "Epoch 97/1000\n",
            "187/187 [==============================] - 9s 48ms/step - loss: 0.1324 - acc: 0.9877 - val_loss: 0.7463 - val_acc: 0.8817\n",
            "Epoch 98/1000\n",
            "187/187 [==============================] - 9s 48ms/step - loss: 0.1291 - acc: 0.9881 - val_loss: 0.7077 - val_acc: 0.8907\n",
            "Epoch 99/1000\n",
            "187/187 [==============================] - 9s 48ms/step - loss: 0.1269 - acc: 0.9897 - val_loss: 0.7854 - val_acc: 0.8810\n",
            "Epoch 100/1000\n",
            "187/187 [==============================] - 9s 48ms/step - loss: 0.1266 - acc: 0.9897 - val_loss: 0.6920 - val_acc: 0.8860\n",
            "Epoch 101/1000\n",
            "187/187 [==============================] - 9s 50ms/step - loss: 0.1273 - acc: 0.9875 - val_loss: 0.8409 - val_acc: 0.8833\n",
            "Epoch 102/1000\n",
            "187/187 [==============================] - 9s 49ms/step - loss: 0.1303 - acc: 0.9878 - val_loss: 0.6405 - val_acc: 0.8890\n",
            "Epoch 103/1000\n",
            "187/187 [==============================] - 9s 48ms/step - loss: 0.1211 - acc: 0.9902 - val_loss: 0.7741 - val_acc: 0.8920\n",
            "Epoch 104/1000\n",
            "187/187 [==============================] - 9s 48ms/step - loss: 0.1232 - acc: 0.9893 - val_loss: 0.7431 - val_acc: 0.8857\n",
            "Epoch 105/1000\n",
            "187/187 [==============================] - 9s 48ms/step - loss: 0.1260 - acc: 0.9891 - val_loss: 0.7937 - val_acc: 0.8807\n",
            "Epoch 106/1000\n",
            "187/187 [==============================] - 9s 48ms/step - loss: 0.1203 - acc: 0.9904 - val_loss: 0.7593 - val_acc: 0.8850\n",
            "Epoch 107/1000\n",
            "187/187 [==============================] - 9s 48ms/step - loss: 0.1227 - acc: 0.9907 - val_loss: 0.7972 - val_acc: 0.8903\n",
            "Epoch 108/1000\n",
            "187/187 [==============================] - 9s 48ms/step - loss: 0.1194 - acc: 0.9904 - val_loss: 0.7770 - val_acc: 0.8730\n",
            "Epoch 109/1000\n",
            "187/187 [==============================] - 9s 48ms/step - loss: 0.1215 - acc: 0.9897 - val_loss: 0.9164 - val_acc: 0.8860\n",
            "Epoch 110/1000\n",
            "187/187 [==============================] - 9s 49ms/step - loss: 0.1244 - acc: 0.9908 - val_loss: 0.9056 - val_acc: 0.8880\n",
            "Epoch 111/1000\n",
            "187/187 [==============================] - 9s 48ms/step - loss: 0.1299 - acc: 0.9890 - val_loss: 0.7796 - val_acc: 0.8870\n",
            "Epoch 112/1000\n",
            "187/187 [==============================] - 9s 48ms/step - loss: 0.1183 - acc: 0.9903 - val_loss: 0.9511 - val_acc: 0.8830\n",
            "Epoch 113/1000\n",
            "187/187 [==============================] - 9s 48ms/step - loss: 0.1222 - acc: 0.9905 - val_loss: 0.7553 - val_acc: 0.8880\n",
            "Epoch 114/1000\n",
            "187/187 [==============================] - 9s 48ms/step - loss: 0.1202 - acc: 0.9888 - val_loss: 0.6994 - val_acc: 0.8883\n",
            "Epoch 115/1000\n",
            "187/187 [==============================] - 9s 48ms/step - loss: 0.1234 - acc: 0.9908 - val_loss: 0.7901 - val_acc: 0.8860\n",
            "Epoch 116/1000\n",
            "187/187 [==============================] - 9s 49ms/step - loss: 0.1126 - acc: 0.9915 - val_loss: 0.9087 - val_acc: 0.8750\n",
            "Epoch 117/1000\n",
            "187/187 [==============================] - 9s 49ms/step - loss: 0.1255 - acc: 0.9891 - val_loss: 0.7974 - val_acc: 0.8880\n",
            "Epoch 118/1000\n",
            "187/187 [==============================] - 9s 48ms/step - loss: 0.1242 - acc: 0.9894 - val_loss: 0.7395 - val_acc: 0.8893\n",
            "Epoch 119/1000\n",
            "187/187 [==============================] - 9s 49ms/step - loss: 0.1183 - acc: 0.9896 - val_loss: 0.8629 - val_acc: 0.8917\n",
            "Epoch 120/1000\n",
            "187/187 [==============================] - 9s 48ms/step - loss: 0.1197 - acc: 0.9903 - val_loss: 0.7937 - val_acc: 0.8883\n",
            "Epoch 121/1000\n",
            "187/187 [==============================] - 9s 49ms/step - loss: 0.1199 - acc: 0.9908 - val_loss: 0.7230 - val_acc: 0.8880\n",
            "Epoch 122/1000\n",
            "187/187 [==============================] - 9s 48ms/step - loss: 0.1183 - acc: 0.9909 - val_loss: 0.8471 - val_acc: 0.8867\n",
            "Epoch 123/1000\n",
            "187/187 [==============================] - 9s 48ms/step - loss: 0.1163 - acc: 0.9914 - val_loss: 0.8158 - val_acc: 0.8863\n",
            "Epoch 124/1000\n",
            "187/187 [==============================] - 9s 48ms/step - loss: 0.1189 - acc: 0.9900 - val_loss: 0.7826 - val_acc: 0.8950\n",
            "Epoch 125/1000\n",
            "187/187 [==============================] - 9s 49ms/step - loss: 0.1158 - acc: 0.9906 - val_loss: 0.9488 - val_acc: 0.8933\n",
            "Epoch 126/1000\n",
            "187/187 [==============================] - 9s 48ms/step - loss: 0.1152 - acc: 0.9923 - val_loss: 0.9139 - val_acc: 0.8913\n",
            "Epoch 127/1000\n",
            "187/187 [==============================] - 9s 49ms/step - loss: 0.1166 - acc: 0.9911 - val_loss: 0.8550 - val_acc: 0.8903\n",
            "Epoch 128/1000\n",
            "187/187 [==============================] - 9s 49ms/step - loss: 0.1130 - acc: 0.9917 - val_loss: 1.0289 - val_acc: 0.8887\n",
            "Epoch 129/1000\n",
            "187/187 [==============================] - 9s 48ms/step - loss: 0.1156 - acc: 0.9916 - val_loss: 0.9141 - val_acc: 0.8890\n",
            "Epoch 130/1000\n",
            "187/187 [==============================] - 9s 48ms/step - loss: 0.1283 - acc: 0.9908 - val_loss: 0.8028 - val_acc: 0.8913\n",
            "Epoch 131/1000\n",
            "187/187 [==============================] - 9s 48ms/step - loss: 0.1175 - acc: 0.9915 - val_loss: 0.8046 - val_acc: 0.8897\n",
            "Epoch 132/1000\n",
            "187/187 [==============================] - 9s 48ms/step - loss: 0.1170 - acc: 0.9903 - val_loss: 0.8183 - val_acc: 0.8917\n",
            "Epoch 133/1000\n",
            "187/187 [==============================] - 9s 48ms/step - loss: 0.1214 - acc: 0.9901 - val_loss: 0.9068 - val_acc: 0.8890\n",
            "Epoch 134/1000\n",
            "187/187 [==============================] - 9s 48ms/step - loss: 0.1177 - acc: 0.9916 - val_loss: 0.8503 - val_acc: 0.8887\n",
            "Epoch 135/1000\n",
            "187/187 [==============================] - 9s 48ms/step - loss: 0.1157 - acc: 0.9906 - val_loss: 0.8214 - val_acc: 0.8920\n",
            "Epoch 136/1000\n",
            "187/187 [==============================] - 9s 49ms/step - loss: 0.1130 - acc: 0.9901 - val_loss: 0.8193 - val_acc: 0.8887\n",
            "Epoch 137/1000\n",
            "187/187 [==============================] - 9s 49ms/step - loss: 0.1183 - acc: 0.9903 - val_loss: 0.9268 - val_acc: 0.8950\n",
            "Epoch 138/1000\n",
            "187/187 [==============================] - 9s 48ms/step - loss: 0.1164 - acc: 0.9912 - val_loss: 0.8240 - val_acc: 0.8843\n",
            "Epoch 139/1000\n",
            "187/187 [==============================] - 9s 48ms/step - loss: 0.1078 - acc: 0.9926 - val_loss: 0.8855 - val_acc: 0.8933\n",
            "Epoch 140/1000\n",
            "187/187 [==============================] - 9s 48ms/step - loss: 0.1090 - acc: 0.9931 - val_loss: 0.9603 - val_acc: 0.8850\n",
            "Epoch 141/1000\n",
            "187/187 [==============================] - 9s 48ms/step - loss: 0.1196 - acc: 0.9908 - val_loss: 0.8251 - val_acc: 0.8833\n",
            "Epoch 142/1000\n",
            "187/187 [==============================] - 9s 48ms/step - loss: 0.1152 - acc: 0.9912 - val_loss: 0.7596 - val_acc: 0.8820\n",
            "Epoch 143/1000\n",
            "187/187 [==============================] - 9s 48ms/step - loss: 0.1179 - acc: 0.9907 - val_loss: 0.8738 - val_acc: 0.8880\n",
            "Epoch 144/1000\n",
            "187/187 [==============================] - 9s 49ms/step - loss: 0.1192 - acc: 0.9901 - val_loss: 0.9104 - val_acc: 0.8837\n",
            "Epoch 145/1000\n",
            "187/187 [==============================] - 9s 49ms/step - loss: 0.1111 - acc: 0.9922 - val_loss: 0.7973 - val_acc: 0.8903\n",
            "Epoch 146/1000\n",
            "187/187 [==============================] - 9s 49ms/step - loss: 0.1132 - acc: 0.9906 - val_loss: 0.7275 - val_acc: 0.8897\n",
            "Epoch 147/1000\n",
            "187/187 [==============================] - 9s 48ms/step - loss: 0.1085 - acc: 0.9920 - val_loss: 0.9311 - val_acc: 0.8903\n",
            "Epoch 148/1000\n",
            "187/187 [==============================] - 9s 48ms/step - loss: 0.1121 - acc: 0.9916 - val_loss: 0.8614 - val_acc: 0.8857\n",
            "Epoch 149/1000\n",
            "187/187 [==============================] - 9s 48ms/step - loss: 0.1128 - acc: 0.9918 - val_loss: 0.7398 - val_acc: 0.8887\n",
            "Epoch 150/1000\n",
            "187/187 [==============================] - 9s 49ms/step - loss: 0.1121 - acc: 0.9923 - val_loss: 0.7813 - val_acc: 0.8943\n",
            "Epoch 151/1000\n",
            "187/187 [==============================] - 9s 49ms/step - loss: 0.1145 - acc: 0.9911 - val_loss: 0.8886 - val_acc: 0.8920\n",
            "Epoch 152/1000\n",
            "187/187 [==============================] - 9s 48ms/step - loss: 0.1149 - acc: 0.9912 - val_loss: 0.7911 - val_acc: 0.8910\n",
            "Epoch 153/1000\n",
            "187/187 [==============================] - 9s 48ms/step - loss: 0.1099 - acc: 0.9916 - val_loss: 0.8888 - val_acc: 0.8827\n",
            "Epoch 154/1000\n",
            "187/187 [==============================] - 9s 50ms/step - loss: 0.1171 - acc: 0.9898 - val_loss: 0.7471 - val_acc: 0.8853\n",
            "Epoch 155/1000\n",
            "187/187 [==============================] - 9s 48ms/step - loss: 0.1121 - acc: 0.9901 - val_loss: 0.8315 - val_acc: 0.8877\n",
            "Epoch 156/1000\n",
            "187/187 [==============================] - 9s 48ms/step - loss: 0.1109 - acc: 0.9911 - val_loss: 0.8530 - val_acc: 0.8933\n",
            "Epoch 157/1000\n",
            "187/187 [==============================] - 9s 48ms/step - loss: 0.1124 - acc: 0.9928 - val_loss: 0.8741 - val_acc: 0.8840\n",
            "Epoch 158/1000\n",
            "187/187 [==============================] - 9s 48ms/step - loss: 0.1100 - acc: 0.9913 - val_loss: 0.8164 - val_acc: 0.8907\n",
            "Epoch 159/1000\n",
            "187/187 [==============================] - 9s 48ms/step - loss: 0.1077 - acc: 0.9919 - val_loss: 0.8205 - val_acc: 0.8897\n",
            "Epoch 160/1000\n",
            "187/187 [==============================] - 9s 48ms/step - loss: 0.1107 - acc: 0.9916 - val_loss: 0.7852 - val_acc: 0.8937\n",
            "Epoch 161/1000\n",
            "187/187 [==============================] - 9s 48ms/step - loss: 0.1096 - acc: 0.9924 - val_loss: 0.8777 - val_acc: 0.8843\n",
            "Epoch 162/1000\n",
            "187/187 [==============================] - 9s 48ms/step - loss: 0.1123 - acc: 0.9918 - val_loss: 1.0211 - val_acc: 0.8817\n",
            "Epoch 163/1000\n",
            "187/187 [==============================] - 9s 49ms/step - loss: 0.1149 - acc: 0.9916 - val_loss: 0.8437 - val_acc: 0.8887\n",
            "Epoch 164/1000\n",
            "187/187 [==============================] - 9s 49ms/step - loss: 0.1077 - acc: 0.9921 - val_loss: 0.9409 - val_acc: 0.8883\n",
            "Epoch 165/1000\n",
            "187/187 [==============================] - 9s 48ms/step - loss: 0.1032 - acc: 0.9935 - val_loss: 1.0192 - val_acc: 0.8893\n",
            "Epoch 166/1000\n",
            "187/187 [==============================] - 9s 48ms/step - loss: 0.1168 - acc: 0.9920 - val_loss: 0.8636 - val_acc: 0.8927\n",
            "Epoch 167/1000\n",
            "187/187 [==============================] - 9s 48ms/step - loss: 0.1097 - acc: 0.9921 - val_loss: 0.8214 - val_acc: 0.8870\n",
            "Epoch 168/1000\n",
            "187/187 [==============================] - 9s 48ms/step - loss: 0.1141 - acc: 0.9916 - val_loss: 0.8582 - val_acc: 0.8863\n",
            "Epoch 169/1000\n",
            "187/187 [==============================] - 9s 48ms/step - loss: 0.1096 - acc: 0.9922 - val_loss: 0.8499 - val_acc: 0.8843\n",
            "Epoch 170/1000\n",
            "187/187 [==============================] - 9s 48ms/step - loss: 0.1068 - acc: 0.9933 - val_loss: 0.9105 - val_acc: 0.8893\n",
            "Epoch 171/1000\n",
            "187/187 [==============================] - 9s 48ms/step - loss: 0.1110 - acc: 0.9921 - val_loss: 0.8580 - val_acc: 0.8863\n",
            "Epoch 172/1000\n",
            "187/187 [==============================] - 9s 50ms/step - loss: 0.1082 - acc: 0.9922 - val_loss: 0.9765 - val_acc: 0.8860\n",
            "Epoch 173/1000\n",
            "187/187 [==============================] - 9s 48ms/step - loss: 0.1066 - acc: 0.9928 - val_loss: 0.9049 - val_acc: 0.8863\n",
            "Epoch 174/1000\n",
            "187/187 [==============================] - 9s 48ms/step - loss: 0.1066 - acc: 0.9934 - val_loss: 1.0205 - val_acc: 0.8860\n",
            "Epoch 175/1000\n",
            "187/187 [==============================] - 9s 48ms/step - loss: 0.1059 - acc: 0.9921 - val_loss: 1.1497 - val_acc: 0.8790\n",
            "Epoch 176/1000\n",
            "187/187 [==============================] - 9s 48ms/step - loss: 0.1017 - acc: 0.9928 - val_loss: 1.0466 - val_acc: 0.8790\n",
            "Epoch 177/1000\n",
            "187/187 [==============================] - 9s 48ms/step - loss: 0.1139 - acc: 0.9910 - val_loss: 0.9409 - val_acc: 0.8873\n",
            "Epoch 178/1000\n",
            "187/187 [==============================] - 9s 48ms/step - loss: 0.1078 - acc: 0.9926 - val_loss: 0.6695 - val_acc: 0.8907\n",
            "Epoch 179/1000\n",
            "187/187 [==============================] - 9s 48ms/step - loss: 0.1034 - acc: 0.9931 - val_loss: 0.8809 - val_acc: 0.8817\n",
            "Epoch 180/1000\n",
            "187/187 [==============================] - 9s 48ms/step - loss: 0.1049 - acc: 0.9928 - val_loss: 0.8972 - val_acc: 0.8910\n",
            "Epoch 181/1000\n",
            "187/187 [==============================] - 9s 49ms/step - loss: 0.1094 - acc: 0.9921 - val_loss: 0.8495 - val_acc: 0.8927\n",
            "Epoch 182/1000\n",
            "187/187 [==============================] - 9s 48ms/step - loss: 0.1102 - acc: 0.9921 - val_loss: 0.8392 - val_acc: 0.8927\n",
            "Epoch 183/1000\n",
            "187/187 [==============================] - 9s 48ms/step - loss: 0.1069 - acc: 0.9923 - val_loss: 0.7409 - val_acc: 0.8870\n",
            "Epoch 184/1000\n",
            "187/187 [==============================] - 9s 49ms/step - loss: 0.1061 - acc: 0.9926 - val_loss: 0.9897 - val_acc: 0.8827\n",
            "Epoch 185/1000\n",
            "187/187 [==============================] - 9s 49ms/step - loss: 0.1087 - acc: 0.9927 - val_loss: 0.8674 - val_acc: 0.8930\n",
            "Epoch 186/1000\n",
            "187/187 [==============================] - 9s 48ms/step - loss: 0.1072 - acc: 0.9926 - val_loss: 1.0975 - val_acc: 0.8693\n",
            "Epoch 187/1000\n",
            "187/187 [==============================] - 9s 48ms/step - loss: 0.1080 - acc: 0.9921 - val_loss: 0.9085 - val_acc: 0.8950\n",
            "Epoch 188/1000\n",
            "187/187 [==============================] - 9s 50ms/step - loss: 0.1114 - acc: 0.9916 - val_loss: 1.1237 - val_acc: 0.8633\n",
            "Epoch 189/1000\n",
            "187/187 [==============================] - 9s 49ms/step - loss: 0.1049 - acc: 0.9923 - val_loss: 1.1004 - val_acc: 0.8877\n",
            "Epoch 190/1000\n",
            "187/187 [==============================] - 9s 49ms/step - loss: 0.1067 - acc: 0.9926 - val_loss: 0.8267 - val_acc: 0.8953\n",
            "Epoch 191/1000\n",
            "187/187 [==============================] - 9s 48ms/step - loss: 0.1072 - acc: 0.9930 - val_loss: 0.9671 - val_acc: 0.8850\n",
            "Epoch 192/1000\n",
            "187/187 [==============================] - 9s 48ms/step - loss: 0.1127 - acc: 0.9919 - val_loss: 0.9222 - val_acc: 0.8757\n",
            "Epoch 193/1000\n",
            "187/187 [==============================] - 9s 48ms/step - loss: 0.1064 - acc: 0.9911 - val_loss: 0.8284 - val_acc: 0.8983\n",
            "Epoch 194/1000\n",
            "187/187 [==============================] - 9s 48ms/step - loss: 0.1063 - acc: 0.9926 - val_loss: 0.7742 - val_acc: 0.8967\n",
            "Epoch 195/1000\n",
            "187/187 [==============================] - 9s 48ms/step - loss: 0.1009 - acc: 0.9922 - val_loss: 0.9014 - val_acc: 0.8927\n",
            "Epoch 196/1000\n",
            "187/187 [==============================] - 9s 48ms/step - loss: 0.1037 - acc: 0.9941 - val_loss: 0.8996 - val_acc: 0.8840\n",
            "Epoch 197/1000\n",
            "187/187 [==============================] - 9s 48ms/step - loss: 0.0993 - acc: 0.9929 - val_loss: 0.9789 - val_acc: 0.8943\n",
            "Epoch 198/1000\n",
            "187/187 [==============================] - 9s 49ms/step - loss: 0.1012 - acc: 0.9933 - val_loss: 0.9361 - val_acc: 0.8877\n",
            "Epoch 199/1000\n",
            "187/187 [==============================] - 9s 49ms/step - loss: 0.1051 - acc: 0.9933 - val_loss: 0.8411 - val_acc: 0.8957\n",
            "Epoch 200/1000\n",
            "187/187 [==============================] - 9s 48ms/step - loss: 0.1099 - acc: 0.9916 - val_loss: 0.8104 - val_acc: 0.8960\n",
            "Epoch 201/1000\n",
            "187/187 [==============================] - 9s 48ms/step - loss: 0.1007 - acc: 0.9926 - val_loss: 1.0839 - val_acc: 0.8837\n",
            "Epoch 202/1000\n",
            "187/187 [==============================] - 9s 48ms/step - loss: 0.1077 - acc: 0.9911 - val_loss: 0.9236 - val_acc: 0.8773\n",
            "Epoch 203/1000\n",
            "187/187 [==============================] - 9s 48ms/step - loss: 0.1011 - acc: 0.9936 - val_loss: 1.0192 - val_acc: 0.8863\n",
            "Epoch 204/1000\n",
            "187/187 [==============================] - 9s 48ms/step - loss: 0.1082 - acc: 0.9921 - val_loss: 0.9417 - val_acc: 0.8887\n",
            "Epoch 205/1000\n",
            "187/187 [==============================] - 9s 48ms/step - loss: 0.1071 - acc: 0.9920 - val_loss: 0.7582 - val_acc: 0.8937\n",
            "Epoch 206/1000\n",
            "187/187 [==============================] - 9s 48ms/step - loss: 0.1014 - acc: 0.9942 - val_loss: 0.9680 - val_acc: 0.8823\n",
            "Epoch 207/1000\n",
            "187/187 [==============================] - 9s 49ms/step - loss: 0.0982 - acc: 0.9936 - val_loss: 0.9080 - val_acc: 0.8913\n",
            "Epoch 208/1000\n",
            "187/187 [==============================] - 9s 49ms/step - loss: 0.1008 - acc: 0.9931 - val_loss: 0.9005 - val_acc: 0.8887\n",
            "Epoch 209/1000\n",
            "187/187 [==============================] - 9s 48ms/step - loss: 0.0997 - acc: 0.9935 - val_loss: 0.9441 - val_acc: 0.8873\n",
            "Epoch 210/1000\n",
            "187/187 [==============================] - 9s 48ms/step - loss: 0.1116 - acc: 0.9915 - val_loss: 0.7770 - val_acc: 0.8920\n",
            "Epoch 211/1000\n",
            "187/187 [==============================] - 9s 48ms/step - loss: 0.1016 - acc: 0.9934 - val_loss: 0.8927 - val_acc: 0.8850\n",
            "Epoch 212/1000\n",
            "187/187 [==============================] - 9s 48ms/step - loss: 0.1033 - acc: 0.9919 - val_loss: 0.8855 - val_acc: 0.8827\n",
            "Epoch 213/1000\n",
            "187/187 [==============================] - 9s 48ms/step - loss: 0.0981 - acc: 0.9937 - val_loss: 1.2034 - val_acc: 0.8823\n",
            "Epoch 214/1000\n",
            "187/187 [==============================] - 9s 48ms/step - loss: 0.1017 - acc: 0.9925 - val_loss: 1.0896 - val_acc: 0.8857\n",
            "Epoch 215/1000\n",
            "187/187 [==============================] - 9s 48ms/step - loss: 0.1027 - acc: 0.9925 - val_loss: 0.7921 - val_acc: 0.8883\n",
            "Epoch 216/1000\n",
            "187/187 [==============================] - 9s 49ms/step - loss: 0.0988 - acc: 0.9928 - val_loss: 0.9435 - val_acc: 0.8853\n",
            "Epoch 217/1000\n",
            "187/187 [==============================] - 9s 48ms/step - loss: 0.1022 - acc: 0.9923 - val_loss: 0.9466 - val_acc: 0.8913\n",
            "Epoch 218/1000\n",
            "187/187 [==============================] - 9s 49ms/step - loss: 0.1021 - acc: 0.9945 - val_loss: 0.9883 - val_acc: 0.8897\n",
            "Epoch 219/1000\n",
            "187/187 [==============================] - 9s 50ms/step - loss: 0.0974 - acc: 0.9948 - val_loss: 0.9429 - val_acc: 0.8887\n",
            "Epoch 220/1000\n",
            "187/187 [==============================] - 9s 48ms/step - loss: 0.1023 - acc: 0.9936 - val_loss: 0.9379 - val_acc: 0.8917\n",
            "Epoch 221/1000\n",
            "187/187 [==============================] - 9s 48ms/step - loss: 0.1028 - acc: 0.9936 - val_loss: 0.8002 - val_acc: 0.8883\n",
            "Epoch 222/1000\n",
            "187/187 [==============================] - 9s 49ms/step - loss: 0.1052 - acc: 0.9927 - val_loss: 0.7651 - val_acc: 0.8907\n",
            "Epoch 223/1000\n",
            "187/187 [==============================] - 9s 48ms/step - loss: 0.1011 - acc: 0.9932 - val_loss: 0.9836 - val_acc: 0.8880\n",
            "Epoch 224/1000\n",
            "187/187 [==============================] - 9s 48ms/step - loss: 0.1067 - acc: 0.9926 - val_loss: 0.7720 - val_acc: 0.8930\n",
            "Epoch 225/1000\n",
            "187/187 [==============================] - 9s 50ms/step - loss: 0.1034 - acc: 0.9939 - val_loss: 1.0287 - val_acc: 0.8940\n",
            "Epoch 226/1000\n",
            "187/187 [==============================] - 9s 48ms/step - loss: 0.0966 - acc: 0.9934 - val_loss: 1.0975 - val_acc: 0.8780\n",
            "Epoch 227/1000\n",
            "187/187 [==============================] - 9s 48ms/step - loss: 0.1013 - acc: 0.9932 - val_loss: 0.8994 - val_acc: 0.8807\n",
            "Epoch 228/1000\n",
            "187/187 [==============================] - 9s 48ms/step - loss: 0.1008 - acc: 0.9930 - val_loss: 1.0835 - val_acc: 0.8820\n",
            "Epoch 229/1000\n",
            "187/187 [==============================] - 9s 48ms/step - loss: 0.0965 - acc: 0.9931 - val_loss: 1.1003 - val_acc: 0.8680\n",
            "Epoch 230/1000\n",
            "187/187 [==============================] - 9s 48ms/step - loss: 0.1034 - acc: 0.9930 - val_loss: 0.9413 - val_acc: 0.8840\n",
            "Epoch 231/1000\n",
            "187/187 [==============================] - 9s 48ms/step - loss: 0.0988 - acc: 0.9926 - val_loss: 0.9065 - val_acc: 0.8873\n",
            "Epoch 232/1000\n",
            "187/187 [==============================] - 9s 48ms/step - loss: 0.0971 - acc: 0.9940 - val_loss: 0.9041 - val_acc: 0.8813\n",
            "Epoch 233/1000\n",
            "187/187 [==============================] - 9s 48ms/step - loss: 0.0954 - acc: 0.9947 - val_loss: 0.9742 - val_acc: 0.8900\n",
            "Epoch 234/1000\n",
            "187/187 [==============================] - 9s 49ms/step - loss: 0.1052 - acc: 0.9930 - val_loss: 0.9635 - val_acc: 0.8877\n",
            "Epoch 235/1000\n",
            "187/187 [==============================] - 9s 48ms/step - loss: 0.1012 - acc: 0.9932 - val_loss: 1.1521 - val_acc: 0.8880\n",
            "Epoch 236/1000\n",
            "187/187 [==============================] - 9s 48ms/step - loss: 0.1057 - acc: 0.9916 - val_loss: 0.9855 - val_acc: 0.8950\n",
            "Epoch 237/1000\n",
            "187/187 [==============================] - 9s 48ms/step - loss: 0.0964 - acc: 0.9931 - val_loss: 0.9137 - val_acc: 0.8897\n",
            "Epoch 238/1000\n",
            "187/187 [==============================] - 9s 48ms/step - loss: 0.0942 - acc: 0.9933 - val_loss: 0.9871 - val_acc: 0.8893\n",
            "Epoch 239/1000\n",
            "187/187 [==============================] - 9s 48ms/step - loss: 0.0976 - acc: 0.9942 - val_loss: 0.9808 - val_acc: 0.8890\n",
            "Epoch 240/1000\n",
            "187/187 [==============================] - 9s 48ms/step - loss: 0.1006 - acc: 0.9932 - val_loss: 0.9037 - val_acc: 0.8840\n",
            "Epoch 241/1000\n",
            "187/187 [==============================] - 9s 48ms/step - loss: 0.0937 - acc: 0.9941 - val_loss: 1.0545 - val_acc: 0.8927\n",
            "Epoch 242/1000\n",
            "187/187 [==============================] - 9s 48ms/step - loss: 0.0985 - acc: 0.9936 - val_loss: 1.1230 - val_acc: 0.8830\n",
            "Epoch 243/1000\n",
            "187/187 [==============================] - 9s 49ms/step - loss: 0.0993 - acc: 0.9945 - val_loss: 1.1487 - val_acc: 0.8803\n",
            "Epoch 244/1000\n",
            "187/187 [==============================] - 9s 48ms/step - loss: 0.1019 - acc: 0.9928 - val_loss: 0.9548 - val_acc: 0.8813\n",
            "Epoch 245/1000\n",
            "187/187 [==============================] - 9s 48ms/step - loss: 0.0965 - acc: 0.9933 - val_loss: 0.9934 - val_acc: 0.8880\n",
            "Epoch 246/1000\n",
            "187/187 [==============================] - 9s 48ms/step - loss: 0.0978 - acc: 0.9934 - val_loss: 0.7913 - val_acc: 0.8797\n",
            "Epoch 247/1000\n",
            "187/187 [==============================] - 9s 48ms/step - loss: 0.0950 - acc: 0.9946 - val_loss: 0.9605 - val_acc: 0.8830\n",
            "Epoch 248/1000\n",
            "187/187 [==============================] - 9s 48ms/step - loss: 0.1002 - acc: 0.9932 - val_loss: 1.0753 - val_acc: 0.8777\n",
            "Epoch 249/1000\n",
            "187/187 [==============================] - 9s 48ms/step - loss: 0.1030 - acc: 0.9936 - val_loss: 0.9280 - val_acc: 0.8860\n",
            "Epoch 250/1000\n",
            "187/187 [==============================] - 9s 48ms/step - loss: 0.0994 - acc: 0.9945 - val_loss: 0.9350 - val_acc: 0.8890\n",
            "Epoch 251/1000\n",
            "187/187 [==============================] - 9s 48ms/step - loss: 0.0999 - acc: 0.9931 - val_loss: 1.2541 - val_acc: 0.8657\n",
            "Epoch 252/1000\n",
            "187/187 [==============================] - 9s 49ms/step - loss: 0.1024 - acc: 0.9941 - val_loss: 1.0198 - val_acc: 0.8883\n",
            "Epoch 253/1000\n",
            "187/187 [==============================] - 9s 50ms/step - loss: 0.1062 - acc: 0.9931 - val_loss: 0.9634 - val_acc: 0.8877\n",
            "Epoch 254/1000\n",
            "187/187 [==============================] - 9s 49ms/step - loss: 0.0973 - acc: 0.9936 - val_loss: 0.9179 - val_acc: 0.8870\n",
            "Epoch 255/1000\n",
            "187/187 [==============================] - 9s 49ms/step - loss: 0.0936 - acc: 0.9936 - val_loss: 0.9634 - val_acc: 0.8843\n",
            "Epoch 256/1000\n",
            "187/187 [==============================] - 9s 48ms/step - loss: 0.0987 - acc: 0.9933 - val_loss: 0.9307 - val_acc: 0.8883\n",
            "Epoch 257/1000\n",
            "187/187 [==============================] - 9s 48ms/step - loss: 0.1012 - acc: 0.9918 - val_loss: 1.0636 - val_acc: 0.8830\n",
            "Epoch 258/1000\n",
            "187/187 [==============================] - 9s 48ms/step - loss: 0.0982 - acc: 0.9926 - val_loss: 0.9902 - val_acc: 0.8897\n",
            "Epoch 259/1000\n",
            "187/187 [==============================] - 9s 48ms/step - loss: 0.1020 - acc: 0.9928 - val_loss: 0.9614 - val_acc: 0.8830\n",
            "Epoch 260/1000\n",
            "187/187 [==============================] - 9s 49ms/step - loss: 0.0965 - acc: 0.9946 - val_loss: 0.9903 - val_acc: 0.8883\n",
            "Epoch 261/1000\n",
            "187/187 [==============================] - 9s 49ms/step - loss: 0.0951 - acc: 0.9938 - val_loss: 0.8360 - val_acc: 0.8850\n",
            "Epoch 262/1000\n",
            "187/187 [==============================] - 9s 48ms/step - loss: 0.0990 - acc: 0.9945 - val_loss: 0.9072 - val_acc: 0.8847\n",
            "Epoch 263/1000\n",
            "187/187 [==============================] - 9s 48ms/step - loss: 0.0990 - acc: 0.9928 - val_loss: 0.9341 - val_acc: 0.8920\n",
            "Epoch 264/1000\n",
            "187/187 [==============================] - 9s 48ms/step - loss: 0.0962 - acc: 0.9940 - val_loss: 1.0108 - val_acc: 0.8903\n",
            "Epoch 265/1000\n",
            "187/187 [==============================] - 9s 48ms/step - loss: 0.0930 - acc: 0.9947 - val_loss: 1.0311 - val_acc: 0.8883\n",
            "Epoch 266/1000\n",
            "187/187 [==============================] - 9s 48ms/step - loss: 0.0952 - acc: 0.9948 - val_loss: 1.0506 - val_acc: 0.8917\n",
            "Epoch 267/1000\n",
            "187/187 [==============================] - 9s 48ms/step - loss: 0.0914 - acc: 0.9942 - val_loss: 1.1188 - val_acc: 0.8933\n",
            "Epoch 268/1000\n",
            "187/187 [==============================] - 9s 48ms/step - loss: 0.0931 - acc: 0.9938 - val_loss: 0.9589 - val_acc: 0.8893\n",
            "Epoch 269/1000\n",
            "187/187 [==============================] - 9s 49ms/step - loss: 0.0933 - acc: 0.9945 - val_loss: 0.8802 - val_acc: 0.8873\n",
            "Epoch 270/1000\n",
            "187/187 [==============================] - 9s 49ms/step - loss: 0.0927 - acc: 0.9943 - val_loss: 0.8771 - val_acc: 0.8847\n",
            "Epoch 271/1000\n",
            "187/187 [==============================] - 9s 48ms/step - loss: 0.0978 - acc: 0.9936 - val_loss: 0.8657 - val_acc: 0.8853\n",
            "Epoch 272/1000\n",
            "187/187 [==============================] - 9s 48ms/step - loss: 0.0900 - acc: 0.9945 - val_loss: 0.9107 - val_acc: 0.8897\n",
            "Epoch 273/1000\n",
            "187/187 [==============================] - 9s 48ms/step - loss: 0.0932 - acc: 0.9945 - val_loss: 1.0629 - val_acc: 0.8837\n",
            "Epoch 274/1000\n",
            "187/187 [==============================] - 9s 48ms/step - loss: 0.0919 - acc: 0.9935 - val_loss: 0.9733 - val_acc: 0.8903\n",
            "Epoch 275/1000\n",
            "187/187 [==============================] - 9s 48ms/step - loss: 0.0986 - acc: 0.9942 - val_loss: 1.0441 - val_acc: 0.8927\n",
            "Epoch 276/1000\n",
            "187/187 [==============================] - 9s 48ms/step - loss: 0.1040 - acc: 0.9931 - val_loss: 0.9410 - val_acc: 0.8870\n",
            "Epoch 277/1000\n",
            "187/187 [==============================] - 9s 48ms/step - loss: 0.1034 - acc: 0.9928 - val_loss: 0.8559 - val_acc: 0.8970\n",
            "Epoch 278/1000\n",
            "187/187 [==============================] - 9s 50ms/step - loss: 0.0931 - acc: 0.9938 - val_loss: 0.9650 - val_acc: 0.8847\n",
            "Epoch 279/1000\n",
            "187/187 [==============================] - 9s 49ms/step - loss: 0.0946 - acc: 0.9946 - val_loss: 0.9930 - val_acc: 0.8900\n",
            "Epoch 280/1000\n",
            "187/187 [==============================] - 9s 48ms/step - loss: 0.0885 - acc: 0.9942 - val_loss: 0.8956 - val_acc: 0.8910\n",
            "Epoch 281/1000\n",
            "187/187 [==============================] - 9s 48ms/step - loss: 0.0950 - acc: 0.9932 - val_loss: 0.8269 - val_acc: 0.8737\n",
            "Epoch 282/1000\n",
            "187/187 [==============================] - 9s 48ms/step - loss: 0.0882 - acc: 0.9942 - val_loss: 0.9070 - val_acc: 0.8887\n",
            "Epoch 283/1000\n",
            "187/187 [==============================] - 9s 48ms/step - loss: 0.0975 - acc: 0.9942 - val_loss: 0.8716 - val_acc: 0.8940\n",
            "Epoch 284/1000\n",
            "187/187 [==============================] - 9s 48ms/step - loss: 0.0936 - acc: 0.9943 - val_loss: 0.8995 - val_acc: 0.8957\n",
            "Epoch 285/1000\n",
            "187/187 [==============================] - 9s 48ms/step - loss: 0.0915 - acc: 0.9941 - val_loss: 0.9381 - val_acc: 0.8870\n",
            "Epoch 286/1000\n",
            "187/187 [==============================] - 9s 48ms/step - loss: 0.0922 - acc: 0.9931 - val_loss: 0.9889 - val_acc: 0.8820\n",
            "Epoch 287/1000\n",
            "187/187 [==============================] - 9s 50ms/step - loss: 0.0949 - acc: 0.9945 - val_loss: 0.9784 - val_acc: 0.8857\n",
            "Epoch 288/1000\n",
            "187/187 [==============================] - 9s 49ms/step - loss: 0.1022 - acc: 0.9936 - val_loss: 1.0443 - val_acc: 0.8893\n",
            "Epoch 289/1000\n",
            "187/187 [==============================] - 9s 49ms/step - loss: 0.0914 - acc: 0.9930 - val_loss: 0.8504 - val_acc: 0.8900\n",
            "Epoch 290/1000\n",
            "187/187 [==============================] - 9s 48ms/step - loss: 0.0898 - acc: 0.9947 - val_loss: 1.1667 - val_acc: 0.8730\n",
            "Epoch 291/1000\n",
            "187/187 [==============================] - 9s 48ms/step - loss: 0.0969 - acc: 0.9939 - val_loss: 0.9702 - val_acc: 0.8960\n",
            "Epoch 292/1000\n",
            "187/187 [==============================] - 9s 48ms/step - loss: 0.1023 - acc: 0.9930 - val_loss: 0.9875 - val_acc: 0.8787\n",
            "Epoch 293/1000\n",
            "187/187 [==============================] - 9s 48ms/step - loss: 0.0936 - acc: 0.9928 - val_loss: 0.8074 - val_acc: 0.8900\n",
            "Epoch 294/1000\n",
            "187/187 [==============================] - 9s 48ms/step - loss: 0.0869 - acc: 0.9942 - val_loss: 0.9606 - val_acc: 0.8890\n",
            "Epoch 295/1000\n",
            "187/187 [==============================] - 9s 48ms/step - loss: 0.0890 - acc: 0.9940 - val_loss: 1.0283 - val_acc: 0.8820\n",
            "Epoch 296/1000\n",
            "187/187 [==============================] - 9s 49ms/step - loss: 0.1004 - acc: 0.9933 - val_loss: 0.9515 - val_acc: 0.8900\n",
            "Epoch 297/1000\n",
            "187/187 [==============================] - 9s 48ms/step - loss: 0.0964 - acc: 0.9946 - val_loss: 0.8920 - val_acc: 0.8880\n",
            "Epoch 298/1000\n",
            "187/187 [==============================] - 9s 48ms/step - loss: 0.0985 - acc: 0.9931 - val_loss: 0.8944 - val_acc: 0.8853\n",
            "Epoch 299/1000\n",
            "187/187 [==============================] - 9s 48ms/step - loss: 0.0916 - acc: 0.9936 - val_loss: 0.8323 - val_acc: 0.8850\n",
            "Epoch 300/1000\n",
            "187/187 [==============================] - 9s 48ms/step - loss: 0.0947 - acc: 0.9931 - val_loss: 0.9167 - val_acc: 0.8907\n",
            "Epoch 301/1000\n",
            "187/187 [==============================] - 9s 48ms/step - loss: 0.0915 - acc: 0.9939 - val_loss: 0.9214 - val_acc: 0.8820\n",
            "Epoch 302/1000\n",
            "187/187 [==============================] - 9s 48ms/step - loss: 0.0839 - acc: 0.9959 - val_loss: 0.9330 - val_acc: 0.8870\n",
            "Epoch 303/1000\n",
            "187/187 [==============================] - 9s 48ms/step - loss: 0.0779 - acc: 0.9963 - val_loss: 0.9379 - val_acc: 0.8853\n",
            "Epoch 304/1000\n",
            "187/187 [==============================] - 9s 49ms/step - loss: 0.0798 - acc: 0.9967 - val_loss: 0.9406 - val_acc: 0.8883\n",
            "Epoch 305/1000\n",
            "187/187 [==============================] - 9s 49ms/step - loss: 0.0867 - acc: 0.9960 - val_loss: 0.9273 - val_acc: 0.8873\n",
            "Epoch 306/1000\n",
            "187/187 [==============================] - 9s 48ms/step - loss: 0.0790 - acc: 0.9964 - val_loss: 1.0357 - val_acc: 0.8903\n",
            "Epoch 307/1000\n",
            "187/187 [==============================] - 9s 48ms/step - loss: 0.0773 - acc: 0.9967 - val_loss: 0.9486 - val_acc: 0.8927\n",
            "Epoch 308/1000\n",
            "187/187 [==============================] - 9s 48ms/step - loss: 0.0837 - acc: 0.9967 - val_loss: 0.9913 - val_acc: 0.8903\n",
            "Epoch 309/1000\n",
            "187/187 [==============================] - 9s 48ms/step - loss: 0.0788 - acc: 0.9967 - val_loss: 1.0284 - val_acc: 0.8890\n",
            "Epoch 310/1000\n",
            "187/187 [==============================] - 9s 48ms/step - loss: 0.0821 - acc: 0.9971 - val_loss: 0.9741 - val_acc: 0.8940\n",
            "Epoch 311/1000\n",
            "187/187 [==============================] - 9s 48ms/step - loss: 0.0763 - acc: 0.9968 - val_loss: 0.9854 - val_acc: 0.8943\n",
            "Epoch 312/1000\n",
            "187/187 [==============================] - 9s 48ms/step - loss: 0.0819 - acc: 0.9967 - val_loss: 1.0448 - val_acc: 0.8917\n",
            "Epoch 313/1000\n",
            "187/187 [==============================] - 9s 49ms/step - loss: 0.0783 - acc: 0.9979 - val_loss: 1.0153 - val_acc: 0.8930\n",
            "Epoch 314/1000\n",
            "187/187 [==============================] - 9s 49ms/step - loss: 0.0802 - acc: 0.9969 - val_loss: 1.0502 - val_acc: 0.8937\n",
            "Epoch 315/1000\n",
            "187/187 [==============================] - 9s 48ms/step - loss: 0.0813 - acc: 0.9969 - val_loss: 1.0130 - val_acc: 0.8963\n",
            "Epoch 316/1000\n",
            "187/187 [==============================] - 9s 48ms/step - loss: 0.0772 - acc: 0.9970 - val_loss: 1.0744 - val_acc: 0.8990\n",
            "Epoch 317/1000\n",
            "187/187 [==============================] - 9s 48ms/step - loss: 0.0782 - acc: 0.9972 - val_loss: 1.0068 - val_acc: 0.8960\n",
            "Epoch 318/1000\n",
            "187/187 [==============================] - 9s 48ms/step - loss: 0.0806 - acc: 0.9969 - val_loss: 0.9958 - val_acc: 0.8940\n",
            "Epoch 319/1000\n",
            "187/187 [==============================] - 9s 48ms/step - loss: 0.0757 - acc: 0.9970 - val_loss: 0.9787 - val_acc: 0.8943\n",
            "Epoch 320/1000\n",
            "187/187 [==============================] - 9s 48ms/step - loss: 0.0797 - acc: 0.9968 - val_loss: 0.9722 - val_acc: 0.8993\n",
            "Epoch 321/1000\n",
            "187/187 [==============================] - 9s 49ms/step - loss: 0.0809 - acc: 0.9974 - val_loss: 1.0819 - val_acc: 0.8940\n",
            "Epoch 322/1000\n",
            "187/187 [==============================] - 9s 50ms/step - loss: 0.0775 - acc: 0.9966 - val_loss: 1.0536 - val_acc: 0.8933\n",
            "Epoch 323/1000\n",
            "187/187 [==============================] - 9s 49ms/step - loss: 0.0776 - acc: 0.9977 - val_loss: 1.0937 - val_acc: 0.8947\n",
            "Epoch 324/1000\n",
            "187/187 [==============================] - 9s 48ms/step - loss: 0.0869 - acc: 0.9966 - val_loss: 1.0915 - val_acc: 0.8940\n",
            "Epoch 325/1000\n",
            "187/187 [==============================] - 9s 48ms/step - loss: 0.0820 - acc: 0.9973 - val_loss: 1.1343 - val_acc: 0.8933\n",
            "Epoch 326/1000\n",
            "187/187 [==============================] - 9s 48ms/step - loss: 0.0752 - acc: 0.9976 - val_loss: 1.1175 - val_acc: 0.8893\n",
            "Epoch 327/1000\n",
            "187/187 [==============================] - 9s 48ms/step - loss: 0.0788 - acc: 0.9971 - val_loss: 1.1401 - val_acc: 0.8940\n",
            "Epoch 328/1000\n",
            "187/187 [==============================] - 9s 48ms/step - loss: 0.0739 - acc: 0.9977 - val_loss: 1.1175 - val_acc: 0.8910\n",
            "Epoch 329/1000\n",
            "187/187 [==============================] - 9s 48ms/step - loss: 0.0770 - acc: 0.9977 - val_loss: 1.1183 - val_acc: 0.8930\n",
            "Epoch 330/1000\n",
            "187/187 [==============================] - 9s 48ms/step - loss: 0.0824 - acc: 0.9967 - val_loss: 1.0853 - val_acc: 0.8937\n",
            "Epoch 331/1000\n",
            "187/187 [==============================] - 9s 49ms/step - loss: 0.0753 - acc: 0.9973 - val_loss: 1.0383 - val_acc: 0.8940\n",
            "Epoch 332/1000\n",
            "187/187 [==============================] - 9s 49ms/step - loss: 0.0875 - acc: 0.9967 - val_loss: 1.0440 - val_acc: 0.8970\n",
            "Epoch 333/1000\n",
            "187/187 [==============================] - 9s 48ms/step - loss: 0.0764 - acc: 0.9971 - val_loss: 0.9904 - val_acc: 0.8920\n",
            "Epoch 334/1000\n",
            "187/187 [==============================] - 9s 48ms/step - loss: 0.0778 - acc: 0.9977 - val_loss: 0.9973 - val_acc: 0.8913\n",
            "Epoch 335/1000\n",
            "187/187 [==============================] - 9s 48ms/step - loss: 0.0785 - acc: 0.9968 - val_loss: 0.9318 - val_acc: 0.8960\n",
            "Epoch 336/1000\n",
            "187/187 [==============================] - 9s 48ms/step - loss: 0.0752 - acc: 0.9969 - val_loss: 1.0421 - val_acc: 0.8943\n",
            "Epoch 337/1000\n",
            "187/187 [==============================] - 9s 48ms/step - loss: 0.0817 - acc: 0.9968 - val_loss: 1.0109 - val_acc: 0.8930\n",
            "Epoch 338/1000\n",
            "187/187 [==============================] - 9s 48ms/step - loss: 0.0854 - acc: 0.9964 - val_loss: 0.9553 - val_acc: 0.8920\n",
            "Epoch 339/1000\n",
            "187/187 [==============================] - 9s 48ms/step - loss: 0.0750 - acc: 0.9979 - val_loss: 1.0299 - val_acc: 0.8940\n",
            "Epoch 340/1000\n",
            "187/187 [==============================] - 9s 49ms/step - loss: 0.0747 - acc: 0.9978 - val_loss: 0.9610 - val_acc: 0.8977\n",
            "Epoch 341/1000\n",
            "187/187 [==============================] - 9s 48ms/step - loss: 0.0758 - acc: 0.9977 - val_loss: 1.1398 - val_acc: 0.8930\n",
            "Epoch 342/1000\n",
            "187/187 [==============================] - 9s 48ms/step - loss: 0.0763 - acc: 0.9973 - val_loss: 1.1048 - val_acc: 0.8940\n",
            "Epoch 343/1000\n",
            "187/187 [==============================] - 9s 48ms/step - loss: 0.0709 - acc: 0.9979 - val_loss: 1.0997 - val_acc: 0.8950\n",
            "Epoch 344/1000\n",
            "187/187 [==============================] - 9s 48ms/step - loss: 0.0788 - acc: 0.9967 - val_loss: 1.0372 - val_acc: 0.8907\n",
            "Epoch 345/1000\n",
            "187/187 [==============================] - 9s 48ms/step - loss: 0.0729 - acc: 0.9978 - val_loss: 1.2064 - val_acc: 0.8923\n",
            "Epoch 346/1000\n",
            "187/187 [==============================] - 9s 48ms/step - loss: 0.0728 - acc: 0.9980 - val_loss: 1.1007 - val_acc: 0.8953\n",
            "Epoch 347/1000\n",
            "187/187 [==============================] - 9s 48ms/step - loss: 0.0760 - acc: 0.9973 - val_loss: 1.0506 - val_acc: 0.8933\n",
            "Epoch 348/1000\n",
            "187/187 [==============================] - 9s 48ms/step - loss: 0.0794 - acc: 0.9968 - val_loss: 0.9955 - val_acc: 0.8960\n",
            "Epoch 349/1000\n",
            "187/187 [==============================] - 9s 50ms/step - loss: 0.0745 - acc: 0.9979 - val_loss: 1.1893 - val_acc: 0.8973\n",
            "Epoch 350/1000\n",
            "187/187 [==============================] - 9s 48ms/step - loss: 0.0789 - acc: 0.9977 - val_loss: 1.0740 - val_acc: 0.8920\n",
            "Epoch 351/1000\n",
            "187/187 [==============================] - 9s 48ms/step - loss: 0.0776 - acc: 0.9972 - val_loss: 0.9715 - val_acc: 0.8953\n",
            "Epoch 352/1000\n",
            "187/187 [==============================] - 9s 48ms/step - loss: 0.0803 - acc: 0.9964 - val_loss: 0.9327 - val_acc: 0.8937\n",
            "Epoch 353/1000\n",
            "187/187 [==============================] - 9s 48ms/step - loss: 0.0724 - acc: 0.9975 - val_loss: 1.0428 - val_acc: 0.8960\n",
            "Epoch 354/1000\n",
            "187/187 [==============================] - 9s 48ms/step - loss: 0.0785 - acc: 0.9970 - val_loss: 1.0466 - val_acc: 0.8920\n",
            "Epoch 355/1000\n",
            "187/187 [==============================] - 9s 49ms/step - loss: 0.0725 - acc: 0.9975 - val_loss: 0.9948 - val_acc: 0.8910\n",
            "Epoch 356/1000\n",
            "187/187 [==============================] - 9s 50ms/step - loss: 0.0741 - acc: 0.9977 - val_loss: 1.0563 - val_acc: 0.8903\n",
            "Epoch 357/1000\n",
            "187/187 [==============================] - 9s 48ms/step - loss: 0.0722 - acc: 0.9981 - val_loss: 0.9793 - val_acc: 0.8910\n",
            "Epoch 358/1000\n",
            "187/187 [==============================] - 9s 49ms/step - loss: 0.0774 - acc: 0.9975 - val_loss: 1.1153 - val_acc: 0.8950\n",
            "Epoch 359/1000\n",
            "187/187 [==============================] - 9s 48ms/step - loss: 0.0735 - acc: 0.9970 - val_loss: 1.0615 - val_acc: 0.8967\n",
            "Epoch 360/1000\n",
            "187/187 [==============================] - 9s 48ms/step - loss: 0.0726 - acc: 0.9977 - val_loss: 1.0275 - val_acc: 0.8980\n",
            "Epoch 361/1000\n",
            "187/187 [==============================] - 9s 48ms/step - loss: 0.0782 - acc: 0.9974 - val_loss: 1.0862 - val_acc: 0.8933\n",
            "Epoch 362/1000\n",
            "187/187 [==============================] - 9s 48ms/step - loss: 0.0817 - acc: 0.9973 - val_loss: 1.0555 - val_acc: 0.8967\n",
            "Epoch 363/1000\n",
            "187/187 [==============================] - 9s 48ms/step - loss: 0.0785 - acc: 0.9972 - val_loss: 0.9874 - val_acc: 0.8923\n",
            "Epoch 364/1000\n",
            "187/187 [==============================] - 9s 48ms/step - loss: 0.0755 - acc: 0.9977 - val_loss: 0.9468 - val_acc: 0.8937\n",
            "Epoch 365/1000\n",
            "187/187 [==============================] - 9s 48ms/step - loss: 0.0736 - acc: 0.9978 - val_loss: 0.9757 - val_acc: 0.8953\n",
            "Epoch 366/1000\n",
            "187/187 [==============================] - 9s 49ms/step - loss: 0.0745 - acc: 0.9974 - val_loss: 1.0603 - val_acc: 0.8927\n",
            "Epoch 367/1000\n",
            "187/187 [==============================] - 9s 49ms/step - loss: 0.0766 - acc: 0.9979 - val_loss: 1.0230 - val_acc: 0.8950\n",
            "Epoch 368/1000\n",
            "187/187 [==============================] - 9s 48ms/step - loss: 0.0739 - acc: 0.9978 - val_loss: 1.2026 - val_acc: 0.8953\n",
            "Epoch 369/1000\n",
            "187/187 [==============================] - 9s 48ms/step - loss: 0.0783 - acc: 0.9974 - val_loss: 1.0037 - val_acc: 0.8960\n",
            "Epoch 370/1000\n",
            "187/187 [==============================] - 9s 48ms/step - loss: 0.0737 - acc: 0.9974 - val_loss: 1.0913 - val_acc: 0.8910\n",
            "Epoch 371/1000\n",
            "187/187 [==============================] - 9s 48ms/step - loss: 0.0737 - acc: 0.9972 - val_loss: 0.9474 - val_acc: 0.8953\n",
            "Epoch 372/1000\n",
            "187/187 [==============================] - 9s 48ms/step - loss: 0.0763 - acc: 0.9977 - val_loss: 0.9989 - val_acc: 0.8923\n",
            "Epoch 373/1000\n",
            "187/187 [==============================] - 9s 48ms/step - loss: 0.0725 - acc: 0.9973 - val_loss: 0.9833 - val_acc: 0.8973\n",
            "Epoch 374/1000\n",
            "187/187 [==============================] - 9s 48ms/step - loss: 0.0717 - acc: 0.9972 - val_loss: 1.0087 - val_acc: 0.8950\n",
            "Epoch 375/1000\n",
            "187/187 [==============================] - 9s 49ms/step - loss: 0.0779 - acc: 0.9968 - val_loss: 1.0147 - val_acc: 0.8963\n",
            "Epoch 376/1000\n",
            "187/187 [==============================] - 9s 50ms/step - loss: 0.0780 - acc: 0.9976 - val_loss: 1.1921 - val_acc: 0.8963\n",
            "Epoch 377/1000\n",
            "187/187 [==============================] - 9s 48ms/step - loss: 0.0674 - acc: 0.9987 - val_loss: 1.3019 - val_acc: 0.8950\n",
            "Epoch 378/1000\n",
            "187/187 [==============================] - 9s 48ms/step - loss: 0.0744 - acc: 0.9974 - val_loss: 1.1029 - val_acc: 0.8947\n",
            "Epoch 379/1000\n",
            "187/187 [==============================] - 9s 48ms/step - loss: 0.0715 - acc: 0.9976 - val_loss: 0.9676 - val_acc: 0.8917\n",
            "Epoch 380/1000\n",
            "187/187 [==============================] - 9s 48ms/step - loss: 0.0742 - acc: 0.9978 - val_loss: 1.0534 - val_acc: 0.8940\n",
            "Epoch 381/1000\n",
            "187/187 [==============================] - 9s 48ms/step - loss: 0.0688 - acc: 0.9974 - val_loss: 0.9774 - val_acc: 0.8867\n",
            "Epoch 382/1000\n",
            "187/187 [==============================] - 9s 48ms/step - loss: 0.0668 - acc: 0.9980 - val_loss: 1.0413 - val_acc: 0.8943\n",
            "Epoch 383/1000\n",
            "187/187 [==============================] - 9s 48ms/step - loss: 0.0712 - acc: 0.9982 - val_loss: 1.2470 - val_acc: 0.8940\n",
            "Epoch 384/1000\n",
            "187/187 [==============================] - 9s 49ms/step - loss: 0.0698 - acc: 0.9980 - val_loss: 1.1692 - val_acc: 0.8920\n",
            "Epoch 385/1000\n",
            "187/187 [==============================] - 9s 49ms/step - loss: 0.0771 - acc: 0.9976 - val_loss: 1.2117 - val_acc: 0.8950\n",
            "Epoch 386/1000\n",
            "187/187 [==============================] - 9s 48ms/step - loss: 0.0710 - acc: 0.9980 - val_loss: 1.0317 - val_acc: 0.8943\n",
            "Epoch 387/1000\n",
            "187/187 [==============================] - 9s 48ms/step - loss: 0.0778 - acc: 0.9974 - val_loss: 0.9683 - val_acc: 0.8947\n",
            "Epoch 388/1000\n",
            "187/187 [==============================] - 9s 48ms/step - loss: 0.0698 - acc: 0.9975 - val_loss: 1.0870 - val_acc: 0.8943\n",
            "Epoch 389/1000\n",
            "187/187 [==============================] - 9s 48ms/step - loss: 0.0723 - acc: 0.9981 - val_loss: 1.1464 - val_acc: 0.8927\n",
            "Epoch 390/1000\n",
            "187/187 [==============================] - 9s 50ms/step - loss: 0.0737 - acc: 0.9978 - val_loss: 1.1795 - val_acc: 0.8887\n",
            "Epoch 391/1000\n",
            "187/187 [==============================] - 9s 48ms/step - loss: 0.0728 - acc: 0.9982 - val_loss: 1.3001 - val_acc: 0.8923\n",
            "Epoch 392/1000\n",
            "187/187 [==============================] - 9s 48ms/step - loss: 0.0729 - acc: 0.9972 - val_loss: 1.1564 - val_acc: 0.8930\n",
            "Epoch 393/1000\n",
            "187/187 [==============================] - 9s 49ms/step - loss: 0.0777 - acc: 0.9969 - val_loss: 1.0622 - val_acc: 0.8900\n",
            "Epoch 394/1000\n",
            "187/187 [==============================] - 9s 49ms/step - loss: 0.0699 - acc: 0.9977 - val_loss: 1.0750 - val_acc: 0.8970\n",
            "Epoch 395/1000\n",
            "187/187 [==============================] - 9s 48ms/step - loss: 0.0722 - acc: 0.9973 - val_loss: 1.0676 - val_acc: 0.8970\n",
            "Epoch 396/1000\n",
            "187/187 [==============================] - 9s 48ms/step - loss: 0.0710 - acc: 0.9977 - val_loss: 1.1190 - val_acc: 0.8903\n",
            "Epoch 397/1000\n",
            "187/187 [==============================] - 9s 48ms/step - loss: 0.0714 - acc: 0.9974 - val_loss: 1.0318 - val_acc: 0.8957\n",
            "Epoch 398/1000\n",
            "187/187 [==============================] - 9s 48ms/step - loss: 0.0705 - acc: 0.9973 - val_loss: 1.0138 - val_acc: 0.8957\n",
            "Epoch 399/1000\n",
            "187/187 [==============================] - 9s 48ms/step - loss: 0.0689 - acc: 0.9974 - val_loss: 1.2142 - val_acc: 0.8877\n",
            "Epoch 400/1000\n",
            "187/187 [==============================] - 9s 48ms/step - loss: 0.0765 - acc: 0.9967 - val_loss: 0.9756 - val_acc: 0.8957\n",
            "Epoch 401/1000\n",
            "187/187 [==============================] - 9s 48ms/step - loss: 0.0725 - acc: 0.9976 - val_loss: 1.0952 - val_acc: 0.8907\n",
            "Epoch 402/1000\n",
            "187/187 [==============================] - 9s 49ms/step - loss: 0.0701 - acc: 0.9980 - val_loss: 1.1268 - val_acc: 0.8933\n",
            "Epoch 403/1000\n",
            "187/187 [==============================] - 9s 48ms/step - loss: 0.0698 - acc: 0.9973 - val_loss: 1.1103 - val_acc: 0.8973\n",
            "Epoch 404/1000\n",
            "187/187 [==============================] - 9s 48ms/step - loss: 0.0792 - acc: 0.9965 - val_loss: 1.0470 - val_acc: 0.8953\n",
            "Epoch 405/1000\n",
            "187/187 [==============================] - 9s 48ms/step - loss: 0.0739 - acc: 0.9978 - val_loss: 1.0363 - val_acc: 0.8987\n",
            "Epoch 406/1000\n",
            "187/187 [==============================] - 9s 48ms/step - loss: 0.0703 - acc: 0.9980 - val_loss: 1.1166 - val_acc: 0.8973\n",
            "Epoch 407/1000\n",
            "187/187 [==============================] - 9s 48ms/step - loss: 0.0700 - acc: 0.9973 - val_loss: 1.1074 - val_acc: 0.8967\n",
            "Epoch 408/1000\n",
            "187/187 [==============================] - 9s 48ms/step - loss: 0.0727 - acc: 0.9977 - val_loss: 1.1138 - val_acc: 0.8873\n",
            "Epoch 409/1000\n",
            "187/187 [==============================] - 9s 48ms/step - loss: 0.0762 - acc: 0.9969 - val_loss: 1.0298 - val_acc: 0.8927\n",
            "Epoch 410/1000\n",
            "187/187 [==============================] - 9s 48ms/step - loss: 0.0738 - acc: 0.9977 - val_loss: 1.3010 - val_acc: 0.8957\n",
            "Epoch 411/1000\n",
            "187/187 [==============================] - 9s 49ms/step - loss: 0.0724 - acc: 0.9976 - val_loss: 1.1355 - val_acc: 0.8950\n",
            "Epoch 412/1000\n",
            "187/187 [==============================] - 9s 48ms/step - loss: 0.0705 - acc: 0.9977 - val_loss: 1.1562 - val_acc: 0.8927\n",
            "Epoch 413/1000\n",
            "187/187 [==============================] - 9s 48ms/step - loss: 0.0663 - acc: 0.9989 - val_loss: 1.3105 - val_acc: 0.8993\n",
            "Epoch 414/1000\n",
            "187/187 [==============================] - 9s 48ms/step - loss: 0.0727 - acc: 0.9978 - val_loss: 1.2750 - val_acc: 0.8923\n",
            "Epoch 415/1000\n",
            "187/187 [==============================] - 9s 48ms/step - loss: 0.0704 - acc: 0.9984 - val_loss: 1.2541 - val_acc: 0.8950\n",
            "Epoch 416/1000\n",
            "187/187 [==============================] - 9s 48ms/step - loss: 0.0711 - acc: 0.9979 - val_loss: 1.1738 - val_acc: 0.8953\n",
            "Epoch 417/1000\n",
            "187/187 [==============================] - 9s 48ms/step - loss: 0.0682 - acc: 0.9980 - val_loss: 1.1325 - val_acc: 0.8953\n",
            "Epoch 418/1000\n",
            "187/187 [==============================] - 9s 48ms/step - loss: 0.0645 - acc: 0.9985 - val_loss: 1.2359 - val_acc: 0.8977\n",
            "Epoch 419/1000\n",
            "187/187 [==============================] - 9s 48ms/step - loss: 0.0713 - acc: 0.9979 - val_loss: 1.1149 - val_acc: 0.8973\n",
            "Epoch 420/1000\n",
            "187/187 [==============================] - 9s 49ms/step - loss: 0.0709 - acc: 0.9976 - val_loss: 1.0790 - val_acc: 0.8990\n",
            "Epoch 421/1000\n",
            "187/187 [==============================] - 9s 48ms/step - loss: 0.0692 - acc: 0.9975 - val_loss: 0.9976 - val_acc: 0.9000\n",
            "Epoch 422/1000\n",
            "187/187 [==============================] - 9s 48ms/step - loss: 0.0685 - acc: 0.9980 - val_loss: 1.0526 - val_acc: 0.8930\n",
            "Epoch 423/1000\n",
            "187/187 [==============================] - 9s 48ms/step - loss: 0.0661 - acc: 0.9978 - val_loss: 1.1171 - val_acc: 0.8987\n",
            "Epoch 424/1000\n",
            "187/187 [==============================] - 9s 50ms/step - loss: 0.0691 - acc: 0.9981 - val_loss: 1.0522 - val_acc: 0.8950\n",
            "Epoch 425/1000\n",
            "187/187 [==============================] - 9s 49ms/step - loss: 0.0688 - acc: 0.9980 - val_loss: 1.0814 - val_acc: 0.8967\n",
            "Epoch 426/1000\n",
            "187/187 [==============================] - 9s 48ms/step - loss: 0.0675 - acc: 0.9978 - val_loss: 1.0416 - val_acc: 0.8953\n",
            "Epoch 427/1000\n",
            "187/187 [==============================] - 9s 48ms/step - loss: 0.0678 - acc: 0.9977 - val_loss: 1.1379 - val_acc: 0.8933\n",
            "Epoch 428/1000\n",
            "187/187 [==============================] - 9s 48ms/step - loss: 0.0728 - acc: 0.9980 - val_loss: 1.2150 - val_acc: 0.8910\n",
            "Epoch 429/1000\n",
            "187/187 [==============================] - 9s 49ms/step - loss: 0.0705 - acc: 0.9980 - val_loss: 1.0773 - val_acc: 0.8937\n",
            "Epoch 430/1000\n",
            "187/187 [==============================] - 9s 48ms/step - loss: 0.0707 - acc: 0.9974 - val_loss: 1.0399 - val_acc: 0.8973\n",
            "Epoch 431/1000\n",
            "187/187 [==============================] - 9s 48ms/step - loss: 0.0729 - acc: 0.9967 - val_loss: 0.9435 - val_acc: 0.8903\n",
            "Epoch 432/1000\n",
            "187/187 [==============================] - 9s 48ms/step - loss: 0.0725 - acc: 0.9968 - val_loss: 0.9852 - val_acc: 0.8920\n",
            "Epoch 433/1000\n",
            "187/187 [==============================] - 9s 48ms/step - loss: 0.0657 - acc: 0.9984 - val_loss: 1.1672 - val_acc: 0.8970\n",
            "Epoch 434/1000\n",
            "187/187 [==============================] - 9s 48ms/step - loss: 0.0675 - acc: 0.9972 - val_loss: 1.0403 - val_acc: 0.8937\n",
            "Epoch 435/1000\n",
            "187/187 [==============================] - 9s 48ms/step - loss: 0.0669 - acc: 0.9976 - val_loss: 1.0271 - val_acc: 0.8927\n",
            "Epoch 436/1000\n",
            "187/187 [==============================] - 9s 48ms/step - loss: 0.0670 - acc: 0.9983 - val_loss: 1.1838 - val_acc: 0.8927\n",
            "Epoch 437/1000\n",
            "187/187 [==============================] - 9s 48ms/step - loss: 0.0698 - acc: 0.9974 - val_loss: 0.9883 - val_acc: 0.8963\n",
            "Epoch 438/1000\n",
            "187/187 [==============================] - 9s 49ms/step - loss: 0.0668 - acc: 0.9970 - val_loss: 0.9967 - val_acc: 0.8960\n",
            "Epoch 439/1000\n",
            "187/187 [==============================] - 9s 48ms/step - loss: 0.0656 - acc: 0.9986 - val_loss: 1.1014 - val_acc: 0.8903\n",
            "Epoch 440/1000\n",
            "187/187 [==============================] - 9s 48ms/step - loss: 0.0672 - acc: 0.9978 - val_loss: 1.0424 - val_acc: 0.8947\n",
            "Epoch 441/1000\n",
            "187/187 [==============================] - 9s 48ms/step - loss: 0.0640 - acc: 0.9986 - val_loss: 1.1248 - val_acc: 0.8953\n",
            "Epoch 442/1000\n",
            "187/187 [==============================] - 9s 48ms/step - loss: 0.0657 - acc: 0.9987 - val_loss: 1.1549 - val_acc: 0.8967\n",
            "Epoch 443/1000\n",
            "187/187 [==============================] - 9s 48ms/step - loss: 0.0712 - acc: 0.9974 - val_loss: 1.1201 - val_acc: 0.8953\n",
            "Epoch 444/1000\n",
            "187/187 [==============================] - 9s 48ms/step - loss: 0.0667 - acc: 0.9981 - val_loss: 1.1481 - val_acc: 0.8937\n",
            "Epoch 445/1000\n",
            "187/187 [==============================] - 9s 48ms/step - loss: 0.0632 - acc: 0.9980 - val_loss: 1.0582 - val_acc: 0.8957\n",
            "Epoch 446/1000\n",
            "187/187 [==============================] - 9s 49ms/step - loss: 0.0689 - acc: 0.9975 - val_loss: 1.0661 - val_acc: 0.8970\n",
            "Epoch 447/1000\n",
            "187/187 [==============================] - 9s 50ms/step - loss: 0.0675 - acc: 0.9981 - val_loss: 1.1125 - val_acc: 0.8897\n",
            "Epoch 448/1000\n",
            "187/187 [==============================] - 9s 48ms/step - loss: 0.0650 - acc: 0.9983 - val_loss: 1.1836 - val_acc: 0.8933\n",
            "Epoch 449/1000\n",
            "187/187 [==============================] - 9s 48ms/step - loss: 0.0678 - acc: 0.9975 - val_loss: 0.9282 - val_acc: 0.8943\n",
            "Epoch 450/1000\n",
            "187/187 [==============================] - 9s 48ms/step - loss: 0.0642 - acc: 0.9977 - val_loss: 1.0324 - val_acc: 0.8977\n",
            "Epoch 451/1000\n",
            "187/187 [==============================] - 9s 48ms/step - loss: 0.0695 - acc: 0.9973 - val_loss: 1.0319 - val_acc: 0.8940\n",
            "Epoch 452/1000\n",
            "187/187 [==============================] - 9s 48ms/step - loss: 0.0630 - acc: 0.9981 - val_loss: 1.0726 - val_acc: 0.8933\n",
            "Epoch 453/1000\n",
            "187/187 [==============================] - 9s 48ms/step - loss: 0.0671 - acc: 0.9978 - val_loss: 1.1300 - val_acc: 0.8877\n",
            "Epoch 454/1000\n",
            "187/187 [==============================] - 9s 48ms/step - loss: 0.0654 - acc: 0.9982 - val_loss: 1.1715 - val_acc: 0.8920\n",
            "Epoch 455/1000\n",
            "187/187 [==============================] - 9s 48ms/step - loss: 0.0677 - acc: 0.9977 - val_loss: 1.0536 - val_acc: 0.8883\n",
            "Epoch 456/1000\n",
            "187/187 [==============================] - 9s 49ms/step - loss: 0.0625 - acc: 0.9981 - val_loss: 1.1690 - val_acc: 0.8920\n",
            "Epoch 457/1000\n",
            "187/187 [==============================] - 9s 48ms/step - loss: 0.0646 - acc: 0.9985 - val_loss: 1.2334 - val_acc: 0.8947\n",
            "Epoch 458/1000\n",
            "187/187 [==============================] - 9s 49ms/step - loss: 0.0677 - acc: 0.9984 - val_loss: 1.2264 - val_acc: 0.8910\n",
            "Epoch 459/1000\n",
            "187/187 [==============================] - 9s 49ms/step - loss: 0.0639 - acc: 0.9982 - val_loss: 1.1683 - val_acc: 0.8920\n",
            "Epoch 460/1000\n",
            "187/187 [==============================] - 9s 48ms/step - loss: 0.0643 - acc: 0.9984 - val_loss: 1.2797 - val_acc: 0.8893\n",
            "Epoch 461/1000\n",
            "187/187 [==============================] - 9s 48ms/step - loss: 0.0682 - acc: 0.9976 - val_loss: 1.3182 - val_acc: 0.8870\n",
            "Epoch 462/1000\n",
            "187/187 [==============================] - 9s 48ms/step - loss: 0.0668 - acc: 0.9980 - val_loss: 1.1320 - val_acc: 0.8940\n",
            "Epoch 463/1000\n",
            "187/187 [==============================] - 9s 48ms/step - loss: 0.0682 - acc: 0.9982 - val_loss: 1.1981 - val_acc: 0.8957\n",
            "Epoch 464/1000\n",
            "187/187 [==============================] - 9s 49ms/step - loss: 0.0690 - acc: 0.9973 - val_loss: 1.1152 - val_acc: 0.8933\n",
            "Epoch 465/1000\n",
            "187/187 [==============================] - 9s 49ms/step - loss: 0.0689 - acc: 0.9975 - val_loss: 1.2103 - val_acc: 0.8923\n",
            "Epoch 466/1000\n",
            "187/187 [==============================] - 9s 48ms/step - loss: 0.0666 - acc: 0.9979 - val_loss: 1.3084 - val_acc: 0.8900\n",
            "Epoch 467/1000\n",
            "187/187 [==============================] - 9s 48ms/step - loss: 0.0639 - acc: 0.9982 - val_loss: 1.3093 - val_acc: 0.8947\n",
            "Epoch 468/1000\n",
            "187/187 [==============================] - 9s 48ms/step - loss: 0.0658 - acc: 0.9985 - val_loss: 1.4815 - val_acc: 0.8917\n",
            "Epoch 469/1000\n",
            "187/187 [==============================] - 9s 48ms/step - loss: 0.0684 - acc: 0.9977 - val_loss: 1.3422 - val_acc: 0.8883\n",
            "Epoch 470/1000\n",
            "187/187 [==============================] - 9s 48ms/step - loss: 0.0623 - acc: 0.9982 - val_loss: 1.2774 - val_acc: 0.8903\n",
            "Epoch 471/1000\n",
            "187/187 [==============================] - 9s 48ms/step - loss: 0.0666 - acc: 0.9982 - val_loss: 1.1163 - val_acc: 0.8943\n",
            "Epoch 472/1000\n",
            "187/187 [==============================] - 9s 48ms/step - loss: 0.0699 - acc: 0.9972 - val_loss: 1.0897 - val_acc: 0.8950\n",
            "Epoch 473/1000\n",
            "187/187 [==============================] - 9s 49ms/step - loss: 0.0701 - acc: 0.9976 - val_loss: 1.1844 - val_acc: 0.8897\n",
            "Epoch 474/1000\n",
            "187/187 [==============================] - 9s 49ms/step - loss: 0.0686 - acc: 0.9977 - val_loss: 1.2513 - val_acc: 0.8857\n",
            "Epoch 475/1000\n",
            "187/187 [==============================] - 9s 48ms/step - loss: 0.0654 - acc: 0.9975 - val_loss: 1.0674 - val_acc: 0.8903\n",
            "Epoch 476/1000\n",
            "187/187 [==============================] - 9s 48ms/step - loss: 0.0654 - acc: 0.9979 - val_loss: 1.1313 - val_acc: 0.8927\n",
            "Epoch 477/1000\n",
            "187/187 [==============================] - 9s 48ms/step - loss: 0.0647 - acc: 0.9982 - val_loss: 1.1036 - val_acc: 0.8897\n",
            "Epoch 478/1000\n",
            "187/187 [==============================] - 9s 48ms/step - loss: 0.0626 - acc: 0.9987 - val_loss: 1.3440 - val_acc: 0.8927\n",
            "Epoch 479/1000\n",
            "187/187 [==============================] - 9s 48ms/step - loss: 0.0681 - acc: 0.9970 - val_loss: 1.1900 - val_acc: 0.8903\n",
            "Epoch 480/1000\n",
            "187/187 [==============================] - 9s 48ms/step - loss: 0.0627 - acc: 0.9980 - val_loss: 1.0282 - val_acc: 0.8930\n",
            "Epoch 481/1000\n",
            "187/187 [==============================] - 9s 48ms/step - loss: 0.0683 - acc: 0.9972 - val_loss: 1.0587 - val_acc: 0.8903\n",
            "Epoch 482/1000\n",
            "187/187 [==============================] - 9s 49ms/step - loss: 0.0662 - acc: 0.9978 - val_loss: 1.1943 - val_acc: 0.8920\n",
            "Epoch 483/1000\n",
            "187/187 [==============================] - 9s 48ms/step - loss: 0.0686 - acc: 0.9972 - val_loss: 1.0082 - val_acc: 0.8933\n",
            "Epoch 484/1000\n",
            "187/187 [==============================] - 9s 48ms/step - loss: 0.0638 - acc: 0.9987 - val_loss: 1.2722 - val_acc: 0.8883\n",
            "Epoch 485/1000\n",
            "187/187 [==============================] - 9s 48ms/step - loss: 0.0712 - acc: 0.9969 - val_loss: 0.9684 - val_acc: 0.8930\n",
            "Epoch 486/1000\n",
            "187/187 [==============================] - 9s 48ms/step - loss: 0.0633 - acc: 0.9981 - val_loss: 1.1004 - val_acc: 0.8927\n",
            "Epoch 487/1000\n",
            "187/187 [==============================] - 9s 48ms/step - loss: 0.0672 - acc: 0.9972 - val_loss: 1.1996 - val_acc: 0.8890\n",
            "Epoch 488/1000\n",
            "187/187 [==============================] - 9s 48ms/step - loss: 0.0657 - acc: 0.9982 - val_loss: 1.1575 - val_acc: 0.8903\n",
            "Epoch 489/1000\n",
            "187/187 [==============================] - 9s 48ms/step - loss: 0.0649 - acc: 0.9982 - val_loss: 1.1452 - val_acc: 0.8957\n",
            "Epoch 490/1000\n",
            "187/187 [==============================] - 9s 48ms/step - loss: 0.0665 - acc: 0.9973 - val_loss: 1.1074 - val_acc: 0.8967\n",
            "Epoch 491/1000\n",
            "187/187 [==============================] - 9s 49ms/step - loss: 0.0627 - acc: 0.9976 - val_loss: 1.1713 - val_acc: 0.8907\n",
            "Epoch 492/1000\n",
            "187/187 [==============================] - 9s 49ms/step - loss: 0.0625 - acc: 0.9984 - val_loss: 1.2587 - val_acc: 0.8917\n",
            "Epoch 493/1000\n",
            "187/187 [==============================] - 9s 49ms/step - loss: 0.0653 - acc: 0.9974 - val_loss: 1.1048 - val_acc: 0.8927\n",
            "Epoch 494/1000\n",
            "187/187 [==============================] - 9s 48ms/step - loss: 0.0641 - acc: 0.9977 - val_loss: 1.1440 - val_acc: 0.8900\n",
            "Epoch 495/1000\n",
            "187/187 [==============================] - 9s 48ms/step - loss: 0.0639 - acc: 0.9978 - val_loss: 1.0718 - val_acc: 0.8923\n",
            "Epoch 496/1000\n",
            "187/187 [==============================] - 9s 48ms/step - loss: 0.0627 - acc: 0.9977 - val_loss: 1.1887 - val_acc: 0.8930\n",
            "Epoch 497/1000\n",
            "187/187 [==============================] - 9s 48ms/step - loss: 0.0651 - acc: 0.9973 - val_loss: 1.0382 - val_acc: 0.8907\n",
            "Epoch 498/1000\n",
            "187/187 [==============================] - 9s 48ms/step - loss: 0.0630 - acc: 0.9978 - val_loss: 1.0886 - val_acc: 0.8907\n",
            "Epoch 499/1000\n",
            "187/187 [==============================] - 9s 48ms/step - loss: 0.0670 - acc: 0.9977 - val_loss: 1.1277 - val_acc: 0.8933\n",
            "Epoch 500/1000\n",
            "187/187 [==============================] - 9s 49ms/step - loss: 0.0697 - acc: 0.9977 - val_loss: 1.1865 - val_acc: 0.8957\n",
            "Epoch 501/1000\n",
            "187/187 [==============================] - 9s 48ms/step - loss: 0.0681 - acc: 0.9977 - val_loss: 1.1453 - val_acc: 0.8937\n",
            "Epoch 502/1000\n",
            "187/187 [==============================] - 9s 48ms/step - loss: 0.0646 - acc: 0.9980 - val_loss: 1.1659 - val_acc: 0.8943\n",
            "Epoch 503/1000\n",
            "187/187 [==============================] - 9s 48ms/step - loss: 0.0694 - acc: 0.9974 - val_loss: 1.1298 - val_acc: 0.8913\n",
            "Epoch 504/1000\n",
            "187/187 [==============================] - 9s 48ms/step - loss: 0.0678 - acc: 0.9975 - val_loss: 1.1445 - val_acc: 0.8937\n",
            "Epoch 505/1000\n",
            "187/187 [==============================] - 9s 48ms/step - loss: 0.0631 - acc: 0.9977 - val_loss: 1.1807 - val_acc: 0.8933\n",
            "Epoch 506/1000\n",
            "187/187 [==============================] - 9s 48ms/step - loss: 0.0645 - acc: 0.9982 - val_loss: 1.2640 - val_acc: 0.8907\n",
            "Epoch 507/1000\n",
            "187/187 [==============================] - 9s 48ms/step - loss: 0.0675 - acc: 0.9968 - val_loss: 1.0607 - val_acc: 0.8907\n",
            "Epoch 508/1000\n",
            "187/187 [==============================] - 9s 48ms/step - loss: 0.0704 - acc: 0.9977 - val_loss: 1.2367 - val_acc: 0.8913\n",
            "Epoch 509/1000\n",
            "187/187 [==============================] - 9s 49ms/step - loss: 0.0734 - acc: 0.9971 - val_loss: 0.9715 - val_acc: 0.8927\n",
            "Epoch 510/1000\n",
            "187/187 [==============================] - 9s 48ms/step - loss: 0.0628 - acc: 0.9983 - val_loss: 1.1371 - val_acc: 0.8960\n",
            "Epoch 511/1000\n",
            "187/187 [==============================] - 9s 48ms/step - loss: 0.0615 - acc: 0.9982 - val_loss: 1.0964 - val_acc: 0.8927\n",
            "Epoch 512/1000\n",
            "187/187 [==============================] - 9s 48ms/step - loss: 0.0630 - acc: 0.9983 - val_loss: 1.1278 - val_acc: 0.8940\n",
            "Epoch 513/1000\n",
            "187/187 [==============================] - 9s 48ms/step - loss: 0.0652 - acc: 0.9980 - val_loss: 1.1546 - val_acc: 0.8893\n",
            "Epoch 514/1000\n",
            "187/187 [==============================] - 9s 48ms/step - loss: 0.0670 - acc: 0.9977 - val_loss: 1.1696 - val_acc: 0.8860\n",
            "Epoch 515/1000\n",
            "187/187 [==============================] - 9s 48ms/step - loss: 0.0670 - acc: 0.9980 - val_loss: 1.2148 - val_acc: 0.8893\n",
            "Epoch 516/1000\n",
            "187/187 [==============================] - 9s 48ms/step - loss: 0.0595 - acc: 0.9982 - val_loss: 1.0879 - val_acc: 0.8880\n",
            "Epoch 517/1000\n",
            "187/187 [==============================] - 9s 48ms/step - loss: 0.0657 - acc: 0.9976 - val_loss: 1.2169 - val_acc: 0.8880\n",
            "Epoch 518/1000\n",
            "187/187 [==============================] - 9s 49ms/step - loss: 0.0654 - acc: 0.9975 - val_loss: 1.1608 - val_acc: 0.8870\n",
            "Epoch 519/1000\n",
            "187/187 [==============================] - 9s 48ms/step - loss: 0.0636 - acc: 0.9977 - val_loss: 1.1429 - val_acc: 0.8863\n",
            "Epoch 520/1000\n",
            "187/187 [==============================] - 9s 48ms/step - loss: 0.0635 - acc: 0.9972 - val_loss: 0.9352 - val_acc: 0.8890\n",
            "Epoch 521/1000\n",
            "187/187 [==============================] - 9s 48ms/step - loss: 0.0659 - acc: 0.9974 - val_loss: 1.1411 - val_acc: 0.8873\n",
            "Epoch 522/1000\n",
            "187/187 [==============================] - 9s 48ms/step - loss: 0.0657 - acc: 0.9977 - val_loss: 1.0928 - val_acc: 0.8917\n",
            "Epoch 523/1000\n",
            "187/187 [==============================] - 9s 48ms/step - loss: 0.0612 - acc: 0.9976 - val_loss: 1.1205 - val_acc: 0.8917\n",
            "Epoch 524/1000\n",
            "187/187 [==============================] - 9s 48ms/step - loss: 0.0625 - acc: 0.9977 - val_loss: 1.0823 - val_acc: 0.8957\n",
            "Epoch 525/1000\n",
            "187/187 [==============================] - 9s 49ms/step - loss: 0.0654 - acc: 0.9973 - val_loss: 1.0008 - val_acc: 0.8917\n",
            "Epoch 526/1000\n",
            "187/187 [==============================] - 9s 48ms/step - loss: 0.0626 - acc: 0.9977 - val_loss: 1.1681 - val_acc: 0.8860\n",
            "Epoch 527/1000\n",
            "187/187 [==============================] - 9s 49ms/step - loss: 0.0625 - acc: 0.9974 - val_loss: 1.2015 - val_acc: 0.8910\n",
            "Epoch 528/1000\n",
            "187/187 [==============================] - 9s 49ms/step - loss: 0.0676 - acc: 0.9976 - val_loss: 1.0100 - val_acc: 0.8970\n",
            "Epoch 529/1000\n",
            "187/187 [==============================] - 9s 48ms/step - loss: 0.0643 - acc: 0.9984 - val_loss: 1.0156 - val_acc: 0.8947\n",
            "Epoch 530/1000\n",
            "187/187 [==============================] - 9s 48ms/step - loss: 0.0632 - acc: 0.9987 - val_loss: 1.2347 - val_acc: 0.8923\n",
            "Epoch 531/1000\n",
            "187/187 [==============================] - 9s 48ms/step - loss: 0.0692 - acc: 0.9974 - val_loss: 1.0260 - val_acc: 0.8937\n",
            "Epoch 532/1000\n",
            "187/187 [==============================] - 9s 48ms/step - loss: 0.0630 - acc: 0.9973 - val_loss: 0.9810 - val_acc: 0.8943\n",
            "Epoch 533/1000\n",
            "187/187 [==============================] - 9s 48ms/step - loss: 0.0636 - acc: 0.9977 - val_loss: 1.0265 - val_acc: 0.8977\n",
            "Epoch 534/1000\n",
            "187/187 [==============================] - 9s 48ms/step - loss: 0.0560 - acc: 0.9988 - val_loss: 1.1948 - val_acc: 0.8940\n",
            "Epoch 535/1000\n",
            "187/187 [==============================] - 9s 48ms/step - loss: 0.0625 - acc: 0.9979 - val_loss: 1.2588 - val_acc: 0.8900\n",
            "Epoch 536/1000\n",
            "187/187 [==============================] - 9s 49ms/step - loss: 0.0650 - acc: 0.9982 - val_loss: 1.1833 - val_acc: 0.8927\n",
            "Epoch 537/1000\n",
            "187/187 [==============================] - 9s 48ms/step - loss: 0.0600 - acc: 0.9988 - val_loss: 1.2468 - val_acc: 0.8937\n",
            "Epoch 538/1000\n",
            "187/187 [==============================] - 9s 48ms/step - loss: 0.0662 - acc: 0.9980 - val_loss: 1.2044 - val_acc: 0.8960\n",
            "Epoch 539/1000\n",
            "187/187 [==============================] - 9s 48ms/step - loss: 0.0655 - acc: 0.9976 - val_loss: 1.2365 - val_acc: 0.8973\n",
            "Epoch 540/1000\n",
            "187/187 [==============================] - 9s 48ms/step - loss: 0.0612 - acc: 0.9982 - val_loss: 1.0543 - val_acc: 0.8950\n",
            "Epoch 541/1000\n",
            "187/187 [==============================] - 9s 48ms/step - loss: 0.0641 - acc: 0.9974 - val_loss: 1.1549 - val_acc: 0.8907\n",
            "Epoch 542/1000\n",
            "187/187 [==============================] - 9s 48ms/step - loss: 0.0672 - acc: 0.9977 - val_loss: 1.1890 - val_acc: 0.8920\n",
            "Epoch 543/1000\n",
            "187/187 [==============================] - 9s 48ms/step - loss: 0.0617 - acc: 0.9982 - val_loss: 1.2504 - val_acc: 0.8927\n",
            "Epoch 544/1000\n",
            "187/187 [==============================] - 9s 48ms/step - loss: 0.0656 - acc: 0.9974 - val_loss: 1.1824 - val_acc: 0.8897\n",
            "Epoch 545/1000\n",
            "187/187 [==============================] - 9s 49ms/step - loss: 0.0642 - acc: 0.9972 - val_loss: 1.0747 - val_acc: 0.8897\n",
            "Epoch 546/1000\n",
            "187/187 [==============================] - 9s 48ms/step - loss: 0.0592 - acc: 0.9984 - val_loss: 1.1669 - val_acc: 0.8893\n",
            "Epoch 547/1000\n",
            "187/187 [==============================] - 9s 48ms/step - loss: 0.0635 - acc: 0.9972 - val_loss: 1.1534 - val_acc: 0.8947\n",
            "Epoch 548/1000\n",
            "187/187 [==============================] - 9s 48ms/step - loss: 0.0621 - acc: 0.9984 - val_loss: 1.2233 - val_acc: 0.8900\n",
            "Epoch 549/1000\n",
            "187/187 [==============================] - 9s 48ms/step - loss: 0.0688 - acc: 0.9981 - val_loss: 1.2919 - val_acc: 0.8863\n",
            "Epoch 550/1000\n",
            "187/187 [==============================] - 9s 48ms/step - loss: 0.0657 - acc: 0.9977 - val_loss: 1.1617 - val_acc: 0.8920\n",
            "Epoch 551/1000\n",
            "187/187 [==============================] - 9s 48ms/step - loss: 0.0641 - acc: 0.9976 - val_loss: 1.2327 - val_acc: 0.8847\n",
            "Epoch 552/1000\n",
            "187/187 [==============================] - 9s 48ms/step - loss: 0.0684 - acc: 0.9969 - val_loss: 1.2746 - val_acc: 0.8923\n",
            "Epoch 553/1000\n",
            "187/187 [==============================] - 9s 48ms/step - loss: 0.0606 - acc: 0.9979 - val_loss: 1.3205 - val_acc: 0.8903\n",
            "Epoch 554/1000\n",
            "187/187 [==============================] - 9s 49ms/step - loss: 0.0664 - acc: 0.9981 - val_loss: 1.2247 - val_acc: 0.8867\n",
            "Epoch 555/1000\n",
            "187/187 [==============================] - 9s 48ms/step - loss: 0.0595 - acc: 0.9976 - val_loss: 1.0776 - val_acc: 0.8893\n",
            "Epoch 556/1000\n",
            "187/187 [==============================] - 9s 48ms/step - loss: 0.0620 - acc: 0.9978 - val_loss: 1.2214 - val_acc: 0.8923\n",
            "Epoch 557/1000\n",
            "187/187 [==============================] - 9s 48ms/step - loss: 0.0603 - acc: 0.9977 - val_loss: 1.1615 - val_acc: 0.8917\n",
            "Epoch 558/1000\n",
            "187/187 [==============================] - 9s 48ms/step - loss: 0.0597 - acc: 0.9975 - val_loss: 1.1382 - val_acc: 0.8873\n",
            "Epoch 559/1000\n",
            "187/187 [==============================] - 9s 48ms/step - loss: 0.0673 - acc: 0.9973 - val_loss: 1.1111 - val_acc: 0.8907\n",
            "Epoch 560/1000\n",
            "187/187 [==============================] - 9s 48ms/step - loss: 0.0607 - acc: 0.9979 - val_loss: 1.0485 - val_acc: 0.8943\n",
            "Epoch 561/1000\n",
            "187/187 [==============================] - 9s 48ms/step - loss: 0.0625 - acc: 0.9975 - val_loss: 1.0362 - val_acc: 0.8917\n",
            "Epoch 562/1000\n",
            "187/187 [==============================] - 9s 50ms/step - loss: 0.0609 - acc: 0.9977 - val_loss: 1.0724 - val_acc: 0.8913\n",
            "Epoch 563/1000\n",
            "187/187 [==============================] - 9s 49ms/step - loss: 0.0611 - acc: 0.9980 - val_loss: 1.1723 - val_acc: 0.8920\n",
            "Epoch 564/1000\n",
            "187/187 [==============================] - 9s 49ms/step - loss: 0.0628 - acc: 0.9977 - val_loss: 1.0678 - val_acc: 0.8890\n",
            "Epoch 565/1000\n",
            "187/187 [==============================] - 9s 48ms/step - loss: 0.0657 - acc: 0.9977 - val_loss: 1.1773 - val_acc: 0.8880\n",
            "Epoch 566/1000\n",
            "187/187 [==============================] - 9s 48ms/step - loss: 0.0626 - acc: 0.9977 - val_loss: 1.1873 - val_acc: 0.8887\n",
            "Epoch 567/1000\n",
            "187/187 [==============================] - 9s 48ms/step - loss: 0.0616 - acc: 0.9983 - val_loss: 1.0942 - val_acc: 0.8930\n",
            "Epoch 568/1000\n",
            "187/187 [==============================] - 9s 48ms/step - loss: 0.0599 - acc: 0.9982 - val_loss: 1.2677 - val_acc: 0.8887\n",
            "Epoch 569/1000\n",
            "187/187 [==============================] - 9s 48ms/step - loss: 0.0668 - acc: 0.9977 - val_loss: 1.2179 - val_acc: 0.8907\n",
            "Epoch 570/1000\n",
            "187/187 [==============================] - 9s 48ms/step - loss: 0.0597 - acc: 0.9974 - val_loss: 1.1362 - val_acc: 0.8957\n",
            "Epoch 571/1000\n",
            "187/187 [==============================] - 9s 48ms/step - loss: 0.0630 - acc: 0.9976 - val_loss: 1.1530 - val_acc: 0.8940\n",
            "Epoch 572/1000\n",
            "187/187 [==============================] - 9s 49ms/step - loss: 0.0636 - acc: 0.9977 - val_loss: 1.0979 - val_acc: 0.8940\n",
            "Epoch 573/1000\n",
            "187/187 [==============================] - 9s 48ms/step - loss: 0.0608 - acc: 0.9975 - val_loss: 1.1861 - val_acc: 0.8870\n",
            "Epoch 574/1000\n",
            "187/187 [==============================] - 9s 48ms/step - loss: 0.0681 - acc: 0.9975 - val_loss: 1.1373 - val_acc: 0.8943\n",
            "Epoch 575/1000\n",
            "187/187 [==============================] - 9s 48ms/step - loss: 0.0642 - acc: 0.9973 - val_loss: 0.8984 - val_acc: 0.8923\n",
            "Epoch 576/1000\n",
            "187/187 [==============================] - 9s 48ms/step - loss: 0.0560 - acc: 0.9980 - val_loss: 1.2031 - val_acc: 0.8927\n",
            "Epoch 577/1000\n",
            "187/187 [==============================] - 9s 48ms/step - loss: 0.0590 - acc: 0.9982 - val_loss: 1.1034 - val_acc: 0.8883\n",
            "Epoch 578/1000\n",
            "187/187 [==============================] - 9s 48ms/step - loss: 0.0594 - acc: 0.9981 - val_loss: 1.1643 - val_acc: 0.8883\n",
            "Epoch 579/1000\n",
            "187/187 [==============================] - 9s 48ms/step - loss: 0.0611 - acc: 0.9977 - val_loss: 1.0745 - val_acc: 0.8890\n",
            "Epoch 580/1000\n",
            "187/187 [==============================] - 9s 48ms/step - loss: 0.0598 - acc: 0.9973 - val_loss: 1.0831 - val_acc: 0.8950\n",
            "Epoch 581/1000\n",
            "187/187 [==============================] - 9s 49ms/step - loss: 0.0594 - acc: 0.9982 - val_loss: 1.1255 - val_acc: 0.8923\n",
            "Epoch 582/1000\n",
            "187/187 [==============================] - 9s 48ms/step - loss: 0.0641 - acc: 0.9975 - val_loss: 0.9460 - val_acc: 0.8943\n",
            "Epoch 583/1000\n",
            "187/187 [==============================] - 9s 48ms/step - loss: 0.0583 - acc: 0.9979 - val_loss: 1.0716 - val_acc: 0.8923\n",
            "Epoch 584/1000\n",
            "187/187 [==============================] - 9s 48ms/step - loss: 0.0611 - acc: 0.9977 - val_loss: 1.2035 - val_acc: 0.8933\n",
            "Epoch 585/1000\n",
            "187/187 [==============================] - 9s 48ms/step - loss: 0.0585 - acc: 0.9979 - val_loss: 1.0606 - val_acc: 0.8943\n",
            "Epoch 586/1000\n",
            "187/187 [==============================] - 9s 48ms/step - loss: 0.0639 - acc: 0.9974 - val_loss: 1.0729 - val_acc: 0.8937\n",
            "Epoch 587/1000\n",
            "187/187 [==============================] - 9s 48ms/step - loss: 0.0594 - acc: 0.9979 - val_loss: 1.2166 - val_acc: 0.8983\n",
            "Epoch 588/1000\n",
            "187/187 [==============================] - 9s 48ms/step - loss: 0.0578 - acc: 0.9981 - val_loss: 1.0593 - val_acc: 0.8937\n",
            "Epoch 589/1000\n",
            "187/187 [==============================] - 9s 48ms/step - loss: 0.0626 - acc: 0.9975 - val_loss: 0.9418 - val_acc: 0.8923\n",
            "Epoch 590/1000\n",
            "187/187 [==============================] - 9s 49ms/step - loss: 0.0621 - acc: 0.9973 - val_loss: 1.0559 - val_acc: 0.8953\n",
            "Epoch 591/1000\n",
            "187/187 [==============================] - 9s 48ms/step - loss: 0.0601 - acc: 0.9979 - val_loss: 1.0434 - val_acc: 0.8963\n",
            "Epoch 592/1000\n",
            "187/187 [==============================] - 9s 48ms/step - loss: 0.0604 - acc: 0.9981 - val_loss: 1.0063 - val_acc: 0.8990\n",
            "Epoch 593/1000\n",
            "187/187 [==============================] - 9s 48ms/step - loss: 0.0619 - acc: 0.9981 - val_loss: 1.1015 - val_acc: 0.8950\n",
            "Epoch 594/1000\n",
            "187/187 [==============================] - 9s 48ms/step - loss: 0.0636 - acc: 0.9977 - val_loss: 1.1672 - val_acc: 0.8933\n",
            "Epoch 595/1000\n",
            "187/187 [==============================] - 9s 48ms/step - loss: 0.0593 - acc: 0.9984 - val_loss: 1.1878 - val_acc: 0.8990\n",
            "Epoch 596/1000\n",
            "187/187 [==============================] - 9s 49ms/step - loss: 0.0643 - acc: 0.9975 - val_loss: 0.9292 - val_acc: 0.8950\n",
            "Epoch 597/1000\n",
            "187/187 [==============================] - 9s 49ms/step - loss: 0.0575 - acc: 0.9982 - val_loss: 1.0252 - val_acc: 0.8913\n",
            "Epoch 598/1000\n",
            "187/187 [==============================] - 9s 49ms/step - loss: 0.0576 - acc: 0.9981 - val_loss: 1.1738 - val_acc: 0.8870\n",
            "Epoch 599/1000\n",
            "187/187 [==============================] - 9s 49ms/step - loss: 0.0581 - acc: 0.9986 - val_loss: 1.2795 - val_acc: 0.8897\n",
            "Epoch 600/1000\n",
            "187/187 [==============================] - 9s 48ms/step - loss: 0.0594 - acc: 0.9980 - val_loss: 1.1739 - val_acc: 0.8920\n",
            "Epoch 601/1000\n",
            "187/187 [==============================] - 9s 48ms/step - loss: 0.0579 - acc: 0.9977 - val_loss: 1.1541 - val_acc: 0.8877\n",
            "Epoch 602/1000\n",
            "187/187 [==============================] - 9s 48ms/step - loss: 0.0603 - acc: 0.9979 - val_loss: 1.0244 - val_acc: 0.8893\n",
            "Epoch 603/1000\n",
            "187/187 [==============================] - 9s 48ms/step - loss: 0.0572 - acc: 0.9984 - val_loss: 1.0777 - val_acc: 0.8913\n",
            "Epoch 604/1000\n",
            "187/187 [==============================] - 9s 48ms/step - loss: 0.0551 - acc: 0.9987 - val_loss: 1.1735 - val_acc: 0.8910\n",
            "Epoch 605/1000\n",
            "187/187 [==============================] - 9s 48ms/step - loss: 0.0550 - acc: 0.9989 - val_loss: 1.1705 - val_acc: 0.8890\n",
            "Epoch 606/1000\n",
            "187/187 [==============================] - 9s 48ms/step - loss: 0.0534 - acc: 0.9986 - val_loss: 1.1389 - val_acc: 0.8900\n",
            "Epoch 607/1000\n",
            "187/187 [==============================] - 9s 49ms/step - loss: 0.0558 - acc: 0.9991 - val_loss: 1.2359 - val_acc: 0.8927\n",
            "Epoch 608/1000\n",
            "187/187 [==============================] - 9s 48ms/step - loss: 0.0541 - acc: 0.9987 - val_loss: 1.1960 - val_acc: 0.8920\n",
            "Epoch 609/1000\n",
            "187/187 [==============================] - 9s 48ms/step - loss: 0.0632 - acc: 0.9977 - val_loss: 1.1491 - val_acc: 0.8893\n",
            "Epoch 610/1000\n",
            "187/187 [==============================] - 9s 48ms/step - loss: 0.0611 - acc: 0.9979 - val_loss: 1.0247 - val_acc: 0.8927\n",
            "Epoch 611/1000\n",
            "187/187 [==============================] - 9s 48ms/step - loss: 0.0602 - acc: 0.9980 - val_loss: 1.0088 - val_acc: 0.8900\n",
            "Epoch 612/1000\n",
            "187/187 [==============================] - 9s 48ms/step - loss: 0.0580 - acc: 0.9979 - val_loss: 1.0304 - val_acc: 0.8917\n",
            "Epoch 613/1000\n",
            "187/187 [==============================] - 9s 48ms/step - loss: 0.0515 - acc: 0.9993 - val_loss: 1.2263 - val_acc: 0.8947\n",
            "Epoch 614/1000\n",
            "187/187 [==============================] - 9s 48ms/step - loss: 0.0568 - acc: 0.9990 - val_loss: 1.1798 - val_acc: 0.8953\n",
            "Epoch 615/1000\n",
            "147/187 [======================>.......] - ETA: 1s - loss: 0.0517 - acc: 0.9995Buffered data was truncated after reaching the output size limit."
          ],
          "name": "stdout"
        }
      ]
    },
    {
      "cell_type": "code",
      "metadata": {
        "id": "MAnK7D_Mm_dz",
        "colab_type": "code",
        "colab": {}
      },
      "source": [
        "copied_low_accuracy_model.load_weights(file_save_name)"
      ],
      "execution_count": 0,
      "outputs": []
    },
    {
      "cell_type": "code",
      "metadata": {
        "id": "-8ZXIw1Um_ao",
        "colab_type": "code",
        "colab": {}
      },
      "source": [
        "# copied_low_accuracy_model.save('final1_'+str(K)+'_'+file_save_name)\n",
        "# copied_low_accuracy_model.save('final1_Transfer1')\n",
        "copied_low_accuracy_model.save('final1_Random1')\n"
      ],
      "execution_count": 0,
      "outputs": []
    },
    {
      "cell_type": "code",
      "metadata": {
        "id": "bZsEELS6m_WM",
        "colab_type": "code",
        "outputId": "961fcb71-7ddc-44e4-e19f-b5d81ae1a573",
        "colab": {
          "base_uri": "https://localhost:8080/",
          "height": 545
        }
      },
      "source": [
        "accuracy = copied_low_accuracy_model.history.history['acc']\n",
        "val_accuracy = copied_low_accuracy_model.history.history['val_acc']\n",
        "loss = copied_low_accuracy_model.history.history['loss']\n",
        "val_loss = copied_low_accuracy_model.history.history['val_loss']\n",
        "epochs = range(len(accuracy))\n",
        "plt.plot(epochs, accuracy, 'b', label='Training accuracy')\n",
        "plt.plot(epochs, val_accuracy, 'r', label='Validation accuracy')\n",
        "plt.title('Training and validation accuracy')\n",
        "plt.legend()\n",
        "plt.figure()\n",
        "plt.plot(epochs, loss, 'b', label='Training loss')\n",
        "plt.plot(epochs, val_loss, 'r', label='Validation loss')\n",
        "plt.title('Training and validation loss')\n",
        "plt.legend()\n",
        "plt.show()"
      ],
      "execution_count": 88,
      "outputs": [
        {
          "output_type": "display_data",
          "data": {
            "image/png": "[encoded data removed]",
            "text/plain": [
              "<Figure size 432x288 with 1 Axes>"
            ]
          },
          "metadata": {
            "tags": []
          }
        },
        {
          "output_type": "display_data",
          "data": {
            "image/png": "[encoded data removed]",
            "text/plain": [
              "<Figure size 432x288 with 1 Axes>"
            ]
          },
          "metadata": {
            "tags": []
          }
        }
      ]
    },
    {
      "cell_type": "code",
      "metadata": {
        "id": "5S9iJ-HGnRFW",
        "colab_type": "code",
        "outputId": "1fa2db8f-c5a8-4a9c-f73b-150decafe624",
        "colab": {
          "base_uri": "https://localhost:8080/",
          "height": 34
        }
      },
      "source": [
        "copied_low_accuracy_model.evaluate(valid_X, valid_ground, verbose=0)"
      ],
      "execution_count": 89,
      "outputs": [
        {
          "output_type": "execute_result",
          "data": {
            "text/plain": [
              "[0.9976364184220632, 0.8999999998410543]"
            ]
          },
          "metadata": {
            "tags": []
          },
          "execution_count": 89
        }
      ]
    },
    {
      "cell_type": "code",
      "metadata": {
        "id": "g8o16S6NPmfn",
        "colab_type": "code",
        "outputId": "47b517c4-aecc-4f7a-d9b6-c30f8c47d9f1",
        "colab": {
          "base_uri": "https://localhost:8080/",
          "height": 52
        }
      },
      "source": [
        "#testing\n",
        "test_eval = copied_low_accuracy_model.evaluate(test_three_data, test_three_label_one_hot, verbose=0)\n",
        "print('Test loss:', test_eval[0])\n",
        "print('Test accuracy:', test_eval[1])\n",
        "\n"
      ],
      "execution_count": 90,
      "outputs": [
        {
          "output_type": "stream",
          "text": [
            "Test loss: 0.9280055140256882\n",
            "Test accuracy: 0.9106666668256124\n"
          ],
          "name": "stdout"
        }
      ]
    },
    {
      "cell_type": "code",
      "metadata": {
        "id": "z06QupNsYeLZ",
        "colab_type": "code",
        "outputId": "b52e1b8c-93ab-420d-c540-6b84a15d9abe",
        "colab": {
          "base_uri": "https://localhost:8080/",
          "height": 34
        }
      },
      "source": [
        "layer_names"
      ],
      "execution_count": 97,
      "outputs": [
        {
          "output_type": "execute_result",
          "data": {
            "text/plain": [
              "['conv8_1']"
            ]
          },
          "metadata": {
            "tags": []
          },
          "execution_count": 97
        }
      ]
    },
    {
      "cell_type": "code",
      "metadata": {
        "id": "gRuSLttWnRCR",
        "colab_type": "code",
        "outputId": "965406fc-f99d-46c5-ee6d-8338b2b89f18",
        "colab": {
          "base_uri": "https://localhost:8080/",
          "height": 203
        }
      },
      "source": [
        "# now get DI score of a layer from high accuracy and low accuracy model\n",
        "#layer_name = layer_to_replace\n",
        "discores_low_acc_modified_model = createCNNLayerDIScorePlot(modelFilt, layer_to_replace)\n",
        "\n",
        "plt.ylim([0,1.0])"
      ],
      "execution_count": 98,
      "outputs": [
        {
          "output_type": "error",
          "ename": "NameError",
          "evalue": "ignored",
          "traceback": [
            "\u001b[0;31m---------------------------------------------------------------------------\u001b[0m",
            "\u001b[0;31mNameError\u001b[0m                                 Traceback (most recent call last)",
            "\u001b[0;32m<ipython-input-98-4cb67efdc4fa>\u001b[0m in \u001b[0;36m<module>\u001b[0;34m()\u001b[0m\n\u001b[0;32m----> 1\u001b[0;31m \u001b[0mdiscores_low_acc_modified_model\u001b[0m \u001b[0;34m=\u001b[0m \u001b[0mcreateCNNLayerDIScorePlot\u001b[0m\u001b[0;34m(\u001b[0m\u001b[0mmodelFilt\u001b[0m\u001b[0;34m,\u001b[0m \u001b[0mlayer_to_replace\u001b[0m\u001b[0;34m)\u001b[0m\u001b[0;34m\u001b[0m\u001b[0;34m\u001b[0m\u001b[0m\n\u001b[0m\u001b[1;32m      2\u001b[0m \u001b[0;34m\u001b[0m\u001b[0m\n\u001b[1;32m      3\u001b[0m \u001b[0mplt\u001b[0m\u001b[0;34m.\u001b[0m\u001b[0mylim\u001b[0m\u001b[0;34m(\u001b[0m\u001b[0;34m[\u001b[0m\u001b[0;36m0\u001b[0m\u001b[0;34m,\u001b[0m\u001b[0;36m1.0\u001b[0m\u001b[0;34m]\u001b[0m\u001b[0;34m)\u001b[0m\u001b[0;34m\u001b[0m\u001b[0;34m\u001b[0m\u001b[0m\n",
            "\u001b[0;31mNameError\u001b[0m: name 'modelFilt' is not defined"
          ]
        }
      ]
    },
    {
      "cell_type": "code",
      "metadata": {
        "id": "MI4AzYZDnQ_X",
        "colab_type": "code",
        "colab": {}
      },
      "source": [
        "# now get DI score of a layer from high accuracy and low accuracy model\n",
        "#layer_name = 'lowAccuracyModelConv2_1'\n",
        "discores_low_acc_modified_model = createCNNLayerDIScorePlot(modelFilt, layer_to_replace)\n",
        "\n",
        "plt.ylim([0,1.0])"
      ],
      "execution_count": 0,
      "outputs": []
    },
    {
      "cell_type": "code",
      "metadata": {
        "id": "d9AxL2k2cPvs",
        "colab_type": "code",
        "colab": {}
      },
      "source": [
        "# now get DI score of a layer from high accuracy and low accuracy model\n",
        "layer_name = 'conv2d_1'\n",
        "discores_low_acc_modified_model = createCNNLayerDIScorePlot(modelFilt, layer_name)"
      ],
      "execution_count": 0,
      "outputs": []
    },
    {
      "cell_type": "code",
      "metadata": {
        "id": "dmomNWqXclu8",
        "colab_type": "code",
        "colab": {}
      },
      "source": [
        "# now get DI score of a layer from high accuracy and low accuracy model\n",
        "layer_name = 'conv2d_2'\n",
        "discores_low_acc_modified_model = createCNNLayerDIScorePlot(modelFilt, layer_name)"
      ],
      "execution_count": 0,
      "outputs": []
    },
    {
      "cell_type": "code",
      "metadata": {
        "id": "1iC11tO-c1ME",
        "colab_type": "code",
        "colab": {}
      },
      "source": [
        "# now get DI score of a layer from high accuracy and low accuracy model\n",
        "layer_name = 'conv2d_3'\n",
        "discores_low_acc_modified_model = createCNNLayerDIScorePlot(modelFilt, layer_name)"
      ],
      "execution_count": 0,
      "outputs": []
    },
    {
      "cell_type": "code",
      "metadata": {
        "id": "q3SsO1CXc09Q",
        "colab_type": "code",
        "colab": {}
      },
      "source": [
        "# now get DI score of a layer from high accuracy and low accuracy model\n",
        "layer_name = 'conv2d_4'\n",
        "discores_low_acc_modified_model = createCNNLayerDIScorePlot(modelFilt, layer_name)"
      ],
      "execution_count": 0,
      "outputs": []
    },
    {
      "cell_type": "code",
      "metadata": {
        "id": "Unii3onHcpx6",
        "colab_type": "code",
        "colab": {}
      },
      "source": [
        ""
      ],
      "execution_count": 0,
      "outputs": []
    },
    {
      "cell_type": "code",
      "metadata": {
        "id": "r2XDOWtOP2p7",
        "colab_type": "code",
        "colab": {}
      },
      "source": [
        "modelFilt.summary()"
      ],
      "execution_count": 0,
      "outputs": []
    },
    {
      "cell_type": "markdown",
      "metadata": {
        "id": "dxnMxP6cTGLO",
        "colab_type": "text"
      },
      "source": [
        " "
      ]
    },
    {
      "cell_type": "code",
      "metadata": {
        "id": "7CRji91-FYcX",
        "colab_type": "code",
        "colab": {}
      },
      "source": [
        ""
      ],
      "execution_count": 0,
      "outputs": []
    }
  ]
}