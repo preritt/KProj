{
  "nbformat": 4,
  "nbformat_minor": 0,
  "metadata": {
    "colab": {
      "name": "ProposalLowAccuracyDataVer01.ipynb",
      "version": "0.3.2",
      "provenance": [],
      "collapsed_sections": [],
      "toc_visible": true,
      "include_colab_link": true
    },
    "kernelspec": {
      "name": "python3",
      "display_name": "Python 3"
    },
    "accelerator": "GPU"
  },
  "cells": [
    {
      "cell_type": "markdown",
      "metadata": {
        "id": "view-in-github",
        "colab_type": "text"
      },
      "source": [
        "<a href=\"https://colab.research.google.com/github/preritt/KProj/blob/master/(1)ProposalLowAccuracyDataVer03.ipynb\" target=\"_parent\"><img src=\"https://colab.research.google.com/assets/colab-badge.svg\" alt=\"Open In Colab\"/></a>"
      ]
    },
    {
      "metadata": {
        "id": "FgwWyMb6iCkO",
        "colab_type": "code",
        "outputId": "63d82221-0765-49b3-acdb-7bfe418e8a47",
        "colab": {
          "base_uri": "https://localhost:8080/",
          "height": 34
        }
      },
      "cell_type": "code",
      "source": [
        "import keras\n",
        "from matplotlib import pyplot as plt\n",
        "import numpy as np\n",
        "import gzip\n",
        "%matplotlib inline\n",
        "from keras.models import Model\n",
        "from keras.optimizers import RMSprop\n",
        "from keras.layers import Input,Dense,Flatten,Dropout,merge,Reshape,Conv2D,MaxPooling2D,UpSampling2D,Conv2DTranspose\n",
        "from keras.layers.normalization import BatchNormalization\n",
        "from keras.models import Model,Sequential\n",
        "from keras.callbacks import ModelCheckpoint\n",
        "from keras.optimizers import Adadelta, RMSprop,SGD,Adam\n",
        "from keras import regularizers\n",
        "from keras import backend as K\n",
        "from keras.utils import to_categorical\n",
        "from keras.datasets import cifar10\n",
        "from sklearn import preprocessing\n",
        "from keras import losses"
      ],
      "execution_count": 0,
      "outputs": [
        {
          "output_type": "stream",
          "text": [
            "Using TensorFlow backend.\n"
          ],
          "name": "stderr"
        }
      ]
    },
    {
      "metadata": {
        "id": "Mqm8mJJu0AU4",
        "colab_type": "code",
        "colab": {}
      },
      "cell_type": "code",
      "source": [
        ""
      ],
      "execution_count": 0,
      "outputs": []
    },
    {
      "metadata": {
        "id": "txdR9fEabt2P",
        "colab_type": "code",
        "colab": {}
      },
      "cell_type": "code",
      "source": [
        "\n",
        "from keras.models import model_from_json"
      ],
      "execution_count": 0,
      "outputs": []
    },
    {
      "metadata": {
        "id": "PYdWJtFsiF1a",
        "colab_type": "code",
        "colab": {}
      },
      "cell_type": "code",
      "source": [
        "import keras\n",
        "from keras.models import Sequential\n",
        "from keras.utils import np_utils\n",
        "from keras.preprocessing.image import ImageDataGenerator\n",
        "from keras.layers import Dense, Activation, Flatten, Dropout, BatchNormalization\n",
        "from keras.layers import Conv2D, MaxPooling2D\n",
        "from keras.datasets import cifar10\n",
        "from keras import regularizers\n",
        "from keras.callbacks import LearningRateScheduler\n",
        "import numpy as np\n",
        "from sklearn.metrics import confusion_matrix\n",
        "from sklearn.model_selection import train_test_split\n",
        "from sklearn.utils import shuffle"
      ],
      "execution_count": 0,
      "outputs": []
    },
    {
      "metadata": {
        "id": "lJ9XYVEOAprv",
        "colab_type": "code",
        "colab": {}
      },
      "cell_type": "code",
      "source": [
        "keras.backend.clear_session()"
      ],
      "execution_count": 0,
      "outputs": []
    },
    {
      "metadata": {
        "id": "9m3ehGh2iIBA",
        "colab_type": "code",
        "outputId": "715219a9-b37f-40d9-a074-0b47f671237b",
        "colab": {
          "base_uri": "https://localhost:8080/",
          "height": 340
        }
      },
      "cell_type": "code",
      "source": [
        "from matplotlib import pyplot\n",
        "from scipy.misc import toimage\n",
        "from keras.datasets import cifar10\n",
        "def show_imgs(X):\n",
        "    pyplot.figure(1)\n",
        "    k = 0\n",
        "    for i in range(0,4):\n",
        "        for j in range(0,4):\n",
        "            pyplot.subplot2grid((4,4),(i,j))\n",
        "            pyplot.imshow(toimage(X[k]))\n",
        "            k = k+1\n",
        "    # show the plot\n",
        "    pyplot.show()\n",
        " \n",
        "(x_train, y_train), (x_test, y_test) = cifar10.load_data()\n",
        "show_imgs(x_test[:16])\n"
      ],
      "execution_count": 0,
      "outputs": [
        {
          "output_type": "stream",
          "text": [
            "/usr/local/lib/python3.6/dist-packages/ipykernel_launcher.py:10: DeprecationWarning: `toimage` is deprecated!\n",
            "`toimage` is deprecated in SciPy 1.0.0, and will be removed in 1.2.0.\n",
            "Use Pillow's ``Image.fromarray`` directly instead.\n",
            "  # Remove the CWD from sys.path while we load stuff.\n"
          ],
          "name": "stderr"
        },
        {
          "output_type": "display_data",
          "data": {
            "image/png": "[encoded data removed]",
            "text/plain": [
              "<Figure size 432x288 with 16 Axes>"
            ]
          },
          "metadata": {
            "tags": []
          }
        }
      ]
    },
    {
      "metadata": {
        "id": "hVAjMdeSrloa",
        "colab_type": "code",
        "outputId": "a23c9a19-0bb2-4f5d-efe0-f4dee3b48c15",
        "colab": {
          "base_uri": "https://localhost:8080/",
          "height": 34
        }
      },
      "cell_type": "code",
      "source": [
        "x_test.shape"
      ],
      "execution_count": 0,
      "outputs": [
        {
          "output_type": "execute_result",
          "data": {
            "text/plain": [
              "(10000, 32, 32, 3)"
            ]
          },
          "metadata": {
            "tags": []
          },
          "execution_count": 5
        }
      ]
    },
    {
      "metadata": {
        "id": "ngfK-2Qewhtq",
        "colab_type": "code",
        "colab": {}
      },
      "cell_type": "code",
      "source": [
        "# This function takes the entire traaining data and test data and corresponding categorical label and returns the corresponding data in class indices\n",
        "def getThreeClassesTrainTest(class_indices,train_data,train_labels,test_data,test_labels):\n",
        "  all_train_data = []\n",
        "  all_train_data_label = []\n",
        "  all_test_data = []\n",
        "  all_test_data_label = []\n",
        "  for ind in class_indices:\n",
        "    this_class_location_train =  np.where(train_labels==ind)[0] # train_labels[train_labels == ind]\n",
        "    this_class_data_train = train_data[this_class_location_train,:]\n",
        "    this_class_data_train_label = train_labels[this_class_location_train]\n",
        "    print(this_class_location_train)\n",
        "    \n",
        "    this_class_location_test = np.where(test_labels==ind)[0] #test_labels[test_labels == ind]\n",
        "    this_class_data_test = test_data[this_class_location_test,:]\n",
        "    this_class_data_test_label = test_labels[this_class_location_test]\n",
        "    \n",
        "    all_train_data.append(this_class_data_train)\n",
        "    all_test_data.append(this_class_data_test)\n",
        "    all_train_data_label.append(this_class_data_train_label)\n",
        "    all_test_data_label.append(this_class_data_test_label)\n",
        "    \n",
        "  train_data_three = all_train_data[0]\n",
        "  train_label_three = all_train_data_label[0]\n",
        "  test_data_three = all_test_data[0]\n",
        "  test_label_three = all_test_data_label[0]\n",
        "  \n",
        "  for j in range(1,len(class_indices)):\n",
        "    train_data_three = np.concatenate((train_data_three,all_train_data[j]))\n",
        "    train_label_three = np.concatenate((train_label_three,all_train_data_label[j]))\n",
        "\n",
        "    test_data_three = np.concatenate((test_data_three,all_test_data[j]))\n",
        "    test_label_three = np.concatenate((test_label_three,all_test_data_label[j]))\n",
        "  print(train_label_three.shape)\n",
        "  train_label_three = np.reshape(train_label_three,newshape=(-1,))\n",
        "  test_label_three = np.reshape(test_label_three,newshape=(-1,))\n",
        "  return train_data_three, train_label_three, test_data_three,test_label_three"
      ],
      "execution_count": 0,
      "outputs": []
    },
    {
      "metadata": {
        "id": "3ZJV35fkrj3O",
        "colab_type": "code",
        "colab": {}
      },
      "cell_type": "code",
      "source": [
        "         "
      ],
      "execution_count": 0,
      "outputs": []
    },
    {
      "metadata": {
        "id": "2ekn-CkLikYJ",
        "colab_type": "text"
      },
      "cell_type": "markdown",
      "source": [
        "### Get only three classes of data and train the model on it"
      ]
    },
    {
      "metadata": {
        "id": "VPYv1L-uigzL",
        "colab_type": "code",
        "outputId": "b9728759-8fea-41a5-eb66-8fbb0f230197",
        "colab": {
          "base_uri": "https://localhost:8080/",
          "height": 87
        }
      },
      "cell_type": "code",
      "source": [
        "train_three_data,train_three_label,test_three_data,test_three_label = getThreeClassesTrainTest([ 0,3,5 ],x_train,y_train,x_test,y_test)"
      ],
      "execution_count": 55,
      "outputs": [
        {
          "output_type": "stream",
          "text": [
            "[   29    30    35 ... 49941 49992 49994]\n",
            "[    9    17    21 ... 49979 49982 49983]\n",
            "[   27    40    51 ... 49964 49980 49988]\n",
            "(15000, 1)\n"
          ],
          "name": "stdout"
        }
      ]
    },
    {
      "metadata": {
        "id": "9luxTYeM3aZO",
        "colab_type": "code",
        "outputId": "449880aa-ebfa-4de3-de54-6b6ef1dbbe85",
        "colab": {
          "base_uri": "https://localhost:8080/",
          "height": 340
        }
      },
      "cell_type": "code",
      "source": [
        "plt.hist(train_three_label)"
      ],
      "execution_count": 56,
      "outputs": [
        {
          "output_type": "execute_result",
          "data": {
            "text/plain": [
              "(array([5000.,    0.,    0.,    0.,    0.,    0., 5000.,    0.,    0.,\n",
              "        5000.]),\n",
              " array([0. , 0.5, 1. , 1.5, 2. , 2.5, 3. , 3.5, 4. , 4.5, 5. ]),\n",
              " <a list of 10 Patch objects>)"
            ]
          },
          "metadata": {
            "tags": []
          },
          "execution_count": 56
        },
        {
          "output_type": "display_data",
          "data": {
            "image/png": "[encoded data removed]",
            "text/plain": [
              "<Figure size 432x288 with 1 Axes>"
            ]
          },
          "metadata": {
            "tags": []
          }
        }
      ]
    },
    {
      "metadata": {
        "id": "Dni1oqIcyPai",
        "colab_type": "code",
        "outputId": "023c25ce-2f2b-408b-e012-a4afd3f9b61a",
        "colab": {
          "base_uri": "https://localhost:8080/",
          "height": 340
        }
      },
      "cell_type": "code",
      "source": [
        "# test_three_label.shape\n",
        "plt.hist(test_three_label)"
      ],
      "execution_count": 57,
      "outputs": [
        {
          "output_type": "execute_result",
          "data": {
            "text/plain": [
              "(array([1000.,    0.,    0.,    0.,    0.,    0., 1000.,    0.,    0.,\n",
              "        1000.]),\n",
              " array([0. , 0.5, 1. , 1.5, 2. , 2.5, 3. , 3.5, 4. , 4.5, 5. ]),\n",
              " <a list of 10 Patch objects>)"
            ]
          },
          "metadata": {
            "tags": []
          },
          "execution_count": 57
        },
        {
          "output_type": "display_data",
          "data": {
            "image/png": "[encoded data removed]",
            "text/plain": [
              "<Figure size 432x288 with 1 Axes>"
            ]
          },
          "metadata": {
            "tags": []
          }
        }
      ]
    },
    {
      "metadata": {
        "id": "fuM8CeuRsDzW",
        "colab_type": "code",
        "colab": {}
      },
      "cell_type": "code",
      "source": [
        "train_three_data, train_three_label = shuffle(train_three_data, train_three_label )\n",
        "test_three_data,test_three_label = shuffle(test_three_data,test_three_label )"
      ],
      "execution_count": 0,
      "outputs": []
    },
    {
      "metadata": {
        "id": "EshrdJ78fp7U",
        "colab_type": "code",
        "colab": {}
      },
      "cell_type": "code",
      "source": [
        ""
      ],
      "execution_count": 0,
      "outputs": []
    },
    {
      "metadata": {
        "id": "mbK7iwsZx8QW",
        "colab_type": "code",
        "colab": {}
      },
      "cell_type": "code",
      "source": [
        "le = preprocessing.LabelEncoder()\n",
        "le.fit_transform(train_three_label)\n",
        "train_three_label_cat = le.transform(train_three_label)\n",
        "test_three_label_cat = le.transform(test_three_label)"
      ],
      "execution_count": 0,
      "outputs": []
    },
    {
      "metadata": {
        "id": "jYJt52bU0ooK",
        "colab_type": "code",
        "outputId": "cc36e016-d6dd-40e6-83f5-d6bf59329f53",
        "colab": {
          "base_uri": "https://localhost:8080/",
          "height": 34
        }
      },
      "cell_type": "code",
      "source": [
        "train_three_label_cat.shape"
      ],
      "execution_count": 60,
      "outputs": [
        {
          "output_type": "execute_result",
          "data": {
            "text/plain": [
              "(15000,)"
            ]
          },
          "metadata": {
            "tags": []
          },
          "execution_count": 60
        }
      ]
    },
    {
      "metadata": {
        "id": "r3Ydm3cykUFn",
        "colab_type": "code",
        "colab": {}
      },
      "cell_type": "code",
      "source": [
        "train_three_label_one_hot = to_categorical(train_three_label_cat)\n",
        "test_three_label_one_hot = to_categorical(test_three_label_cat)\n"
      ],
      "execution_count": 0,
      "outputs": []
    },
    {
      "metadata": {
        "id": "_O4_VLoJ6vSF",
        "colab_type": "code",
        "outputId": "33806879-20ea-4909-a20c-a8163e01136c",
        "colab": {
          "base_uri": "https://localhost:8080/",
          "height": 34
        }
      },
      "cell_type": "code",
      "source": [
        "test_three_label_one_hot.shape"
      ],
      "execution_count": 62,
      "outputs": [
        {
          "output_type": "execute_result",
          "data": {
            "text/plain": [
              "(3000, 3)"
            ]
          },
          "metadata": {
            "tags": []
          },
          "execution_count": 62
        }
      ]
    },
    {
      "metadata": {
        "id": "UIrWUPz_lGvF",
        "colab_type": "code",
        "colab": {}
      },
      "cell_type": "code",
      "source": [
        "# split train data and to create validation data\n",
        "train_X,valid_X,train_ground,valid_ground = train_test_split(train_three_data,\n",
        "                                                             train_three_label_one_hot,\n",
        "                                                             test_size=0.2,\n",
        "                                                             random_state=13)"
      ],
      "execution_count": 0,
      "outputs": []
    },
    {
      "metadata": {
        "id": "H6AkQaz-kRh0",
        "colab_type": "code",
        "colab": {}
      },
      "cell_type": "code",
      "source": [
        "num_classes = test_three_label_one_hot.shape[1]"
      ],
      "execution_count": 0,
      "outputs": []
    },
    {
      "metadata": {
        "id": "duFF_pGbj2i1",
        "colab_type": "code",
        "colab": {}
      },
      "cell_type": "code",
      "source": [
        "x, y = 32, 32\n",
        "inChannel = 3\n",
        "input_img = Input(shape = (x, y, inChannel))\n",
        "ep = 10 \n",
        "weight_decay = 1e-4"
      ],
      "execution_count": 0,
      "outputs": []
    },
    {
      "metadata": {
        "id": "Pt1coy0mkFrj",
        "colab_type": "code",
        "colab": {}
      },
      "cell_type": "code",
      "source": [
        "def lr_schedule(epoch):\n",
        "    lrate = 0.001\n",
        "    if epoch > 75:\n",
        "        lrate = 0.0005\n",
        "    if epoch > 100:\n",
        "        lrate = 0.0003\n",
        "    return lrate"
      ],
      "execution_count": 0,
      "outputs": []
    },
    {
      "metadata": {
        "id": "4IbtMUdhiscG",
        "colab_type": "code",
        "colab": {}
      },
      "cell_type": "code",
      "source": [
        "def cifar10Classifier(input_img):\n",
        "  \n",
        "  conv1 = (Conv2D(32, (3,3), padding='same', kernel_regularizer=regularizers.l2(weight_decay), input_shape=x_train.shape[1:], activation='elu'))(input_img)\n",
        "  conv1 = BatchNormalization()(conv1)\n",
        "  conv1 = (Conv2D(32, (3,3), padding='same', activation= 'elu',kernel_regularizer=regularizers.l2(weight_decay)))(conv1)\n",
        "  conv1 = BatchNormalization()(conv1)\n",
        "  pool1 = MaxPooling2D(pool_size=(2, 2))(conv1) #14 x 14 x 32\n",
        "  drop1= Dropout(.2)(pool1)\n",
        "\n",
        "  conv2 = (Conv2D(64, (3,3), padding='same', kernel_regularizer=regularizers.l2(weight_decay), activation='elu'))(drop1)\n",
        "  conv2 = BatchNormalization()(conv2)\n",
        "  conv2 = (Conv2D(64, (3,3), padding='same', activation= 'elu',kernel_regularizer=regularizers.l2(weight_decay)))(conv2)\n",
        "  conv2 = BatchNormalization()(conv2)\n",
        "  pool2 = MaxPooling2D(pool_size=(2, 2))(conv2) #14 x 14 x 32\n",
        "  drop2= Dropout(.3)(pool2)\n",
        "\n",
        "  conv3 = (Conv2D(128, (3,3), padding='same', kernel_regularizer=regularizers.l2(weight_decay), activation='elu'))(drop2)\n",
        "  conv3 = BatchNormalization()(conv3)\n",
        "  conv3 = (Conv2D(128, (3,3), padding='same', activation= 'elu',kernel_regularizer=regularizers.l2(weight_decay)))(conv3)\n",
        "  conv3 = BatchNormalization()(conv3)\n",
        "  pool3 = MaxPooling2D(pool_size=(2, 2))(conv3) #14 x 14 x 32\n",
        "  drop3= Dropout(.4)(pool3)\n",
        "\n",
        "  flat = Flatten()(drop3)\n",
        "  out = Dense(num_classes, activation='softmax')(flat)\n",
        "  \n",
        "  return out"
      ],
      "execution_count": 0,
      "outputs": []
    },
    {
      "metadata": {
        "id": "-VPIvSX1jytM",
        "colab_type": "code",
        "outputId": "f8946534-dc0a-40a2-8131-82c644d6b428",
        "colab": {
          "base_uri": "https://localhost:8080/",
          "height": 887
        }
      },
      "cell_type": "code",
      "source": [
        "model = Model(input_img, (cifar10Classifier(input_img)))\n",
        "#data augmentation\n",
        "datagen = ImageDataGenerator(\n",
        "    rotation_range=15,\n",
        "    width_shift_range=0.1,\n",
        "    height_shift_range=0.1,\n",
        "    horizontal_flip=True,\n",
        "    )\n",
        "datagen.fit(train_three_data)\n",
        " \n",
        "#training\n",
        "batch_size = 64\n",
        " \n",
        "opt_rms = keras.optimizers.rmsprop(lr=0.001,decay=1e-6)\n",
        "# model.compile(loss='categorical_crossentropy', optimizer=opt_rms, metrics=['accuracy'])\n",
        "\n",
        "model.compile(loss=losses.categorical_crossentropy, optimizer=opt_rms, metrics=['accuracy'])\n",
        "\n",
        "model.summary()\n",
        " "
      ],
      "execution_count": 68,
      "outputs": [
        {
          "output_type": "stream",
          "text": [
            "_________________________________________________________________\n",
            "Layer (type)                 Output Shape              Param #   \n",
            "=================================================================\n",
            "input_1 (InputLayer)         (None, 32, 32, 3)         0         \n",
            "_________________________________________________________________\n",
            "conv2d_1 (Conv2D)            (None, 32, 32, 32)        896       \n",
            "_________________________________________________________________\n",
            "batch_normalization_1 (Batch (None, 32, 32, 32)        128       \n",
            "_________________________________________________________________\n",
            "conv2d_2 (Conv2D)            (None, 32, 32, 32)        9248      \n",
            "_________________________________________________________________\n",
            "batch_normalization_2 (Batch (None, 32, 32, 32)        128       \n",
            "_________________________________________________________________\n",
            "max_pooling2d_1 (MaxPooling2 (None, 16, 16, 32)        0         \n",
            "_________________________________________________________________\n",
            "dropout_1 (Dropout)          (None, 16, 16, 32)        0         \n",
            "_________________________________________________________________\n",
            "conv2d_3 (Conv2D)            (None, 16, 16, 64)        18496     \n",
            "_________________________________________________________________\n",
            "batch_normalization_3 (Batch (None, 16, 16, 64)        256       \n",
            "_________________________________________________________________\n",
            "conv2d_4 (Conv2D)            (None, 16, 16, 64)        36928     \n",
            "_________________________________________________________________\n",
            "batch_normalization_4 (Batch (None, 16, 16, 64)        256       \n",
            "_________________________________________________________________\n",
            "max_pooling2d_2 (MaxPooling2 (None, 8, 8, 64)          0         \n",
            "_________________________________________________________________\n",
            "dropout_2 (Dropout)          (None, 8, 8, 64)          0         \n",
            "_________________________________________________________________\n",
            "conv2d_5 (Conv2D)            (None, 8, 8, 128)         73856     \n",
            "_________________________________________________________________\n",
            "batch_normalization_5 (Batch (None, 8, 8, 128)         512       \n",
            "_________________________________________________________________\n",
            "conv2d_6 (Conv2D)            (None, 8, 8, 128)         147584    \n",
            "_________________________________________________________________\n",
            "batch_normalization_6 (Batch (None, 8, 8, 128)         512       \n",
            "_________________________________________________________________\n",
            "max_pooling2d_3 (MaxPooling2 (None, 4, 4, 128)         0         \n",
            "_________________________________________________________________\n",
            "dropout_3 (Dropout)          (None, 4, 4, 128)         0         \n",
            "_________________________________________________________________\n",
            "flatten_1 (Flatten)          (None, 2048)              0         \n",
            "_________________________________________________________________\n",
            "dense_1 (Dense)              (None, 3)                 6147      \n",
            "=================================================================\n",
            "Total params: 294,947\n",
            "Trainable params: 294,051\n",
            "Non-trainable params: 896\n",
            "_________________________________________________________________\n"
          ],
          "name": "stdout"
        }
      ]
    },
    {
      "metadata": {
        "id": "9Wi6iL1A7DxR",
        "colab_type": "code",
        "colab": {}
      },
      "cell_type": "code",
      "source": [
        "# model.get_weights()"
      ],
      "execution_count": 0,
      "outputs": []
    },
    {
      "metadata": {
        "id": "2jabvkmcr1KR",
        "colab_type": "code",
        "colab": {}
      },
      "cell_type": "code",
      "source": [
        "mcp_save = ModelCheckpoint('weights.hdf5', save_best_only=True, monitor='val_loss', mode='auto')"
      ],
      "execution_count": 0,
      "outputs": []
    },
    {
      "metadata": {
        "id": "T6x5OsaN9CxB",
        "colab_type": "code",
        "colab": {}
      },
      "cell_type": "code",
      "source": [
        ""
      ],
      "execution_count": 0,
      "outputs": []
    },
    {
      "metadata": {
        "id": "AAxjpgNk9KF3",
        "colab_type": "code",
        "colab": {}
      },
      "cell_type": "code",
      "source": [
        "\n",
        "# for l1,l2 in zip(model.layers[0:],loaded_model_high.layers[0:]):\n",
        "#     l1.set_weights(l2.get_weights())"
      ],
      "execution_count": 0,
      "outputs": []
    },
    {
      "metadata": {
        "id": "0x-iDMcukCCT",
        "colab_type": "code",
        "outputId": "00a2da38-a563-4e20-a195-72d99c52702e",
        "colab": {
          "base_uri": "https://localhost:8080/",
          "height": 2150
        }
      },
      "cell_type": "code",
      "source": [
        "model.fit_generator(datagen.flow(train_X, train_ground, batch_size=batch_size),\\\n",
        "                    steps_per_epoch=train_X.shape[0] // batch_size,epochs=60,\\\n",
        "                    verbose=1,validation_data=(valid_X,valid_ground),\n",
        "                    shuffle = True,callbacks=[mcp_save,LearningRateScheduler(lr_schedule)])\n",
        "#save to disk\n",
        "model_json = model.to_json()\n",
        "with open('model.json', 'w') as json_file:\n",
        "    json_file.write(model_json)\n",
        "model.save_weights('model.h5') \n",
        " \n"
      ],
      "execution_count": 72,
      "outputs": [
        {
          "output_type": "stream",
          "text": [
            "Epoch 1/60\n",
            "187/187 [==============================] - 12s 66ms/step - loss: 1.1527 - acc: 0.5993 - val_loss: 1.6709 - val_acc: 0.5597\n",
            "Epoch 2/60\n",
            "187/187 [==============================] - 11s 58ms/step - loss: 0.8185 - acc: 0.6569 - val_loss: 0.7641 - val_acc: 0.6620\n",
            "Epoch 3/60\n",
            "187/187 [==============================] - 11s 57ms/step - loss: 0.7057 - acc: 0.7016 - val_loss: 0.8071 - val_acc: 0.6690\n",
            "Epoch 4/60\n",
            "187/187 [==============================] - 10s 56ms/step - loss: 0.6439 - acc: 0.7279 - val_loss: 0.6128 - val_acc: 0.7383\n",
            "Epoch 5/60\n",
            "187/187 [==============================] - 10s 56ms/step - loss: 0.6051 - acc: 0.7500 - val_loss: 1.2258 - val_acc: 0.6437\n",
            "Epoch 6/60\n",
            "187/187 [==============================] - 10s 56ms/step - loss: 0.5706 - acc: 0.7678 - val_loss: 0.6790 - val_acc: 0.7213\n",
            "Epoch 7/60\n",
            "187/187 [==============================] - 11s 56ms/step - loss: 0.5418 - acc: 0.7843 - val_loss: 0.6041 - val_acc: 0.7630\n",
            "Epoch 8/60\n",
            "187/187 [==============================] - 11s 56ms/step - loss: 0.5288 - acc: 0.7924 - val_loss: 0.5607 - val_acc: 0.7850\n",
            "Epoch 9/60\n",
            "187/187 [==============================] - 10s 56ms/step - loss: 0.5137 - acc: 0.7979 - val_loss: 0.4902 - val_acc: 0.8097\n",
            "Epoch 10/60\n",
            "187/187 [==============================] - 10s 56ms/step - loss: 0.5004 - acc: 0.8042 - val_loss: 0.5766 - val_acc: 0.7977\n",
            "Epoch 11/60\n",
            "187/187 [==============================] - 11s 58ms/step - loss: 0.4912 - acc: 0.8107 - val_loss: 0.4871 - val_acc: 0.8110\n",
            "Epoch 12/60\n",
            "187/187 [==============================] - 11s 56ms/step - loss: 0.4909 - acc: 0.8199 - val_loss: 0.7194 - val_acc: 0.7863\n",
            "Epoch 13/60\n",
            "187/187 [==============================] - 11s 56ms/step - loss: 0.4720 - acc: 0.8253 - val_loss: 0.6045 - val_acc: 0.7830\n",
            "Epoch 14/60\n",
            "187/187 [==============================] - 10s 56ms/step - loss: 0.4599 - acc: 0.8315 - val_loss: 0.4438 - val_acc: 0.8357\n",
            "Epoch 15/60\n",
            "187/187 [==============================] - 10s 56ms/step - loss: 0.4514 - acc: 0.8336 - val_loss: 0.4245 - val_acc: 0.8483\n",
            "Epoch 16/60\n",
            "187/187 [==============================] - 11s 56ms/step - loss: 0.4485 - acc: 0.8324 - val_loss: 0.5538 - val_acc: 0.8010\n",
            "Epoch 17/60\n",
            "187/187 [==============================] - 10s 56ms/step - loss: 0.4429 - acc: 0.8323 - val_loss: 0.6352 - val_acc: 0.7743\n",
            "Epoch 18/60\n",
            "187/187 [==============================] - 10s 56ms/step - loss: 0.4359 - acc: 0.8381 - val_loss: 0.5816 - val_acc: 0.8003\n",
            "Epoch 19/60\n",
            "187/187 [==============================] - 10s 55ms/step - loss: 0.4361 - acc: 0.8444 - val_loss: 0.4906 - val_acc: 0.8297\n",
            "Epoch 20/60\n",
            "187/187 [==============================] - 11s 57ms/step - loss: 0.4258 - acc: 0.8478 - val_loss: 0.4593 - val_acc: 0.8423\n",
            "Epoch 21/60\n",
            "187/187 [==============================] - 11s 57ms/step - loss: 0.4227 - acc: 0.8463 - val_loss: 0.4643 - val_acc: 0.8337\n",
            "Epoch 22/60\n",
            "187/187 [==============================] - 10s 55ms/step - loss: 0.4136 - acc: 0.8519 - val_loss: 0.5521 - val_acc: 0.7927\n",
            "Epoch 23/60\n",
            "187/187 [==============================] - 10s 55ms/step - loss: 0.4244 - acc: 0.8487 - val_loss: 0.4068 - val_acc: 0.8613\n",
            "Epoch 24/60\n",
            "187/187 [==============================] - 10s 55ms/step - loss: 0.4046 - acc: 0.8605 - val_loss: 0.4645 - val_acc: 0.8403\n",
            "Epoch 25/60\n",
            "187/187 [==============================] - 10s 56ms/step - loss: 0.4103 - acc: 0.8556 - val_loss: 0.4123 - val_acc: 0.8450\n",
            "Epoch 26/60\n",
            "187/187 [==============================] - 10s 55ms/step - loss: 0.4074 - acc: 0.8585 - val_loss: 0.4639 - val_acc: 0.8450\n",
            "Epoch 27/60\n",
            "187/187 [==============================] - 10s 55ms/step - loss: 0.4055 - acc: 0.8548 - val_loss: 0.4302 - val_acc: 0.8520\n",
            "Epoch 28/60\n",
            "187/187 [==============================] - 10s 55ms/step - loss: 0.3931 - acc: 0.8613 - val_loss: 0.5598 - val_acc: 0.8197\n",
            "Epoch 29/60\n",
            "187/187 [==============================] - 11s 57ms/step - loss: 0.3936 - acc: 0.8662 - val_loss: 0.4401 - val_acc: 0.8473\n",
            "Epoch 30/60\n",
            "187/187 [==============================] - 10s 56ms/step - loss: 0.3858 - acc: 0.8675 - val_loss: 0.4446 - val_acc: 0.8510\n",
            "Epoch 31/60\n",
            "187/187 [==============================] - 10s 56ms/step - loss: 0.3896 - acc: 0.8678 - val_loss: 0.4343 - val_acc: 0.8507\n",
            "Epoch 32/60\n",
            "187/187 [==============================] - 10s 56ms/step - loss: 0.3903 - acc: 0.8665 - val_loss: 0.5352 - val_acc: 0.8017\n",
            "Epoch 33/60\n",
            "187/187 [==============================] - 10s 56ms/step - loss: 0.3837 - acc: 0.8692 - val_loss: 0.3931 - val_acc: 0.8667\n",
            "Epoch 34/60\n",
            "187/187 [==============================] - 11s 57ms/step - loss: 0.3944 - acc: 0.8649 - val_loss: 0.4105 - val_acc: 0.8563\n",
            "Epoch 35/60\n",
            "187/187 [==============================] - 10s 56ms/step - loss: 0.3915 - acc: 0.8671 - val_loss: 0.4576 - val_acc: 0.8447\n",
            "Epoch 36/60\n",
            "187/187 [==============================] - 10s 56ms/step - loss: 0.3909 - acc: 0.8639 - val_loss: 0.4134 - val_acc: 0.8630\n",
            "Epoch 37/60\n",
            "187/187 [==============================] - 10s 55ms/step - loss: 0.3832 - acc: 0.8702 - val_loss: 0.4522 - val_acc: 0.8457\n",
            "Epoch 38/60\n",
            "187/187 [==============================] - 11s 57ms/step - loss: 0.3779 - acc: 0.8737 - val_loss: 0.4647 - val_acc: 0.8357\n",
            "Epoch 39/60\n",
            "187/187 [==============================] - 11s 57ms/step - loss: 0.3781 - acc: 0.8761 - val_loss: 0.5084 - val_acc: 0.8390\n",
            "Epoch 40/60\n",
            "187/187 [==============================] - 11s 56ms/step - loss: 0.3654 - acc: 0.8774 - val_loss: 0.4503 - val_acc: 0.8470\n",
            "Epoch 41/60\n",
            "187/187 [==============================] - 10s 56ms/step - loss: 0.3715 - acc: 0.8758 - val_loss: 0.6285 - val_acc: 0.8030\n",
            "Epoch 42/60\n",
            "187/187 [==============================] - 11s 56ms/step - loss: 0.3756 - acc: 0.8732 - val_loss: 0.3780 - val_acc: 0.8730\n",
            "Epoch 43/60\n",
            "187/187 [==============================] - 10s 56ms/step - loss: 0.3658 - acc: 0.8806 - val_loss: 0.4154 - val_acc: 0.8687\n",
            "Epoch 44/60\n",
            "187/187 [==============================] - 10s 55ms/step - loss: 0.3690 - acc: 0.8779 - val_loss: 0.4263 - val_acc: 0.8617\n",
            "Epoch 45/60\n",
            "187/187 [==============================] - 11s 56ms/step - loss: 0.3659 - acc: 0.8795 - val_loss: 0.4499 - val_acc: 0.8737\n",
            "Epoch 46/60\n",
            "187/187 [==============================] - 10s 56ms/step - loss: 0.3549 - acc: 0.8865 - val_loss: 0.4249 - val_acc: 0.8623\n",
            "Epoch 47/60\n",
            "187/187 [==============================] - 11s 57ms/step - loss: 0.3721 - acc: 0.8796 - val_loss: 0.4009 - val_acc: 0.8760\n",
            "Epoch 48/60\n",
            "187/187 [==============================] - 11s 58ms/step - loss: 0.3594 - acc: 0.8849 - val_loss: 0.4583 - val_acc: 0.8607\n",
            "Epoch 49/60\n",
            "187/187 [==============================] - 11s 57ms/step - loss: 0.3685 - acc: 0.8868 - val_loss: 0.3863 - val_acc: 0.8707\n",
            "Epoch 50/60\n",
            "187/187 [==============================] - 10s 55ms/step - loss: 0.3566 - acc: 0.8881 - val_loss: 0.4005 - val_acc: 0.8777\n",
            "Epoch 51/60\n",
            "187/187 [==============================] - 11s 56ms/step - loss: 0.3549 - acc: 0.8904 - val_loss: 0.4732 - val_acc: 0.8573\n",
            "Epoch 52/60\n",
            "187/187 [==============================] - 11s 57ms/step - loss: 0.3628 - acc: 0.8827 - val_loss: 0.4015 - val_acc: 0.8773\n",
            "Epoch 53/60\n",
            "187/187 [==============================] - 10s 56ms/step - loss: 0.3556 - acc: 0.8869 - val_loss: 0.4080 - val_acc: 0.8743\n",
            "Epoch 54/60\n",
            "187/187 [==============================] - 10s 56ms/step - loss: 0.3535 - acc: 0.8878 - val_loss: 0.4020 - val_acc: 0.8637\n",
            "Epoch 55/60\n",
            "187/187 [==============================] - 10s 55ms/step - loss: 0.3527 - acc: 0.8914 - val_loss: 0.4338 - val_acc: 0.8560\n",
            "Epoch 56/60\n",
            "187/187 [==============================] - 11s 57ms/step - loss: 0.3536 - acc: 0.8890 - val_loss: 0.4998 - val_acc: 0.8467\n",
            "Epoch 57/60\n",
            "187/187 [==============================] - 11s 57ms/step - loss: 0.3461 - acc: 0.8918 - val_loss: 0.4250 - val_acc: 0.8583\n",
            "Epoch 58/60\n",
            "187/187 [==============================] - 11s 57ms/step - loss: 0.3489 - acc: 0.8918 - val_loss: 0.3931 - val_acc: 0.8783\n",
            "Epoch 59/60\n",
            "187/187 [==============================] - 11s 57ms/step - loss: 0.3535 - acc: 0.8885 - val_loss: 0.4988 - val_acc: 0.8307\n",
            "Epoch 60/60\n",
            "187/187 [==============================] - 11s 57ms/step - loss: 0.3391 - acc: 0.8976 - val_loss: 0.4166 - val_acc: 0.8743\n"
          ],
          "name": "stdout"
        }
      ]
    },
    {
      "metadata": {
        "id": "DYZeckSZ1FA4",
        "colab_type": "code",
        "colab": {}
      },
      "cell_type": "code",
      "source": [
        "model.load_weights('weights.hdf5')"
      ],
      "execution_count": 0,
      "outputs": []
    },
    {
      "metadata": {
        "id": "GlQJMg1YnI17",
        "colab_type": "code",
        "colab": {}
      },
      "cell_type": "code",
      "source": [
        "model.save('lowAccuracyModelData.h5')\n"
      ],
      "execution_count": 0,
      "outputs": []
    },
    {
      "metadata": {
        "id": "s0zPvx9oEN5_",
        "colab_type": "code",
        "colab": {
          "base_uri": "https://localhost:8080/",
          "height": 34
        },
        "outputId": "b0a0a091-8cdd-4849-eb99-e083b5f7deae"
      },
      "cell_type": "code",
      "source": [
        "# temp_model = keras.models.load_model('lowAccuracyModelData.h5')\n",
        "# temp_model.evaluate(valid_X, valid_ground, verbose=0)"
      ],
      "execution_count": 115,
      "outputs": [
        {
          "output_type": "execute_result",
          "data": {
            "text/plain": [
              "[0.3779547094504038, 0.873]"
            ]
          },
          "metadata": {
            "tags": []
          },
          "execution_count": 115
        }
      ]
    },
    {
      "metadata": {
        "id": "KltF5yv2AZES",
        "colab_type": "code",
        "colab": {
          "base_uri": "https://localhost:8080/",
          "height": 545
        },
        "outputId": "93c84136-f5c6-4767-c6af-2ccf74ada7fb"
      },
      "cell_type": "code",
      "source": [
        "accuracy = model.history.history['acc']\n",
        "val_accuracy = model.history.history['val_acc']\n",
        "loss = model.history.history['loss']\n",
        "val_loss = model.history.history['val_loss']\n",
        "epochs = range(len(accuracy))\n",
        "plt.plot(epochs, accuracy, 'b', label='Training accuracy')\n",
        "plt.plot(epochs, val_accuracy, 'r', label='Validation accuracy')\n",
        "plt.title('Training and validation accuracy')\n",
        "plt.legend()\n",
        "plt.figure()\n",
        "plt.plot(epochs, loss, 'b', label='Training loss')\n",
        "plt.plot(epochs, val_loss, 'r', label='Validation loss')\n",
        "plt.title('Training and validation loss')\n",
        "plt.legend()\n",
        "plt.show()"
      ],
      "execution_count": 118,
      "outputs": [
        {
          "output_type": "display_data",
          "data": {
            "image/png": "[encoded data removed]",
            "text/plain": [
              "<Figure size 432x288 with 1 Axes>"
            ]
          },
          "metadata": {
            "tags": []
          }
        },
        {
          "output_type": "display_data",
          "data": {
            "image/png": "[encoded data removed]",
            "text/plain": [
              "<Figure size 432x288 with 1 Axes>"
            ]
          },
          "metadata": {
            "tags": []
          }
        }
      ]
    },
    {
      "metadata": {
        "id": "fJHowfrN1HQg",
        "colab_type": "code",
        "outputId": "b67bc210-119c-4f67-e6d9-45c1df075709",
        "colab": {
          "base_uri": "https://localhost:8080/",
          "height": 34
        }
      },
      "cell_type": "code",
      "source": [
        "model.evaluate(valid_X, valid_ground, verbose=0)"
      ],
      "execution_count": 76,
      "outputs": [
        {
          "output_type": "execute_result",
          "data": {
            "text/plain": [
              "[0.3779547107219696, 0.873]"
            ]
          },
          "metadata": {
            "tags": []
          },
          "execution_count": 76
        }
      ]
    },
    {
      "metadata": {
        "id": "w4M2DfGjmT3I",
        "colab_type": "code",
        "outputId": "46c03f09-6291-416a-fd6c-e2a19982ba5d",
        "colab": {
          "base_uri": "https://localhost:8080/",
          "height": 52
        }
      },
      "cell_type": "code",
      "source": [
        "#testing\n",
        "test_eval = model.evaluate(test_three_data, test_three_label_one_hot, verbose=0)\n",
        "print('Test loss:', test_eval[0])\n",
        "print('Test accuracy:', test_eval[1])"
      ],
      "execution_count": 77,
      "outputs": [
        {
          "output_type": "stream",
          "text": [
            "Test loss: 0.37903060110410053\n",
            "Test accuracy: 0.874666666507721\n"
          ],
          "name": "stdout"
        }
      ]
    },
    {
      "metadata": {
        "id": "M1_boK_fprtB",
        "colab_type": "code",
        "outputId": "bb28e1b1-0f38-4dcd-81bd-d6002e4c5c36",
        "colab": {
          "base_uri": "https://localhost:8080/",
          "height": 34
        }
      },
      "cell_type": "code",
      "source": [
        "test_three_data.shape"
      ],
      "execution_count": 78,
      "outputs": [
        {
          "output_type": "execute_result",
          "data": {
            "text/plain": [
              "(3000, 32, 32, 3)"
            ]
          },
          "metadata": {
            "tags": []
          },
          "execution_count": 78
        }
      ]
    },
    {
      "metadata": {
        "id": "ZuH6igT7nbza",
        "colab_type": "code",
        "outputId": "646b7ab4-08d5-469a-abba-30a65d1f361a",
        "colab": {
          "base_uri": "https://localhost:8080/",
          "height": 340
        }
      },
      "cell_type": "code",
      "source": [
        "# show_imgs(test_three_data[:,1])\n",
        "show_imgs(test_three_data[:16])"
      ],
      "execution_count": 79,
      "outputs": [
        {
          "output_type": "stream",
          "text": [
            "/usr/local/lib/python3.6/dist-packages/ipykernel_launcher.py:10: DeprecationWarning: `toimage` is deprecated!\n",
            "`toimage` is deprecated in SciPy 1.0.0, and will be removed in 1.2.0.\n",
            "Use Pillow's ``Image.fromarray`` directly instead.\n",
            "  # Remove the CWD from sys.path while we load stuff.\n"
          ],
          "name": "stderr"
        },
        {
          "output_type": "display_data",
          "data": {
            "image/png": "[encoded data removed]",
            "text/plain": [
              "<Figure size 432x288 with 16 Axes>"
            ]
          },
          "metadata": {
            "tags": []
          }
        }
      ]
    },
    {
      "metadata": {
        "id": "cE1UG2RavZW3",
        "colab_type": "code",
        "colab": {}
      },
      "cell_type": "code",
      "source": [
        "def getDIScoreOfLayer(layer_output, true_labels):\n",
        "  # computeScatterMatrix\n",
        "  rho = 1e-6\n",
        "  mu = layer_output.mean(axis=0)\n",
        "#   print(mu.shape)\n",
        "  mu = mu.reshape((1,-1))\n",
        "  centered_data = layer_output - mu\n",
        "  S_bar = np.matmul(centered_data.T,centered_data)\n",
        "  # compute between class matrix\n",
        "  total_classes = true_labels.max()\n",
        "  S_B = np.zeros(shape = (mu.shape[1],mu.shape[1]))\n",
        "  S_W = np.zeros(shape = (mu.shape[1],mu.shape[1]))\n",
        "  unique_classes = np.unique(true_labels)\n",
        "  unique_classes_list = np.ndarray.tolist(unique_classes)\n",
        "  for l in unique_classes_list:\n",
        "    class_l_index = np.where(true_labels == l)\n",
        "    class_l_output = layer_output[class_l_index[0],:]\n",
        "    mu_l = class_l_output.mean(axis=0)\n",
        "    mu_l = mu_l.reshape((1,-1))\n",
        "    total_examples_this_class = class_l_index[0].shape   \n",
        "    ss = mu_l - mu\n",
        "    S_B = S_B + total_examples_this_class*np.matmul((mu_l - mu).T,(mu_l - mu))\n",
        "\n",
        "  DI_Score = np.trace(np.matmul(np.linalg.inv(S_bar + rho*np.eye(S_bar.shape[0])),S_B))\n",
        "  return DI_Score"
      ],
      "execution_count": 0,
      "outputs": []
    },
    {
      "metadata": {
        "id": "2_q12H9HU7n-",
        "colab_type": "code",
        "colab": {}
      },
      "cell_type": "code",
      "source": [
        "def getDIScoreOfLayerCNNLayer(cnn_outputs, true_labels):\n",
        "  # computeScatterMatrix\n",
        "  number_of_filters = cnn_outputs.shape[3]\n",
        "  cnn_di_scores = []\n",
        "  for filt in range(0,number_of_filters):\n",
        "    outputs_filter = cnn_outputs[:,:,:,filt]\n",
        "    outputs_filter_reshaped = np.reshape(outputs_filter, newshape=(cnn_outputs.shape[0],-1))\n",
        "    this_filter_score = getDIScoreOfLayer(outputs_filter_reshaped, true_labels)\n",
        "    cnn_di_scores.append(this_filter_score)\n",
        "  return cnn_di_scores"
      ],
      "execution_count": 0,
      "outputs": []
    },
    {
      "metadata": {
        "id": "mPTmOl-QERZN",
        "colab_type": "code",
        "outputId": "b4c8941f-eef5-4268-9204-2e3c0ce111be",
        "colab": {
          "base_uri": "https://localhost:8080/",
          "height": 34
        }
      },
      "cell_type": "code",
      "source": [
        "# layer_name\n",
        "valid_X.shape"
      ],
      "execution_count": 82,
      "outputs": [
        {
          "output_type": "execute_result",
          "data": {
            "text/plain": [
              "(3000, 32, 32, 3)"
            ]
          },
          "metadata": {
            "tags": []
          },
          "execution_count": 82
        }
      ]
    },
    {
      "metadata": {
        "id": "bRQ1YTnsd6zM",
        "colab_type": "code",
        "colab": {}
      },
      "cell_type": "code",
      "source": [
        "# train_three_data, train_three_label"
      ],
      "execution_count": 0,
      "outputs": []
    },
    {
      "metadata": {
        "id": "pe0g2T0IA7sG",
        "colab_type": "code",
        "colab": {}
      },
      "cell_type": "code",
      "source": [
        "layer_name = 'conv2d_6'\n",
        "get_cnn1_output_function = K.function([model.layers[0].input],\n",
        "                                  [model.get_layer(layer_name).output])   #get_layer test_three_label\n",
        "cnn1_output = get_cnn1_output_function([train_three_data])[0]"
      ],
      "execution_count": 0,
      "outputs": []
    },
    {
      "metadata": {
        "id": "4Yy-y5xIWdz6",
        "colab_type": "code",
        "outputId": "5e6df7f7-e5ae-46c1-9595-776409db293c",
        "colab": {
          "base_uri": "https://localhost:8080/",
          "height": 34
        }
      },
      "cell_type": "code",
      "source": [
        "cnn1_output.shape"
      ],
      "execution_count": 104,
      "outputs": [
        {
          "output_type": "execute_result",
          "data": {
            "text/plain": [
              "(15000, 8, 8, 128)"
            ]
          },
          "metadata": {
            "tags": []
          },
          "execution_count": 104
        }
      ]
    },
    {
      "metadata": {
        "id": "26Q6Hfa8rTd6",
        "colab_type": "code",
        "colab": {}
      },
      "cell_type": "code",
      "source": [
        "from keras.utils.vis_utils import plot_model"
      ],
      "execution_count": 0,
      "outputs": []
    },
    {
      "metadata": {
        "id": "EF3q_KOgYTxb",
        "colab_type": "code",
        "colab": {}
      },
      "cell_type": "code",
      "source": [
        "plot_model(model, to_file=\"cifar10Architecture.png\", show_shapes=True, show_layer_names=True)"
      ],
      "execution_count": 0,
      "outputs": []
    },
    {
      "metadata": {
        "id": "B0Hfr4ZwB8dX",
        "colab_type": "code",
        "outputId": "186689eb-681e-4ee6-e6d2-35734439e701",
        "colab": {
          "base_uri": "https://localhost:8080/",
          "height": 34
        }
      },
      "cell_type": "code",
      "source": [
        "np.ndarray.tolist(np.unique(test_three_label))"
      ],
      "execution_count": 107,
      "outputs": [
        {
          "output_type": "execute_result",
          "data": {
            "text/plain": [
              "[0, 3, 5]"
            ]
          },
          "metadata": {
            "tags": []
          },
          "execution_count": 107
        }
      ]
    },
    {
      "metadata": {
        "id": "pM8xfShbdHJV",
        "colab_type": "code",
        "colab": {}
      },
      "cell_type": "code",
      "source": [
        "# valid_ground_cat = np.argmax(train_ground, axis=1)\n",
        "# # valid_ground_cat\n",
        "# valid_ground.shape"
      ],
      "execution_count": 0,
      "outputs": []
    },
    {
      "metadata": {
        "id": "jZ1IST7pBZ92",
        "colab_type": "code",
        "colab": {}
      },
      "cell_type": "code",
      "source": [
        "\n",
        "di_scores = getDIScoreOfLayerCNNLayer(cnn1_output, train_three_label)"
      ],
      "execution_count": 0,
      "outputs": []
    },
    {
      "metadata": {
        "id": "RZnzBi-7BcfM",
        "colab_type": "code",
        "outputId": "d47065e9-6842-403f-903c-537c8fda1bce",
        "colab": {
          "base_uri": "https://localhost:8080/",
          "height": 365
        }
      },
      "cell_type": "code",
      "source": [
        "y_pos  = np.arange(len(di_scores))\n",
        "plt.bar(y_pos, di_scores, align='center', alpha=0.5)\n",
        "plt.xlabel('FilterNumber')\n",
        "plt.ylabel('DI Score')\n",
        "\n",
        "print('Mean of DI SCore: ',np.mean(di_scores))\n",
        "print('STD of DI Score: ', np.std(di_scores))\n",
        "print('MAX of DI Score: ', np.max(di_scores))\n",
        "plt.title('DI score - Data - D_L, Network -N_L, Conv_6')\n",
        "plt.ylim([0,1])"
      ],
      "execution_count": 114,
      "outputs": [
        {
          "output_type": "stream",
          "text": [
            "Mean of DI SCore:  0.46968247829146104\n",
            "STD of DI Score:  0.17012919206958768\n",
            "MAX of DI Score:  0.8879906467627727\n"
          ],
          "name": "stdout"
        },
        {
          "output_type": "execute_result",
          "data": {
            "text/plain": [
              "(0, 1)"
            ]
          },
          "metadata": {
            "tags": []
          },
          "execution_count": 114
        },
        {
          "output_type": "display_data",
          "data": {
            "image/png": "[encoded data removed]",
            "text/plain": [
              "<Figure size 432x288 with 1 Axes>"
            ]
          },
          "metadata": {
            "tags": []
          }
        }
      ]
    },
    {
      "metadata": {
        "id": "gFs0BsyhzMXk",
        "colab_type": "code",
        "colab": {}
      },
      "cell_type": "code",
      "source": [
        "# model.summary()"
      ],
      "execution_count": 0,
      "outputs": []
    },
    {
      "metadata": {
        "colab_type": "text",
        "id": "Xkj_8m7OpfxD"
      },
      "cell_type": "markdown",
      "source": [
        "## DI on different data\n",
        "\n",
        "1.   List item\n",
        "2.   List item\n",
        "\n"
      ]
    },
    {
      "metadata": {
        "colab_type": "code",
        "outputId": "9c789423-23ba-478b-eeeb-64a19bd8cefe",
        "id": "JcsAbLG_pfwz",
        "colab": {
          "base_uri": "https://localhost:8080/",
          "height": 87
        }
      },
      "cell_type": "code",
      "source": [
        "\n",
        "train_three_data_low,train_three_label_low,test_three_data_low,test_three_label_low = getThreeClassesTrainTest([1,8,9],x_train,y_train,x_test,y_test)"
      ],
      "execution_count": 93,
      "outputs": [
        {
          "output_type": "stream",
          "text": [
            "[    4     5    32 ... 49993 49998 49999]\n",
            "[    8    62    69 ... 49968 49976 49985]\n",
            "[    1     2    14 ... 49963 49971 49997]\n",
            "(15000, 1)\n"
          ],
          "name": "stdout"
        }
      ]
    },
    {
      "metadata": {
        "colab_type": "code",
        "id": "vA_9sjRGpfwn",
        "colab": {}
      },
      "cell_type": "code",
      "source": [
        "\n",
        "# split train data and to create validation data\n",
        "train_X_low,valid_X_low,train_ground_low,valid_ground_low = train_test_split(train_three_data_low,\n",
        "                                                             train_three_label_low,\n",
        "                                                             test_size=0.2,\n",
        "                                                             random_state=13)"
      ],
      "execution_count": 0,
      "outputs": []
    },
    {
      "metadata": {
        "colab_type": "code",
        "outputId": "6939f482-af89-4f16-8050-cd1bd5d1116a",
        "id": "-zNgfVTPpfwa",
        "colab": {
          "base_uri": "https://localhost:8080/",
          "height": 34
        }
      },
      "cell_type": "code",
      "source": [
        "layer_name = 'conv2d_6'\n",
        "get_cnn1_output_function_low = K.function([model.layers[0].input],\n",
        "                                  [model.get_layer(layer_name).output])   #get_layer test_three_label\n",
        "cnn1_output_low = get_cnn1_output_function_low([train_three_data_low])[0]\n",
        "cnn1_output_low.shape"
      ],
      "execution_count": 100,
      "outputs": [
        {
          "output_type": "execute_result",
          "data": {
            "text/plain": [
              "(15000, 8, 8, 128)"
            ]
          },
          "metadata": {
            "tags": []
          },
          "execution_count": 100
        }
      ]
    },
    {
      "metadata": {
        "colab_type": "code",
        "id": "C0RAKBX5pfwR",
        "colab": {}
      },
      "cell_type": "code",
      "source": [
        "di_scores_low = getDIScoreOfLayerCNNLayer(cnn1_output_low, train_three_label_low)\n"
      ],
      "execution_count": 0,
      "outputs": []
    },
    {
      "metadata": {
        "colab_type": "code",
        "outputId": "dad4626d-35b5-4e26-b7ac-f7c83d2e5ad1",
        "id": "lYpxC9KMpfwD",
        "colab": {
          "base_uri": "https://localhost:8080/",
          "height": 365
        }
      },
      "cell_type": "code",
      "source": [
        "y_pos  = np.arange(len(di_scores_low))\n",
        "plt.bar(y_pos, di_scores_low, align='center', alpha=0.5)\n",
        "plt.xlabel('FilterNumber')\n",
        "plt.ylabel('DI Score')\n",
        "\n",
        "print('Mean of DI SCore: ',np.mean(di_scores_low))\n",
        "print('STD of DI Score: ', np.std(di_scores_low))\n",
        "print('MAX of DI Score: ', np.max(di_scores_low))\n",
        "plt.title('DI score - Data - D_H, Network -N_L, Conv_6')\n",
        "plt.ylim([0,1])"
      ],
      "execution_count": 113,
      "outputs": [
        {
          "output_type": "stream",
          "text": [
            "Mean of DI SCore:  0.25325489539602447\n",
            "STD of DI Score:  0.07981976639878438\n",
            "MAX of DI Score:  0.48132421143127047\n"
          ],
          "name": "stdout"
        },
        {
          "output_type": "execute_result",
          "data": {
            "text/plain": [
              "(0, 1)"
            ]
          },
          "metadata": {
            "tags": []
          },
          "execution_count": 113
        },
        {
          "output_type": "display_data",
          "data": {
            "image/png": "[encoded data removed]",
            "text/plain": [
              "<Figure size 432x288 with 1 Axes>"
            ]
          },
          "metadata": {
            "tags": []
          }
        }
      ]
    },
    {
      "metadata": {
        "colab_type": "code",
        "outputId": "964f1ccc-2699-487a-9298-1fb1a316a3f9",
        "id": "UH9t29tspfv1",
        "colab": {
          "base_uri": "https://localhost:8080/",
          "height": 887
        }
      },
      "cell_type": "code",
      "source": [
        "model.summary()"
      ],
      "execution_count": 98,
      "outputs": [
        {
          "output_type": "stream",
          "text": [
            "_________________________________________________________________\n",
            "Layer (type)                 Output Shape              Param #   \n",
            "=================================================================\n",
            "input_1 (InputLayer)         (None, 32, 32, 3)         0         \n",
            "_________________________________________________________________\n",
            "conv2d_1 (Conv2D)            (None, 32, 32, 32)        896       \n",
            "_________________________________________________________________\n",
            "batch_normalization_1 (Batch (None, 32, 32, 32)        128       \n",
            "_________________________________________________________________\n",
            "conv2d_2 (Conv2D)            (None, 32, 32, 32)        9248      \n",
            "_________________________________________________________________\n",
            "batch_normalization_2 (Batch (None, 32, 32, 32)        128       \n",
            "_________________________________________________________________\n",
            "max_pooling2d_1 (MaxPooling2 (None, 16, 16, 32)        0         \n",
            "_________________________________________________________________\n",
            "dropout_1 (Dropout)          (None, 16, 16, 32)        0         \n",
            "_________________________________________________________________\n",
            "conv2d_3 (Conv2D)            (None, 16, 16, 64)        18496     \n",
            "_________________________________________________________________\n",
            "batch_normalization_3 (Batch (None, 16, 16, 64)        256       \n",
            "_________________________________________________________________\n",
            "conv2d_4 (Conv2D)            (None, 16, 16, 64)        36928     \n",
            "_________________________________________________________________\n",
            "batch_normalization_4 (Batch (None, 16, 16, 64)        256       \n",
            "_________________________________________________________________\n",
            "max_pooling2d_2 (MaxPooling2 (None, 8, 8, 64)          0         \n",
            "_________________________________________________________________\n",
            "dropout_2 (Dropout)          (None, 8, 8, 64)          0         \n",
            "_________________________________________________________________\n",
            "conv2d_5 (Conv2D)            (None, 8, 8, 128)         73856     \n",
            "_________________________________________________________________\n",
            "batch_normalization_5 (Batch (None, 8, 8, 128)         512       \n",
            "_________________________________________________________________\n",
            "conv2d_6 (Conv2D)            (None, 8, 8, 128)         147584    \n",
            "_________________________________________________________________\n",
            "batch_normalization_6 (Batch (None, 8, 8, 128)         512       \n",
            "_________________________________________________________________\n",
            "max_pooling2d_3 (MaxPooling2 (None, 4, 4, 128)         0         \n",
            "_________________________________________________________________\n",
            "dropout_3 (Dropout)          (None, 4, 4, 128)         0         \n",
            "_________________________________________________________________\n",
            "flatten_1 (Flatten)          (None, 2048)              0         \n",
            "_________________________________________________________________\n",
            "dense_1 (Dense)              (None, 3)                 6147      \n",
            "=================================================================\n",
            "Total params: 294,947\n",
            "Trainable params: 294,051\n",
            "Non-trainable params: 896\n",
            "_________________________________________________________________\n"
          ],
          "name": "stdout"
        }
      ]
    },
    {
      "metadata": {
        "colab_type": "code",
        "id": "lK3KHL2Bpfvt",
        "colab": {}
      },
      "cell_type": "code",
      "source": [
        "# # not working\n",
        "# mat_save = {'diScore': di_scores, 'conv2d_1': cnn1_output, 'trueLabel':train_three_label}\n",
        "# savemat('LowAccuracyConv2d_1MatrixMethod', mat_save) "
      ],
      "execution_count": 0,
      "outputs": []
    },
    {
      "metadata": {
        "colab_type": "code",
        "id": "Fvw5s5K8pfvk",
        "colab": {}
      },
      "cell_type": "code",
      "source": [
        ""
      ],
      "execution_count": 0,
      "outputs": []
    },
    {
      "metadata": {
        "colab_type": "text",
        "id": "PMqp4Ao3pfvg"
      },
      "cell_type": "markdown",
      "source": [
        ""
      ]
    },
    {
      "metadata": {
        "colab_type": "code",
        "id": "jkozbZpypfvX",
        "colab": {}
      },
      "cell_type": "code",
      "source": [
        ""
      ],
      "execution_count": 0,
      "outputs": []
    },
    {
      "metadata": {
        "colab_type": "code",
        "outputId": "90f23b1a-a2ef-43cc-f7a8-e6d22f0c1645",
        "id": "x-H8BlZUpfuw",
        "colab": {
          "base_uri": "https://localhost:8080/",
          "height": 35
        }
      },
      "cell_type": "code",
      "source": [
        "sum(di_scores)"
      ],
      "execution_count": 0,
      "outputs": [
        {
          "output_type": "execute_result",
          "data": {
            "text/plain": [
              "14.049834714257239"
            ]
          },
          "metadata": {
            "tags": []
          },
          "execution_count": 46
        }
      ]
    },
    {
      "metadata": {
        "colab_type": "code",
        "outputId": "dc5ee49b-0567-4d1b-a541-5a8f8731c467",
        "id": "JvJ41KIfpfuc",
        "colab": {
          "base_uri": "https://localhost:8080/",
          "height": 35
        }
      },
      "cell_type": "code",
      "source": [
        "max(di_scores)"
      ],
      "execution_count": 0,
      "outputs": [
        {
          "output_type": "execute_result",
          "data": {
            "text/plain": [
              "0.6375973839423631"
            ]
          },
          "metadata": {
            "tags": []
          },
          "execution_count": 47
        }
      ]
    },
    {
      "metadata": {
        "colab_type": "code",
        "id": "uWwVdXn0pft-",
        "colab": {}
      },
      "cell_type": "code",
      "source": [
        "from scipy.io import savemat\n"
      ],
      "execution_count": 0,
      "outputs": []
    },
    {
      "metadata": {
        "colab_type": "code",
        "id": "7GwdcjmBpfs0",
        "colab": {}
      },
      "cell_type": "code",
      "source": [
        ""
      ],
      "execution_count": 0,
      "outputs": []
    }
  ]
}